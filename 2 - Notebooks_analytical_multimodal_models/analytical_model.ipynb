{
 "cells": [
  {
   "cell_type": "markdown",
   "source": [
    "## Nodes_by_name_links_by_modes_tables"
   ],
   "metadata": {
    "collapsed": false,
    "pycharm": {
     "name": "#%% md\n"
    }
   }
  },
  {
   "cell_type": "markdown",
   "source": [
    "#### Import libraries"
   ],
   "metadata": {
    "collapsed": false,
    "pycharm": {
     "name": "#%% md\n"
    }
   }
  },
  {
   "cell_type": "code",
   "execution_count": 1,
   "outputs": [],
   "source": [
    "# Step 1: Import libraries\n",
    "import pandas as pd\n",
    "import numpy as np\n",
    "import geopandas as gpd\n",
    "from sqlalchemy import create_engine\n",
    "from sqlalchemy import text\n",
    "from shapely.geometry import LineString, Point\n",
    "from shapely.ops import unary_union\n",
    "import ast"
   ],
   "metadata": {
    "collapsed": false,
    "pycharm": {
     "name": "#%%\n"
    }
   }
  },
  {
   "cell_type": "markdown",
   "source": [
    "#### Create the connection with the DB"
   ],
   "metadata": {
    "collapsed": false,
    "pycharm": {
     "name": "#%% md\n"
    }
   }
  },
  {
   "cell_type": "code",
   "execution_count": 2,
   "outputs": [],
   "source": [
    "# Step 1: Create the connection with the DB\n",
    "engine = create_engine(\"postgresql://urbaninfo:@cirrus.ita.chalmers.se/se_tuptp\")\n",
    "conn = engine.connect()"
   ],
   "metadata": {
    "collapsed": false,
    "pycharm": {
     "name": "#%%\n"
    }
   }
  },
  {
   "cell_type": "code",
   "execution_count": 4,
   "outputs": [],
   "source": [
    "# Step 2: Create a new schema when it is necessary\n",
    "#schema = '''CREATE SCHEMA name_schema'''\n",
    "#conn.execute(schema)"
   ],
   "metadata": {
    "collapsed": false,
    "pycharm": {
     "name": "#%%\n"
    }
   }
  },
  {
   "cell_type": "markdown",
   "source": [
    "### Nodes"
   ],
   "metadata": {
    "collapsed": false,
    "pycharm": {
     "name": "#%% md\n"
    }
   }
  },
  {
   "cell_type": "code",
   "execution_count": 5,
   "outputs": [],
   "source": [
    "# Import Data\n",
    "# Step 1: Import Data\n",
    "nodes_pt_1_query = text('SELECT * FROM pt_1_mdirections_mstops_mroutes.nodes_pt_1')\n",
    "nodes_pt_1 = gpd.read_postgis(nodes_pt_1_query, engine, geom_col='geometry')"
   ],
   "metadata": {
    "collapsed": false,
    "pycharm": {
     "name": "#%%\n"
    }
   }
  },
  {
   "cell_type": "code",
   "execution_count": 6,
   "outputs": [
    {
     "data": {
      "text/plain": "            stop_name   place_id  \\\n0      7:e Villagatan  307955489   \n1      AGA Vattenfall  307980814   \n2        Abrahamstorp  307959538   \n3            Acklinga  307927983   \n4  Acklinga Solbacken  307927983   \n\n                                            route_id  \\\n0  [9011014200300000, 9011014200500000, 901101420...   \n1  [9011014633100000, 9011014633400000, 901101463...   \n2  [9011014366300000, 9011014658100000, 901101436...   \n3  [9011014330300000, 9011014332700000, 901101438...   \n4               [9011014384000000, 9011014332600000]   \n\n                  route_short_name  \\\n0         [3, 5, 8, 1, 3, 5, 8, 1]   \n1  [331, 334, 4, 932, 331, 334, 4]   \n2                  [663, 581, 663]   \n3        [303, 327, 327, 303, 327]   \n4                       [326, 326]   \n\n                                             stop_id  \\\n0  [9022014082785001, 9022014082785001, 902201408...   \n1  [9022014015161001, 9022014015161001, 902201401...   \n2  [9022014046020001, 9022014046020001, 902201404...   \n3  [9022014042120001, 9022014042120001, 902201404...   \n4               [9022014042270001, 9022014042270002]   \n\n               direction_id  \\\n0  [0, 1, 0, 0, 1, 0, 1, 1]   \n1     [0, 0, 1, 1, 1, 1, 0]   \n2                 [1, 1, 0]   \n3           [1, 1, 0, 0, 0]   \n4                    [1, 1]   \n\n                                                mode  \\\n0  [bus_service, bus_service, bus_service, bus_se...   \n1  [bus_service, bus_service, bus_service, bus_se...   \n2  [communal_taxi_service, bus_service, communal_...   \n3  [bus_service, bus_service, communal_taxi_servi...   \n4               [communal_taxi_service, bus_service]   \n\n                                               osmid  \\\n0  [87793055.0, 87793055.0, 87793055.0, 87793055....   \n1  [1021141732.0, 1021141732.0, 1021141732.0, 102...   \n2            [173516827.0, 173516827.0, 835571452.0]   \n3  [19804825.0, 19804825.0, 19804825.0, 19804825....   \n4                       [1008032531.0, 1008032531.0]   \n\n                         geometry  \n0  POINT (378291.977 6399668.440)  \n1  POINT (313191.955 6442732.480)  \n2  POINT (371017.481 6448504.455)  \n3  POINT (434427.979 6451013.415)  \n4  POINT (434327.469 6451981.944)  ",
      "text/html": "<div>\n<style scoped>\n    .dataframe tbody tr th:only-of-type {\n        vertical-align: middle;\n    }\n\n    .dataframe tbody tr th {\n        vertical-align: top;\n    }\n\n    .dataframe thead th {\n        text-align: right;\n    }\n</style>\n<table border=\"1\" class=\"dataframe\">\n  <thead>\n    <tr style=\"text-align: right;\">\n      <th></th>\n      <th>stop_name</th>\n      <th>place_id</th>\n      <th>route_id</th>\n      <th>route_short_name</th>\n      <th>stop_id</th>\n      <th>direction_id</th>\n      <th>mode</th>\n      <th>osmid</th>\n      <th>geometry</th>\n    </tr>\n  </thead>\n  <tbody>\n    <tr>\n      <th>0</th>\n      <td>7:e Villagatan</td>\n      <td>307955489</td>\n      <td>[9011014200300000, 9011014200500000, 901101420...</td>\n      <td>[3, 5, 8, 1, 3, 5, 8, 1]</td>\n      <td>[9022014082785001, 9022014082785001, 902201408...</td>\n      <td>[0, 1, 0, 0, 1, 0, 1, 1]</td>\n      <td>[bus_service, bus_service, bus_service, bus_se...</td>\n      <td>[87793055.0, 87793055.0, 87793055.0, 87793055....</td>\n      <td>POINT (378291.977 6399668.440)</td>\n    </tr>\n    <tr>\n      <th>1</th>\n      <td>AGA Vattenfall</td>\n      <td>307980814</td>\n      <td>[9011014633100000, 9011014633400000, 901101463...</td>\n      <td>[331, 334, 4, 932, 331, 334, 4]</td>\n      <td>[9022014015161001, 9022014015161001, 902201401...</td>\n      <td>[0, 0, 1, 1, 1, 1, 0]</td>\n      <td>[bus_service, bus_service, bus_service, bus_se...</td>\n      <td>[1021141732.0, 1021141732.0, 1021141732.0, 102...</td>\n      <td>POINT (313191.955 6442732.480)</td>\n    </tr>\n    <tr>\n      <th>2</th>\n      <td>Abrahamstorp</td>\n      <td>307959538</td>\n      <td>[9011014366300000, 9011014658100000, 901101436...</td>\n      <td>[663, 581, 663]</td>\n      <td>[9022014046020001, 9022014046020001, 902201404...</td>\n      <td>[1, 1, 0]</td>\n      <td>[communal_taxi_service, bus_service, communal_...</td>\n      <td>[173516827.0, 173516827.0, 835571452.0]</td>\n      <td>POINT (371017.481 6448504.455)</td>\n    </tr>\n    <tr>\n      <th>3</th>\n      <td>Acklinga</td>\n      <td>307927983</td>\n      <td>[9011014330300000, 9011014332700000, 901101438...</td>\n      <td>[303, 327, 327, 303, 327]</td>\n      <td>[9022014042120001, 9022014042120001, 902201404...</td>\n      <td>[1, 1, 0, 0, 0]</td>\n      <td>[bus_service, bus_service, communal_taxi_servi...</td>\n      <td>[19804825.0, 19804825.0, 19804825.0, 19804825....</td>\n      <td>POINT (434427.979 6451013.415)</td>\n    </tr>\n    <tr>\n      <th>4</th>\n      <td>Acklinga Solbacken</td>\n      <td>307927983</td>\n      <td>[9011014384000000, 9011014332600000]</td>\n      <td>[326, 326]</td>\n      <td>[9022014042270001, 9022014042270002]</td>\n      <td>[1, 1]</td>\n      <td>[communal_taxi_service, bus_service]</td>\n      <td>[1008032531.0, 1008032531.0]</td>\n      <td>POINT (434327.469 6451981.944)</td>\n    </tr>\n  </tbody>\n</table>\n</div>"
     },
     "execution_count": 6,
     "metadata": {},
     "output_type": "execute_result"
    }
   ],
   "source": [
    "# Preprocess the data\n",
    "# Step 1: Copy the original DataFrame\n",
    "nodes_pt_4_l1 = nodes_pt_1.copy()\n",
    "\n",
    "# Step 2: Dissolve nodes by stop_name\n",
    "agg_func_node={\n",
    "    'route_id': list,\n",
    "    'route_short_name': list,\n",
    "    'stop_id':list,\n",
    "    'direction_id':list,\n",
    "    'mode':list,\n",
    "    'osmid':list,\n",
    "    'geometry': lambda g: Point(unary_union(g).centroid.x, unary_union(g).centroid.y)\n",
    "}\n",
    "\n",
    "nodes_pt_4_l2 = nodes_pt_4_l1.groupby(['stop_name', 'place_id']).agg(agg_func_node).reset_index()\n",
    "\n",
    "# Step 3 (optional): Display the head of the DataFrame\n",
    "nodes_pt_4_l2.head()"
   ],
   "metadata": {
    "collapsed": false,
    "pycharm": {
     "name": "#%%\n"
    }
   }
  },
  {
   "cell_type": "code",
   "execution_count": 7,
   "outputs": [],
   "source": [
    "# Step 4: Explode the modes column in order to create the node_id column\n",
    "nodes_pt_4 = nodes_pt_4_l2.explode('mode')\n",
    "\n",
    "# Step 5: Create the node_id column\n",
    "nodes_pt_4 ['node_id'] = nodes_pt_4['stop_name'].astype(str) +'_'\\\n",
    "                         + nodes_pt_4['place_id'].astype(str) +'_'\\\n",
    "                         + nodes_pt_4['mode'].astype(str)"
   ],
   "metadata": {
    "collapsed": false,
    "pycharm": {
     "name": "#%%\n"
    }
   }
  },
  {
   "cell_type": "code",
   "execution_count": 10,
   "outputs": [
    {
     "data": {
      "text/plain": "                                        node_id       stop_name   place_id  \\\n0          7:e Villagatan_307955489_bus_service  7:e Villagatan  307955489   \n1          AGA Vattenfall_307980814_bus_service  AGA Vattenfall  307980814   \n2  Abrahamstorp_307959538_communal_taxi_service    Abrahamstorp  307959538   \n2            Abrahamstorp_307959538_bus_service    Abrahamstorp  307959538   \n3                Acklinga_307927983_bus_service        Acklinga  307927983   \n\n                    mode                                           route_id  \\\n0            bus_service  [9011014200300000, 9011014200500000, 901101420...   \n1            bus_service  [9011014633100000, 9011014633400000, 901101463...   \n2  communal_taxi_service  [9011014366300000, 9011014658100000, 901101436...   \n2            bus_service  [9011014366300000, 9011014658100000, 901101436...   \n3            bus_service  [9011014330300000, 9011014332700000, 901101438...   \n\n                  route_short_name  \\\n0         [3, 5, 8, 1, 3, 5, 8, 1]   \n1  [331, 334, 4, 932, 331, 334, 4]   \n2                  [663, 581, 663]   \n2                  [663, 581, 663]   \n3        [303, 327, 327, 303, 327]   \n\n                                             stop_id  \\\n0  [9022014082785001, 9022014082785001, 902201408...   \n1  [9022014015161001, 9022014015161001, 902201401...   \n2  [9022014046020001, 9022014046020001, 902201404...   \n2  [9022014046020001, 9022014046020001, 902201404...   \n3  [9022014042120001, 9022014042120001, 902201404...   \n\n               direction_id  \\\n0  [0, 1, 0, 0, 1, 0, 1, 1]   \n1     [0, 0, 1, 1, 1, 1, 0]   \n2                 [1, 1, 0]   \n2                 [1, 1, 0]   \n3           [1, 1, 0, 0, 0]   \n\n                                               osmid  \\\n0  [87793055.0, 87793055.0, 87793055.0, 87793055....   \n1  [1021141732.0, 1021141732.0, 1021141732.0, 102...   \n2            [173516827.0, 173516827.0, 835571452.0]   \n2            [173516827.0, 173516827.0, 835571452.0]   \n3  [19804825.0, 19804825.0, 19804825.0, 19804825....   \n\n                         geometry  \n0  POINT (378291.977 6399668.440)  \n1  POINT (313191.955 6442732.480)  \n2  POINT (371017.481 6448504.455)  \n2  POINT (371017.481 6448504.455)  \n3  POINT (434427.979 6451013.415)  ",
      "text/html": "<div>\n<style scoped>\n    .dataframe tbody tr th:only-of-type {\n        vertical-align: middle;\n    }\n\n    .dataframe tbody tr th {\n        vertical-align: top;\n    }\n\n    .dataframe thead th {\n        text-align: right;\n    }\n</style>\n<table border=\"1\" class=\"dataframe\">\n  <thead>\n    <tr style=\"text-align: right;\">\n      <th></th>\n      <th>node_id</th>\n      <th>stop_name</th>\n      <th>place_id</th>\n      <th>mode</th>\n      <th>route_id</th>\n      <th>route_short_name</th>\n      <th>stop_id</th>\n      <th>direction_id</th>\n      <th>osmid</th>\n      <th>geometry</th>\n    </tr>\n  </thead>\n  <tbody>\n    <tr>\n      <th>0</th>\n      <td>7:e Villagatan_307955489_bus_service</td>\n      <td>7:e Villagatan</td>\n      <td>307955489</td>\n      <td>bus_service</td>\n      <td>[9011014200300000, 9011014200500000, 901101420...</td>\n      <td>[3, 5, 8, 1, 3, 5, 8, 1]</td>\n      <td>[9022014082785001, 9022014082785001, 902201408...</td>\n      <td>[0, 1, 0, 0, 1, 0, 1, 1]</td>\n      <td>[87793055.0, 87793055.0, 87793055.0, 87793055....</td>\n      <td>POINT (378291.977 6399668.440)</td>\n    </tr>\n    <tr>\n      <th>1</th>\n      <td>AGA Vattenfall_307980814_bus_service</td>\n      <td>AGA Vattenfall</td>\n      <td>307980814</td>\n      <td>bus_service</td>\n      <td>[9011014633100000, 9011014633400000, 901101463...</td>\n      <td>[331, 334, 4, 932, 331, 334, 4]</td>\n      <td>[9022014015161001, 9022014015161001, 902201401...</td>\n      <td>[0, 0, 1, 1, 1, 1, 0]</td>\n      <td>[1021141732.0, 1021141732.0, 1021141732.0, 102...</td>\n      <td>POINT (313191.955 6442732.480)</td>\n    </tr>\n    <tr>\n      <th>2</th>\n      <td>Abrahamstorp_307959538_communal_taxi_service</td>\n      <td>Abrahamstorp</td>\n      <td>307959538</td>\n      <td>communal_taxi_service</td>\n      <td>[9011014366300000, 9011014658100000, 901101436...</td>\n      <td>[663, 581, 663]</td>\n      <td>[9022014046020001, 9022014046020001, 902201404...</td>\n      <td>[1, 1, 0]</td>\n      <td>[173516827.0, 173516827.0, 835571452.0]</td>\n      <td>POINT (371017.481 6448504.455)</td>\n    </tr>\n    <tr>\n      <th>2</th>\n      <td>Abrahamstorp_307959538_bus_service</td>\n      <td>Abrahamstorp</td>\n      <td>307959538</td>\n      <td>bus_service</td>\n      <td>[9011014366300000, 9011014658100000, 901101436...</td>\n      <td>[663, 581, 663]</td>\n      <td>[9022014046020001, 9022014046020001, 902201404...</td>\n      <td>[1, 1, 0]</td>\n      <td>[173516827.0, 173516827.0, 835571452.0]</td>\n      <td>POINT (371017.481 6448504.455)</td>\n    </tr>\n    <tr>\n      <th>3</th>\n      <td>Acklinga_307927983_bus_service</td>\n      <td>Acklinga</td>\n      <td>307927983</td>\n      <td>bus_service</td>\n      <td>[9011014330300000, 9011014332700000, 901101438...</td>\n      <td>[303, 327, 327, 303, 327]</td>\n      <td>[9022014042120001, 9022014042120001, 902201404...</td>\n      <td>[1, 1, 0, 0, 0]</td>\n      <td>[19804825.0, 19804825.0, 19804825.0, 19804825....</td>\n      <td>POINT (434427.979 6451013.415)</td>\n    </tr>\n  </tbody>\n</table>\n</div>"
     },
     "execution_count": 10,
     "metadata": {},
     "output_type": "execute_result"
    }
   ],
   "source": [
    "# Filter and organize the data\n",
    "# Step 6: Select and clean the final columns\n",
    "nodes_pt_4 = nodes_pt_4 [['node_id', 'stop_name', 'place_id', 'mode', 'route_id',\n",
    "                          'route_short_name', 'stop_id', 'direction_id', 'osmid',\n",
    "                          'geometry']].dropna().drop_duplicates('node_id')\n",
    "\n",
    "# Step 7 (optional): Display the head of the DataFrame\n",
    "nodes_pt_4.head()"
   ],
   "metadata": {
    "collapsed": false,
    "pycharm": {
     "name": "#%%\n"
    }
   }
  },
  {
   "cell_type": "code",
   "execution_count": 11,
   "outputs": [],
   "source": [
    "# Step 8 (optional): Set geometry and export to the DB\n",
    "nodes_pt_4 = gpd.GeoDataFrame(nodes_pt_4, geometry='geometry', crs='3006')\n",
    "nodes_pt_4.to_postgis('nodes_pt_4', engine, schema='pt_4_odirection_ostop_bymode', if_exists ='replace')"
   ],
   "metadata": {
    "collapsed": false,
    "pycharm": {
     "name": "#%%\n"
    }
   }
  },
  {
   "cell_type": "markdown",
   "source": [
    "### Links"
   ],
   "metadata": {
    "collapsed": false,
    "pycharm": {
     "name": "#%% md\n"
    }
   }
  },
  {
   "cell_type": "code",
   "execution_count": 13,
   "outputs": [],
   "source": [
    "#Import data\n",
    "#Step 0: Import Data\n",
    "links_pt_1_query = text('SELECT * FROM pt_1_mdirections_mstops_mroutes.links_pt_1_wide')\n",
    "links_pt_1 = gpd.read_postgis(links_pt_1_query, engine, geom_col='geometry')"
   ],
   "metadata": {
    "collapsed": false,
    "pycharm": {
     "name": "#%%\n"
    }
   }
  },
  {
   "cell_type": "code",
   "execution_count": 15,
   "outputs": [
    {
     "data": {
      "text/plain": "                                  node_id_source  \\\n0           Bäckängsskolan_307955489_bus_service   \n1           Bäckängsskolan_307955489_bus_service   \n2           Bäckängsskolan_307955489_bus_service   \n3           Bäckängsskolan_307955489_bus_service   \n4  Södra Älvsborgs sjukhus_307955489_bus_service   \n\n                         node_id_target  time_distance  \\\n0  7:e Villagatan_307955489_bus_service          129.0   \n1  7:e Villagatan_307955489_bus_service          114.0   \n2  7:e Villagatan_307955489_bus_service          117.0   \n3  7:e Villagatan_307955489_bus_service          117.0   \n4  7:e Villagatan_307955489_bus_service           98.0   \n\n          stop_name_source stop_name_target  place_id_source  place_id_target  \\\n0           Bäckängsskolan   7:e Villagatan        307955489        307955489   \n1           Bäckängsskolan   7:e Villagatan        307955489        307955489   \n2           Bäckängsskolan   7:e Villagatan        307955489        307955489   \n3           Bäckängsskolan   7:e Villagatan        307955489        307955489   \n4  Södra Älvsborgs sjukhus   7:e Villagatan        307955489        307955489   \n\n     stop_id_source    stop_id_target          route_id  ...  \\\n0  9022014082676002  9022014082785002  9011014200100000  ...   \n1  9022014082676002  9022014082785002  9011014200300000  ...   \n2  9022014082676002  9022014082785002  9011014200500000  ...   \n3  9022014082676002  9022014082785002  9011014200800000  ...   \n4  9022014082726001  9022014082785001  9011014200100000  ...   \n\n  freq_friday_night(dawn) freq_saturday_night(dawn) freq_sunday_night(dawn)  \\\n0                     0.0                       0.0                     0.0   \n1                     0.0                       0.0                     0.0   \n2                     0.0                       0.0                     0.0   \n3                     0.0                       0.0                     0.0   \n4                     0.0                       0.0                     0.0   \n\n  freq_week_day_morning freq_week_day_peak_morning  freq_week_day_afternoon  \\\n0           2842.105263                1800.000000              2571.428571   \n1           9000.000000                9671.641791              9000.000000   \n2           8415.584416                5102.362205              8415.584416   \n3           6000.000000                3410.526316              4984.615385   \n4           2781.115880                1825.352113              2623.481781   \n\n   freq_week_day_peak_evening  freq_week_day_evening  freq_week_day_night  \\\n0                 1800.000000            2454.545455          4909.090909   \n1                 9000.000000            9671.641791         54000.000000   \n2                 4729.927007            6750.000000          9000.000000   \n3                 3100.478469            5634.782609          9000.000000   \n4                 1800.000000            2347.826087          6000.000000   \n\n   freq_week_day_night(dawn)  \n0                        0.0  \n1                        0.0  \n2                        0.0  \n3                        0.0  \n4                        0.0  \n\n[5 rows x 71 columns]",
      "text/html": "<div>\n<style scoped>\n    .dataframe tbody tr th:only-of-type {\n        vertical-align: middle;\n    }\n\n    .dataframe tbody tr th {\n        vertical-align: top;\n    }\n\n    .dataframe thead th {\n        text-align: right;\n    }\n</style>\n<table border=\"1\" class=\"dataframe\">\n  <thead>\n    <tr style=\"text-align: right;\">\n      <th></th>\n      <th>node_id_source</th>\n      <th>node_id_target</th>\n      <th>time_distance</th>\n      <th>stop_name_source</th>\n      <th>stop_name_target</th>\n      <th>place_id_source</th>\n      <th>place_id_target</th>\n      <th>stop_id_source</th>\n      <th>stop_id_target</th>\n      <th>route_id</th>\n      <th>...</th>\n      <th>freq_friday_night(dawn)</th>\n      <th>freq_saturday_night(dawn)</th>\n      <th>freq_sunday_night(dawn)</th>\n      <th>freq_week_day_morning</th>\n      <th>freq_week_day_peak_morning</th>\n      <th>freq_week_day_afternoon</th>\n      <th>freq_week_day_peak_evening</th>\n      <th>freq_week_day_evening</th>\n      <th>freq_week_day_night</th>\n      <th>freq_week_day_night(dawn)</th>\n    </tr>\n  </thead>\n  <tbody>\n    <tr>\n      <th>0</th>\n      <td>Bäckängsskolan_307955489_bus_service</td>\n      <td>7:e Villagatan_307955489_bus_service</td>\n      <td>129.0</td>\n      <td>Bäckängsskolan</td>\n      <td>7:e Villagatan</td>\n      <td>307955489</td>\n      <td>307955489</td>\n      <td>9022014082676002</td>\n      <td>9022014082785002</td>\n      <td>9011014200100000</td>\n      <td>...</td>\n      <td>0.0</td>\n      <td>0.0</td>\n      <td>0.0</td>\n      <td>2842.105263</td>\n      <td>1800.000000</td>\n      <td>2571.428571</td>\n      <td>1800.000000</td>\n      <td>2454.545455</td>\n      <td>4909.090909</td>\n      <td>0.0</td>\n    </tr>\n    <tr>\n      <th>1</th>\n      <td>Bäckängsskolan_307955489_bus_service</td>\n      <td>7:e Villagatan_307955489_bus_service</td>\n      <td>114.0</td>\n      <td>Bäckängsskolan</td>\n      <td>7:e Villagatan</td>\n      <td>307955489</td>\n      <td>307955489</td>\n      <td>9022014082676002</td>\n      <td>9022014082785002</td>\n      <td>9011014200300000</td>\n      <td>...</td>\n      <td>0.0</td>\n      <td>0.0</td>\n      <td>0.0</td>\n      <td>9000.000000</td>\n      <td>9671.641791</td>\n      <td>9000.000000</td>\n      <td>9000.000000</td>\n      <td>9671.641791</td>\n      <td>54000.000000</td>\n      <td>0.0</td>\n    </tr>\n    <tr>\n      <th>2</th>\n      <td>Bäckängsskolan_307955489_bus_service</td>\n      <td>7:e Villagatan_307955489_bus_service</td>\n      <td>117.0</td>\n      <td>Bäckängsskolan</td>\n      <td>7:e Villagatan</td>\n      <td>307955489</td>\n      <td>307955489</td>\n      <td>9022014082676002</td>\n      <td>9022014082785002</td>\n      <td>9011014200500000</td>\n      <td>...</td>\n      <td>0.0</td>\n      <td>0.0</td>\n      <td>0.0</td>\n      <td>8415.584416</td>\n      <td>5102.362205</td>\n      <td>8415.584416</td>\n      <td>4729.927007</td>\n      <td>6750.000000</td>\n      <td>9000.000000</td>\n      <td>0.0</td>\n    </tr>\n    <tr>\n      <th>3</th>\n      <td>Bäckängsskolan_307955489_bus_service</td>\n      <td>7:e Villagatan_307955489_bus_service</td>\n      <td>117.0</td>\n      <td>Bäckängsskolan</td>\n      <td>7:e Villagatan</td>\n      <td>307955489</td>\n      <td>307955489</td>\n      <td>9022014082676002</td>\n      <td>9022014082785002</td>\n      <td>9011014200800000</td>\n      <td>...</td>\n      <td>0.0</td>\n      <td>0.0</td>\n      <td>0.0</td>\n      <td>6000.000000</td>\n      <td>3410.526316</td>\n      <td>4984.615385</td>\n      <td>3100.478469</td>\n      <td>5634.782609</td>\n      <td>9000.000000</td>\n      <td>0.0</td>\n    </tr>\n    <tr>\n      <th>4</th>\n      <td>Södra Älvsborgs sjukhus_307955489_bus_service</td>\n      <td>7:e Villagatan_307955489_bus_service</td>\n      <td>98.0</td>\n      <td>Södra Älvsborgs sjukhus</td>\n      <td>7:e Villagatan</td>\n      <td>307955489</td>\n      <td>307955489</td>\n      <td>9022014082726001</td>\n      <td>9022014082785001</td>\n      <td>9011014200100000</td>\n      <td>...</td>\n      <td>0.0</td>\n      <td>0.0</td>\n      <td>0.0</td>\n      <td>2781.115880</td>\n      <td>1825.352113</td>\n      <td>2623.481781</td>\n      <td>1800.000000</td>\n      <td>2347.826087</td>\n      <td>6000.000000</td>\n      <td>0.0</td>\n    </tr>\n  </tbody>\n</table>\n<p>5 rows × 71 columns</p>\n</div>"
     },
     "execution_count": 15,
     "metadata": {},
     "output_type": "execute_result"
    }
   ],
   "source": [
    "# Preprocess the Data\n",
    "# Step 1: Merge nodes and links in order to get the right combination of data\n",
    "links_pt_4_source_merge = pd.merge(\n",
    "    nodes_pt_4[['node_id', 'stop_name', 'place_id', 'mode',\n",
    "                'direction_id', 'geometry']],\n",
    "    links_pt_1 [['route_id', 'route_short_name', 'stop_id_source', 'stop_id_target',\n",
    "                 'stop_name_source', 'stop_name_target', 'time_distance',\n",
    "                 'place_id_source', 'place_id_target', 'mode'] + [col for col in links_pt_1_wide.columns if col.startswith('freq_')]],\n",
    "    left_on=['mode', 'stop_name', 'place_id'],\n",
    "    right_on=['mode', 'stop_name_source', 'place_id_source'],\n",
    "    how='inner'\n",
    ")\n",
    "\n",
    "links_pt_4_target_merge  = pd.merge(\n",
    "    nodes_pt_4[['node_id', 'stop_name', 'place_id', 'mode',\n",
    "                'direction_id', 'geometry']],\n",
    "    links_pt_4_source_merge[['node_id', 'stop_name_source', 'stop_name_target',\n",
    "                             'place_id_source', 'place_id_target', 'stop_id_source',\n",
    "                             'stop_id_target','time_distance', 'route_id',\n",
    "                             'route_short_name', 'mode','geometry'] + [col for col in links_pt_4_source_merge.columns if col.startswith('freq_')]],\n",
    "    left_on=['mode', 'stop_name', 'place_id'],\n",
    "    right_on=['mode', 'stop_name_target', 'place_id_target'],\n",
    "    how='inner').rename(columns={\n",
    "    'node_id_x':'node_id_target', 'node_id_y':'node_id_source',\n",
    "    'geometry_x':'geometry_target','geometry_y':'geometry_source'\n",
    "})\n",
    "\n",
    "# Step 2: Select specific columns and remove duplicates\n",
    "links_pt_4_l1 = links_pt_4_target_merge [['node_id_source', 'node_id_target', 'time_distance',\n",
    "                                              'stop_name_source', 'stop_name_target', 'place_id_source',\n",
    "                                              'place_id_target', 'stop_id_source', 'stop_id_target',\n",
    "                                              'route_id', 'route_short_name', 'mode', 'direction_id',\n",
    "                                              'geometry_source','geometry_target']\n",
    "                                             + [col for col in links_pt_4_target_merge.columns if col.startswith('freq_')]]\n",
    "\n",
    "links_pt_4_l1.head()"
   ],
   "metadata": {
    "collapsed": false,
    "pycharm": {
     "name": "#%%\n"
    }
   }
  },
  {
   "cell_type": "code",
   "execution_count": 20,
   "outputs": [
    {
     "data": {
      "text/plain": "                                     symmetric_pairs  \\\n0  7:e Villagatan_307955489_bus_service-Bäckängss...   \n1  7:e Villagatan_307955489_bus_service-Södra Älv...   \n2  AGA Vattenfall_307980814_bus_service-Borealis ...   \n3  AGA Vattenfall_307980814_bus_service-Jordhamma...   \n4  Abrahamstorp_307959538_bus_service-Badet_30795...   \n\n                                  node_id_source  \\\n0           Bäckängsskolan_307955489_bus_service   \n1  Södra Älvsborgs sjukhus_307955489_bus_service   \n2         Borealis kracker_307980814_bus_service   \n3               Jordhammar_307980814_bus_service   \n4                    Badet_307959538_bus_service   \n\n                         node_id_target  \\\n0  7:e Villagatan_307955489_bus_service   \n1  7:e Villagatan_307955489_bus_service   \n2  AGA Vattenfall_307980814_bus_service   \n3  AGA Vattenfall_307980814_bus_service   \n4    Abrahamstorp_307959538_bus_service   \n\n                                            route_id  \\\n0  [9011014200100000, 9011014200300000, 901101420...   \n1  [9011014200100000, 9011014200300000, 901101420...   \n2  [9011014633100000, 9011014633400000, 901101463...   \n3  [9011014633100000, 9011014633400000, 901101463...   \n4                                 [9011014658100000]   \n\n                  route_short_name         mode    stop_id_source  \\\n0         [1, 3, 5, 8, 1, 3, 5, 8]  bus_service  9022014082676002   \n1         [1, 3, 5, 8, 1, 3, 5, 8]  bus_service  9022014082726001   \n2  [331, 334, 4, 331, 334, 4, 932]  bus_service  9022014015013002   \n3  [331, 334, 4, 932, 331, 334, 4]  bus_service  9022014015110001   \n4                            [581]  bus_service  9022014046021001   \n\n     stop_id_target         stop_name_source stop_name_target  ...  \\\n0  9022014082785002           Bäckängsskolan   7:e Villagatan  ...   \n1  9022014082785001  Södra Älvsborgs sjukhus   7:e Villagatan  ...   \n2  9022014015161002         Borealis kracker   AGA Vattenfall  ...   \n3  9022014015161001               Jordhammar   AGA Vattenfall  ...   \n4  9022014046020001                    Badet     Abrahamstorp  ...   \n\n   freq_friday_night(dawn)  freq_saturday_night(dawn)  \\\n0                      0.0                        0.0   \n1                      0.0                        0.0   \n2                      0.0                        0.0   \n3                      0.0                        0.0   \n4                      0.0                        0.0   \n\n   freq_sunday_night(dawn) freq_week_day_morning freq_week_day_peak_morning  \\\n0                      0.0           2842.105263                1800.000000   \n1                      0.0           2757.446809                1825.352113   \n2                      0.0              0.000000                   0.000000   \n3                      0.0              0.000000                   0.000000   \n4                      0.0          54000.000000               27000.000000   \n\n   freq_week_day_afternoon  freq_week_day_peak_evening  freq_week_day_evening  \\\n0              2571.428571                      1800.0            2347.826087   \n1              2623.481781                      1800.0            2347.826087   \n2                 0.000000                         0.0               0.000000   \n3                 0.000000                         0.0               0.000000   \n4             27000.000000                     27000.0           27000.000000   \n\n   freq_week_day_night  freq_week_day_night(dawn)  \n0                  0.0                        0.0  \n1                  0.0                        0.0  \n2                  0.0                        0.0  \n3                  0.0                        0.0  \n4                  0.0                        0.0  \n\n[5 rows x 71 columns]",
      "text/html": "<div>\n<style scoped>\n    .dataframe tbody tr th:only-of-type {\n        vertical-align: middle;\n    }\n\n    .dataframe tbody tr th {\n        vertical-align: top;\n    }\n\n    .dataframe thead th {\n        text-align: right;\n    }\n</style>\n<table border=\"1\" class=\"dataframe\">\n  <thead>\n    <tr style=\"text-align: right;\">\n      <th></th>\n      <th>symmetric_pairs</th>\n      <th>node_id_source</th>\n      <th>node_id_target</th>\n      <th>route_id</th>\n      <th>route_short_name</th>\n      <th>mode</th>\n      <th>stop_id_source</th>\n      <th>stop_id_target</th>\n      <th>stop_name_source</th>\n      <th>stop_name_target</th>\n      <th>...</th>\n      <th>freq_friday_night(dawn)</th>\n      <th>freq_saturday_night(dawn)</th>\n      <th>freq_sunday_night(dawn)</th>\n      <th>freq_week_day_morning</th>\n      <th>freq_week_day_peak_morning</th>\n      <th>freq_week_day_afternoon</th>\n      <th>freq_week_day_peak_evening</th>\n      <th>freq_week_day_evening</th>\n      <th>freq_week_day_night</th>\n      <th>freq_week_day_night(dawn)</th>\n    </tr>\n  </thead>\n  <tbody>\n    <tr>\n      <th>0</th>\n      <td>7:e Villagatan_307955489_bus_service-Bäckängss...</td>\n      <td>Bäckängsskolan_307955489_bus_service</td>\n      <td>7:e Villagatan_307955489_bus_service</td>\n      <td>[9011014200100000, 9011014200300000, 901101420...</td>\n      <td>[1, 3, 5, 8, 1, 3, 5, 8]</td>\n      <td>bus_service</td>\n      <td>9022014082676002</td>\n      <td>9022014082785002</td>\n      <td>Bäckängsskolan</td>\n      <td>7:e Villagatan</td>\n      <td>...</td>\n      <td>0.0</td>\n      <td>0.0</td>\n      <td>0.0</td>\n      <td>2842.105263</td>\n      <td>1800.000000</td>\n      <td>2571.428571</td>\n      <td>1800.0</td>\n      <td>2347.826087</td>\n      <td>0.0</td>\n      <td>0.0</td>\n    </tr>\n    <tr>\n      <th>1</th>\n      <td>7:e Villagatan_307955489_bus_service-Södra Älv...</td>\n      <td>Södra Älvsborgs sjukhus_307955489_bus_service</td>\n      <td>7:e Villagatan_307955489_bus_service</td>\n      <td>[9011014200100000, 9011014200300000, 901101420...</td>\n      <td>[1, 3, 5, 8, 1, 3, 5, 8]</td>\n      <td>bus_service</td>\n      <td>9022014082726001</td>\n      <td>9022014082785001</td>\n      <td>Södra Älvsborgs sjukhus</td>\n      <td>7:e Villagatan</td>\n      <td>...</td>\n      <td>0.0</td>\n      <td>0.0</td>\n      <td>0.0</td>\n      <td>2757.446809</td>\n      <td>1825.352113</td>\n      <td>2623.481781</td>\n      <td>1800.0</td>\n      <td>2347.826087</td>\n      <td>0.0</td>\n      <td>0.0</td>\n    </tr>\n    <tr>\n      <th>2</th>\n      <td>AGA Vattenfall_307980814_bus_service-Borealis ...</td>\n      <td>Borealis kracker_307980814_bus_service</td>\n      <td>AGA Vattenfall_307980814_bus_service</td>\n      <td>[9011014633100000, 9011014633400000, 901101463...</td>\n      <td>[331, 334, 4, 331, 334, 4, 932]</td>\n      <td>bus_service</td>\n      <td>9022014015013002</td>\n      <td>9022014015161002</td>\n      <td>Borealis kracker</td>\n      <td>AGA Vattenfall</td>\n      <td>...</td>\n      <td>0.0</td>\n      <td>0.0</td>\n      <td>0.0</td>\n      <td>0.000000</td>\n      <td>0.000000</td>\n      <td>0.000000</td>\n      <td>0.0</td>\n      <td>0.000000</td>\n      <td>0.0</td>\n      <td>0.0</td>\n    </tr>\n    <tr>\n      <th>3</th>\n      <td>AGA Vattenfall_307980814_bus_service-Jordhamma...</td>\n      <td>Jordhammar_307980814_bus_service</td>\n      <td>AGA Vattenfall_307980814_bus_service</td>\n      <td>[9011014633100000, 9011014633400000, 901101463...</td>\n      <td>[331, 334, 4, 932, 331, 334, 4]</td>\n      <td>bus_service</td>\n      <td>9022014015110001</td>\n      <td>9022014015161001</td>\n      <td>Jordhammar</td>\n      <td>AGA Vattenfall</td>\n      <td>...</td>\n      <td>0.0</td>\n      <td>0.0</td>\n      <td>0.0</td>\n      <td>0.000000</td>\n      <td>0.000000</td>\n      <td>0.000000</td>\n      <td>0.0</td>\n      <td>0.000000</td>\n      <td>0.0</td>\n      <td>0.0</td>\n    </tr>\n    <tr>\n      <th>4</th>\n      <td>Abrahamstorp_307959538_bus_service-Badet_30795...</td>\n      <td>Badet_307959538_bus_service</td>\n      <td>Abrahamstorp_307959538_bus_service</td>\n      <td>[9011014658100000]</td>\n      <td>[581]</td>\n      <td>bus_service</td>\n      <td>9022014046021001</td>\n      <td>9022014046020001</td>\n      <td>Badet</td>\n      <td>Abrahamstorp</td>\n      <td>...</td>\n      <td>0.0</td>\n      <td>0.0</td>\n      <td>0.0</td>\n      <td>54000.000000</td>\n      <td>27000.000000</td>\n      <td>27000.000000</td>\n      <td>27000.0</td>\n      <td>27000.000000</td>\n      <td>0.0</td>\n      <td>0.0</td>\n    </tr>\n  </tbody>\n</table>\n<p>5 rows × 71 columns</p>\n</div>"
     },
     "execution_count": 20,
     "metadata": {},
     "output_type": "execute_result"
    }
   ],
   "source": [
    "# Create the links of the one direction model\n",
    "# Step 4: Aggregate Data\n",
    "links_pt_4_l1['geometry'] = links_pt_4_l1.apply(lambda row: LineString([Point(row['geometry_source']), Point(row['geometry_target'])]), axis=1)\n",
    "links_pt_4_l1['symmetric_pairs'] = links_pt_4_l1[['node_id_source', 'node_id_target']].apply(lambda x: '-'.join(sorted(x)), axis=1)\n",
    "\n",
    "# Step 5: Define aggregation functions for various columns\n",
    "agg_func_link = {\n",
    "    'node_id_source': 'first',\n",
    "    'node_id_target': 'first',\n",
    "    'route_id': list,\n",
    "    'route_short_name':list,\n",
    "    'mode': 'first',\n",
    "    'stop_id_source':'first',\n",
    "    'stop_id_target':'first',\n",
    "    'stop_name_source':'first',\n",
    "    'stop_name_target':'first',\n",
    "    'place_id_source':'first',\n",
    "    'place_id_target':'first',\n",
    "    'time_distance':'min',\n",
    "    'direction_id':'first',\n",
    "    'geometry': 'first'\n",
    "}\n",
    "\n",
    "freq_cols = [col for col in links_pt_4_l1.columns if col.startswith('freq_')]\n",
    "agg_func_link.update({col: 'min' for col in freq_cols})\n",
    "\n",
    "links_pt_4_l2 = links_pt_4_l1.groupby(['symmetric_pairs']).agg(agg_func_link).reset_index()\n",
    "\n",
    "# Step 6 (optional): Display the results\n",
    "links_pt_4_l2.head()"
   ],
   "metadata": {
    "collapsed": false,
    "pycharm": {
     "name": "#%%\n"
    }
   }
  },
  {
   "cell_type": "code",
   "execution_count": 18,
   "outputs": [
    {
     "data": {
      "text/plain": "                                          source  \\\n0           Bäckängsskolan_307955489_bus_service   \n1  Södra Älvsborgs sjukhus_307955489_bus_service   \n2         Borealis kracker_307980814_bus_service   \n3               Jordhammar_307980814_bus_service   \n4                    Badet_307959538_bus_service   \n\n                                 target  time_distance  \\\n0  7:e Villagatan_307955489_bus_service          109.0   \n1  7:e Villagatan_307955489_bus_service           86.0   \n2  AGA Vattenfall_307980814_bus_service           27.0   \n3  AGA Vattenfall_307980814_bus_service           97.0   \n4    Abrahamstorp_307959538_bus_service           82.0   \n\n                                            route_id         stop_name_source  \\\n0  [9011014200100000, 9011014200300000, 901101420...           Bäckängsskolan   \n1  [9011014200100000, 9011014200300000, 901101420...  Södra Älvsborgs sjukhus   \n2  [9011014633100000, 9011014633400000, 901101463...         Borealis kracker   \n3  [9011014633100000, 9011014633400000, 901101463...               Jordhammar   \n4                                 [9011014658100000]                    Badet   \n\n   place_id_source stop_name_target  place_id_target    stop_id_source  \\\n0        307955489   7:e Villagatan        307955489  9022014082676002   \n1        307955489   7:e Villagatan        307955489  9022014082726001   \n2        307980814   AGA Vattenfall        307980814  9022014015013002   \n3        307980814   AGA Vattenfall        307980814  9022014015110001   \n4        307959538     Abrahamstorp        307959538  9022014046021001   \n\n     stop_id_target  ... freq_friday_night(dawn) freq_saturday_night(dawn)  \\\n0  9022014082785002  ...                     0.0                       0.0   \n1  9022014082785001  ...                     0.0                       0.0   \n2  9022014015161002  ...                     0.0                       0.0   \n3  9022014015161001  ...                     0.0                       0.0   \n4  9022014046020001  ...                     0.0                       0.0   \n\n  freq_sunday_night(dawn) freq_week_day_morning  freq_week_day_peak_morning  \\\n0                     0.0           2842.105263                 1800.000000   \n1                     0.0           2757.446809                 1825.352113   \n2                     0.0              0.000000                    0.000000   \n3                     0.0              0.000000                    0.000000   \n4                     0.0          54000.000000                27000.000000   \n\n   freq_week_day_afternoon  freq_week_day_peak_evening  freq_week_day_evening  \\\n0              2571.428571                      1800.0            2347.826087   \n1              2623.481781                      1800.0            2347.826087   \n2                 0.000000                         0.0               0.000000   \n3                 0.000000                         0.0               0.000000   \n4             27000.000000                     27000.0           27000.000000   \n\n   freq_week_day_night  freq_week_day_night(dawn)  \n0                  0.0                        0.0  \n1                  0.0                        0.0  \n2                  0.0                        0.0  \n3                  0.0                        0.0  \n4                  0.0                        0.0  \n\n[5 rows x 70 columns]",
      "text/html": "<div>\n<style scoped>\n    .dataframe tbody tr th:only-of-type {\n        vertical-align: middle;\n    }\n\n    .dataframe tbody tr th {\n        vertical-align: top;\n    }\n\n    .dataframe thead th {\n        text-align: right;\n    }\n</style>\n<table border=\"1\" class=\"dataframe\">\n  <thead>\n    <tr style=\"text-align: right;\">\n      <th></th>\n      <th>source</th>\n      <th>target</th>\n      <th>time_distance</th>\n      <th>route_id</th>\n      <th>stop_name_source</th>\n      <th>place_id_source</th>\n      <th>stop_name_target</th>\n      <th>place_id_target</th>\n      <th>stop_id_source</th>\n      <th>stop_id_target</th>\n      <th>...</th>\n      <th>freq_friday_night(dawn)</th>\n      <th>freq_saturday_night(dawn)</th>\n      <th>freq_sunday_night(dawn)</th>\n      <th>freq_week_day_morning</th>\n      <th>freq_week_day_peak_morning</th>\n      <th>freq_week_day_afternoon</th>\n      <th>freq_week_day_peak_evening</th>\n      <th>freq_week_day_evening</th>\n      <th>freq_week_day_night</th>\n      <th>freq_week_day_night(dawn)</th>\n    </tr>\n  </thead>\n  <tbody>\n    <tr>\n      <th>0</th>\n      <td>Bäckängsskolan_307955489_bus_service</td>\n      <td>7:e Villagatan_307955489_bus_service</td>\n      <td>109.0</td>\n      <td>[9011014200100000, 9011014200300000, 901101420...</td>\n      <td>Bäckängsskolan</td>\n      <td>307955489</td>\n      <td>7:e Villagatan</td>\n      <td>307955489</td>\n      <td>9022014082676002</td>\n      <td>9022014082785002</td>\n      <td>...</td>\n      <td>0.0</td>\n      <td>0.0</td>\n      <td>0.0</td>\n      <td>2842.105263</td>\n      <td>1800.000000</td>\n      <td>2571.428571</td>\n      <td>1800.0</td>\n      <td>2347.826087</td>\n      <td>0.0</td>\n      <td>0.0</td>\n    </tr>\n    <tr>\n      <th>1</th>\n      <td>Södra Älvsborgs sjukhus_307955489_bus_service</td>\n      <td>7:e Villagatan_307955489_bus_service</td>\n      <td>86.0</td>\n      <td>[9011014200100000, 9011014200300000, 901101420...</td>\n      <td>Södra Älvsborgs sjukhus</td>\n      <td>307955489</td>\n      <td>7:e Villagatan</td>\n      <td>307955489</td>\n      <td>9022014082726001</td>\n      <td>9022014082785001</td>\n      <td>...</td>\n      <td>0.0</td>\n      <td>0.0</td>\n      <td>0.0</td>\n      <td>2757.446809</td>\n      <td>1825.352113</td>\n      <td>2623.481781</td>\n      <td>1800.0</td>\n      <td>2347.826087</td>\n      <td>0.0</td>\n      <td>0.0</td>\n    </tr>\n    <tr>\n      <th>2</th>\n      <td>Borealis kracker_307980814_bus_service</td>\n      <td>AGA Vattenfall_307980814_bus_service</td>\n      <td>27.0</td>\n      <td>[9011014633100000, 9011014633400000, 901101463...</td>\n      <td>Borealis kracker</td>\n      <td>307980814</td>\n      <td>AGA Vattenfall</td>\n      <td>307980814</td>\n      <td>9022014015013002</td>\n      <td>9022014015161002</td>\n      <td>...</td>\n      <td>0.0</td>\n      <td>0.0</td>\n      <td>0.0</td>\n      <td>0.000000</td>\n      <td>0.000000</td>\n      <td>0.000000</td>\n      <td>0.0</td>\n      <td>0.000000</td>\n      <td>0.0</td>\n      <td>0.0</td>\n    </tr>\n    <tr>\n      <th>3</th>\n      <td>Jordhammar_307980814_bus_service</td>\n      <td>AGA Vattenfall_307980814_bus_service</td>\n      <td>97.0</td>\n      <td>[9011014633100000, 9011014633400000, 901101463...</td>\n      <td>Jordhammar</td>\n      <td>307980814</td>\n      <td>AGA Vattenfall</td>\n      <td>307980814</td>\n      <td>9022014015110001</td>\n      <td>9022014015161001</td>\n      <td>...</td>\n      <td>0.0</td>\n      <td>0.0</td>\n      <td>0.0</td>\n      <td>0.000000</td>\n      <td>0.000000</td>\n      <td>0.000000</td>\n      <td>0.0</td>\n      <td>0.000000</td>\n      <td>0.0</td>\n      <td>0.0</td>\n    </tr>\n    <tr>\n      <th>4</th>\n      <td>Badet_307959538_bus_service</td>\n      <td>Abrahamstorp_307959538_bus_service</td>\n      <td>82.0</td>\n      <td>[9011014658100000]</td>\n      <td>Badet</td>\n      <td>307959538</td>\n      <td>Abrahamstorp</td>\n      <td>307959538</td>\n      <td>9022014046021001</td>\n      <td>9022014046020001</td>\n      <td>...</td>\n      <td>0.0</td>\n      <td>0.0</td>\n      <td>0.0</td>\n      <td>54000.000000</td>\n      <td>27000.000000</td>\n      <td>27000.000000</td>\n      <td>27000.0</td>\n      <td>27000.000000</td>\n      <td>0.0</td>\n      <td>0.0</td>\n    </tr>\n  </tbody>\n</table>\n<p>5 rows × 70 columns</p>\n</div>"
     },
     "execution_count": 18,
     "metadata": {},
     "output_type": "execute_result"
    }
   ],
   "source": [
    "# Filter and organize the final table\n",
    "# Step 7: Rename columns for clarity\n",
    "links_pt_4_l2.rename(\n",
    "    columns={'node_id_source': 'source', 'node_id_target': 'target'},\n",
    "    inplace=True\n",
    ")\n",
    "\n",
    "# Step 8: Select desired columns for the final DataFrame\n",
    "links_pt_4 = links_pt_4_l2 [['source', 'target', 'time_distance', 'route_id',\n",
    "                             'stop_name_source', 'place_id_source','stop_name_target',\n",
    "                             'place_id_target', 'stop_id_source', 'stop_id_target',\n",
    "                             'route_short_name', 'mode', 'direction_id',\n",
    "                             'geometry'] + [col for col in links_pt_4_l2.columns if col.startswith('freq_')]]\n",
    "\n",
    "# Step 9: Filter out rows where 'source' is equal to 'target'\n",
    "links_pt_4 = links_pt_4[links_pt_4['source'] != links_pt_4['target']]\n",
    "\n",
    "# Step 10 (optional): Display the results\n",
    "links_pt_4.head()"
   ],
   "metadata": {
    "collapsed": false,
    "pycharm": {
     "name": "#%%\n"
    }
   }
  },
  {
   "cell_type": "code",
   "execution_count": 21,
   "outputs": [],
   "source": [
    "# Step 11 (optional): create the GeoDataFrame and export to the DB\n",
    "links_pt_4 = gpd.GeoDataFrame(links_pt_4, geometry='geometry', crs='3006')\n",
    "links_pt_4.to_postgis('links_pt_4', engine, schema='pt_4_odirection_ostop_bymode', if_exists ='replace')"
   ],
   "metadata": {
    "collapsed": false,
    "pycharm": {
     "name": "#%%\n"
    }
   }
  },
  {
   "cell_type": "markdown",
   "source": [
    "### Transfers"
   ],
   "metadata": {
    "collapsed": false,
    "pycharm": {
     "name": "#%% md\n"
    }
   }
  },
  {
   "cell_type": "markdown",
   "source": [
    "#### Same stop"
   ],
   "metadata": {
    "collapsed": false,
    "pycharm": {
     "name": "#%% md\n"
    }
   }
  },
  {
   "cell_type": "code",
   "execution_count": 22,
   "outputs": [
    {
     "data": {
      "text/plain": "                                        node_id       stop_name   place_id  \\\n0          7:e Villagatan_307955489_bus_service  7:e Villagatan  307955489   \n1          AGA Vattenfall_307980814_bus_service  AGA Vattenfall  307980814   \n2  Abrahamstorp_307959538_communal_taxi_service    Abrahamstorp  307959538   \n2            Abrahamstorp_307959538_bus_service    Abrahamstorp  307959538   \n3                Acklinga_307927983_bus_service        Acklinga  307927983   \n\n                         geometry  \n0  POINT (378291.977 6399668.440)  \n1  POINT (313191.955 6442732.480)  \n2  POINT (371017.481 6448504.455)  \n2  POINT (371017.481 6448504.455)  \n3  POINT (434427.979 6451013.415)  ",
      "text/html": "<div>\n<style scoped>\n    .dataframe tbody tr th:only-of-type {\n        vertical-align: middle;\n    }\n\n    .dataframe tbody tr th {\n        vertical-align: top;\n    }\n\n    .dataframe thead th {\n        text-align: right;\n    }\n</style>\n<table border=\"1\" class=\"dataframe\">\n  <thead>\n    <tr style=\"text-align: right;\">\n      <th></th>\n      <th>node_id</th>\n      <th>stop_name</th>\n      <th>place_id</th>\n      <th>geometry</th>\n    </tr>\n  </thead>\n  <tbody>\n    <tr>\n      <th>0</th>\n      <td>7:e Villagatan_307955489_bus_service</td>\n      <td>7:e Villagatan</td>\n      <td>307955489</td>\n      <td>POINT (378291.977 6399668.440)</td>\n    </tr>\n    <tr>\n      <th>1</th>\n      <td>AGA Vattenfall_307980814_bus_service</td>\n      <td>AGA Vattenfall</td>\n      <td>307980814</td>\n      <td>POINT (313191.955 6442732.480)</td>\n    </tr>\n    <tr>\n      <th>2</th>\n      <td>Abrahamstorp_307959538_communal_taxi_service</td>\n      <td>Abrahamstorp</td>\n      <td>307959538</td>\n      <td>POINT (371017.481 6448504.455)</td>\n    </tr>\n    <tr>\n      <th>2</th>\n      <td>Abrahamstorp_307959538_bus_service</td>\n      <td>Abrahamstorp</td>\n      <td>307959538</td>\n      <td>POINT (371017.481 6448504.455)</td>\n    </tr>\n    <tr>\n      <th>3</th>\n      <td>Acklinga_307927983_bus_service</td>\n      <td>Acklinga</td>\n      <td>307927983</td>\n      <td>POINT (434427.979 6451013.415)</td>\n    </tr>\n  </tbody>\n</table>\n</div>"
     },
     "execution_count": 22,
     "metadata": {},
     "output_type": "execute_result"
    }
   ],
   "source": [
    "# Preprocess the Data\n",
    "# Step 1: Create a copy of the nodes table\n",
    "nodes_transfer_same_stop = nodes_pt_4[['node_id', 'stop_name', 'place_id', 'geometry']].copy()\n",
    "\n",
    "#Step 2 (optional): display the results\n",
    "nodes_transfer_same_stop.head()"
   ],
   "metadata": {
    "collapsed": false,
    "pycharm": {
     "name": "#%%\n"
    }
   }
  },
  {
   "cell_type": "code",
   "execution_count": 23,
   "outputs": [
    {
     "data": {
      "text/plain": "                                 source                                target  \\\n0                        7:e Villagatan  7:e Villagatan_307955489_bus_service   \n1  7:e Villagatan_307955489_bus_service                        7:e Villagatan   \n2                        AGA Vattenfall  AGA Vattenfall_307980814_bus_service   \n3  AGA Vattenfall_307980814_bus_service                        AGA Vattenfall   \n4                          Abrahamstorp    Abrahamstorp_307959538_bus_service   \n\n    place_id                        geometry  \n0  307955489  POINT (378291.977 6399668.440)  \n1  307955489  POINT (378291.977 6399668.440)  \n2  307980814  POINT (313191.955 6442732.480)  \n3  307980814  POINT (313191.955 6442732.480)  \n4  307959538  POINT (371017.481 6448504.455)  ",
      "text/html": "<div>\n<style scoped>\n    .dataframe tbody tr th:only-of-type {\n        vertical-align: middle;\n    }\n\n    .dataframe tbody tr th {\n        vertical-align: top;\n    }\n\n    .dataframe thead th {\n        text-align: right;\n    }\n</style>\n<table border=\"1\" class=\"dataframe\">\n  <thead>\n    <tr style=\"text-align: right;\">\n      <th></th>\n      <th>source</th>\n      <th>target</th>\n      <th>place_id</th>\n      <th>geometry</th>\n    </tr>\n  </thead>\n  <tbody>\n    <tr>\n      <th>0</th>\n      <td>7:e Villagatan</td>\n      <td>7:e Villagatan_307955489_bus_service</td>\n      <td>307955489</td>\n      <td>POINT (378291.977 6399668.440)</td>\n    </tr>\n    <tr>\n      <th>1</th>\n      <td>7:e Villagatan_307955489_bus_service</td>\n      <td>7:e Villagatan</td>\n      <td>307955489</td>\n      <td>POINT (378291.977 6399668.440)</td>\n    </tr>\n    <tr>\n      <th>2</th>\n      <td>AGA Vattenfall</td>\n      <td>AGA Vattenfall_307980814_bus_service</td>\n      <td>307980814</td>\n      <td>POINT (313191.955 6442732.480)</td>\n    </tr>\n    <tr>\n      <th>3</th>\n      <td>AGA Vattenfall_307980814_bus_service</td>\n      <td>AGA Vattenfall</td>\n      <td>307980814</td>\n      <td>POINT (313191.955 6442732.480)</td>\n    </tr>\n    <tr>\n      <th>4</th>\n      <td>Abrahamstorp</td>\n      <td>Abrahamstorp_307959538_bus_service</td>\n      <td>307959538</td>\n      <td>POINT (371017.481 6448504.455)</td>\n    </tr>\n  </tbody>\n</table>\n</div>"
     },
     "execution_count": 23,
     "metadata": {},
     "output_type": "execute_result"
    }
   ],
   "source": [
    "# Step 3: Merge the stops in order to create the transfers\n",
    "# Source\n",
    "stop_routes_source = nodes_transfer_same_stop.rename(columns={'node_id': 'source', 'stop_name': 'target'}).drop_duplicates()\n",
    "\n",
    "# Target\n",
    "stop_routes_target = pd.merge(nodes_transfer_same_stop,\n",
    "                              nodes_pt_4[['node_id']],\n",
    "                              on='node_id',\n",
    "                              how='inner').rename(columns={'stop_name': 'source', 'node_id': 'target'}).drop_duplicates()\n",
    "\n",
    "# Step 4: Create the transfers same stop table\n",
    "transfers_same_stop = pd.merge(stop_routes_source, stop_routes_target, how='outer')\n",
    "\n",
    "#Step 5 (optional): Display the results\n",
    "transfers_same_stop.head()"
   ],
   "metadata": {
    "collapsed": false,
    "pycharm": {
     "name": "#%%\n"
    }
   }
  },
  {
   "cell_type": "code",
   "execution_count": 24,
   "outputs": [
    {
     "data": {
      "text/plain": "                                 source                                target  \\\n0  7:e Villagatan_307955489_bus_service                        7:e Villagatan   \n1                        7:e Villagatan  7:e Villagatan_307955489_bus_service   \n3  AGA Vattenfall_307980814_bus_service                        AGA Vattenfall   \n4                        AGA Vattenfall  AGA Vattenfall_307980814_bus_service   \n6    Abrahamstorp_307959538_bus_service                          Abrahamstorp   \n\n                         geometry  freq_monday_morning  freq_tuesday_morning  \\\n0  POINT (378291.977 6399668.440)                  NaN                   NaN   \n1  POINT (378291.977 6399668.440)           568.421053            568.421053   \n3  POINT (313191.955 6442732.480)                  NaN                   NaN   \n4  POINT (313191.955 6442732.480)             0.000000              0.000000   \n6  POINT (371017.481 6448504.455)                  NaN                   NaN   \n\n   freq_wednesday_morning  freq_thursday_morning  freq_friday_morning  \\\n0                     NaN                    NaN                  NaN   \n1              568.421053             568.421053           568.421053   \n3                     NaN                    NaN                  NaN   \n4                0.000000               0.000000             0.000000   \n6                     NaN                    NaN                  NaN   \n\n   freq_saturday_morning  freq_sunday_morning  ...  freq_friday_night(dawn)  \\\n0                    NaN                  NaN  ...                      NaN   \n1             635.294118           635.294118  ...                      0.0   \n3                    NaN                  NaN  ...                      NaN   \n4               0.000000             0.000000  ...                      0.0   \n6                    NaN                  NaN  ...                      NaN   \n\n   freq_saturday_night(dawn)  freq_sunday_night(dawn)  freq_week_day_morning  \\\n0                        NaN                      NaN                    NaN   \n1                        0.0                      0.0            2842.105263   \n3                        NaN                      NaN                    NaN   \n4                        0.0                      0.0               0.000000   \n6                        NaN                      NaN                    NaN   \n\n   freq_week_day_peak_morning  freq_week_day_afternoon  \\\n0                         NaN                      NaN   \n1                      1800.0              2571.428571   \n3                         NaN                      NaN   \n4                         0.0                 0.000000   \n6                         NaN                      NaN   \n\n   freq_week_day_peak_evening  freq_week_day_evening  freq_week_day_night  \\\n0                         NaN                    NaN                  NaN   \n1                      1800.0            2347.826087                  0.0   \n3                         NaN                    NaN                  NaN   \n4                         0.0               0.000000                  0.0   \n6                         NaN                    NaN                  NaN   \n\n   freq_week_day_night(dawn)  \n0                        NaN  \n1                        0.0  \n3                        NaN  \n4                        0.0  \n6                        NaN  \n\n[5 rows x 59 columns]",
      "text/html": "<div>\n<style scoped>\n    .dataframe tbody tr th:only-of-type {\n        vertical-align: middle;\n    }\n\n    .dataframe tbody tr th {\n        vertical-align: top;\n    }\n\n    .dataframe thead th {\n        text-align: right;\n    }\n</style>\n<table border=\"1\" class=\"dataframe\">\n  <thead>\n    <tr style=\"text-align: right;\">\n      <th></th>\n      <th>source</th>\n      <th>target</th>\n      <th>geometry</th>\n      <th>freq_monday_morning</th>\n      <th>freq_tuesday_morning</th>\n      <th>freq_wednesday_morning</th>\n      <th>freq_thursday_morning</th>\n      <th>freq_friday_morning</th>\n      <th>freq_saturday_morning</th>\n      <th>freq_sunday_morning</th>\n      <th>...</th>\n      <th>freq_friday_night(dawn)</th>\n      <th>freq_saturday_night(dawn)</th>\n      <th>freq_sunday_night(dawn)</th>\n      <th>freq_week_day_morning</th>\n      <th>freq_week_day_peak_morning</th>\n      <th>freq_week_day_afternoon</th>\n      <th>freq_week_day_peak_evening</th>\n      <th>freq_week_day_evening</th>\n      <th>freq_week_day_night</th>\n      <th>freq_week_day_night(dawn)</th>\n    </tr>\n  </thead>\n  <tbody>\n    <tr>\n      <th>0</th>\n      <td>7:e Villagatan_307955489_bus_service</td>\n      <td>7:e Villagatan</td>\n      <td>POINT (378291.977 6399668.440)</td>\n      <td>NaN</td>\n      <td>NaN</td>\n      <td>NaN</td>\n      <td>NaN</td>\n      <td>NaN</td>\n      <td>NaN</td>\n      <td>NaN</td>\n      <td>...</td>\n      <td>NaN</td>\n      <td>NaN</td>\n      <td>NaN</td>\n      <td>NaN</td>\n      <td>NaN</td>\n      <td>NaN</td>\n      <td>NaN</td>\n      <td>NaN</td>\n      <td>NaN</td>\n      <td>NaN</td>\n    </tr>\n    <tr>\n      <th>1</th>\n      <td>7:e Villagatan</td>\n      <td>7:e Villagatan_307955489_bus_service</td>\n      <td>POINT (378291.977 6399668.440)</td>\n      <td>568.421053</td>\n      <td>568.421053</td>\n      <td>568.421053</td>\n      <td>568.421053</td>\n      <td>568.421053</td>\n      <td>635.294118</td>\n      <td>635.294118</td>\n      <td>...</td>\n      <td>0.0</td>\n      <td>0.0</td>\n      <td>0.0</td>\n      <td>2842.105263</td>\n      <td>1800.0</td>\n      <td>2571.428571</td>\n      <td>1800.0</td>\n      <td>2347.826087</td>\n      <td>0.0</td>\n      <td>0.0</td>\n    </tr>\n    <tr>\n      <th>3</th>\n      <td>AGA Vattenfall_307980814_bus_service</td>\n      <td>AGA Vattenfall</td>\n      <td>POINT (313191.955 6442732.480)</td>\n      <td>NaN</td>\n      <td>NaN</td>\n      <td>NaN</td>\n      <td>NaN</td>\n      <td>NaN</td>\n      <td>NaN</td>\n      <td>NaN</td>\n      <td>...</td>\n      <td>NaN</td>\n      <td>NaN</td>\n      <td>NaN</td>\n      <td>NaN</td>\n      <td>NaN</td>\n      <td>NaN</td>\n      <td>NaN</td>\n      <td>NaN</td>\n      <td>NaN</td>\n      <td>NaN</td>\n    </tr>\n    <tr>\n      <th>4</th>\n      <td>AGA Vattenfall</td>\n      <td>AGA Vattenfall_307980814_bus_service</td>\n      <td>POINT (313191.955 6442732.480)</td>\n      <td>0.000000</td>\n      <td>0.000000</td>\n      <td>0.000000</td>\n      <td>0.000000</td>\n      <td>0.000000</td>\n      <td>0.000000</td>\n      <td>0.000000</td>\n      <td>...</td>\n      <td>0.0</td>\n      <td>0.0</td>\n      <td>0.0</td>\n      <td>0.000000</td>\n      <td>0.0</td>\n      <td>0.000000</td>\n      <td>0.0</td>\n      <td>0.000000</td>\n      <td>0.0</td>\n      <td>0.0</td>\n    </tr>\n    <tr>\n      <th>6</th>\n      <td>Abrahamstorp_307959538_bus_service</td>\n      <td>Abrahamstorp</td>\n      <td>POINT (371017.481 6448504.455)</td>\n      <td>NaN</td>\n      <td>NaN</td>\n      <td>NaN</td>\n      <td>NaN</td>\n      <td>NaN</td>\n      <td>NaN</td>\n      <td>NaN</td>\n      <td>...</td>\n      <td>NaN</td>\n      <td>NaN</td>\n      <td>NaN</td>\n      <td>NaN</td>\n      <td>NaN</td>\n      <td>NaN</td>\n      <td>NaN</td>\n      <td>NaN</td>\n      <td>NaN</td>\n      <td>NaN</td>\n    </tr>\n  </tbody>\n</table>\n<p>5 rows × 59 columns</p>\n</div>"
     },
     "execution_count": 24,
     "metadata": {},
     "output_type": "execute_result"
    }
   ],
   "source": [
    "# Step 6: Merge the table with the frequency of the links table\n",
    "transfers_same_stop = pd.merge(transfers_same_stop,\n",
    "                               links_pt_4[['target'] + [col for col in links_pt_4.columns if col.startswith('freq_')]],\n",
    "                               on='target',\n",
    "                               how='outer').drop_duplicates(subset=('source', 'target'))\n",
    "transfers_same_stop = transfers_same_stop[['source', 'target', 'geometry'] + [col for col in transfers_same_stop.columns if col.startswith('freq_')]]\n",
    "\n",
    "#Step 7 (optional): Display the results\n",
    "transfers_same_stop.head()"
   ],
   "metadata": {
    "collapsed": false,
    "pycharm": {
     "name": "#%%\n"
    }
   }
  },
  {
   "cell_type": "code",
   "execution_count": 25,
   "outputs": [
    {
     "data": {
      "text/plain": "                                 source                                target  \\\n0  7:e Villagatan_307955489_bus_service                        7:e Villagatan   \n1                        7:e Villagatan  7:e Villagatan_307955489_bus_service   \n3  AGA Vattenfall_307980814_bus_service                        AGA Vattenfall   \n4                        AGA Vattenfall  AGA Vattenfall_307980814_bus_service   \n6    Abrahamstorp_307959538_bus_service                          Abrahamstorp   \n\n                         geometry  freq_monday_morning  freq_tuesday_morning  \\\n0  POINT (378291.977 6399668.440)                  NaN                   NaN   \n1  POINT (378291.977 6399668.440)           568.421053            568.421053   \n3  POINT (313191.955 6442732.480)                  NaN                   NaN   \n4  POINT (313191.955 6442732.480)                  NaN                   NaN   \n6  POINT (371017.481 6448504.455)                  NaN                   NaN   \n\n   freq_wednesday_morning  freq_thursday_morning  freq_friday_morning  \\\n0                     NaN                    NaN                  NaN   \n1              568.421053             568.421053           568.421053   \n3                     NaN                    NaN                  NaN   \n4                     NaN                    NaN                  NaN   \n6                     NaN                    NaN                  NaN   \n\n   freq_saturday_morning  freq_sunday_morning  ...  freq_friday_night(dawn)  \\\n0                    NaN                  NaN  ...                      NaN   \n1             635.294118           635.294118  ...                      NaN   \n3                    NaN                  NaN  ...                      NaN   \n4                    NaN                  NaN  ...                      NaN   \n6                    NaN                  NaN  ...                      NaN   \n\n   freq_saturday_night(dawn)  freq_sunday_night(dawn)  freq_week_day_morning  \\\n0                        NaN                      NaN                    NaN   \n1                        NaN                      NaN            2842.105263   \n3                        NaN                      NaN                    NaN   \n4                        NaN                      NaN                    NaN   \n6                        NaN                      NaN                    NaN   \n\n   freq_week_day_peak_morning  freq_week_day_afternoon  \\\n0                         NaN                      NaN   \n1                      1800.0              2571.428571   \n3                         NaN                      NaN   \n4                         NaN                      NaN   \n6                         NaN                      NaN   \n\n   freq_week_day_peak_evening  freq_week_day_evening  freq_week_day_night  \\\n0                         NaN                    NaN                  NaN   \n1                      1800.0            2347.826087                  NaN   \n3                         NaN                    NaN                  NaN   \n4                         NaN                    NaN                  NaN   \n6                         NaN                    NaN                  NaN   \n\n   freq_week_day_night(dawn)  \n0                        NaN  \n1                        NaN  \n3                        NaN  \n4                        NaN  \n6                        NaN  \n\n[5 rows x 59 columns]",
      "text/html": "<div>\n<style scoped>\n    .dataframe tbody tr th:only-of-type {\n        vertical-align: middle;\n    }\n\n    .dataframe tbody tr th {\n        vertical-align: top;\n    }\n\n    .dataframe thead th {\n        text-align: right;\n    }\n</style>\n<table border=\"1\" class=\"dataframe\">\n  <thead>\n    <tr style=\"text-align: right;\">\n      <th></th>\n      <th>source</th>\n      <th>target</th>\n      <th>geometry</th>\n      <th>freq_monday_morning</th>\n      <th>freq_tuesday_morning</th>\n      <th>freq_wednesday_morning</th>\n      <th>freq_thursday_morning</th>\n      <th>freq_friday_morning</th>\n      <th>freq_saturday_morning</th>\n      <th>freq_sunday_morning</th>\n      <th>...</th>\n      <th>freq_friday_night(dawn)</th>\n      <th>freq_saturday_night(dawn)</th>\n      <th>freq_sunday_night(dawn)</th>\n      <th>freq_week_day_morning</th>\n      <th>freq_week_day_peak_morning</th>\n      <th>freq_week_day_afternoon</th>\n      <th>freq_week_day_peak_evening</th>\n      <th>freq_week_day_evening</th>\n      <th>freq_week_day_night</th>\n      <th>freq_week_day_night(dawn)</th>\n    </tr>\n  </thead>\n  <tbody>\n    <tr>\n      <th>0</th>\n      <td>7:e Villagatan_307955489_bus_service</td>\n      <td>7:e Villagatan</td>\n      <td>POINT (378291.977 6399668.440)</td>\n      <td>NaN</td>\n      <td>NaN</td>\n      <td>NaN</td>\n      <td>NaN</td>\n      <td>NaN</td>\n      <td>NaN</td>\n      <td>NaN</td>\n      <td>...</td>\n      <td>NaN</td>\n      <td>NaN</td>\n      <td>NaN</td>\n      <td>NaN</td>\n      <td>NaN</td>\n      <td>NaN</td>\n      <td>NaN</td>\n      <td>NaN</td>\n      <td>NaN</td>\n      <td>NaN</td>\n    </tr>\n    <tr>\n      <th>1</th>\n      <td>7:e Villagatan</td>\n      <td>7:e Villagatan_307955489_bus_service</td>\n      <td>POINT (378291.977 6399668.440)</td>\n      <td>568.421053</td>\n      <td>568.421053</td>\n      <td>568.421053</td>\n      <td>568.421053</td>\n      <td>568.421053</td>\n      <td>635.294118</td>\n      <td>635.294118</td>\n      <td>...</td>\n      <td>NaN</td>\n      <td>NaN</td>\n      <td>NaN</td>\n      <td>2842.105263</td>\n      <td>1800.0</td>\n      <td>2571.428571</td>\n      <td>1800.0</td>\n      <td>2347.826087</td>\n      <td>NaN</td>\n      <td>NaN</td>\n    </tr>\n    <tr>\n      <th>3</th>\n      <td>AGA Vattenfall_307980814_bus_service</td>\n      <td>AGA Vattenfall</td>\n      <td>POINT (313191.955 6442732.480)</td>\n      <td>NaN</td>\n      <td>NaN</td>\n      <td>NaN</td>\n      <td>NaN</td>\n      <td>NaN</td>\n      <td>NaN</td>\n      <td>NaN</td>\n      <td>...</td>\n      <td>NaN</td>\n      <td>NaN</td>\n      <td>NaN</td>\n      <td>NaN</td>\n      <td>NaN</td>\n      <td>NaN</td>\n      <td>NaN</td>\n      <td>NaN</td>\n      <td>NaN</td>\n      <td>NaN</td>\n    </tr>\n    <tr>\n      <th>4</th>\n      <td>AGA Vattenfall</td>\n      <td>AGA Vattenfall_307980814_bus_service</td>\n      <td>POINT (313191.955 6442732.480)</td>\n      <td>NaN</td>\n      <td>NaN</td>\n      <td>NaN</td>\n      <td>NaN</td>\n      <td>NaN</td>\n      <td>NaN</td>\n      <td>NaN</td>\n      <td>...</td>\n      <td>NaN</td>\n      <td>NaN</td>\n      <td>NaN</td>\n      <td>NaN</td>\n      <td>NaN</td>\n      <td>NaN</td>\n      <td>NaN</td>\n      <td>NaN</td>\n      <td>NaN</td>\n      <td>NaN</td>\n    </tr>\n    <tr>\n      <th>6</th>\n      <td>Abrahamstorp_307959538_bus_service</td>\n      <td>Abrahamstorp</td>\n      <td>POINT (371017.481 6448504.455)</td>\n      <td>NaN</td>\n      <td>NaN</td>\n      <td>NaN</td>\n      <td>NaN</td>\n      <td>NaN</td>\n      <td>NaN</td>\n      <td>NaN</td>\n      <td>...</td>\n      <td>NaN</td>\n      <td>NaN</td>\n      <td>NaN</td>\n      <td>NaN</td>\n      <td>NaN</td>\n      <td>NaN</td>\n      <td>NaN</td>\n      <td>NaN</td>\n      <td>NaN</td>\n      <td>NaN</td>\n    </tr>\n  </tbody>\n</table>\n<p>5 rows × 59 columns</p>\n</div>"
     },
     "execution_count": 25,
     "metadata": {},
     "output_type": "execute_result"
    }
   ],
   "source": [
    "# Step 8: Replace 0 with NaN and vice versa in frequency columns\n",
    "freq_columns = [col for col in transfers_same_stop.columns if col.startswith('freq_')]\n",
    "transfers_same_stop[freq_columns] = transfers_same_stop[freq_columns].replace({0: np.nan, pd.NA: 0})\n",
    "\n",
    "#Step 9 (optional): Display the results\n",
    "transfers_same_stop.head()"
   ],
   "metadata": {
    "collapsed": false,
    "pycharm": {
     "name": "#%%\n"
    }
   }
  },
  {
   "cell_type": "code",
   "execution_count": 27,
   "outputs": [],
   "source": [
    "# Step 10 (optional): Set geometry and export to the DB\n",
    "transfers_same_stop = gpd.GeoDataFrame(transfers_same_stop, geometry='geometry', crs='3006')\n",
    "transfers_same_stop.to_postgis('transfers_same_stop_pt_4', engine, schema='pt_4_odirection_ostop_bymode',\n",
    "                               if_exists ='replace')"
   ],
   "metadata": {
    "collapsed": false,
    "pycharm": {
     "name": "#%%\n"
    }
   }
  },
  {
   "cell_type": "markdown",
   "source": [
    "#### Different stops"
   ],
   "metadata": {
    "collapsed": false,
    "pycharm": {
     "name": "#%% md\n"
    }
   }
  },
  {
   "cell_type": "code",
   "execution_count": 28,
   "outputs": [
    {
     "data": {
      "text/plain": "                                        node_id       stop_name   place_id  \\\n0          7:e Villagatan_307955489_bus_service  7:e Villagatan  307955489   \n1          AGA Vattenfall_307980814_bus_service  AGA Vattenfall  307980814   \n2  Abrahamstorp_307959538_communal_taxi_service    Abrahamstorp  307959538   \n2            Abrahamstorp_307959538_bus_service    Abrahamstorp  307959538   \n3                Acklinga_307927983_bus_service        Acklinga  307927983   \n\n                         geometry  \n0  POINT (378291.977 6399668.440)  \n1  POINT (313191.955 6442732.480)  \n2  POINT (371017.481 6448504.455)  \n2  POINT (371017.481 6448504.455)  \n3  POINT (434427.979 6451013.415)  ",
      "text/html": "<div>\n<style scoped>\n    .dataframe tbody tr th:only-of-type {\n        vertical-align: middle;\n    }\n\n    .dataframe tbody tr th {\n        vertical-align: top;\n    }\n\n    .dataframe thead th {\n        text-align: right;\n    }\n</style>\n<table border=\"1\" class=\"dataframe\">\n  <thead>\n    <tr style=\"text-align: right;\">\n      <th></th>\n      <th>node_id</th>\n      <th>stop_name</th>\n      <th>place_id</th>\n      <th>geometry</th>\n    </tr>\n  </thead>\n  <tbody>\n    <tr>\n      <th>0</th>\n      <td>7:e Villagatan_307955489_bus_service</td>\n      <td>7:e Villagatan</td>\n      <td>307955489</td>\n      <td>POINT (378291.977 6399668.440)</td>\n    </tr>\n    <tr>\n      <th>1</th>\n      <td>AGA Vattenfall_307980814_bus_service</td>\n      <td>AGA Vattenfall</td>\n      <td>307980814</td>\n      <td>POINT (313191.955 6442732.480)</td>\n    </tr>\n    <tr>\n      <th>2</th>\n      <td>Abrahamstorp_307959538_communal_taxi_service</td>\n      <td>Abrahamstorp</td>\n      <td>307959538</td>\n      <td>POINT (371017.481 6448504.455)</td>\n    </tr>\n    <tr>\n      <th>2</th>\n      <td>Abrahamstorp_307959538_bus_service</td>\n      <td>Abrahamstorp</td>\n      <td>307959538</td>\n      <td>POINT (371017.481 6448504.455)</td>\n    </tr>\n    <tr>\n      <th>3</th>\n      <td>Acklinga_307927983_bus_service</td>\n      <td>Acklinga</td>\n      <td>307927983</td>\n      <td>POINT (434427.979 6451013.415)</td>\n    </tr>\n  </tbody>\n</table>\n</div>"
     },
     "execution_count": 28,
     "metadata": {},
     "output_type": "execute_result"
    }
   ],
   "source": [
    "#Preprocess the Data\n",
    "# Step 1: Create a copy of the nodes table\n",
    "nodes_transfer_diff_stop = nodes_pt_4[['node_id', 'stop_name', 'place_id', 'geometry']].copy()\n",
    "\n",
    "# Step 2 (optional): Display the results\n",
    "nodes_transfer_diff_stop.head()"
   ],
   "metadata": {
    "collapsed": false,
    "pycharm": {
     "name": "#%%\n"
    }
   }
  },
  {
   "cell_type": "code",
   "execution_count": 29,
   "outputs": [
    {
     "data": {
      "text/plain": "                                         source stop_name_source  place_id_1  \\\n0          7:e Villagatan_307955489_bus_service   7:e Villagatan   307955489   \n1          AGA Vattenfall_307980814_bus_service   AGA Vattenfall   307980814   \n2  Abrahamstorp_307959538_communal_taxi_service     Abrahamstorp   307959538   \n3  Abrahamstorp_307959538_communal_taxi_service     Abrahamstorp   307959538   \n4            Abrahamstorp_307959538_bus_service     Abrahamstorp   307959538   \n\n                  geometry_source  \\\n0  POINT (378291.977 6399668.440)   \n1  POINT (313191.955 6442732.480)   \n2  POINT (371017.481 6448504.455)   \n3  POINT (371017.481 6448504.455)   \n4  POINT (371017.481 6448504.455)   \n\n                                         target stop_name_target  place_id_2  \\\n0          7:e Villagatan_307955489_bus_service   7:e Villagatan   307955489   \n1          AGA Vattenfall_307980814_bus_service   AGA Vattenfall   307980814   \n2  Abrahamstorp_307959538_communal_taxi_service     Abrahamstorp   307959538   \n3            Abrahamstorp_307959538_bus_service     Abrahamstorp   307959538   \n4  Abrahamstorp_307959538_communal_taxi_service     Abrahamstorp   307959538   \n\n                  geometry_target  \\\n0  POINT (378291.977 6399668.440)   \n1  POINT (313191.955 6442732.480)   \n2  POINT (371017.481 6448504.455)   \n3  POINT (371017.481 6448504.455)   \n4  POINT (371017.481 6448504.455)   \n\n                                            geometry  \n0  POLYGON ((378366.616 6399661.089, 378365.536 6...  \n1  POLYGON ((313266.594 6442725.129, 313265.514 6...  \n2  POLYGON ((371092.120 6448497.104, 371091.040 6...  \n3  POLYGON ((371092.120 6448497.104, 371091.040 6...  \n4  POLYGON ((371092.120 6448497.104, 371091.040 6...  ",
      "text/html": "<div>\n<style scoped>\n    .dataframe tbody tr th:only-of-type {\n        vertical-align: middle;\n    }\n\n    .dataframe tbody tr th {\n        vertical-align: top;\n    }\n\n    .dataframe thead th {\n        text-align: right;\n    }\n</style>\n<table border=\"1\" class=\"dataframe\">\n  <thead>\n    <tr style=\"text-align: right;\">\n      <th></th>\n      <th>source</th>\n      <th>stop_name_source</th>\n      <th>place_id_1</th>\n      <th>geometry_source</th>\n      <th>target</th>\n      <th>stop_name_target</th>\n      <th>place_id_2</th>\n      <th>geometry_target</th>\n      <th>geometry</th>\n    </tr>\n  </thead>\n  <tbody>\n    <tr>\n      <th>0</th>\n      <td>7:e Villagatan_307955489_bus_service</td>\n      <td>7:e Villagatan</td>\n      <td>307955489</td>\n      <td>POINT (378291.977 6399668.440)</td>\n      <td>7:e Villagatan_307955489_bus_service</td>\n      <td>7:e Villagatan</td>\n      <td>307955489</td>\n      <td>POINT (378291.977 6399668.440)</td>\n      <td>POLYGON ((378366.616 6399661.089, 378365.536 6...</td>\n    </tr>\n    <tr>\n      <th>1</th>\n      <td>AGA Vattenfall_307980814_bus_service</td>\n      <td>AGA Vattenfall</td>\n      <td>307980814</td>\n      <td>POINT (313191.955 6442732.480)</td>\n      <td>AGA Vattenfall_307980814_bus_service</td>\n      <td>AGA Vattenfall</td>\n      <td>307980814</td>\n      <td>POINT (313191.955 6442732.480)</td>\n      <td>POLYGON ((313266.594 6442725.129, 313265.514 6...</td>\n    </tr>\n    <tr>\n      <th>2</th>\n      <td>Abrahamstorp_307959538_communal_taxi_service</td>\n      <td>Abrahamstorp</td>\n      <td>307959538</td>\n      <td>POINT (371017.481 6448504.455)</td>\n      <td>Abrahamstorp_307959538_communal_taxi_service</td>\n      <td>Abrahamstorp</td>\n      <td>307959538</td>\n      <td>POINT (371017.481 6448504.455)</td>\n      <td>POLYGON ((371092.120 6448497.104, 371091.040 6...</td>\n    </tr>\n    <tr>\n      <th>3</th>\n      <td>Abrahamstorp_307959538_communal_taxi_service</td>\n      <td>Abrahamstorp</td>\n      <td>307959538</td>\n      <td>POINT (371017.481 6448504.455)</td>\n      <td>Abrahamstorp_307959538_bus_service</td>\n      <td>Abrahamstorp</td>\n      <td>307959538</td>\n      <td>POINT (371017.481 6448504.455)</td>\n      <td>POLYGON ((371092.120 6448497.104, 371091.040 6...</td>\n    </tr>\n    <tr>\n      <th>4</th>\n      <td>Abrahamstorp_307959538_bus_service</td>\n      <td>Abrahamstorp</td>\n      <td>307959538</td>\n      <td>POINT (371017.481 6448504.455)</td>\n      <td>Abrahamstorp_307959538_communal_taxi_service</td>\n      <td>Abrahamstorp</td>\n      <td>307959538</td>\n      <td>POINT (371017.481 6448504.455)</td>\n      <td>POLYGON ((371092.120 6448497.104, 371091.040 6...</td>\n    </tr>\n  </tbody>\n</table>\n</div>"
     },
     "execution_count": 29,
     "metadata": {},
     "output_type": "execute_result"
    }
   ],
   "source": [
    "# Create the buffers\n",
    "# Step 3: Create a buffer column and set it as geometry\n",
    "nodes_transfer_diff_stop['buffer'] = nodes_transfer_diff_stop['geometry'].buffer(75)\n",
    "nodes_transfer_diff_stop = nodes_transfer_diff_stop.set_geometry('buffer',\n",
    "                                                                 crs='EPSG:3006')\n",
    "\n",
    "# Step 4: found the intersections among the buffers\n",
    "nodes_transfer_diff_stop = gpd.overlay(nodes_transfer_diff_stop,\n",
    "                                       nodes_transfer_diff_stop,\n",
    "                                       how='intersection').rename(columns={'node_id_1':'source',\n",
    "                                                                           'node_id_2':'target',\n",
    "                                                                           'stop_name_1':'stop_name_source',\n",
    "                                                                           'stop_name_2':'stop_name_target',\n",
    "                                                                           'geometry_1': 'geometry_source',\n",
    "                                                                           'geometry_2': 'geometry_target'}).dropna(subset=['source'])\n",
    "# Step 5 (optional): Display the results\n",
    "nodes_transfer_diff_stop.head()"
   ],
   "metadata": {
    "collapsed": false,
    "pycharm": {
     "name": "#%%\n"
    }
   }
  },
  {
   "cell_type": "code",
   "execution_count": 30,
   "outputs": [
    {
     "data": {
      "text/plain": "                                         source stop_name_source  place_id_1  \\\n0          7:e Villagatan_307955489_bus_service   7:e Villagatan   307955489   \n1          AGA Vattenfall_307980814_bus_service   AGA Vattenfall   307980814   \n2  Abrahamstorp_307959538_communal_taxi_service     Abrahamstorp   307959538   \n3  Abrahamstorp_307959538_communal_taxi_service     Abrahamstorp   307959538   \n4            Abrahamstorp_307959538_bus_service     Abrahamstorp   307959538   \n\n                  geometry_source  \\\n0  POINT (378291.977 6399668.440)   \n1  POINT (313191.955 6442732.480)   \n2  POINT (371017.481 6448504.455)   \n3  POINT (371017.481 6448504.455)   \n4  POINT (371017.481 6448504.455)   \n\n                                         target stop_name_target  place_id_2  \\\n0          7:e Villagatan_307955489_bus_service   7:e Villagatan   307955489   \n1          AGA Vattenfall_307980814_bus_service   AGA Vattenfall   307980814   \n2  Abrahamstorp_307959538_communal_taxi_service     Abrahamstorp   307959538   \n3            Abrahamstorp_307959538_bus_service     Abrahamstorp   307959538   \n4  Abrahamstorp_307959538_communal_taxi_service     Abrahamstorp   307959538   \n\n                  geometry_target  \\\n0  POINT (378291.977 6399668.440)   \n1  POINT (313191.955 6442732.480)   \n2  POINT (371017.481 6448504.455)   \n3  POINT (371017.481 6448504.455)   \n4  POINT (371017.481 6448504.455)   \n\n                                            geometry  length  time_distance  \n0  LINESTRING (378291.977 6399668.440, 378291.977...     0.0            0.0  \n1  LINESTRING (313191.955 6442732.480, 313191.955...     0.0            0.0  \n2  LINESTRING (371017.481 6448504.455, 371017.481...     0.0            0.0  \n3  LINESTRING (371017.481 6448504.455, 371017.481...     0.0            0.0  \n4  LINESTRING (371017.481 6448504.455, 371017.481...     0.0            0.0  ",
      "text/html": "<div>\n<style scoped>\n    .dataframe tbody tr th:only-of-type {\n        vertical-align: middle;\n    }\n\n    .dataframe tbody tr th {\n        vertical-align: top;\n    }\n\n    .dataframe thead th {\n        text-align: right;\n    }\n</style>\n<table border=\"1\" class=\"dataframe\">\n  <thead>\n    <tr style=\"text-align: right;\">\n      <th></th>\n      <th>source</th>\n      <th>stop_name_source</th>\n      <th>place_id_1</th>\n      <th>geometry_source</th>\n      <th>target</th>\n      <th>stop_name_target</th>\n      <th>place_id_2</th>\n      <th>geometry_target</th>\n      <th>geometry</th>\n      <th>length</th>\n      <th>time_distance</th>\n    </tr>\n  </thead>\n  <tbody>\n    <tr>\n      <th>0</th>\n      <td>7:e Villagatan_307955489_bus_service</td>\n      <td>7:e Villagatan</td>\n      <td>307955489</td>\n      <td>POINT (378291.977 6399668.440)</td>\n      <td>7:e Villagatan_307955489_bus_service</td>\n      <td>7:e Villagatan</td>\n      <td>307955489</td>\n      <td>POINT (378291.977 6399668.440)</td>\n      <td>LINESTRING (378291.977 6399668.440, 378291.977...</td>\n      <td>0.0</td>\n      <td>0.0</td>\n    </tr>\n    <tr>\n      <th>1</th>\n      <td>AGA Vattenfall_307980814_bus_service</td>\n      <td>AGA Vattenfall</td>\n      <td>307980814</td>\n      <td>POINT (313191.955 6442732.480)</td>\n      <td>AGA Vattenfall_307980814_bus_service</td>\n      <td>AGA Vattenfall</td>\n      <td>307980814</td>\n      <td>POINT (313191.955 6442732.480)</td>\n      <td>LINESTRING (313191.955 6442732.480, 313191.955...</td>\n      <td>0.0</td>\n      <td>0.0</td>\n    </tr>\n    <tr>\n      <th>2</th>\n      <td>Abrahamstorp_307959538_communal_taxi_service</td>\n      <td>Abrahamstorp</td>\n      <td>307959538</td>\n      <td>POINT (371017.481 6448504.455)</td>\n      <td>Abrahamstorp_307959538_communal_taxi_service</td>\n      <td>Abrahamstorp</td>\n      <td>307959538</td>\n      <td>POINT (371017.481 6448504.455)</td>\n      <td>LINESTRING (371017.481 6448504.455, 371017.481...</td>\n      <td>0.0</td>\n      <td>0.0</td>\n    </tr>\n    <tr>\n      <th>3</th>\n      <td>Abrahamstorp_307959538_communal_taxi_service</td>\n      <td>Abrahamstorp</td>\n      <td>307959538</td>\n      <td>POINT (371017.481 6448504.455)</td>\n      <td>Abrahamstorp_307959538_bus_service</td>\n      <td>Abrahamstorp</td>\n      <td>307959538</td>\n      <td>POINT (371017.481 6448504.455)</td>\n      <td>LINESTRING (371017.481 6448504.455, 371017.481...</td>\n      <td>0.0</td>\n      <td>0.0</td>\n    </tr>\n    <tr>\n      <th>4</th>\n      <td>Abrahamstorp_307959538_bus_service</td>\n      <td>Abrahamstorp</td>\n      <td>307959538</td>\n      <td>POINT (371017.481 6448504.455)</td>\n      <td>Abrahamstorp_307959538_communal_taxi_service</td>\n      <td>Abrahamstorp</td>\n      <td>307959538</td>\n      <td>POINT (371017.481 6448504.455)</td>\n      <td>LINESTRING (371017.481 6448504.455, 371017.481...</td>\n      <td>0.0</td>\n      <td>0.0</td>\n    </tr>\n  </tbody>\n</table>\n</div>"
     },
     "execution_count": 30,
     "metadata": {},
     "output_type": "execute_result"
    }
   ],
   "source": [
    "#Create the geometry\n",
    "# Step 6: Create linstrings between the intersections\n",
    "nodes_transfer_diff_stop['geometry'] = nodes_transfer_diff_stop.apply(\n",
    "    lambda row: LineString([[row.geometry_source.x,  row.geometry_source.y],\n",
    "                            [row.geometry_target.x,row.geometry_target.y]])\n",
    "    if row.geometry_target is not None else None,\n",
    "    axis=1\n",
    ")\n",
    "# Step 7: Set the length of the linestring\n",
    "nodes_transfer_diff_stop['length'] = nodes_transfer_diff_stop['geometry'].length\n",
    "nodes_transfer_diff_stop['time_distance'] = nodes_transfer_diff_stop['length'] / 1.2\n",
    "\n",
    "# Step 8 (optional): Display the results\n",
    "nodes_transfer_diff_stop.head()"
   ],
   "metadata": {
    "collapsed": false,
    "pycharm": {
     "name": "#%%\n"
    }
   }
  },
  {
   "cell_type": "code",
   "execution_count": 31,
   "outputs": [
    {
     "name": "stderr",
     "output_type": "stream",
     "text": [
      "C:\\Users\\monaliza\\AppData\\Roaming\\Python\\Python39\\site-packages\\geopandas\\geodataframe.py:1525: SettingWithCopyWarning: \n",
      "A value is trying to be set on a copy of a slice from a DataFrame.\n",
      "Try using .loc[row_indexer,col_indexer] = value instead\n",
      "\n",
      "See the caveats in the documentation: https://pandas.pydata.org/pandas-docs/stable/user_guide/indexing.html#returning-a-view-versus-a-copy\n",
      "  super().__setitem__(key, value)\n"
     ]
    },
    {
     "data": {
      "text/plain": "               source              target  \\\n28            Agerhus            Jordbron   \n68      Alekärrsgatan       Dickson Södra   \n86   Alingsås station  Alingsåsterminalen   \n113         Allégatan        Södra torget   \n114         Allégatan           Åsbogatan   \n\n                                              geometry      length  \\\n28   LINESTRING (324621.469 6533086.938, 324604.463...  125.603619   \n68   LINESTRING (321849.955 6403991.951, 321732.984...  120.391991   \n86   LINESTRING (353851.639 6423238.954, 353723.969...  132.276029   \n113  LINESTRING (377468.217 6399358.673, 377421.472...   97.224317   \n114  LINESTRING (377468.217 6399358.673, 377515.487...   48.835419   \n\n     time_distance  \n28      104.669683  \n68      100.326659  \n86      110.230024  \n113      81.020264  \n114      40.696182  ",
      "text/html": "<div>\n<style scoped>\n    .dataframe tbody tr th:only-of-type {\n        vertical-align: middle;\n    }\n\n    .dataframe tbody tr th {\n        vertical-align: top;\n    }\n\n    .dataframe thead th {\n        text-align: right;\n    }\n</style>\n<table border=\"1\" class=\"dataframe\">\n  <thead>\n    <tr style=\"text-align: right;\">\n      <th></th>\n      <th>source</th>\n      <th>target</th>\n      <th>geometry</th>\n      <th>length</th>\n      <th>time_distance</th>\n    </tr>\n  </thead>\n  <tbody>\n    <tr>\n      <th>28</th>\n      <td>Agerhus</td>\n      <td>Jordbron</td>\n      <td>LINESTRING (324621.469 6533086.938, 324604.463...</td>\n      <td>125.603619</td>\n      <td>104.669683</td>\n    </tr>\n    <tr>\n      <th>68</th>\n      <td>Alekärrsgatan</td>\n      <td>Dickson Södra</td>\n      <td>LINESTRING (321849.955 6403991.951, 321732.984...</td>\n      <td>120.391991</td>\n      <td>100.326659</td>\n    </tr>\n    <tr>\n      <th>86</th>\n      <td>Alingsås station</td>\n      <td>Alingsåsterminalen</td>\n      <td>LINESTRING (353851.639 6423238.954, 353723.969...</td>\n      <td>132.276029</td>\n      <td>110.230024</td>\n    </tr>\n    <tr>\n      <th>113</th>\n      <td>Allégatan</td>\n      <td>Södra torget</td>\n      <td>LINESTRING (377468.217 6399358.673, 377421.472...</td>\n      <td>97.224317</td>\n      <td>81.020264</td>\n    </tr>\n    <tr>\n      <th>114</th>\n      <td>Allégatan</td>\n      <td>Åsbogatan</td>\n      <td>LINESTRING (377468.217 6399358.673, 377515.487...</td>\n      <td>48.835419</td>\n      <td>40.696182</td>\n    </tr>\n  </tbody>\n</table>\n</div>"
     },
     "execution_count": 31,
     "metadata": {},
     "output_type": "execute_result"
    }
   ],
   "source": [
    "#Filter and organize the tables\n",
    "# Step 9: Filter the transfers between different stops\n",
    "transfers_diff_stop = nodes_transfer_diff_stop[nodes_transfer_diff_stop['length'] > 0]\n",
    "\n",
    "# Step 10: Drop the duplicates of symmetric pairs\n",
    "transfers_diff_stop ['symmetric_pairs'] = transfers_diff_stop[['source',\n",
    "                                                               'target']].apply(lambda x: '-'.join(sorted(x)),\n",
    "                                                                                axis=1)\n",
    "transfers_diff_stop = transfers_diff_stop.drop_duplicates(subset = ['symmetric_pairs'])\n",
    "\n",
    "# Step 11: Filter the necessary columns\n",
    "transfers_diff_stop = transfers_diff_stop [['stop_name_source',\n",
    "                                            'stop_name_target',\n",
    "                                            'geometry',\n",
    "                                            'length',\n",
    "                                            'time_distance']].rename(columns={'stop_name_source':'source',\n",
    "                                                                              'stop_name_target':'target'}).drop_duplicates()\n",
    "# Step 12 (optional): Display the results\n",
    "transfers_diff_stop.head()"
   ],
   "metadata": {
    "collapsed": false,
    "pycharm": {
     "name": "#%%\n"
    }
   }
  },
  {
   "cell_type": "code",
   "execution_count": 34,
   "outputs": [
    {
     "ename": "OperationalError",
     "evalue": "(psycopg2.OperationalError) server closed the connection unexpectedly\n\tThis probably means the server terminated abnormally\n\tbefore or while processing the request.\nserver closed the connection unexpectedly\n\tThis probably means the server terminated abnormally\n\tbefore or while processing the request.\n\n[SQL: SELECT pg_catalog.pg_class.relname \nFROM pg_catalog.pg_class JOIN pg_catalog.pg_namespace ON pg_catalog.pg_namespace.oid = pg_catalog.pg_class.relnamespace \nWHERE pg_catalog.pg_class.relname = %(table_name)s AND pg_catalog.pg_class.relkind = ANY (ARRAY[%(param_1)s, %(param_2)s, %(param_3)s, %(param_4)s, %(param_5)s]) AND pg_catalog.pg_namespace.nspname = %(nspname_1)s]\n[parameters: {'table_name': 'transfers_diff_stop_pt_4', 'param_1': 'r', 'param_2': 'p', 'param_3': 'f', 'param_4': 'v', 'param_5': 'm', 'nspname_1': 'pt_4_odirection_ostop_bymode'}]\n(Background on this error at: https://sqlalche.me/e/20/e3q8)",
     "output_type": "error",
     "traceback": [
      "\u001B[1;31m---------------------------------------------------------------------------\u001B[0m",
      "\u001B[1;31mOperationalError\u001B[0m                          Traceback (most recent call last)",
      "File \u001B[1;32m~\\Miniconda3\\lib\\site-packages\\sqlalchemy\\engine\\base.py:1971\u001B[0m, in \u001B[0;36mConnection._exec_single_context\u001B[1;34m(self, dialect, context, statement, parameters)\u001B[0m\n\u001B[0;32m   1970\u001B[0m     \u001B[38;5;28;01mif\u001B[39;00m \u001B[38;5;129;01mnot\u001B[39;00m evt_handled:\n\u001B[1;32m-> 1971\u001B[0m         \u001B[38;5;28;43mself\u001B[39;49m\u001B[38;5;241;43m.\u001B[39;49m\u001B[43mdialect\u001B[49m\u001B[38;5;241;43m.\u001B[39;49m\u001B[43mdo_execute\u001B[49m\u001B[43m(\u001B[49m\n\u001B[0;32m   1972\u001B[0m \u001B[43m            \u001B[49m\u001B[43mcursor\u001B[49m\u001B[43m,\u001B[49m\u001B[43m \u001B[49m\u001B[43mstr_statement\u001B[49m\u001B[43m,\u001B[49m\u001B[43m \u001B[49m\u001B[43meffective_parameters\u001B[49m\u001B[43m,\u001B[49m\u001B[43m \u001B[49m\u001B[43mcontext\u001B[49m\n\u001B[0;32m   1973\u001B[0m \u001B[43m        \u001B[49m\u001B[43m)\u001B[49m\n\u001B[0;32m   1975\u001B[0m \u001B[38;5;28;01mif\u001B[39;00m \u001B[38;5;28mself\u001B[39m\u001B[38;5;241m.\u001B[39m_has_events \u001B[38;5;129;01mor\u001B[39;00m \u001B[38;5;28mself\u001B[39m\u001B[38;5;241m.\u001B[39mengine\u001B[38;5;241m.\u001B[39m_has_events:\n",
      "File \u001B[1;32m~\\Miniconda3\\lib\\site-packages\\sqlalchemy\\engine\\default.py:919\u001B[0m, in \u001B[0;36mDefaultDialect.do_execute\u001B[1;34m(self, cursor, statement, parameters, context)\u001B[0m\n\u001B[0;32m    918\u001B[0m \u001B[38;5;28;01mdef\u001B[39;00m \u001B[38;5;21mdo_execute\u001B[39m(\u001B[38;5;28mself\u001B[39m, cursor, statement, parameters, context\u001B[38;5;241m=\u001B[39m\u001B[38;5;28;01mNone\u001B[39;00m):\n\u001B[1;32m--> 919\u001B[0m     \u001B[43mcursor\u001B[49m\u001B[38;5;241;43m.\u001B[39;49m\u001B[43mexecute\u001B[49m\u001B[43m(\u001B[49m\u001B[43mstatement\u001B[49m\u001B[43m,\u001B[49m\u001B[43m \u001B[49m\u001B[43mparameters\u001B[49m\u001B[43m)\u001B[49m\n",
      "\u001B[1;31mOperationalError\u001B[0m: server closed the connection unexpectedly\n\tThis probably means the server terminated abnormally\n\tbefore or while processing the request.\nserver closed the connection unexpectedly\n\tThis probably means the server terminated abnormally\n\tbefore or while processing the request.\n",
      "\nThe above exception was the direct cause of the following exception:\n",
      "\u001B[1;31mOperationalError\u001B[0m                          Traceback (most recent call last)",
      "Cell \u001B[1;32mIn[34], line 3\u001B[0m\n\u001B[0;32m      1\u001B[0m \u001B[38;5;66;03m# Step 13 (optional): Set Geometry and Export to the DB\u001B[39;00m\n\u001B[0;32m      2\u001B[0m transfers_diff_stop \u001B[38;5;241m=\u001B[39m gpd\u001B[38;5;241m.\u001B[39mGeoDataFrame(transfers_diff_stop,  geometry\u001B[38;5;241m=\u001B[39m\u001B[38;5;124m'\u001B[39m\u001B[38;5;124mgeometry\u001B[39m\u001B[38;5;124m'\u001B[39m, crs\u001B[38;5;241m=\u001B[39m\u001B[38;5;124m'\u001B[39m\u001B[38;5;124m3006\u001B[39m\u001B[38;5;124m'\u001B[39m)\n\u001B[1;32m----> 3\u001B[0m \u001B[43mtransfers_diff_stop\u001B[49m\u001B[38;5;241;43m.\u001B[39;49m\u001B[43mto_postgis\u001B[49m\u001B[43m(\u001B[49m\u001B[38;5;124;43m'\u001B[39;49m\u001B[38;5;124;43mtransfers_diff_stop_pt_4\u001B[39;49m\u001B[38;5;124;43m'\u001B[39;49m\u001B[43m,\u001B[49m\u001B[43m \u001B[49m\u001B[43mengine\u001B[49m\u001B[43m,\u001B[49m\n\u001B[0;32m      4\u001B[0m \u001B[43m                               \u001B[49m\u001B[43mschema\u001B[49m\u001B[38;5;241;43m=\u001B[39;49m\u001B[38;5;124;43m'\u001B[39;49m\u001B[38;5;124;43mpt_4_odirection_ostop_bymode\u001B[39;49m\u001B[38;5;124;43m'\u001B[39;49m\u001B[43m,\u001B[49m\u001B[43m \u001B[49m\u001B[43mif_exists\u001B[49m\u001B[43m \u001B[49m\u001B[38;5;241;43m=\u001B[39;49m\u001B[38;5;124;43m'\u001B[39;49m\u001B[38;5;124;43mreplace\u001B[39;49m\u001B[38;5;124;43m'\u001B[39;49m\u001B[43m)\u001B[49m\n",
      "File \u001B[1;32m~\\AppData\\Roaming\\Python\\Python39\\site-packages\\geopandas\\geodataframe.py:2062\u001B[0m, in \u001B[0;36mGeoDataFrame.to_postgis\u001B[1;34m(self, name, con, schema, if_exists, index, index_label, chunksize, dtype)\u001B[0m\n\u001B[0;32m   1998\u001B[0m \u001B[38;5;28;01mdef\u001B[39;00m \u001B[38;5;21mto_postgis\u001B[39m(\n\u001B[0;32m   1999\u001B[0m     \u001B[38;5;28mself\u001B[39m,\n\u001B[0;32m   2000\u001B[0m     name,\n\u001B[1;32m   (...)\u001B[0m\n\u001B[0;32m   2007\u001B[0m     dtype\u001B[38;5;241m=\u001B[39m\u001B[38;5;28;01mNone\u001B[39;00m,\n\u001B[0;32m   2008\u001B[0m ):\n\u001B[0;32m   2009\u001B[0m \u001B[38;5;250m    \u001B[39m\u001B[38;5;124;03m\"\"\"\u001B[39;00m\n\u001B[0;32m   2010\u001B[0m \u001B[38;5;124;03m    Upload GeoDataFrame into PostGIS database.\u001B[39;00m\n\u001B[0;32m   2011\u001B[0m \n\u001B[1;32m   (...)\u001B[0m\n\u001B[0;32m   2060\u001B[0m \n\u001B[0;32m   2061\u001B[0m \u001B[38;5;124;03m    \"\"\"\u001B[39;00m\n\u001B[1;32m-> 2062\u001B[0m     \u001B[43mgeopandas\u001B[49m\u001B[38;5;241;43m.\u001B[39;49m\u001B[43mio\u001B[49m\u001B[38;5;241;43m.\u001B[39;49m\u001B[43msql\u001B[49m\u001B[38;5;241;43m.\u001B[39;49m\u001B[43m_write_postgis\u001B[49m\u001B[43m(\u001B[49m\n\u001B[0;32m   2063\u001B[0m \u001B[43m        \u001B[49m\u001B[38;5;28;43mself\u001B[39;49m\u001B[43m,\u001B[49m\u001B[43m \u001B[49m\u001B[43mname\u001B[49m\u001B[43m,\u001B[49m\u001B[43m \u001B[49m\u001B[43mcon\u001B[49m\u001B[43m,\u001B[49m\u001B[43m \u001B[49m\u001B[43mschema\u001B[49m\u001B[43m,\u001B[49m\u001B[43m \u001B[49m\u001B[43mif_exists\u001B[49m\u001B[43m,\u001B[49m\u001B[43m \u001B[49m\u001B[43mindex\u001B[49m\u001B[43m,\u001B[49m\u001B[43m \u001B[49m\u001B[43mindex_label\u001B[49m\u001B[43m,\u001B[49m\u001B[43m \u001B[49m\u001B[43mchunksize\u001B[49m\u001B[43m,\u001B[49m\u001B[43m \u001B[49m\u001B[43mdtype\u001B[49m\n\u001B[0;32m   2064\u001B[0m \u001B[43m    \u001B[49m\u001B[43m)\u001B[49m\n",
      "File \u001B[1;32m~\\AppData\\Roaming\\Python\\Python39\\site-packages\\geopandas\\io\\sql.py:461\u001B[0m, in \u001B[0;36m_write_postgis\u001B[1;34m(gdf, name, con, schema, if_exists, index, index_label, chunksize, dtype)\u001B[0m\n\u001B[0;32m    458\u001B[0m                 \u001B[38;5;28;01mraise\u001B[39;00m \u001B[38;5;167;01mValueError\u001B[39;00m(msg)\n\u001B[0;32m    460\u001B[0m \u001B[38;5;28;01mwith\u001B[39;00m _get_conn(con) \u001B[38;5;28;01mas\u001B[39;00m connection:\n\u001B[1;32m--> 461\u001B[0m     \u001B[43mgdf\u001B[49m\u001B[38;5;241;43m.\u001B[39;49m\u001B[43mto_sql\u001B[49m\u001B[43m(\u001B[49m\n\u001B[0;32m    462\u001B[0m \u001B[43m        \u001B[49m\u001B[43mname\u001B[49m\u001B[43m,\u001B[49m\n\u001B[0;32m    463\u001B[0m \u001B[43m        \u001B[49m\u001B[43mconnection\u001B[49m\u001B[43m,\u001B[49m\n\u001B[0;32m    464\u001B[0m \u001B[43m        \u001B[49m\u001B[43mschema\u001B[49m\u001B[38;5;241;43m=\u001B[39;49m\u001B[43mschema_name\u001B[49m\u001B[43m,\u001B[49m\n\u001B[0;32m    465\u001B[0m \u001B[43m        \u001B[49m\u001B[43mif_exists\u001B[49m\u001B[38;5;241;43m=\u001B[39;49m\u001B[43mif_exists\u001B[49m\u001B[43m,\u001B[49m\n\u001B[0;32m    466\u001B[0m \u001B[43m        \u001B[49m\u001B[43mindex\u001B[49m\u001B[38;5;241;43m=\u001B[39;49m\u001B[43mindex\u001B[49m\u001B[43m,\u001B[49m\n\u001B[0;32m    467\u001B[0m \u001B[43m        \u001B[49m\u001B[43mindex_label\u001B[49m\u001B[38;5;241;43m=\u001B[39;49m\u001B[43mindex_label\u001B[49m\u001B[43m,\u001B[49m\n\u001B[0;32m    468\u001B[0m \u001B[43m        \u001B[49m\u001B[43mchunksize\u001B[49m\u001B[38;5;241;43m=\u001B[39;49m\u001B[43mchunksize\u001B[49m\u001B[43m,\u001B[49m\n\u001B[0;32m    469\u001B[0m \u001B[43m        \u001B[49m\u001B[43mdtype\u001B[49m\u001B[38;5;241;43m=\u001B[39;49m\u001B[43mdtype\u001B[49m\u001B[43m,\u001B[49m\n\u001B[0;32m    470\u001B[0m \u001B[43m        \u001B[49m\u001B[43mmethod\u001B[49m\u001B[38;5;241;43m=\u001B[39;49m\u001B[43m_psql_insert_copy\u001B[49m\u001B[43m,\u001B[49m\n\u001B[0;32m    471\u001B[0m \u001B[43m    \u001B[49m\u001B[43m)\u001B[49m\n",
      "File \u001B[1;32m~\\AppData\\Roaming\\Python\\Python39\\site-packages\\pandas\\util\\_decorators.py:333\u001B[0m, in \u001B[0;36mdeprecate_nonkeyword_arguments.<locals>.decorate.<locals>.wrapper\u001B[1;34m(*args, **kwargs)\u001B[0m\n\u001B[0;32m    327\u001B[0m \u001B[38;5;28;01mif\u001B[39;00m \u001B[38;5;28mlen\u001B[39m(args) \u001B[38;5;241m>\u001B[39m num_allow_args:\n\u001B[0;32m    328\u001B[0m     warnings\u001B[38;5;241m.\u001B[39mwarn(\n\u001B[0;32m    329\u001B[0m         msg\u001B[38;5;241m.\u001B[39mformat(arguments\u001B[38;5;241m=\u001B[39m_format_argument_list(allow_args)),\n\u001B[0;32m    330\u001B[0m         \u001B[38;5;167;01mFutureWarning\u001B[39;00m,\n\u001B[0;32m    331\u001B[0m         stacklevel\u001B[38;5;241m=\u001B[39mfind_stack_level(),\n\u001B[0;32m    332\u001B[0m     )\n\u001B[1;32m--> 333\u001B[0m \u001B[38;5;28;01mreturn\u001B[39;00m func(\u001B[38;5;241m*\u001B[39margs, \u001B[38;5;241m*\u001B[39m\u001B[38;5;241m*\u001B[39mkwargs)\n",
      "File \u001B[1;32m~\\AppData\\Roaming\\Python\\Python39\\site-packages\\pandas\\core\\generic.py:3087\u001B[0m, in \u001B[0;36mNDFrame.to_sql\u001B[1;34m(self, name, con, schema, if_exists, index, index_label, chunksize, dtype, method)\u001B[0m\n\u001B[0;32m   2889\u001B[0m \u001B[38;5;250m\u001B[39m\u001B[38;5;124;03m\"\"\"\u001B[39;00m\n\u001B[0;32m   2890\u001B[0m \u001B[38;5;124;03mWrite records stored in a DataFrame to a SQL database.\u001B[39;00m\n\u001B[0;32m   2891\u001B[0m \n\u001B[1;32m   (...)\u001B[0m\n\u001B[0;32m   3083\u001B[0m \u001B[38;5;124;03m[(1,), (None,), (2,)]\u001B[39;00m\n\u001B[0;32m   3084\u001B[0m \u001B[38;5;124;03m\"\"\"\u001B[39;00m  \u001B[38;5;66;03m# noqa: E501\u001B[39;00m\n\u001B[0;32m   3085\u001B[0m \u001B[38;5;28;01mfrom\u001B[39;00m \u001B[38;5;21;01mpandas\u001B[39;00m\u001B[38;5;21;01m.\u001B[39;00m\u001B[38;5;21;01mio\u001B[39;00m \u001B[38;5;28;01mimport\u001B[39;00m sql\n\u001B[1;32m-> 3087\u001B[0m \u001B[38;5;28;01mreturn\u001B[39;00m \u001B[43msql\u001B[49m\u001B[38;5;241;43m.\u001B[39;49m\u001B[43mto_sql\u001B[49m\u001B[43m(\u001B[49m\n\u001B[0;32m   3088\u001B[0m \u001B[43m    \u001B[49m\u001B[38;5;28;43mself\u001B[39;49m\u001B[43m,\u001B[49m\n\u001B[0;32m   3089\u001B[0m \u001B[43m    \u001B[49m\u001B[43mname\u001B[49m\u001B[43m,\u001B[49m\n\u001B[0;32m   3090\u001B[0m \u001B[43m    \u001B[49m\u001B[43mcon\u001B[49m\u001B[43m,\u001B[49m\n\u001B[0;32m   3091\u001B[0m \u001B[43m    \u001B[49m\u001B[43mschema\u001B[49m\u001B[38;5;241;43m=\u001B[39;49m\u001B[43mschema\u001B[49m\u001B[43m,\u001B[49m\n\u001B[0;32m   3092\u001B[0m \u001B[43m    \u001B[49m\u001B[43mif_exists\u001B[49m\u001B[38;5;241;43m=\u001B[39;49m\u001B[43mif_exists\u001B[49m\u001B[43m,\u001B[49m\n\u001B[0;32m   3093\u001B[0m \u001B[43m    \u001B[49m\u001B[43mindex\u001B[49m\u001B[38;5;241;43m=\u001B[39;49m\u001B[43mindex\u001B[49m\u001B[43m,\u001B[49m\n\u001B[0;32m   3094\u001B[0m \u001B[43m    \u001B[49m\u001B[43mindex_label\u001B[49m\u001B[38;5;241;43m=\u001B[39;49m\u001B[43mindex_label\u001B[49m\u001B[43m,\u001B[49m\n\u001B[0;32m   3095\u001B[0m \u001B[43m    \u001B[49m\u001B[43mchunksize\u001B[49m\u001B[38;5;241;43m=\u001B[39;49m\u001B[43mchunksize\u001B[49m\u001B[43m,\u001B[49m\n\u001B[0;32m   3096\u001B[0m \u001B[43m    \u001B[49m\u001B[43mdtype\u001B[49m\u001B[38;5;241;43m=\u001B[39;49m\u001B[43mdtype\u001B[49m\u001B[43m,\u001B[49m\n\u001B[0;32m   3097\u001B[0m \u001B[43m    \u001B[49m\u001B[43mmethod\u001B[49m\u001B[38;5;241;43m=\u001B[39;49m\u001B[43mmethod\u001B[49m\u001B[43m,\u001B[49m\n\u001B[0;32m   3098\u001B[0m \u001B[43m\u001B[49m\u001B[43m)\u001B[49m\n",
      "File \u001B[1;32m~\\AppData\\Roaming\\Python\\Python39\\site-packages\\pandas\\io\\sql.py:842\u001B[0m, in \u001B[0;36mto_sql\u001B[1;34m(frame, name, con, schema, if_exists, index, index_label, chunksize, dtype, method, engine, **engine_kwargs)\u001B[0m\n\u001B[0;32m    837\u001B[0m     \u001B[38;5;28;01mraise\u001B[39;00m \u001B[38;5;167;01mNotImplementedError\u001B[39;00m(\n\u001B[0;32m    838\u001B[0m         \u001B[38;5;124m\"\u001B[39m\u001B[38;5;124m'\u001B[39m\u001B[38;5;124mframe\u001B[39m\u001B[38;5;124m'\u001B[39m\u001B[38;5;124m argument should be either a Series or a DataFrame\u001B[39m\u001B[38;5;124m\"\u001B[39m\n\u001B[0;32m    839\u001B[0m     )\n\u001B[0;32m    841\u001B[0m \u001B[38;5;28;01mwith\u001B[39;00m pandasSQL_builder(con, schema\u001B[38;5;241m=\u001B[39mschema, need_transaction\u001B[38;5;241m=\u001B[39m\u001B[38;5;28;01mTrue\u001B[39;00m) \u001B[38;5;28;01mas\u001B[39;00m pandas_sql:\n\u001B[1;32m--> 842\u001B[0m     \u001B[38;5;28;01mreturn\u001B[39;00m pandas_sql\u001B[38;5;241m.\u001B[39mto_sql(\n\u001B[0;32m    843\u001B[0m         frame,\n\u001B[0;32m    844\u001B[0m         name,\n\u001B[0;32m    845\u001B[0m         if_exists\u001B[38;5;241m=\u001B[39mif_exists,\n\u001B[0;32m    846\u001B[0m         index\u001B[38;5;241m=\u001B[39mindex,\n\u001B[0;32m    847\u001B[0m         index_label\u001B[38;5;241m=\u001B[39mindex_label,\n\u001B[0;32m    848\u001B[0m         schema\u001B[38;5;241m=\u001B[39mschema,\n\u001B[0;32m    849\u001B[0m         chunksize\u001B[38;5;241m=\u001B[39mchunksize,\n\u001B[0;32m    850\u001B[0m         dtype\u001B[38;5;241m=\u001B[39mdtype,\n\u001B[0;32m    851\u001B[0m         method\u001B[38;5;241m=\u001B[39mmethod,\n\u001B[0;32m    852\u001B[0m         engine\u001B[38;5;241m=\u001B[39mengine,\n\u001B[0;32m    853\u001B[0m         \u001B[38;5;241m*\u001B[39m\u001B[38;5;241m*\u001B[39mengine_kwargs,\n\u001B[0;32m    854\u001B[0m     )\n",
      "File \u001B[1;32m~\\AppData\\Roaming\\Python\\Python39\\site-packages\\pandas\\io\\sql.py:2008\u001B[0m, in \u001B[0;36mSQLDatabase.to_sql\u001B[1;34m(self, frame, name, if_exists, index, index_label, schema, chunksize, dtype, method, engine, **engine_kwargs)\u001B[0m\n\u001B[0;32m   1958\u001B[0m \u001B[38;5;250m\u001B[39m\u001B[38;5;124;03m\"\"\"\u001B[39;00m\n\u001B[0;32m   1959\u001B[0m \u001B[38;5;124;03mWrite records stored in a DataFrame to a SQL database.\u001B[39;00m\n\u001B[0;32m   1960\u001B[0m \n\u001B[1;32m   (...)\u001B[0m\n\u001B[0;32m   2004\u001B[0m \u001B[38;5;124;03m    Any additional kwargs are passed to the engine.\u001B[39;00m\n\u001B[0;32m   2005\u001B[0m \u001B[38;5;124;03m\"\"\"\u001B[39;00m\n\u001B[0;32m   2006\u001B[0m sql_engine \u001B[38;5;241m=\u001B[39m get_engine(engine)\n\u001B[1;32m-> 2008\u001B[0m table \u001B[38;5;241m=\u001B[39m \u001B[38;5;28;43mself\u001B[39;49m\u001B[38;5;241;43m.\u001B[39;49m\u001B[43mprep_table\u001B[49m\u001B[43m(\u001B[49m\n\u001B[0;32m   2009\u001B[0m \u001B[43m    \u001B[49m\u001B[43mframe\u001B[49m\u001B[38;5;241;43m=\u001B[39;49m\u001B[43mframe\u001B[49m\u001B[43m,\u001B[49m\n\u001B[0;32m   2010\u001B[0m \u001B[43m    \u001B[49m\u001B[43mname\u001B[49m\u001B[38;5;241;43m=\u001B[39;49m\u001B[43mname\u001B[49m\u001B[43m,\u001B[49m\n\u001B[0;32m   2011\u001B[0m \u001B[43m    \u001B[49m\u001B[43mif_exists\u001B[49m\u001B[38;5;241;43m=\u001B[39;49m\u001B[43mif_exists\u001B[49m\u001B[43m,\u001B[49m\n\u001B[0;32m   2012\u001B[0m \u001B[43m    \u001B[49m\u001B[43mindex\u001B[49m\u001B[38;5;241;43m=\u001B[39;49m\u001B[43mindex\u001B[49m\u001B[43m,\u001B[49m\n\u001B[0;32m   2013\u001B[0m \u001B[43m    \u001B[49m\u001B[43mindex_label\u001B[49m\u001B[38;5;241;43m=\u001B[39;49m\u001B[43mindex_label\u001B[49m\u001B[43m,\u001B[49m\n\u001B[0;32m   2014\u001B[0m \u001B[43m    \u001B[49m\u001B[43mschema\u001B[49m\u001B[38;5;241;43m=\u001B[39;49m\u001B[43mschema\u001B[49m\u001B[43m,\u001B[49m\n\u001B[0;32m   2015\u001B[0m \u001B[43m    \u001B[49m\u001B[43mdtype\u001B[49m\u001B[38;5;241;43m=\u001B[39;49m\u001B[43mdtype\u001B[49m\u001B[43m,\u001B[49m\n\u001B[0;32m   2016\u001B[0m \u001B[43m\u001B[49m\u001B[43m)\u001B[49m\n\u001B[0;32m   2018\u001B[0m total_inserted \u001B[38;5;241m=\u001B[39m sql_engine\u001B[38;5;241m.\u001B[39minsert_records(\n\u001B[0;32m   2019\u001B[0m     table\u001B[38;5;241m=\u001B[39mtable,\n\u001B[0;32m   2020\u001B[0m     con\u001B[38;5;241m=\u001B[39m\u001B[38;5;28mself\u001B[39m\u001B[38;5;241m.\u001B[39mcon,\n\u001B[1;32m   (...)\u001B[0m\n\u001B[0;32m   2027\u001B[0m     \u001B[38;5;241m*\u001B[39m\u001B[38;5;241m*\u001B[39mengine_kwargs,\n\u001B[0;32m   2028\u001B[0m )\n\u001B[0;32m   2030\u001B[0m \u001B[38;5;28mself\u001B[39m\u001B[38;5;241m.\u001B[39mcheck_case_sensitive(name\u001B[38;5;241m=\u001B[39mname, schema\u001B[38;5;241m=\u001B[39mschema)\n",
      "File \u001B[1;32m~\\AppData\\Roaming\\Python\\Python39\\site-packages\\pandas\\io\\sql.py:1912\u001B[0m, in \u001B[0;36mSQLDatabase.prep_table\u001B[1;34m(self, frame, name, if_exists, index, index_label, schema, dtype)\u001B[0m\n\u001B[0;32m   1900\u001B[0m             \u001B[38;5;28;01mraise\u001B[39;00m \u001B[38;5;167;01mValueError\u001B[39;00m(\u001B[38;5;124mf\u001B[39m\u001B[38;5;124m\"\u001B[39m\u001B[38;5;124mThe type of \u001B[39m\u001B[38;5;132;01m{\u001B[39;00mcol\u001B[38;5;132;01m}\u001B[39;00m\u001B[38;5;124m is not a SQLAlchemy type\u001B[39m\u001B[38;5;124m\"\u001B[39m)\n\u001B[0;32m   1902\u001B[0m table \u001B[38;5;241m=\u001B[39m SQLTable(\n\u001B[0;32m   1903\u001B[0m     name,\n\u001B[0;32m   1904\u001B[0m     \u001B[38;5;28mself\u001B[39m,\n\u001B[1;32m   (...)\u001B[0m\n\u001B[0;32m   1910\u001B[0m     dtype\u001B[38;5;241m=\u001B[39mdtype,\n\u001B[0;32m   1911\u001B[0m )\n\u001B[1;32m-> 1912\u001B[0m \u001B[43mtable\u001B[49m\u001B[38;5;241;43m.\u001B[39;49m\u001B[43mcreate\u001B[49m\u001B[43m(\u001B[49m\u001B[43m)\u001B[49m\n\u001B[0;32m   1913\u001B[0m \u001B[38;5;28;01mreturn\u001B[39;00m table\n",
      "File \u001B[1;32m~\\AppData\\Roaming\\Python\\Python39\\site-packages\\pandas\\io\\sql.py:984\u001B[0m, in \u001B[0;36mSQLTable.create\u001B[1;34m(self)\u001B[0m\n\u001B[0;32m    983\u001B[0m \u001B[38;5;28;01mdef\u001B[39;00m \u001B[38;5;21mcreate\u001B[39m(\u001B[38;5;28mself\u001B[39m) \u001B[38;5;241m-\u001B[39m\u001B[38;5;241m>\u001B[39m \u001B[38;5;28;01mNone\u001B[39;00m:\n\u001B[1;32m--> 984\u001B[0m     \u001B[38;5;28;01mif\u001B[39;00m \u001B[38;5;28;43mself\u001B[39;49m\u001B[38;5;241;43m.\u001B[39;49m\u001B[43mexists\u001B[49m\u001B[43m(\u001B[49m\u001B[43m)\u001B[49m:\n\u001B[0;32m    985\u001B[0m         \u001B[38;5;28;01mif\u001B[39;00m \u001B[38;5;28mself\u001B[39m\u001B[38;5;241m.\u001B[39mif_exists \u001B[38;5;241m==\u001B[39m \u001B[38;5;124m\"\u001B[39m\u001B[38;5;124mfail\u001B[39m\u001B[38;5;124m\"\u001B[39m:\n\u001B[0;32m    986\u001B[0m             \u001B[38;5;28;01mraise\u001B[39;00m \u001B[38;5;167;01mValueError\u001B[39;00m(\u001B[38;5;124mf\u001B[39m\u001B[38;5;124m\"\u001B[39m\u001B[38;5;124mTable \u001B[39m\u001B[38;5;124m'\u001B[39m\u001B[38;5;132;01m{\u001B[39;00m\u001B[38;5;28mself\u001B[39m\u001B[38;5;241m.\u001B[39mname\u001B[38;5;132;01m}\u001B[39;00m\u001B[38;5;124m'\u001B[39m\u001B[38;5;124m already exists.\u001B[39m\u001B[38;5;124m\"\u001B[39m)\n",
      "File \u001B[1;32m~\\AppData\\Roaming\\Python\\Python39\\site-packages\\pandas\\io\\sql.py:970\u001B[0m, in \u001B[0;36mSQLTable.exists\u001B[1;34m(self)\u001B[0m\n\u001B[0;32m    969\u001B[0m \u001B[38;5;28;01mdef\u001B[39;00m \u001B[38;5;21mexists\u001B[39m(\u001B[38;5;28mself\u001B[39m):\n\u001B[1;32m--> 970\u001B[0m     \u001B[38;5;28;01mreturn\u001B[39;00m \u001B[38;5;28;43mself\u001B[39;49m\u001B[38;5;241;43m.\u001B[39;49m\u001B[43mpd_sql\u001B[49m\u001B[38;5;241;43m.\u001B[39;49m\u001B[43mhas_table\u001B[49m\u001B[43m(\u001B[49m\u001B[38;5;28;43mself\u001B[39;49m\u001B[38;5;241;43m.\u001B[39;49m\u001B[43mname\u001B[49m\u001B[43m,\u001B[49m\u001B[43m \u001B[49m\u001B[38;5;28;43mself\u001B[39;49m\u001B[38;5;241;43m.\u001B[39;49m\u001B[43mschema\u001B[49m\u001B[43m)\u001B[49m\n",
      "File \u001B[1;32m~\\AppData\\Roaming\\Python\\Python39\\site-packages\\pandas\\io\\sql.py:2041\u001B[0m, in \u001B[0;36mSQLDatabase.has_table\u001B[1;34m(self, name, schema)\u001B[0m\n\u001B[0;32m   2038\u001B[0m \u001B[38;5;28;01mfrom\u001B[39;00m \u001B[38;5;21;01msqlalchemy\u001B[39;00m \u001B[38;5;28;01mimport\u001B[39;00m inspect \u001B[38;5;28;01mas\u001B[39;00m sqlalchemy_inspect\n\u001B[0;32m   2040\u001B[0m insp \u001B[38;5;241m=\u001B[39m sqlalchemy_inspect(\u001B[38;5;28mself\u001B[39m\u001B[38;5;241m.\u001B[39mcon)\n\u001B[1;32m-> 2041\u001B[0m \u001B[38;5;28;01mreturn\u001B[39;00m \u001B[43minsp\u001B[49m\u001B[38;5;241;43m.\u001B[39;49m\u001B[43mhas_table\u001B[49m\u001B[43m(\u001B[49m\u001B[43mname\u001B[49m\u001B[43m,\u001B[49m\u001B[43m \u001B[49m\u001B[43mschema\u001B[49m\u001B[43m \u001B[49m\u001B[38;5;129;43;01mor\u001B[39;49;00m\u001B[43m \u001B[49m\u001B[38;5;28;43mself\u001B[39;49m\u001B[38;5;241;43m.\u001B[39;49m\u001B[43mmeta\u001B[49m\u001B[38;5;241;43m.\u001B[39;49m\u001B[43mschema\u001B[49m\u001B[43m)\u001B[49m\n",
      "File \u001B[1;32m~\\Miniconda3\\lib\\site-packages\\sqlalchemy\\engine\\reflection.py:429\u001B[0m, in \u001B[0;36mInspector.has_table\u001B[1;34m(self, table_name, schema, **kw)\u001B[0m\n\u001B[0;32m    403\u001B[0m \u001B[38;5;250m\u001B[39m\u001B[38;5;124mr\u001B[39m\u001B[38;5;124;03m\"\"\"Return True if the backend has a table, view, or temporary\u001B[39;00m\n\u001B[0;32m    404\u001B[0m \u001B[38;5;124;03mtable of the given name.\u001B[39;00m\n\u001B[0;32m    405\u001B[0m \n\u001B[1;32m   (...)\u001B[0m\n\u001B[0;32m    426\u001B[0m \n\u001B[0;32m    427\u001B[0m \u001B[38;5;124;03m\"\"\"\u001B[39;00m\n\u001B[0;32m    428\u001B[0m \u001B[38;5;28;01mwith\u001B[39;00m \u001B[38;5;28mself\u001B[39m\u001B[38;5;241m.\u001B[39m_operation_context() \u001B[38;5;28;01mas\u001B[39;00m conn:\n\u001B[1;32m--> 429\u001B[0m     \u001B[38;5;28;01mreturn\u001B[39;00m \u001B[38;5;28mself\u001B[39m\u001B[38;5;241m.\u001B[39mdialect\u001B[38;5;241m.\u001B[39mhas_table(\n\u001B[0;32m    430\u001B[0m         conn, table_name, schema, info_cache\u001B[38;5;241m=\u001B[39m\u001B[38;5;28mself\u001B[39m\u001B[38;5;241m.\u001B[39minfo_cache, \u001B[38;5;241m*\u001B[39m\u001B[38;5;241m*\u001B[39mkw\n\u001B[0;32m    431\u001B[0m     )\n",
      "File \u001B[1;32m<string>:2\u001B[0m, in \u001B[0;36mhas_table\u001B[1;34m(self, connection, table_name, schema, **kw)\u001B[0m\n",
      "File \u001B[1;32m~\\Miniconda3\\lib\\site-packages\\sqlalchemy\\engine\\reflection.py:97\u001B[0m, in \u001B[0;36mcache\u001B[1;34m(fn, self, con, *args, **kw)\u001B[0m\n\u001B[0;32m     95\u001B[0m ret: _R \u001B[38;5;241m=\u001B[39m info_cache\u001B[38;5;241m.\u001B[39mget(key)\n\u001B[0;32m     96\u001B[0m \u001B[38;5;28;01mif\u001B[39;00m ret \u001B[38;5;129;01mis\u001B[39;00m \u001B[38;5;28;01mNone\u001B[39;00m:\n\u001B[1;32m---> 97\u001B[0m     ret \u001B[38;5;241m=\u001B[39m fn(\u001B[38;5;28mself\u001B[39m, con, \u001B[38;5;241m*\u001B[39margs, \u001B[38;5;241m*\u001B[39m\u001B[38;5;241m*\u001B[39mkw)\n\u001B[0;32m     98\u001B[0m     info_cache[key] \u001B[38;5;241m=\u001B[39m ret\n\u001B[0;32m     99\u001B[0m \u001B[38;5;28;01mreturn\u001B[39;00m ret\n",
      "File \u001B[1;32m~\\Miniconda3\\lib\\site-packages\\sqlalchemy\\dialects\\postgresql\\base.py:3347\u001B[0m, in \u001B[0;36mPGDialect.has_table\u001B[1;34m(self, connection, table_name, schema, **kw)\u001B[0m\n\u001B[0;32m   3345\u001B[0m \u001B[38;5;28mself\u001B[39m\u001B[38;5;241m.\u001B[39m_ensure_has_table_connection(connection)\n\u001B[0;32m   3346\u001B[0m query \u001B[38;5;241m=\u001B[39m \u001B[38;5;28mself\u001B[39m\u001B[38;5;241m.\u001B[39m_has_table_query(schema)\n\u001B[1;32m-> 3347\u001B[0m \u001B[38;5;28;01mreturn\u001B[39;00m \u001B[38;5;28mbool\u001B[39m(\u001B[43mconnection\u001B[49m\u001B[38;5;241;43m.\u001B[39;49m\u001B[43mscalar\u001B[49m\u001B[43m(\u001B[49m\u001B[43mquery\u001B[49m\u001B[43m,\u001B[49m\u001B[43m \u001B[49m\u001B[43m{\u001B[49m\u001B[38;5;124;43m\"\u001B[39;49m\u001B[38;5;124;43mtable_name\u001B[39;49m\u001B[38;5;124;43m\"\u001B[39;49m\u001B[43m:\u001B[49m\u001B[43m \u001B[49m\u001B[43mtable_name\u001B[49m\u001B[43m}\u001B[49m\u001B[43m)\u001B[49m)\n",
      "File \u001B[1;32m~\\Miniconda3\\lib\\site-packages\\sqlalchemy\\engine\\base.py:1311\u001B[0m, in \u001B[0;36mConnection.scalar\u001B[1;34m(self, statement, parameters, execution_options)\u001B[0m\n\u001B[0;32m   1309\u001B[0m     \u001B[38;5;28;01mraise\u001B[39;00m exc\u001B[38;5;241m.\u001B[39mObjectNotExecutableError(statement) \u001B[38;5;28;01mfrom\u001B[39;00m \u001B[38;5;21;01merr\u001B[39;00m\n\u001B[0;32m   1310\u001B[0m \u001B[38;5;28;01melse\u001B[39;00m:\n\u001B[1;32m-> 1311\u001B[0m     \u001B[38;5;28;01mreturn\u001B[39;00m \u001B[43mmeth\u001B[49m\u001B[43m(\u001B[49m\n\u001B[0;32m   1312\u001B[0m \u001B[43m        \u001B[49m\u001B[38;5;28;43mself\u001B[39;49m\u001B[43m,\u001B[49m\n\u001B[0;32m   1313\u001B[0m \u001B[43m        \u001B[49m\u001B[43mdistilled_parameters\u001B[49m\u001B[43m,\u001B[49m\n\u001B[0;32m   1314\u001B[0m \u001B[43m        \u001B[49m\u001B[43mexecution_options\u001B[49m\u001B[43m \u001B[49m\u001B[38;5;129;43;01mor\u001B[39;49;00m\u001B[43m \u001B[49m\u001B[43mNO_OPTIONS\u001B[49m\u001B[43m,\u001B[49m\n\u001B[0;32m   1315\u001B[0m \u001B[43m    \u001B[49m\u001B[43m)\u001B[49m\n",
      "File \u001B[1;32m~\\Miniconda3\\lib\\site-packages\\sqlalchemy\\sql\\elements.py:532\u001B[0m, in \u001B[0;36mClauseElement._execute_on_scalar\u001B[1;34m(self, connection, distilled_params, execution_options)\u001B[0m\n\u001B[0;32m    520\u001B[0m \u001B[38;5;28;01mdef\u001B[39;00m \u001B[38;5;21m_execute_on_scalar\u001B[39m(\n\u001B[0;32m    521\u001B[0m     \u001B[38;5;28mself\u001B[39m,\n\u001B[0;32m    522\u001B[0m     connection: Connection,\n\u001B[0;32m    523\u001B[0m     distilled_params: _CoreMultiExecuteParams,\n\u001B[0;32m    524\u001B[0m     execution_options: CoreExecuteOptionsParameter,\n\u001B[0;32m    525\u001B[0m ) \u001B[38;5;241m-\u001B[39m\u001B[38;5;241m>\u001B[39m Any:\n\u001B[0;32m    526\u001B[0m \u001B[38;5;250m    \u001B[39m\u001B[38;5;124;03m\"\"\"an additional hook for subclasses to provide a different\u001B[39;00m\n\u001B[0;32m    527\u001B[0m \u001B[38;5;124;03m    implementation for connection.scalar() vs. connection.execute().\u001B[39;00m\n\u001B[0;32m    528\u001B[0m \n\u001B[0;32m    529\u001B[0m \u001B[38;5;124;03m    .. versionadded:: 2.0\u001B[39;00m\n\u001B[0;32m    530\u001B[0m \n\u001B[0;32m    531\u001B[0m \u001B[38;5;124;03m    \"\"\"\u001B[39;00m\n\u001B[1;32m--> 532\u001B[0m     \u001B[38;5;28;01mreturn\u001B[39;00m \u001B[38;5;28;43mself\u001B[39;49m\u001B[38;5;241;43m.\u001B[39;49m\u001B[43m_execute_on_connection\u001B[49m\u001B[43m(\u001B[49m\n\u001B[0;32m    533\u001B[0m \u001B[43m        \u001B[49m\u001B[43mconnection\u001B[49m\u001B[43m,\u001B[49m\u001B[43m \u001B[49m\u001B[43mdistilled_params\u001B[49m\u001B[43m,\u001B[49m\u001B[43m \u001B[49m\u001B[43mexecution_options\u001B[49m\n\u001B[0;32m    534\u001B[0m \u001B[43m    \u001B[49m\u001B[43m)\u001B[49m\u001B[38;5;241m.\u001B[39mscalar()\n",
      "File \u001B[1;32m~\\Miniconda3\\lib\\site-packages\\sqlalchemy\\sql\\elements.py:514\u001B[0m, in \u001B[0;36mClauseElement._execute_on_connection\u001B[1;34m(self, connection, distilled_params, execution_options)\u001B[0m\n\u001B[0;32m    512\u001B[0m     \u001B[38;5;28;01mif\u001B[39;00m TYPE_CHECKING:\n\u001B[0;32m    513\u001B[0m         \u001B[38;5;28;01massert\u001B[39;00m \u001B[38;5;28misinstance\u001B[39m(\u001B[38;5;28mself\u001B[39m, Executable)\n\u001B[1;32m--> 514\u001B[0m     \u001B[38;5;28;01mreturn\u001B[39;00m \u001B[43mconnection\u001B[49m\u001B[38;5;241;43m.\u001B[39;49m\u001B[43m_execute_clauseelement\u001B[49m\u001B[43m(\u001B[49m\n\u001B[0;32m    515\u001B[0m \u001B[43m        \u001B[49m\u001B[38;5;28;43mself\u001B[39;49m\u001B[43m,\u001B[49m\u001B[43m \u001B[49m\u001B[43mdistilled_params\u001B[49m\u001B[43m,\u001B[49m\u001B[43m \u001B[49m\u001B[43mexecution_options\u001B[49m\n\u001B[0;32m    516\u001B[0m \u001B[43m    \u001B[49m\u001B[43m)\u001B[49m\n\u001B[0;32m    517\u001B[0m \u001B[38;5;28;01melse\u001B[39;00m:\n\u001B[0;32m    518\u001B[0m     \u001B[38;5;28;01mraise\u001B[39;00m exc\u001B[38;5;241m.\u001B[39mObjectNotExecutableError(\u001B[38;5;28mself\u001B[39m)\n",
      "File \u001B[1;32m~\\Miniconda3\\lib\\site-packages\\sqlalchemy\\engine\\base.py:1644\u001B[0m, in \u001B[0;36mConnection._execute_clauseelement\u001B[1;34m(self, elem, distilled_parameters, execution_options)\u001B[0m\n\u001B[0;32m   1632\u001B[0m compiled_cache: Optional[CompiledCacheType] \u001B[38;5;241m=\u001B[39m execution_options\u001B[38;5;241m.\u001B[39mget(\n\u001B[0;32m   1633\u001B[0m     \u001B[38;5;124m\"\u001B[39m\u001B[38;5;124mcompiled_cache\u001B[39m\u001B[38;5;124m\"\u001B[39m, \u001B[38;5;28mself\u001B[39m\u001B[38;5;241m.\u001B[39mengine\u001B[38;5;241m.\u001B[39m_compiled_cache\n\u001B[0;32m   1634\u001B[0m )\n\u001B[0;32m   1636\u001B[0m compiled_sql, extracted_params, cache_hit \u001B[38;5;241m=\u001B[39m elem\u001B[38;5;241m.\u001B[39m_compile_w_cache(\n\u001B[0;32m   1637\u001B[0m     dialect\u001B[38;5;241m=\u001B[39mdialect,\n\u001B[0;32m   1638\u001B[0m     compiled_cache\u001B[38;5;241m=\u001B[39mcompiled_cache,\n\u001B[1;32m   (...)\u001B[0m\n\u001B[0;32m   1642\u001B[0m     linting\u001B[38;5;241m=\u001B[39m\u001B[38;5;28mself\u001B[39m\u001B[38;5;241m.\u001B[39mdialect\u001B[38;5;241m.\u001B[39mcompiler_linting \u001B[38;5;241m|\u001B[39m compiler\u001B[38;5;241m.\u001B[39mWARN_LINTING,\n\u001B[0;32m   1643\u001B[0m )\n\u001B[1;32m-> 1644\u001B[0m ret \u001B[38;5;241m=\u001B[39m \u001B[38;5;28;43mself\u001B[39;49m\u001B[38;5;241;43m.\u001B[39;49m\u001B[43m_execute_context\u001B[49m\u001B[43m(\u001B[49m\n\u001B[0;32m   1645\u001B[0m \u001B[43m    \u001B[49m\u001B[43mdialect\u001B[49m\u001B[43m,\u001B[49m\n\u001B[0;32m   1646\u001B[0m \u001B[43m    \u001B[49m\u001B[43mdialect\u001B[49m\u001B[38;5;241;43m.\u001B[39;49m\u001B[43mexecution_ctx_cls\u001B[49m\u001B[38;5;241;43m.\u001B[39;49m\u001B[43m_init_compiled\u001B[49m\u001B[43m,\u001B[49m\n\u001B[0;32m   1647\u001B[0m \u001B[43m    \u001B[49m\u001B[43mcompiled_sql\u001B[49m\u001B[43m,\u001B[49m\n\u001B[0;32m   1648\u001B[0m \u001B[43m    \u001B[49m\u001B[43mdistilled_parameters\u001B[49m\u001B[43m,\u001B[49m\n\u001B[0;32m   1649\u001B[0m \u001B[43m    \u001B[49m\u001B[43mexecution_options\u001B[49m\u001B[43m,\u001B[49m\n\u001B[0;32m   1650\u001B[0m \u001B[43m    \u001B[49m\u001B[43mcompiled_sql\u001B[49m\u001B[43m,\u001B[49m\n\u001B[0;32m   1651\u001B[0m \u001B[43m    \u001B[49m\u001B[43mdistilled_parameters\u001B[49m\u001B[43m,\u001B[49m\n\u001B[0;32m   1652\u001B[0m \u001B[43m    \u001B[49m\u001B[43melem\u001B[49m\u001B[43m,\u001B[49m\n\u001B[0;32m   1653\u001B[0m \u001B[43m    \u001B[49m\u001B[43mextracted_params\u001B[49m\u001B[43m,\u001B[49m\n\u001B[0;32m   1654\u001B[0m \u001B[43m    \u001B[49m\u001B[43mcache_hit\u001B[49m\u001B[38;5;241;43m=\u001B[39;49m\u001B[43mcache_hit\u001B[49m\u001B[43m,\u001B[49m\n\u001B[0;32m   1655\u001B[0m \u001B[43m\u001B[49m\u001B[43m)\u001B[49m\n\u001B[0;32m   1656\u001B[0m \u001B[38;5;28;01mif\u001B[39;00m has_events:\n\u001B[0;32m   1657\u001B[0m     \u001B[38;5;28mself\u001B[39m\u001B[38;5;241m.\u001B[39mdispatch\u001B[38;5;241m.\u001B[39mafter_execute(\n\u001B[0;32m   1658\u001B[0m         \u001B[38;5;28mself\u001B[39m,\n\u001B[0;32m   1659\u001B[0m         elem,\n\u001B[1;32m   (...)\u001B[0m\n\u001B[0;32m   1663\u001B[0m         ret,\n\u001B[0;32m   1664\u001B[0m     )\n",
      "File \u001B[1;32m~\\Miniconda3\\lib\\site-packages\\sqlalchemy\\engine\\base.py:1850\u001B[0m, in \u001B[0;36mConnection._execute_context\u001B[1;34m(self, dialect, constructor, statement, parameters, execution_options, *args, **kw)\u001B[0m\n\u001B[0;32m   1848\u001B[0m     \u001B[38;5;28;01mreturn\u001B[39;00m \u001B[38;5;28mself\u001B[39m\u001B[38;5;241m.\u001B[39m_exec_insertmany_context(dialect, context)\n\u001B[0;32m   1849\u001B[0m \u001B[38;5;28;01melse\u001B[39;00m:\n\u001B[1;32m-> 1850\u001B[0m     \u001B[38;5;28;01mreturn\u001B[39;00m \u001B[38;5;28;43mself\u001B[39;49m\u001B[38;5;241;43m.\u001B[39;49m\u001B[43m_exec_single_context\u001B[49m\u001B[43m(\u001B[49m\n\u001B[0;32m   1851\u001B[0m \u001B[43m        \u001B[49m\u001B[43mdialect\u001B[49m\u001B[43m,\u001B[49m\u001B[43m \u001B[49m\u001B[43mcontext\u001B[49m\u001B[43m,\u001B[49m\u001B[43m \u001B[49m\u001B[43mstatement\u001B[49m\u001B[43m,\u001B[49m\u001B[43m \u001B[49m\u001B[43mparameters\u001B[49m\n\u001B[0;32m   1852\u001B[0m \u001B[43m    \u001B[49m\u001B[43m)\u001B[49m\n",
      "File \u001B[1;32m~\\Miniconda3\\lib\\site-packages\\sqlalchemy\\engine\\base.py:1990\u001B[0m, in \u001B[0;36mConnection._exec_single_context\u001B[1;34m(self, dialect, context, statement, parameters)\u001B[0m\n\u001B[0;32m   1987\u001B[0m     result \u001B[38;5;241m=\u001B[39m context\u001B[38;5;241m.\u001B[39m_setup_result_proxy()\n\u001B[0;32m   1989\u001B[0m \u001B[38;5;28;01mexcept\u001B[39;00m \u001B[38;5;167;01mBaseException\u001B[39;00m \u001B[38;5;28;01mas\u001B[39;00m e:\n\u001B[1;32m-> 1990\u001B[0m     \u001B[38;5;28;43mself\u001B[39;49m\u001B[38;5;241;43m.\u001B[39;49m\u001B[43m_handle_dbapi_exception\u001B[49m\u001B[43m(\u001B[49m\n\u001B[0;32m   1991\u001B[0m \u001B[43m        \u001B[49m\u001B[43me\u001B[49m\u001B[43m,\u001B[49m\u001B[43m \u001B[49m\u001B[43mstr_statement\u001B[49m\u001B[43m,\u001B[49m\u001B[43m \u001B[49m\u001B[43meffective_parameters\u001B[49m\u001B[43m,\u001B[49m\u001B[43m \u001B[49m\u001B[43mcursor\u001B[49m\u001B[43m,\u001B[49m\u001B[43m \u001B[49m\u001B[43mcontext\u001B[49m\n\u001B[0;32m   1992\u001B[0m \u001B[43m    \u001B[49m\u001B[43m)\u001B[49m\n\u001B[0;32m   1994\u001B[0m \u001B[38;5;28;01mreturn\u001B[39;00m result\n",
      "File \u001B[1;32m~\\Miniconda3\\lib\\site-packages\\sqlalchemy\\engine\\base.py:2357\u001B[0m, in \u001B[0;36mConnection._handle_dbapi_exception\u001B[1;34m(self, e, statement, parameters, cursor, context, is_sub_exec)\u001B[0m\n\u001B[0;32m   2355\u001B[0m \u001B[38;5;28;01melif\u001B[39;00m should_wrap:\n\u001B[0;32m   2356\u001B[0m     \u001B[38;5;28;01massert\u001B[39;00m sqlalchemy_exception \u001B[38;5;129;01mis\u001B[39;00m \u001B[38;5;129;01mnot\u001B[39;00m \u001B[38;5;28;01mNone\u001B[39;00m\n\u001B[1;32m-> 2357\u001B[0m     \u001B[38;5;28;01mraise\u001B[39;00m sqlalchemy_exception\u001B[38;5;241m.\u001B[39mwith_traceback(exc_info[\u001B[38;5;241m2\u001B[39m]) \u001B[38;5;28;01mfrom\u001B[39;00m \u001B[38;5;21;01me\u001B[39;00m\n\u001B[0;32m   2358\u001B[0m \u001B[38;5;28;01melse\u001B[39;00m:\n\u001B[0;32m   2359\u001B[0m     \u001B[38;5;28;01massert\u001B[39;00m exc_info[\u001B[38;5;241m1\u001B[39m] \u001B[38;5;129;01mis\u001B[39;00m \u001B[38;5;129;01mnot\u001B[39;00m \u001B[38;5;28;01mNone\u001B[39;00m\n",
      "File \u001B[1;32m~\\Miniconda3\\lib\\site-packages\\sqlalchemy\\engine\\base.py:1971\u001B[0m, in \u001B[0;36mConnection._exec_single_context\u001B[1;34m(self, dialect, context, statement, parameters)\u001B[0m\n\u001B[0;32m   1969\u001B[0m                 \u001B[38;5;28;01mbreak\u001B[39;00m\n\u001B[0;32m   1970\u001B[0m     \u001B[38;5;28;01mif\u001B[39;00m \u001B[38;5;129;01mnot\u001B[39;00m evt_handled:\n\u001B[1;32m-> 1971\u001B[0m         \u001B[38;5;28;43mself\u001B[39;49m\u001B[38;5;241;43m.\u001B[39;49m\u001B[43mdialect\u001B[49m\u001B[38;5;241;43m.\u001B[39;49m\u001B[43mdo_execute\u001B[49m\u001B[43m(\u001B[49m\n\u001B[0;32m   1972\u001B[0m \u001B[43m            \u001B[49m\u001B[43mcursor\u001B[49m\u001B[43m,\u001B[49m\u001B[43m \u001B[49m\u001B[43mstr_statement\u001B[49m\u001B[43m,\u001B[49m\u001B[43m \u001B[49m\u001B[43meffective_parameters\u001B[49m\u001B[43m,\u001B[49m\u001B[43m \u001B[49m\u001B[43mcontext\u001B[49m\n\u001B[0;32m   1973\u001B[0m \u001B[43m        \u001B[49m\u001B[43m)\u001B[49m\n\u001B[0;32m   1975\u001B[0m \u001B[38;5;28;01mif\u001B[39;00m \u001B[38;5;28mself\u001B[39m\u001B[38;5;241m.\u001B[39m_has_events \u001B[38;5;129;01mor\u001B[39;00m \u001B[38;5;28mself\u001B[39m\u001B[38;5;241m.\u001B[39mengine\u001B[38;5;241m.\u001B[39m_has_events:\n\u001B[0;32m   1976\u001B[0m     \u001B[38;5;28mself\u001B[39m\u001B[38;5;241m.\u001B[39mdispatch\u001B[38;5;241m.\u001B[39mafter_cursor_execute(\n\u001B[0;32m   1977\u001B[0m         \u001B[38;5;28mself\u001B[39m,\n\u001B[0;32m   1978\u001B[0m         cursor,\n\u001B[1;32m   (...)\u001B[0m\n\u001B[0;32m   1982\u001B[0m         context\u001B[38;5;241m.\u001B[39mexecutemany,\n\u001B[0;32m   1983\u001B[0m     )\n",
      "File \u001B[1;32m~\\Miniconda3\\lib\\site-packages\\sqlalchemy\\engine\\default.py:919\u001B[0m, in \u001B[0;36mDefaultDialect.do_execute\u001B[1;34m(self, cursor, statement, parameters, context)\u001B[0m\n\u001B[0;32m    918\u001B[0m \u001B[38;5;28;01mdef\u001B[39;00m \u001B[38;5;21mdo_execute\u001B[39m(\u001B[38;5;28mself\u001B[39m, cursor, statement, parameters, context\u001B[38;5;241m=\u001B[39m\u001B[38;5;28;01mNone\u001B[39;00m):\n\u001B[1;32m--> 919\u001B[0m     \u001B[43mcursor\u001B[49m\u001B[38;5;241;43m.\u001B[39;49m\u001B[43mexecute\u001B[49m\u001B[43m(\u001B[49m\u001B[43mstatement\u001B[49m\u001B[43m,\u001B[49m\u001B[43m \u001B[49m\u001B[43mparameters\u001B[49m\u001B[43m)\u001B[49m\n",
      "\u001B[1;31mOperationalError\u001B[0m: (psycopg2.OperationalError) server closed the connection unexpectedly\n\tThis probably means the server terminated abnormally\n\tbefore or while processing the request.\nserver closed the connection unexpectedly\n\tThis probably means the server terminated abnormally\n\tbefore or while processing the request.\n\n[SQL: SELECT pg_catalog.pg_class.relname \nFROM pg_catalog.pg_class JOIN pg_catalog.pg_namespace ON pg_catalog.pg_namespace.oid = pg_catalog.pg_class.relnamespace \nWHERE pg_catalog.pg_class.relname = %(table_name)s AND pg_catalog.pg_class.relkind = ANY (ARRAY[%(param_1)s, %(param_2)s, %(param_3)s, %(param_4)s, %(param_5)s]) AND pg_catalog.pg_namespace.nspname = %(nspname_1)s]\n[parameters: {'table_name': 'transfers_diff_stop_pt_4', 'param_1': 'r', 'param_2': 'p', 'param_3': 'f', 'param_4': 'v', 'param_5': 'm', 'nspname_1': 'pt_4_odirection_ostop_bymode'}]\n(Background on this error at: https://sqlalche.me/e/20/e3q8)"
     ]
    }
   ],
   "source": [
    "# Step 13 (optional): Set Geometry and Export to the DB\n",
    "transfers_diff_stop = gpd.GeoDataFrame(transfers_diff_stop,  geometry='geometry', crs='3006')\n",
    "transfers_diff_stop.to_postgis('transfers_diff_stop_pt_4', engine,\n",
    "                               schema='pt_4_odirection_ostop_bymode', if_exists ='replace')"
   ],
   "metadata": {
    "collapsed": false,
    "pycharm": {
     "name": "#%%\n"
    }
   }
  }
 ],
 "metadata": {
  "kernelspec": {
   "display_name": "Python 3",
   "language": "python",
   "name": "python3"
  },
  "language_info": {
   "codemirror_mode": {
    "name": "ipython",
    "version": 2
   },
   "file_extension": ".py",
   "mimetype": "text/x-python",
   "name": "python",
   "nbconvert_exporter": "python",
   "pygments_lexer": "ipython2",
   "version": "2.7.6"
  }
 },
 "nbformat": 4,
 "nbformat_minor": 0
}