{
 "cells": [
  {
   "cell_type": "markdown",
   "source": [
    "## Analytical_model"
   ],
   "metadata": {
    "collapsed": false,
    "pycharm": {
     "name": "#%% md\n"
    }
   }
  },
  {
   "cell_type": "markdown",
   "source": [
    "### Import libraries"
   ],
   "metadata": {
    "collapsed": false,
    "pycharm": {
     "name": "#%% md\n"
    }
   }
  },
  {
   "cell_type": "code",
   "execution_count": 1,
   "outputs": [],
   "source": [
    "import pandas as pd\n",
    "import geopandas as gpd\n",
    "from sqlalchemy import create_engine\n",
    "from sqlalchemy import text"
   ],
   "metadata": {
    "collapsed": false,
    "pycharm": {
     "name": "#%%\n"
    }
   }
  },
  {
   "cell_type": "markdown",
   "source": [
    "#### Create the connection with the DB"
   ],
   "metadata": {
    "collapsed": false,
    "pycharm": {
     "name": "#%% md\n"
    }
   }
  },
  {
   "cell_type": "code",
   "execution_count": 3,
   "outputs": [],
   "source": [
    "# Step 1: Create the connection with the DB\n",
    "engine = create_engine(\"postgresql://urbaninfo:@cirrus.ita.chalmers.se/se_tuptp\")\n",
    "conn = engine.connect()"
   ],
   "metadata": {
    "collapsed": false,
    "pycharm": {
     "name": "#%%\n"
    }
   }
  },
  {
   "cell_type": "code",
   "execution_count": 4,
   "outputs": [],
   "source": [
    "# Step 2: Create a new schema when it is necessary\n",
    "#schema = '''CREATE SCHEMA name_schema'''\n",
    "#conn.execute(schema)"
   ],
   "metadata": {
    "collapsed": false,
    "pycharm": {
     "name": "#%%\n"
    }
   }
  },
  {
   "cell_type": "markdown",
   "source": [
    "#### Multimodal_public_transport_model"
   ],
   "metadata": {
    "collapsed": false,
    "pycharm": {
     "name": "#%% md\n"
    }
   }
  },
  {
   "cell_type": "code",
   "execution_count": 7,
   "outputs": [],
   "source": [
    "# Step 1: Import data\n",
    "# In this case, the inputs are the outputs of the folder 'pt_4_one_direction_stops_by_name_links_by_mode'.\n",
    "# These are being used as an example; however, this code serves to create the model of any multimodal public transport network that you can find in the folder '1 - Notebooks_multimodal_models'.\n",
    "# Links\n",
    "links_pt_4_query = text('SELECT * FROM pt_4_odirection_ostop_bymode.links_pt_4')\n",
    "links_pt_4 = gpd.read_postgis(links_pt_4_query, con=engine.connect(), geom_col='geometry')\n",
    "\n",
    "# Transfers same stop\n",
    "transfers_same_stops_pt_4_query = text('SELECT * FROM pt_4_odirection_ostop_bymode.transfers_same_stop_pt_4')\n",
    "transfers_same_stops_pt_4 = gpd.read_postgis(transfers_same_stops_pt_4_query, con=engine.connect(), geom_col='geometry')\n",
    "\n",
    "# Transfers different stops\n",
    "transfers_diff_stops_pt_4_query = text('SELECT * FROM pt_4_odirection_ostop_bymode.transfers_diff_stop_pt_4')\n",
    "transfers_diff_stops_pt_4 = gpd.read_postgis(transfers_diff_stops_pt_4_query, con=engine.connect(), geom_col='geometry')"
   ],
   "metadata": {
    "collapsed": false,
    "pycharm": {
     "name": "#%%\n"
    }
   }
  },
  {
   "cell_type": "markdown",
   "source": [
    "### Links"
   ],
   "metadata": {
    "collapsed": false,
    "pycharm": {
     "name": "#%% md\n"
    }
   }
  },
  {
   "cell_type": "code",
   "execution_count": 10,
   "outputs": [
    {
     "data": {
      "text/plain": "                                          source  \\\n0           Bäckängsskolan_307955489_bus_service   \n1  Södra Älvsborgs sjukhus_307955489_bus_service   \n2         Borealis kracker_307980814_bus_service   \n3               Jordhammar_307980814_bus_service   \n4                    Badet_307959538_bus_service   \n\n                                 target  time_distance  \\\n0  7:e Villagatan_307955489_bus_service          109.0   \n1  7:e Villagatan_307955489_bus_service           86.0   \n2  AGA Vattenfall_307980814_bus_service           27.0   \n3  AGA Vattenfall_307980814_bus_service           97.0   \n4    Abrahamstorp_307959538_bus_service           82.0   \n\n                                            geometry  \n0  LINESTRING (377826.942 6399466.436, 378291.977...  \n1  LINESTRING (378640.599 6399758.434, 378291.977...  \n2  LINESTRING (313106.978 6442246.408, 313191.955...  \n3  LINESTRING (314079.488 6444139.918, 313191.955...  \n4  LINESTRING (372200.947 6448247.439, 371017.481...  ",
      "text/html": "<div>\n<style scoped>\n    .dataframe tbody tr th:only-of-type {\n        vertical-align: middle;\n    }\n\n    .dataframe tbody tr th {\n        vertical-align: top;\n    }\n\n    .dataframe thead th {\n        text-align: right;\n    }\n</style>\n<table border=\"1\" class=\"dataframe\">\n  <thead>\n    <tr style=\"text-align: right;\">\n      <th></th>\n      <th>source</th>\n      <th>target</th>\n      <th>time_distance</th>\n      <th>geometry</th>\n    </tr>\n  </thead>\n  <tbody>\n    <tr>\n      <th>0</th>\n      <td>Bäckängsskolan_307955489_bus_service</td>\n      <td>7:e Villagatan_307955489_bus_service</td>\n      <td>109.0</td>\n      <td>LINESTRING (377826.942 6399466.436, 378291.977...</td>\n    </tr>\n    <tr>\n      <th>1</th>\n      <td>Södra Älvsborgs sjukhus_307955489_bus_service</td>\n      <td>7:e Villagatan_307955489_bus_service</td>\n      <td>86.0</td>\n      <td>LINESTRING (378640.599 6399758.434, 378291.977...</td>\n    </tr>\n    <tr>\n      <th>2</th>\n      <td>Borealis kracker_307980814_bus_service</td>\n      <td>AGA Vattenfall_307980814_bus_service</td>\n      <td>27.0</td>\n      <td>LINESTRING (313106.978 6442246.408, 313191.955...</td>\n    </tr>\n    <tr>\n      <th>3</th>\n      <td>Jordhammar_307980814_bus_service</td>\n      <td>AGA Vattenfall_307980814_bus_service</td>\n      <td>97.0</td>\n      <td>LINESTRING (314079.488 6444139.918, 313191.955...</td>\n    </tr>\n    <tr>\n      <th>4</th>\n      <td>Badet_307959538_bus_service</td>\n      <td>Abrahamstorp_307959538_bus_service</td>\n      <td>82.0</td>\n      <td>LINESTRING (372200.947 6448247.439, 371017.481...</td>\n    </tr>\n  </tbody>\n</table>\n</div>"
     },
     "execution_count": 10,
     "metadata": {},
     "output_type": "execute_result"
    }
   ],
   "source": [
    "# To create the analytical model, it is necessary to choose which frequency, meaning the time of day and which day to select.\n",
    "# In this example, the frequencies of Monday morning are being used.\n",
    "\n",
    "# Step 2: Filter the necessary columns of the links table\n",
    "# The essential columns required to create the analytical model are always the 'source', the 'target', the weight column (in this case, 'time_distance'), and the geometry column.\n",
    "links_pt_4_monday_morning = links_pt_4[[\n",
    "    'source', 'target', 'time_distance', 'geometry'\n",
    "]]\n",
    "\n",
    "# Step 3: Display the results\n",
    "links_pt_4_monday_morning.head()"
   ],
   "metadata": {
    "collapsed": false,
    "pycharm": {
     "name": "#%%\n"
    }
   }
  },
  {
   "cell_type": "markdown",
   "source": [
    "### Transfers same stop"
   ],
   "metadata": {
    "collapsed": false,
    "pycharm": {
     "name": "#%% md\n"
    }
   }
  },
  {
   "cell_type": "code",
   "execution_count": 11,
   "outputs": [
    {
     "data": {
      "text/plain": "                                 source                                target  \\\n0  7:e Villagatan_307955489_bus_service                        7:e Villagatan   \n1                        7:e Villagatan  7:e Villagatan_307955489_bus_service   \n2  AGA Vattenfall_307980814_bus_service                        AGA Vattenfall   \n3                        AGA Vattenfall  AGA Vattenfall_307980814_bus_service   \n4    Abrahamstorp_307959538_bus_service                          Abrahamstorp   \n\n   time_distance                        geometry  \n0            NaN  POINT (378291.977 6399668.440)  \n1     284.210526  POINT (378291.977 6399668.440)  \n2            NaN  POINT (313191.955 6442732.480)  \n3            NaN  POINT (313191.955 6442732.480)  \n4            NaN  POINT (371017.481 6448504.455)  ",
      "text/html": "<div>\n<style scoped>\n    .dataframe tbody tr th:only-of-type {\n        vertical-align: middle;\n    }\n\n    .dataframe tbody tr th {\n        vertical-align: top;\n    }\n\n    .dataframe thead th {\n        text-align: right;\n    }\n</style>\n<table border=\"1\" class=\"dataframe\">\n  <thead>\n    <tr style=\"text-align: right;\">\n      <th></th>\n      <th>source</th>\n      <th>target</th>\n      <th>time_distance</th>\n      <th>geometry</th>\n    </tr>\n  </thead>\n  <tbody>\n    <tr>\n      <th>0</th>\n      <td>7:e Villagatan_307955489_bus_service</td>\n      <td>7:e Villagatan</td>\n      <td>NaN</td>\n      <td>POINT (378291.977 6399668.440)</td>\n    </tr>\n    <tr>\n      <th>1</th>\n      <td>7:e Villagatan</td>\n      <td>7:e Villagatan_307955489_bus_service</td>\n      <td>284.210526</td>\n      <td>POINT (378291.977 6399668.440)</td>\n    </tr>\n    <tr>\n      <th>2</th>\n      <td>AGA Vattenfall_307980814_bus_service</td>\n      <td>AGA Vattenfall</td>\n      <td>NaN</td>\n      <td>POINT (313191.955 6442732.480)</td>\n    </tr>\n    <tr>\n      <th>3</th>\n      <td>AGA Vattenfall</td>\n      <td>AGA Vattenfall_307980814_bus_service</td>\n      <td>NaN</td>\n      <td>POINT (313191.955 6442732.480)</td>\n    </tr>\n    <tr>\n      <th>4</th>\n      <td>Abrahamstorp_307959538_bus_service</td>\n      <td>Abrahamstorp</td>\n      <td>NaN</td>\n      <td>POINT (371017.481 6448504.455)</td>\n    </tr>\n  </tbody>\n</table>\n</div>"
     },
     "execution_count": 11,
     "metadata": {},
     "output_type": "execute_result"
    }
   ],
   "source": [
    "# Step 4: Filter the necessary columns of the transfers on the same stop table\n",
    "# The essential columns required to create the analytical model are always the 'source', the 'target', the weight column (in this case, 'frequency_monday_morning'), and the geometry column.\n",
    "transfers_same_stops_pt_4_monday_morning = transfers_same_stops_pt_4[[\n",
    "    'source', 'target', 'freq_monday_morning', 'geometry'\n",
    "]].rename(columns={\n",
    "    'freq_monday_morning':'time_distance'\n",
    "}) # Rename the 'frequency column' with the same name as the weight of the links table (in this case 'time_distance')\n",
    "\n",
    "# Step 5: Divide the frequency by 2, to get an avarega of the waiting time\n",
    "transfers_same_stops_pt_4_monday_morning ['time_distance'] = transfers_same_stops_pt_4_monday_morning.time_distance/2\n",
    "\n",
    "# Step 6: Display the results\n",
    "transfers_same_stops_pt_4_monday_morning.head()"
   ],
   "metadata": {
    "collapsed": false,
    "pycharm": {
     "name": "#%%\n"
    }
   }
  },
  {
   "cell_type": "markdown",
   "source": [
    "### Transfers different stops"
   ],
   "metadata": {
    "collapsed": false,
    "pycharm": {
     "name": "#%% md\n"
    }
   }
  },
  {
   "cell_type": "code",
   "execution_count": 13,
   "outputs": [
    {
     "data": {
      "text/plain": "             source              target  time_distance  \\\n0           Agerhus            Jordbron     104.669683   \n1     Alekärrsgatan       Dickson Södra     100.326659   \n2  Alingsås station  Alingsåsterminalen     110.230024   \n3         Allégatan        Södra torget      81.020264   \n4         Allégatan           Åsbogatan      40.696182   \n\n                                            geometry  \n0  LINESTRING (324621.469 6533086.938, 324604.463...  \n1  LINESTRING (321849.955 6403991.951, 321732.984...  \n2  LINESTRING (353851.639 6423238.954, 353723.969...  \n3  LINESTRING (377468.217 6399358.673, 377421.472...  \n4  LINESTRING (377468.217 6399358.673, 377515.487...  ",
      "text/html": "<div>\n<style scoped>\n    .dataframe tbody tr th:only-of-type {\n        vertical-align: middle;\n    }\n\n    .dataframe tbody tr th {\n        vertical-align: top;\n    }\n\n    .dataframe thead th {\n        text-align: right;\n    }\n</style>\n<table border=\"1\" class=\"dataframe\">\n  <thead>\n    <tr style=\"text-align: right;\">\n      <th></th>\n      <th>source</th>\n      <th>target</th>\n      <th>time_distance</th>\n      <th>geometry</th>\n    </tr>\n  </thead>\n  <tbody>\n    <tr>\n      <th>0</th>\n      <td>Agerhus</td>\n      <td>Jordbron</td>\n      <td>104.669683</td>\n      <td>LINESTRING (324621.469 6533086.938, 324604.463...</td>\n    </tr>\n    <tr>\n      <th>1</th>\n      <td>Alekärrsgatan</td>\n      <td>Dickson Södra</td>\n      <td>100.326659</td>\n      <td>LINESTRING (321849.955 6403991.951, 321732.984...</td>\n    </tr>\n    <tr>\n      <th>2</th>\n      <td>Alingsås station</td>\n      <td>Alingsåsterminalen</td>\n      <td>110.230024</td>\n      <td>LINESTRING (353851.639 6423238.954, 353723.969...</td>\n    </tr>\n    <tr>\n      <th>3</th>\n      <td>Allégatan</td>\n      <td>Södra torget</td>\n      <td>81.020264</td>\n      <td>LINESTRING (377468.217 6399358.673, 377421.472...</td>\n    </tr>\n    <tr>\n      <th>4</th>\n      <td>Allégatan</td>\n      <td>Åsbogatan</td>\n      <td>40.696182</td>\n      <td>LINESTRING (377468.217 6399358.673, 377515.487...</td>\n    </tr>\n  </tbody>\n</table>\n</div>"
     },
     "execution_count": 13,
     "metadata": {},
     "output_type": "execute_result"
    }
   ],
   "source": [
    "# Step 7: Filter the necessary columns of the transfers in between different stops\n",
    "# The essential columns required to create the analytical model are always the 'source', the 'target', the weight column (in this case, 'time_distance', walking time), and the geometry column.\n",
    "transfers_diff_stops_pt_4_monday_morning = transfers_diff_stops_pt_4[[\n",
    "    'source', 'target', 'time_distance', 'geometry'\n",
    "]]\n",
    "\n",
    "# Step 8: Display the results\n",
    "transfers_diff_stops_pt_4_monday_morning.head()"
   ],
   "metadata": {
    "collapsed": false,
    "pycharm": {
     "name": "#%%\n"
    }
   }
  },
  {
   "cell_type": "markdown",
   "source": [
    "### Model"
   ],
   "metadata": {
    "collapsed": false,
    "pycharm": {
     "name": "#%% md\n"
    }
   }
  },
  {
   "cell_type": "code",
   "execution_count": 14,
   "outputs": [
    {
     "data": {
      "text/plain": "                                          source  \\\n0           Bäckängsskolan_307955489_bus_service   \n1  Södra Älvsborgs sjukhus_307955489_bus_service   \n2         Borealis kracker_307980814_bus_service   \n3               Jordhammar_307980814_bus_service   \n4                    Badet_307959538_bus_service   \n\n                                 target  time_distance  \\\n0  7:e Villagatan_307955489_bus_service          109.0   \n1  7:e Villagatan_307955489_bus_service           86.0   \n2  AGA Vattenfall_307980814_bus_service           27.0   \n3  AGA Vattenfall_307980814_bus_service           97.0   \n4    Abrahamstorp_307959538_bus_service           82.0   \n\n                                            geometry  \n0  LINESTRING (377826.942 6399466.436, 378291.977...  \n1  LINESTRING (378640.599 6399758.434, 378291.977...  \n2  LINESTRING (313106.978 6442246.408, 313191.955...  \n3  LINESTRING (314079.488 6444139.918, 313191.955...  \n4  LINESTRING (372200.947 6448247.439, 371017.481...  ",
      "text/html": "<div>\n<style scoped>\n    .dataframe tbody tr th:only-of-type {\n        vertical-align: middle;\n    }\n\n    .dataframe tbody tr th {\n        vertical-align: top;\n    }\n\n    .dataframe thead th {\n        text-align: right;\n    }\n</style>\n<table border=\"1\" class=\"dataframe\">\n  <thead>\n    <tr style=\"text-align: right;\">\n      <th></th>\n      <th>source</th>\n      <th>target</th>\n      <th>time_distance</th>\n      <th>geometry</th>\n    </tr>\n  </thead>\n  <tbody>\n    <tr>\n      <th>0</th>\n      <td>Bäckängsskolan_307955489_bus_service</td>\n      <td>7:e Villagatan_307955489_bus_service</td>\n      <td>109.0</td>\n      <td>LINESTRING (377826.942 6399466.436, 378291.977...</td>\n    </tr>\n    <tr>\n      <th>1</th>\n      <td>Södra Älvsborgs sjukhus_307955489_bus_service</td>\n      <td>7:e Villagatan_307955489_bus_service</td>\n      <td>86.0</td>\n      <td>LINESTRING (378640.599 6399758.434, 378291.977...</td>\n    </tr>\n    <tr>\n      <th>2</th>\n      <td>Borealis kracker_307980814_bus_service</td>\n      <td>AGA Vattenfall_307980814_bus_service</td>\n      <td>27.0</td>\n      <td>LINESTRING (313106.978 6442246.408, 313191.955...</td>\n    </tr>\n    <tr>\n      <th>3</th>\n      <td>Jordhammar_307980814_bus_service</td>\n      <td>AGA Vattenfall_307980814_bus_service</td>\n      <td>97.0</td>\n      <td>LINESTRING (314079.488 6444139.918, 313191.955...</td>\n    </tr>\n    <tr>\n      <th>4</th>\n      <td>Badet_307959538_bus_service</td>\n      <td>Abrahamstorp_307959538_bus_service</td>\n      <td>82.0</td>\n      <td>LINESTRING (372200.947 6448247.439, 371017.481...</td>\n    </tr>\n  </tbody>\n</table>\n</div>"
     },
     "execution_count": 14,
     "metadata": {},
     "output_type": "execute_result"
    }
   ],
   "source": [
    "# Step 9: Concatenate the tables in order of generate the analitical model\n",
    "pt_4_monday_morning_model = pd.concat([\n",
    "    links_pt_4_monday_morning, transfers_diff_stops_pt_4_monday_morning, transfers_same_stops_pt_4_monday_morning],\n",
    "    ignore_index=True)\n",
    "\n",
    "# Step 10: Display the results\n",
    "pt_4_monday_morning_model.head()"
   ],
   "metadata": {
    "collapsed": false,
    "pycharm": {
     "name": "#%%\n"
    }
   }
  },
  {
   "cell_type": "code",
   "execution_count": 11,
   "outputs": [],
   "source": [
    "# Step 11: Set geometry and export to the DB\n",
    "pt_4_monday_morning_model = gpd.GeoDataFrame(pt_4_monday_morning_model, geometry='geometry', crs='3006')\n",
    "pt_4_monday_morning_model.to_postgis('pt_4_monday_morning_model', engine, schema='pt_4_odirection_ostop_bymode', if_exists ='replace')"
   ],
   "metadata": {
    "collapsed": false,
    "pycharm": {
     "name": "#%%\n"
    }
   }
  }
 ],
 "metadata": {
  "kernelspec": {
   "display_name": "Python 3",
   "language": "python",
   "name": "python3"
  },
  "language_info": {
   "codemirror_mode": {
    "name": "ipython",
    "version": 2
   },
   "file_extension": ".py",
   "mimetype": "text/x-python",
   "name": "python",
   "nbconvert_exporter": "python",
   "pygments_lexer": "ipython2",
   "version": "2.7.6"
  }
 },
 "nbformat": 4,
 "nbformat_minor": 0
}