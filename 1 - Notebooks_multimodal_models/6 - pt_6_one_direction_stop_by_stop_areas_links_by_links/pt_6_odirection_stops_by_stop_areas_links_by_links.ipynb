{
 "cells": [
  {
   "cell_type": "markdown",
   "source": [
    "## Nodes_by_areas_links_by_links"
   ],
   "metadata": {
    "collapsed": false,
    "pycharm": {
     "name": "#%% md\n"
    }
   }
  },
  {
   "cell_type": "markdown",
   "source": [
    "### Import libraries"
   ],
   "metadata": {
    "collapsed": false,
    "pycharm": {
     "name": "#%% md\n"
    }
   }
  },
  {
   "cell_type": "code",
   "execution_count": 1,
   "outputs": [],
   "source": [
    "#import libraries\n",
    "import pandas as pd\n",
    "import geopandas as gpd\n",
    "from sqlalchemy import create_engine\n",
    "from sqlalchemy import text\n",
    "from shapely.geometry import LineString, Point\n",
    "from shapely.ops import unary_union"
   ],
   "metadata": {
    "collapsed": false,
    "pycharm": {
     "name": "#%%\n"
    }
   }
  },
  {
   "cell_type": "markdown",
   "source": [
    "#### Create the connection with the DB"
   ],
   "metadata": {
    "collapsed": false,
    "pycharm": {
     "name": "#%% md\n"
    }
   }
  },
  {
   "cell_type": "code",
   "execution_count": 2,
   "outputs": [],
   "source": [
    "# Step 1: Create the connection with the DB\n",
    "engine = create_engine(\"postgresql://urbaninfo:@cirrus.ita.chalmers.se/se_tuptp\")\n",
    "conn = engine.connect()"
   ],
   "metadata": {
    "collapsed": false,
    "pycharm": {
     "name": "#%%\n"
    }
   }
  },
  {
   "cell_type": "code",
   "execution_count": 3,
   "outputs": [],
   "source": [
    "# Step 2: Create a new schema when it is necessary\n",
    "#schema = '''CREATE SCHEMA name_schema'''\n",
    "#conn.execute(schema)"
   ],
   "metadata": {
    "collapsed": false,
    "pycharm": {
     "name": "#%%\n"
    }
   }
  },
  {
   "cell_type": "markdown",
   "source": [
    "### Nodes"
   ],
   "metadata": {
    "collapsed": false,
    "pycharm": {
     "name": "#%% md\n"
    }
   }
  },
  {
   "cell_type": "code",
   "execution_count": 4,
   "outputs": [],
   "source": [
    "# Import Data\n",
    "# Step 0: Import Data\n",
    "nodes_pt_1_query = text('SELECT * FROM pt_1_mdirections_mstops_mroutes.nodes_pt_1')\n",
    "nodes_pt_1 = gpd.read_postgis(nodes_pt_1_query, engine, geom_col='geometry')"
   ],
   "metadata": {
    "collapsed": false,
    "pycharm": {
     "name": "#%%\n"
    }
   }
  },
  {
   "cell_type": "code",
   "execution_count": 5,
   "outputs": [
    {
     "data": {
      "text/plain": "            stop_name   place_id  \\\n0      7:e Villagatan  307955489   \n1      AGA Vattenfall  307980814   \n2        Abrahamstorp  307959538   \n3            Acklinga  307927983   \n4  Acklinga Solbacken  307927983   \n\n                                            route_id  \\\n0  [9011014200300000, 9011014200500000, 901101420...   \n1  [9011014633100000, 9011014633400000, 901101463...   \n2  [9011014366300000, 9011014658100000, 901101436...   \n3  [9011014330300000, 9011014332700000, 901101438...   \n4               [9011014384000000, 9011014332600000]   \n\n                  route_short_name  \\\n0         [3, 5, 8, 1, 3, 5, 8, 1]   \n1  [331, 334, 4, 932, 331, 334, 4]   \n2                  [663, 581, 663]   \n3        [303, 327, 327, 303, 327]   \n4                       [326, 326]   \n\n                                             stop_id  \\\n0  [9022014082785001, 9022014082785001, 902201408...   \n1  [9022014015161001, 9022014015161001, 902201401...   \n2  [9022014046020001, 9022014046020001, 902201404...   \n3  [9022014042120001, 9022014042120001, 902201404...   \n4               [9022014042270001, 9022014042270002]   \n\n               direction_id  \\\n0  [0, 1, 0, 0, 1, 0, 1, 1]   \n1     [0, 0, 1, 1, 1, 1, 0]   \n2                 [1, 1, 0]   \n3           [1, 1, 0, 0, 0]   \n4                    [1, 1]   \n\n                                                mode  \\\n0  [bus_service, bus_service, bus_service, bus_se...   \n1  [bus_service, bus_service, bus_service, bus_se...   \n2  [communal_taxi_service, bus_service, communal_...   \n3  [bus_service, bus_service, communal_taxi_servi...   \n4               [communal_taxi_service, bus_service]   \n\n                                               osmid  \\\n0  [87793055.0, 87793055.0, 87793055.0, 87793055....   \n1  [1021141732.0, 1021141732.0, 1021141732.0, 102...   \n2            [173516827.0, 173516827.0, 835571452.0]   \n3  [19804825.0, 19804825.0, 19804825.0, 19804825....   \n4                       [1008032531.0, 1008032531.0]   \n\n                         geometry  \n0  POINT (378291.977 6399668.440)  \n1  POINT (313191.955 6442732.480)  \n2  POINT (371017.481 6448504.455)  \n3  POINT (434427.979 6451013.415)  \n4  POINT (434327.469 6451981.944)  ",
      "text/html": "<div>\n<style scoped>\n    .dataframe tbody tr th:only-of-type {\n        vertical-align: middle;\n    }\n\n    .dataframe tbody tr th {\n        vertical-align: top;\n    }\n\n    .dataframe thead th {\n        text-align: right;\n    }\n</style>\n<table border=\"1\" class=\"dataframe\">\n  <thead>\n    <tr style=\"text-align: right;\">\n      <th></th>\n      <th>stop_name</th>\n      <th>place_id</th>\n      <th>route_id</th>\n      <th>route_short_name</th>\n      <th>stop_id</th>\n      <th>direction_id</th>\n      <th>mode</th>\n      <th>osmid</th>\n      <th>geometry</th>\n    </tr>\n  </thead>\n  <tbody>\n    <tr>\n      <th>0</th>\n      <td>7:e Villagatan</td>\n      <td>307955489</td>\n      <td>[9011014200300000, 9011014200500000, 901101420...</td>\n      <td>[3, 5, 8, 1, 3, 5, 8, 1]</td>\n      <td>[9022014082785001, 9022014082785001, 902201408...</td>\n      <td>[0, 1, 0, 0, 1, 0, 1, 1]</td>\n      <td>[bus_service, bus_service, bus_service, bus_se...</td>\n      <td>[87793055.0, 87793055.0, 87793055.0, 87793055....</td>\n      <td>POINT (378291.977 6399668.440)</td>\n    </tr>\n    <tr>\n      <th>1</th>\n      <td>AGA Vattenfall</td>\n      <td>307980814</td>\n      <td>[9011014633100000, 9011014633400000, 901101463...</td>\n      <td>[331, 334, 4, 932, 331, 334, 4]</td>\n      <td>[9022014015161001, 9022014015161001, 902201401...</td>\n      <td>[0, 0, 1, 1, 1, 1, 0]</td>\n      <td>[bus_service, bus_service, bus_service, bus_se...</td>\n      <td>[1021141732.0, 1021141732.0, 1021141732.0, 102...</td>\n      <td>POINT (313191.955 6442732.480)</td>\n    </tr>\n    <tr>\n      <th>2</th>\n      <td>Abrahamstorp</td>\n      <td>307959538</td>\n      <td>[9011014366300000, 9011014658100000, 901101436...</td>\n      <td>[663, 581, 663]</td>\n      <td>[9022014046020001, 9022014046020001, 902201404...</td>\n      <td>[1, 1, 0]</td>\n      <td>[communal_taxi_service, bus_service, communal_...</td>\n      <td>[173516827.0, 173516827.0, 835571452.0]</td>\n      <td>POINT (371017.481 6448504.455)</td>\n    </tr>\n    <tr>\n      <th>3</th>\n      <td>Acklinga</td>\n      <td>307927983</td>\n      <td>[9011014330300000, 9011014332700000, 901101438...</td>\n      <td>[303, 327, 327, 303, 327]</td>\n      <td>[9022014042120001, 9022014042120001, 902201404...</td>\n      <td>[1, 1, 0, 0, 0]</td>\n      <td>[bus_service, bus_service, communal_taxi_servi...</td>\n      <td>[19804825.0, 19804825.0, 19804825.0, 19804825....</td>\n      <td>POINT (434427.979 6451013.415)</td>\n    </tr>\n    <tr>\n      <th>4</th>\n      <td>Acklinga Solbacken</td>\n      <td>307927983</td>\n      <td>[9011014384000000, 9011014332600000]</td>\n      <td>[326, 326]</td>\n      <td>[9022014042270001, 9022014042270002]</td>\n      <td>[1, 1]</td>\n      <td>[communal_taxi_service, bus_service]</td>\n      <td>[1008032531.0, 1008032531.0]</td>\n      <td>POINT (434327.469 6451981.944)</td>\n    </tr>\n  </tbody>\n</table>\n</div>"
     },
     "execution_count": 5,
     "metadata": {},
     "output_type": "execute_result"
    }
   ],
   "source": [
    "# Preprocess the data\n",
    "# Step 1: Copy the original DataFrame\n",
    "nodes_pt_6_l1 = nodes_pt_1.copy()\n",
    "\n",
    "# Step 2: Aggregate functions for node grouping\n",
    "agg_func_node = {\n",
    "    'route_id': list,\n",
    "    'route_short_name': list,\n",
    "    'stop_id': list,\n",
    "    'direction_id': list,\n",
    "    'mode': list,\n",
    "    'osmid': list,\n",
    "    'geometry': lambda g: Point(unary_union(g).centroid.x, unary_union(g).centroid.y)\n",
    "}\n",
    "nodes_pt_6_l2 = nodes_pt_6_l1.groupby(['stop_name', 'place_id']).agg(agg_func_node).reset_index()\n",
    "\n",
    "# Step 3: Set Geometry\n",
    "nodes_pt_6_l2 = gpd.GeoDataFrame(nodes_pt_6_l2, geometry='geometry', crs='EPSG:3006')\n",
    "\n",
    "# Step 4: Display the results\n",
    "nodes_pt_6_l2.head()"
   ],
   "metadata": {
    "collapsed": false,
    "pycharm": {
     "name": "#%%\n"
    }
   }
  },
  {
   "cell_type": "code",
   "execution_count": 6,
   "outputs": [],
   "source": [
    "# Step 5: Create buffer zones\n",
    "nodes_pt_6_l2 ['buffer'] = nodes_pt_6_l2.geometry.buffer(85)\n",
    "nodes_pt_6_l2 = nodes_pt_6_l2.set_geometry('buffer', crs='epsg:3006')"
   ],
   "metadata": {
    "collapsed": false,
    "pycharm": {
     "name": "#%%\n"
    }
   }
  },
  {
   "cell_type": "code",
   "execution_count": 7,
   "outputs": [],
   "source": [
    "# Step 6: Create unary union GeoDataFrame\n",
    "nodes_pt_6_l2_unary_union_buffer = gpd.GeoDataFrame(\n",
    "    geometry=[nodes_pt_6_l2.unary_union], crs='epsg:3006'\n",
    ").explode(index_parts=True).reset_index(drop=True)\n",
    "\n",
    "# Step 7: Assign buffer IDs\n",
    "nodes_pt_6_l2_unary_union_buffer['buffer_id'] = nodes_pt_6_l2_unary_union_buffer.index"
   ],
   "metadata": {
    "collapsed": false,
    "pycharm": {
     "name": "#%%\n"
    }
   }
  },
  {
   "cell_type": "code",
   "execution_count": 8,
   "outputs": [],
   "source": [
    "# Step 8: Perform spatial join\n",
    "nodes_pt_6_l2_spatial_join = (\n",
    "    gpd.sjoin(nodes_pt_6_l2_unary_union_buffer, nodes_pt_6_l2, how='inner', predicate='intersects')\n",
    "    .reset_index(drop=True)\n",
    "    .rename(columns={'geometry_left': 'geometry_buffer', 'geometry_right': 'geometry'})\n",
    ")"
   ],
   "metadata": {
    "collapsed": false,
    "pycharm": {
     "name": "#%%\n"
    }
   }
  },
  {
   "cell_type": "code",
   "execution_count": 9,
   "outputs": [],
   "source": [
    "# Step 9: Explode modes\n",
    "nodes_pt_6_l2_exploded_modes = nodes_pt_6_l2_spatial_join.explode('mode').drop_duplicates(['stop_name', 'place_id', 'mode'])\n",
    "\n",
    "# Step 10: Count modes by buffer and merge the mode count in the nodes table\n",
    "nodes_pt_6_l2_mode_count = nodes_pt_6_l2_exploded_modes.groupby('buffer_id')['mode'].nunique().reset_index(name='mode_count')\n",
    "nodes_pt_6_l2_mode_count_merged = pd.merge(nodes_pt_6_l2_exploded_modes, nodes_pt_6_l2_mode_count, on='buffer_id', how='inner')"
   ],
   "metadata": {
    "collapsed": false,
    "pycharm": {
     "name": "#%%\n"
    }
   }
  },
  {
   "cell_type": "code",
   "execution_count": 10,
   "outputs": [],
   "source": [
    "# Step 11: Create tables with stops having more than one mode and with only one mode\n",
    "nodes_pt_6_l2_multi_modes = nodes_pt_6_l2_mode_count_merged[nodes_pt_6_l2_mode_count_merged.mode_count > 1]\n",
    "nodes_pt_6_l2_one_mode = nodes_pt_6_l2_mode_count_merged[nodes_pt_6_l2_mode_count_merged.mode_count == 1]"
   ],
   "metadata": {
    "collapsed": false,
    "pycharm": {
     "name": "#%%\n"
    }
   }
  },
  {
   "cell_type": "code",
   "execution_count": 11,
   "outputs": [],
   "source": [
    "# Step 12: Rename buffers by most recurrent stop name\n",
    "nodes_pt_6_l2_stop_areas_name = nodes_pt_6_l2_multi_modes.groupby('buffer_id').agg({'stop_name': lambda x: x.mode().iloc[0]}).reset_index()"
   ],
   "metadata": {
    "collapsed": false,
    "pycharm": {
     "name": "#%%\n"
    }
   }
  },
  {
   "cell_type": "code",
   "execution_count": 12,
   "outputs": [],
   "source": [
    "# Step 13: Merge new names with multi-mode buffers\n",
    "nodes_pt_6_l2_stop_areas_name_multi_modes = pd.merge(\n",
    "    nodes_pt_6_l2_multi_modes[['buffer_id', 'stop_name', 'place_id', 'mode', 'geometry_buffer']],\n",
    "    nodes_pt_6_l2_stop_areas_name, on='buffer_id', how='inner'\n",
    ").rename(columns={'stop_name_x': 'stop_name', 'stop_name_y': 'stop_areas_name'})"
   ],
   "metadata": {
    "collapsed": false,
    "pycharm": {
     "name": "#%%\n"
    }
   }
  },
  {
   "cell_type": "code",
   "execution_count": 13,
   "outputs": [],
   "source": [
    "# Step 14: Create centroids of buffers\n",
    "nodes_pt_6_l2_stop_areas_centroids = gpd.GeoDataFrame(nodes_pt_6_l2_stop_areas_name_multi_modes, geometry='geometry_buffer', crs='EPSG:3006')\n",
    "nodes_pt_6_l2_stop_areas_centroids ['geometry'] = nodes_pt_6_l2_stop_areas_centroids.geometry.centroid"
   ],
   "metadata": {
    "collapsed": false,
    "pycharm": {
     "name": "#%%\n"
    }
   }
  },
  {
   "cell_type": "code",
   "execution_count": 15,
   "outputs": [],
   "source": [
    "# Step 15: Merge multi-mode buffers with one-mode table\n",
    "nodes_pt_6_l2_one_mode.loc[:,'stop_areas_name'] = nodes_pt_6_l2_one_mode['stop_name']\n",
    "nodes_pt_6_l3 = pd.merge(\n",
    "    nodes_pt_6_l2_one_mode[['stop_areas_name', 'stop_name', 'place_id', 'mode', 'geometry']],\n",
    "    nodes_pt_6_l2_stop_areas_centroids,\n",
    "    on=['stop_areas_name', 'stop_name', 'place_id', 'mode', 'geometry'],\n",
    "    how='outer'\n",
    ")"
   ],
   "metadata": {
    "collapsed": false,
    "pycharm": {
     "name": "#%%\n"
    }
   }
  },
  {
   "cell_type": "code",
   "execution_count": 16,
   "outputs": [
    {
     "data": {
      "text/plain": "  stop_areas_name       stop_name   place_id         mode  \\\n0  7:e Villagatan  7:e Villagatan  307955489  bus_service   \n1  7:e Villagatan  7:e Villagatan  307955489  bus_service   \n2  7:e Villagatan  7:e Villagatan  307955489  bus_service   \n3  7:e Villagatan  7:e Villagatan  307955489  bus_service   \n4  7:e Villagatan  7:e Villagatan  307955489  bus_service   \n\n                         geometry  buffer_id geometry_buffer  \\\n0  POINT (378291.977 6399668.440)        NaN            None   \n1  POINT (378291.977 6399668.440)        NaN            None   \n2  POINT (378291.977 6399668.440)        NaN            None   \n3  POINT (378291.977 6399668.440)        NaN            None   \n4  POINT (378291.977 6399668.440)        NaN            None   \n\n            stop_id          route_id route_short_name  direction_id  \\\n0  9022014082785001  9011014200300000                3             0   \n1  9022014082785001  9011014200500000                5             1   \n2  9022014082785001  9011014200800000                8             0   \n3  9022014082785001  9011014200100000                1             0   \n4  9022014082785002  9011014200300000                3             1   \n\n        osmid  \n0  87793055.0  \n1  87793055.0  \n2  87793055.0  \n3  87793055.0  \n4  23859327.0  ",
      "text/html": "<div>\n<style scoped>\n    .dataframe tbody tr th:only-of-type {\n        vertical-align: middle;\n    }\n\n    .dataframe tbody tr th {\n        vertical-align: top;\n    }\n\n    .dataframe thead th {\n        text-align: right;\n    }\n</style>\n<table border=\"1\" class=\"dataframe\">\n  <thead>\n    <tr style=\"text-align: right;\">\n      <th></th>\n      <th>stop_areas_name</th>\n      <th>stop_name</th>\n      <th>place_id</th>\n      <th>mode</th>\n      <th>geometry</th>\n      <th>buffer_id</th>\n      <th>geometry_buffer</th>\n      <th>stop_id</th>\n      <th>route_id</th>\n      <th>route_short_name</th>\n      <th>direction_id</th>\n      <th>osmid</th>\n    </tr>\n  </thead>\n  <tbody>\n    <tr>\n      <th>0</th>\n      <td>7:e Villagatan</td>\n      <td>7:e Villagatan</td>\n      <td>307955489</td>\n      <td>bus_service</td>\n      <td>POINT (378291.977 6399668.440)</td>\n      <td>NaN</td>\n      <td>None</td>\n      <td>9022014082785001</td>\n      <td>9011014200300000</td>\n      <td>3</td>\n      <td>0</td>\n      <td>87793055.0</td>\n    </tr>\n    <tr>\n      <th>1</th>\n      <td>7:e Villagatan</td>\n      <td>7:e Villagatan</td>\n      <td>307955489</td>\n      <td>bus_service</td>\n      <td>POINT (378291.977 6399668.440)</td>\n      <td>NaN</td>\n      <td>None</td>\n      <td>9022014082785001</td>\n      <td>9011014200500000</td>\n      <td>5</td>\n      <td>1</td>\n      <td>87793055.0</td>\n    </tr>\n    <tr>\n      <th>2</th>\n      <td>7:e Villagatan</td>\n      <td>7:e Villagatan</td>\n      <td>307955489</td>\n      <td>bus_service</td>\n      <td>POINT (378291.977 6399668.440)</td>\n      <td>NaN</td>\n      <td>None</td>\n      <td>9022014082785001</td>\n      <td>9011014200800000</td>\n      <td>8</td>\n      <td>0</td>\n      <td>87793055.0</td>\n    </tr>\n    <tr>\n      <th>3</th>\n      <td>7:e Villagatan</td>\n      <td>7:e Villagatan</td>\n      <td>307955489</td>\n      <td>bus_service</td>\n      <td>POINT (378291.977 6399668.440)</td>\n      <td>NaN</td>\n      <td>None</td>\n      <td>9022014082785001</td>\n      <td>9011014200100000</td>\n      <td>1</td>\n      <td>0</td>\n      <td>87793055.0</td>\n    </tr>\n    <tr>\n      <th>4</th>\n      <td>7:e Villagatan</td>\n      <td>7:e Villagatan</td>\n      <td>307955489</td>\n      <td>bus_service</td>\n      <td>POINT (378291.977 6399668.440)</td>\n      <td>NaN</td>\n      <td>None</td>\n      <td>9022014082785002</td>\n      <td>9011014200300000</td>\n      <td>3</td>\n      <td>1</td>\n      <td>23859327.0</td>\n    </tr>\n  </tbody>\n</table>\n</div>"
     },
     "execution_count": 16,
     "metadata": {},
     "output_type": "execute_result"
    }
   ],
   "source": [
    "# Step 16: Merge with nodes_pt_1 to get disaggregated information\n",
    "nodes_pt_6_l4 = pd.merge(\n",
    "    nodes_pt_6_l3, nodes_pt_1[['stop_id', 'route_id', 'route_short_name', 'direction_id', 'osmid', 'stop_name', 'place_id', 'mode']],\n",
    "    on=['stop_name', 'place_id', 'mode'], how='inner'\n",
    ")\n",
    "\n",
    "# Step 17 (optional): Display the results\n",
    "nodes_pt_6_l4.head()"
   ],
   "metadata": {
    "collapsed": false,
    "pycharm": {
     "name": "#%%\n"
    }
   }
  },
  {
   "cell_type": "code",
   "execution_count": 50,
   "outputs": [
    {
     "data": {
      "text/plain": "                        node_id     stop_areas_name  \\\n0      7:e Villagatan_307955489      7:e Villagatan   \n1      AGA Vattenfall_307980814      AGA Vattenfall   \n2        Abrahamstorp_307959538        Abrahamstorp   \n3  Acklinga Solbacken_307927983  Acklinga Solbacken   \n4      Acklinga kyrka_307927983      Acklinga kyrka   \n\n                                           stop_name   place_id  \\\n0  [7:e Villagatan, 7:e Villagatan, 7:e Villagata...  307955489   \n1  [AGA Vattenfall, AGA Vattenfall, AGA Vattenfal...  307980814   \n2         [Abrahamstorp, Abrahamstorp, Abrahamstorp]  307959538   \n3           [Acklinga Solbacken, Acklinga Solbacken]  307927983   \n4  [Acklinga kyrka, Acklinga kyrka, Acklinga kyrk...  307927983   \n\n                                                mode  \\\n0  [bus_service, bus_service, bus_service, bus_se...   \n1  [bus_service, bus_service, bus_service, bus_se...   \n2  [bus_service, communal_taxi_service, communal_...   \n3               [bus_service, communal_taxi_service]   \n4  [bus_service, bus_service, bus_service, bus_se...   \n\n                                            route_id  \\\n0  [9011014200300000, 9011014200500000, 901101420...   \n1  [9011014633100000, 9011014633400000, 901101463...   \n2  [9011014658100000, 9011014366300000, 901101436...   \n3               [9011014332600000, 9011014384000000]   \n4  [9011014330300000, 9011014332700000, 901101433...   \n\n                  route_short_name  \\\n0         [3, 5, 8, 1, 3, 5, 8, 1]   \n1  [331, 334, 4, 932, 331, 334, 4]   \n2                  [581, 663, 663]   \n3                       [326, 326]   \n4        [303, 327, 303, 327, 327]   \n\n                                             stop_id  \\\n0  [9022014082785001, 9022014082785001, 902201408...   \n1  [9022014015161001, 9022014015161001, 902201401...   \n2  [9022014046020001, 9022014046020001, 902201404...   \n3               [9022014042270002, 9022014042270001]   \n4  [9022014042119001, 9022014042119001, 902201404...   \n\n               direction_id  \\\n0  [0, 1, 0, 0, 1, 0, 1, 1]   \n1     [0, 0, 1, 1, 1, 1, 0]   \n2                 [1, 1, 0]   \n3                    [1, 1]   \n4           [1, 1, 0, 0, 0]   \n\n                                               osmid  \\\n0  [87793055.0, 87793055.0, 87793055.0, 87793055....   \n1  [1021141732.0, 1021141732.0, 1021141732.0, 102...   \n2            [173516827.0, 173516827.0, 835571452.0]   \n3                       [1008032531.0, 1008032531.0]   \n4  [19804825.0, 19804825.0, 19804825.0, 19804825....   \n\n                         geometry  \n0  POINT (378291.977 6399668.440)  \n1  POINT (313191.955 6442732.480)  \n2  POINT (371017.481 6448504.455)  \n3  POINT (434327.469 6451981.944)  \n4  POINT (434071.965 6451013.922)  ",
      "text/html": "<div>\n<style scoped>\n    .dataframe tbody tr th:only-of-type {\n        vertical-align: middle;\n    }\n\n    .dataframe tbody tr th {\n        vertical-align: top;\n    }\n\n    .dataframe thead th {\n        text-align: right;\n    }\n</style>\n<table border=\"1\" class=\"dataframe\">\n  <thead>\n    <tr style=\"text-align: right;\">\n      <th></th>\n      <th>node_id</th>\n      <th>stop_areas_name</th>\n      <th>stop_name</th>\n      <th>place_id</th>\n      <th>mode</th>\n      <th>route_id</th>\n      <th>route_short_name</th>\n      <th>stop_id</th>\n      <th>direction_id</th>\n      <th>osmid</th>\n      <th>geometry</th>\n    </tr>\n  </thead>\n  <tbody>\n    <tr>\n      <th>0</th>\n      <td>7:e Villagatan_307955489</td>\n      <td>7:e Villagatan</td>\n      <td>[7:e Villagatan, 7:e Villagatan, 7:e Villagata...</td>\n      <td>307955489</td>\n      <td>[bus_service, bus_service, bus_service, bus_se...</td>\n      <td>[9011014200300000, 9011014200500000, 901101420...</td>\n      <td>[3, 5, 8, 1, 3, 5, 8, 1]</td>\n      <td>[9022014082785001, 9022014082785001, 902201408...</td>\n      <td>[0, 1, 0, 0, 1, 0, 1, 1]</td>\n      <td>[87793055.0, 87793055.0, 87793055.0, 87793055....</td>\n      <td>POINT (378291.977 6399668.440)</td>\n    </tr>\n    <tr>\n      <th>1</th>\n      <td>AGA Vattenfall_307980814</td>\n      <td>AGA Vattenfall</td>\n      <td>[AGA Vattenfall, AGA Vattenfall, AGA Vattenfal...</td>\n      <td>307980814</td>\n      <td>[bus_service, bus_service, bus_service, bus_se...</td>\n      <td>[9011014633100000, 9011014633400000, 901101463...</td>\n      <td>[331, 334, 4, 932, 331, 334, 4]</td>\n      <td>[9022014015161001, 9022014015161001, 902201401...</td>\n      <td>[0, 0, 1, 1, 1, 1, 0]</td>\n      <td>[1021141732.0, 1021141732.0, 1021141732.0, 102...</td>\n      <td>POINT (313191.955 6442732.480)</td>\n    </tr>\n    <tr>\n      <th>2</th>\n      <td>Abrahamstorp_307959538</td>\n      <td>Abrahamstorp</td>\n      <td>[Abrahamstorp, Abrahamstorp, Abrahamstorp]</td>\n      <td>307959538</td>\n      <td>[bus_service, communal_taxi_service, communal_...</td>\n      <td>[9011014658100000, 9011014366300000, 901101436...</td>\n      <td>[581, 663, 663]</td>\n      <td>[9022014046020001, 9022014046020001, 902201404...</td>\n      <td>[1, 1, 0]</td>\n      <td>[173516827.0, 173516827.0, 835571452.0]</td>\n      <td>POINT (371017.481 6448504.455)</td>\n    </tr>\n    <tr>\n      <th>3</th>\n      <td>Acklinga Solbacken_307927983</td>\n      <td>Acklinga Solbacken</td>\n      <td>[Acklinga Solbacken, Acklinga Solbacken]</td>\n      <td>307927983</td>\n      <td>[bus_service, communal_taxi_service]</td>\n      <td>[9011014332600000, 9011014384000000]</td>\n      <td>[326, 326]</td>\n      <td>[9022014042270002, 9022014042270001]</td>\n      <td>[1, 1]</td>\n      <td>[1008032531.0, 1008032531.0]</td>\n      <td>POINT (434327.469 6451981.944)</td>\n    </tr>\n    <tr>\n      <th>4</th>\n      <td>Acklinga kyrka_307927983</td>\n      <td>Acklinga kyrka</td>\n      <td>[Acklinga kyrka, Acklinga kyrka, Acklinga kyrk...</td>\n      <td>307927983</td>\n      <td>[bus_service, bus_service, bus_service, bus_se...</td>\n      <td>[9011014330300000, 9011014332700000, 901101433...</td>\n      <td>[303, 327, 303, 327, 327]</td>\n      <td>[9022014042119001, 9022014042119001, 902201404...</td>\n      <td>[1, 1, 0, 0, 0]</td>\n      <td>[19804825.0, 19804825.0, 19804825.0, 19804825....</td>\n      <td>POINT (434071.965 6451013.922)</td>\n    </tr>\n  </tbody>\n</table>\n</div>"
     },
     "execution_count": 50,
     "metadata": {},
     "output_type": "execute_result"
    }
   ],
   "source": [
    "# Step 18: Create node_id column\n",
    "nodes_pt_6_l4['node_id'] = nodes_pt_6_l4['stop_areas_name'].astype(str) + '_' + nodes_pt_6_l4['place_id'].astype(str)\n",
    "\n",
    "# Step 18: Aggregate by node_id\n",
    "agg_func_node = {\n",
    "    'stop_areas_name': 'first',\n",
    "    'stop_name': list,\n",
    "    'place_id': 'first',\n",
    "    'mode': list,\n",
    "    'route_id': list,\n",
    "    'route_short_name': list,\n",
    "    'stop_id': list,\n",
    "    'direction_id': list,\n",
    "    'osmid': list,\n",
    "    'geometry': 'first'\n",
    "}\n",
    "\n",
    "nodes_pt_6_l5 = nodes_pt_6_l4.groupby('node_id').agg(agg_func_node).reset_index()\n",
    "\n",
    "# Step 19 (optional): Display the temporary results\n",
    "nodes_pt_6_l5.head()"
   ],
   "metadata": {
    "collapsed": false,
    "pycharm": {
     "name": "#%%\n"
    }
   }
  },
  {
   "cell_type": "code",
   "execution_count": 51,
   "outputs": [
    {
     "data": {
      "text/plain": "                        node_id     stop_areas_name   place_id  \\\n0      7:e Villagatan_307955489      7:e Villagatan  307955489   \n1      AGA Vattenfall_307980814      AGA Vattenfall  307980814   \n2        Abrahamstorp_307959538        Abrahamstorp  307959538   \n3  Acklinga Solbacken_307927983  Acklinga Solbacken  307927983   \n4      Acklinga kyrka_307927983      Acklinga kyrka  307927983   \n\n                                           stop_name  \\\n0  [7:e Villagatan, 7:e Villagatan, 7:e Villagata...   \n1  [AGA Vattenfall, AGA Vattenfall, AGA Vattenfal...   \n2         [Abrahamstorp, Abrahamstorp, Abrahamstorp]   \n3           [Acklinga Solbacken, Acklinga Solbacken]   \n4  [Acklinga kyrka, Acklinga kyrka, Acklinga kyrk...   \n\n                                            route_id  \\\n0  [9011014200300000, 9011014200500000, 901101420...   \n1  [9011014633100000, 9011014633400000, 901101463...   \n2  [9011014658100000, 9011014366300000, 901101436...   \n3               [9011014332600000, 9011014384000000]   \n4  [9011014330300000, 9011014332700000, 901101433...   \n\n                  route_short_name  \\\n0         [3, 5, 8, 1, 3, 5, 8, 1]   \n1  [331, 334, 4, 932, 331, 334, 4]   \n2                  [581, 663, 663]   \n3                       [326, 326]   \n4        [303, 327, 303, 327, 327]   \n\n                                             stop_id  \\\n0  [9022014082785001, 9022014082785001, 902201408...   \n1  [9022014015161001, 9022014015161001, 902201401...   \n2  [9022014046020001, 9022014046020001, 902201404...   \n3               [9022014042270002, 9022014042270001]   \n4  [9022014042119001, 9022014042119001, 902201404...   \n\n                                                mode  \\\n0  [bus_service, bus_service, bus_service, bus_se...   \n1  [bus_service, bus_service, bus_service, bus_se...   \n2  [bus_service, communal_taxi_service, communal_...   \n3               [bus_service, communal_taxi_service]   \n4  [bus_service, bus_service, bus_service, bus_se...   \n\n               direction_id  \\\n0  [0, 1, 0, 0, 1, 0, 1, 1]   \n1     [0, 0, 1, 1, 1, 1, 0]   \n2                 [1, 1, 0]   \n3                    [1, 1]   \n4           [1, 1, 0, 0, 0]   \n\n                                               osmid  \\\n0  [87793055.0, 87793055.0, 87793055.0, 87793055....   \n1  [1021141732.0, 1021141732.0, 1021141732.0, 102...   \n2            [173516827.0, 173516827.0, 835571452.0]   \n3                       [1008032531.0, 1008032531.0]   \n4  [19804825.0, 19804825.0, 19804825.0, 19804825....   \n\n                         geometry  \n0  POINT (378291.977 6399668.440)  \n1  POINT (313191.955 6442732.480)  \n2  POINT (371017.481 6448504.455)  \n3  POINT (434327.469 6451981.944)  \n4  POINT (434071.965 6451013.922)  ",
      "text/html": "<div>\n<style scoped>\n    .dataframe tbody tr th:only-of-type {\n        vertical-align: middle;\n    }\n\n    .dataframe tbody tr th {\n        vertical-align: top;\n    }\n\n    .dataframe thead th {\n        text-align: right;\n    }\n</style>\n<table border=\"1\" class=\"dataframe\">\n  <thead>\n    <tr style=\"text-align: right;\">\n      <th></th>\n      <th>node_id</th>\n      <th>stop_areas_name</th>\n      <th>place_id</th>\n      <th>stop_name</th>\n      <th>route_id</th>\n      <th>route_short_name</th>\n      <th>stop_id</th>\n      <th>mode</th>\n      <th>direction_id</th>\n      <th>osmid</th>\n      <th>geometry</th>\n    </tr>\n  </thead>\n  <tbody>\n    <tr>\n      <th>0</th>\n      <td>7:e Villagatan_307955489</td>\n      <td>7:e Villagatan</td>\n      <td>307955489</td>\n      <td>[7:e Villagatan, 7:e Villagatan, 7:e Villagata...</td>\n      <td>[9011014200300000, 9011014200500000, 901101420...</td>\n      <td>[3, 5, 8, 1, 3, 5, 8, 1]</td>\n      <td>[9022014082785001, 9022014082785001, 902201408...</td>\n      <td>[bus_service, bus_service, bus_service, bus_se...</td>\n      <td>[0, 1, 0, 0, 1, 0, 1, 1]</td>\n      <td>[87793055.0, 87793055.0, 87793055.0, 87793055....</td>\n      <td>POINT (378291.977 6399668.440)</td>\n    </tr>\n    <tr>\n      <th>1</th>\n      <td>AGA Vattenfall_307980814</td>\n      <td>AGA Vattenfall</td>\n      <td>307980814</td>\n      <td>[AGA Vattenfall, AGA Vattenfall, AGA Vattenfal...</td>\n      <td>[9011014633100000, 9011014633400000, 901101463...</td>\n      <td>[331, 334, 4, 932, 331, 334, 4]</td>\n      <td>[9022014015161001, 9022014015161001, 902201401...</td>\n      <td>[bus_service, bus_service, bus_service, bus_se...</td>\n      <td>[0, 0, 1, 1, 1, 1, 0]</td>\n      <td>[1021141732.0, 1021141732.0, 1021141732.0, 102...</td>\n      <td>POINT (313191.955 6442732.480)</td>\n    </tr>\n    <tr>\n      <th>2</th>\n      <td>Abrahamstorp_307959538</td>\n      <td>Abrahamstorp</td>\n      <td>307959538</td>\n      <td>[Abrahamstorp, Abrahamstorp, Abrahamstorp]</td>\n      <td>[9011014658100000, 9011014366300000, 901101436...</td>\n      <td>[581, 663, 663]</td>\n      <td>[9022014046020001, 9022014046020001, 902201404...</td>\n      <td>[bus_service, communal_taxi_service, communal_...</td>\n      <td>[1, 1, 0]</td>\n      <td>[173516827.0, 173516827.0, 835571452.0]</td>\n      <td>POINT (371017.481 6448504.455)</td>\n    </tr>\n    <tr>\n      <th>3</th>\n      <td>Acklinga Solbacken_307927983</td>\n      <td>Acklinga Solbacken</td>\n      <td>307927983</td>\n      <td>[Acklinga Solbacken, Acklinga Solbacken]</td>\n      <td>[9011014332600000, 9011014384000000]</td>\n      <td>[326, 326]</td>\n      <td>[9022014042270002, 9022014042270001]</td>\n      <td>[bus_service, communal_taxi_service]</td>\n      <td>[1, 1]</td>\n      <td>[1008032531.0, 1008032531.0]</td>\n      <td>POINT (434327.469 6451981.944)</td>\n    </tr>\n    <tr>\n      <th>4</th>\n      <td>Acklinga kyrka_307927983</td>\n      <td>Acklinga kyrka</td>\n      <td>307927983</td>\n      <td>[Acklinga kyrka, Acklinga kyrka, Acklinga kyrk...</td>\n      <td>[9011014330300000, 9011014332700000, 901101433...</td>\n      <td>[303, 327, 303, 327, 327]</td>\n      <td>[9022014042119001, 9022014042119001, 902201404...</td>\n      <td>[bus_service, bus_service, bus_service, bus_se...</td>\n      <td>[1, 1, 0, 0, 0]</td>\n      <td>[19804825.0, 19804825.0, 19804825.0, 19804825....</td>\n      <td>POINT (434071.965 6451013.922)</td>\n    </tr>\n  </tbody>\n</table>\n</div>"
     },
     "execution_count": 51,
     "metadata": {},
     "output_type": "execute_result"
    }
   ],
   "source": [
    "# Filter and organize the final table\n",
    "# Step 20: Select desired columns for the final DataFrame\n",
    "nodes_pt_6 = nodes_pt_6_l5[['node_id', 'stop_areas_name', 'place_id', 'stop_name', 'route_id',\n",
    "                            'route_short_name', 'stop_id', 'mode', 'direction_id', 'osmid', 'geometry']]\n",
    "\n",
    "# Step 21: Display the final results\n",
    "nodes_pt_6.head()"
   ],
   "metadata": {
    "collapsed": false,
    "pycharm": {
     "name": "#%%\n"
    }
   }
  },
  {
   "cell_type": "code",
   "execution_count": 52,
   "outputs": [],
   "source": [
    "# Step 22 (optional): create the GeoDataFrame and export to the DB\n",
    "nodes_pt_6 = gpd.GeoDataFrame(nodes_pt_6, geometry='geometry', crs='3006')\n",
    "nodes_pt_6.to_postgis('nodes_pt_6', engine, schema='pt_6_odirection_stopareas_onemode', if_exists ='replace')"
   ],
   "metadata": {
    "collapsed": false,
    "pycharm": {
     "name": "#%%\n"
    }
   }
  },
  {
   "cell_type": "markdown",
   "source": [
    "### Links"
   ],
   "metadata": {
    "collapsed": false,
    "pycharm": {
     "name": "#%% md\n"
    }
   }
  },
  {
   "cell_type": "code",
   "execution_count": 53,
   "outputs": [],
   "source": [
    "#Import data\n",
    "#Step 0: Import Data\n",
    "links_pt_1_query = text('SELECT * FROM pt_1_mdirections_mstops_mroutes.links_pt_1_wide')\n",
    "links_pt_1 = gpd.read_postgis(links_pt_1_query, engine, geom_col='geometry')"
   ],
   "metadata": {
    "collapsed": false,
    "pycharm": {
     "name": "#%%\n"
    }
   }
  },
  {
   "cell_type": "code",
   "execution_count": 54,
   "outputs": [
    {
     "data": {
      "text/plain": "                        node_id     stop_areas_name   place_id  \\\n0      7:e Villagatan_307955489      7:e Villagatan  307955489   \n1      AGA Vattenfall_307980814      AGA Vattenfall  307980814   \n2        Abrahamstorp_307959538        Abrahamstorp  307959538   \n3  Acklinga Solbacken_307927983  Acklinga Solbacken  307927983   \n4      Acklinga kyrka_307927983      Acklinga kyrka  307927983   \n\n            stop_name                                           route_id  \\\n0      7:e Villagatan  [9011014200300000, 9011014200500000, 901101420...   \n1      AGA Vattenfall  [9011014633100000, 9011014633400000, 901101463...   \n2        Abrahamstorp  [9011014658100000, 9011014366300000, 901101436...   \n3  Acklinga Solbacken               [9011014332600000, 9011014384000000]   \n4      Acklinga kyrka  [9011014330300000, 9011014332700000, 901101433...   \n\n                  route_short_name  \\\n0         [3, 5, 8, 1, 3, 5, 8, 1]   \n1  [331, 334, 4, 932, 331, 334, 4]   \n2                  [581, 663, 663]   \n3                       [326, 326]   \n4        [303, 327, 303, 327, 327]   \n\n                                             stop_id  \\\n0  [9022014082785001, 9022014082785001, 902201408...   \n1  [9022014015161001, 9022014015161001, 902201401...   \n2  [9022014046020001, 9022014046020001, 902201404...   \n3               [9022014042270002, 9022014042270001]   \n4  [9022014042119001, 9022014042119001, 902201404...   \n\n                                                mode  \\\n0  [bus_service, bus_service, bus_service, bus_se...   \n1  [bus_service, bus_service, bus_service, bus_se...   \n2  [bus_service, communal_taxi_service, communal_...   \n3               [bus_service, communal_taxi_service]   \n4  [bus_service, bus_service, bus_service, bus_se...   \n\n               direction_id  \\\n0  [0, 1, 0, 0, 1, 0, 1, 1]   \n1     [0, 0, 1, 1, 1, 1, 0]   \n2                 [1, 1, 0]   \n3                    [1, 1]   \n4           [1, 1, 0, 0, 0]   \n\n                                               osmid  \\\n0  [87793055.0, 87793055.0, 87793055.0, 87793055....   \n1  [1021141732.0, 1021141732.0, 1021141732.0, 102...   \n2            [173516827.0, 173516827.0, 835571452.0]   \n3                       [1008032531.0, 1008032531.0]   \n4  [19804825.0, 19804825.0, 19804825.0, 19804825....   \n\n                         geometry  \n0  POINT (378291.977 6399668.440)  \n1  POINT (313191.955 6442732.480)  \n2  POINT (371017.481 6448504.455)  \n3  POINT (434327.469 6451981.944)  \n4  POINT (434071.965 6451013.922)  ",
      "text/html": "<div>\n<style scoped>\n    .dataframe tbody tr th:only-of-type {\n        vertical-align: middle;\n    }\n\n    .dataframe tbody tr th {\n        vertical-align: top;\n    }\n\n    .dataframe thead th {\n        text-align: right;\n    }\n</style>\n<table border=\"1\" class=\"dataframe\">\n  <thead>\n    <tr style=\"text-align: right;\">\n      <th></th>\n      <th>node_id</th>\n      <th>stop_areas_name</th>\n      <th>place_id</th>\n      <th>stop_name</th>\n      <th>route_id</th>\n      <th>route_short_name</th>\n      <th>stop_id</th>\n      <th>mode</th>\n      <th>direction_id</th>\n      <th>osmid</th>\n      <th>geometry</th>\n    </tr>\n  </thead>\n  <tbody>\n    <tr>\n      <th>0</th>\n      <td>7:e Villagatan_307955489</td>\n      <td>7:e Villagatan</td>\n      <td>307955489</td>\n      <td>7:e Villagatan</td>\n      <td>[9011014200300000, 9011014200500000, 901101420...</td>\n      <td>[3, 5, 8, 1, 3, 5, 8, 1]</td>\n      <td>[9022014082785001, 9022014082785001, 902201408...</td>\n      <td>[bus_service, bus_service, bus_service, bus_se...</td>\n      <td>[0, 1, 0, 0, 1, 0, 1, 1]</td>\n      <td>[87793055.0, 87793055.0, 87793055.0, 87793055....</td>\n      <td>POINT (378291.977 6399668.440)</td>\n    </tr>\n    <tr>\n      <th>1</th>\n      <td>AGA Vattenfall_307980814</td>\n      <td>AGA Vattenfall</td>\n      <td>307980814</td>\n      <td>AGA Vattenfall</td>\n      <td>[9011014633100000, 9011014633400000, 901101463...</td>\n      <td>[331, 334, 4, 932, 331, 334, 4]</td>\n      <td>[9022014015161001, 9022014015161001, 902201401...</td>\n      <td>[bus_service, bus_service, bus_service, bus_se...</td>\n      <td>[0, 0, 1, 1, 1, 1, 0]</td>\n      <td>[1021141732.0, 1021141732.0, 1021141732.0, 102...</td>\n      <td>POINT (313191.955 6442732.480)</td>\n    </tr>\n    <tr>\n      <th>2</th>\n      <td>Abrahamstorp_307959538</td>\n      <td>Abrahamstorp</td>\n      <td>307959538</td>\n      <td>Abrahamstorp</td>\n      <td>[9011014658100000, 9011014366300000, 901101436...</td>\n      <td>[581, 663, 663]</td>\n      <td>[9022014046020001, 9022014046020001, 902201404...</td>\n      <td>[bus_service, communal_taxi_service, communal_...</td>\n      <td>[1, 1, 0]</td>\n      <td>[173516827.0, 173516827.0, 835571452.0]</td>\n      <td>POINT (371017.481 6448504.455)</td>\n    </tr>\n    <tr>\n      <th>3</th>\n      <td>Acklinga Solbacken_307927983</td>\n      <td>Acklinga Solbacken</td>\n      <td>307927983</td>\n      <td>Acklinga Solbacken</td>\n      <td>[9011014332600000, 9011014384000000]</td>\n      <td>[326, 326]</td>\n      <td>[9022014042270002, 9022014042270001]</td>\n      <td>[bus_service, communal_taxi_service]</td>\n      <td>[1, 1]</td>\n      <td>[1008032531.0, 1008032531.0]</td>\n      <td>POINT (434327.469 6451981.944)</td>\n    </tr>\n    <tr>\n      <th>4</th>\n      <td>Acklinga kyrka_307927983</td>\n      <td>Acklinga kyrka</td>\n      <td>307927983</td>\n      <td>Acklinga kyrka</td>\n      <td>[9011014330300000, 9011014332700000, 901101433...</td>\n      <td>[303, 327, 303, 327, 327]</td>\n      <td>[9022014042119001, 9022014042119001, 902201404...</td>\n      <td>[bus_service, bus_service, bus_service, bus_se...</td>\n      <td>[1, 1, 0, 0, 0]</td>\n      <td>[19804825.0, 19804825.0, 19804825.0, 19804825....</td>\n      <td>POINT (434071.965 6451013.922)</td>\n    </tr>\n  </tbody>\n</table>\n</div>"
     },
     "execution_count": 54,
     "metadata": {},
     "output_type": "execute_result"
    }
   ],
   "source": [
    "# Step 1: Explode nodes table by stop name, clean data\n",
    "nodes_pt_6_exploded = nodes_pt_6.explode('stop_name').drop_duplicates(['stop_name', 'place_id'])\n",
    "\n",
    "# Step 2: Display the temporary results\n",
    "nodes_pt_6_exploded.head()"
   ],
   "metadata": {
    "collapsed": false,
    "pycharm": {
     "name": "#%%\n"
    }
   }
  },
  {
   "cell_type": "code",
   "execution_count": 55,
   "outputs": [
    {
     "data": {
      "text/plain": "                      node_id_source            node_id_target  time_distance  \\\n0           Bäckängsskolan_307955489  7:e Villagatan_307955489          129.0   \n1           Bäckängsskolan_307955489  7:e Villagatan_307955489          114.0   \n2           Bäckängsskolan_307955489  7:e Villagatan_307955489          117.0   \n3           Bäckängsskolan_307955489  7:e Villagatan_307955489          117.0   \n4  Södra Älvsborgs sjukhus_307955489  7:e Villagatan_307955489           98.0   \n\n    stop_areas_name_source stop_areas_name_target         stop_name_source  \\\n0           Bäckängsskolan         7:e Villagatan           Bäckängsskolan   \n1           Bäckängsskolan         7:e Villagatan           Bäckängsskolan   \n2           Bäckängsskolan         7:e Villagatan           Bäckängsskolan   \n3           Bäckängsskolan         7:e Villagatan           Bäckängsskolan   \n4  Södra Älvsborgs sjukhus         7:e Villagatan  Södra Älvsborgs sjukhus   \n\n  stop_name_target  place_id_source  place_id_target  \\\n0   7:e Villagatan        307955489        307955489   \n1   7:e Villagatan        307955489        307955489   \n2   7:e Villagatan        307955489        307955489   \n3   7:e Villagatan        307955489        307955489   \n4   7:e Villagatan        307955489        307955489   \n\n                                                mode  ...  \\\n0  [bus_service, bus_service, bus_service, bus_se...  ...   \n1  [bus_service, bus_service, bus_service, bus_se...  ...   \n2  [bus_service, bus_service, bus_service, bus_se...  ...   \n3  [bus_service, bus_service, bus_service, bus_se...  ...   \n4  [bus_service, bus_service, bus_service, bus_se...  ...   \n\n  freq_friday_night(dawn) freq_saturday_night(dawn) freq_sunday_night(dawn)  \\\n0                     0.0                       0.0                     0.0   \n1                     0.0                       0.0                     0.0   \n2                     0.0                       0.0                     0.0   \n3                     0.0                       0.0                     0.0   \n4                     0.0                       0.0                     0.0   \n\n  freq_week_day_morning freq_week_day_peak_morning freq_week_day_afternoon  \\\n0           2842.105263                1800.000000             2571.428571   \n1           9000.000000                9671.641791             9000.000000   \n2           8415.584416                5102.362205             8415.584416   \n3           6000.000000                3410.526316             4984.615385   \n4           2781.115880                1825.352113             2623.481781   \n\n  freq_week_day_peak_evening  freq_week_day_evening  freq_week_day_night  \\\n0                1800.000000            2454.545455          4909.090909   \n1                9000.000000            9671.641791         54000.000000   \n2                4729.927007            6750.000000          9000.000000   \n3                3100.478469            5634.782609          9000.000000   \n4                1800.000000            2347.826087          6000.000000   \n\n   freq_week_day_night(dawn)  \n0                        0.0  \n1                        0.0  \n2                        0.0  \n3                        0.0  \n4                        0.0  \n\n[5 rows x 73 columns]",
      "text/html": "<div>\n<style scoped>\n    .dataframe tbody tr th:only-of-type {\n        vertical-align: middle;\n    }\n\n    .dataframe tbody tr th {\n        vertical-align: top;\n    }\n\n    .dataframe thead th {\n        text-align: right;\n    }\n</style>\n<table border=\"1\" class=\"dataframe\">\n  <thead>\n    <tr style=\"text-align: right;\">\n      <th></th>\n      <th>node_id_source</th>\n      <th>node_id_target</th>\n      <th>time_distance</th>\n      <th>stop_areas_name_source</th>\n      <th>stop_areas_name_target</th>\n      <th>stop_name_source</th>\n      <th>stop_name_target</th>\n      <th>place_id_source</th>\n      <th>place_id_target</th>\n      <th>mode</th>\n      <th>...</th>\n      <th>freq_friday_night(dawn)</th>\n      <th>freq_saturday_night(dawn)</th>\n      <th>freq_sunday_night(dawn)</th>\n      <th>freq_week_day_morning</th>\n      <th>freq_week_day_peak_morning</th>\n      <th>freq_week_day_afternoon</th>\n      <th>freq_week_day_peak_evening</th>\n      <th>freq_week_day_evening</th>\n      <th>freq_week_day_night</th>\n      <th>freq_week_day_night(dawn)</th>\n    </tr>\n  </thead>\n  <tbody>\n    <tr>\n      <th>0</th>\n      <td>Bäckängsskolan_307955489</td>\n      <td>7:e Villagatan_307955489</td>\n      <td>129.0</td>\n      <td>Bäckängsskolan</td>\n      <td>7:e Villagatan</td>\n      <td>Bäckängsskolan</td>\n      <td>7:e Villagatan</td>\n      <td>307955489</td>\n      <td>307955489</td>\n      <td>[bus_service, bus_service, bus_service, bus_se...</td>\n      <td>...</td>\n      <td>0.0</td>\n      <td>0.0</td>\n      <td>0.0</td>\n      <td>2842.105263</td>\n      <td>1800.000000</td>\n      <td>2571.428571</td>\n      <td>1800.000000</td>\n      <td>2454.545455</td>\n      <td>4909.090909</td>\n      <td>0.0</td>\n    </tr>\n    <tr>\n      <th>1</th>\n      <td>Bäckängsskolan_307955489</td>\n      <td>7:e Villagatan_307955489</td>\n      <td>114.0</td>\n      <td>Bäckängsskolan</td>\n      <td>7:e Villagatan</td>\n      <td>Bäckängsskolan</td>\n      <td>7:e Villagatan</td>\n      <td>307955489</td>\n      <td>307955489</td>\n      <td>[bus_service, bus_service, bus_service, bus_se...</td>\n      <td>...</td>\n      <td>0.0</td>\n      <td>0.0</td>\n      <td>0.0</td>\n      <td>9000.000000</td>\n      <td>9671.641791</td>\n      <td>9000.000000</td>\n      <td>9000.000000</td>\n      <td>9671.641791</td>\n      <td>54000.000000</td>\n      <td>0.0</td>\n    </tr>\n    <tr>\n      <th>2</th>\n      <td>Bäckängsskolan_307955489</td>\n      <td>7:e Villagatan_307955489</td>\n      <td>117.0</td>\n      <td>Bäckängsskolan</td>\n      <td>7:e Villagatan</td>\n      <td>Bäckängsskolan</td>\n      <td>7:e Villagatan</td>\n      <td>307955489</td>\n      <td>307955489</td>\n      <td>[bus_service, bus_service, bus_service, bus_se...</td>\n      <td>...</td>\n      <td>0.0</td>\n      <td>0.0</td>\n      <td>0.0</td>\n      <td>8415.584416</td>\n      <td>5102.362205</td>\n      <td>8415.584416</td>\n      <td>4729.927007</td>\n      <td>6750.000000</td>\n      <td>9000.000000</td>\n      <td>0.0</td>\n    </tr>\n    <tr>\n      <th>3</th>\n      <td>Bäckängsskolan_307955489</td>\n      <td>7:e Villagatan_307955489</td>\n      <td>117.0</td>\n      <td>Bäckängsskolan</td>\n      <td>7:e Villagatan</td>\n      <td>Bäckängsskolan</td>\n      <td>7:e Villagatan</td>\n      <td>307955489</td>\n      <td>307955489</td>\n      <td>[bus_service, bus_service, bus_service, bus_se...</td>\n      <td>...</td>\n      <td>0.0</td>\n      <td>0.0</td>\n      <td>0.0</td>\n      <td>6000.000000</td>\n      <td>3410.526316</td>\n      <td>4984.615385</td>\n      <td>3100.478469</td>\n      <td>5634.782609</td>\n      <td>9000.000000</td>\n      <td>0.0</td>\n    </tr>\n    <tr>\n      <th>4</th>\n      <td>Södra Älvsborgs sjukhus_307955489</td>\n      <td>7:e Villagatan_307955489</td>\n      <td>98.0</td>\n      <td>Södra Älvsborgs sjukhus</td>\n      <td>7:e Villagatan</td>\n      <td>Södra Älvsborgs sjukhus</td>\n      <td>7:e Villagatan</td>\n      <td>307955489</td>\n      <td>307955489</td>\n      <td>[bus_service, bus_service, bus_service, bus_se...</td>\n      <td>...</td>\n      <td>0.0</td>\n      <td>0.0</td>\n      <td>0.0</td>\n      <td>2781.115880</td>\n      <td>1825.352113</td>\n      <td>2623.481781</td>\n      <td>1800.000000</td>\n      <td>2347.826087</td>\n      <td>6000.000000</td>\n      <td>0.0</td>\n    </tr>\n  </tbody>\n</table>\n<p>5 rows × 73 columns</p>\n</div>"
     },
     "execution_count": 55,
     "metadata": {},
     "output_type": "execute_result"
    }
   ],
   "source": [
    "# Preprocess the Data\n",
    "# Step 1: Merge nodes and links in order to get the right combination of data\n",
    "links_pt_6_source_merge = pd.merge(\n",
    "    nodes_pt_6_exploded[['node_id', 'stop_areas_name', 'mode', 'stop_name',\n",
    "                         'place_id', 'direction_id', 'geometry']],\n",
    "    links_pt_1 [['route_id', 'route_short_name', 'stop_id_source',\n",
    "                 'stop_id_target', 'stop_name_source', 'stop_name_target', 'time_distance',\n",
    "                 'place_id_source', 'place_id_target'] + [col for col in links_pt_1.columns if col.startswith('freq_')]],\n",
    "    left_on=['stop_name', 'place_id'],\n",
    "    right_on=['stop_name_source', 'place_id_source'], how='inner'\n",
    ")\n",
    "\n",
    "links_pt_6_target_merge  = pd.merge(\n",
    "    nodes_pt_6_exploded[['node_id', 'stop_areas_name', 'stop_name',\n",
    "                         'place_id', 'direction_id', 'geometry']],\n",
    "    links_pt_6_source_merge[['node_id', 'stop_areas_name', 'stop_name_source',\n",
    "                             'stop_name_target', 'place_id_source', 'place_id_target',\n",
    "                             'stop_id_source', 'stop_id_target', 'time_distance',\n",
    "                             'route_id', 'route_short_name', 'mode',\n",
    "                             'geometry'] + [col for col in links_pt_6_source_merge.columns if col.startswith('freq_')]],\n",
    "    left_on=['stop_name', 'place_id'],\n",
    "    right_on=['stop_name_target', 'place_id_target'],\n",
    "    how='inner').rename(columns={\n",
    "    'node_id_x':'node_id_target',\n",
    "    'node_id_y':'node_id_source',\n",
    "    'stop_areas_name_x': 'stop_areas_name_target',\n",
    "    'stop_areas_name_y': 'stop_areas_name_source',\n",
    "    'geometry_x':'geometry_target',\n",
    "    'geometry_y':'geometry_source'})\n",
    "\n",
    "# Step 2: Select specific columns and remove duplicates\n",
    "links_pt_6_l1 = links_pt_6_target_merge [['node_id_source', 'node_id_target', 'time_distance', 'stop_areas_name_source',\n",
    "                                          'stop_areas_name_target', 'stop_name_source', 'stop_name_target', 'place_id_source',\n",
    "                                          'place_id_target', 'mode', 'stop_id_source', 'stop_id_target', 'route_id', 'route_short_name',\n",
    "                                          'direction_id', 'geometry_source', 'geometry_target']\n",
    "                                         + [col for col in links_pt_6_target_merge.columns if col.startswith('freq_')]]\n",
    "\n",
    "# Step 2 (optional): Display the results\n",
    "links_pt_6_l1.head()"
   ],
   "metadata": {
    "collapsed": false,
    "pycharm": {
     "name": "#%%\n"
    }
   }
  },
  {
   "cell_type": "code",
   "execution_count": 56,
   "outputs": [
    {
     "name": "stderr",
     "output_type": "stream",
     "text": [
      "C:\\Users\\monaliza\\AppData\\Roaming\\Python\\Python39\\site-packages\\geopandas\\geodataframe.py:1525: SettingWithCopyWarning: \n",
      "A value is trying to be set on a copy of a slice from a DataFrame.\n",
      "Try using .loc[row_indexer,col_indexer] = value instead\n",
      "\n",
      "See the caveats in the documentation: https://pandas.pydata.org/pandas-docs/stable/user_guide/indexing.html#returning-a-view-versus-a-copy\n",
      "  super().__setitem__(key, value)\n"
     ]
    },
    {
     "data": {
      "text/plain": "                                     symmetric_pairs  \\\n0  7:e Villagatan_307955489-Bäckängsskolan_307955489   \n1  7:e Villagatan_307955489-Södra Älvsborgs sjukh...   \n2  AGA Vattenfall_307980814-Borealis kracker_3079...   \n3      AGA Vattenfall_307980814-Jordhammar_307980814   \n4             Abrahamstorp_307959538-Badet_307959538   \n\n                      node_id_source            node_id_target  \\\n0           Bäckängsskolan_307955489  7:e Villagatan_307955489   \n1  Södra Älvsborgs sjukhus_307955489  7:e Villagatan_307955489   \n2         Borealis kracker_307980814  AGA Vattenfall_307980814   \n3               Jordhammar_307980814  AGA Vattenfall_307980814   \n4                    Badet_307959538    Abrahamstorp_307959538   \n\n    stop_areas_name_source stop_areas_name_target  \\\n0           Bäckängsskolan         7:e Villagatan   \n1  Södra Älvsborgs sjukhus         7:e Villagatan   \n2         Borealis kracker         AGA Vattenfall   \n3               Jordhammar         AGA Vattenfall   \n4                    Badet           Abrahamstorp   \n\n                                            route_id  \\\n0  [9011014200100000, 9011014200300000, 901101420...   \n1  [9011014200100000, 9011014200300000, 901101420...   \n2  [9011014633100000, 9011014633400000, 901101463...   \n3  [9011014633100000, 9011014633400000, 901101463...   \n4  [9011014366300000, 9011014658100000, 901101436...   \n\n                  route_short_name  \\\n0         [1, 3, 5, 8, 1, 3, 5, 8]   \n1         [1, 3, 5, 8, 1, 3, 5, 8]   \n2  [331, 334, 4, 331, 334, 4, 932]   \n3  [331, 334, 4, 932, 331, 334, 4]   \n4                  [663, 581, 663]   \n\n                                      stop_id_source  \\\n0  [9022014082676002, 9022014082676002, 902201408...   \n1  [9022014082726001, 9022014082726001, 902201408...   \n2  [9022014015013002, 9022014015013002, 902201401...   \n3  [9022014015110001, 9022014015110001, 902201401...   \n4  [9022014046021001, 9022014046021001, 902201404...   \n\n                                      stop_id_target         stop_name_source  \\\n0  [9022014082785002, 9022014082785002, 902201408...           Bäckängsskolan   \n1  [9022014082785001, 9022014082785001, 902201408...  Södra Älvsborgs sjukhus   \n2  [9022014015161002, 9022014015161002, 902201401...         Borealis kracker   \n3  [9022014015161001, 9022014015161001, 902201401...               Jordhammar   \n4  [9022014046020001, 9022014046020001, 902201404...                    Badet   \n\n   ... freq_friday_night(dawn)  freq_saturday_night(dawn)  \\\n0  ...                     0.0                        0.0   \n1  ...                     0.0                        0.0   \n2  ...                     0.0                        0.0   \n3  ...                     0.0                        0.0   \n4  ...                     0.0                        0.0   \n\n   freq_sunday_night(dawn) freq_week_day_morning  freq_week_day_peak_morning  \\\n0                      0.0           2842.105263                 1800.000000   \n1                      0.0           2757.446809                 1825.352113   \n2                      0.0              0.000000                    0.000000   \n3                      0.0              0.000000                    0.000000   \n4                      0.0              0.000000                18000.000000   \n\n  freq_week_day_afternoon freq_week_day_peak_evening  freq_week_day_evening  \\\n0             2571.428571                     1800.0            2347.826087   \n1             2623.481781                     1800.0            2347.826087   \n2                0.000000                        0.0               0.000000   \n3                0.000000                        0.0               0.000000   \n4                0.000000                        0.0               0.000000   \n\n   freq_week_day_night  freq_week_day_night(dawn)  \n0                  0.0                        0.0  \n1                  0.0                        0.0  \n2                  0.0                        0.0  \n3                  0.0                        0.0  \n4                  0.0                        0.0  \n\n[5 rows x 73 columns]",
      "text/html": "<div>\n<style scoped>\n    .dataframe tbody tr th:only-of-type {\n        vertical-align: middle;\n    }\n\n    .dataframe tbody tr th {\n        vertical-align: top;\n    }\n\n    .dataframe thead th {\n        text-align: right;\n    }\n</style>\n<table border=\"1\" class=\"dataframe\">\n  <thead>\n    <tr style=\"text-align: right;\">\n      <th></th>\n      <th>symmetric_pairs</th>\n      <th>node_id_source</th>\n      <th>node_id_target</th>\n      <th>stop_areas_name_source</th>\n      <th>stop_areas_name_target</th>\n      <th>route_id</th>\n      <th>route_short_name</th>\n      <th>stop_id_source</th>\n      <th>stop_id_target</th>\n      <th>stop_name_source</th>\n      <th>...</th>\n      <th>freq_friday_night(dawn)</th>\n      <th>freq_saturday_night(dawn)</th>\n      <th>freq_sunday_night(dawn)</th>\n      <th>freq_week_day_morning</th>\n      <th>freq_week_day_peak_morning</th>\n      <th>freq_week_day_afternoon</th>\n      <th>freq_week_day_peak_evening</th>\n      <th>freq_week_day_evening</th>\n      <th>freq_week_day_night</th>\n      <th>freq_week_day_night(dawn)</th>\n    </tr>\n  </thead>\n  <tbody>\n    <tr>\n      <th>0</th>\n      <td>7:e Villagatan_307955489-Bäckängsskolan_307955489</td>\n      <td>Bäckängsskolan_307955489</td>\n      <td>7:e Villagatan_307955489</td>\n      <td>Bäckängsskolan</td>\n      <td>7:e Villagatan</td>\n      <td>[9011014200100000, 9011014200300000, 901101420...</td>\n      <td>[1, 3, 5, 8, 1, 3, 5, 8]</td>\n      <td>[9022014082676002, 9022014082676002, 902201408...</td>\n      <td>[9022014082785002, 9022014082785002, 902201408...</td>\n      <td>Bäckängsskolan</td>\n      <td>...</td>\n      <td>0.0</td>\n      <td>0.0</td>\n      <td>0.0</td>\n      <td>2842.105263</td>\n      <td>1800.000000</td>\n      <td>2571.428571</td>\n      <td>1800.0</td>\n      <td>2347.826087</td>\n      <td>0.0</td>\n      <td>0.0</td>\n    </tr>\n    <tr>\n      <th>1</th>\n      <td>7:e Villagatan_307955489-Södra Älvsborgs sjukh...</td>\n      <td>Södra Älvsborgs sjukhus_307955489</td>\n      <td>7:e Villagatan_307955489</td>\n      <td>Södra Älvsborgs sjukhus</td>\n      <td>7:e Villagatan</td>\n      <td>[9011014200100000, 9011014200300000, 901101420...</td>\n      <td>[1, 3, 5, 8, 1, 3, 5, 8]</td>\n      <td>[9022014082726001, 9022014082726001, 902201408...</td>\n      <td>[9022014082785001, 9022014082785001, 902201408...</td>\n      <td>Södra Älvsborgs sjukhus</td>\n      <td>...</td>\n      <td>0.0</td>\n      <td>0.0</td>\n      <td>0.0</td>\n      <td>2757.446809</td>\n      <td>1825.352113</td>\n      <td>2623.481781</td>\n      <td>1800.0</td>\n      <td>2347.826087</td>\n      <td>0.0</td>\n      <td>0.0</td>\n    </tr>\n    <tr>\n      <th>2</th>\n      <td>AGA Vattenfall_307980814-Borealis kracker_3079...</td>\n      <td>Borealis kracker_307980814</td>\n      <td>AGA Vattenfall_307980814</td>\n      <td>Borealis kracker</td>\n      <td>AGA Vattenfall</td>\n      <td>[9011014633100000, 9011014633400000, 901101463...</td>\n      <td>[331, 334, 4, 331, 334, 4, 932]</td>\n      <td>[9022014015013002, 9022014015013002, 902201401...</td>\n      <td>[9022014015161002, 9022014015161002, 902201401...</td>\n      <td>Borealis kracker</td>\n      <td>...</td>\n      <td>0.0</td>\n      <td>0.0</td>\n      <td>0.0</td>\n      <td>0.000000</td>\n      <td>0.000000</td>\n      <td>0.000000</td>\n      <td>0.0</td>\n      <td>0.000000</td>\n      <td>0.0</td>\n      <td>0.0</td>\n    </tr>\n    <tr>\n      <th>3</th>\n      <td>AGA Vattenfall_307980814-Jordhammar_307980814</td>\n      <td>Jordhammar_307980814</td>\n      <td>AGA Vattenfall_307980814</td>\n      <td>Jordhammar</td>\n      <td>AGA Vattenfall</td>\n      <td>[9011014633100000, 9011014633400000, 901101463...</td>\n      <td>[331, 334, 4, 932, 331, 334, 4]</td>\n      <td>[9022014015110001, 9022014015110001, 902201401...</td>\n      <td>[9022014015161001, 9022014015161001, 902201401...</td>\n      <td>Jordhammar</td>\n      <td>...</td>\n      <td>0.0</td>\n      <td>0.0</td>\n      <td>0.0</td>\n      <td>0.000000</td>\n      <td>0.000000</td>\n      <td>0.000000</td>\n      <td>0.0</td>\n      <td>0.000000</td>\n      <td>0.0</td>\n      <td>0.0</td>\n    </tr>\n    <tr>\n      <th>4</th>\n      <td>Abrahamstorp_307959538-Badet_307959538</td>\n      <td>Badet_307959538</td>\n      <td>Abrahamstorp_307959538</td>\n      <td>Badet</td>\n      <td>Abrahamstorp</td>\n      <td>[9011014366300000, 9011014658100000, 901101436...</td>\n      <td>[663, 581, 663]</td>\n      <td>[9022014046021001, 9022014046021001, 902201404...</td>\n      <td>[9022014046020001, 9022014046020001, 902201404...</td>\n      <td>Badet</td>\n      <td>...</td>\n      <td>0.0</td>\n      <td>0.0</td>\n      <td>0.0</td>\n      <td>0.000000</td>\n      <td>18000.000000</td>\n      <td>0.000000</td>\n      <td>0.0</td>\n      <td>0.000000</td>\n      <td>0.0</td>\n      <td>0.0</td>\n    </tr>\n  </tbody>\n</table>\n<p>5 rows × 73 columns</p>\n</div>"
     },
     "execution_count": 56,
     "metadata": {},
     "output_type": "execute_result"
    }
   ],
   "source": [
    "# Create the links of the one direction model\n",
    "# Step 4: Aggregate Data\n",
    "links_pt_6_l1.loc[:, 'geometry'] = links_pt_6_l1.apply(lambda row: LineString([Point(row['geometry_source']), Point(row['geometry_target'])]), axis=1)\n",
    "links_pt_6_l1.loc[:, 'symmetric_pairs'] = links_pt_6_l1[['node_id_source', 'node_id_target']].apply(lambda x: '-'.join(sorted(x)), axis=1)\n",
    "\n",
    "# Step 5: Define aggregation functions for various columns\n",
    "agg_func_link = {\n",
    "    'node_id_source': 'first',\n",
    "    'node_id_target': 'first',\n",
    "    'stop_areas_name_source': 'first',\n",
    "    'stop_areas_name_target': 'first',\n",
    "    'route_id': list,\n",
    "    'route_short_name': list,\n",
    "    'stop_id_source': list,\n",
    "    'stop_id_target': list,\n",
    "    'stop_name_source': 'first',\n",
    "    'stop_name_target': 'first',\n",
    "    'place_id_source': 'first',\n",
    "    'place_id_target': 'first',\n",
    "    'mode':'first',\n",
    "    'time_distance': 'min',\n",
    "    'direction_id': 'first',\n",
    "    'geometry': 'first'\n",
    "}\n",
    "\n",
    "freq_cols = [col for col in links_pt_6_l1.columns if col.startswith('freq_')]\n",
    "agg_func_link.update({col: 'min' for col in freq_cols})\n",
    "\n",
    "links_pt_6_l2 = links_pt_6_l1.groupby(['symmetric_pairs']).agg(agg_func_link).reset_index()\n",
    "\n",
    "# Step 6 (optional): Display the results\n",
    "links_pt_6_l2.head()"
   ],
   "metadata": {
    "collapsed": false,
    "pycharm": {
     "name": "#%%\n"
    }
   }
  },
  {
   "cell_type": "code",
   "execution_count": 57,
   "outputs": [
    {
     "data": {
      "text/plain": "                              source                    target  time_distance  \\\n0           Bäckängsskolan_307955489  7:e Villagatan_307955489          109.0   \n1  Södra Älvsborgs sjukhus_307955489  7:e Villagatan_307955489           86.0   \n2         Borealis kracker_307980814  AGA Vattenfall_307980814           27.0   \n3               Jordhammar_307980814  AGA Vattenfall_307980814           97.0   \n4                    Badet_307959538    Abrahamstorp_307959538           40.0   \n\n                                            route_id         stop_name_source  \\\n0  [9011014200100000, 9011014200300000, 901101420...           Bäckängsskolan   \n1  [9011014200100000, 9011014200300000, 901101420...  Södra Älvsborgs sjukhus   \n2  [9011014633100000, 9011014633400000, 901101463...         Borealis kracker   \n3  [9011014633100000, 9011014633400000, 901101463...               Jordhammar   \n4  [9011014366300000, 9011014658100000, 901101436...                    Badet   \n\n   place_id_source stop_name_target  place_id_target  \\\n0        307955489   7:e Villagatan        307955489   \n1        307955489   7:e Villagatan        307955489   \n2        307980814   AGA Vattenfall        307980814   \n3        307980814   AGA Vattenfall        307980814   \n4        307959538     Abrahamstorp        307959538   \n\n                                      stop_id_source  \\\n0  [9022014082676002, 9022014082676002, 902201408...   \n1  [9022014082726001, 9022014082726001, 902201408...   \n2  [9022014015013002, 9022014015013002, 902201401...   \n3  [9022014015110001, 9022014015110001, 902201401...   \n4  [9022014046021001, 9022014046021001, 902201404...   \n\n                                      stop_id_target  ...  \\\n0  [9022014082785002, 9022014082785002, 902201408...  ...   \n1  [9022014082785001, 9022014082785001, 902201408...  ...   \n2  [9022014015161002, 9022014015161002, 902201401...  ...   \n3  [9022014015161001, 9022014015161001, 902201401...  ...   \n4  [9022014046020001, 9022014046020001, 902201404...  ...   \n\n  freq_friday_night(dawn) freq_saturday_night(dawn) freq_sunday_night(dawn)  \\\n0                     0.0                       0.0                     0.0   \n1                     0.0                       0.0                     0.0   \n2                     0.0                       0.0                     0.0   \n3                     0.0                       0.0                     0.0   \n4                     0.0                       0.0                     0.0   \n\n  freq_week_day_morning  freq_week_day_peak_morning  freq_week_day_afternoon  \\\n0           2842.105263                 1800.000000              2571.428571   \n1           2757.446809                 1825.352113              2623.481781   \n2              0.000000                    0.000000                 0.000000   \n3              0.000000                    0.000000                 0.000000   \n4              0.000000                18000.000000                 0.000000   \n\n   freq_week_day_peak_evening  freq_week_day_evening  freq_week_day_night  \\\n0                      1800.0            2347.826087                  0.0   \n1                      1800.0            2347.826087                  0.0   \n2                         0.0               0.000000                  0.0   \n3                         0.0               0.000000                  0.0   \n4                         0.0               0.000000                  0.0   \n\n   freq_week_day_night(dawn)  \n0                        0.0  \n1                        0.0  \n2                        0.0  \n3                        0.0  \n4                        0.0  \n\n[5 rows x 70 columns]",
      "text/html": "<div>\n<style scoped>\n    .dataframe tbody tr th:only-of-type {\n        vertical-align: middle;\n    }\n\n    .dataframe tbody tr th {\n        vertical-align: top;\n    }\n\n    .dataframe thead th {\n        text-align: right;\n    }\n</style>\n<table border=\"1\" class=\"dataframe\">\n  <thead>\n    <tr style=\"text-align: right;\">\n      <th></th>\n      <th>source</th>\n      <th>target</th>\n      <th>time_distance</th>\n      <th>route_id</th>\n      <th>stop_name_source</th>\n      <th>place_id_source</th>\n      <th>stop_name_target</th>\n      <th>place_id_target</th>\n      <th>stop_id_source</th>\n      <th>stop_id_target</th>\n      <th>...</th>\n      <th>freq_friday_night(dawn)</th>\n      <th>freq_saturday_night(dawn)</th>\n      <th>freq_sunday_night(dawn)</th>\n      <th>freq_week_day_morning</th>\n      <th>freq_week_day_peak_morning</th>\n      <th>freq_week_day_afternoon</th>\n      <th>freq_week_day_peak_evening</th>\n      <th>freq_week_day_evening</th>\n      <th>freq_week_day_night</th>\n      <th>freq_week_day_night(dawn)</th>\n    </tr>\n  </thead>\n  <tbody>\n    <tr>\n      <th>0</th>\n      <td>Bäckängsskolan_307955489</td>\n      <td>7:e Villagatan_307955489</td>\n      <td>109.0</td>\n      <td>[9011014200100000, 9011014200300000, 901101420...</td>\n      <td>Bäckängsskolan</td>\n      <td>307955489</td>\n      <td>7:e Villagatan</td>\n      <td>307955489</td>\n      <td>[9022014082676002, 9022014082676002, 902201408...</td>\n      <td>[9022014082785002, 9022014082785002, 902201408...</td>\n      <td>...</td>\n      <td>0.0</td>\n      <td>0.0</td>\n      <td>0.0</td>\n      <td>2842.105263</td>\n      <td>1800.000000</td>\n      <td>2571.428571</td>\n      <td>1800.0</td>\n      <td>2347.826087</td>\n      <td>0.0</td>\n      <td>0.0</td>\n    </tr>\n    <tr>\n      <th>1</th>\n      <td>Södra Älvsborgs sjukhus_307955489</td>\n      <td>7:e Villagatan_307955489</td>\n      <td>86.0</td>\n      <td>[9011014200100000, 9011014200300000, 901101420...</td>\n      <td>Södra Älvsborgs sjukhus</td>\n      <td>307955489</td>\n      <td>7:e Villagatan</td>\n      <td>307955489</td>\n      <td>[9022014082726001, 9022014082726001, 902201408...</td>\n      <td>[9022014082785001, 9022014082785001, 902201408...</td>\n      <td>...</td>\n      <td>0.0</td>\n      <td>0.0</td>\n      <td>0.0</td>\n      <td>2757.446809</td>\n      <td>1825.352113</td>\n      <td>2623.481781</td>\n      <td>1800.0</td>\n      <td>2347.826087</td>\n      <td>0.0</td>\n      <td>0.0</td>\n    </tr>\n    <tr>\n      <th>2</th>\n      <td>Borealis kracker_307980814</td>\n      <td>AGA Vattenfall_307980814</td>\n      <td>27.0</td>\n      <td>[9011014633100000, 9011014633400000, 901101463...</td>\n      <td>Borealis kracker</td>\n      <td>307980814</td>\n      <td>AGA Vattenfall</td>\n      <td>307980814</td>\n      <td>[9022014015013002, 9022014015013002, 902201401...</td>\n      <td>[9022014015161002, 9022014015161002, 902201401...</td>\n      <td>...</td>\n      <td>0.0</td>\n      <td>0.0</td>\n      <td>0.0</td>\n      <td>0.000000</td>\n      <td>0.000000</td>\n      <td>0.000000</td>\n      <td>0.0</td>\n      <td>0.000000</td>\n      <td>0.0</td>\n      <td>0.0</td>\n    </tr>\n    <tr>\n      <th>3</th>\n      <td>Jordhammar_307980814</td>\n      <td>AGA Vattenfall_307980814</td>\n      <td>97.0</td>\n      <td>[9011014633100000, 9011014633400000, 901101463...</td>\n      <td>Jordhammar</td>\n      <td>307980814</td>\n      <td>AGA Vattenfall</td>\n      <td>307980814</td>\n      <td>[9022014015110001, 9022014015110001, 902201401...</td>\n      <td>[9022014015161001, 9022014015161001, 902201401...</td>\n      <td>...</td>\n      <td>0.0</td>\n      <td>0.0</td>\n      <td>0.0</td>\n      <td>0.000000</td>\n      <td>0.000000</td>\n      <td>0.000000</td>\n      <td>0.0</td>\n      <td>0.000000</td>\n      <td>0.0</td>\n      <td>0.0</td>\n    </tr>\n    <tr>\n      <th>4</th>\n      <td>Badet_307959538</td>\n      <td>Abrahamstorp_307959538</td>\n      <td>40.0</td>\n      <td>[9011014366300000, 9011014658100000, 901101436...</td>\n      <td>Badet</td>\n      <td>307959538</td>\n      <td>Abrahamstorp</td>\n      <td>307959538</td>\n      <td>[9022014046021001, 9022014046021001, 902201404...</td>\n      <td>[9022014046020001, 9022014046020001, 902201404...</td>\n      <td>...</td>\n      <td>0.0</td>\n      <td>0.0</td>\n      <td>0.0</td>\n      <td>0.000000</td>\n      <td>18000.000000</td>\n      <td>0.000000</td>\n      <td>0.0</td>\n      <td>0.000000</td>\n      <td>0.0</td>\n      <td>0.0</td>\n    </tr>\n  </tbody>\n</table>\n<p>5 rows × 70 columns</p>\n</div>"
     },
     "execution_count": 57,
     "metadata": {},
     "output_type": "execute_result"
    }
   ],
   "source": [
    "# Filter and organize the final table\n",
    "# Step 7: Rename columns for clarity\n",
    "links_pt_6_l2.rename(\n",
    "    columns={'node_id_source': 'source',\n",
    "             'node_id_target': 'target'}, inplace=True\n",
    ")\n",
    "\n",
    "# Step 8: Select desired columns for the final DataFrame\n",
    "links_pt_6 = links_pt_6_l2[['source', 'target', 'time_distance', 'route_id', 'stop_name_source',\n",
    "                            'place_id_source', 'stop_name_target', 'place_id_target',\n",
    "                            'stop_id_source', 'stop_id_target', 'route_short_name', 'mode',\n",
    "                            'direction_id','geometry']\n",
    "                           + [col for col in links_pt_6_l2.columns if col.startswith('freq_')]]\\\n",
    "    .drop_duplicates(subset=['source', 'target'])\n",
    "\n",
    "# Step 9: Filter out rows where 'source' is equal to 'target'\n",
    "links_pt_6 = links_pt_6[links_pt_6['source'] != links_pt_6['target']]\n",
    "\n",
    "# Step 10 : Display the final results\n",
    "links_pt_6.head()"
   ],
   "metadata": {
    "collapsed": false,
    "pycharm": {
     "name": "#%%\n"
    }
   }
  },
  {
   "cell_type": "code",
   "execution_count": 59,
   "outputs": [],
   "source": [
    "# Step 11 (optional): Set geometry and export to the DB\n",
    "links_pt_6 = gpd.GeoDataFrame(links_pt_6, geometry='geometry', crs='3006')\n",
    "links_pt_6.to_postgis('links_pt_6', engine, schema='pt_6_odirection_stopareas_onemode', if_exists ='replace')"
   ],
   "metadata": {
    "collapsed": false,
    "pycharm": {
     "name": "#%%\n"
    }
   }
  },
  {
   "cell_type": "markdown",
   "source": [
    "### Transfers"
   ],
   "metadata": {
    "collapsed": false,
    "pycharm": {
     "name": "#%% md\n"
    }
   }
  },
  {
   "cell_type": "markdown",
   "source": [
    "#### Different stops"
   ],
   "metadata": {
    "collapsed": false,
    "pycharm": {
     "name": "#%% md\n"
    }
   }
  },
  {
   "cell_type": "code",
   "execution_count": 40,
   "outputs": [
    {
     "data": {
      "text/plain": "      stop_areas_name   place_id                       node_id  \\\n0      7:e Villagatan  307955489      7:e Villagatan_307955489   \n1      AGA Vattenfall  307980814      AGA Vattenfall_307980814   \n2        Abrahamstorp  307959538        Abrahamstorp_307959538   \n3  Acklinga Solbacken  307927983  Acklinga Solbacken_307927983   \n4      Acklinga kyrka  307927983      Acklinga kyrka_307927983   \n\n                         geometry  \n0  POINT (378291.977 6399668.440)  \n1  POINT (313191.955 6442732.480)  \n2  POINT (371017.481 6448504.455)  \n3  POINT (434327.469 6451981.944)  \n4  POINT (434071.965 6451013.922)  ",
      "text/html": "<div>\n<style scoped>\n    .dataframe tbody tr th:only-of-type {\n        vertical-align: middle;\n    }\n\n    .dataframe tbody tr th {\n        vertical-align: top;\n    }\n\n    .dataframe thead th {\n        text-align: right;\n    }\n</style>\n<table border=\"1\" class=\"dataframe\">\n  <thead>\n    <tr style=\"text-align: right;\">\n      <th></th>\n      <th>stop_areas_name</th>\n      <th>place_id</th>\n      <th>node_id</th>\n      <th>geometry</th>\n    </tr>\n  </thead>\n  <tbody>\n    <tr>\n      <th>0</th>\n      <td>7:e Villagatan</td>\n      <td>307955489</td>\n      <td>7:e Villagatan_307955489</td>\n      <td>POINT (378291.977 6399668.440)</td>\n    </tr>\n    <tr>\n      <th>1</th>\n      <td>AGA Vattenfall</td>\n      <td>307980814</td>\n      <td>AGA Vattenfall_307980814</td>\n      <td>POINT (313191.955 6442732.480)</td>\n    </tr>\n    <tr>\n      <th>2</th>\n      <td>Abrahamstorp</td>\n      <td>307959538</td>\n      <td>Abrahamstorp_307959538</td>\n      <td>POINT (371017.481 6448504.455)</td>\n    </tr>\n    <tr>\n      <th>3</th>\n      <td>Acklinga Solbacken</td>\n      <td>307927983</td>\n      <td>Acklinga Solbacken_307927983</td>\n      <td>POINT (434327.469 6451981.944)</td>\n    </tr>\n    <tr>\n      <th>4</th>\n      <td>Acklinga kyrka</td>\n      <td>307927983</td>\n      <td>Acklinga kyrka_307927983</td>\n      <td>POINT (434071.965 6451013.922)</td>\n    </tr>\n  </tbody>\n</table>\n</div>"
     },
     "execution_count": 40,
     "metadata": {},
     "output_type": "execute_result"
    }
   ],
   "source": [
    "#Preprocess the Data\n",
    "# Step 1: Create a copy of the nodes table\n",
    "nodes_transfer_diff_stop = nodes_pt_6[['stop_areas_name',\n",
    "                                       'place_id',\n",
    "                                       'node_id',\n",
    "                                       'geometry']]\n",
    "# Step 2 (optional): Display the results\n",
    "nodes_transfer_diff_stop.head()"
   ],
   "metadata": {
    "collapsed": false,
    "pycharm": {
     "name": "#%%\n"
    }
   }
  },
  {
   "cell_type": "code",
   "execution_count": 41,
   "outputs": [
    {
     "name": "stderr",
     "output_type": "stream",
     "text": [
      "C:\\Users\\monaliza\\AppData\\Roaming\\Python\\Python39\\site-packages\\geopandas\\geodataframe.py:1525: SettingWithCopyWarning: \n",
      "A value is trying to be set on a copy of a slice from a DataFrame.\n",
      "Try using .loc[row_indexer,col_indexer] = value instead\n",
      "\n",
      "See the caveats in the documentation: https://pandas.pydata.org/pandas-docs/stable/user_guide/indexing.html#returning-a-view-versus-a-copy\n",
      "  super().__setitem__(key, value)\n"
     ]
    },
    {
     "data": {
      "text/plain": "  stop_areas_name_source  place_id_source                        source  \\\n0         7:e Villagatan        307955489      7:e Villagatan_307955489   \n1         AGA Vattenfall        307980814      AGA Vattenfall_307980814   \n2           Abrahamstorp        307959538        Abrahamstorp_307959538   \n3     Acklinga Solbacken        307927983  Acklinga Solbacken_307927983   \n4         Acklinga kyrka        307927983      Acklinga kyrka_307927983   \n\n                  geometry_source stop_areas_name_target  place_id_target  \\\n0  POINT (378291.977 6399668.440)         7:e Villagatan        307955489   \n1  POINT (313191.955 6442732.480)         AGA Vattenfall        307980814   \n2  POINT (371017.481 6448504.455)           Abrahamstorp        307959538   \n3  POINT (434327.469 6451981.944)     Acklinga Solbacken        307927983   \n4  POINT (434071.965 6451013.922)         Acklinga kyrka        307927983   \n\n                         target                 geometry_target  \\\n0      7:e Villagatan_307955489  POINT (378291.977 6399668.440)   \n1      AGA Vattenfall_307980814  POINT (313191.955 6442732.480)   \n2        Abrahamstorp_307959538  POINT (371017.481 6448504.455)   \n3  Acklinga Solbacken_307927983  POINT (434327.469 6451981.944)   \n4      Acklinga kyrka_307927983  POINT (434071.965 6451013.922)   \n\n                                            geometry  \n0  POLYGON ((378366.616 6399661.089, 378365.536 6...  \n1  POLYGON ((313266.594 6442725.129, 313265.514 6...  \n2  POLYGON ((371092.120 6448497.104, 371091.040 6...  \n3  POLYGON ((434402.107 6451974.593, 434401.027 6...  \n4  POLYGON ((434146.604 6451006.570, 434145.524 6...  ",
      "text/html": "<div>\n<style scoped>\n    .dataframe tbody tr th:only-of-type {\n        vertical-align: middle;\n    }\n\n    .dataframe tbody tr th {\n        vertical-align: top;\n    }\n\n    .dataframe thead th {\n        text-align: right;\n    }\n</style>\n<table border=\"1\" class=\"dataframe\">\n  <thead>\n    <tr style=\"text-align: right;\">\n      <th></th>\n      <th>stop_areas_name_source</th>\n      <th>place_id_source</th>\n      <th>source</th>\n      <th>geometry_source</th>\n      <th>stop_areas_name_target</th>\n      <th>place_id_target</th>\n      <th>target</th>\n      <th>geometry_target</th>\n      <th>geometry</th>\n    </tr>\n  </thead>\n  <tbody>\n    <tr>\n      <th>0</th>\n      <td>7:e Villagatan</td>\n      <td>307955489</td>\n      <td>7:e Villagatan_307955489</td>\n      <td>POINT (378291.977 6399668.440)</td>\n      <td>7:e Villagatan</td>\n      <td>307955489</td>\n      <td>7:e Villagatan_307955489</td>\n      <td>POINT (378291.977 6399668.440)</td>\n      <td>POLYGON ((378366.616 6399661.089, 378365.536 6...</td>\n    </tr>\n    <tr>\n      <th>1</th>\n      <td>AGA Vattenfall</td>\n      <td>307980814</td>\n      <td>AGA Vattenfall_307980814</td>\n      <td>POINT (313191.955 6442732.480)</td>\n      <td>AGA Vattenfall</td>\n      <td>307980814</td>\n      <td>AGA Vattenfall_307980814</td>\n      <td>POINT (313191.955 6442732.480)</td>\n      <td>POLYGON ((313266.594 6442725.129, 313265.514 6...</td>\n    </tr>\n    <tr>\n      <th>2</th>\n      <td>Abrahamstorp</td>\n      <td>307959538</td>\n      <td>Abrahamstorp_307959538</td>\n      <td>POINT (371017.481 6448504.455)</td>\n      <td>Abrahamstorp</td>\n      <td>307959538</td>\n      <td>Abrahamstorp_307959538</td>\n      <td>POINT (371017.481 6448504.455)</td>\n      <td>POLYGON ((371092.120 6448497.104, 371091.040 6...</td>\n    </tr>\n    <tr>\n      <th>3</th>\n      <td>Acklinga Solbacken</td>\n      <td>307927983</td>\n      <td>Acklinga Solbacken_307927983</td>\n      <td>POINT (434327.469 6451981.944)</td>\n      <td>Acklinga Solbacken</td>\n      <td>307927983</td>\n      <td>Acklinga Solbacken_307927983</td>\n      <td>POINT (434327.469 6451981.944)</td>\n      <td>POLYGON ((434402.107 6451974.593, 434401.027 6...</td>\n    </tr>\n    <tr>\n      <th>4</th>\n      <td>Acklinga kyrka</td>\n      <td>307927983</td>\n      <td>Acklinga kyrka_307927983</td>\n      <td>POINT (434071.965 6451013.922)</td>\n      <td>Acklinga kyrka</td>\n      <td>307927983</td>\n      <td>Acklinga kyrka_307927983</td>\n      <td>POINT (434071.965 6451013.922)</td>\n      <td>POLYGON ((434146.604 6451006.570, 434145.524 6...</td>\n    </tr>\n  </tbody>\n</table>\n</div>"
     },
     "execution_count": 41,
     "metadata": {},
     "output_type": "execute_result"
    }
   ],
   "source": [
    "# Create the buffers\n",
    "# Step 3: Create a buffer column and set it as geometry\n",
    "nodes_transfer_diff_stop['buffer'] = nodes_transfer_diff_stop['geometry'].buffer(75)\n",
    "nodes_transfer_diff_stop = nodes_transfer_diff_stop.set_geometry('buffer',\n",
    "                                                                 crs='EPSG:3006')\n",
    "\n",
    "# Step 4: found the intersections among the buffers\n",
    "nodes_transfer_diff_stop = gpd.overlay(nodes_transfer_diff_stop,\n",
    "                                       nodes_transfer_diff_stop,\n",
    "                                       how='intersection').rename(columns={'node_id_1':'source',\n",
    "                                                                           'node_id_2':'target',\n",
    "                                                                           'stop_areas_name_1':'stop_areas_name_source',\n",
    "                                                                           'stop_areas_name_2':'stop_areas_name_target',\n",
    "                                                                           'place_id_1':'place_id_source',\n",
    "                                                                           'place_id_2':'place_id_target',\n",
    "                                                                           'geometry_1': 'geometry_source',\n",
    "                                                                           'geometry_2': 'geometry_target'})\n",
    "\n",
    "# Step 5 (optional): Display the results\n",
    "nodes_transfer_diff_stop.head()"
   ],
   "metadata": {
    "collapsed": false,
    "pycharm": {
     "name": "#%%\n"
    }
   }
  },
  {
   "cell_type": "code",
   "execution_count": 42,
   "outputs": [
    {
     "data": {
      "text/plain": "  stop_areas_name_source  place_id_source                        source  \\\n0         7:e Villagatan        307955489      7:e Villagatan_307955489   \n1         AGA Vattenfall        307980814      AGA Vattenfall_307980814   \n2           Abrahamstorp        307959538        Abrahamstorp_307959538   \n3     Acklinga Solbacken        307927983  Acklinga Solbacken_307927983   \n4         Acklinga kyrka        307927983      Acklinga kyrka_307927983   \n\n                  geometry_source stop_areas_name_target  place_id_target  \\\n0  POINT (378291.977 6399668.440)         7:e Villagatan        307955489   \n1  POINT (313191.955 6442732.480)         AGA Vattenfall        307980814   \n2  POINT (371017.481 6448504.455)           Abrahamstorp        307959538   \n3  POINT (434327.469 6451981.944)     Acklinga Solbacken        307927983   \n4  POINT (434071.965 6451013.922)         Acklinga kyrka        307927983   \n\n                         target                 geometry_target  \\\n0      7:e Villagatan_307955489  POINT (378291.977 6399668.440)   \n1      AGA Vattenfall_307980814  POINT (313191.955 6442732.480)   \n2        Abrahamstorp_307959538  POINT (371017.481 6448504.455)   \n3  Acklinga Solbacken_307927983  POINT (434327.469 6451981.944)   \n4      Acklinga kyrka_307927983  POINT (434071.965 6451013.922)   \n\n                                            geometry  length  time_distance  \n0  LINESTRING (378291.977 6399668.440, 378291.977...     0.0            0.0  \n1  LINESTRING (313191.955 6442732.480, 313191.955...     0.0            0.0  \n2  LINESTRING (371017.481 6448504.455, 371017.481...     0.0            0.0  \n3  LINESTRING (434327.469 6451981.944, 434327.469...     0.0            0.0  \n4  LINESTRING (434071.965 6451013.922, 434071.965...     0.0            0.0  ",
      "text/html": "<div>\n<style scoped>\n    .dataframe tbody tr th:only-of-type {\n        vertical-align: middle;\n    }\n\n    .dataframe tbody tr th {\n        vertical-align: top;\n    }\n\n    .dataframe thead th {\n        text-align: right;\n    }\n</style>\n<table border=\"1\" class=\"dataframe\">\n  <thead>\n    <tr style=\"text-align: right;\">\n      <th></th>\n      <th>stop_areas_name_source</th>\n      <th>place_id_source</th>\n      <th>source</th>\n      <th>geometry_source</th>\n      <th>stop_areas_name_target</th>\n      <th>place_id_target</th>\n      <th>target</th>\n      <th>geometry_target</th>\n      <th>geometry</th>\n      <th>length</th>\n      <th>time_distance</th>\n    </tr>\n  </thead>\n  <tbody>\n    <tr>\n      <th>0</th>\n      <td>7:e Villagatan</td>\n      <td>307955489</td>\n      <td>7:e Villagatan_307955489</td>\n      <td>POINT (378291.977 6399668.440)</td>\n      <td>7:e Villagatan</td>\n      <td>307955489</td>\n      <td>7:e Villagatan_307955489</td>\n      <td>POINT (378291.977 6399668.440)</td>\n      <td>LINESTRING (378291.977 6399668.440, 378291.977...</td>\n      <td>0.0</td>\n      <td>0.0</td>\n    </tr>\n    <tr>\n      <th>1</th>\n      <td>AGA Vattenfall</td>\n      <td>307980814</td>\n      <td>AGA Vattenfall_307980814</td>\n      <td>POINT (313191.955 6442732.480)</td>\n      <td>AGA Vattenfall</td>\n      <td>307980814</td>\n      <td>AGA Vattenfall_307980814</td>\n      <td>POINT (313191.955 6442732.480)</td>\n      <td>LINESTRING (313191.955 6442732.480, 313191.955...</td>\n      <td>0.0</td>\n      <td>0.0</td>\n    </tr>\n    <tr>\n      <th>2</th>\n      <td>Abrahamstorp</td>\n      <td>307959538</td>\n      <td>Abrahamstorp_307959538</td>\n      <td>POINT (371017.481 6448504.455)</td>\n      <td>Abrahamstorp</td>\n      <td>307959538</td>\n      <td>Abrahamstorp_307959538</td>\n      <td>POINT (371017.481 6448504.455)</td>\n      <td>LINESTRING (371017.481 6448504.455, 371017.481...</td>\n      <td>0.0</td>\n      <td>0.0</td>\n    </tr>\n    <tr>\n      <th>3</th>\n      <td>Acklinga Solbacken</td>\n      <td>307927983</td>\n      <td>Acklinga Solbacken_307927983</td>\n      <td>POINT (434327.469 6451981.944)</td>\n      <td>Acklinga Solbacken</td>\n      <td>307927983</td>\n      <td>Acklinga Solbacken_307927983</td>\n      <td>POINT (434327.469 6451981.944)</td>\n      <td>LINESTRING (434327.469 6451981.944, 434327.469...</td>\n      <td>0.0</td>\n      <td>0.0</td>\n    </tr>\n    <tr>\n      <th>4</th>\n      <td>Acklinga kyrka</td>\n      <td>307927983</td>\n      <td>Acklinga kyrka_307927983</td>\n      <td>POINT (434071.965 6451013.922)</td>\n      <td>Acklinga kyrka</td>\n      <td>307927983</td>\n      <td>Acklinga kyrka_307927983</td>\n      <td>POINT (434071.965 6451013.922)</td>\n      <td>LINESTRING (434071.965 6451013.922, 434071.965...</td>\n      <td>0.0</td>\n      <td>0.0</td>\n    </tr>\n  </tbody>\n</table>\n</div>"
     },
     "execution_count": 42,
     "metadata": {},
     "output_type": "execute_result"
    }
   ],
   "source": [
    "#Step 3: Found the intersections among the buffers\n",
    "#Create the geometry\n",
    "# Step 6: Create linstrings between the intersections\n",
    "nodes_transfer_diff_stop['geometry'] = nodes_transfer_diff_stop.apply(\n",
    "    lambda row: LineString([[row.geometry_source.x, row.geometry_source.y],\n",
    "                            [row.geometry_target.x, row.geometry_target.y]])\n",
    "    if row.geometry_target is not None else None,\n",
    "    axis=1)\n",
    "\n",
    "# Step 7: Set the length of the linestring\n",
    "nodes_transfer_diff_stop['length'] = nodes_transfer_diff_stop['geometry'].length\n",
    "nodes_transfer_diff_stop['time_distance'] = nodes_transfer_diff_stop['length'] / 1.2\n",
    "\n",
    "# Step 8 (optional): Display the results\n",
    "nodes_transfer_diff_stop.head()"
   ],
   "metadata": {
    "collapsed": false,
    "pycharm": {
     "name": "#%%\n"
    }
   }
  },
  {
   "cell_type": "code",
   "execution_count": 46,
   "outputs": [
    {
     "name": "stderr",
     "output_type": "stream",
     "text": [
      "C:\\Users\\monaliza\\AppData\\Roaming\\Python\\Python39\\site-packages\\geopandas\\geodataframe.py:1525: SettingWithCopyWarning: \n",
      "A value is trying to be set on a copy of a slice from a DataFrame.\n",
      "Try using .loc[row_indexer,col_indexer] = value instead\n",
      "\n",
      "See the caveats in the documentation: https://pandas.pydata.org/pandas-docs/stable/user_guide/indexing.html#returning-a-view-versus-a-copy\n",
      "  super().__setitem__(key, value)\n"
     ]
    },
    {
     "data": {
      "text/plain": "             source         target  \\\n31    Alekärrsgatan  Dickson Södra   \n53        Allégatan   Södra torget   \n54        Allégatan      Åsbogatan   \n78     Alvareds bro    Storegården   \n126  Anneholmsgatan     Prytzgatan   \n\n                                              geometry      length  \\\n31   LINESTRING (321849.955 6403991.951, 321732.984...  120.391991   \n53   LINESTRING (377468.217 6399358.673, 377421.472...   97.224317   \n54   LINESTRING (377468.217 6399358.673, 377515.487...   48.835419   \n78   LINESTRING (414333.450 6432792.434, 414431.478...  100.353921   \n126  LINESTRING (321473.976 6398939.953, 321578.993...  124.548843   \n\n     time_distance  \n31      100.326659  \n53       81.020264  \n54       40.696182  \n78       83.628267  \n126     103.790702  ",
      "text/html": "<div>\n<style scoped>\n    .dataframe tbody tr th:only-of-type {\n        vertical-align: middle;\n    }\n\n    .dataframe tbody tr th {\n        vertical-align: top;\n    }\n\n    .dataframe thead th {\n        text-align: right;\n    }\n</style>\n<table border=\"1\" class=\"dataframe\">\n  <thead>\n    <tr style=\"text-align: right;\">\n      <th></th>\n      <th>source</th>\n      <th>target</th>\n      <th>geometry</th>\n      <th>length</th>\n      <th>time_distance</th>\n    </tr>\n  </thead>\n  <tbody>\n    <tr>\n      <th>31</th>\n      <td>Alekärrsgatan</td>\n      <td>Dickson Södra</td>\n      <td>LINESTRING (321849.955 6403991.951, 321732.984...</td>\n      <td>120.391991</td>\n      <td>100.326659</td>\n    </tr>\n    <tr>\n      <th>53</th>\n      <td>Allégatan</td>\n      <td>Södra torget</td>\n      <td>LINESTRING (377468.217 6399358.673, 377421.472...</td>\n      <td>97.224317</td>\n      <td>81.020264</td>\n    </tr>\n    <tr>\n      <th>54</th>\n      <td>Allégatan</td>\n      <td>Åsbogatan</td>\n      <td>LINESTRING (377468.217 6399358.673, 377515.487...</td>\n      <td>48.835419</td>\n      <td>40.696182</td>\n    </tr>\n    <tr>\n      <th>78</th>\n      <td>Alvareds bro</td>\n      <td>Storegården</td>\n      <td>LINESTRING (414333.450 6432792.434, 414431.478...</td>\n      <td>100.353921</td>\n      <td>83.628267</td>\n    </tr>\n    <tr>\n      <th>126</th>\n      <td>Anneholmsgatan</td>\n      <td>Prytzgatan</td>\n      <td>LINESTRING (321473.976 6398939.953, 321578.993...</td>\n      <td>124.548843</td>\n      <td>103.790702</td>\n    </tr>\n  </tbody>\n</table>\n</div>"
     },
     "execution_count": 46,
     "metadata": {},
     "output_type": "execute_result"
    }
   ],
   "source": [
    "# Filter and organize the tables\n",
    "# Step 9: Filter the transfers between different stops\n",
    "transfers_diff_stop = nodes_transfer_diff_stop[nodes_transfer_diff_stop['length'] > 0]\n",
    "\n",
    "# Step 10: Drop the duplicates of symmetric pairs\n",
    "transfers_diff_stop ['symmetric_pairs'] = transfers_diff_stop[['source',\n",
    "                                                               'target']].apply(lambda x: '-'.join(sorted(x)),\n",
    "                                                                                axis=1)\n",
    "transfers_diff_stop = transfers_diff_stop.drop_duplicates(subset = ['symmetric_pairs'])\n",
    "\n",
    "# Step 11: Filter the necessary columns\n",
    "transfers_diff_stop = transfers_diff_stop [['stop_areas_name_source',\n",
    "                                            'stop_areas_name_target',\n",
    "                                            'geometry',\n",
    "                                            'length',\n",
    "                                            'time_distance']].rename(columns={'stop_areas_name_source':'source',\n",
    "                                                                              'stop_areas_name_target':'target'}).drop_duplicates()\n",
    "# Step 12 : Display the final results\n",
    "transfers_diff_stop.head()"
   ],
   "metadata": {
    "collapsed": false,
    "pycharm": {
     "name": "#%%\n"
    }
   }
  },
  {
   "cell_type": "code",
   "execution_count": 47,
   "outputs": [],
   "source": [
    "# Step 14 (optional) : Set Geometry and Export to the DB\n",
    "transfers_diff_stop = gpd.GeoDataFrame(transfers_diff_stop, geometry='geometry', crs='3006')\n",
    "transfers_diff_stop.to_postgis('transfers_diff_stop_pt_6', engine, schema='pt_6_odirection_stopareas_onemode', if_exists ='replace')"
   ],
   "metadata": {
    "collapsed": false,
    "pycharm": {
     "name": "#%%\n"
    }
   }
  }
 ],
 "metadata": {
  "kernelspec": {
   "display_name": "Python 3",
   "language": "python",
   "name": "python3"
  },
  "language_info": {
   "codemirror_mode": {
    "name": "ipython",
    "version": 2
   },
   "file_extension": ".py",
   "mimetype": "text/x-python",
   "name": "python",
   "nbconvert_exporter": "python",
   "pygments_lexer": "ipython2",
   "version": "2.7.6"
  }
 },
 "nbformat": 4,
 "nbformat_minor": 0
}