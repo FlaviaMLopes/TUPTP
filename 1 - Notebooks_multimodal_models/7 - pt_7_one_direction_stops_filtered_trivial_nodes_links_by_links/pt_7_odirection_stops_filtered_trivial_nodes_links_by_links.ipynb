{
 "cells": [
  {
   "cell_type": "markdown",
   "source": [
    "## Nodes_filtered_trivial_nodes_links_by_links"
   ],
   "metadata": {
    "collapsed": false,
    "pycharm": {
     "name": "#%% md\n"
    }
   }
  },
  {
   "cell_type": "markdown",
   "source": [
    "### Import libraries"
   ],
   "metadata": {
    "collapsed": false,
    "pycharm": {
     "name": "#%% md\n"
    }
   }
  },
  {
   "cell_type": "code",
   "execution_count": 1,
   "outputs": [],
   "source": [
    "#import libraries\n",
    "import pandas as pd\n",
    "import numpy as np\n",
    "import geopandas as gpd\n",
    "from sqlalchemy import create_engine\n",
    "from sqlalchemy import text\n",
    "from shapely.geometry import LineString, MultiPoint, Point\n",
    "import networkx as nx\n",
    "from shapely.ops import unary_union"
   ],
   "metadata": {
    "collapsed": false,
    "pycharm": {
     "name": "#%%\n"
    }
   }
  },
  {
   "cell_type": "markdown",
   "source": [
    "#### Create the connection with the DB"
   ],
   "metadata": {
    "collapsed": false,
    "pycharm": {
     "name": "#%% md\n"
    }
   }
  },
  {
   "cell_type": "code",
   "execution_count": 2,
   "outputs": [],
   "source": [
    "# Step 1: Create the connection with the DB\n",
    "engine = create_engine(\"postgresql://urbaninfo:@cirrus.ita.chalmers.se/se_tuptp\")\n",
    "conn = engine.connect()"
   ],
   "metadata": {
    "collapsed": false,
    "pycharm": {
     "name": "#%%\n"
    }
   }
  },
  {
   "cell_type": "code",
   "execution_count": 3,
   "outputs": [],
   "source": [
    "# Step 2: Create a new schema when it is necessary\n",
    "#schema = '''CREATE SCHEMA name_schema'''\n",
    "#conn.execute(schema)"
   ],
   "metadata": {
    "collapsed": false,
    "pycharm": {
     "name": "#%%\n"
    }
   }
  },
  {
   "cell_type": "markdown",
   "source": [
    "### Nodes - Prepare the data"
   ],
   "metadata": {
    "collapsed": false,
    "pycharm": {
     "name": "#%% md\n"
    }
   }
  },
  {
   "cell_type": "code",
   "execution_count": 4,
   "outputs": [],
   "source": [
    "# Import Data\n",
    "# Step 0: Import Data\n",
    "nodes_pt_1_query = text('SELECT * FROM pt_1_mdirections_mstops_mroutes.nodes_pt_1')\n",
    "nodes_pt_1 = gpd.read_postgis(nodes_pt_1_query, engine, geom_col='geometry')"
   ],
   "metadata": {
    "collapsed": false,
    "pycharm": {
     "name": "#%%\n"
    }
   }
  },
  {
   "cell_type": "code",
   "execution_count": 6,
   "outputs": [
    {
     "data": {
      "text/plain": "            stop_name   place_id  \\\n0      7:e Villagatan  307955489   \n1      AGA Vattenfall  307980814   \n2        Abrahamstorp  307959538   \n3            Acklinga  307927983   \n4  Acklinga Solbacken  307927983   \n\n                                            route_id  \\\n0  [9011014200300000, 9011014200500000, 901101420...   \n1  [9011014633100000, 9011014633400000, 901101463...   \n2  [9011014366300000, 9011014658100000, 901101436...   \n3  [9011014330300000, 9011014332700000, 901101438...   \n4               [9011014384000000, 9011014332600000]   \n\n                  route_short_name  \\\n0         [3, 5, 8, 1, 3, 5, 8, 1]   \n1  [331, 334, 4, 932, 331, 334, 4]   \n2                  [663, 581, 663]   \n3        [303, 327, 327, 303, 327]   \n4                       [326, 326]   \n\n                                             stop_id  \\\n0  [9022014082785001, 9022014082785001, 902201408...   \n1  [9022014015161001, 9022014015161001, 902201401...   \n2  [9022014046020001, 9022014046020001, 902201404...   \n3  [9022014042120001, 9022014042120001, 902201404...   \n4               [9022014042270001, 9022014042270002]   \n\n               direction_id  \\\n0  [0, 1, 0, 0, 1, 0, 1, 1]   \n1     [0, 0, 1, 1, 1, 1, 0]   \n2                 [1, 1, 0]   \n3           [1, 1, 0, 0, 0]   \n4                    [1, 1]   \n\n                                                mode  \\\n0  [bus_service, bus_service, bus_service, bus_se...   \n1  [bus_service, bus_service, bus_service, bus_se...   \n2  [communal_taxi_service, bus_service, communal_...   \n3  [bus_service, bus_service, communal_taxi_servi...   \n4               [communal_taxi_service, bus_service]   \n\n                                               osmid  \\\n0  [87793055.0, 87793055.0, 87793055.0, 87793055....   \n1  [1021141732.0, 1021141732.0, 1021141732.0, 102...   \n2            [173516827.0, 173516827.0, 835571452.0]   \n3  [19804825.0, 19804825.0, 19804825.0, 19804825....   \n4                       [1008032531.0, 1008032531.0]   \n\n                         geometry  \n0  POINT (378291.977 6399668.440)  \n1  POINT (313191.955 6442732.480)  \n2  POINT (371017.481 6448504.455)  \n3  POINT (434427.979 6451013.415)  \n4  POINT (434327.469 6451981.944)  ",
      "text/html": "<div>\n<style scoped>\n    .dataframe tbody tr th:only-of-type {\n        vertical-align: middle;\n    }\n\n    .dataframe tbody tr th {\n        vertical-align: top;\n    }\n\n    .dataframe thead th {\n        text-align: right;\n    }\n</style>\n<table border=\"1\" class=\"dataframe\">\n  <thead>\n    <tr style=\"text-align: right;\">\n      <th></th>\n      <th>stop_name</th>\n      <th>place_id</th>\n      <th>route_id</th>\n      <th>route_short_name</th>\n      <th>stop_id</th>\n      <th>direction_id</th>\n      <th>mode</th>\n      <th>osmid</th>\n      <th>geometry</th>\n    </tr>\n  </thead>\n  <tbody>\n    <tr>\n      <th>0</th>\n      <td>7:e Villagatan</td>\n      <td>307955489</td>\n      <td>[9011014200300000, 9011014200500000, 901101420...</td>\n      <td>[3, 5, 8, 1, 3, 5, 8, 1]</td>\n      <td>[9022014082785001, 9022014082785001, 902201408...</td>\n      <td>[0, 1, 0, 0, 1, 0, 1, 1]</td>\n      <td>[bus_service, bus_service, bus_service, bus_se...</td>\n      <td>[87793055.0, 87793055.0, 87793055.0, 87793055....</td>\n      <td>POINT (378291.977 6399668.440)</td>\n    </tr>\n    <tr>\n      <th>1</th>\n      <td>AGA Vattenfall</td>\n      <td>307980814</td>\n      <td>[9011014633100000, 9011014633400000, 901101463...</td>\n      <td>[331, 334, 4, 932, 331, 334, 4]</td>\n      <td>[9022014015161001, 9022014015161001, 902201401...</td>\n      <td>[0, 0, 1, 1, 1, 1, 0]</td>\n      <td>[bus_service, bus_service, bus_service, bus_se...</td>\n      <td>[1021141732.0, 1021141732.0, 1021141732.0, 102...</td>\n      <td>POINT (313191.955 6442732.480)</td>\n    </tr>\n    <tr>\n      <th>2</th>\n      <td>Abrahamstorp</td>\n      <td>307959538</td>\n      <td>[9011014366300000, 9011014658100000, 901101436...</td>\n      <td>[663, 581, 663]</td>\n      <td>[9022014046020001, 9022014046020001, 902201404...</td>\n      <td>[1, 1, 0]</td>\n      <td>[communal_taxi_service, bus_service, communal_...</td>\n      <td>[173516827.0, 173516827.0, 835571452.0]</td>\n      <td>POINT (371017.481 6448504.455)</td>\n    </tr>\n    <tr>\n      <th>3</th>\n      <td>Acklinga</td>\n      <td>307927983</td>\n      <td>[9011014330300000, 9011014332700000, 901101438...</td>\n      <td>[303, 327, 327, 303, 327]</td>\n      <td>[9022014042120001, 9022014042120001, 902201404...</td>\n      <td>[1, 1, 0, 0, 0]</td>\n      <td>[bus_service, bus_service, communal_taxi_servi...</td>\n      <td>[19804825.0, 19804825.0, 19804825.0, 19804825....</td>\n      <td>POINT (434427.979 6451013.415)</td>\n    </tr>\n    <tr>\n      <th>4</th>\n      <td>Acklinga Solbacken</td>\n      <td>307927983</td>\n      <td>[9011014384000000, 9011014332600000]</td>\n      <td>[326, 326]</td>\n      <td>[9022014042270001, 9022014042270002]</td>\n      <td>[1, 1]</td>\n      <td>[communal_taxi_service, bus_service]</td>\n      <td>[1008032531.0, 1008032531.0]</td>\n      <td>POINT (434327.469 6451981.944)</td>\n    </tr>\n  </tbody>\n</table>\n</div>"
     },
     "execution_count": 6,
     "metadata": {},
     "output_type": "execute_result"
    }
   ],
   "source": [
    "# Preprocess the data\n",
    "# Step 1: Copy the original DataFrame\n",
    "nodes_pt_8_l1 = nodes_pt_1.copy()\n",
    "\n",
    "# Step 2: Aggregate functions for node grouping\n",
    "agg_func_node = {\n",
    "    'route_id': list,\n",
    "    'route_short_name': list,\n",
    "    'stop_id': list,\n",
    "    'direction_id': list,\n",
    "    'mode': list,\n",
    "    'osmid': list,\n",
    "    'geometry': lambda g: Point(unary_union(g).centroid.x, unary_union(g).centroid.y)\n",
    "}\n",
    "nodes_pt_8_l2 = nodes_pt_8_l1.groupby(['stop_name', 'place_id']).agg(agg_func_node).reset_index()\n",
    "\n",
    "# Step 3: Set Geometry\n",
    "nodes_pt_8_l2 = gpd.GeoDataFrame(nodes_pt_8_l2, geometry='geometry', crs='EPSG:3006')\n",
    "\n",
    "# Step 4: Display the results\n",
    "nodes_pt_8_l2.head()"
   ],
   "metadata": {
    "collapsed": false,
    "pycharm": {
     "name": "#%%\n"
    }
   }
  },
  {
   "cell_type": "code",
   "execution_count": 7,
   "outputs": [],
   "source": [
    "# Step 5: Create buffer zones\n",
    "nodes_pt_8_l2 ['buffer'] = nodes_pt_8_l2.geometry.buffer(85)\n",
    "nodes_pt_8_l2 = nodes_pt_8_l2.set_geometry('buffer', crs='epsg:3006')"
   ],
   "metadata": {
    "collapsed": false,
    "pycharm": {
     "name": "#%%\n"
    }
   }
  },
  {
   "cell_type": "code",
   "execution_count": 8,
   "outputs": [],
   "source": [
    "# Step 6: Create unary union GeoDataFrame\n",
    "nodes_pt_8_l2_unary_union_buffer = gpd.GeoDataFrame(\n",
    "    geometry=[nodes_pt_8_l2.unary_union], crs='epsg:3006'\n",
    ").explode(index_parts=True).reset_index(drop=True)\n",
    "\n",
    "# Step 7: Assign buffer IDs\n",
    "nodes_pt_8_l2_unary_union_buffer['buffer_id'] = nodes_pt_8_l2_unary_union_buffer.index"
   ],
   "metadata": {
    "collapsed": false,
    "pycharm": {
     "name": "#%%\n"
    }
   }
  },
  {
   "cell_type": "code",
   "execution_count": 9,
   "outputs": [],
   "source": [
    "# Step 8: Perform spatial join\n",
    "nodes_pt_8_l2_spatial_join = (\n",
    "    gpd.sjoin(nodes_pt_8_l2_unary_union_buffer, nodes_pt_8_l2, how='inner', predicate='intersects')\n",
    "    .reset_index(drop=True)\n",
    "    .rename(columns={'geometry_left': 'geometry_buffer', 'geometry_right': 'geometry'})\n",
    ")"
   ],
   "metadata": {
    "collapsed": false,
    "pycharm": {
     "name": "#%%\n"
    }
   }
  },
  {
   "cell_type": "code",
   "execution_count": 10,
   "outputs": [],
   "source": [
    "# Step 9: Explode modes\n",
    "nodes_pt_8_l2_exploded_modes = nodes_pt_8_l2_spatial_join.explode('mode').drop_duplicates(['stop_name', 'place_id', 'mode'])\n",
    "\n",
    "# Step 10: Count modes by buffer and merge the mode count in the nodes table\n",
    "nodes_pt_8_l2_mode_count = nodes_pt_8_l2_exploded_modes.groupby('buffer_id')['mode'].nunique().reset_index(name='mode_count')\n",
    "nodes_pt_8_l2_mode_count_merged = pd.merge(nodes_pt_8_l2_exploded_modes, nodes_pt_8_l2_mode_count, on='buffer_id', how='inner')"
   ],
   "metadata": {
    "collapsed": false,
    "pycharm": {
     "name": "#%%\n"
    }
   }
  },
  {
   "cell_type": "code",
   "execution_count": 11,
   "outputs": [],
   "source": [
    "# Step 11: Create tables with stops having more than one mode and with only one mode\n",
    "nodes_pt_8_l2_multi_modes = nodes_pt_8_l2_mode_count_merged[nodes_pt_8_l2_mode_count_merged.mode_count > 1]\n",
    "nodes_pt_8_l2_one_mode = nodes_pt_8_l2_mode_count_merged[nodes_pt_8_l2_mode_count_merged.mode_count == 1]"
   ],
   "metadata": {
    "collapsed": false,
    "pycharm": {
     "name": "#%%\n"
    }
   }
  },
  {
   "cell_type": "code",
   "execution_count": 12,
   "outputs": [],
   "source": [
    "# Step 12: Rename buffers by most recurrent stop name\n",
    "nodes_pt_8_l2_stop_areas_name = nodes_pt_8_l2_multi_modes.groupby('buffer_id').agg({'stop_name': lambda x: x.mode().iloc[0]}).reset_index()"
   ],
   "metadata": {
    "collapsed": false,
    "pycharm": {
     "name": "#%%\n"
    }
   }
  },
  {
   "cell_type": "code",
   "execution_count": 13,
   "outputs": [],
   "source": [
    "# Step 13: Merge new names with multi-mode buffers\n",
    "nodes_pt_8_l2_stop_areas_name_multi_modes = pd.merge(\n",
    "    nodes_pt_8_l2_multi_modes[['buffer_id', 'stop_name', 'place_id', 'mode', 'geometry_buffer']],\n",
    "    nodes_pt_8_l2_stop_areas_name, on='buffer_id', how='inner'\n",
    ").rename(columns={'stop_name_x': 'stop_name', 'stop_name_y': 'stop_areas_name'})"
   ],
   "metadata": {
    "collapsed": false,
    "pycharm": {
     "name": "#%%\n"
    }
   }
  },
  {
   "cell_type": "code",
   "execution_count": 14,
   "outputs": [],
   "source": [
    "# Step 14: Create centroids of buffers\n",
    "nodes_pt_8_l2_stop_areas_centroids = gpd.GeoDataFrame(nodes_pt_8_l2_stop_areas_name_multi_modes, geometry='geometry_buffer', crs='EPSG:3006')\n",
    "nodes_pt_8_l2_stop_areas_centroids ['geometry'] = nodes_pt_8_l2_stop_areas_centroids.geometry.centroid"
   ],
   "metadata": {
    "collapsed": false,
    "pycharm": {
     "name": "#%%\n"
    }
   }
  },
  {
   "cell_type": "code",
   "execution_count": 16,
   "outputs": [],
   "source": [
    "# Step 15: Merge multi-mode buffers with one-mode table\n",
    "nodes_pt_8_l2_one_mode.loc[:,'stop_areas_name'] = nodes_pt_8_l2_one_mode.loc[:,'stop_name']\n",
    "nodes_pt_8_l3 = pd.merge(\n",
    "    nodes_pt_8_l2_one_mode[['stop_areas_name', 'stop_name', 'place_id', 'mode', 'geometry']],\n",
    "    nodes_pt_8_l2_stop_areas_centroids,\n",
    "    on=['stop_areas_name', 'stop_name', 'place_id', 'mode', 'geometry'],\n",
    "    how='outer'\n",
    ")"
   ],
   "metadata": {
    "collapsed": false,
    "pycharm": {
     "name": "#%%\n"
    }
   }
  },
  {
   "cell_type": "code",
   "execution_count": 17,
   "outputs": [
    {
     "data": {
      "text/plain": "  stop_areas_name       stop_name   place_id         mode  \\\n0  7:e Villagatan  7:e Villagatan  307955489  bus_service   \n1  7:e Villagatan  7:e Villagatan  307955489  bus_service   \n2  7:e Villagatan  7:e Villagatan  307955489  bus_service   \n3  7:e Villagatan  7:e Villagatan  307955489  bus_service   \n4  7:e Villagatan  7:e Villagatan  307955489  bus_service   \n\n                         geometry  buffer_id geometry_buffer  \\\n0  POINT (378291.977 6399668.440)        NaN            None   \n1  POINT (378291.977 6399668.440)        NaN            None   \n2  POINT (378291.977 6399668.440)        NaN            None   \n3  POINT (378291.977 6399668.440)        NaN            None   \n4  POINT (378291.977 6399668.440)        NaN            None   \n\n            stop_id          route_id route_short_name  direction_id  \\\n0  9022014082785001  9011014200300000                3             0   \n1  9022014082785001  9011014200500000                5             1   \n2  9022014082785001  9011014200800000                8             0   \n3  9022014082785001  9011014200100000                1             0   \n4  9022014082785002  9011014200300000                3             1   \n\n        osmid  \n0  87793055.0  \n1  87793055.0  \n2  87793055.0  \n3  87793055.0  \n4  23859327.0  ",
      "text/html": "<div>\n<style scoped>\n    .dataframe tbody tr th:only-of-type {\n        vertical-align: middle;\n    }\n\n    .dataframe tbody tr th {\n        vertical-align: top;\n    }\n\n    .dataframe thead th {\n        text-align: right;\n    }\n</style>\n<table border=\"1\" class=\"dataframe\">\n  <thead>\n    <tr style=\"text-align: right;\">\n      <th></th>\n      <th>stop_areas_name</th>\n      <th>stop_name</th>\n      <th>place_id</th>\n      <th>mode</th>\n      <th>geometry</th>\n      <th>buffer_id</th>\n      <th>geometry_buffer</th>\n      <th>stop_id</th>\n      <th>route_id</th>\n      <th>route_short_name</th>\n      <th>direction_id</th>\n      <th>osmid</th>\n    </tr>\n  </thead>\n  <tbody>\n    <tr>\n      <th>0</th>\n      <td>7:e Villagatan</td>\n      <td>7:e Villagatan</td>\n      <td>307955489</td>\n      <td>bus_service</td>\n      <td>POINT (378291.977 6399668.440)</td>\n      <td>NaN</td>\n      <td>None</td>\n      <td>9022014082785001</td>\n      <td>9011014200300000</td>\n      <td>3</td>\n      <td>0</td>\n      <td>87793055.0</td>\n    </tr>\n    <tr>\n      <th>1</th>\n      <td>7:e Villagatan</td>\n      <td>7:e Villagatan</td>\n      <td>307955489</td>\n      <td>bus_service</td>\n      <td>POINT (378291.977 6399668.440)</td>\n      <td>NaN</td>\n      <td>None</td>\n      <td>9022014082785001</td>\n      <td>9011014200500000</td>\n      <td>5</td>\n      <td>1</td>\n      <td>87793055.0</td>\n    </tr>\n    <tr>\n      <th>2</th>\n      <td>7:e Villagatan</td>\n      <td>7:e Villagatan</td>\n      <td>307955489</td>\n      <td>bus_service</td>\n      <td>POINT (378291.977 6399668.440)</td>\n      <td>NaN</td>\n      <td>None</td>\n      <td>9022014082785001</td>\n      <td>9011014200800000</td>\n      <td>8</td>\n      <td>0</td>\n      <td>87793055.0</td>\n    </tr>\n    <tr>\n      <th>3</th>\n      <td>7:e Villagatan</td>\n      <td>7:e Villagatan</td>\n      <td>307955489</td>\n      <td>bus_service</td>\n      <td>POINT (378291.977 6399668.440)</td>\n      <td>NaN</td>\n      <td>None</td>\n      <td>9022014082785001</td>\n      <td>9011014200100000</td>\n      <td>1</td>\n      <td>0</td>\n      <td>87793055.0</td>\n    </tr>\n    <tr>\n      <th>4</th>\n      <td>7:e Villagatan</td>\n      <td>7:e Villagatan</td>\n      <td>307955489</td>\n      <td>bus_service</td>\n      <td>POINT (378291.977 6399668.440)</td>\n      <td>NaN</td>\n      <td>None</td>\n      <td>9022014082785002</td>\n      <td>9011014200300000</td>\n      <td>3</td>\n      <td>1</td>\n      <td>23859327.0</td>\n    </tr>\n  </tbody>\n</table>\n</div>"
     },
     "execution_count": 17,
     "metadata": {},
     "output_type": "execute_result"
    }
   ],
   "source": [
    "# Step 16: Merge with nodes_pt_1 to get disaggregated information\n",
    "nodes_pt_8_l4 = pd.merge(\n",
    "    nodes_pt_8_l3, nodes_pt_1[['stop_id', 'route_id', 'route_short_name', 'direction_id', 'osmid', 'stop_name', 'place_id', 'mode']],\n",
    "    on=['stop_name', 'place_id', 'mode'], how='inner'\n",
    ")\n",
    "\n",
    "# Step 17 (optional): Display the results\n",
    "nodes_pt_8_l4.head()"
   ],
   "metadata": {
    "collapsed": false,
    "pycharm": {
     "name": "#%%\n"
    }
   }
  },
  {
   "cell_type": "code",
   "execution_count": 57,
   "outputs": [
    {
     "data": {
      "text/plain": "                        node_id     stop_areas_name  \\\n0      7:e Villagatan_307955489      7:e Villagatan   \n1      AGA Vattenfall_307980814      AGA Vattenfall   \n2        Abrahamstorp_307959538        Abrahamstorp   \n3  Acklinga Solbacken_307927983  Acklinga Solbacken   \n4      Acklinga kyrka_307927983      Acklinga kyrka   \n\n                                           stop_name   place_id  \\\n0  [7:e Villagatan, 7:e Villagatan, 7:e Villagata...  307955489   \n1  [AGA Vattenfall, AGA Vattenfall, AGA Vattenfal...  307980814   \n2         [Abrahamstorp, Abrahamstorp, Abrahamstorp]  307959538   \n3           [Acklinga Solbacken, Acklinga Solbacken]  307927983   \n4  [Acklinga kyrka, Acklinga kyrka, Acklinga kyrk...  307927983   \n\n                                                mode  \\\n0  [bus_service, bus_service, bus_service, bus_se...   \n1  [bus_service, bus_service, bus_service, bus_se...   \n2  [bus_service, communal_taxi_service, communal_...   \n3               [bus_service, communal_taxi_service]   \n4  [bus_service, bus_service, bus_service, bus_se...   \n\n                                            route_id  \\\n0  [9011014200300000, 9011014200500000, 901101420...   \n1  [9011014633100000, 9011014633400000, 901101463...   \n2  [9011014658100000, 9011014366300000, 901101436...   \n3               [9011014332600000, 9011014384000000]   \n4  [9011014330300000, 9011014332700000, 901101433...   \n\n                  route_short_name  \\\n0         [3, 5, 8, 1, 3, 5, 8, 1]   \n1  [331, 334, 4, 932, 331, 334, 4]   \n2                  [581, 663, 663]   \n3                       [326, 326]   \n4        [303, 327, 303, 327, 327]   \n\n                                             stop_id  \\\n0  [9022014082785001, 9022014082785001, 902201408...   \n1  [9022014015161001, 9022014015161001, 902201401...   \n2  [9022014046020001, 9022014046020001, 902201404...   \n3               [9022014042270002, 9022014042270001]   \n4  [9022014042119001, 9022014042119001, 902201404...   \n\n               direction_id  \\\n0  [0, 1, 0, 0, 1, 0, 1, 1]   \n1     [0, 0, 1, 1, 1, 1, 0]   \n2                 [1, 1, 0]   \n3                    [1, 1]   \n4           [1, 1, 0, 0, 0]   \n\n                                               osmid  \\\n0  [87793055.0, 87793055.0, 87793055.0, 87793055....   \n1  [1021141732.0, 1021141732.0, 1021141732.0, 102...   \n2            [173516827.0, 173516827.0, 835571452.0]   \n3                       [1008032531.0, 1008032531.0]   \n4  [19804825.0, 19804825.0, 19804825.0, 19804825....   \n\n                         geometry  mode_nunique  \n0  POINT (378291.977 6399668.440)             1  \n1  POINT (313191.955 6442732.480)             1  \n2  POINT (371017.481 6448504.455)             2  \n3  POINT (434327.469 6451981.944)             2  \n4  POINT (434071.965 6451013.922)             2  ",
      "text/html": "<div>\n<style scoped>\n    .dataframe tbody tr th:only-of-type {\n        vertical-align: middle;\n    }\n\n    .dataframe tbody tr th {\n        vertical-align: top;\n    }\n\n    .dataframe thead th {\n        text-align: right;\n    }\n</style>\n<table border=\"1\" class=\"dataframe\">\n  <thead>\n    <tr style=\"text-align: right;\">\n      <th></th>\n      <th>node_id</th>\n      <th>stop_areas_name</th>\n      <th>stop_name</th>\n      <th>place_id</th>\n      <th>mode</th>\n      <th>route_id</th>\n      <th>route_short_name</th>\n      <th>stop_id</th>\n      <th>direction_id</th>\n      <th>osmid</th>\n      <th>geometry</th>\n      <th>mode_nunique</th>\n    </tr>\n  </thead>\n  <tbody>\n    <tr>\n      <th>0</th>\n      <td>7:e Villagatan_307955489</td>\n      <td>7:e Villagatan</td>\n      <td>[7:e Villagatan, 7:e Villagatan, 7:e Villagata...</td>\n      <td>307955489</td>\n      <td>[bus_service, bus_service, bus_service, bus_se...</td>\n      <td>[9011014200300000, 9011014200500000, 901101420...</td>\n      <td>[3, 5, 8, 1, 3, 5, 8, 1]</td>\n      <td>[9022014082785001, 9022014082785001, 902201408...</td>\n      <td>[0, 1, 0, 0, 1, 0, 1, 1]</td>\n      <td>[87793055.0, 87793055.0, 87793055.0, 87793055....</td>\n      <td>POINT (378291.977 6399668.440)</td>\n      <td>1</td>\n    </tr>\n    <tr>\n      <th>1</th>\n      <td>AGA Vattenfall_307980814</td>\n      <td>AGA Vattenfall</td>\n      <td>[AGA Vattenfall, AGA Vattenfall, AGA Vattenfal...</td>\n      <td>307980814</td>\n      <td>[bus_service, bus_service, bus_service, bus_se...</td>\n      <td>[9011014633100000, 9011014633400000, 901101463...</td>\n      <td>[331, 334, 4, 932, 331, 334, 4]</td>\n      <td>[9022014015161001, 9022014015161001, 902201401...</td>\n      <td>[0, 0, 1, 1, 1, 1, 0]</td>\n      <td>[1021141732.0, 1021141732.0, 1021141732.0, 102...</td>\n      <td>POINT (313191.955 6442732.480)</td>\n      <td>1</td>\n    </tr>\n    <tr>\n      <th>2</th>\n      <td>Abrahamstorp_307959538</td>\n      <td>Abrahamstorp</td>\n      <td>[Abrahamstorp, Abrahamstorp, Abrahamstorp]</td>\n      <td>307959538</td>\n      <td>[bus_service, communal_taxi_service, communal_...</td>\n      <td>[9011014658100000, 9011014366300000, 901101436...</td>\n      <td>[581, 663, 663]</td>\n      <td>[9022014046020001, 9022014046020001, 902201404...</td>\n      <td>[1, 1, 0]</td>\n      <td>[173516827.0, 173516827.0, 835571452.0]</td>\n      <td>POINT (371017.481 6448504.455)</td>\n      <td>2</td>\n    </tr>\n    <tr>\n      <th>3</th>\n      <td>Acklinga Solbacken_307927983</td>\n      <td>Acklinga Solbacken</td>\n      <td>[Acklinga Solbacken, Acklinga Solbacken]</td>\n      <td>307927983</td>\n      <td>[bus_service, communal_taxi_service]</td>\n      <td>[9011014332600000, 9011014384000000]</td>\n      <td>[326, 326]</td>\n      <td>[9022014042270002, 9022014042270001]</td>\n      <td>[1, 1]</td>\n      <td>[1008032531.0, 1008032531.0]</td>\n      <td>POINT (434327.469 6451981.944)</td>\n      <td>2</td>\n    </tr>\n    <tr>\n      <th>4</th>\n      <td>Acklinga kyrka_307927983</td>\n      <td>Acklinga kyrka</td>\n      <td>[Acklinga kyrka, Acklinga kyrka, Acklinga kyrk...</td>\n      <td>307927983</td>\n      <td>[bus_service, bus_service, bus_service, bus_se...</td>\n      <td>[9011014330300000, 9011014332700000, 901101433...</td>\n      <td>[303, 327, 303, 327, 327]</td>\n      <td>[9022014042119001, 9022014042119001, 902201404...</td>\n      <td>[1, 1, 0, 0, 0]</td>\n      <td>[19804825.0, 19804825.0, 19804825.0, 19804825....</td>\n      <td>POINT (434071.965 6451013.922)</td>\n      <td>2</td>\n    </tr>\n  </tbody>\n</table>\n</div>"
     },
     "execution_count": 57,
     "metadata": {},
     "output_type": "execute_result"
    }
   ],
   "source": [
    "# Step 18: Create node_id column\n",
    "nodes_pt_8_l4['node_id'] = nodes_pt_8_l4['stop_areas_name'].astype(str) + '_' + nodes_pt_8_l4['place_id'].astype(str)\n",
    "\n",
    "# Step 18: Aggregate by node_id\n",
    "agg_func_node = {\n",
    "    'stop_areas_name': 'first',\n",
    "    'stop_name': list,\n",
    "    'place_id': 'first',\n",
    "    'mode':list,\n",
    "    'route_id': list,\n",
    "    'route_short_name': list,\n",
    "    'stop_id': list,\n",
    "    'direction_id': list,\n",
    "    'osmid': list,\n",
    "    'geometry': 'first'\n",
    "}\n",
    "\n",
    "nodes_pt_8_l5 = nodes_pt_8_l4.groupby('node_id').agg(agg_func_node).reset_index()\n",
    "\n",
    "# Step 20 (optional): Display the temporary results\n",
    "nodes_pt_8_l5.head()"
   ],
   "metadata": {
    "collapsed": false,
    "pycharm": {
     "name": "#%%\n"
    }
   }
  },
  {
   "cell_type": "code",
   "execution_count": 133,
   "outputs": [
    {
     "data": {
      "text/plain": "                        node_id     stop_areas_name   place_id  \\\n0      7:e Villagatan_307955489      7:e Villagatan  307955489   \n1      AGA Vattenfall_307980814      AGA Vattenfall  307980814   \n2        Abrahamstorp_307959538        Abrahamstorp  307959538   \n3  Acklinga Solbacken_307927983  Acklinga Solbacken  307927983   \n4      Acklinga kyrka_307927983      Acklinga kyrka  307927983   \n\n                                           stop_name  \\\n0  [7:e Villagatan, 7:e Villagatan, 7:e Villagata...   \n1  [AGA Vattenfall, AGA Vattenfall, AGA Vattenfal...   \n2         [Abrahamstorp, Abrahamstorp, Abrahamstorp]   \n3           [Acklinga Solbacken, Acklinga Solbacken]   \n4  [Acklinga kyrka, Acklinga kyrka, Acklinga kyrk...   \n\n                                            route_id  \\\n0  [9011014200300000, 9011014200500000, 901101420...   \n1  [9011014633100000, 9011014633400000, 901101463...   \n2  [9011014658100000, 9011014366300000, 901101436...   \n3               [9011014332600000, 9011014384000000]   \n4  [9011014330300000, 9011014332700000, 901101433...   \n\n                  route_short_name  \\\n0         [3, 5, 8, 1, 3, 5, 8, 1]   \n1  [331, 334, 4, 932, 331, 334, 4]   \n2                  [581, 663, 663]   \n3                       [326, 326]   \n4        [303, 327, 303, 327, 327]   \n\n                                             stop_id  \\\n0  [9022014082785001, 9022014082785001, 902201408...   \n1  [9022014015161001, 9022014015161001, 902201401...   \n2  [9022014046020001, 9022014046020001, 902201404...   \n3               [9022014042270002, 9022014042270001]   \n4  [9022014042119001, 9022014042119001, 902201404...   \n\n                                                mode  \\\n0  [bus_service, bus_service, bus_service, bus_se...   \n1  [bus_service, bus_service, bus_service, bus_se...   \n2  [bus_service, communal_taxi_service, communal_...   \n3               [bus_service, communal_taxi_service]   \n4  [bus_service, bus_service, bus_service, bus_se...   \n\n               direction_id  \\\n0  [0, 1, 0, 0, 1, 0, 1, 1]   \n1     [0, 0, 1, 1, 1, 1, 0]   \n2                 [1, 1, 0]   \n3                    [1, 1]   \n4           [1, 1, 0, 0, 0]   \n\n                                               osmid  \\\n0  [87793055.0, 87793055.0, 87793055.0, 87793055....   \n1  [1021141732.0, 1021141732.0, 1021141732.0, 102...   \n2            [173516827.0, 173516827.0, 835571452.0]   \n3                       [1008032531.0, 1008032531.0]   \n4  [19804825.0, 19804825.0, 19804825.0, 19804825....   \n\n                         geometry  \n0  POINT (378291.977 6399668.440)  \n1  POINT (313191.955 6442732.480)  \n2  POINT (371017.481 6448504.455)  \n3  POINT (434327.469 6451981.944)  \n4  POINT (434071.965 6451013.922)  ",
      "text/html": "<div>\n<style scoped>\n    .dataframe tbody tr th:only-of-type {\n        vertical-align: middle;\n    }\n\n    .dataframe tbody tr th {\n        vertical-align: top;\n    }\n\n    .dataframe thead th {\n        text-align: right;\n    }\n</style>\n<table border=\"1\" class=\"dataframe\">\n  <thead>\n    <tr style=\"text-align: right;\">\n      <th></th>\n      <th>node_id</th>\n      <th>stop_areas_name</th>\n      <th>place_id</th>\n      <th>stop_name</th>\n      <th>route_id</th>\n      <th>route_short_name</th>\n      <th>stop_id</th>\n      <th>mode</th>\n      <th>direction_id</th>\n      <th>osmid</th>\n      <th>geometry</th>\n    </tr>\n  </thead>\n  <tbody>\n    <tr>\n      <th>0</th>\n      <td>7:e Villagatan_307955489</td>\n      <td>7:e Villagatan</td>\n      <td>307955489</td>\n      <td>[7:e Villagatan, 7:e Villagatan, 7:e Villagata...</td>\n      <td>[9011014200300000, 9011014200500000, 901101420...</td>\n      <td>[3, 5, 8, 1, 3, 5, 8, 1]</td>\n      <td>[9022014082785001, 9022014082785001, 902201408...</td>\n      <td>[bus_service, bus_service, bus_service, bus_se...</td>\n      <td>[0, 1, 0, 0, 1, 0, 1, 1]</td>\n      <td>[87793055.0, 87793055.0, 87793055.0, 87793055....</td>\n      <td>POINT (378291.977 6399668.440)</td>\n    </tr>\n    <tr>\n      <th>1</th>\n      <td>AGA Vattenfall_307980814</td>\n      <td>AGA Vattenfall</td>\n      <td>307980814</td>\n      <td>[AGA Vattenfall, AGA Vattenfall, AGA Vattenfal...</td>\n      <td>[9011014633100000, 9011014633400000, 901101463...</td>\n      <td>[331, 334, 4, 932, 331, 334, 4]</td>\n      <td>[9022014015161001, 9022014015161001, 902201401...</td>\n      <td>[bus_service, bus_service, bus_service, bus_se...</td>\n      <td>[0, 0, 1, 1, 1, 1, 0]</td>\n      <td>[1021141732.0, 1021141732.0, 1021141732.0, 102...</td>\n      <td>POINT (313191.955 6442732.480)</td>\n    </tr>\n    <tr>\n      <th>2</th>\n      <td>Abrahamstorp_307959538</td>\n      <td>Abrahamstorp</td>\n      <td>307959538</td>\n      <td>[Abrahamstorp, Abrahamstorp, Abrahamstorp]</td>\n      <td>[9011014658100000, 9011014366300000, 901101436...</td>\n      <td>[581, 663, 663]</td>\n      <td>[9022014046020001, 9022014046020001, 902201404...</td>\n      <td>[bus_service, communal_taxi_service, communal_...</td>\n      <td>[1, 1, 0]</td>\n      <td>[173516827.0, 173516827.0, 835571452.0]</td>\n      <td>POINT (371017.481 6448504.455)</td>\n    </tr>\n    <tr>\n      <th>3</th>\n      <td>Acklinga Solbacken_307927983</td>\n      <td>Acklinga Solbacken</td>\n      <td>307927983</td>\n      <td>[Acklinga Solbacken, Acklinga Solbacken]</td>\n      <td>[9011014332600000, 9011014384000000]</td>\n      <td>[326, 326]</td>\n      <td>[9022014042270002, 9022014042270001]</td>\n      <td>[bus_service, communal_taxi_service]</td>\n      <td>[1, 1]</td>\n      <td>[1008032531.0, 1008032531.0]</td>\n      <td>POINT (434327.469 6451981.944)</td>\n    </tr>\n    <tr>\n      <th>4</th>\n      <td>Acklinga kyrka_307927983</td>\n      <td>Acklinga kyrka</td>\n      <td>307927983</td>\n      <td>[Acklinga kyrka, Acklinga kyrka, Acklinga kyrk...</td>\n      <td>[9011014330300000, 9011014332700000, 901101433...</td>\n      <td>[303, 327, 303, 327, 327]</td>\n      <td>[9022014042119001, 9022014042119001, 902201404...</td>\n      <td>[bus_service, bus_service, bus_service, bus_se...</td>\n      <td>[1, 1, 0, 0, 0]</td>\n      <td>[19804825.0, 19804825.0, 19804825.0, 19804825....</td>\n      <td>POINT (434071.965 6451013.922)</td>\n    </tr>\n  </tbody>\n</table>\n</div>"
     },
     "execution_count": 133,
     "metadata": {},
     "output_type": "execute_result"
    }
   ],
   "source": [
    "# Filter and organize the final table\n",
    "# Step 20: Select desired columns for the final DataFrame\n",
    "nodes_pt_8_l6 = nodes_pt_8_l5 [['node_id', 'stop_areas_name', 'place_id', 'stop_name', 'route_id',\n",
    "                            'route_short_name', 'stop_id', 'mode', 'direction_id', 'osmid', 'geometry']]\n",
    "\n",
    "# Step 21: Display the final results\n",
    "nodes_pt_8_l6.head()"
   ],
   "metadata": {
    "collapsed": false,
    "pycharm": {
     "name": "#%%\n"
    }
   }
  },
  {
   "cell_type": "markdown",
   "source": [
    "### Links - Prepare the data"
   ],
   "metadata": {
    "collapsed": false,
    "pycharm": {
     "name": "#%% md\n"
    }
   }
  },
  {
   "cell_type": "code",
   "execution_count": 108,
   "outputs": [],
   "source": [
    "#Import data\n",
    "#Step 0: Import Data\n",
    "links_pt_1_query = text('SELECT * FROM pt_1_mdirections_mstops_mroutes.links_pt_1_wide')\n",
    "links_pt_1 = gpd.read_postgis(links_pt_1_query, engine, geom_col='geometry')"
   ],
   "metadata": {
    "collapsed": false,
    "pycharm": {
     "name": "#%%\n"
    }
   }
  },
  {
   "cell_type": "code",
   "execution_count": 110,
   "outputs": [
    {
     "data": {
      "text/plain": "                        node_id     stop_areas_name   place_id  \\\n0      7:e Villagatan_307955489      7:e Villagatan  307955489   \n1      AGA Vattenfall_307980814      AGA Vattenfall  307980814   \n2        Abrahamstorp_307959538        Abrahamstorp  307959538   \n3  Acklinga Solbacken_307927983  Acklinga Solbacken  307927983   \n4      Acklinga kyrka_307927983      Acklinga kyrka  307927983   \n\n            stop_name                                           route_id  \\\n0      7:e Villagatan  [9011014200300000, 9011014200500000, 901101420...   \n1      AGA Vattenfall  [9011014633100000, 9011014633400000, 901101463...   \n2        Abrahamstorp  [9011014658100000, 9011014366300000, 901101436...   \n3  Acklinga Solbacken               [9011014332600000, 9011014384000000]   \n4      Acklinga kyrka  [9011014330300000, 9011014332700000, 901101433...   \n\n                  route_short_name  \\\n0         [3, 5, 8, 1, 3, 5, 8, 1]   \n1  [331, 334, 4, 932, 331, 334, 4]   \n2                  [581, 663, 663]   \n3                       [326, 326]   \n4        [303, 327, 303, 327, 327]   \n\n                                             stop_id  \\\n0  [9022014082785001, 9022014082785001, 902201408...   \n1  [9022014015161001, 9022014015161001, 902201401...   \n2  [9022014046020001, 9022014046020001, 902201404...   \n3               [9022014042270002, 9022014042270001]   \n4  [9022014042119001, 9022014042119001, 902201404...   \n\n                                                mode  \\\n0  [bus_service, bus_service, bus_service, bus_se...   \n1  [bus_service, bus_service, bus_service, bus_se...   \n2  [bus_service, communal_taxi_service, communal_...   \n3               [bus_service, communal_taxi_service]   \n4  [bus_service, bus_service, bus_service, bus_se...   \n\n               direction_id  \\\n0  [0, 1, 0, 0, 1, 0, 1, 1]   \n1     [0, 0, 1, 1, 1, 1, 0]   \n2                 [1, 1, 0]   \n3                    [1, 1]   \n4           [1, 1, 0, 0, 0]   \n\n                                               osmid  \\\n0  [87793055.0, 87793055.0, 87793055.0, 87793055....   \n1  [1021141732.0, 1021141732.0, 1021141732.0, 102...   \n2            [173516827.0, 173516827.0, 835571452.0]   \n3                       [1008032531.0, 1008032531.0]   \n4  [19804825.0, 19804825.0, 19804825.0, 19804825....   \n\n                         geometry  \n0  POINT (378291.977 6399668.440)  \n1  POINT (313191.955 6442732.480)  \n2  POINT (371017.481 6448504.455)  \n3  POINT (434327.469 6451981.944)  \n4  POINT (434071.965 6451013.922)  ",
      "text/html": "<div>\n<style scoped>\n    .dataframe tbody tr th:only-of-type {\n        vertical-align: middle;\n    }\n\n    .dataframe tbody tr th {\n        vertical-align: top;\n    }\n\n    .dataframe thead th {\n        text-align: right;\n    }\n</style>\n<table border=\"1\" class=\"dataframe\">\n  <thead>\n    <tr style=\"text-align: right;\">\n      <th></th>\n      <th>node_id</th>\n      <th>stop_areas_name</th>\n      <th>place_id</th>\n      <th>stop_name</th>\n      <th>route_id</th>\n      <th>route_short_name</th>\n      <th>stop_id</th>\n      <th>mode</th>\n      <th>direction_id</th>\n      <th>osmid</th>\n      <th>geometry</th>\n    </tr>\n  </thead>\n  <tbody>\n    <tr>\n      <th>0</th>\n      <td>7:e Villagatan_307955489</td>\n      <td>7:e Villagatan</td>\n      <td>307955489</td>\n      <td>7:e Villagatan</td>\n      <td>[9011014200300000, 9011014200500000, 901101420...</td>\n      <td>[3, 5, 8, 1, 3, 5, 8, 1]</td>\n      <td>[9022014082785001, 9022014082785001, 902201408...</td>\n      <td>[bus_service, bus_service, bus_service, bus_se...</td>\n      <td>[0, 1, 0, 0, 1, 0, 1, 1]</td>\n      <td>[87793055.0, 87793055.0, 87793055.0, 87793055....</td>\n      <td>POINT (378291.977 6399668.440)</td>\n    </tr>\n    <tr>\n      <th>1</th>\n      <td>AGA Vattenfall_307980814</td>\n      <td>AGA Vattenfall</td>\n      <td>307980814</td>\n      <td>AGA Vattenfall</td>\n      <td>[9011014633100000, 9011014633400000, 901101463...</td>\n      <td>[331, 334, 4, 932, 331, 334, 4]</td>\n      <td>[9022014015161001, 9022014015161001, 902201401...</td>\n      <td>[bus_service, bus_service, bus_service, bus_se...</td>\n      <td>[0, 0, 1, 1, 1, 1, 0]</td>\n      <td>[1021141732.0, 1021141732.0, 1021141732.0, 102...</td>\n      <td>POINT (313191.955 6442732.480)</td>\n    </tr>\n    <tr>\n      <th>2</th>\n      <td>Abrahamstorp_307959538</td>\n      <td>Abrahamstorp</td>\n      <td>307959538</td>\n      <td>Abrahamstorp</td>\n      <td>[9011014658100000, 9011014366300000, 901101436...</td>\n      <td>[581, 663, 663]</td>\n      <td>[9022014046020001, 9022014046020001, 902201404...</td>\n      <td>[bus_service, communal_taxi_service, communal_...</td>\n      <td>[1, 1, 0]</td>\n      <td>[173516827.0, 173516827.0, 835571452.0]</td>\n      <td>POINT (371017.481 6448504.455)</td>\n    </tr>\n    <tr>\n      <th>3</th>\n      <td>Acklinga Solbacken_307927983</td>\n      <td>Acklinga Solbacken</td>\n      <td>307927983</td>\n      <td>Acklinga Solbacken</td>\n      <td>[9011014332600000, 9011014384000000]</td>\n      <td>[326, 326]</td>\n      <td>[9022014042270002, 9022014042270001]</td>\n      <td>[bus_service, communal_taxi_service]</td>\n      <td>[1, 1]</td>\n      <td>[1008032531.0, 1008032531.0]</td>\n      <td>POINT (434327.469 6451981.944)</td>\n    </tr>\n    <tr>\n      <th>4</th>\n      <td>Acklinga kyrka_307927983</td>\n      <td>Acklinga kyrka</td>\n      <td>307927983</td>\n      <td>Acklinga kyrka</td>\n      <td>[9011014330300000, 9011014332700000, 901101433...</td>\n      <td>[303, 327, 303, 327, 327]</td>\n      <td>[9022014042119001, 9022014042119001, 902201404...</td>\n      <td>[bus_service, bus_service, bus_service, bus_se...</td>\n      <td>[1, 1, 0, 0, 0]</td>\n      <td>[19804825.0, 19804825.0, 19804825.0, 19804825....</td>\n      <td>POINT (434071.965 6451013.922)</td>\n    </tr>\n  </tbody>\n</table>\n</div>"
     },
     "execution_count": 110,
     "metadata": {},
     "output_type": "execute_result"
    }
   ],
   "source": [
    "# Step 1: Explode nodes table by stop name, clean data\n",
    "nodes_pt_8_exploded_l1 = nodes_pt_8_l6.explode('stop_name').drop_duplicates(['stop_name', 'place_id'])\n",
    "\n",
    "# Step 2: Display the temporary results\n",
    "nodes_pt_8_exploded_l1.head()"
   ],
   "metadata": {
    "collapsed": false,
    "pycharm": {
     "name": "#%%\n"
    }
   }
  },
  {
   "cell_type": "code",
   "execution_count": 192,
   "outputs": [
    {
     "data": {
      "text/plain": "                      node_id_source            node_id_target  time_distance  \\\n0           Bäckängsskolan_307955489  7:e Villagatan_307955489          129.0   \n1           Bäckängsskolan_307955489  7:e Villagatan_307955489          114.0   \n2           Bäckängsskolan_307955489  7:e Villagatan_307955489          117.0   \n3           Bäckängsskolan_307955489  7:e Villagatan_307955489          117.0   \n4  Södra Älvsborgs sjukhus_307955489  7:e Villagatan_307955489           98.0   \n\n    stop_areas_name_source stop_areas_name_target         stop_name_source  \\\n0           Bäckängsskolan         7:e Villagatan           Bäckängsskolan   \n1           Bäckängsskolan         7:e Villagatan           Bäckängsskolan   \n2           Bäckängsskolan         7:e Villagatan           Bäckängsskolan   \n3           Bäckängsskolan         7:e Villagatan           Bäckängsskolan   \n4  Södra Älvsborgs sjukhus         7:e Villagatan  Södra Älvsborgs sjukhus   \n\n  stop_name_target  place_id_source  place_id_target  \\\n0   7:e Villagatan        307955489        307955489   \n1   7:e Villagatan        307955489        307955489   \n2   7:e Villagatan        307955489        307955489   \n3   7:e Villagatan        307955489        307955489   \n4   7:e Villagatan        307955489        307955489   \n\n                                                mode  ...  \\\n0  [bus_service, bus_service, bus_service, bus_se...  ...   \n1  [bus_service, bus_service, bus_service, bus_se...  ...   \n2  [bus_service, bus_service, bus_service, bus_se...  ...   \n3  [bus_service, bus_service, bus_service, bus_se...  ...   \n4  [bus_service, bus_service, bus_service, bus_se...  ...   \n\n  freq_friday_night(dawn) freq_saturday_night(dawn) freq_sunday_night(dawn)  \\\n0                     0.0                       0.0                     0.0   \n1                     0.0                       0.0                     0.0   \n2                     0.0                       0.0                     0.0   \n3                     0.0                       0.0                     0.0   \n4                     0.0                       0.0                     0.0   \n\n  freq_week_day_morning freq_week_day_peak_morning freq_week_day_afternoon  \\\n0           2842.105263                1800.000000             2571.428571   \n1           9000.000000                9671.641791             9000.000000   \n2           8415.584416                5102.362205             8415.584416   \n3           6000.000000                3410.526316             4984.615385   \n4           2781.115880                1825.352113             2623.481781   \n\n  freq_week_day_peak_evening  freq_week_day_evening  freq_week_day_night  \\\n0                1800.000000            2454.545455          4909.090909   \n1                9000.000000            9671.641791         54000.000000   \n2                4729.927007            6750.000000          9000.000000   \n3                3100.478469            5634.782609          9000.000000   \n4                1800.000000            2347.826087          6000.000000   \n\n   freq_week_day_night(dawn)  \n0                        0.0  \n1                        0.0  \n2                        0.0  \n3                        0.0  \n4                        0.0  \n\n[5 rows x 73 columns]",
      "text/html": "<div>\n<style scoped>\n    .dataframe tbody tr th:only-of-type {\n        vertical-align: middle;\n    }\n\n    .dataframe tbody tr th {\n        vertical-align: top;\n    }\n\n    .dataframe thead th {\n        text-align: right;\n    }\n</style>\n<table border=\"1\" class=\"dataframe\">\n  <thead>\n    <tr style=\"text-align: right;\">\n      <th></th>\n      <th>node_id_source</th>\n      <th>node_id_target</th>\n      <th>time_distance</th>\n      <th>stop_areas_name_source</th>\n      <th>stop_areas_name_target</th>\n      <th>stop_name_source</th>\n      <th>stop_name_target</th>\n      <th>place_id_source</th>\n      <th>place_id_target</th>\n      <th>mode</th>\n      <th>...</th>\n      <th>freq_friday_night(dawn)</th>\n      <th>freq_saturday_night(dawn)</th>\n      <th>freq_sunday_night(dawn)</th>\n      <th>freq_week_day_morning</th>\n      <th>freq_week_day_peak_morning</th>\n      <th>freq_week_day_afternoon</th>\n      <th>freq_week_day_peak_evening</th>\n      <th>freq_week_day_evening</th>\n      <th>freq_week_day_night</th>\n      <th>freq_week_day_night(dawn)</th>\n    </tr>\n  </thead>\n  <tbody>\n    <tr>\n      <th>0</th>\n      <td>Bäckängsskolan_307955489</td>\n      <td>7:e Villagatan_307955489</td>\n      <td>129.0</td>\n      <td>Bäckängsskolan</td>\n      <td>7:e Villagatan</td>\n      <td>Bäckängsskolan</td>\n      <td>7:e Villagatan</td>\n      <td>307955489</td>\n      <td>307955489</td>\n      <td>[bus_service, bus_service, bus_service, bus_se...</td>\n      <td>...</td>\n      <td>0.0</td>\n      <td>0.0</td>\n      <td>0.0</td>\n      <td>2842.105263</td>\n      <td>1800.000000</td>\n      <td>2571.428571</td>\n      <td>1800.000000</td>\n      <td>2454.545455</td>\n      <td>4909.090909</td>\n      <td>0.0</td>\n    </tr>\n    <tr>\n      <th>1</th>\n      <td>Bäckängsskolan_307955489</td>\n      <td>7:e Villagatan_307955489</td>\n      <td>114.0</td>\n      <td>Bäckängsskolan</td>\n      <td>7:e Villagatan</td>\n      <td>Bäckängsskolan</td>\n      <td>7:e Villagatan</td>\n      <td>307955489</td>\n      <td>307955489</td>\n      <td>[bus_service, bus_service, bus_service, bus_se...</td>\n      <td>...</td>\n      <td>0.0</td>\n      <td>0.0</td>\n      <td>0.0</td>\n      <td>9000.000000</td>\n      <td>9671.641791</td>\n      <td>9000.000000</td>\n      <td>9000.000000</td>\n      <td>9671.641791</td>\n      <td>54000.000000</td>\n      <td>0.0</td>\n    </tr>\n    <tr>\n      <th>2</th>\n      <td>Bäckängsskolan_307955489</td>\n      <td>7:e Villagatan_307955489</td>\n      <td>117.0</td>\n      <td>Bäckängsskolan</td>\n      <td>7:e Villagatan</td>\n      <td>Bäckängsskolan</td>\n      <td>7:e Villagatan</td>\n      <td>307955489</td>\n      <td>307955489</td>\n      <td>[bus_service, bus_service, bus_service, bus_se...</td>\n      <td>...</td>\n      <td>0.0</td>\n      <td>0.0</td>\n      <td>0.0</td>\n      <td>8415.584416</td>\n      <td>5102.362205</td>\n      <td>8415.584416</td>\n      <td>4729.927007</td>\n      <td>6750.000000</td>\n      <td>9000.000000</td>\n      <td>0.0</td>\n    </tr>\n    <tr>\n      <th>3</th>\n      <td>Bäckängsskolan_307955489</td>\n      <td>7:e Villagatan_307955489</td>\n      <td>117.0</td>\n      <td>Bäckängsskolan</td>\n      <td>7:e Villagatan</td>\n      <td>Bäckängsskolan</td>\n      <td>7:e Villagatan</td>\n      <td>307955489</td>\n      <td>307955489</td>\n      <td>[bus_service, bus_service, bus_service, bus_se...</td>\n      <td>...</td>\n      <td>0.0</td>\n      <td>0.0</td>\n      <td>0.0</td>\n      <td>6000.000000</td>\n      <td>3410.526316</td>\n      <td>4984.615385</td>\n      <td>3100.478469</td>\n      <td>5634.782609</td>\n      <td>9000.000000</td>\n      <td>0.0</td>\n    </tr>\n    <tr>\n      <th>4</th>\n      <td>Södra Älvsborgs sjukhus_307955489</td>\n      <td>7:e Villagatan_307955489</td>\n      <td>98.0</td>\n      <td>Södra Älvsborgs sjukhus</td>\n      <td>7:e Villagatan</td>\n      <td>Södra Älvsborgs sjukhus</td>\n      <td>7:e Villagatan</td>\n      <td>307955489</td>\n      <td>307955489</td>\n      <td>[bus_service, bus_service, bus_service, bus_se...</td>\n      <td>...</td>\n      <td>0.0</td>\n      <td>0.0</td>\n      <td>0.0</td>\n      <td>2781.115880</td>\n      <td>1825.352113</td>\n      <td>2623.481781</td>\n      <td>1800.000000</td>\n      <td>2347.826087</td>\n      <td>6000.000000</td>\n      <td>0.0</td>\n    </tr>\n  </tbody>\n</table>\n<p>5 rows × 73 columns</p>\n</div>"
     },
     "execution_count": 192,
     "metadata": {},
     "output_type": "execute_result"
    }
   ],
   "source": [
    "# Preprocess the Data\n",
    "# Step 1: Merge nodes and links in order to get the right combination of data\n",
    "links_pt_8_source_merge_l1 = pd.merge(\n",
    "    nodes_pt_8_exploded[['node_id', 'stop_areas_name', 'mode','stop_name',\n",
    "                         'place_id', 'direction_id', 'geometry']],\n",
    "    links_pt_1 [['route_id', 'route_short_name', 'stop_id_source',\n",
    "                 'stop_id_target', 'stop_name_source', 'stop_name_target', 'time_distance',\n",
    "                 'place_id_source', 'place_id_target'] + [col for col in links_pt_1.columns if col.startswith('freq_')]],\n",
    "    left_on=['stop_name', 'place_id'],\n",
    "    right_on=['stop_name_source', 'place_id_source'], how='inner'\n",
    ")\n",
    "\n",
    "links_pt_8_target_merge_l1  = pd.merge(\n",
    "    nodes_pt_8_exploded[['node_id', 'stop_areas_name', 'stop_name',\n",
    "                         'place_id', 'direction_id', 'geometry']],\n",
    "    links_pt_8_source_merge_l1[['node_id', 'stop_areas_name', 'stop_name_source',\n",
    "                             'stop_name_target', 'place_id_source', 'place_id_target',\n",
    "                             'stop_id_source', 'stop_id_target', 'time_distance',\n",
    "                             'route_id', 'route_short_name', 'mode',\n",
    "                             'geometry'] + [col for col in links_pt_8_source_merge.columns if col.startswith('freq_')]],\n",
    "    left_on=['stop_name', 'place_id'],\n",
    "    right_on=['stop_name_target', 'place_id_target'],\n",
    "    how='inner').rename(columns={\n",
    "    'node_id_x':'node_id_target',\n",
    "    'node_id_y':'node_id_source',\n",
    "    'stop_areas_name_x': 'stop_areas_name_target',\n",
    "    'stop_areas_name_y': 'stop_areas_name_source',\n",
    "    'geometry_x':'geometry_target',\n",
    "    'geometry_y':'geometry_source'})\n",
    "\n",
    "# Step 2: Select specific columns and remove duplicates\n",
    "links_pt_8_l1 = links_pt_8_target_merge_l1 [['node_id_source', 'node_id_target', 'time_distance', 'stop_areas_name_source',\n",
    "                                          'stop_areas_name_target', 'stop_name_source', 'stop_name_target', 'place_id_source',\n",
    "                                          'place_id_target', 'mode', 'stop_id_source', 'stop_id_target', 'route_id', 'route_short_name',\n",
    "                                          'direction_id', 'geometry_source', 'geometry_target']\n",
    "                                         + [col for col in links_pt_8_target_merge.columns if col.startswith('freq_')]]\n",
    "\n",
    "# Step 2 (optional): Display the results\n",
    "links_pt_8_l1.head()"
   ],
   "metadata": {
    "collapsed": false,
    "pycharm": {
     "name": "#%%\n"
    }
   }
  },
  {
   "cell_type": "code",
   "execution_count": 249,
   "outputs": [
    {
     "data": {
      "text/plain": "                                     symmetric_pairs  \\\n0  7:e Villagatan_307955489-Bäckängsskolan_307955489   \n1  7:e Villagatan_307955489-Södra Älvsborgs sjukh...   \n2  AGA Vattenfall_307980814-Borealis kracker_3079...   \n3      AGA Vattenfall_307980814-Jordhammar_307980814   \n4             Abrahamstorp_307959538-Badet_307959538   \n\n                      node_id_source            node_id_target  \\\n0           Bäckängsskolan_307955489  7:e Villagatan_307955489   \n1  Södra Älvsborgs sjukhus_307955489  7:e Villagatan_307955489   \n2         Borealis kracker_307980814  AGA Vattenfall_307980814   \n3               Jordhammar_307980814  AGA Vattenfall_307980814   \n4                    Badet_307959538    Abrahamstorp_307959538   \n\n    stop_areas_name_source stop_areas_name_target  \\\n0           Bäckängsskolan         7:e Villagatan   \n1  Södra Älvsborgs sjukhus         7:e Villagatan   \n2         Borealis kracker         AGA Vattenfall   \n3               Jordhammar         AGA Vattenfall   \n4                    Badet           Abrahamstorp   \n\n                                            route_id  \\\n0  [9011014200100000, 9011014200300000, 901101420...   \n1  [9011014200100000, 9011014200300000, 901101420...   \n2  [9011014633100000, 9011014633400000, 901101463...   \n3  [9011014633100000, 9011014633400000, 901101463...   \n4  [9011014366300000, 9011014658100000, 901101436...   \n\n                  route_short_name  \\\n0         [1, 3, 5, 8, 1, 3, 5, 8]   \n1         [1, 3, 5, 8, 1, 3, 5, 8]   \n2  [331, 334, 4, 331, 334, 4, 932]   \n3  [331, 334, 4, 932, 331, 334, 4]   \n4                  [663, 581, 663]   \n\n                                      stop_id_source  \\\n0  [9022014082676002, 9022014082676002, 902201408...   \n1  [9022014082726001, 9022014082726001, 902201408...   \n2  [9022014015013002, 9022014015013002, 902201401...   \n3  [9022014015110001, 9022014015110001, 902201401...   \n4  [9022014046021001, 9022014046021001, 902201404...   \n\n                                      stop_id_target         stop_name_source  \\\n0  [9022014082785002, 9022014082785002, 902201408...           Bäckängsskolan   \n1  [9022014082785001, 9022014082785001, 902201408...  Södra Älvsborgs sjukhus   \n2  [9022014015161002, 9022014015161002, 902201401...         Borealis kracker   \n3  [9022014015161001, 9022014015161001, 902201401...               Jordhammar   \n4  [9022014046020001, 9022014046020001, 902201404...                    Badet   \n\n   ... freq_friday_night(dawn)  freq_saturday_night(dawn)  \\\n0  ...                     0.0                        0.0   \n1  ...                     0.0                        0.0   \n2  ...                     0.0                        0.0   \n3  ...                     0.0                        0.0   \n4  ...                     0.0                        0.0   \n\n   freq_sunday_night(dawn) freq_week_day_morning  freq_week_day_peak_morning  \\\n0                      0.0           2842.105263                 1800.000000   \n1                      0.0           2757.446809                 1825.352113   \n2                      0.0              0.000000                    0.000000   \n3                      0.0              0.000000                    0.000000   \n4                      0.0              0.000000                18000.000000   \n\n  freq_week_day_afternoon freq_week_day_peak_evening  freq_week_day_evening  \\\n0             2571.428571                     1800.0            2347.826087   \n1             2623.481781                     1800.0            2347.826087   \n2                0.000000                        0.0               0.000000   \n3                0.000000                        0.0               0.000000   \n4                0.000000                        0.0               0.000000   \n\n   freq_week_day_night  freq_week_day_night(dawn)  \n0                  0.0                        0.0  \n1                  0.0                        0.0  \n2                  0.0                        0.0  \n3                  0.0                        0.0  \n4                  0.0                        0.0  \n\n[5 rows x 73 columns]",
      "text/html": "<div>\n<style scoped>\n    .dataframe tbody tr th:only-of-type {\n        vertical-align: middle;\n    }\n\n    .dataframe tbody tr th {\n        vertical-align: top;\n    }\n\n    .dataframe thead th {\n        text-align: right;\n    }\n</style>\n<table border=\"1\" class=\"dataframe\">\n  <thead>\n    <tr style=\"text-align: right;\">\n      <th></th>\n      <th>symmetric_pairs</th>\n      <th>node_id_source</th>\n      <th>node_id_target</th>\n      <th>stop_areas_name_source</th>\n      <th>stop_areas_name_target</th>\n      <th>route_id</th>\n      <th>route_short_name</th>\n      <th>stop_id_source</th>\n      <th>stop_id_target</th>\n      <th>stop_name_source</th>\n      <th>...</th>\n      <th>freq_friday_night(dawn)</th>\n      <th>freq_saturday_night(dawn)</th>\n      <th>freq_sunday_night(dawn)</th>\n      <th>freq_week_day_morning</th>\n      <th>freq_week_day_peak_morning</th>\n      <th>freq_week_day_afternoon</th>\n      <th>freq_week_day_peak_evening</th>\n      <th>freq_week_day_evening</th>\n      <th>freq_week_day_night</th>\n      <th>freq_week_day_night(dawn)</th>\n    </tr>\n  </thead>\n  <tbody>\n    <tr>\n      <th>0</th>\n      <td>7:e Villagatan_307955489-Bäckängsskolan_307955489</td>\n      <td>Bäckängsskolan_307955489</td>\n      <td>7:e Villagatan_307955489</td>\n      <td>Bäckängsskolan</td>\n      <td>7:e Villagatan</td>\n      <td>[9011014200100000, 9011014200300000, 901101420...</td>\n      <td>[1, 3, 5, 8, 1, 3, 5, 8]</td>\n      <td>[9022014082676002, 9022014082676002, 902201408...</td>\n      <td>[9022014082785002, 9022014082785002, 902201408...</td>\n      <td>Bäckängsskolan</td>\n      <td>...</td>\n      <td>0.0</td>\n      <td>0.0</td>\n      <td>0.0</td>\n      <td>2842.105263</td>\n      <td>1800.000000</td>\n      <td>2571.428571</td>\n      <td>1800.0</td>\n      <td>2347.826087</td>\n      <td>0.0</td>\n      <td>0.0</td>\n    </tr>\n    <tr>\n      <th>1</th>\n      <td>7:e Villagatan_307955489-Södra Älvsborgs sjukh...</td>\n      <td>Södra Älvsborgs sjukhus_307955489</td>\n      <td>7:e Villagatan_307955489</td>\n      <td>Södra Älvsborgs sjukhus</td>\n      <td>7:e Villagatan</td>\n      <td>[9011014200100000, 9011014200300000, 901101420...</td>\n      <td>[1, 3, 5, 8, 1, 3, 5, 8]</td>\n      <td>[9022014082726001, 9022014082726001, 902201408...</td>\n      <td>[9022014082785001, 9022014082785001, 902201408...</td>\n      <td>Södra Älvsborgs sjukhus</td>\n      <td>...</td>\n      <td>0.0</td>\n      <td>0.0</td>\n      <td>0.0</td>\n      <td>2757.446809</td>\n      <td>1825.352113</td>\n      <td>2623.481781</td>\n      <td>1800.0</td>\n      <td>2347.826087</td>\n      <td>0.0</td>\n      <td>0.0</td>\n    </tr>\n    <tr>\n      <th>2</th>\n      <td>AGA Vattenfall_307980814-Borealis kracker_3079...</td>\n      <td>Borealis kracker_307980814</td>\n      <td>AGA Vattenfall_307980814</td>\n      <td>Borealis kracker</td>\n      <td>AGA Vattenfall</td>\n      <td>[9011014633100000, 9011014633400000, 901101463...</td>\n      <td>[331, 334, 4, 331, 334, 4, 932]</td>\n      <td>[9022014015013002, 9022014015013002, 902201401...</td>\n      <td>[9022014015161002, 9022014015161002, 902201401...</td>\n      <td>Borealis kracker</td>\n      <td>...</td>\n      <td>0.0</td>\n      <td>0.0</td>\n      <td>0.0</td>\n      <td>0.000000</td>\n      <td>0.000000</td>\n      <td>0.000000</td>\n      <td>0.0</td>\n      <td>0.000000</td>\n      <td>0.0</td>\n      <td>0.0</td>\n    </tr>\n    <tr>\n      <th>3</th>\n      <td>AGA Vattenfall_307980814-Jordhammar_307980814</td>\n      <td>Jordhammar_307980814</td>\n      <td>AGA Vattenfall_307980814</td>\n      <td>Jordhammar</td>\n      <td>AGA Vattenfall</td>\n      <td>[9011014633100000, 9011014633400000, 901101463...</td>\n      <td>[331, 334, 4, 932, 331, 334, 4]</td>\n      <td>[9022014015110001, 9022014015110001, 902201401...</td>\n      <td>[9022014015161001, 9022014015161001, 902201401...</td>\n      <td>Jordhammar</td>\n      <td>...</td>\n      <td>0.0</td>\n      <td>0.0</td>\n      <td>0.0</td>\n      <td>0.000000</td>\n      <td>0.000000</td>\n      <td>0.000000</td>\n      <td>0.0</td>\n      <td>0.000000</td>\n      <td>0.0</td>\n      <td>0.0</td>\n    </tr>\n    <tr>\n      <th>4</th>\n      <td>Abrahamstorp_307959538-Badet_307959538</td>\n      <td>Badet_307959538</td>\n      <td>Abrahamstorp_307959538</td>\n      <td>Badet</td>\n      <td>Abrahamstorp</td>\n      <td>[9011014366300000, 9011014658100000, 901101436...</td>\n      <td>[663, 581, 663]</td>\n      <td>[9022014046021001, 9022014046021001, 902201404...</td>\n      <td>[9022014046020001, 9022014046020001, 902201404...</td>\n      <td>Badet</td>\n      <td>...</td>\n      <td>0.0</td>\n      <td>0.0</td>\n      <td>0.0</td>\n      <td>0.000000</td>\n      <td>18000.000000</td>\n      <td>0.000000</td>\n      <td>0.0</td>\n      <td>0.000000</td>\n      <td>0.0</td>\n      <td>0.0</td>\n    </tr>\n  </tbody>\n</table>\n<p>5 rows × 73 columns</p>\n</div>"
     },
     "execution_count": 249,
     "metadata": {},
     "output_type": "execute_result"
    }
   ],
   "source": [
    "# Create the links of the one direction model\n",
    "# Step 4: Aggregate Data\n",
    "links_pt_8_l1.loc[:, 'geometry'] = links_pt_8_l1.apply(lambda row: LineString([Point(row['geometry_source']), Point(row['geometry_target'])]), axis=1)\n",
    "links_pt_8_l1.loc[:, 'symmetric_pairs'] = links_pt_8_l1[['node_id_source', 'node_id_target']].apply(lambda x: '-'.join(sorted(x)), axis=1)\n",
    "\n",
    "# Step 5: Define aggregation functions for various columns\n",
    "agg_func_link = {\n",
    "    'node_id_source': 'first',\n",
    "    'node_id_target': 'first',\n",
    "    'stop_areas_name_source': 'first',\n",
    "    'stop_areas_name_target': 'first',\n",
    "    'route_id': list,\n",
    "    'route_short_name': list,\n",
    "    'stop_id_source': list,\n",
    "    'stop_id_target': list,\n",
    "    'stop_name_source': 'first',\n",
    "    'stop_name_target': 'first',\n",
    "    'place_id_source': 'first',\n",
    "    'place_id_target': 'first',\n",
    "    'mode':'first',\n",
    "    'time_distance': 'min',\n",
    "    'direction_id': 'first',\n",
    "    'geometry': 'first'\n",
    "}\n",
    "\n",
    "freq_cols = [col for col in links_pt_8_l1.columns if col.startswith('freq_')]\n",
    "agg_func_link.update({col: 'min' for col in freq_cols})\n",
    "\n",
    "links_pt_8_l2 = links_pt_8_l1.groupby(['symmetric_pairs']).agg(agg_func_link).reset_index()\n",
    "\n",
    "# Step 6 (optional): Display the results\n",
    "links_pt_8_l2.head()"
   ],
   "metadata": {
    "collapsed": false,
    "pycharm": {
     "name": "#%%\n"
    }
   }
  },
  {
   "cell_type": "code",
   "execution_count": 250,
   "outputs": [
    {
     "data": {
      "text/plain": "                              source                    target  time_distance  \\\n0           Bäckängsskolan_307955489  7:e Villagatan_307955489          109.0   \n1  Södra Älvsborgs sjukhus_307955489  7:e Villagatan_307955489           86.0   \n2         Borealis kracker_307980814  AGA Vattenfall_307980814           27.0   \n3               Jordhammar_307980814  AGA Vattenfall_307980814           97.0   \n4                    Badet_307959538    Abrahamstorp_307959538           40.0   \n\n                                            route_id         stop_name_source  \\\n0  [9011014200100000, 9011014200300000, 901101420...           Bäckängsskolan   \n1  [9011014200100000, 9011014200300000, 901101420...  Södra Älvsborgs sjukhus   \n2  [9011014633100000, 9011014633400000, 901101463...         Borealis kracker   \n3  [9011014633100000, 9011014633400000, 901101463...               Jordhammar   \n4  [9011014366300000, 9011014658100000, 901101436...                    Badet   \n\n   place_id_source stop_name_target  place_id_target  \\\n0        307955489   7:e Villagatan        307955489   \n1        307955489   7:e Villagatan        307955489   \n2        307980814   AGA Vattenfall        307980814   \n3        307980814   AGA Vattenfall        307980814   \n4        307959538     Abrahamstorp        307959538   \n\n                                      stop_id_source  \\\n0  [9022014082676002, 9022014082676002, 902201408...   \n1  [9022014082726001, 9022014082726001, 902201408...   \n2  [9022014015013002, 9022014015013002, 902201401...   \n3  [9022014015110001, 9022014015110001, 902201401...   \n4  [9022014046021001, 9022014046021001, 902201404...   \n\n                                      stop_id_target  ...  \\\n0  [9022014082785002, 9022014082785002, 902201408...  ...   \n1  [9022014082785001, 9022014082785001, 902201408...  ...   \n2  [9022014015161002, 9022014015161002, 902201401...  ...   \n3  [9022014015161001, 9022014015161001, 902201401...  ...   \n4  [9022014046020001, 9022014046020001, 902201404...  ...   \n\n  freq_friday_night(dawn) freq_saturday_night(dawn) freq_sunday_night(dawn)  \\\n0                     0.0                       0.0                     0.0   \n1                     0.0                       0.0                     0.0   \n2                     0.0                       0.0                     0.0   \n3                     0.0                       0.0                     0.0   \n4                     0.0                       0.0                     0.0   \n\n  freq_week_day_morning  freq_week_day_peak_morning  freq_week_day_afternoon  \\\n0           2842.105263                 1800.000000              2571.428571   \n1           2757.446809                 1825.352113              2623.481781   \n2              0.000000                    0.000000                 0.000000   \n3              0.000000                    0.000000                 0.000000   \n4              0.000000                18000.000000                 0.000000   \n\n   freq_week_day_peak_evening  freq_week_day_evening  freq_week_day_night  \\\n0                      1800.0            2347.826087                  0.0   \n1                      1800.0            2347.826087                  0.0   \n2                         0.0               0.000000                  0.0   \n3                         0.0               0.000000                  0.0   \n4                         0.0               0.000000                  0.0   \n\n   freq_week_day_night(dawn)  \n0                        0.0  \n1                        0.0  \n2                        0.0  \n3                        0.0  \n4                        0.0  \n\n[5 rows x 70 columns]",
      "text/html": "<div>\n<style scoped>\n    .dataframe tbody tr th:only-of-type {\n        vertical-align: middle;\n    }\n\n    .dataframe tbody tr th {\n        vertical-align: top;\n    }\n\n    .dataframe thead th {\n        text-align: right;\n    }\n</style>\n<table border=\"1\" class=\"dataframe\">\n  <thead>\n    <tr style=\"text-align: right;\">\n      <th></th>\n      <th>source</th>\n      <th>target</th>\n      <th>time_distance</th>\n      <th>route_id</th>\n      <th>stop_name_source</th>\n      <th>place_id_source</th>\n      <th>stop_name_target</th>\n      <th>place_id_target</th>\n      <th>stop_id_source</th>\n      <th>stop_id_target</th>\n      <th>...</th>\n      <th>freq_friday_night(dawn)</th>\n      <th>freq_saturday_night(dawn)</th>\n      <th>freq_sunday_night(dawn)</th>\n      <th>freq_week_day_morning</th>\n      <th>freq_week_day_peak_morning</th>\n      <th>freq_week_day_afternoon</th>\n      <th>freq_week_day_peak_evening</th>\n      <th>freq_week_day_evening</th>\n      <th>freq_week_day_night</th>\n      <th>freq_week_day_night(dawn)</th>\n    </tr>\n  </thead>\n  <tbody>\n    <tr>\n      <th>0</th>\n      <td>Bäckängsskolan_307955489</td>\n      <td>7:e Villagatan_307955489</td>\n      <td>109.0</td>\n      <td>[9011014200100000, 9011014200300000, 901101420...</td>\n      <td>Bäckängsskolan</td>\n      <td>307955489</td>\n      <td>7:e Villagatan</td>\n      <td>307955489</td>\n      <td>[9022014082676002, 9022014082676002, 902201408...</td>\n      <td>[9022014082785002, 9022014082785002, 902201408...</td>\n      <td>...</td>\n      <td>0.0</td>\n      <td>0.0</td>\n      <td>0.0</td>\n      <td>2842.105263</td>\n      <td>1800.000000</td>\n      <td>2571.428571</td>\n      <td>1800.0</td>\n      <td>2347.826087</td>\n      <td>0.0</td>\n      <td>0.0</td>\n    </tr>\n    <tr>\n      <th>1</th>\n      <td>Södra Älvsborgs sjukhus_307955489</td>\n      <td>7:e Villagatan_307955489</td>\n      <td>86.0</td>\n      <td>[9011014200100000, 9011014200300000, 901101420...</td>\n      <td>Södra Älvsborgs sjukhus</td>\n      <td>307955489</td>\n      <td>7:e Villagatan</td>\n      <td>307955489</td>\n      <td>[9022014082726001, 9022014082726001, 902201408...</td>\n      <td>[9022014082785001, 9022014082785001, 902201408...</td>\n      <td>...</td>\n      <td>0.0</td>\n      <td>0.0</td>\n      <td>0.0</td>\n      <td>2757.446809</td>\n      <td>1825.352113</td>\n      <td>2623.481781</td>\n      <td>1800.0</td>\n      <td>2347.826087</td>\n      <td>0.0</td>\n      <td>0.0</td>\n    </tr>\n    <tr>\n      <th>2</th>\n      <td>Borealis kracker_307980814</td>\n      <td>AGA Vattenfall_307980814</td>\n      <td>27.0</td>\n      <td>[9011014633100000, 9011014633400000, 901101463...</td>\n      <td>Borealis kracker</td>\n      <td>307980814</td>\n      <td>AGA Vattenfall</td>\n      <td>307980814</td>\n      <td>[9022014015013002, 9022014015013002, 902201401...</td>\n      <td>[9022014015161002, 9022014015161002, 902201401...</td>\n      <td>...</td>\n      <td>0.0</td>\n      <td>0.0</td>\n      <td>0.0</td>\n      <td>0.000000</td>\n      <td>0.000000</td>\n      <td>0.000000</td>\n      <td>0.0</td>\n      <td>0.000000</td>\n      <td>0.0</td>\n      <td>0.0</td>\n    </tr>\n    <tr>\n      <th>3</th>\n      <td>Jordhammar_307980814</td>\n      <td>AGA Vattenfall_307980814</td>\n      <td>97.0</td>\n      <td>[9011014633100000, 9011014633400000, 901101463...</td>\n      <td>Jordhammar</td>\n      <td>307980814</td>\n      <td>AGA Vattenfall</td>\n      <td>307980814</td>\n      <td>[9022014015110001, 9022014015110001, 902201401...</td>\n      <td>[9022014015161001, 9022014015161001, 902201401...</td>\n      <td>...</td>\n      <td>0.0</td>\n      <td>0.0</td>\n      <td>0.0</td>\n      <td>0.000000</td>\n      <td>0.000000</td>\n      <td>0.000000</td>\n      <td>0.0</td>\n      <td>0.000000</td>\n      <td>0.0</td>\n      <td>0.0</td>\n    </tr>\n    <tr>\n      <th>4</th>\n      <td>Badet_307959538</td>\n      <td>Abrahamstorp_307959538</td>\n      <td>40.0</td>\n      <td>[9011014366300000, 9011014658100000, 901101436...</td>\n      <td>Badet</td>\n      <td>307959538</td>\n      <td>Abrahamstorp</td>\n      <td>307959538</td>\n      <td>[9022014046021001, 9022014046021001, 902201404...</td>\n      <td>[9022014046020001, 9022014046020001, 902201404...</td>\n      <td>...</td>\n      <td>0.0</td>\n      <td>0.0</td>\n      <td>0.0</td>\n      <td>0.000000</td>\n      <td>18000.000000</td>\n      <td>0.000000</td>\n      <td>0.0</td>\n      <td>0.000000</td>\n      <td>0.0</td>\n      <td>0.0</td>\n    </tr>\n  </tbody>\n</table>\n<p>5 rows × 70 columns</p>\n</div>"
     },
     "execution_count": 250,
     "metadata": {},
     "output_type": "execute_result"
    }
   ],
   "source": [
    "# Filter and organize the final table\n",
    "# Step 7: Rename columns for clarity\n",
    "links_pt_8_l2.rename(\n",
    "    columns={'node_id_source': 'source',\n",
    "             'node_id_target': 'target'}, inplace=True\n",
    ")\n",
    "\n",
    "# Step 8: Select desired columns for the final DataFrame\n",
    "links_pt_8_l2 = links_pt_8_l2[['source', 'target', 'time_distance', 'route_id', 'stop_name_source',\n",
    "                            'place_id_source', 'stop_name_target', 'place_id_target',\n",
    "                            'stop_id_source', 'stop_id_target', 'route_short_name', 'mode',\n",
    "                            'direction_id','geometry']\n",
    "                           + [col for col in links_pt_8_l2.columns if col.startswith('freq_')]]\\\n",
    "    .drop_duplicates(subset=['source', 'target'])\n",
    "\n",
    "# Step 9: Filter out rows where 'source' is equal to 'target'\n",
    "links_pt_8_l2  = links_pt_8_l2 [links_pt_8_l2 ['source'] != links_pt_8_l2 ['target']]\n",
    "\n",
    "# Step 10 : Display the final results\n",
    "links_pt_8_l2.head()"
   ],
   "metadata": {
    "collapsed": false,
    "pycharm": {
     "name": "#%%\n"
    }
   }
  },
  {
   "cell_type": "code",
   "execution_count": 251,
   "outputs": [
    {
     "data": {
      "text/plain": "                                  source                             target  \\\n0               Bäckängsskolan_307955489           7:e Villagatan_307955489   \n1      Södra Älvsborgs sjukhus_307955489           7:e Villagatan_307955489   \n2             Borealis kracker_307980814           AGA Vattenfall_307980814   \n3                   Jordhammar_307980814           AGA Vattenfall_307980814   \n4                        Badet_307959538             Abrahamstorp_307959538   \n...                                  ...                                ...   \n10996           Överlida kyrka_307891645         Överlida centrum_307891645   \n10997           Överlida skola_307891645         Överlida centrum_307891645   \n10998           Överlida kyrka_307891645           Överlida skola_307891645   \n11000                  Öxabäck_307997498  Öxabäck Torestorpsvägen_307997498   \n11001             Öxared öster_297452965            Öxared väster_297452965   \n\n       time_distance                                           route_id  \\\n0              109.0  [9011014200100000, 9011014200300000, 901101420...   \n1               86.0  [9011014200100000, 9011014200300000, 901101420...   \n2               27.0  [9011014633100000, 9011014633400000, 901101463...   \n3               97.0  [9011014633100000, 9011014633400000, 901101463...   \n4               40.0  [9011014366300000, 9011014658100000, 901101436...   \n...              ...                                                ...   \n10996           36.0  [9011014236200000, 9011014230200000, 901101423...   \n10997          120.0               [9011014230200000, 9011014280200000]   \n10998          141.0               [9011014230200000, 9011014280200000]   \n11000           24.0  [9011014237100000, 9011014237200000, 901101423...   \n11001          140.0  [9011013074200000, 9011014674200000, 901101307...   \n\n              stop_name_source  place_id_source         stop_name_target  \\\n0               Bäckängsskolan        307955489           7:e Villagatan   \n1      Södra Älvsborgs sjukhus        307955489           7:e Villagatan   \n2             Borealis kracker        307980814           AGA Vattenfall   \n3                   Jordhammar        307980814           AGA Vattenfall   \n4                        Badet        307959538             Abrahamstorp   \n...                        ...              ...                      ...   \n10996           Överlida kyrka        307891645         Överlida centrum   \n10997           Överlida skola        307891645         Överlida centrum   \n10998           Överlida kyrka        307891645           Överlida skola   \n11000                  Öxabäck        307997498  Öxabäck Torestorpsvägen   \n11001             Öxared öster        297452965            Öxared väster   \n\n       place_id_target                                     stop_id_source  \\\n0            307955489  [9022014082676002, 9022014082676002, 902201408...   \n1            307955489  [9022014082726001, 9022014082726001, 902201408...   \n2            307980814  [9022014015013002, 9022014015013002, 902201401...   \n3            307980814  [9022014015110001, 9022014015110001, 902201401...   \n4            307959538  [9022014046021001, 9022014046021001, 902201404...   \n...                ...                                                ...   \n10996        307891645  [9022014065932002, 9022014065933001, 902201406...   \n10997        307891645               [9022014065976001, 9022014065976001]   \n10998        307891645               [9022014065932002, 9022014065932002]   \n11000        307997498  [9022014063318001, 9022014063317001, 902201406...   \n11001        297452965  [9022014019770001, 9022014019770001, 902201401...   \n\n                                          stop_id_target  ...  \\\n0      [9022014082785002, 9022014082785002, 902201408...  ...   \n1      [9022014082785001, 9022014082785001, 902201408...  ...   \n2      [9022014015161002, 9022014015161002, 902201401...  ...   \n3      [9022014015161001, 9022014015161001, 902201401...  ...   \n4      [9022014046020001, 9022014046020001, 902201404...  ...   \n...                                                  ...  ...   \n10996  [9022014065933001, 9022014065932001, 902201406...  ...   \n10997               [9022014065933001, 9022014065933001]  ...   \n10998               [9022014065976001, 9022014065976001]  ...   \n11000  [9022014063317001, 9022014063318002, 902201406...  ...   \n11001  [9022014019573001, 9022014019573001, 902201401...  ...   \n\n      freq_friday_night(dawn) freq_saturday_night(dawn)  \\\n0                         0.0                       0.0   \n1                         0.0                       0.0   \n2                         0.0                       0.0   \n3                         0.0                       0.0   \n4                         0.0                       0.0   \n...                       ...                       ...   \n10996                     0.0                       0.0   \n10997                     0.0                       0.0   \n10998                     0.0                       0.0   \n11000                     0.0                       0.0   \n11001                     0.0                       0.0   \n\n      freq_sunday_night(dawn) freq_week_day_morning  \\\n0                         0.0           2842.105263   \n1                         0.0           2757.446809   \n2                         0.0              0.000000   \n3                         0.0              0.000000   \n4                         0.0              0.000000   \n...                       ...                   ...   \n10996                     0.0              0.000000   \n10997                     0.0              0.000000   \n10998                     0.0              0.000000   \n11000                     0.0              0.000000   \n11001                     0.0              0.000000   \n\n       freq_week_day_peak_morning  freq_week_day_afternoon  \\\n0                     1800.000000              2571.428571   \n1                     1825.352113              2623.481781   \n2                        0.000000                 0.000000   \n3                        0.000000                 0.000000   \n4                    18000.000000                 0.000000   \n...                           ...                      ...   \n10996                27000.000000                 0.000000   \n10997                54000.000000             54000.000000   \n10998                    0.000000             54000.000000   \n11000                    0.000000                 0.000000   \n11001                    0.000000                 0.000000   \n\n       freq_week_day_peak_evening  freq_week_day_evening  freq_week_day_night  \\\n0                     1800.000000            2347.826087                  0.0   \n1                     1800.000000            2347.826087                  0.0   \n2                        0.000000               0.000000                  0.0   \n3                        0.000000               0.000000                  0.0   \n4                        0.000000               0.000000                  0.0   \n...                           ...                    ...                  ...   \n10996                    0.000000               0.000000                  0.0   \n10997                43200.000000               0.000000                  0.0   \n10998                43200.000000               0.000000                  0.0   \n11000                18873.786408               0.000000                  0.0   \n11001                    0.000000               0.000000                  0.0   \n\n       freq_week_day_night(dawn)  \n0                            0.0  \n1                            0.0  \n2                            0.0  \n3                            0.0  \n4                            0.0  \n...                          ...  \n10996                        0.0  \n10997                        0.0  \n10998                        0.0  \n11000                        0.0  \n11001                        0.0  \n\n[10887 rows x 70 columns]",
      "text/html": "<div>\n<style scoped>\n    .dataframe tbody tr th:only-of-type {\n        vertical-align: middle;\n    }\n\n    .dataframe tbody tr th {\n        vertical-align: top;\n    }\n\n    .dataframe thead th {\n        text-align: right;\n    }\n</style>\n<table border=\"1\" class=\"dataframe\">\n  <thead>\n    <tr style=\"text-align: right;\">\n      <th></th>\n      <th>source</th>\n      <th>target</th>\n      <th>time_distance</th>\n      <th>route_id</th>\n      <th>stop_name_source</th>\n      <th>place_id_source</th>\n      <th>stop_name_target</th>\n      <th>place_id_target</th>\n      <th>stop_id_source</th>\n      <th>stop_id_target</th>\n      <th>...</th>\n      <th>freq_friday_night(dawn)</th>\n      <th>freq_saturday_night(dawn)</th>\n      <th>freq_sunday_night(dawn)</th>\n      <th>freq_week_day_morning</th>\n      <th>freq_week_day_peak_morning</th>\n      <th>freq_week_day_afternoon</th>\n      <th>freq_week_day_peak_evening</th>\n      <th>freq_week_day_evening</th>\n      <th>freq_week_day_night</th>\n      <th>freq_week_day_night(dawn)</th>\n    </tr>\n  </thead>\n  <tbody>\n    <tr>\n      <th>0</th>\n      <td>Bäckängsskolan_307955489</td>\n      <td>7:e Villagatan_307955489</td>\n      <td>109.0</td>\n      <td>[9011014200100000, 9011014200300000, 901101420...</td>\n      <td>Bäckängsskolan</td>\n      <td>307955489</td>\n      <td>7:e Villagatan</td>\n      <td>307955489</td>\n      <td>[9022014082676002, 9022014082676002, 902201408...</td>\n      <td>[9022014082785002, 9022014082785002, 902201408...</td>\n      <td>...</td>\n      <td>0.0</td>\n      <td>0.0</td>\n      <td>0.0</td>\n      <td>2842.105263</td>\n      <td>1800.000000</td>\n      <td>2571.428571</td>\n      <td>1800.000000</td>\n      <td>2347.826087</td>\n      <td>0.0</td>\n      <td>0.0</td>\n    </tr>\n    <tr>\n      <th>1</th>\n      <td>Södra Älvsborgs sjukhus_307955489</td>\n      <td>7:e Villagatan_307955489</td>\n      <td>86.0</td>\n      <td>[9011014200100000, 9011014200300000, 901101420...</td>\n      <td>Södra Älvsborgs sjukhus</td>\n      <td>307955489</td>\n      <td>7:e Villagatan</td>\n      <td>307955489</td>\n      <td>[9022014082726001, 9022014082726001, 902201408...</td>\n      <td>[9022014082785001, 9022014082785001, 902201408...</td>\n      <td>...</td>\n      <td>0.0</td>\n      <td>0.0</td>\n      <td>0.0</td>\n      <td>2757.446809</td>\n      <td>1825.352113</td>\n      <td>2623.481781</td>\n      <td>1800.000000</td>\n      <td>2347.826087</td>\n      <td>0.0</td>\n      <td>0.0</td>\n    </tr>\n    <tr>\n      <th>2</th>\n      <td>Borealis kracker_307980814</td>\n      <td>AGA Vattenfall_307980814</td>\n      <td>27.0</td>\n      <td>[9011014633100000, 9011014633400000, 901101463...</td>\n      <td>Borealis kracker</td>\n      <td>307980814</td>\n      <td>AGA Vattenfall</td>\n      <td>307980814</td>\n      <td>[9022014015013002, 9022014015013002, 902201401...</td>\n      <td>[9022014015161002, 9022014015161002, 902201401...</td>\n      <td>...</td>\n      <td>0.0</td>\n      <td>0.0</td>\n      <td>0.0</td>\n      <td>0.000000</td>\n      <td>0.000000</td>\n      <td>0.000000</td>\n      <td>0.000000</td>\n      <td>0.000000</td>\n      <td>0.0</td>\n      <td>0.0</td>\n    </tr>\n    <tr>\n      <th>3</th>\n      <td>Jordhammar_307980814</td>\n      <td>AGA Vattenfall_307980814</td>\n      <td>97.0</td>\n      <td>[9011014633100000, 9011014633400000, 901101463...</td>\n      <td>Jordhammar</td>\n      <td>307980814</td>\n      <td>AGA Vattenfall</td>\n      <td>307980814</td>\n      <td>[9022014015110001, 9022014015110001, 902201401...</td>\n      <td>[9022014015161001, 9022014015161001, 902201401...</td>\n      <td>...</td>\n      <td>0.0</td>\n      <td>0.0</td>\n      <td>0.0</td>\n      <td>0.000000</td>\n      <td>0.000000</td>\n      <td>0.000000</td>\n      <td>0.000000</td>\n      <td>0.000000</td>\n      <td>0.0</td>\n      <td>0.0</td>\n    </tr>\n    <tr>\n      <th>4</th>\n      <td>Badet_307959538</td>\n      <td>Abrahamstorp_307959538</td>\n      <td>40.0</td>\n      <td>[9011014366300000, 9011014658100000, 901101436...</td>\n      <td>Badet</td>\n      <td>307959538</td>\n      <td>Abrahamstorp</td>\n      <td>307959538</td>\n      <td>[9022014046021001, 9022014046021001, 902201404...</td>\n      <td>[9022014046020001, 9022014046020001, 902201404...</td>\n      <td>...</td>\n      <td>0.0</td>\n      <td>0.0</td>\n      <td>0.0</td>\n      <td>0.000000</td>\n      <td>18000.000000</td>\n      <td>0.000000</td>\n      <td>0.000000</td>\n      <td>0.000000</td>\n      <td>0.0</td>\n      <td>0.0</td>\n    </tr>\n    <tr>\n      <th>...</th>\n      <td>...</td>\n      <td>...</td>\n      <td>...</td>\n      <td>...</td>\n      <td>...</td>\n      <td>...</td>\n      <td>...</td>\n      <td>...</td>\n      <td>...</td>\n      <td>...</td>\n      <td>...</td>\n      <td>...</td>\n      <td>...</td>\n      <td>...</td>\n      <td>...</td>\n      <td>...</td>\n      <td>...</td>\n      <td>...</td>\n      <td>...</td>\n      <td>...</td>\n      <td>...</td>\n    </tr>\n    <tr>\n      <th>10996</th>\n      <td>Överlida kyrka_307891645</td>\n      <td>Överlida centrum_307891645</td>\n      <td>36.0</td>\n      <td>[9011014236200000, 9011014230200000, 901101423...</td>\n      <td>Överlida kyrka</td>\n      <td>307891645</td>\n      <td>Överlida centrum</td>\n      <td>307891645</td>\n      <td>[9022014065932002, 9022014065933001, 902201406...</td>\n      <td>[9022014065933001, 9022014065932001, 902201406...</td>\n      <td>...</td>\n      <td>0.0</td>\n      <td>0.0</td>\n      <td>0.0</td>\n      <td>0.000000</td>\n      <td>27000.000000</td>\n      <td>0.000000</td>\n      <td>0.000000</td>\n      <td>0.000000</td>\n      <td>0.0</td>\n      <td>0.0</td>\n    </tr>\n    <tr>\n      <th>10997</th>\n      <td>Överlida skola_307891645</td>\n      <td>Överlida centrum_307891645</td>\n      <td>120.0</td>\n      <td>[9011014230200000, 9011014280200000]</td>\n      <td>Överlida skola</td>\n      <td>307891645</td>\n      <td>Överlida centrum</td>\n      <td>307891645</td>\n      <td>[9022014065976001, 9022014065976001]</td>\n      <td>[9022014065933001, 9022014065933001]</td>\n      <td>...</td>\n      <td>0.0</td>\n      <td>0.0</td>\n      <td>0.0</td>\n      <td>0.000000</td>\n      <td>54000.000000</td>\n      <td>54000.000000</td>\n      <td>43200.000000</td>\n      <td>0.000000</td>\n      <td>0.0</td>\n      <td>0.0</td>\n    </tr>\n    <tr>\n      <th>10998</th>\n      <td>Överlida kyrka_307891645</td>\n      <td>Överlida skola_307891645</td>\n      <td>141.0</td>\n      <td>[9011014230200000, 9011014280200000]</td>\n      <td>Överlida kyrka</td>\n      <td>307891645</td>\n      <td>Överlida skola</td>\n      <td>307891645</td>\n      <td>[9022014065932002, 9022014065932002]</td>\n      <td>[9022014065976001, 9022014065976001]</td>\n      <td>...</td>\n      <td>0.0</td>\n      <td>0.0</td>\n      <td>0.0</td>\n      <td>0.000000</td>\n      <td>0.000000</td>\n      <td>54000.000000</td>\n      <td>43200.000000</td>\n      <td>0.000000</td>\n      <td>0.0</td>\n      <td>0.0</td>\n    </tr>\n    <tr>\n      <th>11000</th>\n      <td>Öxabäck_307997498</td>\n      <td>Öxabäck Torestorpsvägen_307997498</td>\n      <td>24.0</td>\n      <td>[9011014237100000, 9011014237200000, 901101423...</td>\n      <td>Öxabäck</td>\n      <td>307997498</td>\n      <td>Öxabäck Torestorpsvägen</td>\n      <td>307997498</td>\n      <td>[9022014063318001, 9022014063317001, 902201406...</td>\n      <td>[9022014063317001, 9022014063318002, 902201406...</td>\n      <td>...</td>\n      <td>0.0</td>\n      <td>0.0</td>\n      <td>0.0</td>\n      <td>0.000000</td>\n      <td>0.000000</td>\n      <td>0.000000</td>\n      <td>18873.786408</td>\n      <td>0.000000</td>\n      <td>0.0</td>\n      <td>0.0</td>\n    </tr>\n    <tr>\n      <th>11001</th>\n      <td>Öxared öster_297452965</td>\n      <td>Öxared väster_297452965</td>\n      <td>140.0</td>\n      <td>[9011013074200000, 9011014674200000, 901101307...</td>\n      <td>Öxared öster</td>\n      <td>297452965</td>\n      <td>Öxared väster</td>\n      <td>297452965</td>\n      <td>[9022014019770001, 9022014019770001, 902201401...</td>\n      <td>[9022014019573001, 9022014019573001, 902201401...</td>\n      <td>...</td>\n      <td>0.0</td>\n      <td>0.0</td>\n      <td>0.0</td>\n      <td>0.000000</td>\n      <td>0.000000</td>\n      <td>0.000000</td>\n      <td>0.000000</td>\n      <td>0.000000</td>\n      <td>0.0</td>\n      <td>0.0</td>\n    </tr>\n  </tbody>\n</table>\n<p>10887 rows × 70 columns</p>\n</div>"
     },
     "execution_count": 251,
     "metadata": {},
     "output_type": "execute_result"
    }
   ],
   "source": [
    "links_pt_8_l2"
   ],
   "metadata": {
    "collapsed": false,
    "pycharm": {
     "name": "#%%\n"
    }
   }
  },
  {
   "cell_type": "markdown",
   "source": [
    "### Nodes - Final Nodes"
   ],
   "metadata": {
    "collapsed": false,
    "pycharm": {
     "name": "#%% md\n"
    }
   }
  },
  {
   "cell_type": "code",
   "execution_count": 122,
   "outputs": [],
   "source": [
    "# Step 1: Create the graph\n",
    "G = nx.from_pandas_edgelist(links_pt_8, 'source', 'target', edge_attr='time_distance', create_using=nx.Graph())"
   ],
   "metadata": {
    "collapsed": false,
    "pycharm": {
     "name": "#%%\n"
    }
   }
  },
  {
   "cell_type": "code",
   "execution_count": 135,
   "outputs": [],
   "source": [
    "# Step 2:  Filter the nodes\n",
    "sum_of_new_edges_time_distance = 0\n",
    "\n",
    "while any(degree == 2 for node, degree in G.degree()):\n",
    "    for node in list(G.nodes()):\n",
    "        if G.degree(node) == 2:\n",
    "            edges = list(G.edges(node))\n",
    "            time_distance_sum = G[edges[0][0]][edges[0][1]].get('time_distance', 0) + G[edges[1][0]][edges[1][1]].get('time_distance', 0)\n",
    "            G.add_edge(edges[0][1], edges[1][1])\n",
    "            G[edges[0][1]][edges[1][1]]['time_distance'] = time_distance_sum\n",
    "            sum_of_new_edges_time_distance += time_distance_sum\n",
    "            G.remove_node(node)\n",
    "\n",
    "degrees = dict(G.degree())\n",
    "\n",
    "# Step 3: Create a Dataframe with the nodes\n",
    "nodes_pt_8 = pd.DataFrame(list(degrees.items()), columns=['node_id', 'degree'])"
   ],
   "metadata": {
    "collapsed": false,
    "pycharm": {
     "name": "#%%\n"
    }
   }
  },
  {
   "cell_type": "code",
   "execution_count": 178,
   "outputs": [
    {
     "data": {
      "text/plain": "                             node_id  degree          stop_areas_name  \\\n0           Bäckängsskolan_307955489       4           Bäckängsskolan   \n1  Södra Älvsborgs sjukhus_307955489       5  Södra Älvsborgs sjukhus   \n2         Borealis kracker_307980814       3         Borealis kracker   \n3             Kavlåsbruket_307927983       7             Kavlåsbruket   \n4       Acklinga Solbacken_307927983       1       Acklinga Solbacken   \n\n    place_id                                          stop_name  \\\n0  307955489  [Bäckängsskolan, Bäckängsskolan, Bäckängsskola...   \n1  307955489  [Södra Älvsborgs sjukhus, Södra Älvsborgs sjuk...   \n2  307980814  [Borealis kracker, Borealis kracker, Borealis ...   \n3  307927983  [Bruket, Bruket, Kavlåsbruket, Kavlåsbruket, K...   \n4  307927983           [Acklinga Solbacken, Acklinga Solbacken]   \n\n                                            route_id  \\\n0  [9011014200300000, 9011014200500000, 901101420...   \n1  [9011014200300000, 9011014200100000, 901101420...   \n2  [9011014633100000, 9011014633400000, 901101463...   \n3  [9011014330300000, 9011014330300000, 901101433...   \n4               [9011014332600000, 9011014384000000]   \n\n                                    route_short_name  \\\n0                           [3, 5, 8, 1, 3, 5, 8, 1]   \n1  [3, 1, 5, 8, 6, 200, 200, 102, 6, 5, 8, 3, 1, ...   \n2                    [331, 334, 4, 932, 331, 334, 4]   \n3                     [303, 303, 303, 303, 326, 326]   \n4                                         [326, 326]   \n\n                                             stop_id  \\\n0  [9022014082676001, 9022014082676001, 902201408...   \n1  [9022014082726001, 9022014082726001, 902201408...   \n2  [9022014015013001, 9022014015013001, 902201401...   \n3  [9022014042121001, 9022014042121002, 902201404...   \n4               [9022014042270002, 9022014042270001]   \n\n                                                mode  \\\n0  [bus_service, bus_service, bus_service, bus_se...   \n1  [bus_service, bus_service, bus_service, bus_se...   \n2  [bus_service, bus_service, bus_service, bus_se...   \n3  [bus_service, bus_service, bus_service, bus_se...   \n4               [bus_service, communal_taxi_service]   \n\n                                 direction_id  \\\n0                    [0, 1, 0, 0, 1, 0, 1, 1]   \n1  [0, 0, 1, 0, 0, 0, 1, 1, 1, 0, 1, 1, 1, 0]   \n2                       [0, 0, 1, 1, 1, 1, 0]   \n3                          [1, 0, 1, 0, 1, 1]   \n4                                      [1, 1]   \n\n                                               osmid  \\\n0  [397156375.0, 397156375.0, 397156375.0, 397156...   \n1  [339828166.0, 339828166.0, 339828175.0, 339828...   \n2  [1125337144.0, 1125337144.0, 1125337144.0, 112...   \n3  [599242864.0, 599242864.0, 1027026785.0, 10270...   \n4                       [1008032531.0, 1008032531.0]   \n\n                         geometry  \n0  POINT (377826.942 6399466.436)  \n1  POINT (378640.599 6399758.434)  \n2  POINT (313106.978 6442246.408)  \n3  POINT (432853.974 6453340.197)  \n4  POINT (434327.469 6451981.944)  ",
      "text/html": "<div>\n<style scoped>\n    .dataframe tbody tr th:only-of-type {\n        vertical-align: middle;\n    }\n\n    .dataframe tbody tr th {\n        vertical-align: top;\n    }\n\n    .dataframe thead th {\n        text-align: right;\n    }\n</style>\n<table border=\"1\" class=\"dataframe\">\n  <thead>\n    <tr style=\"text-align: right;\">\n      <th></th>\n      <th>node_id</th>\n      <th>degree</th>\n      <th>stop_areas_name</th>\n      <th>place_id</th>\n      <th>stop_name</th>\n      <th>route_id</th>\n      <th>route_short_name</th>\n      <th>stop_id</th>\n      <th>mode</th>\n      <th>direction_id</th>\n      <th>osmid</th>\n      <th>geometry</th>\n    </tr>\n  </thead>\n  <tbody>\n    <tr>\n      <th>0</th>\n      <td>Bäckängsskolan_307955489</td>\n      <td>4</td>\n      <td>Bäckängsskolan</td>\n      <td>307955489</td>\n      <td>[Bäckängsskolan, Bäckängsskolan, Bäckängsskola...</td>\n      <td>[9011014200300000, 9011014200500000, 901101420...</td>\n      <td>[3, 5, 8, 1, 3, 5, 8, 1]</td>\n      <td>[9022014082676001, 9022014082676001, 902201408...</td>\n      <td>[bus_service, bus_service, bus_service, bus_se...</td>\n      <td>[0, 1, 0, 0, 1, 0, 1, 1]</td>\n      <td>[397156375.0, 397156375.0, 397156375.0, 397156...</td>\n      <td>POINT (377826.942 6399466.436)</td>\n    </tr>\n    <tr>\n      <th>1</th>\n      <td>Södra Älvsborgs sjukhus_307955489</td>\n      <td>5</td>\n      <td>Södra Älvsborgs sjukhus</td>\n      <td>307955489</td>\n      <td>[Södra Älvsborgs sjukhus, Södra Älvsborgs sjuk...</td>\n      <td>[9011014200300000, 9011014200100000, 901101420...</td>\n      <td>[3, 1, 5, 8, 6, 200, 200, 102, 6, 5, 8, 3, 1, ...</td>\n      <td>[9022014082726001, 9022014082726001, 902201408...</td>\n      <td>[bus_service, bus_service, bus_service, bus_se...</td>\n      <td>[0, 0, 1, 0, 0, 0, 1, 1, 1, 0, 1, 1, 1, 0]</td>\n      <td>[339828166.0, 339828166.0, 339828175.0, 339828...</td>\n      <td>POINT (378640.599 6399758.434)</td>\n    </tr>\n    <tr>\n      <th>2</th>\n      <td>Borealis kracker_307980814</td>\n      <td>3</td>\n      <td>Borealis kracker</td>\n      <td>307980814</td>\n      <td>[Borealis kracker, Borealis kracker, Borealis ...</td>\n      <td>[9011014633100000, 9011014633400000, 901101463...</td>\n      <td>[331, 334, 4, 932, 331, 334, 4]</td>\n      <td>[9022014015013001, 9022014015013001, 902201401...</td>\n      <td>[bus_service, bus_service, bus_service, bus_se...</td>\n      <td>[0, 0, 1, 1, 1, 1, 0]</td>\n      <td>[1125337144.0, 1125337144.0, 1125337144.0, 112...</td>\n      <td>POINT (313106.978 6442246.408)</td>\n    </tr>\n    <tr>\n      <th>3</th>\n      <td>Kavlåsbruket_307927983</td>\n      <td>7</td>\n      <td>Kavlåsbruket</td>\n      <td>307927983</td>\n      <td>[Bruket, Bruket, Kavlåsbruket, Kavlåsbruket, K...</td>\n      <td>[9011014330300000, 9011014330300000, 901101433...</td>\n      <td>[303, 303, 303, 303, 326, 326]</td>\n      <td>[9022014042121001, 9022014042121002, 902201404...</td>\n      <td>[bus_service, bus_service, bus_service, bus_se...</td>\n      <td>[1, 0, 1, 0, 1, 1]</td>\n      <td>[599242864.0, 599242864.0, 1027026785.0, 10270...</td>\n      <td>POINT (432853.974 6453340.197)</td>\n    </tr>\n    <tr>\n      <th>4</th>\n      <td>Acklinga Solbacken_307927983</td>\n      <td>1</td>\n      <td>Acklinga Solbacken</td>\n      <td>307927983</td>\n      <td>[Acklinga Solbacken, Acklinga Solbacken]</td>\n      <td>[9011014332600000, 9011014384000000]</td>\n      <td>[326, 326]</td>\n      <td>[9022014042270002, 9022014042270001]</td>\n      <td>[bus_service, communal_taxi_service]</td>\n      <td>[1, 1]</td>\n      <td>[1008032531.0, 1008032531.0]</td>\n      <td>POINT (434327.469 6451981.944)</td>\n    </tr>\n  </tbody>\n</table>\n</div>"
     },
     "execution_count": 178,
     "metadata": {},
     "output_type": "execute_result"
    }
   ],
   "source": [
    "# Step 4: Merge the dataframe with the the prepared dataframe to get the necessary informations\n",
    "nodes_pt_8 = pd.merge (nodes_pt_8 [['node_id', 'degree']], nodes_pt_8_l6, on='node_id', how='inner')\n",
    "\n",
    "# Step 5: Display the final result\n",
    "nodes_pt_8.head()"
   ],
   "metadata": {
    "collapsed": false,
    "pycharm": {
     "name": "#%%\n"
    }
   }
  },
  {
   "cell_type": "code",
   "execution_count": 137,
   "outputs": [],
   "source": [
    "# Step 6: Set geometry and export to the DB\n",
    "nodes_pt_8 = gpd.GeoDataFrame(nodes_pt_8, geometry='geometry', crs='3006')\n",
    "nodes_pt_8.to_postgis('nodes_pt_8', engine, schema='pt_8_stopareassecondfilter_onemode', if_exists ='replace')"
   ],
   "metadata": {
    "collapsed": false,
    "pycharm": {
     "name": "#%%\n"
    }
   }
  },
  {
   "cell_type": "markdown",
   "source": [
    "#### Links - Final Links"
   ],
   "metadata": {
    "collapsed": false,
    "pycharm": {
     "name": "#%% md\n"
    }
   }
  },
  {
   "cell_type": "code",
   "execution_count": 258,
   "outputs": [],
   "source": [
    "# Step 1: Convert the graph to a DataFrame\n",
    "links_pt_8_l4 = pd.DataFrame(list(G.edges(data=True)), columns=['source', 'target', 'time_distance'])\n",
    "links_pt_8_l4 ['time_distance'] = links_pt_8_l4 ['time_distance'].apply(lambda x: x['time_distance'] if 'time_distance' in x else None)"
   ],
   "metadata": {
    "collapsed": false,
    "pycharm": {
     "name": "#%%\n"
    }
   }
  },
  {
   "cell_type": "code",
   "execution_count": 259,
   "outputs": [
    {
     "data": {
      "text/plain": "                              source                             target  \\\n0           Bäckängsskolan_307955489                Allégatan_307955489   \n1           Bäckängsskolan_307955489             Södra torget_307955489   \n2           Bäckängsskolan_307955489  Södra Älvsborgs sjukhus_307955489   \n3           Bäckängsskolan_307955489                 Söderbro_307955489   \n4  Södra Älvsborgs sjukhus_307955489            Borås central_307955489   \n\n   time_distance                 geometry_source  \\\n0          134.0  POINT (377468.217 6399358.673)   \n1           91.0  POINT (377421.472 6399273.424)   \n2          195.0  POINT (378640.599 6399758.434)   \n3          214.0  POINT (377254.478 6399046.704)   \n4          480.0  POINT (376809.367 6399462.293)   \n\n                  geometry_target  \n0  POINT (377826.942 6399466.436)  \n1  POINT (377826.942 6399466.436)  \n2  POINT (377826.942 6399466.436)  \n3  POINT (377826.942 6399466.436)  \n4  POINT (378640.599 6399758.434)  ",
      "text/html": "<div>\n<style scoped>\n    .dataframe tbody tr th:only-of-type {\n        vertical-align: middle;\n    }\n\n    .dataframe tbody tr th {\n        vertical-align: top;\n    }\n\n    .dataframe thead th {\n        text-align: right;\n    }\n</style>\n<table border=\"1\" class=\"dataframe\">\n  <thead>\n    <tr style=\"text-align: right;\">\n      <th></th>\n      <th>source</th>\n      <th>target</th>\n      <th>time_distance</th>\n      <th>geometry_source</th>\n      <th>geometry_target</th>\n    </tr>\n  </thead>\n  <tbody>\n    <tr>\n      <th>0</th>\n      <td>Bäckängsskolan_307955489</td>\n      <td>Allégatan_307955489</td>\n      <td>134.0</td>\n      <td>POINT (377468.217 6399358.673)</td>\n      <td>POINT (377826.942 6399466.436)</td>\n    </tr>\n    <tr>\n      <th>1</th>\n      <td>Bäckängsskolan_307955489</td>\n      <td>Södra torget_307955489</td>\n      <td>91.0</td>\n      <td>POINT (377421.472 6399273.424)</td>\n      <td>POINT (377826.942 6399466.436)</td>\n    </tr>\n    <tr>\n      <th>2</th>\n      <td>Bäckängsskolan_307955489</td>\n      <td>Södra Älvsborgs sjukhus_307955489</td>\n      <td>195.0</td>\n      <td>POINT (378640.599 6399758.434)</td>\n      <td>POINT (377826.942 6399466.436)</td>\n    </tr>\n    <tr>\n      <th>3</th>\n      <td>Bäckängsskolan_307955489</td>\n      <td>Söderbro_307955489</td>\n      <td>214.0</td>\n      <td>POINT (377254.478 6399046.704)</td>\n      <td>POINT (377826.942 6399466.436)</td>\n    </tr>\n    <tr>\n      <th>4</th>\n      <td>Södra Älvsborgs sjukhus_307955489</td>\n      <td>Borås central_307955489</td>\n      <td>480.0</td>\n      <td>POINT (376809.367 6399462.293)</td>\n      <td>POINT (378640.599 6399758.434)</td>\n    </tr>\n  </tbody>\n</table>\n</div>"
     },
     "execution_count": 259,
     "metadata": {},
     "output_type": "execute_result"
    }
   ],
   "source": [
    "# Preprocess the Data\n",
    "# Step 2: Merge nodes and links in order to get the right combination of data\n",
    "links_pt_8_source = pd.merge(\n",
    "    nodes_pt_8[['node_id','geometry']],\n",
    "    links_pt_8_l4,\n",
    "    left_on='node_id',\n",
    "    right_on='source',\n",
    "    how='inner'\n",
    ")\n",
    "\n",
    "links_pt_8_target = pd.merge(\n",
    "    links_pt_8_source, nodes_pt_8[['node_id','geometry']],\n",
    "    left_on='target',\n",
    "    right_on='node_id',\n",
    "    how='inner'\n",
    ").rename(columns={\n",
    "    'geometry_y':'geometry_source',\n",
    "    'geometry_x':'geometry_target'\n",
    "})\n",
    "\n",
    "# Step 3: Select specific columns and remove duplicates\n",
    "links_pt_8_l5 = links_pt_8_target[['source', 'target', 'time_distance', 'geometry_source', 'geometry_target']]\n",
    "\n",
    "# Step 4 (optional): Display the results\n",
    "links_pt_8_l5.head()"
   ],
   "metadata": {
    "collapsed": false,
    "pycharm": {
     "name": "#%%\n"
    }
   }
  },
  {
   "cell_type": "code",
   "execution_count": 263,
   "outputs": [
    {
     "data": {
      "text/plain": "                              source                             target  \\\n0           Bäckängsskolan_307955489                Allégatan_307955489   \n1           Bäckängsskolan_307955489             Södra torget_307955489   \n2           Bäckängsskolan_307955489  Södra Älvsborgs sjukhus_307955489   \n3           Bäckängsskolan_307955489                 Söderbro_307955489   \n4  Södra Älvsborgs sjukhus_307955489            Borås central_307955489   \n\n   time_distance                                           geometry  \n0          134.0  LINESTRING (377468.2169475646 6399358.67327003...  \n1           91.0  LINESTRING (377421.4718657576 6399273.42384159...  \n2          195.0  LINESTRING (378640.5991298174 6399758.43443690...  \n3          214.0  LINESTRING (377254.4775803655 6399046.70442958...  \n4          480.0  LINESTRING (376809.3671732711 6399462.29262101...  ",
      "text/html": "<div>\n<style scoped>\n    .dataframe tbody tr th:only-of-type {\n        vertical-align: middle;\n    }\n\n    .dataframe tbody tr th {\n        vertical-align: top;\n    }\n\n    .dataframe thead th {\n        text-align: right;\n    }\n</style>\n<table border=\"1\" class=\"dataframe\">\n  <thead>\n    <tr style=\"text-align: right;\">\n      <th></th>\n      <th>source</th>\n      <th>target</th>\n      <th>time_distance</th>\n      <th>geometry</th>\n    </tr>\n  </thead>\n  <tbody>\n    <tr>\n      <th>0</th>\n      <td>Bäckängsskolan_307955489</td>\n      <td>Allégatan_307955489</td>\n      <td>134.0</td>\n      <td>LINESTRING (377468.2169475646 6399358.67327003...</td>\n    </tr>\n    <tr>\n      <th>1</th>\n      <td>Bäckängsskolan_307955489</td>\n      <td>Södra torget_307955489</td>\n      <td>91.0</td>\n      <td>LINESTRING (377421.4718657576 6399273.42384159...</td>\n    </tr>\n    <tr>\n      <th>2</th>\n      <td>Bäckängsskolan_307955489</td>\n      <td>Södra Älvsborgs sjukhus_307955489</td>\n      <td>195.0</td>\n      <td>LINESTRING (378640.5991298174 6399758.43443690...</td>\n    </tr>\n    <tr>\n      <th>3</th>\n      <td>Bäckängsskolan_307955489</td>\n      <td>Söderbro_307955489</td>\n      <td>214.0</td>\n      <td>LINESTRING (377254.4775803655 6399046.70442958...</td>\n    </tr>\n    <tr>\n      <th>4</th>\n      <td>Södra Älvsborgs sjukhus_307955489</td>\n      <td>Borås central_307955489</td>\n      <td>480.0</td>\n      <td>LINESTRING (376809.3671732711 6399462.29262101...</td>\n    </tr>\n  </tbody>\n</table>\n</div>"
     },
     "execution_count": 263,
     "metadata": {},
     "output_type": "execute_result"
    }
   ],
   "source": [
    "# Step 5: Create a geometry\n",
    "links_pt_8_l5.loc[:, 'geometry'] = links_pt_8_l5.apply(lambda row: LineString([Point(row['geometry_source']), Point(row['geometry_target'])]), axis=1)\n",
    "\n",
    "# Step 6: DOrganize the final table\n",
    "links_pt_8 = links_pt_8_l5 [['source', 'target', 'time_distance', 'geometry']]\n",
    "\n",
    "# Step 7: Display the final results\n",
    "links_pt_8.head()"
   ],
   "metadata": {
    "collapsed": false,
    "pycharm": {
     "name": "#%%\n"
    }
   }
  },
  {
   "cell_type": "code",
   "execution_count": 265,
   "outputs": [],
   "source": [
    "#create the GeoDataFrame and export to the DB\n",
    "links_pt_8 = gpd.GeoDataFrame(links_pt_8, geometry='geometry', crs='3006')\n",
    "links_pt_8.to_postgis('links_pt_8', engine, schema='pt_8_stopareassecondfilter_onemode', if_exists ='replace')"
   ],
   "metadata": {
    "collapsed": false,
    "pycharm": {
     "name": "#%%\n"
    }
   }
  }
 ],
 "metadata": {
  "kernelspec": {
   "display_name": "Python 3",
   "language": "python",
   "name": "python3"
  },
  "language_info": {
   "codemirror_mode": {
    "name": "ipython",
    "version": 2
   },
   "file_extension": ".py",
   "mimetype": "text/x-python",
   "name": "python",
   "nbconvert_exporter": "python",
   "pygments_lexer": "ipython2",
   "version": "2.7.6"
  }
 },
 "nbformat": 4,
 "nbformat_minor": 0
}