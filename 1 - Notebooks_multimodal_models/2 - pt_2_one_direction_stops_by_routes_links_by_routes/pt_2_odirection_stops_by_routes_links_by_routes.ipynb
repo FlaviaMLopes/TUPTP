{
 "cells": [
  {
   "cell_type": "markdown",
   "source": [
    "## One_direction_tables_by_routes"
   ],
   "metadata": {
    "collapsed": false,
    "pycharm": {
     "name": "#%% md\n"
    }
   }
  },
  {
   "cell_type": "markdown",
   "source": [
    "### Import libraries"
   ],
   "metadata": {
    "collapsed": false,
    "pycharm": {
     "name": "#%% md\n"
    }
   }
  },
  {
   "cell_type": "code",
   "execution_count": 1,
   "outputs": [],
   "source": [
    "# Step 1: Import libraries\n",
    "import pandas as pd\n",
    "import numpy as np\n",
    "import geopandas as gpd\n",
    "from sqlalchemy import create_engine\n",
    "from sqlalchemy import text\n",
    "from shapely.geometry import LineString, Point\n",
    "from shapely.ops import unary_union"
   ],
   "metadata": {
    "collapsed": false,
    "pycharm": {
     "name": "#%%\n"
    }
   }
  },
  {
   "cell_type": "markdown",
   "source": [
    "### Create the connection with the DB (optional)"
   ],
   "metadata": {
    "collapsed": false,
    "pycharm": {
     "name": "#%% md\n"
    }
   }
  },
  {
   "cell_type": "code",
   "execution_count": 2,
   "outputs": [],
   "source": [
    "# Step 1: Create the connection with the DB\n",
    "engine = create_engine(\"postgresql://urbaninfo:@cirrus.ita.chalmers.se/se_tuptp\")\n",
    "conn = engine.connect()"
   ],
   "metadata": {
    "collapsed": false,
    "pycharm": {
     "name": "#%%\n"
    }
   }
  },
  {
   "cell_type": "code",
   "execution_count": 3,
   "outputs": [],
   "source": [
    "# Step 2: Create a new schema when it is necessary\n",
    "#schema = '''CREATE SCHEMA name_schema'''\n",
    "#conn.execute(schema)"
   ],
   "metadata": {
    "collapsed": false,
    "pycharm": {
     "name": "#%%\n"
    }
   }
  },
  {
   "cell_type": "markdown",
   "source": [
    "### Nodes"
   ],
   "metadata": {
    "collapsed": false,
    "pycharm": {
     "name": "#%% md\n"
    }
   }
  },
  {
   "cell_type": "code",
   "execution_count": 4,
   "outputs": [],
   "source": [
    "# ImportData\n",
    "# Step 1: Import Data\n",
    "nodes_pt_1_query = text('SELECT * FROM pt_1_mdirections_mstops_mroutes.nodes_pt_1')\n",
    "nodes_pt_1 = gpd.read_postgis(nodes_pt_1_query, engine, geom_col='geometry')"
   ],
   "metadata": {
    "collapsed": false,
    "pycharm": {
     "name": "#%%\n"
    }
   }
  },
  {
   "cell_type": "code",
   "execution_count": 5,
   "outputs": [],
   "source": [
    "# Preprocess the data.\n",
    "# Step 1: Copy the original DataFrame\n",
    "nodes_pt_2_id = nodes_pt_1.copy()\n",
    "\n",
    "# Step 2: Create the 'node_id' column by concatenating 'stop_name', 'place_id', and 'route_id' with underscores\n",
    "nodes_pt_2_id['node_id'] = nodes_pt_2_id['stop_name'].astype(str) + \"_\" + \\\n",
    "                           nodes_pt_2_id['place_id'].astype(str) + \"_\" + \\\n",
    "                           nodes_pt_2_id['route_id'].astype(str)\n",
    "\n",
    "# Step 3: Define aggregation functions for each column\n",
    "agg_func_node = {\n",
    "    'route_id': 'first',\n",
    "    'route_short_name': 'first',\n",
    "    'stop_id': list,\n",
    "    'stop_name': 'first',\n",
    "    'place_id': 'first',\n",
    "    'mode': 'first',\n",
    "    'direction_id': list,\n",
    "    'osmid': list,\n",
    "    'geometry': lambda g: Point(unary_union(g).centroid.x, unary_union(g).centroid.y)\n",
    "}\n",
    "\n",
    "nodes_pt_2_grouped = nodes_pt_2_id.groupby('node_id').agg(agg_func_node).reset_index()"
   ],
   "metadata": {
    "collapsed": false,
    "pycharm": {
     "name": "#%%\n"
    }
   }
  },
  {
   "cell_type": "code",
   "execution_count": 6,
   "outputs": [
    {
     "data": {
      "text/plain": "                                     node_id       stop_name   place_id  \\\n0  7:e Villagatan_307955489_9011014200100000  7:e Villagatan  307955489   \n1  7:e Villagatan_307955489_9011014200300000  7:e Villagatan  307955489   \n2  7:e Villagatan_307955489_9011014200500000  7:e Villagatan  307955489   \n3  7:e Villagatan_307955489_9011014200800000  7:e Villagatan  307955489   \n4  AGA Vattenfall_307980814_9011014633100000  AGA Vattenfall  307980814   \n\n           route_id route_short_name         mode  \\\n0  9011014200100000                1  bus_service   \n1  9011014200300000                3  bus_service   \n2  9011014200500000                5  bus_service   \n3  9011014200800000                8  bus_service   \n4  9011014633100000              331  bus_service   \n\n                                stop_id direction_id  \\\n0  [9022014082785001, 9022014082785002]       [0, 1]   \n1  [9022014082785001, 9022014082785002]       [0, 1]   \n2  [9022014082785001, 9022014082785002]       [1, 0]   \n3  [9022014082785001, 9022014082785002]       [0, 1]   \n4  [9022014015161001, 9022014015161002]       [0, 1]   \n\n                          osmid                        geometry  \n0      [87793055.0, 23859327.0]  POINT (378291.977 6399668.440)  \n1      [87793055.0, 23859327.0]  POINT (378291.977 6399668.440)  \n2      [87793055.0, 23859327.0]  POINT (378291.977 6399668.440)  \n3      [87793055.0, 23859327.0]  POINT (378291.977 6399668.440)  \n4  [1021141732.0, 1021141732.0]  POINT (313191.955 6442732.480)  ",
      "text/html": "<div>\n<style scoped>\n    .dataframe tbody tr th:only-of-type {\n        vertical-align: middle;\n    }\n\n    .dataframe tbody tr th {\n        vertical-align: top;\n    }\n\n    .dataframe thead th {\n        text-align: right;\n    }\n</style>\n<table border=\"1\" class=\"dataframe\">\n  <thead>\n    <tr style=\"text-align: right;\">\n      <th></th>\n      <th>node_id</th>\n      <th>stop_name</th>\n      <th>place_id</th>\n      <th>route_id</th>\n      <th>route_short_name</th>\n      <th>mode</th>\n      <th>stop_id</th>\n      <th>direction_id</th>\n      <th>osmid</th>\n      <th>geometry</th>\n    </tr>\n  </thead>\n  <tbody>\n    <tr>\n      <th>0</th>\n      <td>7:e Villagatan_307955489_9011014200100000</td>\n      <td>7:e Villagatan</td>\n      <td>307955489</td>\n      <td>9011014200100000</td>\n      <td>1</td>\n      <td>bus_service</td>\n      <td>[9022014082785001, 9022014082785002]</td>\n      <td>[0, 1]</td>\n      <td>[87793055.0, 23859327.0]</td>\n      <td>POINT (378291.977 6399668.440)</td>\n    </tr>\n    <tr>\n      <th>1</th>\n      <td>7:e Villagatan_307955489_9011014200300000</td>\n      <td>7:e Villagatan</td>\n      <td>307955489</td>\n      <td>9011014200300000</td>\n      <td>3</td>\n      <td>bus_service</td>\n      <td>[9022014082785001, 9022014082785002]</td>\n      <td>[0, 1]</td>\n      <td>[87793055.0, 23859327.0]</td>\n      <td>POINT (378291.977 6399668.440)</td>\n    </tr>\n    <tr>\n      <th>2</th>\n      <td>7:e Villagatan_307955489_9011014200500000</td>\n      <td>7:e Villagatan</td>\n      <td>307955489</td>\n      <td>9011014200500000</td>\n      <td>5</td>\n      <td>bus_service</td>\n      <td>[9022014082785001, 9022014082785002]</td>\n      <td>[1, 0]</td>\n      <td>[87793055.0, 23859327.0]</td>\n      <td>POINT (378291.977 6399668.440)</td>\n    </tr>\n    <tr>\n      <th>3</th>\n      <td>7:e Villagatan_307955489_9011014200800000</td>\n      <td>7:e Villagatan</td>\n      <td>307955489</td>\n      <td>9011014200800000</td>\n      <td>8</td>\n      <td>bus_service</td>\n      <td>[9022014082785001, 9022014082785002]</td>\n      <td>[0, 1]</td>\n      <td>[87793055.0, 23859327.0]</td>\n      <td>POINT (378291.977 6399668.440)</td>\n    </tr>\n    <tr>\n      <th>4</th>\n      <td>AGA Vattenfall_307980814_9011014633100000</td>\n      <td>AGA Vattenfall</td>\n      <td>307980814</td>\n      <td>9011014633100000</td>\n      <td>331</td>\n      <td>bus_service</td>\n      <td>[9022014015161001, 9022014015161002]</td>\n      <td>[0, 1]</td>\n      <td>[1021141732.0, 1021141732.0]</td>\n      <td>POINT (313191.955 6442732.480)</td>\n    </tr>\n  </tbody>\n</table>\n</div>"
     },
     "execution_count": 6,
     "metadata": {},
     "output_type": "execute_result"
    }
   ],
   "source": [
    "# Filter and organize the data\n",
    "# Step 4: Select and clean the final columns\n",
    "nodes_pt_2 = nodes_pt_2_grouped[['node_id', 'stop_name', 'place_id', 'route_id',\n",
    "                                 'route_short_name', 'mode', 'stop_id',\n",
    "                                 'direction_id', 'osmid', 'geometry']].dropna().drop_duplicates('node_id')\n",
    "\n",
    "# Step 5 (optional): Display the head of the DataFrame\n",
    "nodes_pt_2.head()"
   ],
   "metadata": {
    "collapsed": false,
    "pycharm": {
     "name": "#%%\n"
    }
   }
  },
  {
   "cell_type": "code",
   "execution_count": 7,
   "outputs": [],
   "source": [
    "# Step 6 (optional): Set geometry and export to the DB\n",
    "nodes_pt_2 = gpd.GeoDataFrame(nodes_pt_2, geometry='geometry', crs='3006')\n",
    "nodes_pt_2.to_postgis('nodes_pt_2', engine, schema='pt_2_odirection_mstops_mroutes', if_exists ='replace')"
   ],
   "metadata": {
    "collapsed": false,
    "pycharm": {
     "name": "#%%\n"
    }
   }
  },
  {
   "cell_type": "markdown",
   "source": [
    "### Links"
   ],
   "metadata": {
    "collapsed": false,
    "pycharm": {
     "name": "#%% md\n"
    }
   }
  },
  {
   "cell_type": "code",
   "execution_count": 10,
   "outputs": [],
   "source": [
    "# Import data\n",
    "#Step 1: Import Data\n",
    "links_pt_1_wide_query = text('SELECT * FROM pt_1_mdirections_mstops_mroutes.links_pt_1_wide')\n",
    "links_pt_1 = gpd.read_postgis(links_pt_1_wide_query, engine, geom_col='geometry')"
   ],
   "metadata": {
    "collapsed": false,
    "pycharm": {
     "name": "#%%\n"
    }
   }
  },
  {
   "cell_type": "code",
   "execution_count": 11,
   "outputs": [
    {
     "data": {
      "text/plain": "                                      node_id_source  \\\n0          Bäckängsskolan_307955489_9011014200100000   \n1  Södra Älvsborgs sjukhus_307955489_901101420010...   \n2          Bäckängsskolan_307955489_9011014200300000   \n3  Södra Älvsborgs sjukhus_307955489_901101420030...   \n4          Bäckängsskolan_307955489_9011014200500000   \n\n                              node_id_target  time_distance  \\\n0  7:e Villagatan_307955489_9011014200100000          129.0   \n1  7:e Villagatan_307955489_9011014200100000           98.0   \n2  7:e Villagatan_307955489_9011014200300000          114.0   \n3  7:e Villagatan_307955489_9011014200300000           86.0   \n4  7:e Villagatan_307955489_9011014200500000          117.0   \n\n          stop_name_source stop_name_target  place_id_source  place_id_target  \\\n0           Bäckängsskolan   7:e Villagatan        307955489        307955489   \n1  Södra Älvsborgs sjukhus   7:e Villagatan        307955489        307955489   \n2           Bäckängsskolan   7:e Villagatan        307955489        307955489   \n3  Södra Älvsborgs sjukhus   7:e Villagatan        307955489        307955489   \n4           Bäckängsskolan   7:e Villagatan        307955489        307955489   \n\n     stop_id_source    stop_id_target          route_id  ...  \\\n0  9022014082676002  9022014082785002  9011014200100000  ...   \n1  9022014082726001  9022014082785001  9011014200100000  ...   \n2  9022014082676002  9022014082785002  9011014200300000  ...   \n3  9022014082726001  9022014082785001  9011014200300000  ...   \n4  9022014082676002  9022014082785002  9011014200500000  ...   \n\n  freq_friday_night(dawn) freq_saturday_night(dawn) freq_sunday_night(dawn)  \\\n0                     0.0                       0.0                     0.0   \n1                     0.0                       0.0                     0.0   \n2                     0.0                       0.0                     0.0   \n3                     0.0                       0.0                     0.0   \n4                     0.0                       0.0                     0.0   \n\n  freq_week_day_morning freq_week_day_peak_morning  freq_week_day_afternoon  \\\n0           2842.105263                1800.000000              2571.428571   \n1           2781.115880                1825.352113              2623.481781   \n2           9000.000000                9671.641791              9000.000000   \n3           9000.000000                9671.641791              9000.000000   \n4           8415.584416                5102.362205              8415.584416   \n\n   freq_week_day_peak_evening  freq_week_day_evening  freq_week_day_night  \\\n0                 1800.000000            2454.545455          4909.090909   \n1                 1800.000000            2347.826087          6000.000000   \n2                 9000.000000            9671.641791         54000.000000   \n3                 9000.000000            9671.641791             0.000000   \n4                 4729.927007            6750.000000          9000.000000   \n\n   freq_week_day_night(dawn)  \n0                        0.0  \n1                        0.0  \n2                        0.0  \n3                        0.0  \n4                        0.0  \n\n[5 rows x 71 columns]",
      "text/html": "<div>\n<style scoped>\n    .dataframe tbody tr th:only-of-type {\n        vertical-align: middle;\n    }\n\n    .dataframe tbody tr th {\n        vertical-align: top;\n    }\n\n    .dataframe thead th {\n        text-align: right;\n    }\n</style>\n<table border=\"1\" class=\"dataframe\">\n  <thead>\n    <tr style=\"text-align: right;\">\n      <th></th>\n      <th>node_id_source</th>\n      <th>node_id_target</th>\n      <th>time_distance</th>\n      <th>stop_name_source</th>\n      <th>stop_name_target</th>\n      <th>place_id_source</th>\n      <th>place_id_target</th>\n      <th>stop_id_source</th>\n      <th>stop_id_target</th>\n      <th>route_id</th>\n      <th>...</th>\n      <th>freq_friday_night(dawn)</th>\n      <th>freq_saturday_night(dawn)</th>\n      <th>freq_sunday_night(dawn)</th>\n      <th>freq_week_day_morning</th>\n      <th>freq_week_day_peak_morning</th>\n      <th>freq_week_day_afternoon</th>\n      <th>freq_week_day_peak_evening</th>\n      <th>freq_week_day_evening</th>\n      <th>freq_week_day_night</th>\n      <th>freq_week_day_night(dawn)</th>\n    </tr>\n  </thead>\n  <tbody>\n    <tr>\n      <th>0</th>\n      <td>Bäckängsskolan_307955489_9011014200100000</td>\n      <td>7:e Villagatan_307955489_9011014200100000</td>\n      <td>129.0</td>\n      <td>Bäckängsskolan</td>\n      <td>7:e Villagatan</td>\n      <td>307955489</td>\n      <td>307955489</td>\n      <td>9022014082676002</td>\n      <td>9022014082785002</td>\n      <td>9011014200100000</td>\n      <td>...</td>\n      <td>0.0</td>\n      <td>0.0</td>\n      <td>0.0</td>\n      <td>2842.105263</td>\n      <td>1800.000000</td>\n      <td>2571.428571</td>\n      <td>1800.000000</td>\n      <td>2454.545455</td>\n      <td>4909.090909</td>\n      <td>0.0</td>\n    </tr>\n    <tr>\n      <th>1</th>\n      <td>Södra Älvsborgs sjukhus_307955489_901101420010...</td>\n      <td>7:e Villagatan_307955489_9011014200100000</td>\n      <td>98.0</td>\n      <td>Södra Älvsborgs sjukhus</td>\n      <td>7:e Villagatan</td>\n      <td>307955489</td>\n      <td>307955489</td>\n      <td>9022014082726001</td>\n      <td>9022014082785001</td>\n      <td>9011014200100000</td>\n      <td>...</td>\n      <td>0.0</td>\n      <td>0.0</td>\n      <td>0.0</td>\n      <td>2781.115880</td>\n      <td>1825.352113</td>\n      <td>2623.481781</td>\n      <td>1800.000000</td>\n      <td>2347.826087</td>\n      <td>6000.000000</td>\n      <td>0.0</td>\n    </tr>\n    <tr>\n      <th>2</th>\n      <td>Bäckängsskolan_307955489_9011014200300000</td>\n      <td>7:e Villagatan_307955489_9011014200300000</td>\n      <td>114.0</td>\n      <td>Bäckängsskolan</td>\n      <td>7:e Villagatan</td>\n      <td>307955489</td>\n      <td>307955489</td>\n      <td>9022014082676002</td>\n      <td>9022014082785002</td>\n      <td>9011014200300000</td>\n      <td>...</td>\n      <td>0.0</td>\n      <td>0.0</td>\n      <td>0.0</td>\n      <td>9000.000000</td>\n      <td>9671.641791</td>\n      <td>9000.000000</td>\n      <td>9000.000000</td>\n      <td>9671.641791</td>\n      <td>54000.000000</td>\n      <td>0.0</td>\n    </tr>\n    <tr>\n      <th>3</th>\n      <td>Södra Älvsborgs sjukhus_307955489_901101420030...</td>\n      <td>7:e Villagatan_307955489_9011014200300000</td>\n      <td>86.0</td>\n      <td>Södra Älvsborgs sjukhus</td>\n      <td>7:e Villagatan</td>\n      <td>307955489</td>\n      <td>307955489</td>\n      <td>9022014082726001</td>\n      <td>9022014082785001</td>\n      <td>9011014200300000</td>\n      <td>...</td>\n      <td>0.0</td>\n      <td>0.0</td>\n      <td>0.0</td>\n      <td>9000.000000</td>\n      <td>9671.641791</td>\n      <td>9000.000000</td>\n      <td>9000.000000</td>\n      <td>9671.641791</td>\n      <td>0.000000</td>\n      <td>0.0</td>\n    </tr>\n    <tr>\n      <th>4</th>\n      <td>Bäckängsskolan_307955489_9011014200500000</td>\n      <td>7:e Villagatan_307955489_9011014200500000</td>\n      <td>117.0</td>\n      <td>Bäckängsskolan</td>\n      <td>7:e Villagatan</td>\n      <td>307955489</td>\n      <td>307955489</td>\n      <td>9022014082676002</td>\n      <td>9022014082785002</td>\n      <td>9011014200500000</td>\n      <td>...</td>\n      <td>0.0</td>\n      <td>0.0</td>\n      <td>0.0</td>\n      <td>8415.584416</td>\n      <td>5102.362205</td>\n      <td>8415.584416</td>\n      <td>4729.927007</td>\n      <td>6750.000000</td>\n      <td>9000.000000</td>\n      <td>0.0</td>\n    </tr>\n  </tbody>\n</table>\n<p>5 rows × 71 columns</p>\n</div>"
     },
     "execution_count": 11,
     "metadata": {},
     "output_type": "execute_result"
    }
   ],
   "source": [
    "# Preprocess the Data\n",
    "# Step 1: Merge nodes and links in order to get the right combination of data\n",
    "links_pt_2_source_merge = pd.merge(\n",
    "    nodes_pt_2[['node_id', 'stop_id', 'stop_name', 'place_id', 'route_id', 'direction_id', 'geometry']],\n",
    "    links_pt_1 [['route_id', 'route_short_name', 'stop_id_source', 'stop_id_target',\n",
    "                     'stop_name_source', 'stop_name_target', 'time_distance',\n",
    "                     'place_id_source', 'place_id_target', 'mode'] + [col for col in links_pt_1.columns if col.startswith('freq_')]],\n",
    "    left_on=['route_id', 'stop_name', 'place_id'],\n",
    "    right_on=['route_id', 'stop_name_source', 'place_id_source'],\n",
    "    how='inner'\n",
    ")\n",
    "\n",
    "links_pt_2_target_merge = pd.merge(\n",
    "    nodes_pt_2[['node_id', 'stop_id', 'route_id', 'stop_name', 'place_id', 'direction_id', 'geometry']],\n",
    "    links_pt_2_source_merge[['node_id', 'stop_name_source', 'stop_name_target', 'place_id_source', 'place_id_target',\n",
    "                             'stop_id_source', 'stop_id_target', 'time_distance', 'route_id', 'route_short_name',\n",
    "                             'mode', 'geometry'] + [col for col in links_pt_2_source_merge.columns if col.startswith('freq_')]],\n",
    "    left_on=['route_id', 'stop_name', 'place_id'],\n",
    "    right_on=['route_id', 'stop_name_target', 'place_id_target'],\n",
    "    how='inner'\n",
    ").rename(columns={'node_id_x': 'node_id_target', 'node_id_y': 'node_id_source', 'geometry_x': 'geometry_target', 'geometry_y': 'geometry_source'})\n",
    "\n",
    "# Step 2: Select specific columns and remove duplicates\n",
    "links_pt_2_l1 = links_pt_2_target_merge[['node_id_source', 'node_id_target', 'time_distance', 'stop_name_source', 'stop_name_target',\n",
    "                                             'place_id_source', 'place_id_target', 'stop_id_source', 'stop_id_target', 'route_id', 'route_short_name',\n",
    "                                             'mode', 'direction_id', 'geometry_source', 'geometry_target'] + [col for col in links_pt_2_target_merge.columns if col.startswith('freq_')]]\n",
    "\n",
    "# Step 3 (optional): Display the results\n",
    "links_pt_2_l1.head()"
   ],
   "metadata": {
    "collapsed": false,
    "pycharm": {
     "name": "#%%\n"
    }
   }
  },
  {
   "cell_type": "code",
   "execution_count": 12,
   "outputs": [
    {
     "name": "stderr",
     "output_type": "stream",
     "text": [
      "C:\\Users\\monaliza\\AppData\\Roaming\\Python\\Python39\\site-packages\\geopandas\\geodataframe.py:1525: SettingWithCopyWarning: \n",
      "A value is trying to be set on a copy of a slice from a DataFrame.\n",
      "Try using .loc[row_indexer,col_indexer] = value instead\n",
      "\n",
      "See the caveats in the documentation: https://pandas.pydata.org/pandas-docs/stable/user_guide/indexing.html#returning-a-view-versus-a-copy\n",
      "  super().__setitem__(key, value)\n",
      "C:\\Users\\monaliza\\AppData\\Roaming\\Python\\Python39\\site-packages\\geopandas\\geodataframe.py:1525: SettingWithCopyWarning: \n",
      "A value is trying to be set on a copy of a slice from a DataFrame.\n",
      "Try using .loc[row_indexer,col_indexer] = value instead\n",
      "\n",
      "See the caveats in the documentation: https://pandas.pydata.org/pandas-docs/stable/user_guide/indexing.html#returning-a-view-versus-a-copy\n",
      "  super().__setitem__(key, value)\n"
     ]
    },
    {
     "data": {
      "text/plain": "                                     symmetric_pairs          route_id  \\\n0  7:e Villagatan_307955489_9011014200100000-Bäck...  9011014200100000   \n1  7:e Villagatan_307955489_9011014200100000-Södr...  9011014200100000   \n2  7:e Villagatan_307955489_9011014200300000-Bäck...  9011014200300000   \n3  7:e Villagatan_307955489_9011014200300000-Södr...  9011014200300000   \n4  7:e Villagatan_307955489_9011014200500000-Bäck...  9011014200500000   \n\n  route_short_name         mode                        stop_id_source  \\\n0                1  bus_service  [9022014082676002, 9022014082785001]   \n1                1  bus_service  [9022014082726001, 9022014082785002]   \n2                3  bus_service  [9022014082676002, 9022014082785001]   \n3                3  bus_service  [9022014082726001, 9022014082785002]   \n4                5  bus_service  [9022014082676002, 9022014082785001]   \n\n                         stop_id_target         stop_name_source  \\\n0  [9022014082785002, 9022014082676001]           Bäckängsskolan   \n1  [9022014082785001, 9022014082726008]  Södra Älvsborgs sjukhus   \n2  [9022014082785002, 9022014082676001]           Bäckängsskolan   \n3  [9022014082785001, 9022014082726008]  Södra Älvsborgs sjukhus   \n4  [9022014082785002, 9022014082676001]           Bäckängsskolan   \n\n  stop_name_target  place_id_source  place_id_target  ...  \\\n0   7:e Villagatan        307955489        307955489  ...   \n1   7:e Villagatan        307955489        307955489  ...   \n2   7:e Villagatan        307955489        307955489  ...   \n3   7:e Villagatan        307955489        307955489  ...   \n4   7:e Villagatan        307955489        307955489  ...   \n\n  freq_friday_night(dawn) freq_saturday_night(dawn) freq_sunday_night(dawn)  \\\n0                     0.0                       0.0                     0.0   \n1                     0.0                       0.0                     0.0   \n2                     0.0                       0.0                     0.0   \n3                     0.0                       0.0                     0.0   \n4                     0.0                       0.0                     0.0   \n\n  freq_week_day_morning  freq_week_day_peak_morning  freq_week_day_afternoon  \\\n0           2842.105263                 1812.676056              2571.428571   \n1           2769.281344                 1830.523082              2634.189870   \n2           9000.000000                 9671.641791              9000.000000   \n3           9000.000000                 9671.641791              9000.000000   \n4           8064.935065                 4801.181102              8064.935065   \n\n   freq_week_day_peak_evening  freq_week_day_evening  freq_week_day_night  \\\n0                 1800.000000            2401.185771          5454.545455   \n1                 1800.000000            2369.484999          5454.545455   \n2                 9000.000000            9671.641791         27000.000000   \n3                 9000.000000            9671.641791         27000.000000   \n4                 4614.963504            7476.265823          9000.000000   \n\n   freq_week_day_night(dawn)  \n0                        0.0  \n1                        0.0  \n2                        0.0  \n3                        0.0  \n4                        0.0  \n\n[5 rows x 71 columns]",
      "text/html": "<div>\n<style scoped>\n    .dataframe tbody tr th:only-of-type {\n        vertical-align: middle;\n    }\n\n    .dataframe tbody tr th {\n        vertical-align: top;\n    }\n\n    .dataframe thead th {\n        text-align: right;\n    }\n</style>\n<table border=\"1\" class=\"dataframe\">\n  <thead>\n    <tr style=\"text-align: right;\">\n      <th></th>\n      <th>symmetric_pairs</th>\n      <th>route_id</th>\n      <th>route_short_name</th>\n      <th>mode</th>\n      <th>stop_id_source</th>\n      <th>stop_id_target</th>\n      <th>stop_name_source</th>\n      <th>stop_name_target</th>\n      <th>place_id_source</th>\n      <th>place_id_target</th>\n      <th>...</th>\n      <th>freq_friday_night(dawn)</th>\n      <th>freq_saturday_night(dawn)</th>\n      <th>freq_sunday_night(dawn)</th>\n      <th>freq_week_day_morning</th>\n      <th>freq_week_day_peak_morning</th>\n      <th>freq_week_day_afternoon</th>\n      <th>freq_week_day_peak_evening</th>\n      <th>freq_week_day_evening</th>\n      <th>freq_week_day_night</th>\n      <th>freq_week_day_night(dawn)</th>\n    </tr>\n  </thead>\n  <tbody>\n    <tr>\n      <th>0</th>\n      <td>7:e Villagatan_307955489_9011014200100000-Bäck...</td>\n      <td>9011014200100000</td>\n      <td>1</td>\n      <td>bus_service</td>\n      <td>[9022014082676002, 9022014082785001]</td>\n      <td>[9022014082785002, 9022014082676001]</td>\n      <td>Bäckängsskolan</td>\n      <td>7:e Villagatan</td>\n      <td>307955489</td>\n      <td>307955489</td>\n      <td>...</td>\n      <td>0.0</td>\n      <td>0.0</td>\n      <td>0.0</td>\n      <td>2842.105263</td>\n      <td>1812.676056</td>\n      <td>2571.428571</td>\n      <td>1800.000000</td>\n      <td>2401.185771</td>\n      <td>5454.545455</td>\n      <td>0.0</td>\n    </tr>\n    <tr>\n      <th>1</th>\n      <td>7:e Villagatan_307955489_9011014200100000-Södr...</td>\n      <td>9011014200100000</td>\n      <td>1</td>\n      <td>bus_service</td>\n      <td>[9022014082726001, 9022014082785002]</td>\n      <td>[9022014082785001, 9022014082726008]</td>\n      <td>Södra Älvsborgs sjukhus</td>\n      <td>7:e Villagatan</td>\n      <td>307955489</td>\n      <td>307955489</td>\n      <td>...</td>\n      <td>0.0</td>\n      <td>0.0</td>\n      <td>0.0</td>\n      <td>2769.281344</td>\n      <td>1830.523082</td>\n      <td>2634.189870</td>\n      <td>1800.000000</td>\n      <td>2369.484999</td>\n      <td>5454.545455</td>\n      <td>0.0</td>\n    </tr>\n    <tr>\n      <th>2</th>\n      <td>7:e Villagatan_307955489_9011014200300000-Bäck...</td>\n      <td>9011014200300000</td>\n      <td>3</td>\n      <td>bus_service</td>\n      <td>[9022014082676002, 9022014082785001]</td>\n      <td>[9022014082785002, 9022014082676001]</td>\n      <td>Bäckängsskolan</td>\n      <td>7:e Villagatan</td>\n      <td>307955489</td>\n      <td>307955489</td>\n      <td>...</td>\n      <td>0.0</td>\n      <td>0.0</td>\n      <td>0.0</td>\n      <td>9000.000000</td>\n      <td>9671.641791</td>\n      <td>9000.000000</td>\n      <td>9000.000000</td>\n      <td>9671.641791</td>\n      <td>27000.000000</td>\n      <td>0.0</td>\n    </tr>\n    <tr>\n      <th>3</th>\n      <td>7:e Villagatan_307955489_9011014200300000-Södr...</td>\n      <td>9011014200300000</td>\n      <td>3</td>\n      <td>bus_service</td>\n      <td>[9022014082726001, 9022014082785002]</td>\n      <td>[9022014082785001, 9022014082726008]</td>\n      <td>Södra Älvsborgs sjukhus</td>\n      <td>7:e Villagatan</td>\n      <td>307955489</td>\n      <td>307955489</td>\n      <td>...</td>\n      <td>0.0</td>\n      <td>0.0</td>\n      <td>0.0</td>\n      <td>9000.000000</td>\n      <td>9671.641791</td>\n      <td>9000.000000</td>\n      <td>9000.000000</td>\n      <td>9671.641791</td>\n      <td>27000.000000</td>\n      <td>0.0</td>\n    </tr>\n    <tr>\n      <th>4</th>\n      <td>7:e Villagatan_307955489_9011014200500000-Bäck...</td>\n      <td>9011014200500000</td>\n      <td>5</td>\n      <td>bus_service</td>\n      <td>[9022014082676002, 9022014082785001]</td>\n      <td>[9022014082785002, 9022014082676001]</td>\n      <td>Bäckängsskolan</td>\n      <td>7:e Villagatan</td>\n      <td>307955489</td>\n      <td>307955489</td>\n      <td>...</td>\n      <td>0.0</td>\n      <td>0.0</td>\n      <td>0.0</td>\n      <td>8064.935065</td>\n      <td>4801.181102</td>\n      <td>8064.935065</td>\n      <td>4614.963504</td>\n      <td>7476.265823</td>\n      <td>9000.000000</td>\n      <td>0.0</td>\n    </tr>\n  </tbody>\n</table>\n<p>5 rows × 71 columns</p>\n</div>"
     },
     "execution_count": 12,
     "metadata": {},
     "output_type": "execute_result"
    }
   ],
   "source": [
    "# Create the links of the one direction model\n",
    "# Step 4: Aggregate Data\n",
    "links_pt_2_l1['geometry'] = links_pt_2_l1.apply(lambda row: LineString([Point(row['geometry_source']), Point(row['geometry_target'])]), axis=1)\n",
    "links_pt_2_l1['symmetric_pairs'] = links_pt_2_l1[['node_id_source', 'node_id_target']].apply(lambda x: '-'.join(sorted(x)), axis=1)\n",
    "\n",
    "# Step 5: Define aggregation functions for various columns\n",
    "agg_func_link = {\n",
    "    'route_id': 'first',\n",
    "    'route_short_name': 'first',\n",
    "    'mode': 'first',\n",
    "    'stop_id_source': list,\n",
    "    'stop_id_target': list,\n",
    "    'stop_name_source': 'first',\n",
    "    'stop_name_target': 'first',\n",
    "    'place_id_source': 'first',\n",
    "    'place_id_target': 'first',\n",
    "    'node_id_source': 'first',\n",
    "    'node_id_target': 'first',\n",
    "    'direction_id': 'first',\n",
    "    'geometry': 'first',\n",
    "    'time_distance': 'mean'\n",
    "}\n",
    "\n",
    "freq_cols = [col for col in links_pt_2_l1.columns if col.startswith('freq_')]\n",
    "agg_func_link.update({col: 'mean' for col in freq_cols})\n",
    "\n",
    "links_pt_2_l2 = links_pt_2_l1.groupby(['symmetric_pairs']).agg(agg_func_link).reset_index()\n",
    "\n",
    "# Step 6 (optional): Display the results\n",
    "links_pt_2_l2.head()"
   ],
   "metadata": {
    "collapsed": false,
    "pycharm": {
     "name": "#%%\n"
    }
   }
  },
  {
   "cell_type": "code",
   "execution_count": 13,
   "outputs": [
    {
     "data": {
      "text/plain": "                                              source  \\\n0          Bäckängsskolan_307955489_9011014200100000   \n1  Södra Älvsborgs sjukhus_307955489_901101420010...   \n2          Bäckängsskolan_307955489_9011014200300000   \n3  Södra Älvsborgs sjukhus_307955489_901101420030...   \n4          Bäckängsskolan_307955489_9011014200500000   \n\n                                      target  time_distance          route_id  \\\n0  7:e Villagatan_307955489_9011014200100000          128.5  9011014200100000   \n1  7:e Villagatan_307955489_9011014200100000          117.5  9011014200100000   \n2  7:e Villagatan_307955489_9011014200300000          112.0  9011014200300000   \n3  7:e Villagatan_307955489_9011014200300000          103.0  9011014200300000   \n4  7:e Villagatan_307955489_9011014200500000          123.5  9011014200500000   \n\n          stop_name_source  place_id_source stop_name_target  place_id_target  \\\n0           Bäckängsskolan        307955489   7:e Villagatan        307955489   \n1  Södra Älvsborgs sjukhus        307955489   7:e Villagatan        307955489   \n2           Bäckängsskolan        307955489   7:e Villagatan        307955489   \n3  Södra Älvsborgs sjukhus        307955489   7:e Villagatan        307955489   \n4           Bäckängsskolan        307955489   7:e Villagatan        307955489   \n\n                         stop_id_source                        stop_id_target  \\\n0  [9022014082676002, 9022014082785001]  [9022014082785002, 9022014082676001]   \n1  [9022014082726001, 9022014082785002]  [9022014082785001, 9022014082726008]   \n2  [9022014082676002, 9022014082785001]  [9022014082785002, 9022014082676001]   \n3  [9022014082726001, 9022014082785002]  [9022014082785001, 9022014082726008]   \n4  [9022014082676002, 9022014082785001]  [9022014082785002, 9022014082676001]   \n\n   ... freq_friday_night(dawn) freq_saturday_night(dawn)  \\\n0  ...                     0.0                       0.0   \n1  ...                     0.0                       0.0   \n2  ...                     0.0                       0.0   \n3  ...                     0.0                       0.0   \n4  ...                     0.0                       0.0   \n\n  freq_sunday_night(dawn) freq_week_day_morning  freq_week_day_peak_morning  \\\n0                     0.0           2842.105263                 1812.676056   \n1                     0.0           2769.281344                 1830.523082   \n2                     0.0           9000.000000                 9671.641791   \n3                     0.0           9000.000000                 9671.641791   \n4                     0.0           8064.935065                 4801.181102   \n\n   freq_week_day_afternoon  freq_week_day_peak_evening  freq_week_day_evening  \\\n0              2571.428571                 1800.000000            2401.185771   \n1              2634.189870                 1800.000000            2369.484999   \n2              9000.000000                 9000.000000            9671.641791   \n3              9000.000000                 9000.000000            9671.641791   \n4              8064.935065                 4614.963504            7476.265823   \n\n   freq_week_day_night  freq_week_day_night(dawn)  \n0          5454.545455                        0.0  \n1          5454.545455                        0.0  \n2         27000.000000                        0.0  \n3         27000.000000                        0.0  \n4          9000.000000                        0.0  \n\n[5 rows x 70 columns]",
      "text/html": "<div>\n<style scoped>\n    .dataframe tbody tr th:only-of-type {\n        vertical-align: middle;\n    }\n\n    .dataframe tbody tr th {\n        vertical-align: top;\n    }\n\n    .dataframe thead th {\n        text-align: right;\n    }\n</style>\n<table border=\"1\" class=\"dataframe\">\n  <thead>\n    <tr style=\"text-align: right;\">\n      <th></th>\n      <th>source</th>\n      <th>target</th>\n      <th>time_distance</th>\n      <th>route_id</th>\n      <th>stop_name_source</th>\n      <th>place_id_source</th>\n      <th>stop_name_target</th>\n      <th>place_id_target</th>\n      <th>stop_id_source</th>\n      <th>stop_id_target</th>\n      <th>...</th>\n      <th>freq_friday_night(dawn)</th>\n      <th>freq_saturday_night(dawn)</th>\n      <th>freq_sunday_night(dawn)</th>\n      <th>freq_week_day_morning</th>\n      <th>freq_week_day_peak_morning</th>\n      <th>freq_week_day_afternoon</th>\n      <th>freq_week_day_peak_evening</th>\n      <th>freq_week_day_evening</th>\n      <th>freq_week_day_night</th>\n      <th>freq_week_day_night(dawn)</th>\n    </tr>\n  </thead>\n  <tbody>\n    <tr>\n      <th>0</th>\n      <td>Bäckängsskolan_307955489_9011014200100000</td>\n      <td>7:e Villagatan_307955489_9011014200100000</td>\n      <td>128.5</td>\n      <td>9011014200100000</td>\n      <td>Bäckängsskolan</td>\n      <td>307955489</td>\n      <td>7:e Villagatan</td>\n      <td>307955489</td>\n      <td>[9022014082676002, 9022014082785001]</td>\n      <td>[9022014082785002, 9022014082676001]</td>\n      <td>...</td>\n      <td>0.0</td>\n      <td>0.0</td>\n      <td>0.0</td>\n      <td>2842.105263</td>\n      <td>1812.676056</td>\n      <td>2571.428571</td>\n      <td>1800.000000</td>\n      <td>2401.185771</td>\n      <td>5454.545455</td>\n      <td>0.0</td>\n    </tr>\n    <tr>\n      <th>1</th>\n      <td>Södra Älvsborgs sjukhus_307955489_901101420010...</td>\n      <td>7:e Villagatan_307955489_9011014200100000</td>\n      <td>117.5</td>\n      <td>9011014200100000</td>\n      <td>Södra Älvsborgs sjukhus</td>\n      <td>307955489</td>\n      <td>7:e Villagatan</td>\n      <td>307955489</td>\n      <td>[9022014082726001, 9022014082785002]</td>\n      <td>[9022014082785001, 9022014082726008]</td>\n      <td>...</td>\n      <td>0.0</td>\n      <td>0.0</td>\n      <td>0.0</td>\n      <td>2769.281344</td>\n      <td>1830.523082</td>\n      <td>2634.189870</td>\n      <td>1800.000000</td>\n      <td>2369.484999</td>\n      <td>5454.545455</td>\n      <td>0.0</td>\n    </tr>\n    <tr>\n      <th>2</th>\n      <td>Bäckängsskolan_307955489_9011014200300000</td>\n      <td>7:e Villagatan_307955489_9011014200300000</td>\n      <td>112.0</td>\n      <td>9011014200300000</td>\n      <td>Bäckängsskolan</td>\n      <td>307955489</td>\n      <td>7:e Villagatan</td>\n      <td>307955489</td>\n      <td>[9022014082676002, 9022014082785001]</td>\n      <td>[9022014082785002, 9022014082676001]</td>\n      <td>...</td>\n      <td>0.0</td>\n      <td>0.0</td>\n      <td>0.0</td>\n      <td>9000.000000</td>\n      <td>9671.641791</td>\n      <td>9000.000000</td>\n      <td>9000.000000</td>\n      <td>9671.641791</td>\n      <td>27000.000000</td>\n      <td>0.0</td>\n    </tr>\n    <tr>\n      <th>3</th>\n      <td>Södra Älvsborgs sjukhus_307955489_901101420030...</td>\n      <td>7:e Villagatan_307955489_9011014200300000</td>\n      <td>103.0</td>\n      <td>9011014200300000</td>\n      <td>Södra Älvsborgs sjukhus</td>\n      <td>307955489</td>\n      <td>7:e Villagatan</td>\n      <td>307955489</td>\n      <td>[9022014082726001, 9022014082785002]</td>\n      <td>[9022014082785001, 9022014082726008]</td>\n      <td>...</td>\n      <td>0.0</td>\n      <td>0.0</td>\n      <td>0.0</td>\n      <td>9000.000000</td>\n      <td>9671.641791</td>\n      <td>9000.000000</td>\n      <td>9000.000000</td>\n      <td>9671.641791</td>\n      <td>27000.000000</td>\n      <td>0.0</td>\n    </tr>\n    <tr>\n      <th>4</th>\n      <td>Bäckängsskolan_307955489_9011014200500000</td>\n      <td>7:e Villagatan_307955489_9011014200500000</td>\n      <td>123.5</td>\n      <td>9011014200500000</td>\n      <td>Bäckängsskolan</td>\n      <td>307955489</td>\n      <td>7:e Villagatan</td>\n      <td>307955489</td>\n      <td>[9022014082676002, 9022014082785001]</td>\n      <td>[9022014082785002, 9022014082676001]</td>\n      <td>...</td>\n      <td>0.0</td>\n      <td>0.0</td>\n      <td>0.0</td>\n      <td>8064.935065</td>\n      <td>4801.181102</td>\n      <td>8064.935065</td>\n      <td>4614.963504</td>\n      <td>7476.265823</td>\n      <td>9000.000000</td>\n      <td>0.0</td>\n    </tr>\n  </tbody>\n</table>\n<p>5 rows × 70 columns</p>\n</div>"
     },
     "execution_count": 13,
     "metadata": {},
     "output_type": "execute_result"
    }
   ],
   "source": [
    "# Filter and organize the final table\n",
    "# Step 7: Rename columns for clarity\n",
    "links_pt_2_l2.rename(\n",
    "    columns={'node_id_source': 'source', 'node_id_target': 'target'},\n",
    "    inplace=True\n",
    ")\n",
    "\n",
    "# Step 8: Select desired columns for the final DataFrame\n",
    "links_pt_2 = links_pt_2_l2[['source', 'target', 'time_distance', 'route_id', 'stop_name_source',\n",
    "                            'place_id_source', 'stop_name_target',\n",
    "                            'place_id_target', 'stop_id_source', 'stop_id_target',\n",
    "                            'route_short_name', 'mode', 'direction_id',\n",
    "                            'geometry'] + [col for col in links_pt_2_l2.columns if col.startswith('freq_')]]\n",
    "\n",
    "# Step 9: Filter out rows where 'source' is equal to 'target'\n",
    "links_pt_2 = links_pt_2[links_pt_2['source'] != links_pt_2['target']]\n",
    "\n",
    "# Step 10 (optional): Display the results\n",
    "links_pt_2.head()"
   ],
   "metadata": {
    "collapsed": false,
    "pycharm": {
     "name": "#%%\n"
    }
   }
  },
  {
   "cell_type": "code",
   "execution_count": 16,
   "outputs": [],
   "source": [
    "# Step 11 (optional): create the GeoDataFrame and export to the DB\n",
    "links_pt_2 = gpd.GeoDataFrame(links_pt_2, geometry='geometry', crs='3006')\n",
    "links_pt_2.to_postgis('links_pt_2', engine, schema='pt_2_odirection_mstops_mroutes', if_exists ='replace')"
   ],
   "metadata": {
    "collapsed": false,
    "pycharm": {
     "name": "#%%\n"
    }
   }
  },
  {
   "cell_type": "markdown",
   "source": [
    "### Transfers"
   ],
   "metadata": {
    "collapsed": false,
    "pycharm": {
     "name": "#%% md\n"
    }
   }
  },
  {
   "cell_type": "markdown",
   "source": [
    "#### Same stop"
   ],
   "metadata": {
    "collapsed": false,
    "pycharm": {
     "name": "#%% md\n"
    }
   }
  },
  {
   "cell_type": "code",
   "execution_count": 17,
   "outputs": [
    {
     "data": {
      "text/plain": "                                     node_id       stop_name   place_id  \\\n0  7:e Villagatan_307955489_9011014200100000  7:e Villagatan  307955489   \n1  7:e Villagatan_307955489_9011014200300000  7:e Villagatan  307955489   \n2  7:e Villagatan_307955489_9011014200500000  7:e Villagatan  307955489   \n3  7:e Villagatan_307955489_9011014200800000  7:e Villagatan  307955489   \n4  AGA Vattenfall_307980814_9011014633100000  AGA Vattenfall  307980814   \n\n                         geometry  \n0  POINT (378291.977 6399668.440)  \n1  POINT (378291.977 6399668.440)  \n2  POINT (378291.977 6399668.440)  \n3  POINT (378291.977 6399668.440)  \n4  POINT (313191.955 6442732.480)  ",
      "text/html": "<div>\n<style scoped>\n    .dataframe tbody tr th:only-of-type {\n        vertical-align: middle;\n    }\n\n    .dataframe tbody tr th {\n        vertical-align: top;\n    }\n\n    .dataframe thead th {\n        text-align: right;\n    }\n</style>\n<table border=\"1\" class=\"dataframe\">\n  <thead>\n    <tr style=\"text-align: right;\">\n      <th></th>\n      <th>node_id</th>\n      <th>stop_name</th>\n      <th>place_id</th>\n      <th>geometry</th>\n    </tr>\n  </thead>\n  <tbody>\n    <tr>\n      <th>0</th>\n      <td>7:e Villagatan_307955489_9011014200100000</td>\n      <td>7:e Villagatan</td>\n      <td>307955489</td>\n      <td>POINT (378291.977 6399668.440)</td>\n    </tr>\n    <tr>\n      <th>1</th>\n      <td>7:e Villagatan_307955489_9011014200300000</td>\n      <td>7:e Villagatan</td>\n      <td>307955489</td>\n      <td>POINT (378291.977 6399668.440)</td>\n    </tr>\n    <tr>\n      <th>2</th>\n      <td>7:e Villagatan_307955489_9011014200500000</td>\n      <td>7:e Villagatan</td>\n      <td>307955489</td>\n      <td>POINT (378291.977 6399668.440)</td>\n    </tr>\n    <tr>\n      <th>3</th>\n      <td>7:e Villagatan_307955489_9011014200800000</td>\n      <td>7:e Villagatan</td>\n      <td>307955489</td>\n      <td>POINT (378291.977 6399668.440)</td>\n    </tr>\n    <tr>\n      <th>4</th>\n      <td>AGA Vattenfall_307980814_9011014633100000</td>\n      <td>AGA Vattenfall</td>\n      <td>307980814</td>\n      <td>POINT (313191.955 6442732.480)</td>\n    </tr>\n  </tbody>\n</table>\n</div>"
     },
     "execution_count": 17,
     "metadata": {},
     "output_type": "execute_result"
    }
   ],
   "source": [
    "# Preprocess the Data\n",
    "# Step 1: Create a copy of the nodes table\n",
    "nodes_transfer_same_stop = nodes_pt_2[['node_id', 'stop_name', 'place_id', 'geometry']].copy()\n",
    "\n",
    "#Step 2 (optional): display the results\n",
    "nodes_transfer_same_stop.head()"
   ],
   "metadata": {
    "collapsed": false,
    "pycharm": {
     "name": "#%%\n"
    }
   }
  },
  {
   "cell_type": "code",
   "execution_count": 18,
   "outputs": [
    {
     "data": {
      "text/plain": "                                      source  \\\n0                             7:e Villagatan   \n1                             7:e Villagatan   \n2                             7:e Villagatan   \n3                             7:e Villagatan   \n4  7:e Villagatan_307955489_9011014200100000   \n\n                                      target   place_id  \\\n0  7:e Villagatan_307955489_9011014200100000  307955489   \n1  7:e Villagatan_307955489_9011014200300000  307955489   \n2  7:e Villagatan_307955489_9011014200500000  307955489   \n3  7:e Villagatan_307955489_9011014200800000  307955489   \n4                             7:e Villagatan  307955489   \n\n                         geometry  \n0  POINT (378291.977 6399668.440)  \n1  POINT (378291.977 6399668.440)  \n2  POINT (378291.977 6399668.440)  \n3  POINT (378291.977 6399668.440)  \n4  POINT (378291.977 6399668.440)  ",
      "text/html": "<div>\n<style scoped>\n    .dataframe tbody tr th:only-of-type {\n        vertical-align: middle;\n    }\n\n    .dataframe tbody tr th {\n        vertical-align: top;\n    }\n\n    .dataframe thead th {\n        text-align: right;\n    }\n</style>\n<table border=\"1\" class=\"dataframe\">\n  <thead>\n    <tr style=\"text-align: right;\">\n      <th></th>\n      <th>source</th>\n      <th>target</th>\n      <th>place_id</th>\n      <th>geometry</th>\n    </tr>\n  </thead>\n  <tbody>\n    <tr>\n      <th>0</th>\n      <td>7:e Villagatan</td>\n      <td>7:e Villagatan_307955489_9011014200100000</td>\n      <td>307955489</td>\n      <td>POINT (378291.977 6399668.440)</td>\n    </tr>\n    <tr>\n      <th>1</th>\n      <td>7:e Villagatan</td>\n      <td>7:e Villagatan_307955489_9011014200300000</td>\n      <td>307955489</td>\n      <td>POINT (378291.977 6399668.440)</td>\n    </tr>\n    <tr>\n      <th>2</th>\n      <td>7:e Villagatan</td>\n      <td>7:e Villagatan_307955489_9011014200500000</td>\n      <td>307955489</td>\n      <td>POINT (378291.977 6399668.440)</td>\n    </tr>\n    <tr>\n      <th>3</th>\n      <td>7:e Villagatan</td>\n      <td>7:e Villagatan_307955489_9011014200800000</td>\n      <td>307955489</td>\n      <td>POINT (378291.977 6399668.440)</td>\n    </tr>\n    <tr>\n      <th>4</th>\n      <td>7:e Villagatan_307955489_9011014200100000</td>\n      <td>7:e Villagatan</td>\n      <td>307955489</td>\n      <td>POINT (378291.977 6399668.440)</td>\n    </tr>\n  </tbody>\n</table>\n</div>"
     },
     "execution_count": 18,
     "metadata": {},
     "output_type": "execute_result"
    }
   ],
   "source": [
    "# Step 3: Merge the stops in order to create the transfers\n",
    "# Source\n",
    "stop_routes_source = nodes_transfer_same_stop.rename(columns={'node_id': 'source', 'stop_name': 'target'}).drop_duplicates()\n",
    "\n",
    "# Target\n",
    "stop_routes_target = pd.merge(nodes_transfer_same_stop,\n",
    "                              nodes_pt_2[['node_id']],\n",
    "                              on='node_id',\n",
    "                              how='inner').rename(columns={'stop_name': 'source', 'node_id': 'target'}).drop_duplicates()\n",
    "\n",
    "# Step 4: Create the transfers same stop table\n",
    "transfers_same_stop = pd.merge(stop_routes_source, stop_routes_target, how='outer')\n",
    "\n",
    "#Step 5 (optional): Display the results\n",
    "transfers_same_stop.head()"
   ],
   "metadata": {
    "collapsed": false,
    "pycharm": {
     "name": "#%%\n"
    }
   }
  },
  {
   "cell_type": "code",
   "execution_count": 19,
   "outputs": [
    {
     "data": {
      "text/plain": "                                      source  \\\n0  7:e Villagatan_307955489_9011014200100000   \n1  7:e Villagatan_307955489_9011014200300000   \n2  7:e Villagatan_307955489_9011014200500000   \n3  7:e Villagatan_307955489_9011014200800000   \n4                             7:e Villagatan   \n\n                                      target                        geometry  \\\n0                             7:e Villagatan  POINT (378291.977 6399668.440)   \n1                             7:e Villagatan  POINT (378291.977 6399668.440)   \n2                             7:e Villagatan  POINT (378291.977 6399668.440)   \n3                             7:e Villagatan  POINT (378291.977 6399668.440)   \n4  7:e Villagatan_307955489_9011014200100000  POINT (378291.977 6399668.440)   \n\n   freq_monday_morning  freq_tuesday_morning  freq_wednesday_morning  \\\n0                  NaN                   NaN                     NaN   \n1                  NaN                   NaN                     NaN   \n2                  NaN                   NaN                     NaN   \n3                  NaN                   NaN                     NaN   \n4           568.421053            568.421053              568.421053   \n\n   freq_thursday_morning  freq_friday_morning  freq_saturday_morning  \\\n0                    NaN                  NaN                    NaN   \n1                    NaN                  NaN                    NaN   \n2                    NaN                  NaN                    NaN   \n3                    NaN                  NaN                    NaN   \n4             568.421053           568.421053             646.915352   \n\n   freq_sunday_morning  ...  freq_friday_night(dawn)  \\\n0                  NaN  ...                      NaN   \n1                  NaN  ...                      NaN   \n2                  NaN  ...                      NaN   \n3                  NaN  ...                      NaN   \n4           647.778063  ...                      0.0   \n\n   freq_saturday_night(dawn)  freq_sunday_night(dawn)  freq_week_day_morning  \\\n0                        NaN                      NaN                    NaN   \n1                        NaN                      NaN                    NaN   \n2                        NaN                      NaN                    NaN   \n3                        NaN                      NaN                    NaN   \n4                        0.0                      0.0            2842.105263   \n\n   freq_week_day_peak_morning  freq_week_day_afternoon  \\\n0                         NaN                      NaN   \n1                         NaN                      NaN   \n2                         NaN                      NaN   \n3                         NaN                      NaN   \n4                 1812.676056              2571.428571   \n\n   freq_week_day_peak_evening  freq_week_day_evening  freq_week_day_night  \\\n0                         NaN                    NaN                  NaN   \n1                         NaN                    NaN                  NaN   \n2                         NaN                    NaN                  NaN   \n3                         NaN                    NaN                  NaN   \n4                      1800.0            2401.185771          5454.545455   \n\n   freq_week_day_night(dawn)  \n0                        NaN  \n1                        NaN  \n2                        NaN  \n3                        NaN  \n4                        0.0  \n\n[5 rows x 59 columns]",
      "text/html": "<div>\n<style scoped>\n    .dataframe tbody tr th:only-of-type {\n        vertical-align: middle;\n    }\n\n    .dataframe tbody tr th {\n        vertical-align: top;\n    }\n\n    .dataframe thead th {\n        text-align: right;\n    }\n</style>\n<table border=\"1\" class=\"dataframe\">\n  <thead>\n    <tr style=\"text-align: right;\">\n      <th></th>\n      <th>source</th>\n      <th>target</th>\n      <th>geometry</th>\n      <th>freq_monday_morning</th>\n      <th>freq_tuesday_morning</th>\n      <th>freq_wednesday_morning</th>\n      <th>freq_thursday_morning</th>\n      <th>freq_friday_morning</th>\n      <th>freq_saturday_morning</th>\n      <th>freq_sunday_morning</th>\n      <th>...</th>\n      <th>freq_friday_night(dawn)</th>\n      <th>freq_saturday_night(dawn)</th>\n      <th>freq_sunday_night(dawn)</th>\n      <th>freq_week_day_morning</th>\n      <th>freq_week_day_peak_morning</th>\n      <th>freq_week_day_afternoon</th>\n      <th>freq_week_day_peak_evening</th>\n      <th>freq_week_day_evening</th>\n      <th>freq_week_day_night</th>\n      <th>freq_week_day_night(dawn)</th>\n    </tr>\n  </thead>\n  <tbody>\n    <tr>\n      <th>0</th>\n      <td>7:e Villagatan_307955489_9011014200100000</td>\n      <td>7:e Villagatan</td>\n      <td>POINT (378291.977 6399668.440)</td>\n      <td>NaN</td>\n      <td>NaN</td>\n      <td>NaN</td>\n      <td>NaN</td>\n      <td>NaN</td>\n      <td>NaN</td>\n      <td>NaN</td>\n      <td>...</td>\n      <td>NaN</td>\n      <td>NaN</td>\n      <td>NaN</td>\n      <td>NaN</td>\n      <td>NaN</td>\n      <td>NaN</td>\n      <td>NaN</td>\n      <td>NaN</td>\n      <td>NaN</td>\n      <td>NaN</td>\n    </tr>\n    <tr>\n      <th>1</th>\n      <td>7:e Villagatan_307955489_9011014200300000</td>\n      <td>7:e Villagatan</td>\n      <td>POINT (378291.977 6399668.440)</td>\n      <td>NaN</td>\n      <td>NaN</td>\n      <td>NaN</td>\n      <td>NaN</td>\n      <td>NaN</td>\n      <td>NaN</td>\n      <td>NaN</td>\n      <td>...</td>\n      <td>NaN</td>\n      <td>NaN</td>\n      <td>NaN</td>\n      <td>NaN</td>\n      <td>NaN</td>\n      <td>NaN</td>\n      <td>NaN</td>\n      <td>NaN</td>\n      <td>NaN</td>\n      <td>NaN</td>\n    </tr>\n    <tr>\n      <th>2</th>\n      <td>7:e Villagatan_307955489_9011014200500000</td>\n      <td>7:e Villagatan</td>\n      <td>POINT (378291.977 6399668.440)</td>\n      <td>NaN</td>\n      <td>NaN</td>\n      <td>NaN</td>\n      <td>NaN</td>\n      <td>NaN</td>\n      <td>NaN</td>\n      <td>NaN</td>\n      <td>...</td>\n      <td>NaN</td>\n      <td>NaN</td>\n      <td>NaN</td>\n      <td>NaN</td>\n      <td>NaN</td>\n      <td>NaN</td>\n      <td>NaN</td>\n      <td>NaN</td>\n      <td>NaN</td>\n      <td>NaN</td>\n    </tr>\n    <tr>\n      <th>3</th>\n      <td>7:e Villagatan_307955489_9011014200800000</td>\n      <td>7:e Villagatan</td>\n      <td>POINT (378291.977 6399668.440)</td>\n      <td>NaN</td>\n      <td>NaN</td>\n      <td>NaN</td>\n      <td>NaN</td>\n      <td>NaN</td>\n      <td>NaN</td>\n      <td>NaN</td>\n      <td>...</td>\n      <td>NaN</td>\n      <td>NaN</td>\n      <td>NaN</td>\n      <td>NaN</td>\n      <td>NaN</td>\n      <td>NaN</td>\n      <td>NaN</td>\n      <td>NaN</td>\n      <td>NaN</td>\n      <td>NaN</td>\n    </tr>\n    <tr>\n      <th>4</th>\n      <td>7:e Villagatan</td>\n      <td>7:e Villagatan_307955489_9011014200100000</td>\n      <td>POINT (378291.977 6399668.440)</td>\n      <td>568.421053</td>\n      <td>568.421053</td>\n      <td>568.421053</td>\n      <td>568.421053</td>\n      <td>568.421053</td>\n      <td>646.915352</td>\n      <td>647.778063</td>\n      <td>...</td>\n      <td>0.0</td>\n      <td>0.0</td>\n      <td>0.0</td>\n      <td>2842.105263</td>\n      <td>1812.676056</td>\n      <td>2571.428571</td>\n      <td>1800.0</td>\n      <td>2401.185771</td>\n      <td>5454.545455</td>\n      <td>0.0</td>\n    </tr>\n  </tbody>\n</table>\n<p>5 rows × 59 columns</p>\n</div>"
     },
     "execution_count": 19,
     "metadata": {},
     "output_type": "execute_result"
    }
   ],
   "source": [
    "# Step 6: Merge the table with the frequency of the links table\n",
    "transfers_same_stop = pd.merge(transfers_same_stop,\n",
    "                               links_pt_2[['target'] + [col for col in links_pt_2.columns if col.startswith('freq_')]],\n",
    "                               on='target',\n",
    "                               how='outer').drop_duplicates(subset=('source', 'target'))\n",
    "transfers_same_stop = transfers_same_stop[['source', 'target', 'geometry'] + [col for col in transfers_same_stop.columns if col.startswith('freq_')]]\n",
    "\n",
    "#Step 7 (optional): Display the results\n",
    "transfers_same_stop.head()"
   ],
   "metadata": {
    "collapsed": false,
    "pycharm": {
     "name": "#%%\n"
    }
   }
  },
  {
   "cell_type": "code",
   "execution_count": 20,
   "outputs": [
    {
     "data": {
      "text/plain": "                                      source  \\\n0  7:e Villagatan_307955489_9011014200100000   \n1  7:e Villagatan_307955489_9011014200300000   \n2  7:e Villagatan_307955489_9011014200500000   \n3  7:e Villagatan_307955489_9011014200800000   \n4                             7:e Villagatan   \n\n                                      target                        geometry  \\\n0                             7:e Villagatan  POINT (378291.977 6399668.440)   \n1                             7:e Villagatan  POINT (378291.977 6399668.440)   \n2                             7:e Villagatan  POINT (378291.977 6399668.440)   \n3                             7:e Villagatan  POINT (378291.977 6399668.440)   \n4  7:e Villagatan_307955489_9011014200100000  POINT (378291.977 6399668.440)   \n\n   freq_monday_morning  freq_tuesday_morning  freq_wednesday_morning  \\\n0                  NaN                   NaN                     NaN   \n1                  NaN                   NaN                     NaN   \n2                  NaN                   NaN                     NaN   \n3                  NaN                   NaN                     NaN   \n4           568.421053            568.421053              568.421053   \n\n   freq_thursday_morning  freq_friday_morning  freq_saturday_morning  \\\n0                    NaN                  NaN                    NaN   \n1                    NaN                  NaN                    NaN   \n2                    NaN                  NaN                    NaN   \n3                    NaN                  NaN                    NaN   \n4             568.421053           568.421053             646.915352   \n\n   freq_sunday_morning  ...  freq_friday_night(dawn)  \\\n0                  NaN  ...                      NaN   \n1                  NaN  ...                      NaN   \n2                  NaN  ...                      NaN   \n3                  NaN  ...                      NaN   \n4           647.778063  ...                      NaN   \n\n   freq_saturday_night(dawn)  freq_sunday_night(dawn)  freq_week_day_morning  \\\n0                        NaN                      NaN                    NaN   \n1                        NaN                      NaN                    NaN   \n2                        NaN                      NaN                    NaN   \n3                        NaN                      NaN                    NaN   \n4                        NaN                      NaN            2842.105263   \n\n   freq_week_day_peak_morning  freq_week_day_afternoon  \\\n0                         NaN                      NaN   \n1                         NaN                      NaN   \n2                         NaN                      NaN   \n3                         NaN                      NaN   \n4                 1812.676056              2571.428571   \n\n   freq_week_day_peak_evening  freq_week_day_evening  freq_week_day_night  \\\n0                         NaN                    NaN                  NaN   \n1                         NaN                    NaN                  NaN   \n2                         NaN                    NaN                  NaN   \n3                         NaN                    NaN                  NaN   \n4                      1800.0            2401.185771          5454.545455   \n\n   freq_week_day_night(dawn)  \n0                        NaN  \n1                        NaN  \n2                        NaN  \n3                        NaN  \n4                        NaN  \n\n[5 rows x 59 columns]",
      "text/html": "<div>\n<style scoped>\n    .dataframe tbody tr th:only-of-type {\n        vertical-align: middle;\n    }\n\n    .dataframe tbody tr th {\n        vertical-align: top;\n    }\n\n    .dataframe thead th {\n        text-align: right;\n    }\n</style>\n<table border=\"1\" class=\"dataframe\">\n  <thead>\n    <tr style=\"text-align: right;\">\n      <th></th>\n      <th>source</th>\n      <th>target</th>\n      <th>geometry</th>\n      <th>freq_monday_morning</th>\n      <th>freq_tuesday_morning</th>\n      <th>freq_wednesday_morning</th>\n      <th>freq_thursday_morning</th>\n      <th>freq_friday_morning</th>\n      <th>freq_saturday_morning</th>\n      <th>freq_sunday_morning</th>\n      <th>...</th>\n      <th>freq_friday_night(dawn)</th>\n      <th>freq_saturday_night(dawn)</th>\n      <th>freq_sunday_night(dawn)</th>\n      <th>freq_week_day_morning</th>\n      <th>freq_week_day_peak_morning</th>\n      <th>freq_week_day_afternoon</th>\n      <th>freq_week_day_peak_evening</th>\n      <th>freq_week_day_evening</th>\n      <th>freq_week_day_night</th>\n      <th>freq_week_day_night(dawn)</th>\n    </tr>\n  </thead>\n  <tbody>\n    <tr>\n      <th>0</th>\n      <td>7:e Villagatan_307955489_9011014200100000</td>\n      <td>7:e Villagatan</td>\n      <td>POINT (378291.977 6399668.440)</td>\n      <td>NaN</td>\n      <td>NaN</td>\n      <td>NaN</td>\n      <td>NaN</td>\n      <td>NaN</td>\n      <td>NaN</td>\n      <td>NaN</td>\n      <td>...</td>\n      <td>NaN</td>\n      <td>NaN</td>\n      <td>NaN</td>\n      <td>NaN</td>\n      <td>NaN</td>\n      <td>NaN</td>\n      <td>NaN</td>\n      <td>NaN</td>\n      <td>NaN</td>\n      <td>NaN</td>\n    </tr>\n    <tr>\n      <th>1</th>\n      <td>7:e Villagatan_307955489_9011014200300000</td>\n      <td>7:e Villagatan</td>\n      <td>POINT (378291.977 6399668.440)</td>\n      <td>NaN</td>\n      <td>NaN</td>\n      <td>NaN</td>\n      <td>NaN</td>\n      <td>NaN</td>\n      <td>NaN</td>\n      <td>NaN</td>\n      <td>...</td>\n      <td>NaN</td>\n      <td>NaN</td>\n      <td>NaN</td>\n      <td>NaN</td>\n      <td>NaN</td>\n      <td>NaN</td>\n      <td>NaN</td>\n      <td>NaN</td>\n      <td>NaN</td>\n      <td>NaN</td>\n    </tr>\n    <tr>\n      <th>2</th>\n      <td>7:e Villagatan_307955489_9011014200500000</td>\n      <td>7:e Villagatan</td>\n      <td>POINT (378291.977 6399668.440)</td>\n      <td>NaN</td>\n      <td>NaN</td>\n      <td>NaN</td>\n      <td>NaN</td>\n      <td>NaN</td>\n      <td>NaN</td>\n      <td>NaN</td>\n      <td>...</td>\n      <td>NaN</td>\n      <td>NaN</td>\n      <td>NaN</td>\n      <td>NaN</td>\n      <td>NaN</td>\n      <td>NaN</td>\n      <td>NaN</td>\n      <td>NaN</td>\n      <td>NaN</td>\n      <td>NaN</td>\n    </tr>\n    <tr>\n      <th>3</th>\n      <td>7:e Villagatan_307955489_9011014200800000</td>\n      <td>7:e Villagatan</td>\n      <td>POINT (378291.977 6399668.440)</td>\n      <td>NaN</td>\n      <td>NaN</td>\n      <td>NaN</td>\n      <td>NaN</td>\n      <td>NaN</td>\n      <td>NaN</td>\n      <td>NaN</td>\n      <td>...</td>\n      <td>NaN</td>\n      <td>NaN</td>\n      <td>NaN</td>\n      <td>NaN</td>\n      <td>NaN</td>\n      <td>NaN</td>\n      <td>NaN</td>\n      <td>NaN</td>\n      <td>NaN</td>\n      <td>NaN</td>\n    </tr>\n    <tr>\n      <th>4</th>\n      <td>7:e Villagatan</td>\n      <td>7:e Villagatan_307955489_9011014200100000</td>\n      <td>POINT (378291.977 6399668.440)</td>\n      <td>568.421053</td>\n      <td>568.421053</td>\n      <td>568.421053</td>\n      <td>568.421053</td>\n      <td>568.421053</td>\n      <td>646.915352</td>\n      <td>647.778063</td>\n      <td>...</td>\n      <td>NaN</td>\n      <td>NaN</td>\n      <td>NaN</td>\n      <td>2842.105263</td>\n      <td>1812.676056</td>\n      <td>2571.428571</td>\n      <td>1800.0</td>\n      <td>2401.185771</td>\n      <td>5454.545455</td>\n      <td>NaN</td>\n    </tr>\n  </tbody>\n</table>\n<p>5 rows × 59 columns</p>\n</div>"
     },
     "execution_count": 20,
     "metadata": {},
     "output_type": "execute_result"
    }
   ],
   "source": [
    "# Step 8: Replace 0 with NaN and vice versa in frequency columns\n",
    "freq_columns = [col for col in transfers_same_stop.columns if col.startswith('freq_')]\n",
    "transfers_same_stop[freq_columns] = transfers_same_stop[freq_columns].replace({0: np.nan, pd.NA: 0})\n",
    "\n",
    "#Step 9 (optional): Display the results\n",
    "transfers_same_stop.head()"
   ],
   "metadata": {
    "collapsed": false,
    "pycharm": {
     "name": "#%%\n"
    }
   }
  },
  {
   "cell_type": "code",
   "execution_count": 21,
   "outputs": [],
   "source": [
    "# Step 10 (optional): Set geometry and export to the DB\n",
    "transfers_same_stop = gpd.GeoDataFrame(transfers_same_stop, geometry='geometry', crs='3006')\n",
    "transfers_same_stop.to_postgis('transfers_same_stop_pt_2', engine, schema='pt_2_odirection_mstops_mroutes', if_exists ='replace')"
   ],
   "metadata": {
    "collapsed": false,
    "pycharm": {
     "name": "#%%\n"
    }
   }
  },
  {
   "cell_type": "markdown",
   "source": [
    "#### Different stops"
   ],
   "metadata": {
    "collapsed": false,
    "pycharm": {
     "name": "#%% md\n"
    }
   }
  },
  {
   "cell_type": "code",
   "execution_count": 22,
   "outputs": [
    {
     "data": {
      "text/plain": "                                     node_id       stop_name   place_id  \\\n0  7:e Villagatan_307955489_9011014200100000  7:e Villagatan  307955489   \n1  7:e Villagatan_307955489_9011014200300000  7:e Villagatan  307955489   \n2  7:e Villagatan_307955489_9011014200500000  7:e Villagatan  307955489   \n3  7:e Villagatan_307955489_9011014200800000  7:e Villagatan  307955489   \n4  AGA Vattenfall_307980814_9011014633100000  AGA Vattenfall  307980814   \n\n                         geometry  \n0  POINT (378291.977 6399668.440)  \n1  POINT (378291.977 6399668.440)  \n2  POINT (378291.977 6399668.440)  \n3  POINT (378291.977 6399668.440)  \n4  POINT (313191.955 6442732.480)  ",
      "text/html": "<div>\n<style scoped>\n    .dataframe tbody tr th:only-of-type {\n        vertical-align: middle;\n    }\n\n    .dataframe tbody tr th {\n        vertical-align: top;\n    }\n\n    .dataframe thead th {\n        text-align: right;\n    }\n</style>\n<table border=\"1\" class=\"dataframe\">\n  <thead>\n    <tr style=\"text-align: right;\">\n      <th></th>\n      <th>node_id</th>\n      <th>stop_name</th>\n      <th>place_id</th>\n      <th>geometry</th>\n    </tr>\n  </thead>\n  <tbody>\n    <tr>\n      <th>0</th>\n      <td>7:e Villagatan_307955489_9011014200100000</td>\n      <td>7:e Villagatan</td>\n      <td>307955489</td>\n      <td>POINT (378291.977 6399668.440)</td>\n    </tr>\n    <tr>\n      <th>1</th>\n      <td>7:e Villagatan_307955489_9011014200300000</td>\n      <td>7:e Villagatan</td>\n      <td>307955489</td>\n      <td>POINT (378291.977 6399668.440)</td>\n    </tr>\n    <tr>\n      <th>2</th>\n      <td>7:e Villagatan_307955489_9011014200500000</td>\n      <td>7:e Villagatan</td>\n      <td>307955489</td>\n      <td>POINT (378291.977 6399668.440)</td>\n    </tr>\n    <tr>\n      <th>3</th>\n      <td>7:e Villagatan_307955489_9011014200800000</td>\n      <td>7:e Villagatan</td>\n      <td>307955489</td>\n      <td>POINT (378291.977 6399668.440)</td>\n    </tr>\n    <tr>\n      <th>4</th>\n      <td>AGA Vattenfall_307980814_9011014633100000</td>\n      <td>AGA Vattenfall</td>\n      <td>307980814</td>\n      <td>POINT (313191.955 6442732.480)</td>\n    </tr>\n  </tbody>\n</table>\n</div>"
     },
     "execution_count": 22,
     "metadata": {},
     "output_type": "execute_result"
    }
   ],
   "source": [
    "#Preprocess the Data\n",
    "# Step 1: Create a copy of the nodes table\n",
    "nodes_transfer_diff_stop = nodes_pt_2[['node_id', 'stop_name', 'place_id', 'geometry']].copy()\n",
    "\n",
    "# Step 2 (optional): Display the results\n",
    "nodes_transfer_diff_stop.head()"
   ],
   "metadata": {
    "collapsed": false,
    "pycharm": {
     "name": "#%%\n"
    }
   }
  },
  {
   "cell_type": "code",
   "execution_count": 23,
   "outputs": [
    {
     "data": {
      "text/plain": "                                      source stop_name_source  place_id_1  \\\n0  7:e Villagatan_307955489_9011014200100000   7:e Villagatan   307955489   \n1  7:e Villagatan_307955489_9011014200100000   7:e Villagatan   307955489   \n2  7:e Villagatan_307955489_9011014200100000   7:e Villagatan   307955489   \n3  7:e Villagatan_307955489_9011014200100000   7:e Villagatan   307955489   \n4  7:e Villagatan_307955489_9011014200300000   7:e Villagatan   307955489   \n\n                  geometry_source                                     target  \\\n0  POINT (378291.977 6399668.440)  7:e Villagatan_307955489_9011014200100000   \n1  POINT (378291.977 6399668.440)  7:e Villagatan_307955489_9011014200300000   \n2  POINT (378291.977 6399668.440)  7:e Villagatan_307955489_9011014200500000   \n3  POINT (378291.977 6399668.440)  7:e Villagatan_307955489_9011014200800000   \n4  POINT (378291.977 6399668.440)  7:e Villagatan_307955489_9011014200100000   \n\n  stop_name_target  place_id_2                 geometry_target  \\\n0   7:e Villagatan   307955489  POINT (378291.977 6399668.440)   \n1   7:e Villagatan   307955489  POINT (378291.977 6399668.440)   \n2   7:e Villagatan   307955489  POINT (378291.977 6399668.440)   \n3   7:e Villagatan   307955489  POINT (378291.977 6399668.440)   \n4   7:e Villagatan   307955489  POINT (378291.977 6399668.440)   \n\n                                            geometry  \n0  POLYGON ((378376.568 6399660.109, 378375.344 6...  \n1  POLYGON ((378376.568 6399660.109, 378375.344 6...  \n2  POLYGON ((378376.568 6399660.109, 378375.344 6...  \n3  POLYGON ((378376.568 6399660.109, 378375.344 6...  \n4  POLYGON ((378376.568 6399660.109, 378375.344 6...  ",
      "text/html": "<div>\n<style scoped>\n    .dataframe tbody tr th:only-of-type {\n        vertical-align: middle;\n    }\n\n    .dataframe tbody tr th {\n        vertical-align: top;\n    }\n\n    .dataframe thead th {\n        text-align: right;\n    }\n</style>\n<table border=\"1\" class=\"dataframe\">\n  <thead>\n    <tr style=\"text-align: right;\">\n      <th></th>\n      <th>source</th>\n      <th>stop_name_source</th>\n      <th>place_id_1</th>\n      <th>geometry_source</th>\n      <th>target</th>\n      <th>stop_name_target</th>\n      <th>place_id_2</th>\n      <th>geometry_target</th>\n      <th>geometry</th>\n    </tr>\n  </thead>\n  <tbody>\n    <tr>\n      <th>0</th>\n      <td>7:e Villagatan_307955489_9011014200100000</td>\n      <td>7:e Villagatan</td>\n      <td>307955489</td>\n      <td>POINT (378291.977 6399668.440)</td>\n      <td>7:e Villagatan_307955489_9011014200100000</td>\n      <td>7:e Villagatan</td>\n      <td>307955489</td>\n      <td>POINT (378291.977 6399668.440)</td>\n      <td>POLYGON ((378376.568 6399660.109, 378375.344 6...</td>\n    </tr>\n    <tr>\n      <th>1</th>\n      <td>7:e Villagatan_307955489_9011014200100000</td>\n      <td>7:e Villagatan</td>\n      <td>307955489</td>\n      <td>POINT (378291.977 6399668.440)</td>\n      <td>7:e Villagatan_307955489_9011014200300000</td>\n      <td>7:e Villagatan</td>\n      <td>307955489</td>\n      <td>POINT (378291.977 6399668.440)</td>\n      <td>POLYGON ((378376.568 6399660.109, 378375.344 6...</td>\n    </tr>\n    <tr>\n      <th>2</th>\n      <td>7:e Villagatan_307955489_9011014200100000</td>\n      <td>7:e Villagatan</td>\n      <td>307955489</td>\n      <td>POINT (378291.977 6399668.440)</td>\n      <td>7:e Villagatan_307955489_9011014200500000</td>\n      <td>7:e Villagatan</td>\n      <td>307955489</td>\n      <td>POINT (378291.977 6399668.440)</td>\n      <td>POLYGON ((378376.568 6399660.109, 378375.344 6...</td>\n    </tr>\n    <tr>\n      <th>3</th>\n      <td>7:e Villagatan_307955489_9011014200100000</td>\n      <td>7:e Villagatan</td>\n      <td>307955489</td>\n      <td>POINT (378291.977 6399668.440)</td>\n      <td>7:e Villagatan_307955489_9011014200800000</td>\n      <td>7:e Villagatan</td>\n      <td>307955489</td>\n      <td>POINT (378291.977 6399668.440)</td>\n      <td>POLYGON ((378376.568 6399660.109, 378375.344 6...</td>\n    </tr>\n    <tr>\n      <th>4</th>\n      <td>7:e Villagatan_307955489_9011014200300000</td>\n      <td>7:e Villagatan</td>\n      <td>307955489</td>\n      <td>POINT (378291.977 6399668.440)</td>\n      <td>7:e Villagatan_307955489_9011014200100000</td>\n      <td>7:e Villagatan</td>\n      <td>307955489</td>\n      <td>POINT (378291.977 6399668.440)</td>\n      <td>POLYGON ((378376.568 6399660.109, 378375.344 6...</td>\n    </tr>\n  </tbody>\n</table>\n</div>"
     },
     "execution_count": 23,
     "metadata": {},
     "output_type": "execute_result"
    }
   ],
   "source": [
    "# Create the buffers\n",
    "# Step 3: Create a buffer column and set it as geometry\n",
    "nodes_transfer_diff_stop['buffer'] = nodes_transfer_diff_stop['geometry'].buffer(85)\n",
    "nodes_transfer_diff_stop = nodes_transfer_diff_stop.set_geometry('buffer',\n",
    "                                                                 crs='EPSG:3006')\n",
    "\n",
    "# Step 4: found the intersections among the buffers\n",
    "nodes_transfer_diff_stop = gpd.overlay(nodes_transfer_diff_stop,\n",
    "                                       nodes_transfer_diff_stop,\n",
    "                                       how='intersection').rename(columns={'node_id_1':'source',\n",
    "                                                                           'node_id_2':'target',\n",
    "                                                                           'stop_name_1':'stop_name_source',\n",
    "                                                                           'stop_name_2':'stop_name_target',\n",
    "                                                                           'geometry_1': 'geometry_source',\n",
    "                                                                           'geometry_2': 'geometry_target'}).dropna(subset=['source'])\n",
    "# Step 5 (optional): Display the results\n",
    "nodes_transfer_diff_stop.head()"
   ],
   "metadata": {
    "collapsed": false,
    "pycharm": {
     "name": "#%%\n"
    }
   }
  },
  {
   "cell_type": "code",
   "execution_count": 24,
   "outputs": [
    {
     "data": {
      "text/plain": "                                      source stop_name_source  place_id_1  \\\n0  7:e Villagatan_307955489_9011014200100000   7:e Villagatan   307955489   \n1  7:e Villagatan_307955489_9011014200100000   7:e Villagatan   307955489   \n2  7:e Villagatan_307955489_9011014200100000   7:e Villagatan   307955489   \n3  7:e Villagatan_307955489_9011014200100000   7:e Villagatan   307955489   \n4  7:e Villagatan_307955489_9011014200300000   7:e Villagatan   307955489   \n\n                  geometry_source                                     target  \\\n0  POINT (378291.977 6399668.440)  7:e Villagatan_307955489_9011014200100000   \n1  POINT (378291.977 6399668.440)  7:e Villagatan_307955489_9011014200300000   \n2  POINT (378291.977 6399668.440)  7:e Villagatan_307955489_9011014200500000   \n3  POINT (378291.977 6399668.440)  7:e Villagatan_307955489_9011014200800000   \n4  POINT (378291.977 6399668.440)  7:e Villagatan_307955489_9011014200100000   \n\n  stop_name_target  place_id_2                 geometry_target  \\\n0   7:e Villagatan   307955489  POINT (378291.977 6399668.440)   \n1   7:e Villagatan   307955489  POINT (378291.977 6399668.440)   \n2   7:e Villagatan   307955489  POINT (378291.977 6399668.440)   \n3   7:e Villagatan   307955489  POINT (378291.977 6399668.440)   \n4   7:e Villagatan   307955489  POINT (378291.977 6399668.440)   \n\n                                            geometry  length  time_distance  \n0  LINESTRING (378291.977 6399668.440, 378291.977...     0.0            0.0  \n1  LINESTRING (378291.977 6399668.440, 378291.977...     0.0            0.0  \n2  LINESTRING (378291.977 6399668.440, 378291.977...     0.0            0.0  \n3  LINESTRING (378291.977 6399668.440, 378291.977...     0.0            0.0  \n4  LINESTRING (378291.977 6399668.440, 378291.977...     0.0            0.0  ",
      "text/html": "<div>\n<style scoped>\n    .dataframe tbody tr th:only-of-type {\n        vertical-align: middle;\n    }\n\n    .dataframe tbody tr th {\n        vertical-align: top;\n    }\n\n    .dataframe thead th {\n        text-align: right;\n    }\n</style>\n<table border=\"1\" class=\"dataframe\">\n  <thead>\n    <tr style=\"text-align: right;\">\n      <th></th>\n      <th>source</th>\n      <th>stop_name_source</th>\n      <th>place_id_1</th>\n      <th>geometry_source</th>\n      <th>target</th>\n      <th>stop_name_target</th>\n      <th>place_id_2</th>\n      <th>geometry_target</th>\n      <th>geometry</th>\n      <th>length</th>\n      <th>time_distance</th>\n    </tr>\n  </thead>\n  <tbody>\n    <tr>\n      <th>0</th>\n      <td>7:e Villagatan_307955489_9011014200100000</td>\n      <td>7:e Villagatan</td>\n      <td>307955489</td>\n      <td>POINT (378291.977 6399668.440)</td>\n      <td>7:e Villagatan_307955489_9011014200100000</td>\n      <td>7:e Villagatan</td>\n      <td>307955489</td>\n      <td>POINT (378291.977 6399668.440)</td>\n      <td>LINESTRING (378291.977 6399668.440, 378291.977...</td>\n      <td>0.0</td>\n      <td>0.0</td>\n    </tr>\n    <tr>\n      <th>1</th>\n      <td>7:e Villagatan_307955489_9011014200100000</td>\n      <td>7:e Villagatan</td>\n      <td>307955489</td>\n      <td>POINT (378291.977 6399668.440)</td>\n      <td>7:e Villagatan_307955489_9011014200300000</td>\n      <td>7:e Villagatan</td>\n      <td>307955489</td>\n      <td>POINT (378291.977 6399668.440)</td>\n      <td>LINESTRING (378291.977 6399668.440, 378291.977...</td>\n      <td>0.0</td>\n      <td>0.0</td>\n    </tr>\n    <tr>\n      <th>2</th>\n      <td>7:e Villagatan_307955489_9011014200100000</td>\n      <td>7:e Villagatan</td>\n      <td>307955489</td>\n      <td>POINT (378291.977 6399668.440)</td>\n      <td>7:e Villagatan_307955489_9011014200500000</td>\n      <td>7:e Villagatan</td>\n      <td>307955489</td>\n      <td>POINT (378291.977 6399668.440)</td>\n      <td>LINESTRING (378291.977 6399668.440, 378291.977...</td>\n      <td>0.0</td>\n      <td>0.0</td>\n    </tr>\n    <tr>\n      <th>3</th>\n      <td>7:e Villagatan_307955489_9011014200100000</td>\n      <td>7:e Villagatan</td>\n      <td>307955489</td>\n      <td>POINT (378291.977 6399668.440)</td>\n      <td>7:e Villagatan_307955489_9011014200800000</td>\n      <td>7:e Villagatan</td>\n      <td>307955489</td>\n      <td>POINT (378291.977 6399668.440)</td>\n      <td>LINESTRING (378291.977 6399668.440, 378291.977...</td>\n      <td>0.0</td>\n      <td>0.0</td>\n    </tr>\n    <tr>\n      <th>4</th>\n      <td>7:e Villagatan_307955489_9011014200300000</td>\n      <td>7:e Villagatan</td>\n      <td>307955489</td>\n      <td>POINT (378291.977 6399668.440)</td>\n      <td>7:e Villagatan_307955489_9011014200100000</td>\n      <td>7:e Villagatan</td>\n      <td>307955489</td>\n      <td>POINT (378291.977 6399668.440)</td>\n      <td>LINESTRING (378291.977 6399668.440, 378291.977...</td>\n      <td>0.0</td>\n      <td>0.0</td>\n    </tr>\n  </tbody>\n</table>\n</div>"
     },
     "execution_count": 24,
     "metadata": {},
     "output_type": "execute_result"
    }
   ],
   "source": [
    "#Create the geometry\n",
    "# Step 6: Create linstrings between the intersections\n",
    "nodes_transfer_diff_stop['geometry'] = nodes_transfer_diff_stop.apply(\n",
    "    lambda row: LineString([[row.geometry_source.x,  row.geometry_source.y],\n",
    "                            [row.geometry_target.x,row.geometry_target.y]])\n",
    "    if row.geometry_target is not None else None,\n",
    "    axis=1\n",
    ")\n",
    "\n",
    "# Step 7: Set the length of the linestring\n",
    "nodes_transfer_diff_stop['length'] = nodes_transfer_diff_stop['geometry'].length\n",
    "nodes_transfer_diff_stop['time_distance'] = nodes_transfer_diff_stop['length'] / 1.2\n",
    "\n",
    "# Step 8 (optional): Display the results\n",
    "nodes_transfer_diff_stop.head()"
   ],
   "metadata": {
    "collapsed": false,
    "pycharm": {
     "name": "#%%\n"
    }
   }
  },
  {
   "cell_type": "code",
   "execution_count": 25,
   "outputs": [
    {
     "name": "stderr",
     "output_type": "stream",
     "text": [
      "C:\\Users\\monaliza\\AppData\\Roaming\\Python\\Python39\\site-packages\\geopandas\\geodataframe.py:1525: SettingWithCopyWarning: \n",
      "A value is trying to be set on a copy of a slice from a DataFrame.\n",
      "Try using .loc[row_indexer,col_indexer] = value instead\n",
      "\n",
      "See the caveats in the documentation: https://pandas.pydata.org/pandas-docs/stable/user_guide/indexing.html#returning-a-view-versus-a-copy\n",
      "  super().__setitem__(key, value)\n"
     ]
    },
    {
     "data": {
      "text/plain": "            source          target  \\\n19  AGA Vattenfall  AGA Vattenfall   \n33    Abrahamstorp    Abrahamstorp   \n40  Acklinga kyrka  Acklinga kyrka   \n49        Acklinga        Acklinga   \n66         Agerhus        Jordbron   \n\n                                             geometry      length  \\\n19  LINESTRING (313191.955 6442732.480, 313179.952...   37.481900   \n33  LINESTRING (371017.481 6448504.455, 371000.976...   32.936222   \n40  LINESTRING (434071.965 6451013.922, 434077.950...    6.070173   \n49  LINESTRING (434427.979 6451013.415, 434427.976...    5.512155   \n66  LINESTRING (324621.469 6533086.938, 324604.463...  125.603619   \n\n    time_distance  \n19      31.234917  \n33      27.446852  \n40       5.058478  \n49       4.593462  \n66     104.669683  ",
      "text/html": "<div>\n<style scoped>\n    .dataframe tbody tr th:only-of-type {\n        vertical-align: middle;\n    }\n\n    .dataframe tbody tr th {\n        vertical-align: top;\n    }\n\n    .dataframe thead th {\n        text-align: right;\n    }\n</style>\n<table border=\"1\" class=\"dataframe\">\n  <thead>\n    <tr style=\"text-align: right;\">\n      <th></th>\n      <th>source</th>\n      <th>target</th>\n      <th>geometry</th>\n      <th>length</th>\n      <th>time_distance</th>\n    </tr>\n  </thead>\n  <tbody>\n    <tr>\n      <th>19</th>\n      <td>AGA Vattenfall</td>\n      <td>AGA Vattenfall</td>\n      <td>LINESTRING (313191.955 6442732.480, 313179.952...</td>\n      <td>37.481900</td>\n      <td>31.234917</td>\n    </tr>\n    <tr>\n      <th>33</th>\n      <td>Abrahamstorp</td>\n      <td>Abrahamstorp</td>\n      <td>LINESTRING (371017.481 6448504.455, 371000.976...</td>\n      <td>32.936222</td>\n      <td>27.446852</td>\n    </tr>\n    <tr>\n      <th>40</th>\n      <td>Acklinga kyrka</td>\n      <td>Acklinga kyrka</td>\n      <td>LINESTRING (434071.965 6451013.922, 434077.950...</td>\n      <td>6.070173</td>\n      <td>5.058478</td>\n    </tr>\n    <tr>\n      <th>49</th>\n      <td>Acklinga</td>\n      <td>Acklinga</td>\n      <td>LINESTRING (434427.979 6451013.415, 434427.976...</td>\n      <td>5.512155</td>\n      <td>4.593462</td>\n    </tr>\n    <tr>\n      <th>66</th>\n      <td>Agerhus</td>\n      <td>Jordbron</td>\n      <td>LINESTRING (324621.469 6533086.938, 324604.463...</td>\n      <td>125.603619</td>\n      <td>104.669683</td>\n    </tr>\n  </tbody>\n</table>\n</div>"
     },
     "execution_count": 25,
     "metadata": {},
     "output_type": "execute_result"
    }
   ],
   "source": [
    "#Filter and organize the tables\n",
    "# Step 9: Filter the transfers between different stops\n",
    "transfers_diff_stop = nodes_transfer_diff_stop[nodes_transfer_diff_stop['length'] > 0]\n",
    "\n",
    "# Step 10: Drop the duplicates of symmetric pairs\n",
    "transfers_diff_stop ['symmetric_pairs'] = transfers_diff_stop[['source',\n",
    "                                                               'target']].apply(lambda x: '-'.join(sorted(x)),\n",
    "                                                                                axis=1)\n",
    "transfers_diff_stop = transfers_diff_stop.drop_duplicates(subset = ['symmetric_pairs'])\n",
    "\n",
    "# Step 11: Filter the necessary columns\n",
    "transfers_diff_stop = transfers_diff_stop [['stop_name_source',\n",
    "                                            'stop_name_target',\n",
    "                                            'geometry',\n",
    "                                            'length',\n",
    "                                            'time_distance']].rename(columns={'stop_name_source':'source',\n",
    "                                                                              'stop_name_target':'target'}).drop_duplicates()\n",
    "# Step 12 (optional): Display the results\n",
    "transfers_diff_stop.head()"
   ],
   "metadata": {
    "collapsed": false,
    "pycharm": {
     "name": "#%%\n"
    }
   }
  },
  {
   "cell_type": "code",
   "execution_count": 26,
   "outputs": [],
   "source": [
    "# Step 10 (optional): Set geometry and export to the DB\n",
    "transfers_diff_stop= gpd.GeoDataFrame(transfers_diff_stop, geometry='geometry', crs='3006')\n",
    "transfers_diff_stop.to_postgis('transfers_diff_stop_pt_2', engine, schema='pt_2_odirection_mstops_mroutes', if_exists ='replace')"
   ],
   "metadata": {
    "collapsed": false,
    "pycharm": {
     "name": "#%%\n"
    }
   }
  }
 ],
 "metadata": {
  "kernelspec": {
   "display_name": "Python 3",
   "language": "python",
   "name": "python3"
  },
  "language_info": {
   "codemirror_mode": {
    "name": "ipython",
    "version": 2
   },
   "file_extension": ".py",
   "mimetype": "text/x-python",
   "name": "python",
   "nbconvert_exporter": "python",
   "pygments_lexer": "ipython2",
   "version": "2.7.6"
  }
 },
 "nbformat": 4,
 "nbformat_minor": 0
}