{
 "cells": [
  {
   "cell_type": "markdown",
   "source": [
    "## Baseline_tables"
   ],
   "metadata": {
    "collapsed": false,
    "pycharm": {
     "name": "#%% md\n"
    }
   }
  },
  {
   "cell_type": "markdown",
   "source": [
    "#### Import libraries"
   ],
   "metadata": {
    "collapsed": false,
    "pycharm": {
     "name": "#%% md\n"
    }
   }
  },
  {
   "cell_type": "code",
   "execution_count": 10,
   "outputs": [],
   "source": [
    "# Step 1: Import libraries\n",
    "import geopandas as gpd\n",
    "import pandas as pd\n",
    "import numpy as np\n",
    "import osmnx as ox\n",
    "from sqlalchemy import text\n",
    "from sqlalchemy import create_engine\n",
    "from shapely.geometry import LineString"
   ],
   "metadata": {
    "collapsed": false,
    "pycharm": {
     "name": "#%%\n"
    }
   }
  },
  {
   "cell_type": "markdown",
   "source": [
    "#### Create the connection with the DB (optional)"
   ],
   "metadata": {
    "collapsed": false,
    "pycharm": {
     "name": "#%% md\n"
    }
   }
  },
  {
   "cell_type": "code",
   "execution_count": 11,
   "outputs": [],
   "source": [
    "# Step 1: Create the connection with the DB\n",
    "engine = create_engine(\"postgresql://urbaninfo:@cirrus.ita.chalmers.se/se_tuptp\")\n",
    "conn = engine.connect()"
   ],
   "metadata": {
    "collapsed": false,
    "pycharm": {
     "name": "#%%\n"
    }
   }
  },
  {
   "cell_type": "code",
   "execution_count": 12,
   "outputs": [],
   "source": [
    "# Step 2: Create a new schema when it is necessary\n",
    "# schema = '''CREATE SCHEMA name_schema'''\n",
    "# conn.execute(schema)"
   ],
   "metadata": {
    "collapsed": false,
    "pycharm": {
     "name": "#%%\n"
    }
   }
  },
  {
   "cell_type": "markdown",
   "source": [
    "### Nodes\n",
    "\n",
    "###### To create the nodes table, it is necessary to merge OSM (places and streets) data with the GTFS data (stops)."
   ],
   "metadata": {
    "collapsed": false,
    "pycharm": {
     "name": "#%% md\n"
    }
   }
  },
  {
   "cell_type": "markdown",
   "source": [
    "#### Places baseline table"
   ],
   "metadata": {
    "collapsed": false,
    "pycharm": {
     "name": "#%% md\n"
    }
   }
  },
  {
   "cell_type": "code",
   "execution_count": 13,
   "outputs": [],
   "source": [
    "# Step 1: Extract the geographic information from the OSM database.\n",
    "# In this example, we are utilizing data from Västra Götaland, although these can be modified based on specific requirements.\n",
    "places = ox.geocode_to_gdf(['Askersund, Sweden','Ale, Sweden','Alingsås, Sweden',\n",
    "                            'Åmål, Sweden', 'Bengtsfors, Sweden', 'Bollebygd, Sweden',\n",
    "                            ' Borås, Sweden', 'Dals-Ed, Sweden','Essunga, Sweden',\n",
    "                            'Falköping, Sweden','Färgelanda, Sweden', 'Göteborg, Sweden',\n",
    "                            'Götene, Sweden', 'Grästorp, Sweden', 'Gullspång, Sweden',\n",
    "                            'Härryda, Sweden', 'Herrljunga, Sweden', 'Hjo, Sweden',\n",
    "                            'Karlsborg, Sweden', 'Kungälv, Sweden', 'Lerum, Sweden',\n",
    "                            'Lidköping, Sweden', 'Lilla Edet, Sweden', 'Lysekil, Sweden',\n",
    "                            'Mariestad, Sweden', 'Mark, Sweden', 'Mellerud, Sweden',\n",
    "                            'Mölndal, Sweden', 'Munkedal, Sweden', 'Öckerö, Sweden',\n",
    "                            'Orust, Sweden','Partille, Sweden','Skara, Sweden',\n",
    "                            'Skövde, Sweden','Sotenäs, Sweden','Stenungsund, Sweden',\n",
    "                            'Strömstad, Sweden', 'Svenljunga, Sweden', 'Tanum, Sweden',\n",
    "                            'Tibro, Sweden', 'Tidaholm, Sweden', 'Tjörn, Sweden',\n",
    "                            'Töreboda, Sweden', 'Tranemo, Sweden','Trollhättan, Sweden',\n",
    "                            'Uddevalla, Sweden', 'Ulricehamn, Sweden', 'Vänersborg, Sweden',\n",
    "                            'Vara, Sweden','Vårgårda, Sweden', 'Halland, Sweden',\n",
    "                            'Jonkoping, Sweden', 'Ostergotland, Sweden', 'Orebro, Sweden',\n",
    "                            'Varmland, Sweden', 'Habo, Sweden', 'Hallsberg,Sweden',\n",
    "                            'Lekeberg,Sweden', 'Mullsjö, Sweden', 'Gislaved,Sweden',\n",
    "                            'Karlsborg, Sweden', 'Laxa, Sweden', 'Varberg, Sweden',\n",
    "                            'Nässjö, Sweden', 'Gnösjö, Sweden', 'Falkenberg, Sweden',\n",
    "                            'Vaggeryd, Sweden', 'Värnamo, Sweden', 'Halden, Norway',\n",
    "                            'Kumla, Sweden'\n",
    "                            ])"
   ],
   "metadata": {
    "collapsed": false,
    "pycharm": {
     "name": "#%%\n"
    }
   }
  },
  {
   "cell_type": "code",
   "execution_count": 14,
   "outputs": [
    {
     "data": {
      "text/plain": "                                            geometry  bbox_north  bbox_south  \\\n0  MULTIPOLYGON (((478344.395 6521271.033, 478348...   59.026161   58.646225   \n1  POLYGON ((322429.991 6416232.985, 322432.839 6...   58.118035   57.806263   \n2  POLYGON ((342627.196 6426078.884, 342647.946 6...   58.198126   57.761922   \n3  POLYGON ((350801.238 6543563.250, 351188.303 6...   59.186071   58.747233   \n4  MULTIPOLYGON (((319014.499 6567146.864, 319302...   59.263584   58.749612   \n\n   bbox_east  bbox_west   place_id  osm_type  osm_id        lat        lon  \\\n0  15.347592  14.624906  307897132  relation  935513  58.866667  14.916667   \n1  12.434704  12.007589  307824149  relation  935506  58.000000  12.283333   \n2  12.710975  12.340988  307881169  relation  935547  57.999850  12.500037   \n3  12.899666  12.402254  307803537  relation  935601  58.983838  12.612671   \n4  12.468416  11.830215  307882870  relation  935491  59.032659  12.219105   \n\n      class            type  place_rank  importance   addresstype  \\\n0  boundary  administrative          14    0.450112  municipality   \n1  boundary  administrative          14    0.471351  municipality   \n2  boundary  administrative          14    0.469773  municipality   \n3  boundary  administrative          14    0.462139  municipality   \n4  boundary  administrative          14    0.473632  municipality   \n\n                name                                       display_name  \n0  Askersunds kommun           Askersunds kommun, Örebro County, Sweden  \n1         Ale kommun         Ale kommun, Västra Götaland County, Sweden  \n2    Alingsås kommun    Alingsås kommun, Västra Götaland County, Sweden  \n3       Åmåls kommun       Åmåls kommun, Västra Götaland County, Sweden  \n4  Bengtsfors kommun  Bengtsfors kommun, Västra Götaland County, Sweden  ",
      "text/html": "<div>\n<style scoped>\n    .dataframe tbody tr th:only-of-type {\n        vertical-align: middle;\n    }\n\n    .dataframe tbody tr th {\n        vertical-align: top;\n    }\n\n    .dataframe thead th {\n        text-align: right;\n    }\n</style>\n<table border=\"1\" class=\"dataframe\">\n  <thead>\n    <tr style=\"text-align: right;\">\n      <th></th>\n      <th>geometry</th>\n      <th>bbox_north</th>\n      <th>bbox_south</th>\n      <th>bbox_east</th>\n      <th>bbox_west</th>\n      <th>place_id</th>\n      <th>osm_type</th>\n      <th>osm_id</th>\n      <th>lat</th>\n      <th>lon</th>\n      <th>class</th>\n      <th>type</th>\n      <th>place_rank</th>\n      <th>importance</th>\n      <th>addresstype</th>\n      <th>name</th>\n      <th>display_name</th>\n    </tr>\n  </thead>\n  <tbody>\n    <tr>\n      <th>0</th>\n      <td>MULTIPOLYGON (((478344.395 6521271.033, 478348...</td>\n      <td>59.026161</td>\n      <td>58.646225</td>\n      <td>15.347592</td>\n      <td>14.624906</td>\n      <td>307897132</td>\n      <td>relation</td>\n      <td>935513</td>\n      <td>58.866667</td>\n      <td>14.916667</td>\n      <td>boundary</td>\n      <td>administrative</td>\n      <td>14</td>\n      <td>0.450112</td>\n      <td>municipality</td>\n      <td>Askersunds kommun</td>\n      <td>Askersunds kommun, Örebro County, Sweden</td>\n    </tr>\n    <tr>\n      <th>1</th>\n      <td>POLYGON ((322429.991 6416232.985, 322432.839 6...</td>\n      <td>58.118035</td>\n      <td>57.806263</td>\n      <td>12.434704</td>\n      <td>12.007589</td>\n      <td>307824149</td>\n      <td>relation</td>\n      <td>935506</td>\n      <td>58.000000</td>\n      <td>12.283333</td>\n      <td>boundary</td>\n      <td>administrative</td>\n      <td>14</td>\n      <td>0.471351</td>\n      <td>municipality</td>\n      <td>Ale kommun</td>\n      <td>Ale kommun, Västra Götaland County, Sweden</td>\n    </tr>\n    <tr>\n      <th>2</th>\n      <td>POLYGON ((342627.196 6426078.884, 342647.946 6...</td>\n      <td>58.198126</td>\n      <td>57.761922</td>\n      <td>12.710975</td>\n      <td>12.340988</td>\n      <td>307881169</td>\n      <td>relation</td>\n      <td>935547</td>\n      <td>57.999850</td>\n      <td>12.500037</td>\n      <td>boundary</td>\n      <td>administrative</td>\n      <td>14</td>\n      <td>0.469773</td>\n      <td>municipality</td>\n      <td>Alingsås kommun</td>\n      <td>Alingsås kommun, Västra Götaland County, Sweden</td>\n    </tr>\n    <tr>\n      <th>3</th>\n      <td>POLYGON ((350801.238 6543563.250, 351188.303 6...</td>\n      <td>59.186071</td>\n      <td>58.747233</td>\n      <td>12.899666</td>\n      <td>12.402254</td>\n      <td>307803537</td>\n      <td>relation</td>\n      <td>935601</td>\n      <td>58.983838</td>\n      <td>12.612671</td>\n      <td>boundary</td>\n      <td>administrative</td>\n      <td>14</td>\n      <td>0.462139</td>\n      <td>municipality</td>\n      <td>Åmåls kommun</td>\n      <td>Åmåls kommun, Västra Götaland County, Sweden</td>\n    </tr>\n    <tr>\n      <th>4</th>\n      <td>MULTIPOLYGON (((319014.499 6567146.864, 319302...</td>\n      <td>59.263584</td>\n      <td>58.749612</td>\n      <td>12.468416</td>\n      <td>11.830215</td>\n      <td>307882870</td>\n      <td>relation</td>\n      <td>935491</td>\n      <td>59.032659</td>\n      <td>12.219105</td>\n      <td>boundary</td>\n      <td>administrative</td>\n      <td>14</td>\n      <td>0.473632</td>\n      <td>municipality</td>\n      <td>Bengtsfors kommun</td>\n      <td>Bengtsfors kommun, Västra Götaland County, Sweden</td>\n    </tr>\n  </tbody>\n</table>\n</div>"
     },
     "execution_count": 14,
     "metadata": {},
     "output_type": "execute_result"
    }
   ],
   "source": [
    "# Step 2: Reproject the places GeoDataFrame according to specific requirements.\n",
    "places = ox.projection.project_gdf(to_crs='epsg:3006', gdf= places)\n",
    "\n",
    "# Step 3 (optional): Display the places GeoDataFrame\n",
    "places.head()"
   ],
   "metadata": {
    "collapsed": false,
    "pycharm": {
     "name": "#%%\n"
    }
   }
  },
  {
   "cell_type": "code",
   "execution_count": 15,
   "outputs": [],
   "source": [
    "# Step 4 (optional): Export the file to the DB\n",
    "places.to_postgis('places', engine, schema='pt_0_baseline', if_exists='replace')"
   ],
   "metadata": {
    "collapsed": false,
    "pycharm": {
     "name": "#%%\n"
    }
   }
  },
  {
   "cell_type": "markdown",
   "source": [
    "#### Streets baseline table"
   ],
   "metadata": {
    "collapsed": false,
    "pycharm": {
     "name": "#%% md\n"
    }
   }
  },
  {
   "cell_type": "code",
   "execution_count": 16,
   "outputs": [],
   "source": [
    "# Step 1: Create the street baseline table\n",
    "# In this example, we are importing an extracted and cleaned OSM street network model from our database. To see an example of how to do this, please refer to the specific folder.\n",
    "# This street network model can also originate from other sources, provided the streets have unique IDs.\n",
    "street_network_query = text('SELECT * FROM p2_gm_opensourcedata.p2_gm_allnetwork')\n",
    "street_network = gpd.read_postgis(street_network_query, engine, geom_col='geometry')"
   ],
   "metadata": {
    "collapsed": false,
    "pycharm": {
     "name": "#%%\n"
    }
   }
  },
  {
   "cell_type": "markdown",
   "source": [
    "#### Create the nodes model"
   ],
   "metadata": {
    "collapsed": false,
    "pycharm": {
     "name": "#%% md\n"
    }
   }
  },
  {
   "cell_type": "code",
   "execution_count": 37,
   "outputs": [],
   "source": [
    "# Step 1: Import the necessary files from the GTFS dataset (stops.txt)\n",
    "# In this example, we are utilizing data from Västra Götaland, although these can be modified based on specific requirements.\n",
    "#stops\n",
    "raw_stops_gtfs = text('''SELECT * FROM p1_gtfs.regional_stops''')\n",
    "stops_gtfs = gpd.read_postgis(raw_stops_gtfs, engine, geom_col='geometry')"
   ],
   "metadata": {
    "collapsed": false,
    "pycharm": {
     "name": "#%%\n"
    }
   }
  },
  {
   "cell_type": "code",
   "execution_count": 44,
   "outputs": [],
   "source": [
    "# Preprocess the data\n",
    "# Step 3: Create the stops_gtfs GeoDataFrame from the oiginal file\n",
    "stops_geodataframe = gpd.GeoDataFrame(stops_gtfs, geometry=gpd.points_from_xy(stops_gtfs.stop_lon,\n",
    "                                                                              stops_gtfs.stop_lat), crs='epsg:4326')\n",
    "\n",
    "# Step 4: Reproject the GeoDataFrame according to specific requirements.\n",
    "stops_geodataframe = ox.projection.project_gdf(stops_geodataframe, to_crs='epsg:3006')"
   ],
   "metadata": {
    "collapsed": false,
    "pycharm": {
     "name": "#%%\n"
    }
   }
  },
  {
   "cell_type": "code",
   "execution_count": 46,
   "outputs": [
    {
     "data": {
      "text/plain": "               stop_id           stop_name   place_id  \\\n9236  9022014001004001  Amhult Resecentrum  307987564   \n9237  9022014001004002  Amhult Resecentrum  307987564   \n9238  9022014001004003  Amhult Resecentrum  307987564   \n9239  9022014001004004  Amhult Resecentrum  307987564   \n9240  9022014001004005  Amhult Resecentrum  307987564   \n\n                            geometry  \n9236  POINT (308137.973 6400982.960)  \n9237  POINT (308174.952 6400959.904)  \n9238  POINT (308179.982 6400938.925)  \n9239  POINT (308152.980 6400960.949)  \n9240  POINT (308122.947 6400966.949)  ",
      "text/html": "<div>\n<style scoped>\n    .dataframe tbody tr th:only-of-type {\n        vertical-align: middle;\n    }\n\n    .dataframe tbody tr th {\n        vertical-align: top;\n    }\n\n    .dataframe thead th {\n        text-align: right;\n    }\n</style>\n<table border=\"1\" class=\"dataframe\">\n  <thead>\n    <tr style=\"text-align: right;\">\n      <th></th>\n      <th>stop_id</th>\n      <th>stop_name</th>\n      <th>place_id</th>\n      <th>geometry</th>\n    </tr>\n  </thead>\n  <tbody>\n    <tr>\n      <th>9236</th>\n      <td>9022014001004001</td>\n      <td>Amhult Resecentrum</td>\n      <td>307987564</td>\n      <td>POINT (308137.973 6400982.960)</td>\n    </tr>\n    <tr>\n      <th>9237</th>\n      <td>9022014001004002</td>\n      <td>Amhult Resecentrum</td>\n      <td>307987564</td>\n      <td>POINT (308174.952 6400959.904)</td>\n    </tr>\n    <tr>\n      <th>9238</th>\n      <td>9022014001004003</td>\n      <td>Amhult Resecentrum</td>\n      <td>307987564</td>\n      <td>POINT (308179.982 6400938.925)</td>\n    </tr>\n    <tr>\n      <th>9239</th>\n      <td>9022014001004004</td>\n      <td>Amhult Resecentrum</td>\n      <td>307987564</td>\n      <td>POINT (308152.980 6400960.949)</td>\n    </tr>\n    <tr>\n      <th>9240</th>\n      <td>9022014001004005</td>\n      <td>Amhult Resecentrum</td>\n      <td>307987564</td>\n      <td>POINT (308122.947 6400966.949)</td>\n    </tr>\n  </tbody>\n</table>\n</div>"
     },
     "execution_count": 46,
     "metadata": {},
     "output_type": "execute_result"
    }
   ],
   "source": [
    "# Join with the places table\n",
    "# Step 5: Create the spatial join between the 'stops_geodataframe' and 'places' GeoDataFrames\n",
    "nodes_sjoin_l1 = stops_geodataframe.sjoin (places, how=\"left\")\n",
    "\n",
    "# Step 6: Set the geometry of the 'stop_place_id' GeoDataFrame\n",
    "nodes_sjoin_l1 = gpd.GeoDataFrame(nodes_sjoin_l1, geometry='geometry', crs='EPSG:3006')\n",
    "\n",
    "# Step 7: Clean the data by removing 'fake' parent stations and dropping duplicate stop_IDs\n",
    "nodes_sjoin_l1 = nodes_sjoin_l1 [nodes_sjoin_l1['parent_station'].notnull()].drop_duplicates(subset=['stop_id'])\n",
    "\n",
    "# Step 8: Clean the data\n",
    "nodes_sjoin_l1 = nodes_sjoin_l1 [['stop_id', 'stop_name', 'place_id', 'geometry']]\n",
    "\n",
    "# Step 9 (optional): Display the 'nodes_baseline' GeoDataFrame\n",
    "nodes_sjoin_l1.head()"
   ],
   "metadata": {
    "collapsed": false,
    "pycharm": {
     "name": "#%%\n"
    }
   }
  },
  {
   "cell_type": "code",
   "execution_count": 47,
   "outputs": [
    {
     "data": {
      "text/plain": "               stop_id           stop_name   place_id        osmid  \\\n9236  9022014001004001  Amhult Resecentrum  307987564  290390139.0   \n9237  9022014001004002  Amhult Resecentrum  307987564  846315401.0   \n9238  9022014001004003  Amhult Resecentrum  307987564  846315401.0   \n9239  9022014001004004  Amhult Resecentrum  307987564  846315401.0   \n9240  9022014001004005  Amhult Resecentrum  307987564  868843476.0   \n\n                            geometry  \n9236  POINT (308137.973 6400982.960)  \n9237  POINT (308174.952 6400959.904)  \n9238  POINT (308179.982 6400938.925)  \n9239  POINT (308152.980 6400960.949)  \n9240  POINT (308122.947 6400966.949)  ",
      "text/html": "<div>\n<style scoped>\n    .dataframe tbody tr th:only-of-type {\n        vertical-align: middle;\n    }\n\n    .dataframe tbody tr th {\n        vertical-align: top;\n    }\n\n    .dataframe thead th {\n        text-align: right;\n    }\n</style>\n<table border=\"1\" class=\"dataframe\">\n  <thead>\n    <tr style=\"text-align: right;\">\n      <th></th>\n      <th>stop_id</th>\n      <th>stop_name</th>\n      <th>place_id</th>\n      <th>osmid</th>\n      <th>geometry</th>\n    </tr>\n  </thead>\n  <tbody>\n    <tr>\n      <th>9236</th>\n      <td>9022014001004001</td>\n      <td>Amhult Resecentrum</td>\n      <td>307987564</td>\n      <td>290390139.0</td>\n      <td>POINT (308137.973 6400982.960)</td>\n    </tr>\n    <tr>\n      <th>9237</th>\n      <td>9022014001004002</td>\n      <td>Amhult Resecentrum</td>\n      <td>307987564</td>\n      <td>846315401.0</td>\n      <td>POINT (308174.952 6400959.904)</td>\n    </tr>\n    <tr>\n      <th>9238</th>\n      <td>9022014001004003</td>\n      <td>Amhult Resecentrum</td>\n      <td>307987564</td>\n      <td>846315401.0</td>\n      <td>POINT (308179.982 6400938.925)</td>\n    </tr>\n    <tr>\n      <th>9239</th>\n      <td>9022014001004004</td>\n      <td>Amhult Resecentrum</td>\n      <td>307987564</td>\n      <td>846315401.0</td>\n      <td>POINT (308152.980 6400960.949)</td>\n    </tr>\n    <tr>\n      <th>9240</th>\n      <td>9022014001004005</td>\n      <td>Amhult Resecentrum</td>\n      <td>307987564</td>\n      <td>868843476.0</td>\n      <td>POINT (308122.947 6400966.949)</td>\n    </tr>\n  </tbody>\n</table>\n</div>"
     },
     "execution_count": 47,
     "metadata": {},
     "output_type": "execute_result"
    }
   ],
   "source": [
    "# Join with the street network\n",
    "# Step 10: Perform a spatial join between the 'sjoin_stops_places' and the 'street_network' GeoDataFrames\n",
    "nodes_sjoin_l2 = nodes_sjoin_l1.sjoin_nearest(street_network, how='left',\n",
    "                                              max_distance=500).drop_duplicates(subset=['stop_id','osmid'])\n",
    "\n",
    "# Step 11: Clean the data\n",
    "nodes_pt_0 = nodes_sjoin_l2 [['stop_id', 'stop_name', 'place_id', 'osmid', 'geometry']]\n",
    "\n",
    "#Step 12 (optional): Display the 'nodes_baseline' GeoDataFrame\n",
    "nodes_pt_0.head()"
   ],
   "metadata": {
    "collapsed": false,
    "pycharm": {
     "name": "#%%\n"
    }
   }
  },
  {
   "cell_type": "code",
   "execution_count": 42,
   "outputs": [],
   "source": [
    "#Step 13 (optional): Export the 'nodes_baseline' GeoDataFrame to the DB\n",
    "nodes_pt_0.to_postgis('nodes_pt_0', engine, schema=\"pt_0_baseline\", if_exists ='replace')"
   ],
   "metadata": {
    "collapsed": false,
    "pycharm": {
     "name": "#%%\n"
    }
   }
  },
  {
   "cell_type": "markdown",
   "source": [
    "### Links"
   ],
   "metadata": {
    "collapsed": false,
    "pycharm": {
     "name": "#%% md\n"
    }
   }
  },
  {
   "cell_type": "code",
   "execution_count": 72,
   "outputs": [],
   "source": [
    "# Step 1: Import the necessary files from the GTFS dataset\n",
    "# In this example, we are utilizing data from Västra Götaland, although these can be modified based on specific requirements.\n",
    "# routes\n",
    "raw_routes_gtfs = text('''SELECT * FROM p1_gtfs.regional_routes''')\n",
    "routes_gtfs = pd.read_sql(raw_routes_gtfs, engine)\n",
    "# trips\n",
    "raw_trips_gtfs = text('''SELECT * FROM p1_gtfs.regional_trips''')\n",
    "trips_gtfs = pd.read_sql(raw_trips_gtfs, engine)\n",
    "# stop_times\n",
    "raw_stop_times_gtfs = text('''SELECT * FROM p1_gtfs.regional_stoptimes''')\n",
    "stop_times_gtfs = pd.read_sql(raw_stop_times_gtfs, engine)"
   ],
   "metadata": {
    "collapsed": false,
    "pycharm": {
     "name": "#%%\n"
    }
   }
  },
  {
   "cell_type": "code",
   "execution_count": 73,
   "outputs": [
    {
     "data": {
      "text/plain": "           route_id route_short_name  route_type  service_id  \\\n0  9011092020200000             FLYG         700         360   \n1  9011092020200000             FLYG         700         360   \n2  9011092020200000             FLYG         700         360   \n3  9011092020200000             FLYG         700         360   \n4  9011092020200000             FLYG         700         360   \n\n              trip_id  direction_id    arrival_time    stop_id_source  \\\n0  141010001168286532             1 0 days 04:20:00  9022014004940004   \n1  141010001168286532             1 0 days 04:24:00  9022014004090004   \n2  141010001168286532             1 0 days 04:27:00  9022014001420002   \n3  141010001168286532             1 0 days 04:30:00  9022014003980014   \n4  141010001168286532             1 0 days 04:51:43  9022014018328002   \n\n   stop_sequence         mode time_period         stop_name_source  \\\n0              1  bus_service  night_dawn  Nils Ericson Terminalen   \n1              2  bus_service  night_dawn        Kungsportsplatsen   \n2              3  bus_service  night_dawn            Berzeliigatan   \n3              4  bus_service  night_dawn                Korsvägen   \n4              5  bus_service  night_dawn              Hangarvägen   \n\n   place_id_source                        geometry  \n0        307987564  POINT (319600.955 6400417.896)  \n1        307987564  POINT (319442.995 6399774.900)  \n2        307987564  POINT (320123.952 6399161.990)  \n3        307987564  POINT (320438.954 6398935.924)  \n4        307883122  POINT (339142.962 6395582.971)  ",
      "text/html": "<div>\n<style scoped>\n    .dataframe tbody tr th:only-of-type {\n        vertical-align: middle;\n    }\n\n    .dataframe tbody tr th {\n        vertical-align: top;\n    }\n\n    .dataframe thead th {\n        text-align: right;\n    }\n</style>\n<table border=\"1\" class=\"dataframe\">\n  <thead>\n    <tr style=\"text-align: right;\">\n      <th></th>\n      <th>route_id</th>\n      <th>route_short_name</th>\n      <th>route_type</th>\n      <th>service_id</th>\n      <th>trip_id</th>\n      <th>direction_id</th>\n      <th>arrival_time</th>\n      <th>stop_id_source</th>\n      <th>stop_sequence</th>\n      <th>mode</th>\n      <th>time_period</th>\n      <th>stop_name_source</th>\n      <th>place_id_source</th>\n      <th>geometry</th>\n    </tr>\n  </thead>\n  <tbody>\n    <tr>\n      <th>0</th>\n      <td>9011092020200000</td>\n      <td>FLYG</td>\n      <td>700</td>\n      <td>360</td>\n      <td>141010001168286532</td>\n      <td>1</td>\n      <td>0 days 04:20:00</td>\n      <td>9022014004940004</td>\n      <td>1</td>\n      <td>bus_service</td>\n      <td>night_dawn</td>\n      <td>Nils Ericson Terminalen</td>\n      <td>307987564</td>\n      <td>POINT (319600.955 6400417.896)</td>\n    </tr>\n    <tr>\n      <th>1</th>\n      <td>9011092020200000</td>\n      <td>FLYG</td>\n      <td>700</td>\n      <td>360</td>\n      <td>141010001168286532</td>\n      <td>1</td>\n      <td>0 days 04:24:00</td>\n      <td>9022014004090004</td>\n      <td>2</td>\n      <td>bus_service</td>\n      <td>night_dawn</td>\n      <td>Kungsportsplatsen</td>\n      <td>307987564</td>\n      <td>POINT (319442.995 6399774.900)</td>\n    </tr>\n    <tr>\n      <th>2</th>\n      <td>9011092020200000</td>\n      <td>FLYG</td>\n      <td>700</td>\n      <td>360</td>\n      <td>141010001168286532</td>\n      <td>1</td>\n      <td>0 days 04:27:00</td>\n      <td>9022014001420002</td>\n      <td>3</td>\n      <td>bus_service</td>\n      <td>night_dawn</td>\n      <td>Berzeliigatan</td>\n      <td>307987564</td>\n      <td>POINT (320123.952 6399161.990)</td>\n    </tr>\n    <tr>\n      <th>3</th>\n      <td>9011092020200000</td>\n      <td>FLYG</td>\n      <td>700</td>\n      <td>360</td>\n      <td>141010001168286532</td>\n      <td>1</td>\n      <td>0 days 04:30:00</td>\n      <td>9022014003980014</td>\n      <td>4</td>\n      <td>bus_service</td>\n      <td>night_dawn</td>\n      <td>Korsvägen</td>\n      <td>307987564</td>\n      <td>POINT (320438.954 6398935.924)</td>\n    </tr>\n    <tr>\n      <th>4</th>\n      <td>9011092020200000</td>\n      <td>FLYG</td>\n      <td>700</td>\n      <td>360</td>\n      <td>141010001168286532</td>\n      <td>1</td>\n      <td>0 days 04:51:43</td>\n      <td>9022014018328002</td>\n      <td>5</td>\n      <td>bus_service</td>\n      <td>night_dawn</td>\n      <td>Hangarvägen</td>\n      <td>307883122</td>\n      <td>POINT (339142.962 6395582.971)</td>\n    </tr>\n  </tbody>\n</table>\n</div>"
     },
     "execution_count": 73,
     "metadata": {},
     "output_type": "execute_result"
    }
   ],
   "source": [
    "# Preprocess the data\n",
    "# Step 2: Merge the gtfs tables\n",
    "gtfs_merge_l1 = pd.merge(routes_gtfs [['route_id', 'route_short_name', 'route_type']],\n",
    "                              trips_gtfs[['route_id', 'service_id', 'trip_id', 'direction_id']], on='route_id', how='inner')\n",
    "gtfs_merge_l2 = pd.merge(gtfs_merge_l1, stop_times_gtfs[['trip_id', 'arrival_time', 'stop_id', 'stop_sequence']],\n",
    "                                        on='trip_id', how='inner')\n",
    "\n",
    "# Step 3: Fix DataFrame column types\n",
    "gtfs_merge_l2['route_id'] = gtfs_merge_l2['route_id'].astype(str)\n",
    "gtfs_merge_l2['trip_id'] = gtfs_merge_l2['trip_id'].astype(str)\n",
    "gtfs_merge_l2['arrival_time'] = pd.to_timedelta(gtfs_merge_l2['arrival_time'])\n",
    "gtfs_merge_l2['stop_id'] = gtfs_merge_l2['stop_id'].astype(str)\n",
    "\n",
    "# Step 4: Set names for route types\n",
    "conditions_routetype = [(gtfs_merge_l2['route_type'] == 100), (gtfs_merge_l2['route_type'] == 700),\n",
    "                        (gtfs_merge_l2['route_type'] == 900), (gtfs_merge_l2['route_type'] == 1000),\n",
    "                        (gtfs_merge_l2['route_type'] == 1501)]\n",
    "values_routetype = ['railway_service', 'bus_service', 'tram_service', 'water_transport_service', 'communal_taxi_service']\n",
    "gtfs_merge_l2 ['mode'] = np.select(conditions_routetype, values_routetype)\n",
    "\n",
    "# Step 5: Set time periods based on the arrival_time\n",
    "conditions_timeperiod = [(gtfs_merge_l2 ['arrival_time'] >'0 days 00:00:00') & (gtfs_merge_l2['arrival_time'] < '0 days 06:00:00'),\n",
    "                         (gtfs_merge_l2['arrival_time'] >= '0 days 06:00:00') & (gtfs_merge_l2 ['arrival_time'] <= '0 days 09:00:00'),\n",
    "                         (gtfs_merge_l2 ['arrival_time'] >= '0 days 09:00:00') & (gtfs_merge_l2 ['arrival_time'] <= '0 days 12:00:00'),\n",
    "                         (gtfs_merge_l2 ['arrival_time'] >= '0 days 12:00:00') & (gtfs_merge_l2 ['arrival_time'] <= '0 days 15:00:00'),\n",
    "                         (gtfs_merge_l2 ['arrival_time'] >= '0 days 15:00:00') & (gtfs_merge_l2 ['arrival_time'] <= '0 days 18:00:00'),\n",
    "                         (gtfs_merge_l2 ['arrival_time'] >= '0 days 18:00:00') & (gtfs_merge_l2 ['arrival_time'] <= '0 days 21:00:00'),\n",
    "                         (gtfs_merge_l2 ['arrival_time'] >= '0 days 21:00:00') & (gtfs_merge_l2 ['arrival_time'] <= '0 days 24:00:00'),\n",
    "                         (gtfs_merge_l2 ['arrival_time'] >= '0 days 24:00:00') & (gtfs_merge_l2 ['arrival_time'] > '1 days 00:00:00')]\n",
    "values_timeperiod = ['night_dawn', 'peak_morning', 'morning', 'afternoon', 'peak_evening', 'evening', 'night','night_dawn']\n",
    "gtfs_merge_l2 ['time_period'] = np.select(conditions_timeperiod, values_timeperiod)\n",
    "\n",
    "# Step 6: Merge the DataFrame with the 'nodes_baseline' GeoDataFrame\n",
    "links_pt_0_l1 = pd.merge(gtfs_merge_l2, nodes_pt_0[['stop_id', 'stop_name', 'place_id', 'geometry']], on='stop_id', how='inner')\n",
    "\n",
    "# Step 7: Change the columns name\n",
    "links_pt_0_l1.rename(columns={'stop_id': 'stop_id_source', 'stop_name': 'stop_name_source', 'place_id':'place_id_source' }, inplace = True)\n",
    "\n",
    "# Step 8 (optional): display the 'links_baseline_l1' GeoDataFrame\n",
    "links_pt_0_l1.head()"
   ],
   "metadata": {
    "collapsed": false,
    "pycharm": {
     "name": "#%%\n"
    }
   }
  },
  {
   "cell_type": "code",
   "execution_count": 75,
   "outputs": [
    {
     "name": "stderr",
     "output_type": "stream",
     "text": [
      "C:\\Users\\monaliza\\AppData\\Local\\Temp\\ipykernel_9084\\174838690.py:24: DeprecationWarning: DataFrameGroupBy.apply operated on the grouping columns. This behavior is deprecated, and in a future version of pandas the grouping columns will be excluded from the operation. Either pass `include_groups=False` to exclude the groupings or explicitly select the grouping columns after groupby to silence this warning.\n",
      "  links_pt_0_l1_copy.groupby('trip_id')\n"
     ]
    },
    {
     "data": {
      "text/plain": "           route_id route_short_name  route_type  service_id  \\\n0  9011014505000000               50         700           5   \n1  9011014505000000               50         700           5   \n2  9011014505000000               50         700           5   \n3  9011014505000000               50         700           5   \n4  9011014505000000               50         700           5   \n\n              trip_id  direction_id    arrival_time    stop_id_source  \\\n0  141010001054458148             0 0 days 05:35:00  9022014001760012   \n1  141010001054458148             0 0 days 05:36:37  9022014006242004   \n2  141010001054458148             0 0 days 05:39:40  9022014003645002   \n3  141010001054458148             0 0 days 05:48:00  9022014001410002   \n4  141010001054458148             0 0 days 05:50:06  9022014001370002   \n\n   stop_sequence         mode time_period    stop_name_source  \\\n0              1  bus_service  night_dawn        Brunnsparken   \n1              2  bus_service  night_dawn           Stenpiren   \n2              3  bus_service  night_dawn           Järnvågen   \n3              4  bus_service  night_dawn         Beryllgatan   \n4              5  bus_service  night_dawn  Bergkristallsgatan   \n\n   place_id_source                                           geometry  \\\n0        307987564  LINESTRING (319300.9681938812 6400118.94329882...   \n1        307987564  LINESTRING (318713.9534298249 6400020.97166797...   \n2        307987564  LINESTRING (318203.9588559234 6399558.95525878...   \n3        307987564  LINESTRING (314286.9680952884 6395003.92383626...   \n4        307987564  LINESTRING (314841.95194952097 6394771.9803292...   \n\n         new_time  time_distance    stop_id_target    stop_name_target  \\\n0 0 days 05:36:37           97.0  9022014006242004           Stenpiren   \n1 0 days 05:39:40          183.0  9022014003645002           Järnvågen   \n2 0 days 05:48:00          500.0  9022014001410002         Beryllgatan   \n3 0 days 05:50:06          126.0  9022014001370002  Bergkristallsgatan   \n4 0 days 05:51:19           73.0  9022014006070002         Smyckegatan   \n\n   place_id_target  \n0        307987564  \n1        307987564  \n2        307987564  \n3        307987564  \n4        307987564  ",
      "text/html": "<div>\n<style scoped>\n    .dataframe tbody tr th:only-of-type {\n        vertical-align: middle;\n    }\n\n    .dataframe tbody tr th {\n        vertical-align: top;\n    }\n\n    .dataframe thead th {\n        text-align: right;\n    }\n</style>\n<table border=\"1\" class=\"dataframe\">\n  <thead>\n    <tr style=\"text-align: right;\">\n      <th></th>\n      <th>route_id</th>\n      <th>route_short_name</th>\n      <th>route_type</th>\n      <th>service_id</th>\n      <th>trip_id</th>\n      <th>direction_id</th>\n      <th>arrival_time</th>\n      <th>stop_id_source</th>\n      <th>stop_sequence</th>\n      <th>mode</th>\n      <th>time_period</th>\n      <th>stop_name_source</th>\n      <th>place_id_source</th>\n      <th>geometry</th>\n      <th>new_time</th>\n      <th>time_distance</th>\n      <th>stop_id_target</th>\n      <th>stop_name_target</th>\n      <th>place_id_target</th>\n    </tr>\n  </thead>\n  <tbody>\n    <tr>\n      <th>0</th>\n      <td>9011014505000000</td>\n      <td>50</td>\n      <td>700</td>\n      <td>5</td>\n      <td>141010001054458148</td>\n      <td>0</td>\n      <td>0 days 05:35:00</td>\n      <td>9022014001760012</td>\n      <td>1</td>\n      <td>bus_service</td>\n      <td>night_dawn</td>\n      <td>Brunnsparken</td>\n      <td>307987564</td>\n      <td>LINESTRING (319300.9681938812 6400118.94329882...</td>\n      <td>0 days 05:36:37</td>\n      <td>97.0</td>\n      <td>9022014006242004</td>\n      <td>Stenpiren</td>\n      <td>307987564</td>\n    </tr>\n    <tr>\n      <th>1</th>\n      <td>9011014505000000</td>\n      <td>50</td>\n      <td>700</td>\n      <td>5</td>\n      <td>141010001054458148</td>\n      <td>0</td>\n      <td>0 days 05:36:37</td>\n      <td>9022014006242004</td>\n      <td>2</td>\n      <td>bus_service</td>\n      <td>night_dawn</td>\n      <td>Stenpiren</td>\n      <td>307987564</td>\n      <td>LINESTRING (318713.9534298249 6400020.97166797...</td>\n      <td>0 days 05:39:40</td>\n      <td>183.0</td>\n      <td>9022014003645002</td>\n      <td>Järnvågen</td>\n      <td>307987564</td>\n    </tr>\n    <tr>\n      <th>2</th>\n      <td>9011014505000000</td>\n      <td>50</td>\n      <td>700</td>\n      <td>5</td>\n      <td>141010001054458148</td>\n      <td>0</td>\n      <td>0 days 05:39:40</td>\n      <td>9022014003645002</td>\n      <td>3</td>\n      <td>bus_service</td>\n      <td>night_dawn</td>\n      <td>Järnvågen</td>\n      <td>307987564</td>\n      <td>LINESTRING (318203.9588559234 6399558.95525878...</td>\n      <td>0 days 05:48:00</td>\n      <td>500.0</td>\n      <td>9022014001410002</td>\n      <td>Beryllgatan</td>\n      <td>307987564</td>\n    </tr>\n    <tr>\n      <th>3</th>\n      <td>9011014505000000</td>\n      <td>50</td>\n      <td>700</td>\n      <td>5</td>\n      <td>141010001054458148</td>\n      <td>0</td>\n      <td>0 days 05:48:00</td>\n      <td>9022014001410002</td>\n      <td>4</td>\n      <td>bus_service</td>\n      <td>night_dawn</td>\n      <td>Beryllgatan</td>\n      <td>307987564</td>\n      <td>LINESTRING (314286.9680952884 6395003.92383626...</td>\n      <td>0 days 05:50:06</td>\n      <td>126.0</td>\n      <td>9022014001370002</td>\n      <td>Bergkristallsgatan</td>\n      <td>307987564</td>\n    </tr>\n    <tr>\n      <th>4</th>\n      <td>9011014505000000</td>\n      <td>50</td>\n      <td>700</td>\n      <td>5</td>\n      <td>141010001054458148</td>\n      <td>0</td>\n      <td>0 days 05:50:06</td>\n      <td>9022014001370002</td>\n      <td>5</td>\n      <td>bus_service</td>\n      <td>night_dawn</td>\n      <td>Bergkristallsgatan</td>\n      <td>307987564</td>\n      <td>LINESTRING (314841.95194952097 6394771.9803292...</td>\n      <td>0 days 05:51:19</td>\n      <td>73.0</td>\n      <td>9022014006070002</td>\n      <td>Smyckegatan</td>\n      <td>307987564</td>\n    </tr>\n  </tbody>\n</table>\n</div>"
     },
     "execution_count": 75,
     "metadata": {},
     "output_type": "execute_result"
    }
   ],
   "source": [
    "# Create the links between the stops\n",
    "# Step 9: Create a copy of links_baseline_l1 to not use the original table\n",
    "links_pt_0_l1_copy = links_pt_0_l1.copy()\n",
    "\n",
    "# Step 10: Define a function to process each group within the groupby operation\n",
    "def process_group(group):\n",
    "    sorted_group = group.sort_values('stop_sequence')\n",
    "    new_time = sorted_group['arrival_time'].shift(-1)\n",
    "\n",
    "    return sorted_group.assign(\n",
    "        new_time=pd.to_timedelta(new_time),\n",
    "        time_distance=(new_time - sorted_group['arrival_time']).dt.total_seconds().astype(float),\n",
    "        stop_id_target=sorted_group['stop_id_source'].shift(-1).astype(str),\n",
    "        stop_name_target=sorted_group['stop_name_source'].shift(-1).astype(str),\n",
    "        place_id_target=sorted_group['place_id_source'].shift(-1).fillna(0).astype(int),\n",
    "        geometry=[\n",
    "            LineString([[a.coords[0][0], a.coords[0][1]], [b.coords[0][0], b.coords[0][1]]]) if b else None\n",
    "            for a, b in zip(sorted_group['geometry'], sorted_group['geometry'].shift(-1))\n",
    "        ]\n",
    "    )\n",
    "\n",
    "# Step 11: Apply the processing function to each group using groupby\n",
    "links_pt_0_l1 = (\n",
    "    links_pt_0_l1_copy.groupby('trip_id')\n",
    "    .apply(process_group)\n",
    "    .reset_index(drop=True)\n",
    ")\n",
    "\n",
    "# Step 12 (optional): Display the 'links_baseline_l1' DataFrame (and check the links)\n",
    "links_pt_0_l1.head()"
   ],
   "metadata": {
    "collapsed": false,
    "pycharm": {
     "name": "#%%\n"
    }
   }
  },
  {
   "cell_type": "code",
   "execution_count": 77,
   "outputs": [
    {
     "data": {
      "text/plain": "             source            target route_short_name         mode  \\\n0  9022014001760012  9022014006242004               50  bus_service   \n1  9022014006242004  9022014003645002               50  bus_service   \n2  9022014003645002  9022014001410002               50  bus_service   \n3  9022014001410002  9022014001370002               50  bus_service   \n4  9022014001370002  9022014006070002               50  bus_service   \n\n   time_distance time_period          route_id  service_id  \\\n0           97.0  night_dawn  9011014505000000           5   \n1          183.0  night_dawn  9011014505000000           5   \n2          500.0  night_dawn  9011014505000000           5   \n3          126.0  night_dawn  9011014505000000           5   \n4           73.0  night_dawn  9011014505000000           5   \n\n              trip_id  direction_id  stop_sequence    stop_name_source  \\\n0  141010001054458148             0              1        Brunnsparken   \n1  141010001054458148             0              2           Stenpiren   \n2  141010001054458148             0              3           Järnvågen   \n3  141010001054458148             0              4         Beryllgatan   \n4  141010001054458148             0              5  Bergkristallsgatan   \n\n     stop_name_target  place_id_source  place_id_target  \\\n0           Stenpiren        307987564        307987564   \n1           Järnvågen        307987564        307987564   \n2         Beryllgatan        307987564        307987564   \n3  Bergkristallsgatan        307987564        307987564   \n4         Smyckegatan        307987564        307987564   \n\n                                            geometry  \n0  LINESTRING (319300.968 6400118.943, 318713.953...  \n1  LINESTRING (318713.953 6400020.972, 318203.959...  \n2  LINESTRING (318203.959 6399558.955, 314286.968...  \n3  LINESTRING (314286.968 6395003.924, 314841.952...  \n4  LINESTRING (314841.952 6394771.980, 315135.959...  ",
      "text/html": "<div>\n<style scoped>\n    .dataframe tbody tr th:only-of-type {\n        vertical-align: middle;\n    }\n\n    .dataframe tbody tr th {\n        vertical-align: top;\n    }\n\n    .dataframe thead th {\n        text-align: right;\n    }\n</style>\n<table border=\"1\" class=\"dataframe\">\n  <thead>\n    <tr style=\"text-align: right;\">\n      <th></th>\n      <th>source</th>\n      <th>target</th>\n      <th>route_short_name</th>\n      <th>mode</th>\n      <th>time_distance</th>\n      <th>time_period</th>\n      <th>route_id</th>\n      <th>service_id</th>\n      <th>trip_id</th>\n      <th>direction_id</th>\n      <th>stop_sequence</th>\n      <th>stop_name_source</th>\n      <th>stop_name_target</th>\n      <th>place_id_source</th>\n      <th>place_id_target</th>\n      <th>geometry</th>\n    </tr>\n  </thead>\n  <tbody>\n    <tr>\n      <th>0</th>\n      <td>9022014001760012</td>\n      <td>9022014006242004</td>\n      <td>50</td>\n      <td>bus_service</td>\n      <td>97.0</td>\n      <td>night_dawn</td>\n      <td>9011014505000000</td>\n      <td>5</td>\n      <td>141010001054458148</td>\n      <td>0</td>\n      <td>1</td>\n      <td>Brunnsparken</td>\n      <td>Stenpiren</td>\n      <td>307987564</td>\n      <td>307987564</td>\n      <td>LINESTRING (319300.968 6400118.943, 318713.953...</td>\n    </tr>\n    <tr>\n      <th>1</th>\n      <td>9022014006242004</td>\n      <td>9022014003645002</td>\n      <td>50</td>\n      <td>bus_service</td>\n      <td>183.0</td>\n      <td>night_dawn</td>\n      <td>9011014505000000</td>\n      <td>5</td>\n      <td>141010001054458148</td>\n      <td>0</td>\n      <td>2</td>\n      <td>Stenpiren</td>\n      <td>Järnvågen</td>\n      <td>307987564</td>\n      <td>307987564</td>\n      <td>LINESTRING (318713.953 6400020.972, 318203.959...</td>\n    </tr>\n    <tr>\n      <th>2</th>\n      <td>9022014003645002</td>\n      <td>9022014001410002</td>\n      <td>50</td>\n      <td>bus_service</td>\n      <td>500.0</td>\n      <td>night_dawn</td>\n      <td>9011014505000000</td>\n      <td>5</td>\n      <td>141010001054458148</td>\n      <td>0</td>\n      <td>3</td>\n      <td>Järnvågen</td>\n      <td>Beryllgatan</td>\n      <td>307987564</td>\n      <td>307987564</td>\n      <td>LINESTRING (318203.959 6399558.955, 314286.968...</td>\n    </tr>\n    <tr>\n      <th>3</th>\n      <td>9022014001410002</td>\n      <td>9022014001370002</td>\n      <td>50</td>\n      <td>bus_service</td>\n      <td>126.0</td>\n      <td>night_dawn</td>\n      <td>9011014505000000</td>\n      <td>5</td>\n      <td>141010001054458148</td>\n      <td>0</td>\n      <td>4</td>\n      <td>Beryllgatan</td>\n      <td>Bergkristallsgatan</td>\n      <td>307987564</td>\n      <td>307987564</td>\n      <td>LINESTRING (314286.968 6395003.924, 314841.952...</td>\n    </tr>\n    <tr>\n      <th>4</th>\n      <td>9022014001370002</td>\n      <td>9022014006070002</td>\n      <td>50</td>\n      <td>bus_service</td>\n      <td>73.0</td>\n      <td>night_dawn</td>\n      <td>9011014505000000</td>\n      <td>5</td>\n      <td>141010001054458148</td>\n      <td>0</td>\n      <td>5</td>\n      <td>Bergkristallsgatan</td>\n      <td>Smyckegatan</td>\n      <td>307987564</td>\n      <td>307987564</td>\n      <td>LINESTRING (314841.952 6394771.980, 315135.959...</td>\n    </tr>\n  </tbody>\n</table>\n</div>"
     },
     "execution_count": 77,
     "metadata": {},
     "output_type": "execute_result"
    }
   ],
   "source": [
    "# Clean the Data\n",
    "# Step 13: Set source and target columns\n",
    "links_pt_0 = links_pt_0_l1.rename(columns={'stop_id_source':'source', 'stop_id_target':'target'})\n",
    "\n",
    "# Step 14: Filter columns\n",
    "links_pt_0 = links_pt_0[['source', 'target', 'route_short_name', 'mode', 'time_distance',\n",
    "                         'time_period', 'route_id','service_id', 'trip_id', 'direction_id',\n",
    "                         'stop_sequence','stop_name_source', 'stop_name_target', 'place_id_source',\n",
    "                         'place_id_target', 'geometry']]\n",
    "\n",
    "# Step 15: Filter invalid geometries\n",
    "links_pt_0 = links_pt_0[links_pt_0['source'] != links_pt_0['target']]\n",
    "\n",
    "# Step 16: Drop None geometries\n",
    "links_pt_0 = links_pt_0.dropna(subset=['geometry'])\n",
    "\n",
    "# Step 17: Transform the DataFrame into a GeoDataFrame\n",
    "links_pt_0 = gpd.GeoDataFrame(links_pt_0, geometry='geometry', crs='EPSG:3006')\n",
    "\n",
    "# Step 18 (optional): Display the 'links_baseline' GeoDataFrame\n",
    "links_pt_0.head()"
   ],
   "metadata": {
    "collapsed": false,
    "pycharm": {
     "name": "#%%\n"
    }
   }
  },
  {
   "cell_type": "code",
   "execution_count": 80,
   "outputs": [
    {
     "ename": "OperationalError",
     "evalue": "(psycopg2.OperationalError) server closed the connection unexpectedly\n\tThis probably means the server terminated abnormally\n\tbefore or while processing the request.\nserver closed the connection unexpectedly\n\tThis probably means the server terminated abnormally\n\tbefore or while processing the request.\n\n[SQL: SELECT pg_catalog.pg_class.relname \nFROM pg_catalog.pg_class JOIN pg_catalog.pg_namespace ON pg_catalog.pg_namespace.oid = pg_catalog.pg_class.relnamespace \nWHERE pg_catalog.pg_class.relname = %(table_name)s AND pg_catalog.pg_class.relkind = ANY (ARRAY[%(param_1)s, %(param_2)s, %(param_3)s, %(param_4)s, %(param_5)s]) AND pg_catalog.pg_namespace.nspname = %(nspname_1)s]\n[parameters: {'table_name': 'links_pt_0', 'param_1': 'r', 'param_2': 'p', 'param_3': 'f', 'param_4': 'v', 'param_5': 'm', 'nspname_1': 'pt_0_baseline'}]\n(Background on this error at: https://sqlalche.me/e/20/e3q8)",
     "output_type": "error",
     "traceback": [
      "\u001B[1;31m---------------------------------------------------------------------------\u001B[0m",
      "\u001B[1;31mOperationalError\u001B[0m                          Traceback (most recent call last)",
      "File \u001B[1;32m~\\Miniconda3\\lib\\site-packages\\sqlalchemy\\engine\\base.py:1971\u001B[0m, in \u001B[0;36mConnection._exec_single_context\u001B[1;34m(self, dialect, context, statement, parameters)\u001B[0m\n\u001B[0;32m   1970\u001B[0m     \u001B[38;5;28;01mif\u001B[39;00m \u001B[38;5;129;01mnot\u001B[39;00m evt_handled:\n\u001B[1;32m-> 1971\u001B[0m         \u001B[38;5;28;43mself\u001B[39;49m\u001B[38;5;241;43m.\u001B[39;49m\u001B[43mdialect\u001B[49m\u001B[38;5;241;43m.\u001B[39;49m\u001B[43mdo_execute\u001B[49m\u001B[43m(\u001B[49m\n\u001B[0;32m   1972\u001B[0m \u001B[43m            \u001B[49m\u001B[43mcursor\u001B[49m\u001B[43m,\u001B[49m\u001B[43m \u001B[49m\u001B[43mstr_statement\u001B[49m\u001B[43m,\u001B[49m\u001B[43m \u001B[49m\u001B[43meffective_parameters\u001B[49m\u001B[43m,\u001B[49m\u001B[43m \u001B[49m\u001B[43mcontext\u001B[49m\n\u001B[0;32m   1973\u001B[0m \u001B[43m        \u001B[49m\u001B[43m)\u001B[49m\n\u001B[0;32m   1975\u001B[0m \u001B[38;5;28;01mif\u001B[39;00m \u001B[38;5;28mself\u001B[39m\u001B[38;5;241m.\u001B[39m_has_events \u001B[38;5;129;01mor\u001B[39;00m \u001B[38;5;28mself\u001B[39m\u001B[38;5;241m.\u001B[39mengine\u001B[38;5;241m.\u001B[39m_has_events:\n",
      "File \u001B[1;32m~\\Miniconda3\\lib\\site-packages\\sqlalchemy\\engine\\default.py:919\u001B[0m, in \u001B[0;36mDefaultDialect.do_execute\u001B[1;34m(self, cursor, statement, parameters, context)\u001B[0m\n\u001B[0;32m    918\u001B[0m \u001B[38;5;28;01mdef\u001B[39;00m \u001B[38;5;21mdo_execute\u001B[39m(\u001B[38;5;28mself\u001B[39m, cursor, statement, parameters, context\u001B[38;5;241m=\u001B[39m\u001B[38;5;28;01mNone\u001B[39;00m):\n\u001B[1;32m--> 919\u001B[0m     \u001B[43mcursor\u001B[49m\u001B[38;5;241;43m.\u001B[39;49m\u001B[43mexecute\u001B[49m\u001B[43m(\u001B[49m\u001B[43mstatement\u001B[49m\u001B[43m,\u001B[49m\u001B[43m \u001B[49m\u001B[43mparameters\u001B[49m\u001B[43m)\u001B[49m\n",
      "\u001B[1;31mOperationalError\u001B[0m: server closed the connection unexpectedly\n\tThis probably means the server terminated abnormally\n\tbefore or while processing the request.\nserver closed the connection unexpectedly\n\tThis probably means the server terminated abnormally\n\tbefore or while processing the request.\n",
      "\nThe above exception was the direct cause of the following exception:\n",
      "\u001B[1;31mOperationalError\u001B[0m                          Traceback (most recent call last)",
      "Cell \u001B[1;32mIn[80], line 2\u001B[0m\n\u001B[0;32m      1\u001B[0m \u001B[38;5;66;03m# Step 19 (optional): Export the 'links_baseline' GeoDataFrame to the DB\u001B[39;00m\n\u001B[1;32m----> 2\u001B[0m \u001B[43mlinks_pt_0\u001B[49m\u001B[38;5;241;43m.\u001B[39;49m\u001B[43mto_postgis\u001B[49m\u001B[43m(\u001B[49m\u001B[38;5;124;43m'\u001B[39;49m\u001B[38;5;124;43mlinks_pt_0\u001B[39;49m\u001B[38;5;124;43m'\u001B[39;49m\u001B[43m,\u001B[49m\u001B[43m \u001B[49m\u001B[43mengine\u001B[49m\u001B[43m,\u001B[49m\u001B[43m \u001B[49m\u001B[43mschema\u001B[49m\u001B[38;5;241;43m=\u001B[39;49m\u001B[38;5;124;43m'\u001B[39;49m\u001B[38;5;124;43mpt_0_baseline\u001B[39;49m\u001B[38;5;124;43m'\u001B[39;49m\u001B[43m,\u001B[49m\u001B[43m \u001B[49m\u001B[43mif_exists\u001B[49m\u001B[43m \u001B[49m\u001B[38;5;241;43m=\u001B[39;49m\u001B[38;5;124;43m'\u001B[39;49m\u001B[38;5;124;43mreplace\u001B[39;49m\u001B[38;5;124;43m'\u001B[39;49m\u001B[43m)\u001B[49m\n",
      "File \u001B[1;32m~\\AppData\\Roaming\\Python\\Python39\\site-packages\\geopandas\\geodataframe.py:2062\u001B[0m, in \u001B[0;36mGeoDataFrame.to_postgis\u001B[1;34m(self, name, con, schema, if_exists, index, index_label, chunksize, dtype)\u001B[0m\n\u001B[0;32m   1998\u001B[0m \u001B[38;5;28;01mdef\u001B[39;00m \u001B[38;5;21mto_postgis\u001B[39m(\n\u001B[0;32m   1999\u001B[0m     \u001B[38;5;28mself\u001B[39m,\n\u001B[0;32m   2000\u001B[0m     name,\n\u001B[1;32m   (...)\u001B[0m\n\u001B[0;32m   2007\u001B[0m     dtype\u001B[38;5;241m=\u001B[39m\u001B[38;5;28;01mNone\u001B[39;00m,\n\u001B[0;32m   2008\u001B[0m ):\n\u001B[0;32m   2009\u001B[0m \u001B[38;5;250m    \u001B[39m\u001B[38;5;124;03m\"\"\"\u001B[39;00m\n\u001B[0;32m   2010\u001B[0m \u001B[38;5;124;03m    Upload GeoDataFrame into PostGIS database.\u001B[39;00m\n\u001B[0;32m   2011\u001B[0m \n\u001B[1;32m   (...)\u001B[0m\n\u001B[0;32m   2060\u001B[0m \n\u001B[0;32m   2061\u001B[0m \u001B[38;5;124;03m    \"\"\"\u001B[39;00m\n\u001B[1;32m-> 2062\u001B[0m     \u001B[43mgeopandas\u001B[49m\u001B[38;5;241;43m.\u001B[39;49m\u001B[43mio\u001B[49m\u001B[38;5;241;43m.\u001B[39;49m\u001B[43msql\u001B[49m\u001B[38;5;241;43m.\u001B[39;49m\u001B[43m_write_postgis\u001B[49m\u001B[43m(\u001B[49m\n\u001B[0;32m   2063\u001B[0m \u001B[43m        \u001B[49m\u001B[38;5;28;43mself\u001B[39;49m\u001B[43m,\u001B[49m\u001B[43m \u001B[49m\u001B[43mname\u001B[49m\u001B[43m,\u001B[49m\u001B[43m \u001B[49m\u001B[43mcon\u001B[49m\u001B[43m,\u001B[49m\u001B[43m \u001B[49m\u001B[43mschema\u001B[49m\u001B[43m,\u001B[49m\u001B[43m \u001B[49m\u001B[43mif_exists\u001B[49m\u001B[43m,\u001B[49m\u001B[43m \u001B[49m\u001B[43mindex\u001B[49m\u001B[43m,\u001B[49m\u001B[43m \u001B[49m\u001B[43mindex_label\u001B[49m\u001B[43m,\u001B[49m\u001B[43m \u001B[49m\u001B[43mchunksize\u001B[49m\u001B[43m,\u001B[49m\u001B[43m \u001B[49m\u001B[43mdtype\u001B[49m\n\u001B[0;32m   2064\u001B[0m \u001B[43m    \u001B[49m\u001B[43m)\u001B[49m\n",
      "File \u001B[1;32m~\\AppData\\Roaming\\Python\\Python39\\site-packages\\geopandas\\io\\sql.py:461\u001B[0m, in \u001B[0;36m_write_postgis\u001B[1;34m(gdf, name, con, schema, if_exists, index, index_label, chunksize, dtype)\u001B[0m\n\u001B[0;32m    458\u001B[0m                 \u001B[38;5;28;01mraise\u001B[39;00m \u001B[38;5;167;01mValueError\u001B[39;00m(msg)\n\u001B[0;32m    460\u001B[0m \u001B[38;5;28;01mwith\u001B[39;00m _get_conn(con) \u001B[38;5;28;01mas\u001B[39;00m connection:\n\u001B[1;32m--> 461\u001B[0m     \u001B[43mgdf\u001B[49m\u001B[38;5;241;43m.\u001B[39;49m\u001B[43mto_sql\u001B[49m\u001B[43m(\u001B[49m\n\u001B[0;32m    462\u001B[0m \u001B[43m        \u001B[49m\u001B[43mname\u001B[49m\u001B[43m,\u001B[49m\n\u001B[0;32m    463\u001B[0m \u001B[43m        \u001B[49m\u001B[43mconnection\u001B[49m\u001B[43m,\u001B[49m\n\u001B[0;32m    464\u001B[0m \u001B[43m        \u001B[49m\u001B[43mschema\u001B[49m\u001B[38;5;241;43m=\u001B[39;49m\u001B[43mschema_name\u001B[49m\u001B[43m,\u001B[49m\n\u001B[0;32m    465\u001B[0m \u001B[43m        \u001B[49m\u001B[43mif_exists\u001B[49m\u001B[38;5;241;43m=\u001B[39;49m\u001B[43mif_exists\u001B[49m\u001B[43m,\u001B[49m\n\u001B[0;32m    466\u001B[0m \u001B[43m        \u001B[49m\u001B[43mindex\u001B[49m\u001B[38;5;241;43m=\u001B[39;49m\u001B[43mindex\u001B[49m\u001B[43m,\u001B[49m\n\u001B[0;32m    467\u001B[0m \u001B[43m        \u001B[49m\u001B[43mindex_label\u001B[49m\u001B[38;5;241;43m=\u001B[39;49m\u001B[43mindex_label\u001B[49m\u001B[43m,\u001B[49m\n\u001B[0;32m    468\u001B[0m \u001B[43m        \u001B[49m\u001B[43mchunksize\u001B[49m\u001B[38;5;241;43m=\u001B[39;49m\u001B[43mchunksize\u001B[49m\u001B[43m,\u001B[49m\n\u001B[0;32m    469\u001B[0m \u001B[43m        \u001B[49m\u001B[43mdtype\u001B[49m\u001B[38;5;241;43m=\u001B[39;49m\u001B[43mdtype\u001B[49m\u001B[43m,\u001B[49m\n\u001B[0;32m    470\u001B[0m \u001B[43m        \u001B[49m\u001B[43mmethod\u001B[49m\u001B[38;5;241;43m=\u001B[39;49m\u001B[43m_psql_insert_copy\u001B[49m\u001B[43m,\u001B[49m\n\u001B[0;32m    471\u001B[0m \u001B[43m    \u001B[49m\u001B[43m)\u001B[49m\n",
      "File \u001B[1;32m~\\AppData\\Roaming\\Python\\Python39\\site-packages\\pandas\\util\\_decorators.py:333\u001B[0m, in \u001B[0;36mdeprecate_nonkeyword_arguments.<locals>.decorate.<locals>.wrapper\u001B[1;34m(*args, **kwargs)\u001B[0m\n\u001B[0;32m    327\u001B[0m \u001B[38;5;28;01mif\u001B[39;00m \u001B[38;5;28mlen\u001B[39m(args) \u001B[38;5;241m>\u001B[39m num_allow_args:\n\u001B[0;32m    328\u001B[0m     warnings\u001B[38;5;241m.\u001B[39mwarn(\n\u001B[0;32m    329\u001B[0m         msg\u001B[38;5;241m.\u001B[39mformat(arguments\u001B[38;5;241m=\u001B[39m_format_argument_list(allow_args)),\n\u001B[0;32m    330\u001B[0m         \u001B[38;5;167;01mFutureWarning\u001B[39;00m,\n\u001B[0;32m    331\u001B[0m         stacklevel\u001B[38;5;241m=\u001B[39mfind_stack_level(),\n\u001B[0;32m    332\u001B[0m     )\n\u001B[1;32m--> 333\u001B[0m \u001B[38;5;28;01mreturn\u001B[39;00m func(\u001B[38;5;241m*\u001B[39margs, \u001B[38;5;241m*\u001B[39m\u001B[38;5;241m*\u001B[39mkwargs)\n",
      "File \u001B[1;32m~\\AppData\\Roaming\\Python\\Python39\\site-packages\\pandas\\core\\generic.py:3087\u001B[0m, in \u001B[0;36mNDFrame.to_sql\u001B[1;34m(self, name, con, schema, if_exists, index, index_label, chunksize, dtype, method)\u001B[0m\n\u001B[0;32m   2889\u001B[0m \u001B[38;5;250m\u001B[39m\u001B[38;5;124;03m\"\"\"\u001B[39;00m\n\u001B[0;32m   2890\u001B[0m \u001B[38;5;124;03mWrite records stored in a DataFrame to a SQL database.\u001B[39;00m\n\u001B[0;32m   2891\u001B[0m \n\u001B[1;32m   (...)\u001B[0m\n\u001B[0;32m   3083\u001B[0m \u001B[38;5;124;03m[(1,), (None,), (2,)]\u001B[39;00m\n\u001B[0;32m   3084\u001B[0m \u001B[38;5;124;03m\"\"\"\u001B[39;00m  \u001B[38;5;66;03m# noqa: E501\u001B[39;00m\n\u001B[0;32m   3085\u001B[0m \u001B[38;5;28;01mfrom\u001B[39;00m \u001B[38;5;21;01mpandas\u001B[39;00m\u001B[38;5;21;01m.\u001B[39;00m\u001B[38;5;21;01mio\u001B[39;00m \u001B[38;5;28;01mimport\u001B[39;00m sql\n\u001B[1;32m-> 3087\u001B[0m \u001B[38;5;28;01mreturn\u001B[39;00m \u001B[43msql\u001B[49m\u001B[38;5;241;43m.\u001B[39;49m\u001B[43mto_sql\u001B[49m\u001B[43m(\u001B[49m\n\u001B[0;32m   3088\u001B[0m \u001B[43m    \u001B[49m\u001B[38;5;28;43mself\u001B[39;49m\u001B[43m,\u001B[49m\n\u001B[0;32m   3089\u001B[0m \u001B[43m    \u001B[49m\u001B[43mname\u001B[49m\u001B[43m,\u001B[49m\n\u001B[0;32m   3090\u001B[0m \u001B[43m    \u001B[49m\u001B[43mcon\u001B[49m\u001B[43m,\u001B[49m\n\u001B[0;32m   3091\u001B[0m \u001B[43m    \u001B[49m\u001B[43mschema\u001B[49m\u001B[38;5;241;43m=\u001B[39;49m\u001B[43mschema\u001B[49m\u001B[43m,\u001B[49m\n\u001B[0;32m   3092\u001B[0m \u001B[43m    \u001B[49m\u001B[43mif_exists\u001B[49m\u001B[38;5;241;43m=\u001B[39;49m\u001B[43mif_exists\u001B[49m\u001B[43m,\u001B[49m\n\u001B[0;32m   3093\u001B[0m \u001B[43m    \u001B[49m\u001B[43mindex\u001B[49m\u001B[38;5;241;43m=\u001B[39;49m\u001B[43mindex\u001B[49m\u001B[43m,\u001B[49m\n\u001B[0;32m   3094\u001B[0m \u001B[43m    \u001B[49m\u001B[43mindex_label\u001B[49m\u001B[38;5;241;43m=\u001B[39;49m\u001B[43mindex_label\u001B[49m\u001B[43m,\u001B[49m\n\u001B[0;32m   3095\u001B[0m \u001B[43m    \u001B[49m\u001B[43mchunksize\u001B[49m\u001B[38;5;241;43m=\u001B[39;49m\u001B[43mchunksize\u001B[49m\u001B[43m,\u001B[49m\n\u001B[0;32m   3096\u001B[0m \u001B[43m    \u001B[49m\u001B[43mdtype\u001B[49m\u001B[38;5;241;43m=\u001B[39;49m\u001B[43mdtype\u001B[49m\u001B[43m,\u001B[49m\n\u001B[0;32m   3097\u001B[0m \u001B[43m    \u001B[49m\u001B[43mmethod\u001B[49m\u001B[38;5;241;43m=\u001B[39;49m\u001B[43mmethod\u001B[49m\u001B[43m,\u001B[49m\n\u001B[0;32m   3098\u001B[0m \u001B[43m\u001B[49m\u001B[43m)\u001B[49m\n",
      "File \u001B[1;32m~\\AppData\\Roaming\\Python\\Python39\\site-packages\\pandas\\io\\sql.py:842\u001B[0m, in \u001B[0;36mto_sql\u001B[1;34m(frame, name, con, schema, if_exists, index, index_label, chunksize, dtype, method, engine, **engine_kwargs)\u001B[0m\n\u001B[0;32m    837\u001B[0m     \u001B[38;5;28;01mraise\u001B[39;00m \u001B[38;5;167;01mNotImplementedError\u001B[39;00m(\n\u001B[0;32m    838\u001B[0m         \u001B[38;5;124m\"\u001B[39m\u001B[38;5;124m'\u001B[39m\u001B[38;5;124mframe\u001B[39m\u001B[38;5;124m'\u001B[39m\u001B[38;5;124m argument should be either a Series or a DataFrame\u001B[39m\u001B[38;5;124m\"\u001B[39m\n\u001B[0;32m    839\u001B[0m     )\n\u001B[0;32m    841\u001B[0m \u001B[38;5;28;01mwith\u001B[39;00m pandasSQL_builder(con, schema\u001B[38;5;241m=\u001B[39mschema, need_transaction\u001B[38;5;241m=\u001B[39m\u001B[38;5;28;01mTrue\u001B[39;00m) \u001B[38;5;28;01mas\u001B[39;00m pandas_sql:\n\u001B[1;32m--> 842\u001B[0m     \u001B[38;5;28;01mreturn\u001B[39;00m pandas_sql\u001B[38;5;241m.\u001B[39mto_sql(\n\u001B[0;32m    843\u001B[0m         frame,\n\u001B[0;32m    844\u001B[0m         name,\n\u001B[0;32m    845\u001B[0m         if_exists\u001B[38;5;241m=\u001B[39mif_exists,\n\u001B[0;32m    846\u001B[0m         index\u001B[38;5;241m=\u001B[39mindex,\n\u001B[0;32m    847\u001B[0m         index_label\u001B[38;5;241m=\u001B[39mindex_label,\n\u001B[0;32m    848\u001B[0m         schema\u001B[38;5;241m=\u001B[39mschema,\n\u001B[0;32m    849\u001B[0m         chunksize\u001B[38;5;241m=\u001B[39mchunksize,\n\u001B[0;32m    850\u001B[0m         dtype\u001B[38;5;241m=\u001B[39mdtype,\n\u001B[0;32m    851\u001B[0m         method\u001B[38;5;241m=\u001B[39mmethod,\n\u001B[0;32m    852\u001B[0m         engine\u001B[38;5;241m=\u001B[39mengine,\n\u001B[0;32m    853\u001B[0m         \u001B[38;5;241m*\u001B[39m\u001B[38;5;241m*\u001B[39mengine_kwargs,\n\u001B[0;32m    854\u001B[0m     )\n",
      "File \u001B[1;32m~\\AppData\\Roaming\\Python\\Python39\\site-packages\\pandas\\io\\sql.py:2008\u001B[0m, in \u001B[0;36mSQLDatabase.to_sql\u001B[1;34m(self, frame, name, if_exists, index, index_label, schema, chunksize, dtype, method, engine, **engine_kwargs)\u001B[0m\n\u001B[0;32m   1958\u001B[0m \u001B[38;5;250m\u001B[39m\u001B[38;5;124;03m\"\"\"\u001B[39;00m\n\u001B[0;32m   1959\u001B[0m \u001B[38;5;124;03mWrite records stored in a DataFrame to a SQL database.\u001B[39;00m\n\u001B[0;32m   1960\u001B[0m \n\u001B[1;32m   (...)\u001B[0m\n\u001B[0;32m   2004\u001B[0m \u001B[38;5;124;03m    Any additional kwargs are passed to the engine.\u001B[39;00m\n\u001B[0;32m   2005\u001B[0m \u001B[38;5;124;03m\"\"\"\u001B[39;00m\n\u001B[0;32m   2006\u001B[0m sql_engine \u001B[38;5;241m=\u001B[39m get_engine(engine)\n\u001B[1;32m-> 2008\u001B[0m table \u001B[38;5;241m=\u001B[39m \u001B[38;5;28;43mself\u001B[39;49m\u001B[38;5;241;43m.\u001B[39;49m\u001B[43mprep_table\u001B[49m\u001B[43m(\u001B[49m\n\u001B[0;32m   2009\u001B[0m \u001B[43m    \u001B[49m\u001B[43mframe\u001B[49m\u001B[38;5;241;43m=\u001B[39;49m\u001B[43mframe\u001B[49m\u001B[43m,\u001B[49m\n\u001B[0;32m   2010\u001B[0m \u001B[43m    \u001B[49m\u001B[43mname\u001B[49m\u001B[38;5;241;43m=\u001B[39;49m\u001B[43mname\u001B[49m\u001B[43m,\u001B[49m\n\u001B[0;32m   2011\u001B[0m \u001B[43m    \u001B[49m\u001B[43mif_exists\u001B[49m\u001B[38;5;241;43m=\u001B[39;49m\u001B[43mif_exists\u001B[49m\u001B[43m,\u001B[49m\n\u001B[0;32m   2012\u001B[0m \u001B[43m    \u001B[49m\u001B[43mindex\u001B[49m\u001B[38;5;241;43m=\u001B[39;49m\u001B[43mindex\u001B[49m\u001B[43m,\u001B[49m\n\u001B[0;32m   2013\u001B[0m \u001B[43m    \u001B[49m\u001B[43mindex_label\u001B[49m\u001B[38;5;241;43m=\u001B[39;49m\u001B[43mindex_label\u001B[49m\u001B[43m,\u001B[49m\n\u001B[0;32m   2014\u001B[0m \u001B[43m    \u001B[49m\u001B[43mschema\u001B[49m\u001B[38;5;241;43m=\u001B[39;49m\u001B[43mschema\u001B[49m\u001B[43m,\u001B[49m\n\u001B[0;32m   2015\u001B[0m \u001B[43m    \u001B[49m\u001B[43mdtype\u001B[49m\u001B[38;5;241;43m=\u001B[39;49m\u001B[43mdtype\u001B[49m\u001B[43m,\u001B[49m\n\u001B[0;32m   2016\u001B[0m \u001B[43m\u001B[49m\u001B[43m)\u001B[49m\n\u001B[0;32m   2018\u001B[0m total_inserted \u001B[38;5;241m=\u001B[39m sql_engine\u001B[38;5;241m.\u001B[39minsert_records(\n\u001B[0;32m   2019\u001B[0m     table\u001B[38;5;241m=\u001B[39mtable,\n\u001B[0;32m   2020\u001B[0m     con\u001B[38;5;241m=\u001B[39m\u001B[38;5;28mself\u001B[39m\u001B[38;5;241m.\u001B[39mcon,\n\u001B[1;32m   (...)\u001B[0m\n\u001B[0;32m   2027\u001B[0m     \u001B[38;5;241m*\u001B[39m\u001B[38;5;241m*\u001B[39mengine_kwargs,\n\u001B[0;32m   2028\u001B[0m )\n\u001B[0;32m   2030\u001B[0m \u001B[38;5;28mself\u001B[39m\u001B[38;5;241m.\u001B[39mcheck_case_sensitive(name\u001B[38;5;241m=\u001B[39mname, schema\u001B[38;5;241m=\u001B[39mschema)\n",
      "File \u001B[1;32m~\\AppData\\Roaming\\Python\\Python39\\site-packages\\pandas\\io\\sql.py:1912\u001B[0m, in \u001B[0;36mSQLDatabase.prep_table\u001B[1;34m(self, frame, name, if_exists, index, index_label, schema, dtype)\u001B[0m\n\u001B[0;32m   1900\u001B[0m             \u001B[38;5;28;01mraise\u001B[39;00m \u001B[38;5;167;01mValueError\u001B[39;00m(\u001B[38;5;124mf\u001B[39m\u001B[38;5;124m\"\u001B[39m\u001B[38;5;124mThe type of \u001B[39m\u001B[38;5;132;01m{\u001B[39;00mcol\u001B[38;5;132;01m}\u001B[39;00m\u001B[38;5;124m is not a SQLAlchemy type\u001B[39m\u001B[38;5;124m\"\u001B[39m)\n\u001B[0;32m   1902\u001B[0m table \u001B[38;5;241m=\u001B[39m SQLTable(\n\u001B[0;32m   1903\u001B[0m     name,\n\u001B[0;32m   1904\u001B[0m     \u001B[38;5;28mself\u001B[39m,\n\u001B[1;32m   (...)\u001B[0m\n\u001B[0;32m   1910\u001B[0m     dtype\u001B[38;5;241m=\u001B[39mdtype,\n\u001B[0;32m   1911\u001B[0m )\n\u001B[1;32m-> 1912\u001B[0m \u001B[43mtable\u001B[49m\u001B[38;5;241;43m.\u001B[39;49m\u001B[43mcreate\u001B[49m\u001B[43m(\u001B[49m\u001B[43m)\u001B[49m\n\u001B[0;32m   1913\u001B[0m \u001B[38;5;28;01mreturn\u001B[39;00m table\n",
      "File \u001B[1;32m~\\AppData\\Roaming\\Python\\Python39\\site-packages\\pandas\\io\\sql.py:984\u001B[0m, in \u001B[0;36mSQLTable.create\u001B[1;34m(self)\u001B[0m\n\u001B[0;32m    983\u001B[0m \u001B[38;5;28;01mdef\u001B[39;00m \u001B[38;5;21mcreate\u001B[39m(\u001B[38;5;28mself\u001B[39m) \u001B[38;5;241m-\u001B[39m\u001B[38;5;241m>\u001B[39m \u001B[38;5;28;01mNone\u001B[39;00m:\n\u001B[1;32m--> 984\u001B[0m     \u001B[38;5;28;01mif\u001B[39;00m \u001B[38;5;28;43mself\u001B[39;49m\u001B[38;5;241;43m.\u001B[39;49m\u001B[43mexists\u001B[49m\u001B[43m(\u001B[49m\u001B[43m)\u001B[49m:\n\u001B[0;32m    985\u001B[0m         \u001B[38;5;28;01mif\u001B[39;00m \u001B[38;5;28mself\u001B[39m\u001B[38;5;241m.\u001B[39mif_exists \u001B[38;5;241m==\u001B[39m \u001B[38;5;124m\"\u001B[39m\u001B[38;5;124mfail\u001B[39m\u001B[38;5;124m\"\u001B[39m:\n\u001B[0;32m    986\u001B[0m             \u001B[38;5;28;01mraise\u001B[39;00m \u001B[38;5;167;01mValueError\u001B[39;00m(\u001B[38;5;124mf\u001B[39m\u001B[38;5;124m\"\u001B[39m\u001B[38;5;124mTable \u001B[39m\u001B[38;5;124m'\u001B[39m\u001B[38;5;132;01m{\u001B[39;00m\u001B[38;5;28mself\u001B[39m\u001B[38;5;241m.\u001B[39mname\u001B[38;5;132;01m}\u001B[39;00m\u001B[38;5;124m'\u001B[39m\u001B[38;5;124m already exists.\u001B[39m\u001B[38;5;124m\"\u001B[39m)\n",
      "File \u001B[1;32m~\\AppData\\Roaming\\Python\\Python39\\site-packages\\pandas\\io\\sql.py:970\u001B[0m, in \u001B[0;36mSQLTable.exists\u001B[1;34m(self)\u001B[0m\n\u001B[0;32m    969\u001B[0m \u001B[38;5;28;01mdef\u001B[39;00m \u001B[38;5;21mexists\u001B[39m(\u001B[38;5;28mself\u001B[39m):\n\u001B[1;32m--> 970\u001B[0m     \u001B[38;5;28;01mreturn\u001B[39;00m \u001B[38;5;28;43mself\u001B[39;49m\u001B[38;5;241;43m.\u001B[39;49m\u001B[43mpd_sql\u001B[49m\u001B[38;5;241;43m.\u001B[39;49m\u001B[43mhas_table\u001B[49m\u001B[43m(\u001B[49m\u001B[38;5;28;43mself\u001B[39;49m\u001B[38;5;241;43m.\u001B[39;49m\u001B[43mname\u001B[49m\u001B[43m,\u001B[49m\u001B[43m \u001B[49m\u001B[38;5;28;43mself\u001B[39;49m\u001B[38;5;241;43m.\u001B[39;49m\u001B[43mschema\u001B[49m\u001B[43m)\u001B[49m\n",
      "File \u001B[1;32m~\\AppData\\Roaming\\Python\\Python39\\site-packages\\pandas\\io\\sql.py:2041\u001B[0m, in \u001B[0;36mSQLDatabase.has_table\u001B[1;34m(self, name, schema)\u001B[0m\n\u001B[0;32m   2038\u001B[0m \u001B[38;5;28;01mfrom\u001B[39;00m \u001B[38;5;21;01msqlalchemy\u001B[39;00m \u001B[38;5;28;01mimport\u001B[39;00m inspect \u001B[38;5;28;01mas\u001B[39;00m sqlalchemy_inspect\n\u001B[0;32m   2040\u001B[0m insp \u001B[38;5;241m=\u001B[39m sqlalchemy_inspect(\u001B[38;5;28mself\u001B[39m\u001B[38;5;241m.\u001B[39mcon)\n\u001B[1;32m-> 2041\u001B[0m \u001B[38;5;28;01mreturn\u001B[39;00m \u001B[43minsp\u001B[49m\u001B[38;5;241;43m.\u001B[39;49m\u001B[43mhas_table\u001B[49m\u001B[43m(\u001B[49m\u001B[43mname\u001B[49m\u001B[43m,\u001B[49m\u001B[43m \u001B[49m\u001B[43mschema\u001B[49m\u001B[43m \u001B[49m\u001B[38;5;129;43;01mor\u001B[39;49;00m\u001B[43m \u001B[49m\u001B[38;5;28;43mself\u001B[39;49m\u001B[38;5;241;43m.\u001B[39;49m\u001B[43mmeta\u001B[49m\u001B[38;5;241;43m.\u001B[39;49m\u001B[43mschema\u001B[49m\u001B[43m)\u001B[49m\n",
      "File \u001B[1;32m~\\Miniconda3\\lib\\site-packages\\sqlalchemy\\engine\\reflection.py:429\u001B[0m, in \u001B[0;36mInspector.has_table\u001B[1;34m(self, table_name, schema, **kw)\u001B[0m\n\u001B[0;32m    403\u001B[0m \u001B[38;5;250m\u001B[39m\u001B[38;5;124mr\u001B[39m\u001B[38;5;124;03m\"\"\"Return True if the backend has a table, view, or temporary\u001B[39;00m\n\u001B[0;32m    404\u001B[0m \u001B[38;5;124;03mtable of the given name.\u001B[39;00m\n\u001B[0;32m    405\u001B[0m \n\u001B[1;32m   (...)\u001B[0m\n\u001B[0;32m    426\u001B[0m \n\u001B[0;32m    427\u001B[0m \u001B[38;5;124;03m\"\"\"\u001B[39;00m\n\u001B[0;32m    428\u001B[0m \u001B[38;5;28;01mwith\u001B[39;00m \u001B[38;5;28mself\u001B[39m\u001B[38;5;241m.\u001B[39m_operation_context() \u001B[38;5;28;01mas\u001B[39;00m conn:\n\u001B[1;32m--> 429\u001B[0m     \u001B[38;5;28;01mreturn\u001B[39;00m \u001B[38;5;28mself\u001B[39m\u001B[38;5;241m.\u001B[39mdialect\u001B[38;5;241m.\u001B[39mhas_table(\n\u001B[0;32m    430\u001B[0m         conn, table_name, schema, info_cache\u001B[38;5;241m=\u001B[39m\u001B[38;5;28mself\u001B[39m\u001B[38;5;241m.\u001B[39minfo_cache, \u001B[38;5;241m*\u001B[39m\u001B[38;5;241m*\u001B[39mkw\n\u001B[0;32m    431\u001B[0m     )\n",
      "File \u001B[1;32m<string>:2\u001B[0m, in \u001B[0;36mhas_table\u001B[1;34m(self, connection, table_name, schema, **kw)\u001B[0m\n",
      "File \u001B[1;32m~\\Miniconda3\\lib\\site-packages\\sqlalchemy\\engine\\reflection.py:97\u001B[0m, in \u001B[0;36mcache\u001B[1;34m(fn, self, con, *args, **kw)\u001B[0m\n\u001B[0;32m     95\u001B[0m ret: _R \u001B[38;5;241m=\u001B[39m info_cache\u001B[38;5;241m.\u001B[39mget(key)\n\u001B[0;32m     96\u001B[0m \u001B[38;5;28;01mif\u001B[39;00m ret \u001B[38;5;129;01mis\u001B[39;00m \u001B[38;5;28;01mNone\u001B[39;00m:\n\u001B[1;32m---> 97\u001B[0m     ret \u001B[38;5;241m=\u001B[39m fn(\u001B[38;5;28mself\u001B[39m, con, \u001B[38;5;241m*\u001B[39margs, \u001B[38;5;241m*\u001B[39m\u001B[38;5;241m*\u001B[39mkw)\n\u001B[0;32m     98\u001B[0m     info_cache[key] \u001B[38;5;241m=\u001B[39m ret\n\u001B[0;32m     99\u001B[0m \u001B[38;5;28;01mreturn\u001B[39;00m ret\n",
      "File \u001B[1;32m~\\Miniconda3\\lib\\site-packages\\sqlalchemy\\dialects\\postgresql\\base.py:3347\u001B[0m, in \u001B[0;36mPGDialect.has_table\u001B[1;34m(self, connection, table_name, schema, **kw)\u001B[0m\n\u001B[0;32m   3345\u001B[0m \u001B[38;5;28mself\u001B[39m\u001B[38;5;241m.\u001B[39m_ensure_has_table_connection(connection)\n\u001B[0;32m   3346\u001B[0m query \u001B[38;5;241m=\u001B[39m \u001B[38;5;28mself\u001B[39m\u001B[38;5;241m.\u001B[39m_has_table_query(schema)\n\u001B[1;32m-> 3347\u001B[0m \u001B[38;5;28;01mreturn\u001B[39;00m \u001B[38;5;28mbool\u001B[39m(\u001B[43mconnection\u001B[49m\u001B[38;5;241;43m.\u001B[39;49m\u001B[43mscalar\u001B[49m\u001B[43m(\u001B[49m\u001B[43mquery\u001B[49m\u001B[43m,\u001B[49m\u001B[43m \u001B[49m\u001B[43m{\u001B[49m\u001B[38;5;124;43m\"\u001B[39;49m\u001B[38;5;124;43mtable_name\u001B[39;49m\u001B[38;5;124;43m\"\u001B[39;49m\u001B[43m:\u001B[49m\u001B[43m \u001B[49m\u001B[43mtable_name\u001B[49m\u001B[43m}\u001B[49m\u001B[43m)\u001B[49m)\n",
      "File \u001B[1;32m~\\Miniconda3\\lib\\site-packages\\sqlalchemy\\engine\\base.py:1311\u001B[0m, in \u001B[0;36mConnection.scalar\u001B[1;34m(self, statement, parameters, execution_options)\u001B[0m\n\u001B[0;32m   1309\u001B[0m     \u001B[38;5;28;01mraise\u001B[39;00m exc\u001B[38;5;241m.\u001B[39mObjectNotExecutableError(statement) \u001B[38;5;28;01mfrom\u001B[39;00m \u001B[38;5;21;01merr\u001B[39;00m\n\u001B[0;32m   1310\u001B[0m \u001B[38;5;28;01melse\u001B[39;00m:\n\u001B[1;32m-> 1311\u001B[0m     \u001B[38;5;28;01mreturn\u001B[39;00m \u001B[43mmeth\u001B[49m\u001B[43m(\u001B[49m\n\u001B[0;32m   1312\u001B[0m \u001B[43m        \u001B[49m\u001B[38;5;28;43mself\u001B[39;49m\u001B[43m,\u001B[49m\n\u001B[0;32m   1313\u001B[0m \u001B[43m        \u001B[49m\u001B[43mdistilled_parameters\u001B[49m\u001B[43m,\u001B[49m\n\u001B[0;32m   1314\u001B[0m \u001B[43m        \u001B[49m\u001B[43mexecution_options\u001B[49m\u001B[43m \u001B[49m\u001B[38;5;129;43;01mor\u001B[39;49;00m\u001B[43m \u001B[49m\u001B[43mNO_OPTIONS\u001B[49m\u001B[43m,\u001B[49m\n\u001B[0;32m   1315\u001B[0m \u001B[43m    \u001B[49m\u001B[43m)\u001B[49m\n",
      "File \u001B[1;32m~\\Miniconda3\\lib\\site-packages\\sqlalchemy\\sql\\elements.py:532\u001B[0m, in \u001B[0;36mClauseElement._execute_on_scalar\u001B[1;34m(self, connection, distilled_params, execution_options)\u001B[0m\n\u001B[0;32m    520\u001B[0m \u001B[38;5;28;01mdef\u001B[39;00m \u001B[38;5;21m_execute_on_scalar\u001B[39m(\n\u001B[0;32m    521\u001B[0m     \u001B[38;5;28mself\u001B[39m,\n\u001B[0;32m    522\u001B[0m     connection: Connection,\n\u001B[0;32m    523\u001B[0m     distilled_params: _CoreMultiExecuteParams,\n\u001B[0;32m    524\u001B[0m     execution_options: CoreExecuteOptionsParameter,\n\u001B[0;32m    525\u001B[0m ) \u001B[38;5;241m-\u001B[39m\u001B[38;5;241m>\u001B[39m Any:\n\u001B[0;32m    526\u001B[0m \u001B[38;5;250m    \u001B[39m\u001B[38;5;124;03m\"\"\"an additional hook for subclasses to provide a different\u001B[39;00m\n\u001B[0;32m    527\u001B[0m \u001B[38;5;124;03m    implementation for connection.scalar() vs. connection.execute().\u001B[39;00m\n\u001B[0;32m    528\u001B[0m \n\u001B[0;32m    529\u001B[0m \u001B[38;5;124;03m    .. versionadded:: 2.0\u001B[39;00m\n\u001B[0;32m    530\u001B[0m \n\u001B[0;32m    531\u001B[0m \u001B[38;5;124;03m    \"\"\"\u001B[39;00m\n\u001B[1;32m--> 532\u001B[0m     \u001B[38;5;28;01mreturn\u001B[39;00m \u001B[38;5;28;43mself\u001B[39;49m\u001B[38;5;241;43m.\u001B[39;49m\u001B[43m_execute_on_connection\u001B[49m\u001B[43m(\u001B[49m\n\u001B[0;32m    533\u001B[0m \u001B[43m        \u001B[49m\u001B[43mconnection\u001B[49m\u001B[43m,\u001B[49m\u001B[43m \u001B[49m\u001B[43mdistilled_params\u001B[49m\u001B[43m,\u001B[49m\u001B[43m \u001B[49m\u001B[43mexecution_options\u001B[49m\n\u001B[0;32m    534\u001B[0m \u001B[43m    \u001B[49m\u001B[43m)\u001B[49m\u001B[38;5;241m.\u001B[39mscalar()\n",
      "File \u001B[1;32m~\\Miniconda3\\lib\\site-packages\\sqlalchemy\\sql\\elements.py:514\u001B[0m, in \u001B[0;36mClauseElement._execute_on_connection\u001B[1;34m(self, connection, distilled_params, execution_options)\u001B[0m\n\u001B[0;32m    512\u001B[0m     \u001B[38;5;28;01mif\u001B[39;00m TYPE_CHECKING:\n\u001B[0;32m    513\u001B[0m         \u001B[38;5;28;01massert\u001B[39;00m \u001B[38;5;28misinstance\u001B[39m(\u001B[38;5;28mself\u001B[39m, Executable)\n\u001B[1;32m--> 514\u001B[0m     \u001B[38;5;28;01mreturn\u001B[39;00m \u001B[43mconnection\u001B[49m\u001B[38;5;241;43m.\u001B[39;49m\u001B[43m_execute_clauseelement\u001B[49m\u001B[43m(\u001B[49m\n\u001B[0;32m    515\u001B[0m \u001B[43m        \u001B[49m\u001B[38;5;28;43mself\u001B[39;49m\u001B[43m,\u001B[49m\u001B[43m \u001B[49m\u001B[43mdistilled_params\u001B[49m\u001B[43m,\u001B[49m\u001B[43m \u001B[49m\u001B[43mexecution_options\u001B[49m\n\u001B[0;32m    516\u001B[0m \u001B[43m    \u001B[49m\u001B[43m)\u001B[49m\n\u001B[0;32m    517\u001B[0m \u001B[38;5;28;01melse\u001B[39;00m:\n\u001B[0;32m    518\u001B[0m     \u001B[38;5;28;01mraise\u001B[39;00m exc\u001B[38;5;241m.\u001B[39mObjectNotExecutableError(\u001B[38;5;28mself\u001B[39m)\n",
      "File \u001B[1;32m~\\Miniconda3\\lib\\site-packages\\sqlalchemy\\engine\\base.py:1644\u001B[0m, in \u001B[0;36mConnection._execute_clauseelement\u001B[1;34m(self, elem, distilled_parameters, execution_options)\u001B[0m\n\u001B[0;32m   1632\u001B[0m compiled_cache: Optional[CompiledCacheType] \u001B[38;5;241m=\u001B[39m execution_options\u001B[38;5;241m.\u001B[39mget(\n\u001B[0;32m   1633\u001B[0m     \u001B[38;5;124m\"\u001B[39m\u001B[38;5;124mcompiled_cache\u001B[39m\u001B[38;5;124m\"\u001B[39m, \u001B[38;5;28mself\u001B[39m\u001B[38;5;241m.\u001B[39mengine\u001B[38;5;241m.\u001B[39m_compiled_cache\n\u001B[0;32m   1634\u001B[0m )\n\u001B[0;32m   1636\u001B[0m compiled_sql, extracted_params, cache_hit \u001B[38;5;241m=\u001B[39m elem\u001B[38;5;241m.\u001B[39m_compile_w_cache(\n\u001B[0;32m   1637\u001B[0m     dialect\u001B[38;5;241m=\u001B[39mdialect,\n\u001B[0;32m   1638\u001B[0m     compiled_cache\u001B[38;5;241m=\u001B[39mcompiled_cache,\n\u001B[1;32m   (...)\u001B[0m\n\u001B[0;32m   1642\u001B[0m     linting\u001B[38;5;241m=\u001B[39m\u001B[38;5;28mself\u001B[39m\u001B[38;5;241m.\u001B[39mdialect\u001B[38;5;241m.\u001B[39mcompiler_linting \u001B[38;5;241m|\u001B[39m compiler\u001B[38;5;241m.\u001B[39mWARN_LINTING,\n\u001B[0;32m   1643\u001B[0m )\n\u001B[1;32m-> 1644\u001B[0m ret \u001B[38;5;241m=\u001B[39m \u001B[38;5;28;43mself\u001B[39;49m\u001B[38;5;241;43m.\u001B[39;49m\u001B[43m_execute_context\u001B[49m\u001B[43m(\u001B[49m\n\u001B[0;32m   1645\u001B[0m \u001B[43m    \u001B[49m\u001B[43mdialect\u001B[49m\u001B[43m,\u001B[49m\n\u001B[0;32m   1646\u001B[0m \u001B[43m    \u001B[49m\u001B[43mdialect\u001B[49m\u001B[38;5;241;43m.\u001B[39;49m\u001B[43mexecution_ctx_cls\u001B[49m\u001B[38;5;241;43m.\u001B[39;49m\u001B[43m_init_compiled\u001B[49m\u001B[43m,\u001B[49m\n\u001B[0;32m   1647\u001B[0m \u001B[43m    \u001B[49m\u001B[43mcompiled_sql\u001B[49m\u001B[43m,\u001B[49m\n\u001B[0;32m   1648\u001B[0m \u001B[43m    \u001B[49m\u001B[43mdistilled_parameters\u001B[49m\u001B[43m,\u001B[49m\n\u001B[0;32m   1649\u001B[0m \u001B[43m    \u001B[49m\u001B[43mexecution_options\u001B[49m\u001B[43m,\u001B[49m\n\u001B[0;32m   1650\u001B[0m \u001B[43m    \u001B[49m\u001B[43mcompiled_sql\u001B[49m\u001B[43m,\u001B[49m\n\u001B[0;32m   1651\u001B[0m \u001B[43m    \u001B[49m\u001B[43mdistilled_parameters\u001B[49m\u001B[43m,\u001B[49m\n\u001B[0;32m   1652\u001B[0m \u001B[43m    \u001B[49m\u001B[43melem\u001B[49m\u001B[43m,\u001B[49m\n\u001B[0;32m   1653\u001B[0m \u001B[43m    \u001B[49m\u001B[43mextracted_params\u001B[49m\u001B[43m,\u001B[49m\n\u001B[0;32m   1654\u001B[0m \u001B[43m    \u001B[49m\u001B[43mcache_hit\u001B[49m\u001B[38;5;241;43m=\u001B[39;49m\u001B[43mcache_hit\u001B[49m\u001B[43m,\u001B[49m\n\u001B[0;32m   1655\u001B[0m \u001B[43m\u001B[49m\u001B[43m)\u001B[49m\n\u001B[0;32m   1656\u001B[0m \u001B[38;5;28;01mif\u001B[39;00m has_events:\n\u001B[0;32m   1657\u001B[0m     \u001B[38;5;28mself\u001B[39m\u001B[38;5;241m.\u001B[39mdispatch\u001B[38;5;241m.\u001B[39mafter_execute(\n\u001B[0;32m   1658\u001B[0m         \u001B[38;5;28mself\u001B[39m,\n\u001B[0;32m   1659\u001B[0m         elem,\n\u001B[1;32m   (...)\u001B[0m\n\u001B[0;32m   1663\u001B[0m         ret,\n\u001B[0;32m   1664\u001B[0m     )\n",
      "File \u001B[1;32m~\\Miniconda3\\lib\\site-packages\\sqlalchemy\\engine\\base.py:1850\u001B[0m, in \u001B[0;36mConnection._execute_context\u001B[1;34m(self, dialect, constructor, statement, parameters, execution_options, *args, **kw)\u001B[0m\n\u001B[0;32m   1848\u001B[0m     \u001B[38;5;28;01mreturn\u001B[39;00m \u001B[38;5;28mself\u001B[39m\u001B[38;5;241m.\u001B[39m_exec_insertmany_context(dialect, context)\n\u001B[0;32m   1849\u001B[0m \u001B[38;5;28;01melse\u001B[39;00m:\n\u001B[1;32m-> 1850\u001B[0m     \u001B[38;5;28;01mreturn\u001B[39;00m \u001B[38;5;28;43mself\u001B[39;49m\u001B[38;5;241;43m.\u001B[39;49m\u001B[43m_exec_single_context\u001B[49m\u001B[43m(\u001B[49m\n\u001B[0;32m   1851\u001B[0m \u001B[43m        \u001B[49m\u001B[43mdialect\u001B[49m\u001B[43m,\u001B[49m\u001B[43m \u001B[49m\u001B[43mcontext\u001B[49m\u001B[43m,\u001B[49m\u001B[43m \u001B[49m\u001B[43mstatement\u001B[49m\u001B[43m,\u001B[49m\u001B[43m \u001B[49m\u001B[43mparameters\u001B[49m\n\u001B[0;32m   1852\u001B[0m \u001B[43m    \u001B[49m\u001B[43m)\u001B[49m\n",
      "File \u001B[1;32m~\\Miniconda3\\lib\\site-packages\\sqlalchemy\\engine\\base.py:1990\u001B[0m, in \u001B[0;36mConnection._exec_single_context\u001B[1;34m(self, dialect, context, statement, parameters)\u001B[0m\n\u001B[0;32m   1987\u001B[0m     result \u001B[38;5;241m=\u001B[39m context\u001B[38;5;241m.\u001B[39m_setup_result_proxy()\n\u001B[0;32m   1989\u001B[0m \u001B[38;5;28;01mexcept\u001B[39;00m \u001B[38;5;167;01mBaseException\u001B[39;00m \u001B[38;5;28;01mas\u001B[39;00m e:\n\u001B[1;32m-> 1990\u001B[0m     \u001B[38;5;28;43mself\u001B[39;49m\u001B[38;5;241;43m.\u001B[39;49m\u001B[43m_handle_dbapi_exception\u001B[49m\u001B[43m(\u001B[49m\n\u001B[0;32m   1991\u001B[0m \u001B[43m        \u001B[49m\u001B[43me\u001B[49m\u001B[43m,\u001B[49m\u001B[43m \u001B[49m\u001B[43mstr_statement\u001B[49m\u001B[43m,\u001B[49m\u001B[43m \u001B[49m\u001B[43meffective_parameters\u001B[49m\u001B[43m,\u001B[49m\u001B[43m \u001B[49m\u001B[43mcursor\u001B[49m\u001B[43m,\u001B[49m\u001B[43m \u001B[49m\u001B[43mcontext\u001B[49m\n\u001B[0;32m   1992\u001B[0m \u001B[43m    \u001B[49m\u001B[43m)\u001B[49m\n\u001B[0;32m   1994\u001B[0m \u001B[38;5;28;01mreturn\u001B[39;00m result\n",
      "File \u001B[1;32m~\\Miniconda3\\lib\\site-packages\\sqlalchemy\\engine\\base.py:2357\u001B[0m, in \u001B[0;36mConnection._handle_dbapi_exception\u001B[1;34m(self, e, statement, parameters, cursor, context, is_sub_exec)\u001B[0m\n\u001B[0;32m   2355\u001B[0m \u001B[38;5;28;01melif\u001B[39;00m should_wrap:\n\u001B[0;32m   2356\u001B[0m     \u001B[38;5;28;01massert\u001B[39;00m sqlalchemy_exception \u001B[38;5;129;01mis\u001B[39;00m \u001B[38;5;129;01mnot\u001B[39;00m \u001B[38;5;28;01mNone\u001B[39;00m\n\u001B[1;32m-> 2357\u001B[0m     \u001B[38;5;28;01mraise\u001B[39;00m sqlalchemy_exception\u001B[38;5;241m.\u001B[39mwith_traceback(exc_info[\u001B[38;5;241m2\u001B[39m]) \u001B[38;5;28;01mfrom\u001B[39;00m \u001B[38;5;21;01me\u001B[39;00m\n\u001B[0;32m   2358\u001B[0m \u001B[38;5;28;01melse\u001B[39;00m:\n\u001B[0;32m   2359\u001B[0m     \u001B[38;5;28;01massert\u001B[39;00m exc_info[\u001B[38;5;241m1\u001B[39m] \u001B[38;5;129;01mis\u001B[39;00m \u001B[38;5;129;01mnot\u001B[39;00m \u001B[38;5;28;01mNone\u001B[39;00m\n",
      "File \u001B[1;32m~\\Miniconda3\\lib\\site-packages\\sqlalchemy\\engine\\base.py:1971\u001B[0m, in \u001B[0;36mConnection._exec_single_context\u001B[1;34m(self, dialect, context, statement, parameters)\u001B[0m\n\u001B[0;32m   1969\u001B[0m                 \u001B[38;5;28;01mbreak\u001B[39;00m\n\u001B[0;32m   1970\u001B[0m     \u001B[38;5;28;01mif\u001B[39;00m \u001B[38;5;129;01mnot\u001B[39;00m evt_handled:\n\u001B[1;32m-> 1971\u001B[0m         \u001B[38;5;28;43mself\u001B[39;49m\u001B[38;5;241;43m.\u001B[39;49m\u001B[43mdialect\u001B[49m\u001B[38;5;241;43m.\u001B[39;49m\u001B[43mdo_execute\u001B[49m\u001B[43m(\u001B[49m\n\u001B[0;32m   1972\u001B[0m \u001B[43m            \u001B[49m\u001B[43mcursor\u001B[49m\u001B[43m,\u001B[49m\u001B[43m \u001B[49m\u001B[43mstr_statement\u001B[49m\u001B[43m,\u001B[49m\u001B[43m \u001B[49m\u001B[43meffective_parameters\u001B[49m\u001B[43m,\u001B[49m\u001B[43m \u001B[49m\u001B[43mcontext\u001B[49m\n\u001B[0;32m   1973\u001B[0m \u001B[43m        \u001B[49m\u001B[43m)\u001B[49m\n\u001B[0;32m   1975\u001B[0m \u001B[38;5;28;01mif\u001B[39;00m \u001B[38;5;28mself\u001B[39m\u001B[38;5;241m.\u001B[39m_has_events \u001B[38;5;129;01mor\u001B[39;00m \u001B[38;5;28mself\u001B[39m\u001B[38;5;241m.\u001B[39mengine\u001B[38;5;241m.\u001B[39m_has_events:\n\u001B[0;32m   1976\u001B[0m     \u001B[38;5;28mself\u001B[39m\u001B[38;5;241m.\u001B[39mdispatch\u001B[38;5;241m.\u001B[39mafter_cursor_execute(\n\u001B[0;32m   1977\u001B[0m         \u001B[38;5;28mself\u001B[39m,\n\u001B[0;32m   1978\u001B[0m         cursor,\n\u001B[1;32m   (...)\u001B[0m\n\u001B[0;32m   1982\u001B[0m         context\u001B[38;5;241m.\u001B[39mexecutemany,\n\u001B[0;32m   1983\u001B[0m     )\n",
      "File \u001B[1;32m~\\Miniconda3\\lib\\site-packages\\sqlalchemy\\engine\\default.py:919\u001B[0m, in \u001B[0;36mDefaultDialect.do_execute\u001B[1;34m(self, cursor, statement, parameters, context)\u001B[0m\n\u001B[0;32m    918\u001B[0m \u001B[38;5;28;01mdef\u001B[39;00m \u001B[38;5;21mdo_execute\u001B[39m(\u001B[38;5;28mself\u001B[39m, cursor, statement, parameters, context\u001B[38;5;241m=\u001B[39m\u001B[38;5;28;01mNone\u001B[39;00m):\n\u001B[1;32m--> 919\u001B[0m     \u001B[43mcursor\u001B[49m\u001B[38;5;241;43m.\u001B[39;49m\u001B[43mexecute\u001B[49m\u001B[43m(\u001B[49m\u001B[43mstatement\u001B[49m\u001B[43m,\u001B[49m\u001B[43m \u001B[49m\u001B[43mparameters\u001B[49m\u001B[43m)\u001B[49m\n",
      "\u001B[1;31mOperationalError\u001B[0m: (psycopg2.OperationalError) server closed the connection unexpectedly\n\tThis probably means the server terminated abnormally\n\tbefore or while processing the request.\nserver closed the connection unexpectedly\n\tThis probably means the server terminated abnormally\n\tbefore or while processing the request.\n\n[SQL: SELECT pg_catalog.pg_class.relname \nFROM pg_catalog.pg_class JOIN pg_catalog.pg_namespace ON pg_catalog.pg_namespace.oid = pg_catalog.pg_class.relnamespace \nWHERE pg_catalog.pg_class.relname = %(table_name)s AND pg_catalog.pg_class.relkind = ANY (ARRAY[%(param_1)s, %(param_2)s, %(param_3)s, %(param_4)s, %(param_5)s]) AND pg_catalog.pg_namespace.nspname = %(nspname_1)s]\n[parameters: {'table_name': 'links_pt_0', 'param_1': 'r', 'param_2': 'p', 'param_3': 'f', 'param_4': 'v', 'param_5': 'm', 'nspname_1': 'pt_0_baseline'}]\n(Background on this error at: https://sqlalche.me/e/20/e3q8)"
     ]
    }
   ],
   "source": [
    "# Step 19 (optional): Export the 'links_baseline' GeoDataFrame to the DB\n",
    "links_pt_0.to_postgis('links_pt_0', engine, schema='pt_0_baseline', if_exists ='replace')"
   ],
   "metadata": {
    "collapsed": false,
    "pycharm": {
     "name": "#%%\n"
    }
   }
  }
 ],
 "metadata": {
  "kernelspec": {
   "display_name": "Python 3",
   "language": "python",
   "name": "python3"
  },
  "language_info": {
   "codemirror_mode": {
    "name": "ipython",
    "version": 2
   },
   "file_extension": ".py",
   "mimetype": "text/x-python",
   "name": "python",
   "nbconvert_exporter": "python",
   "pygments_lexer": "ipython2",
   "version": "2.7.6"
  }
 },
 "nbformat": 4,
 "nbformat_minor": 0
}