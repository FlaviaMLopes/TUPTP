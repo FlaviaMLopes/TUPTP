{
 "cells": [
  {
   "cell_type": "markdown",
   "source": [
    "## Baseline_tables"
   ],
   "metadata": {
    "collapsed": false,
    "pycharm": {
     "name": "#%% md\n"
    }
   }
  },
  {
   "cell_type": "markdown",
   "source": [
    "#### Import libraries"
   ],
   "metadata": {
    "collapsed": false,
    "pycharm": {
     "name": "#%% md\n"
    }
   }
  },
  {
   "cell_type": "code",
   "execution_count": 1,
   "outputs": [
    {
     "name": "stderr",
     "output_type": "stream",
     "text": [
      "C:\\Users\\monaliza\\Miniconda3\\lib\\site-packages\\scipy\\__init__.py:146: UserWarning: A NumPy version >=1.17.3 and <1.25.0 is required for this version of SciPy (detected version 1.26.4\n",
      "  warnings.warn(f\"A NumPy version >={np_minversion} and <{np_maxversion}\"\n"
     ]
    }
   ],
   "source": [
    "# Step 1: Import libraries\n",
    "import geopandas as gpd\n",
    "import pandas as pd\n",
    "import numpy as np\n",
    "import osmnx as ox\n",
    "from sqlalchemy import text\n",
    "from sqlalchemy import create_engine\n",
    "from shapely.geometry import LineString"
   ],
   "metadata": {
    "collapsed": false,
    "pycharm": {
     "name": "#%%\n"
    }
   }
  },
  {
   "cell_type": "markdown",
   "source": [
    "#### Create the connection with the DB (optional)"
   ],
   "metadata": {
    "collapsed": false,
    "pycharm": {
     "name": "#%% md\n"
    }
   }
  },
  {
   "cell_type": "code",
   "execution_count": 2,
   "outputs": [],
   "source": [
    "# Step 1: Create the connection with the DB\n",
    "engine = create_engine(\"postgresql://urbaninfo:@cirrus.ita.chalmers.se/se_tuptp\")\n",
    "conn = engine.connect()"
   ],
   "metadata": {
    "collapsed": false,
    "pycharm": {
     "name": "#%%\n"
    }
   }
  },
  {
   "cell_type": "code",
   "execution_count": 3,
   "outputs": [],
   "source": [
    "# Step 2: Create a new schema when it is necessary\n",
    "# schema = '''CREATE SCHEMA name_schema'''\n",
    "# conn.execute(schema)"
   ],
   "metadata": {
    "collapsed": false,
    "pycharm": {
     "name": "#%%\n"
    }
   }
  },
  {
   "cell_type": "markdown",
   "source": [
    "### Nodes\n",
    "\n",
    "###### To create the nodes table, it is necessary to merge OSM (places and streets) data with the GTFS data (stops)."
   ],
   "metadata": {
    "collapsed": false,
    "pycharm": {
     "name": "#%% md\n"
    }
   }
  },
  {
   "cell_type": "markdown",
   "source": [
    "#### Places baseline table"
   ],
   "metadata": {
    "collapsed": false,
    "pycharm": {
     "name": "#%% md\n"
    }
   }
  },
  {
   "cell_type": "code",
   "execution_count": 4,
   "outputs": [],
   "source": [
    "# Step 1: Extract the geographic information from the OSM database.\n",
    "# In this example, we are utilizing data from Västra Götaland, although these can be modified based on specific requirements.\n",
    "places = ox.geocode_to_gdf(['Askersund, Sweden','Ale, Sweden','Alingsås, Sweden',\n",
    "                            'Åmål, Sweden', 'Bengtsfors, Sweden', 'Bollebygd, Sweden',\n",
    "                            ' Borås, Sweden', 'Dals-Ed, Sweden','Essunga, Sweden',\n",
    "                            'Falköping, Sweden','Färgelanda, Sweden', 'Göteborg, Sweden',\n",
    "                            'Götene, Sweden', 'Grästorp, Sweden', 'Gullspång, Sweden',\n",
    "                            'Härryda, Sweden', 'Herrljunga, Sweden', 'Hjo, Sweden',\n",
    "                            'Karlsborg, Sweden', 'Kungälv, Sweden', 'Lerum, Sweden',\n",
    "                            'Lidköping, Sweden', 'Lilla Edet, Sweden', 'Lysekil, Sweden',\n",
    "                            'Mariestad, Sweden', 'Mark, Sweden', 'Mellerud, Sweden',\n",
    "                            'Mölndal, Sweden', 'Munkedal, Sweden', 'Öckerö, Sweden',\n",
    "                            'Orust, Sweden','Partille, Sweden','Skara, Sweden',\n",
    "                            'Skövde, Sweden','Sotenäs, Sweden','Stenungsund, Sweden',\n",
    "                            'Strömstad, Sweden', 'Svenljunga, Sweden', 'Tanum, Sweden',\n",
    "                            'Tibro, Sweden', 'Tidaholm, Sweden', 'Tjörn, Sweden',\n",
    "                            'Töreboda, Sweden', 'Tranemo, Sweden','Trollhättan, Sweden',\n",
    "                            'Uddevalla, Sweden', 'Ulricehamn, Sweden', 'Vänersborg, Sweden',\n",
    "                            'Vara, Sweden','Vårgårda, Sweden', 'Halland, Sweden',\n",
    "                            'Jonkoping, Sweden', 'Ostergotland, Sweden', 'Orebro, Sweden',\n",
    "                            'Varmland, Sweden', 'Habo, Sweden', 'Hallsberg,Sweden',\n",
    "                            'Lekeberg,Sweden', 'Mullsjö, Sweden', 'Gislaved,Sweden',\n",
    "                            'Karlsborg, Sweden', 'Laxa, Sweden', 'Varberg, Sweden',\n",
    "                            'Nässjö, Sweden', 'Gnösjö, Sweden', 'Falkenberg, Sweden',\n",
    "                            'Vaggeryd, Sweden', 'Värnamo, Sweden', 'Halden, Norway',\n",
    "                            'Kumla, Sweden'\n",
    "                            ])"
   ],
   "metadata": {
    "collapsed": false,
    "pycharm": {
     "name": "#%%\n"
    }
   }
  },
  {
   "cell_type": "code",
   "execution_count": 5,
   "outputs": [
    {
     "data": {
      "text/plain": "                                            geometry  bbox_north  bbox_south  \\\n0  MULTIPOLYGON (((478344.395 6521271.033, 478348...   59.026161   58.646225   \n1  POLYGON ((322429.991 6416232.985, 322432.839 6...   58.118035   57.806263   \n2  POLYGON ((342627.196 6426078.884, 342647.946 6...   58.198126   57.761922   \n3  POLYGON ((350801.238 6543563.250, 351188.303 6...   59.186071   58.747233   \n4  MULTIPOLYGON (((319014.499 6567146.864, 319302...   59.263584   58.749612   \n\n   bbox_east  bbox_west   place_id  osm_type  osm_id        lat        lon  \\\n0  15.347592  14.624906  143326451  relation  935513  58.866667  14.916667   \n1  12.434704  12.007589  146629155  relation  935506  58.000000  12.283333   \n2  12.710975  12.340988  145826287  relation  935547  57.999850  12.500037   \n3  12.899666  12.402254  143743192  relation  935601  58.983838  12.612671   \n4  12.468416  11.830215  143763211  relation  935491  59.032659  12.219105   \n\n      class            type  place_rank  importance   addresstype  \\\n0  boundary  administrative          14    0.450112  municipality   \n1  boundary  administrative          14    0.471351  municipality   \n2  boundary  administrative          14    0.469773  municipality   \n3  boundary  administrative          14    0.462139  municipality   \n4  boundary  administrative          14    0.473632  municipality   \n\n                name                                       display_name  \n0  Askersunds kommun           Askersunds kommun, Örebro County, Sweden  \n1         Ale kommun         Ale kommun, Västra Götaland County, Sweden  \n2    Alingsås kommun    Alingsås kommun, Västra Götaland County, Sweden  \n3       Åmåls kommun       Åmåls kommun, Västra Götaland County, Sweden  \n4  Bengtsfors kommun  Bengtsfors kommun, Västra Götaland County, Sweden  ",
      "text/html": "<div>\n<style scoped>\n    .dataframe tbody tr th:only-of-type {\n        vertical-align: middle;\n    }\n\n    .dataframe tbody tr th {\n        vertical-align: top;\n    }\n\n    .dataframe thead th {\n        text-align: right;\n    }\n</style>\n<table border=\"1\" class=\"dataframe\">\n  <thead>\n    <tr style=\"text-align: right;\">\n      <th></th>\n      <th>geometry</th>\n      <th>bbox_north</th>\n      <th>bbox_south</th>\n      <th>bbox_east</th>\n      <th>bbox_west</th>\n      <th>place_id</th>\n      <th>osm_type</th>\n      <th>osm_id</th>\n      <th>lat</th>\n      <th>lon</th>\n      <th>class</th>\n      <th>type</th>\n      <th>place_rank</th>\n      <th>importance</th>\n      <th>addresstype</th>\n      <th>name</th>\n      <th>display_name</th>\n    </tr>\n  </thead>\n  <tbody>\n    <tr>\n      <th>0</th>\n      <td>MULTIPOLYGON (((478344.395 6521271.033, 478348...</td>\n      <td>59.026161</td>\n      <td>58.646225</td>\n      <td>15.347592</td>\n      <td>14.624906</td>\n      <td>143326451</td>\n      <td>relation</td>\n      <td>935513</td>\n      <td>58.866667</td>\n      <td>14.916667</td>\n      <td>boundary</td>\n      <td>administrative</td>\n      <td>14</td>\n      <td>0.450112</td>\n      <td>municipality</td>\n      <td>Askersunds kommun</td>\n      <td>Askersunds kommun, Örebro County, Sweden</td>\n    </tr>\n    <tr>\n      <th>1</th>\n      <td>POLYGON ((322429.991 6416232.985, 322432.839 6...</td>\n      <td>58.118035</td>\n      <td>57.806263</td>\n      <td>12.434704</td>\n      <td>12.007589</td>\n      <td>146629155</td>\n      <td>relation</td>\n      <td>935506</td>\n      <td>58.000000</td>\n      <td>12.283333</td>\n      <td>boundary</td>\n      <td>administrative</td>\n      <td>14</td>\n      <td>0.471351</td>\n      <td>municipality</td>\n      <td>Ale kommun</td>\n      <td>Ale kommun, Västra Götaland County, Sweden</td>\n    </tr>\n    <tr>\n      <th>2</th>\n      <td>POLYGON ((342627.196 6426078.884, 342647.946 6...</td>\n      <td>58.198126</td>\n      <td>57.761922</td>\n      <td>12.710975</td>\n      <td>12.340988</td>\n      <td>145826287</td>\n      <td>relation</td>\n      <td>935547</td>\n      <td>57.999850</td>\n      <td>12.500037</td>\n      <td>boundary</td>\n      <td>administrative</td>\n      <td>14</td>\n      <td>0.469773</td>\n      <td>municipality</td>\n      <td>Alingsås kommun</td>\n      <td>Alingsås kommun, Västra Götaland County, Sweden</td>\n    </tr>\n    <tr>\n      <th>3</th>\n      <td>POLYGON ((350801.238 6543563.250, 351188.303 6...</td>\n      <td>59.186071</td>\n      <td>58.747233</td>\n      <td>12.899666</td>\n      <td>12.402254</td>\n      <td>143743192</td>\n      <td>relation</td>\n      <td>935601</td>\n      <td>58.983838</td>\n      <td>12.612671</td>\n      <td>boundary</td>\n      <td>administrative</td>\n      <td>14</td>\n      <td>0.462139</td>\n      <td>municipality</td>\n      <td>Åmåls kommun</td>\n      <td>Åmåls kommun, Västra Götaland County, Sweden</td>\n    </tr>\n    <tr>\n      <th>4</th>\n      <td>MULTIPOLYGON (((319014.499 6567146.864, 319302...</td>\n      <td>59.263584</td>\n      <td>58.749612</td>\n      <td>12.468416</td>\n      <td>11.830215</td>\n      <td>143763211</td>\n      <td>relation</td>\n      <td>935491</td>\n      <td>59.032659</td>\n      <td>12.219105</td>\n      <td>boundary</td>\n      <td>administrative</td>\n      <td>14</td>\n      <td>0.473632</td>\n      <td>municipality</td>\n      <td>Bengtsfors kommun</td>\n      <td>Bengtsfors kommun, Västra Götaland County, Sweden</td>\n    </tr>\n  </tbody>\n</table>\n</div>"
     },
     "execution_count": 5,
     "metadata": {},
     "output_type": "execute_result"
    }
   ],
   "source": [
    "# Step 2: Reproject the places GeoDataFrame according to specific requirements.\n",
    "places = ox.projection.project_gdf(to_crs='epsg:3006', gdf= places)\n",
    "\n",
    "# Step 3 (optional): Display the places GeoDataFrame\n",
    "places.head()"
   ],
   "metadata": {
    "collapsed": false,
    "pycharm": {
     "name": "#%%\n"
    }
   }
  },
  {
   "cell_type": "code",
   "execution_count": 6,
   "outputs": [],
   "source": [
    "# Step 4 (optional): Export the file to the DB\n",
    "places.to_postgis('places', engine, schema='pt_0_baseline', if_exists='replace')"
   ],
   "metadata": {
    "collapsed": false,
    "pycharm": {
     "name": "#%%\n"
    }
   }
  },
  {
   "cell_type": "markdown",
   "source": [
    "#### Streets baseline table"
   ],
   "metadata": {
    "collapsed": false,
    "pycharm": {
     "name": "#%% md\n"
    }
   }
  },
  {
   "cell_type": "code",
   "execution_count": 7,
   "outputs": [],
   "source": [
    "# Step 1: Create the street baseline table\n",
    "# In this example, we are importing an extracted and cleaned OSM street network model from our database. To see an example of how to do this, please refer to the specific folder.\n",
    "# This street network model can also originate from other sources, provided the streets have unique IDs.\n",
    "street_network_query = text('SELECT * FROM p2_gm_opensourcedata.p2_gm_allnetwork')\n",
    "street_network = gpd.read_postgis(street_network_query, engine, geom_col='geometry')"
   ],
   "metadata": {
    "collapsed": false,
    "pycharm": {
     "name": "#%%\n"
    }
   }
  },
  {
   "cell_type": "markdown",
   "source": [
    "#### Create the nodes model"
   ],
   "metadata": {
    "collapsed": false,
    "pycharm": {
     "name": "#%% md\n"
    }
   }
  },
  {
   "cell_type": "code",
   "execution_count": 8,
   "outputs": [],
   "source": [
    "# Step 1: Import the necessary files from the GTFS dataset (stops.txt)\n",
    "# In this example, we are utilizing data from Västra Götaland, although these can be modified based on specific requirements.\n",
    "#stops\n",
    "raw_stops_gtfs = text('''SELECT * FROM p1_gtfs.regional_stops''')\n",
    "stops_gtfs = gpd.read_postgis(raw_stops_gtfs, engine, geom_col='geometry')"
   ],
   "metadata": {
    "collapsed": false,
    "pycharm": {
     "name": "#%%\n"
    }
   }
  },
  {
   "cell_type": "code",
   "execution_count": 9,
   "outputs": [],
   "source": [
    "# Preprocess the data\n",
    "# Step 3: Create the stops_gtfs GeoDataFrame from the oiginal file\n",
    "stops_geodataframe = gpd.GeoDataFrame(stops_gtfs, geometry=gpd.points_from_xy(stops_gtfs.stop_lon,\n",
    "                                                                              stops_gtfs.stop_lat), crs='epsg:4326')\n",
    "\n",
    "# Step 4: Reproject the GeoDataFrame according to specific requirements.\n",
    "stops_geodataframe = ox.projection.project_gdf(stops_geodataframe, to_crs='epsg:3006')"
   ],
   "metadata": {
    "collapsed": false,
    "pycharm": {
     "name": "#%%\n"
    }
   }
  },
  {
   "cell_type": "code",
   "execution_count": 10,
   "outputs": [
    {
     "data": {
      "text/plain": "               stop_id           stop_name   place_id  \\\n9236  9022014001004001  Amhult Resecentrum  145235353   \n9237  9022014001004002  Amhult Resecentrum  145235353   \n9238  9022014001004003  Amhult Resecentrum  145235353   \n9239  9022014001004004  Amhult Resecentrum  145235353   \n9240  9022014001004005  Amhult Resecentrum  145235353   \n\n                            geometry  \n9236  POINT (308137.973 6400982.960)  \n9237  POINT (308174.952 6400959.904)  \n9238  POINT (308179.982 6400938.925)  \n9239  POINT (308152.980 6400960.949)  \n9240  POINT (308122.947 6400966.949)  ",
      "text/html": "<div>\n<style scoped>\n    .dataframe tbody tr th:only-of-type {\n        vertical-align: middle;\n    }\n\n    .dataframe tbody tr th {\n        vertical-align: top;\n    }\n\n    .dataframe thead th {\n        text-align: right;\n    }\n</style>\n<table border=\"1\" class=\"dataframe\">\n  <thead>\n    <tr style=\"text-align: right;\">\n      <th></th>\n      <th>stop_id</th>\n      <th>stop_name</th>\n      <th>place_id</th>\n      <th>geometry</th>\n    </tr>\n  </thead>\n  <tbody>\n    <tr>\n      <th>9236</th>\n      <td>9022014001004001</td>\n      <td>Amhult Resecentrum</td>\n      <td>145235353</td>\n      <td>POINT (308137.973 6400982.960)</td>\n    </tr>\n    <tr>\n      <th>9237</th>\n      <td>9022014001004002</td>\n      <td>Amhult Resecentrum</td>\n      <td>145235353</td>\n      <td>POINT (308174.952 6400959.904)</td>\n    </tr>\n    <tr>\n      <th>9238</th>\n      <td>9022014001004003</td>\n      <td>Amhult Resecentrum</td>\n      <td>145235353</td>\n      <td>POINT (308179.982 6400938.925)</td>\n    </tr>\n    <tr>\n      <th>9239</th>\n      <td>9022014001004004</td>\n      <td>Amhult Resecentrum</td>\n      <td>145235353</td>\n      <td>POINT (308152.980 6400960.949)</td>\n    </tr>\n    <tr>\n      <th>9240</th>\n      <td>9022014001004005</td>\n      <td>Amhult Resecentrum</td>\n      <td>145235353</td>\n      <td>POINT (308122.947 6400966.949)</td>\n    </tr>\n  </tbody>\n</table>\n</div>"
     },
     "execution_count": 10,
     "metadata": {},
     "output_type": "execute_result"
    }
   ],
   "source": [
    "# Join with the places table\n",
    "# Step 5: Create the spatial join between the 'stops_geodataframe' and 'places' GeoDataFrames\n",
    "nodes_sjoin_l1 = stops_geodataframe.sjoin (places, how=\"left\")\n",
    "\n",
    "# Step 6: Set the geometry of the 'stop_place_id' GeoDataFrame\n",
    "nodes_sjoin_l1 = gpd.GeoDataFrame(nodes_sjoin_l1, geometry='geometry', crs='EPSG:3006')\n",
    "\n",
    "# Step 7: Clean the data by removing 'fake' parent stations and dropping duplicate stop_IDs\n",
    "nodes_sjoin_l1 = nodes_sjoin_l1 [nodes_sjoin_l1['parent_station'].notnull()].drop_duplicates(subset=['stop_id'])\n",
    "\n",
    "# Step 8: Clean the data\n",
    "nodes_sjoin_l1 = nodes_sjoin_l1 [['stop_id', 'stop_name', 'place_id', 'geometry']]\n",
    "\n",
    "# Step 9 (optional): Display the 'nodes_baseline' GeoDataFrame\n",
    "nodes_sjoin_l1.head()"
   ],
   "metadata": {
    "collapsed": false,
    "pycharm": {
     "name": "#%%\n"
    }
   }
  },
  {
   "cell_type": "code",
   "execution_count": 11,
   "outputs": [
    {
     "data": {
      "text/plain": "               stop_id           stop_name   place_id        osmid  \\\n9236  9022014001004001  Amhult Resecentrum  145235353  290390139.0   \n9237  9022014001004002  Amhult Resecentrum  145235353  846315401.0   \n9238  9022014001004003  Amhult Resecentrum  145235353  846315401.0   \n9239  9022014001004004  Amhult Resecentrum  145235353  846315401.0   \n9240  9022014001004005  Amhult Resecentrum  145235353  868843476.0   \n\n                            geometry  \n9236  POINT (308137.973 6400982.960)  \n9237  POINT (308174.952 6400959.904)  \n9238  POINT (308179.982 6400938.925)  \n9239  POINT (308152.980 6400960.949)  \n9240  POINT (308122.947 6400966.949)  ",
      "text/html": "<div>\n<style scoped>\n    .dataframe tbody tr th:only-of-type {\n        vertical-align: middle;\n    }\n\n    .dataframe tbody tr th {\n        vertical-align: top;\n    }\n\n    .dataframe thead th {\n        text-align: right;\n    }\n</style>\n<table border=\"1\" class=\"dataframe\">\n  <thead>\n    <tr style=\"text-align: right;\">\n      <th></th>\n      <th>stop_id</th>\n      <th>stop_name</th>\n      <th>place_id</th>\n      <th>osmid</th>\n      <th>geometry</th>\n    </tr>\n  </thead>\n  <tbody>\n    <tr>\n      <th>9236</th>\n      <td>9022014001004001</td>\n      <td>Amhult Resecentrum</td>\n      <td>145235353</td>\n      <td>290390139.0</td>\n      <td>POINT (308137.973 6400982.960)</td>\n    </tr>\n    <tr>\n      <th>9237</th>\n      <td>9022014001004002</td>\n      <td>Amhult Resecentrum</td>\n      <td>145235353</td>\n      <td>846315401.0</td>\n      <td>POINT (308174.952 6400959.904)</td>\n    </tr>\n    <tr>\n      <th>9238</th>\n      <td>9022014001004003</td>\n      <td>Amhult Resecentrum</td>\n      <td>145235353</td>\n      <td>846315401.0</td>\n      <td>POINT (308179.982 6400938.925)</td>\n    </tr>\n    <tr>\n      <th>9239</th>\n      <td>9022014001004004</td>\n      <td>Amhult Resecentrum</td>\n      <td>145235353</td>\n      <td>846315401.0</td>\n      <td>POINT (308152.980 6400960.949)</td>\n    </tr>\n    <tr>\n      <th>9240</th>\n      <td>9022014001004005</td>\n      <td>Amhult Resecentrum</td>\n      <td>145235353</td>\n      <td>868843476.0</td>\n      <td>POINT (308122.947 6400966.949)</td>\n    </tr>\n  </tbody>\n</table>\n</div>"
     },
     "execution_count": 11,
     "metadata": {},
     "output_type": "execute_result"
    }
   ],
   "source": [
    "# Join with the street network\n",
    "# Step 10: Perform a spatial join between the 'sjoin_stops_places' and the 'street_network' GeoDataFrames\n",
    "nodes_sjoin_l2 = nodes_sjoin_l1.sjoin_nearest(street_network, how='left',\n",
    "                                              max_distance=500).drop_duplicates(subset=['stop_id','osmid'])\n",
    "\n",
    "# Step 11: Clean the data\n",
    "nodes_pt_0 = nodes_sjoin_l2 [['stop_id', 'stop_name', 'place_id', 'osmid', 'geometry']]\n",
    "\n",
    "#Step 12 (optional): Display the 'nodes_baseline' GeoDataFrame\n",
    "nodes_pt_0.head()"
   ],
   "metadata": {
    "collapsed": false,
    "pycharm": {
     "name": "#%%\n"
    }
   }
  },
  {
   "cell_type": "code",
   "execution_count": 12,
   "outputs": [],
   "source": [
    "#Step 13 (optional): Export the 'nodes_baseline' GeoDataFrame to the DB\n",
    "nodes_pt_0.to_postgis('nodes_pt_0', engine, schema=\"pt_0_baseline\", if_exists ='replace')"
   ],
   "metadata": {
    "collapsed": false,
    "pycharm": {
     "name": "#%%\n"
    }
   }
  },
  {
   "cell_type": "markdown",
   "source": [
    "### Links"
   ],
   "metadata": {
    "collapsed": false,
    "pycharm": {
     "name": "#%% md\n"
    }
   }
  },
  {
   "cell_type": "code",
   "execution_count": 13,
   "outputs": [],
   "source": [
    "# Step 1: Import the necessary files from the GTFS dataset\n",
    "# In this example, we are utilizing data from Västra Götaland, although these can be modified based on specific requirements.\n",
    "# routes\n",
    "raw_routes_gtfs = text('''SELECT * FROM p1_gtfs.regional_routes''')\n",
    "routes_gtfs = pd.read_sql(raw_routes_gtfs, engine)\n",
    "# trips\n",
    "raw_trips_gtfs = text('''SELECT * FROM p1_gtfs.regional_trips''')\n",
    "trips_gtfs = pd.read_sql(raw_trips_gtfs, engine)\n",
    "# stop_times\n",
    "raw_stop_times_gtfs = text('''SELECT * FROM p1_gtfs.regional_stoptimes''')\n",
    "stop_times_gtfs = pd.read_sql(raw_stop_times_gtfs, engine)"
   ],
   "metadata": {
    "collapsed": false,
    "pycharm": {
     "name": "#%%\n"
    }
   }
  },
  {
   "cell_type": "code",
   "execution_count": 14,
   "outputs": [
    {
     "data": {
      "text/plain": "           route_id route_short_name  route_type  service_id  \\\n0  9011092020200000             FLYG         700         360   \n1  9011092020200000             FLYG         700         360   \n2  9011092020200000             FLYG         700         360   \n3  9011092020200000             FLYG         700         360   \n4  9011092020200000             FLYG         700         360   \n\n              trip_id  direction_id    arrival_time    stop_id_source  \\\n0  141010001168286532             1 0 days 04:20:00  9022014004940004   \n1  141010001168286532             1 0 days 04:24:00  9022014004090004   \n2  141010001168286532             1 0 days 04:27:00  9022014001420002   \n3  141010001168286532             1 0 days 04:30:00  9022014003980014   \n4  141010001168286532             1 0 days 04:51:43  9022014018328002   \n\n   stop_sequence         mode time_period         stop_name_source  \\\n0              1  bus_service  night_dawn  Nils Ericson Terminalen   \n1              2  bus_service  night_dawn        Kungsportsplatsen   \n2              3  bus_service  night_dawn            Berzeliigatan   \n3              4  bus_service  night_dawn                Korsvägen   \n4              5  bus_service  night_dawn              Hangarvägen   \n\n   place_id_source                        geometry  \n0        145235353  POINT (319600.955 6400417.896)  \n1        145235353  POINT (319442.995 6399774.900)  \n2        145235353  POINT (320123.952 6399161.990)  \n3        145235353  POINT (320438.954 6398935.924)  \n4        145582383  POINT (339142.962 6395582.971)  ",
      "text/html": "<div>\n<style scoped>\n    .dataframe tbody tr th:only-of-type {\n        vertical-align: middle;\n    }\n\n    .dataframe tbody tr th {\n        vertical-align: top;\n    }\n\n    .dataframe thead th {\n        text-align: right;\n    }\n</style>\n<table border=\"1\" class=\"dataframe\">\n  <thead>\n    <tr style=\"text-align: right;\">\n      <th></th>\n      <th>route_id</th>\n      <th>route_short_name</th>\n      <th>route_type</th>\n      <th>service_id</th>\n      <th>trip_id</th>\n      <th>direction_id</th>\n      <th>arrival_time</th>\n      <th>stop_id_source</th>\n      <th>stop_sequence</th>\n      <th>mode</th>\n      <th>time_period</th>\n      <th>stop_name_source</th>\n      <th>place_id_source</th>\n      <th>geometry</th>\n    </tr>\n  </thead>\n  <tbody>\n    <tr>\n      <th>0</th>\n      <td>9011092020200000</td>\n      <td>FLYG</td>\n      <td>700</td>\n      <td>360</td>\n      <td>141010001168286532</td>\n      <td>1</td>\n      <td>0 days 04:20:00</td>\n      <td>9022014004940004</td>\n      <td>1</td>\n      <td>bus_service</td>\n      <td>night_dawn</td>\n      <td>Nils Ericson Terminalen</td>\n      <td>145235353</td>\n      <td>POINT (319600.955 6400417.896)</td>\n    </tr>\n    <tr>\n      <th>1</th>\n      <td>9011092020200000</td>\n      <td>FLYG</td>\n      <td>700</td>\n      <td>360</td>\n      <td>141010001168286532</td>\n      <td>1</td>\n      <td>0 days 04:24:00</td>\n      <td>9022014004090004</td>\n      <td>2</td>\n      <td>bus_service</td>\n      <td>night_dawn</td>\n      <td>Kungsportsplatsen</td>\n      <td>145235353</td>\n      <td>POINT (319442.995 6399774.900)</td>\n    </tr>\n    <tr>\n      <th>2</th>\n      <td>9011092020200000</td>\n      <td>FLYG</td>\n      <td>700</td>\n      <td>360</td>\n      <td>141010001168286532</td>\n      <td>1</td>\n      <td>0 days 04:27:00</td>\n      <td>9022014001420002</td>\n      <td>3</td>\n      <td>bus_service</td>\n      <td>night_dawn</td>\n      <td>Berzeliigatan</td>\n      <td>145235353</td>\n      <td>POINT (320123.952 6399161.990)</td>\n    </tr>\n    <tr>\n      <th>3</th>\n      <td>9011092020200000</td>\n      <td>FLYG</td>\n      <td>700</td>\n      <td>360</td>\n      <td>141010001168286532</td>\n      <td>1</td>\n      <td>0 days 04:30:00</td>\n      <td>9022014003980014</td>\n      <td>4</td>\n      <td>bus_service</td>\n      <td>night_dawn</td>\n      <td>Korsvägen</td>\n      <td>145235353</td>\n      <td>POINT (320438.954 6398935.924)</td>\n    </tr>\n    <tr>\n      <th>4</th>\n      <td>9011092020200000</td>\n      <td>FLYG</td>\n      <td>700</td>\n      <td>360</td>\n      <td>141010001168286532</td>\n      <td>1</td>\n      <td>0 days 04:51:43</td>\n      <td>9022014018328002</td>\n      <td>5</td>\n      <td>bus_service</td>\n      <td>night_dawn</td>\n      <td>Hangarvägen</td>\n      <td>145582383</td>\n      <td>POINT (339142.962 6395582.971)</td>\n    </tr>\n  </tbody>\n</table>\n</div>"
     },
     "execution_count": 14,
     "metadata": {},
     "output_type": "execute_result"
    }
   ],
   "source": [
    "# Preprocess the data\n",
    "# Step 2: Merge the gtfs tables\n",
    "gtfs_merge_l1 = pd.merge(routes_gtfs [['route_id', 'route_short_name', 'route_type']],\n",
    "                              trips_gtfs[['route_id', 'service_id', 'trip_id', 'direction_id']], on='route_id', how='inner')\n",
    "gtfs_merge_l2 = pd.merge(gtfs_merge_l1, stop_times_gtfs[['trip_id', 'arrival_time', 'stop_id', 'stop_sequence']],\n",
    "                                        on='trip_id', how='inner')\n",
    "\n",
    "# Step 3: Fix DataFrame column types\n",
    "gtfs_merge_l2['route_id'] = gtfs_merge_l2['route_id'].astype(str)\n",
    "gtfs_merge_l2['trip_id'] = gtfs_merge_l2['trip_id'].astype(str)\n",
    "gtfs_merge_l2['arrival_time'] = pd.to_timedelta(gtfs_merge_l2['arrival_time'])\n",
    "gtfs_merge_l2['stop_id'] = gtfs_merge_l2['stop_id'].astype(str)\n",
    "\n",
    "# Step 4: Set names for route types\n",
    "conditions_routetype = [(gtfs_merge_l2['route_type'] == 100), (gtfs_merge_l2['route_type'] == 700),\n",
    "                        (gtfs_merge_l2['route_type'] == 900), (gtfs_merge_l2['route_type'] == 1000),\n",
    "                        (gtfs_merge_l2['route_type'] == 1501)]\n",
    "values_routetype = ['railway_service', 'bus_service', 'tram_service', 'water_transport_service', 'communal_taxi_service']\n",
    "gtfs_merge_l2 ['mode'] = np.select(conditions_routetype, values_routetype)\n",
    "\n",
    "# Step 5: Set time periods based on the arrival_time\n",
    "conditions_timeperiod = [(gtfs_merge_l2 ['arrival_time'] >'0 days 00:00:00') & (gtfs_merge_l2['arrival_time'] < '0 days 06:00:00'),\n",
    "                         (gtfs_merge_l2['arrival_time'] >= '0 days 06:00:00') & (gtfs_merge_l2 ['arrival_time'] <= '0 days 09:00:00'),\n",
    "                         (gtfs_merge_l2 ['arrival_time'] >= '0 days 09:00:00') & (gtfs_merge_l2 ['arrival_time'] <= '0 days 12:00:00'),\n",
    "                         (gtfs_merge_l2 ['arrival_time'] >= '0 days 12:00:00') & (gtfs_merge_l2 ['arrival_time'] <= '0 days 15:00:00'),\n",
    "                         (gtfs_merge_l2 ['arrival_time'] >= '0 days 15:00:00') & (gtfs_merge_l2 ['arrival_time'] <= '0 days 18:00:00'),\n",
    "                         (gtfs_merge_l2 ['arrival_time'] >= '0 days 18:00:00') & (gtfs_merge_l2 ['arrival_time'] <= '0 days 21:00:00'),\n",
    "                         (gtfs_merge_l2 ['arrival_time'] >= '0 days 21:00:00') & (gtfs_merge_l2 ['arrival_time'] <= '0 days 24:00:00'),\n",
    "                         (gtfs_merge_l2 ['arrival_time'] >= '0 days 24:00:00') & (gtfs_merge_l2 ['arrival_time'] > '1 days 00:00:00')]\n",
    "values_timeperiod = ['night_dawn', 'peak_morning', 'morning', 'afternoon', 'peak_evening', 'evening', 'night','night_dawn']\n",
    "gtfs_merge_l2 ['time_period'] = np.select(conditions_timeperiod, values_timeperiod)\n",
    "\n",
    "# Step 6: Merge the DataFrame with the 'nodes_baseline' GeoDataFrame\n",
    "links_pt_0_l1 = pd.merge(gtfs_merge_l2, nodes_pt_0[['stop_id', 'stop_name', 'place_id', 'geometry']], on='stop_id', how='inner')\n",
    "\n",
    "# Step 7: Change the columns name\n",
    "links_pt_0_l1.rename(columns={'stop_id': 'stop_id_source', 'stop_name': 'stop_name_source', 'place_id':'place_id_source' }, inplace = True)\n",
    "\n",
    "# Step 8 (optional): display the 'links_baseline_l1' GeoDataFrame\n",
    "links_pt_0_l1.head()"
   ],
   "metadata": {
    "collapsed": false,
    "pycharm": {
     "name": "#%%\n"
    }
   }
  },
  {
   "cell_type": "code",
   "execution_count": 15,
   "outputs": [
    {
     "name": "stderr",
     "output_type": "stream",
     "text": [
      "C:\\Users\\monaliza\\AppData\\Local\\Temp\\ipykernel_172\\174838690.py:24: DeprecationWarning: DataFrameGroupBy.apply operated on the grouping columns. This behavior is deprecated, and in a future version of pandas the grouping columns will be excluded from the operation. Either pass `include_groups=False` to exclude the groupings or explicitly select the grouping columns after groupby to silence this warning.\n",
      "  links_pt_0_l1_copy.groupby('trip_id')\n"
     ]
    },
    {
     "data": {
      "text/plain": "           route_id route_short_name  route_type  service_id  \\\n0  9011014505000000               50         700           5   \n1  9011014505000000               50         700           5   \n2  9011014505000000               50         700           5   \n3  9011014505000000               50         700           5   \n4  9011014505000000               50         700           5   \n\n              trip_id  direction_id    arrival_time    stop_id_source  \\\n0  141010001054458148             0 0 days 05:35:00  9022014001760012   \n1  141010001054458148             0 0 days 05:36:37  9022014006242004   \n2  141010001054458148             0 0 days 05:39:40  9022014003645002   \n3  141010001054458148             0 0 days 05:48:00  9022014001410002   \n4  141010001054458148             0 0 days 05:50:06  9022014001370002   \n\n   stop_sequence         mode time_period    stop_name_source  \\\n0              1  bus_service  night_dawn        Brunnsparken   \n1              2  bus_service  night_dawn           Stenpiren   \n2              3  bus_service  night_dawn           Järnvågen   \n3              4  bus_service  night_dawn         Beryllgatan   \n4              5  bus_service  night_dawn  Bergkristallsgatan   \n\n   place_id_source                                           geometry  \\\n0        145235353  LINESTRING (319300.9681938812 6400118.94329882...   \n1        145235353  LINESTRING (318713.9534298249 6400020.97166797...   \n2        145235353  LINESTRING (318203.9588559234 6399558.95525878...   \n3        145235353  LINESTRING (314286.9680952884 6395003.92383626...   \n4        145235353  LINESTRING (314841.95194952097 6394771.9803292...   \n\n         new_time  time_distance    stop_id_target    stop_name_target  \\\n0 0 days 05:36:37           97.0  9022014006242004           Stenpiren   \n1 0 days 05:39:40          183.0  9022014003645002           Järnvågen   \n2 0 days 05:48:00          500.0  9022014001410002         Beryllgatan   \n3 0 days 05:50:06          126.0  9022014001370002  Bergkristallsgatan   \n4 0 days 05:51:19           73.0  9022014006070002         Smyckegatan   \n\n   place_id_target  \n0        145235353  \n1        145235353  \n2        145235353  \n3        145235353  \n4        145235353  ",
      "text/html": "<div>\n<style scoped>\n    .dataframe tbody tr th:only-of-type {\n        vertical-align: middle;\n    }\n\n    .dataframe tbody tr th {\n        vertical-align: top;\n    }\n\n    .dataframe thead th {\n        text-align: right;\n    }\n</style>\n<table border=\"1\" class=\"dataframe\">\n  <thead>\n    <tr style=\"text-align: right;\">\n      <th></th>\n      <th>route_id</th>\n      <th>route_short_name</th>\n      <th>route_type</th>\n      <th>service_id</th>\n      <th>trip_id</th>\n      <th>direction_id</th>\n      <th>arrival_time</th>\n      <th>stop_id_source</th>\n      <th>stop_sequence</th>\n      <th>mode</th>\n      <th>time_period</th>\n      <th>stop_name_source</th>\n      <th>place_id_source</th>\n      <th>geometry</th>\n      <th>new_time</th>\n      <th>time_distance</th>\n      <th>stop_id_target</th>\n      <th>stop_name_target</th>\n      <th>place_id_target</th>\n    </tr>\n  </thead>\n  <tbody>\n    <tr>\n      <th>0</th>\n      <td>9011014505000000</td>\n      <td>50</td>\n      <td>700</td>\n      <td>5</td>\n      <td>141010001054458148</td>\n      <td>0</td>\n      <td>0 days 05:35:00</td>\n      <td>9022014001760012</td>\n      <td>1</td>\n      <td>bus_service</td>\n      <td>night_dawn</td>\n      <td>Brunnsparken</td>\n      <td>145235353</td>\n      <td>LINESTRING (319300.9681938812 6400118.94329882...</td>\n      <td>0 days 05:36:37</td>\n      <td>97.0</td>\n      <td>9022014006242004</td>\n      <td>Stenpiren</td>\n      <td>145235353</td>\n    </tr>\n    <tr>\n      <th>1</th>\n      <td>9011014505000000</td>\n      <td>50</td>\n      <td>700</td>\n      <td>5</td>\n      <td>141010001054458148</td>\n      <td>0</td>\n      <td>0 days 05:36:37</td>\n      <td>9022014006242004</td>\n      <td>2</td>\n      <td>bus_service</td>\n      <td>night_dawn</td>\n      <td>Stenpiren</td>\n      <td>145235353</td>\n      <td>LINESTRING (318713.9534298249 6400020.97166797...</td>\n      <td>0 days 05:39:40</td>\n      <td>183.0</td>\n      <td>9022014003645002</td>\n      <td>Järnvågen</td>\n      <td>145235353</td>\n    </tr>\n    <tr>\n      <th>2</th>\n      <td>9011014505000000</td>\n      <td>50</td>\n      <td>700</td>\n      <td>5</td>\n      <td>141010001054458148</td>\n      <td>0</td>\n      <td>0 days 05:39:40</td>\n      <td>9022014003645002</td>\n      <td>3</td>\n      <td>bus_service</td>\n      <td>night_dawn</td>\n      <td>Järnvågen</td>\n      <td>145235353</td>\n      <td>LINESTRING (318203.9588559234 6399558.95525878...</td>\n      <td>0 days 05:48:00</td>\n      <td>500.0</td>\n      <td>9022014001410002</td>\n      <td>Beryllgatan</td>\n      <td>145235353</td>\n    </tr>\n    <tr>\n      <th>3</th>\n      <td>9011014505000000</td>\n      <td>50</td>\n      <td>700</td>\n      <td>5</td>\n      <td>141010001054458148</td>\n      <td>0</td>\n      <td>0 days 05:48:00</td>\n      <td>9022014001410002</td>\n      <td>4</td>\n      <td>bus_service</td>\n      <td>night_dawn</td>\n      <td>Beryllgatan</td>\n      <td>145235353</td>\n      <td>LINESTRING (314286.9680952884 6395003.92383626...</td>\n      <td>0 days 05:50:06</td>\n      <td>126.0</td>\n      <td>9022014001370002</td>\n      <td>Bergkristallsgatan</td>\n      <td>145235353</td>\n    </tr>\n    <tr>\n      <th>4</th>\n      <td>9011014505000000</td>\n      <td>50</td>\n      <td>700</td>\n      <td>5</td>\n      <td>141010001054458148</td>\n      <td>0</td>\n      <td>0 days 05:50:06</td>\n      <td>9022014001370002</td>\n      <td>5</td>\n      <td>bus_service</td>\n      <td>night_dawn</td>\n      <td>Bergkristallsgatan</td>\n      <td>145235353</td>\n      <td>LINESTRING (314841.95194952097 6394771.9803292...</td>\n      <td>0 days 05:51:19</td>\n      <td>73.0</td>\n      <td>9022014006070002</td>\n      <td>Smyckegatan</td>\n      <td>145235353</td>\n    </tr>\n  </tbody>\n</table>\n</div>"
     },
     "execution_count": 15,
     "metadata": {},
     "output_type": "execute_result"
    }
   ],
   "source": [
    "# Create the links between the stops\n",
    "# Step 9: Create a copy of links_baseline_l1 to not use the original table\n",
    "links_pt_0_l1_copy = links_pt_0_l1.copy()\n",
    "\n",
    "# Step 10: Define a function to process each group within the groupby operation\n",
    "def process_group(group):\n",
    "    sorted_group = group.sort_values('stop_sequence')\n",
    "    new_time = sorted_group['arrival_time'].shift(-1)\n",
    "\n",
    "    return sorted_group.assign(\n",
    "        new_time=pd.to_timedelta(new_time),\n",
    "        time_distance=(new_time - sorted_group['arrival_time']).dt.total_seconds().astype(float),\n",
    "        stop_id_target=sorted_group['stop_id_source'].shift(-1).astype(str),\n",
    "        stop_name_target=sorted_group['stop_name_source'].shift(-1).astype(str),\n",
    "        place_id_target=sorted_group['place_id_source'].shift(-1).fillna(0).astype(int),\n",
    "        geometry=[\n",
    "            LineString([[a.coords[0][0], a.coords[0][1]], [b.coords[0][0], b.coords[0][1]]]) if b else None\n",
    "            for a, b in zip(sorted_group['geometry'], sorted_group['geometry'].shift(-1))\n",
    "        ]\n",
    "    )\n",
    "\n",
    "# Step 11: Apply the processing function to each group using groupby\n",
    "links_pt_0_l1 = (\n",
    "    links_pt_0_l1_copy.groupby('trip_id')\n",
    "    .apply(process_group)\n",
    "    .reset_index(drop=True)\n",
    ")\n",
    "\n",
    "# Step 12 (optional): Display the 'links_baseline_l1' DataFrame (and check the links)\n",
    "links_pt_0_l1.head()"
   ],
   "metadata": {
    "collapsed": false,
    "pycharm": {
     "name": "#%%\n"
    }
   }
  },
  {
   "cell_type": "code",
   "execution_count": 16,
   "outputs": [
    {
     "data": {
      "text/plain": "             source            target route_short_name         mode  \\\n0  9022014001760012  9022014006242004               50  bus_service   \n1  9022014006242004  9022014003645002               50  bus_service   \n2  9022014003645002  9022014001410002               50  bus_service   \n3  9022014001410002  9022014001370002               50  bus_service   \n4  9022014001370002  9022014006070002               50  bus_service   \n\n   time_distance time_period          route_id  service_id  \\\n0           97.0  night_dawn  9011014505000000           5   \n1          183.0  night_dawn  9011014505000000           5   \n2          500.0  night_dawn  9011014505000000           5   \n3          126.0  night_dawn  9011014505000000           5   \n4           73.0  night_dawn  9011014505000000           5   \n\n              trip_id  direction_id  stop_sequence    stop_name_source  \\\n0  141010001054458148             0              1        Brunnsparken   \n1  141010001054458148             0              2           Stenpiren   \n2  141010001054458148             0              3           Järnvågen   \n3  141010001054458148             0              4         Beryllgatan   \n4  141010001054458148             0              5  Bergkristallsgatan   \n\n     stop_name_target  place_id_source  place_id_target  \\\n0           Stenpiren        145235353        145235353   \n1           Järnvågen        145235353        145235353   \n2         Beryllgatan        145235353        145235353   \n3  Bergkristallsgatan        145235353        145235353   \n4         Smyckegatan        145235353        145235353   \n\n                                            geometry  \n0  LINESTRING (319300.968 6400118.943, 318713.953...  \n1  LINESTRING (318713.953 6400020.972, 318203.959...  \n2  LINESTRING (318203.959 6399558.955, 314286.968...  \n3  LINESTRING (314286.968 6395003.924, 314841.952...  \n4  LINESTRING (314841.952 6394771.980, 315135.959...  ",
      "text/html": "<div>\n<style scoped>\n    .dataframe tbody tr th:only-of-type {\n        vertical-align: middle;\n    }\n\n    .dataframe tbody tr th {\n        vertical-align: top;\n    }\n\n    .dataframe thead th {\n        text-align: right;\n    }\n</style>\n<table border=\"1\" class=\"dataframe\">\n  <thead>\n    <tr style=\"text-align: right;\">\n      <th></th>\n      <th>source</th>\n      <th>target</th>\n      <th>route_short_name</th>\n      <th>mode</th>\n      <th>time_distance</th>\n      <th>time_period</th>\n      <th>route_id</th>\n      <th>service_id</th>\n      <th>trip_id</th>\n      <th>direction_id</th>\n      <th>stop_sequence</th>\n      <th>stop_name_source</th>\n      <th>stop_name_target</th>\n      <th>place_id_source</th>\n      <th>place_id_target</th>\n      <th>geometry</th>\n    </tr>\n  </thead>\n  <tbody>\n    <tr>\n      <th>0</th>\n      <td>9022014001760012</td>\n      <td>9022014006242004</td>\n      <td>50</td>\n      <td>bus_service</td>\n      <td>97.0</td>\n      <td>night_dawn</td>\n      <td>9011014505000000</td>\n      <td>5</td>\n      <td>141010001054458148</td>\n      <td>0</td>\n      <td>1</td>\n      <td>Brunnsparken</td>\n      <td>Stenpiren</td>\n      <td>145235353</td>\n      <td>145235353</td>\n      <td>LINESTRING (319300.968 6400118.943, 318713.953...</td>\n    </tr>\n    <tr>\n      <th>1</th>\n      <td>9022014006242004</td>\n      <td>9022014003645002</td>\n      <td>50</td>\n      <td>bus_service</td>\n      <td>183.0</td>\n      <td>night_dawn</td>\n      <td>9011014505000000</td>\n      <td>5</td>\n      <td>141010001054458148</td>\n      <td>0</td>\n      <td>2</td>\n      <td>Stenpiren</td>\n      <td>Järnvågen</td>\n      <td>145235353</td>\n      <td>145235353</td>\n      <td>LINESTRING (318713.953 6400020.972, 318203.959...</td>\n    </tr>\n    <tr>\n      <th>2</th>\n      <td>9022014003645002</td>\n      <td>9022014001410002</td>\n      <td>50</td>\n      <td>bus_service</td>\n      <td>500.0</td>\n      <td>night_dawn</td>\n      <td>9011014505000000</td>\n      <td>5</td>\n      <td>141010001054458148</td>\n      <td>0</td>\n      <td>3</td>\n      <td>Järnvågen</td>\n      <td>Beryllgatan</td>\n      <td>145235353</td>\n      <td>145235353</td>\n      <td>LINESTRING (318203.959 6399558.955, 314286.968...</td>\n    </tr>\n    <tr>\n      <th>3</th>\n      <td>9022014001410002</td>\n      <td>9022014001370002</td>\n      <td>50</td>\n      <td>bus_service</td>\n      <td>126.0</td>\n      <td>night_dawn</td>\n      <td>9011014505000000</td>\n      <td>5</td>\n      <td>141010001054458148</td>\n      <td>0</td>\n      <td>4</td>\n      <td>Beryllgatan</td>\n      <td>Bergkristallsgatan</td>\n      <td>145235353</td>\n      <td>145235353</td>\n      <td>LINESTRING (314286.968 6395003.924, 314841.952...</td>\n    </tr>\n    <tr>\n      <th>4</th>\n      <td>9022014001370002</td>\n      <td>9022014006070002</td>\n      <td>50</td>\n      <td>bus_service</td>\n      <td>73.0</td>\n      <td>night_dawn</td>\n      <td>9011014505000000</td>\n      <td>5</td>\n      <td>141010001054458148</td>\n      <td>0</td>\n      <td>5</td>\n      <td>Bergkristallsgatan</td>\n      <td>Smyckegatan</td>\n      <td>145235353</td>\n      <td>145235353</td>\n      <td>LINESTRING (314841.952 6394771.980, 315135.959...</td>\n    </tr>\n  </tbody>\n</table>\n</div>"
     },
     "execution_count": 16,
     "metadata": {},
     "output_type": "execute_result"
    }
   ],
   "source": [
    "# Clean the Data\n",
    "# Step 13: Set source and target columns\n",
    "links_pt_0 = links_pt_0_l1.rename(columns={'stop_id_source':'source', 'stop_id_target':'target'})\n",
    "\n",
    "# Step 14: Filter columns\n",
    "links_pt_0 = links_pt_0[['source', 'target', 'route_short_name', 'mode', 'time_distance',\n",
    "                         'time_period', 'route_id','service_id', 'trip_id', 'direction_id',\n",
    "                         'stop_sequence','stop_name_source', 'stop_name_target', 'place_id_source',\n",
    "                         'place_id_target', 'geometry']]\n",
    "\n",
    "# Step 15: Filter invalid geometries\n",
    "links_pt_0 = links_pt_0[links_pt_0['source'] != links_pt_0['target']]\n",
    "\n",
    "# Step 16: Drop None geometries\n",
    "links_pt_0 = links_pt_0.dropna(subset=['geometry'])\n",
    "\n",
    "# Step 17: Transform the DataFrame into a GeoDataFrame\n",
    "links_pt_0 = gpd.GeoDataFrame(links_pt_0, geometry='geometry', crs='EPSG:3006')\n",
    "\n",
    "# Step 18 (optional): Display the 'links_baseline' GeoDataFrame\n",
    "links_pt_0.head()"
   ],
   "metadata": {
    "collapsed": false,
    "pycharm": {
     "name": "#%%\n"
    }
   }
  },
  {
   "cell_type": "code",
   "execution_count": 17,
   "outputs": [],
   "source": [
    "# Step 19 (optional): Export the 'links_baseline' GeoDataFrame to the DB\n",
    "links_pt_0.to_postgis('links_pt_0', engine, schema='pt_0_baseline', if_exists ='replace')"
   ],
   "metadata": {
    "collapsed": false,
    "pycharm": {
     "name": "#%%\n"
    }
   }
  }
 ],
 "metadata": {
  "kernelspec": {
   "display_name": "Python 3",
   "language": "python",
   "name": "python3"
  },
  "language_info": {
   "codemirror_mode": {
    "name": "ipython",
    "version": 2
   },
   "file_extension": ".py",
   "mimetype": "text/x-python",
   "name": "python",
   "nbconvert_exporter": "python",
   "pygments_lexer": "ipython2",
   "version": "2.7.6"
  }
 },
 "nbformat": 4,
 "nbformat_minor": 0
}