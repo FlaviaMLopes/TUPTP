{
 "cells": [
  {
   "cell_type": "markdown",
   "source": [
    "## Frequency_tables_wide_format"
   ],
   "metadata": {
    "collapsed": false,
    "pycharm": {
     "name": "#%% md\n"
    }
   }
  },
  {
   "cell_type": "markdown",
   "source": [
    "#### Import libraries"
   ],
   "metadata": {
    "collapsed": false,
    "pycharm": {
     "name": "#%% md\n"
    }
   }
  },
  {
   "cell_type": "code",
   "execution_count": 28,
   "outputs": [],
   "source": [
    "# Step 1: Import libraries\n",
    "import pandas as pd\n",
    "import numpy as np\n",
    "import geopandas as gpd\n",
    "from sqlalchemy import create_engine\n",
    "from sqlalchemy import text\n",
    "from shapely.geometry import LineString"
   ],
   "metadata": {
    "collapsed": false,
    "pycharm": {
     "name": "#%%\n"
    }
   }
  },
  {
   "cell_type": "markdown",
   "source": [
    "#### Create the connection with the DB (optional)"
   ],
   "metadata": {
    "collapsed": false,
    "pycharm": {
     "name": "#%% md\n"
    }
   }
  },
  {
   "cell_type": "code",
   "execution_count": 3,
   "outputs": [],
   "source": [
    "# Step 1: Create the connection with the DB\n",
    "engine = create_engine(\"postgresql://urbaninfo:@cirrus.ita.chalmers.se/se_tuptp\")\n",
    "conn = engine.connect()"
   ],
   "metadata": {
    "collapsed": false,
    "pycharm": {
     "name": "#%%\n"
    }
   }
  },
  {
   "cell_type": "code",
   "execution_count": 4,
   "outputs": [],
   "source": [
    "# Step 2: Create a new schema when it is necessary\n",
    "#schema = '''CREATE SCHEMA name_schema'''\n",
    "#conn.execute(schema)"
   ],
   "metadata": {
    "collapsed": false,
    "pycharm": {
     "name": "#%%\n"
    }
   }
  },
  {
   "cell_type": "markdown",
   "source": [
    "##### To create this table format, it is necessary to use the nodes generated in the Frequency_long_format_tables."
   ],
   "metadata": {
    "collapsed": false,
    "pycharm": {
     "name": "#%% md\n"
    }
   }
  },
  {
   "cell_type": "markdown",
   "source": [
    "### Links"
   ],
   "metadata": {
    "collapsed": false,
    "pycharm": {
     "name": "#%% md\n"
    }
   }
  },
  {
   "cell_type": "code",
   "execution_count": 55,
   "outputs": [],
   "source": [
    "# Step 1: Import data\n",
    "# In this example, we are utilizing data from Västra Götaland, although these can be modified based on specific requirements.\n",
    "# nodes_pt_0\n",
    "nodes_pt_0_query = text('SELECT * FROM pt_0_baseline.nodes_pt_0')\n",
    "nodes_pt_0 = gpd.read_postgis(nodes_pt_0_query, con=engine.connect(), geom_col='geometry')\n",
    "\n",
    "#links pt_0\n",
    "links_pt_0_query = text('SELECT * FROM pt_0_baseline.links_pt_0')\n",
    "links_pt_0 = gpd.read_postgis(links_pt_0_query, con=engine.connect(), geom_col='geometry')\n",
    "\n",
    "# nodes_pt_1\n",
    "nodes_pt_1_query = text('SELECT * FROM pt_1_mdirections_mstops_mroutes.nodes_pt_1')\n",
    "nodes_pt_1 = gpd.read_postgis(nodes_pt_1_query, con=engine.connect(), geom_col='geometry')\n",
    "\n",
    "#links pt_1\n",
    "links_pt_1_long_query = text('SELECT * FROM pt_1_mdirections_mstops_mroutes.links_pt_1_long')\n",
    "links_pt_1_long = gpd.read_postgis(links_pt_1_long_query, con=engine.connect(), geom_col='geometry')"
   ],
   "metadata": {
    "collapsed": false,
    "pycharm": {
     "name": "#%%\n"
    }
   }
  },
  {
   "cell_type": "code",
   "execution_count": 11,
   "outputs": [
    {
     "data": {
      "text/plain": "                              source                             target  \\\n0  9022014001004001_9011014502300000  9022014003960006_9011014502300000   \n1  9022014001004001_9011014502300000  9022014003960006_9011014502300000   \n2  9022014001004001_9011014502300000  9022014003960006_9011014502300000   \n3  9022014001004001_9011014502300000  9022014003960006_9011014502300000   \n4  9022014001004001_9011014502300000  9022014003960006_9011014502300000   \n\n   time_distance    stop_id_source    stop_id_target    node_id_source  \\\n0           85.0  9022014001004001  9022014003960006  9022014001004001   \n1          102.0  9022014001004001  9022014003960006  9022014001004001   \n2           85.0  9022014001004001  9022014003960006  9022014001004001   \n3           85.0  9022014001004001  9022014003960006  9022014001004001   \n4          102.0  9022014001004001  9022014003960006  9022014001004001   \n\n     node_id_target          route_id route_short_name    stop_name_source  \\\n0  9022014003960006  9011014502300000               23  Amhult Resecentrum   \n1  9022014003960006  9011014502300000               23  Amhult Resecentrum   \n2  9022014003960006  9011014502300000               23  Amhult Resecentrum   \n3  9022014003960006  9011014502300000               23  Amhult Resecentrum   \n4  9022014003960006  9011014502300000               23  Amhult Resecentrum   \n\n   ... freq_friday_night  freq_saturday_night  freq_sunday_night  \\\n0  ...               NaN                  NaN                NaN   \n1  ...               NaN                  NaN                NaN   \n2  ...               NaN                  NaN                NaN   \n3  ...               NaN                  NaN                NaN   \n4  ...               NaN                  NaN                NaN   \n\n  freq_monday_night(dawn)  freq_tuesday_night(dawn)  \\\n0                     NaN                       NaN   \n1                     NaN                       NaN   \n2                     NaN                       NaN   \n3                     NaN                       NaN   \n4                     NaN                       NaN   \n\n   freq_wednesday_night(dawn) freq_thursday_night(dawn)  \\\n0                         NaN                       NaN   \n1                         NaN                       NaN   \n2                         NaN                       NaN   \n3                         NaN                       NaN   \n4                         NaN                       NaN   \n\n  freq_friday_night(dawn) freq_saturday_night(dawn)  freq_sunday_night(dawn)  \n0                     NaN                       NaN                      NaN  \n1                     NaN                       NaN                      NaN  \n2                     NaN                       NaN                      NaN  \n3                     NaN                       NaN                      NaN  \n4                     NaN                       NaN                      NaN  \n\n[5 rows x 71 columns]",
      "text/html": "<div>\n<style scoped>\n    .dataframe tbody tr th:only-of-type {\n        vertical-align: middle;\n    }\n\n    .dataframe tbody tr th {\n        vertical-align: top;\n    }\n\n    .dataframe thead th {\n        text-align: right;\n    }\n</style>\n<table border=\"1\" class=\"dataframe\">\n  <thead>\n    <tr style=\"text-align: right;\">\n      <th></th>\n      <th>source</th>\n      <th>target</th>\n      <th>time_distance</th>\n      <th>stop_id_source</th>\n      <th>stop_id_target</th>\n      <th>node_id_source</th>\n      <th>node_id_target</th>\n      <th>route_id</th>\n      <th>route_short_name</th>\n      <th>stop_name_source</th>\n      <th>...</th>\n      <th>freq_friday_night</th>\n      <th>freq_saturday_night</th>\n      <th>freq_sunday_night</th>\n      <th>freq_monday_night(dawn)</th>\n      <th>freq_tuesday_night(dawn)</th>\n      <th>freq_wednesday_night(dawn)</th>\n      <th>freq_thursday_night(dawn)</th>\n      <th>freq_friday_night(dawn)</th>\n      <th>freq_saturday_night(dawn)</th>\n      <th>freq_sunday_night(dawn)</th>\n    </tr>\n  </thead>\n  <tbody>\n    <tr>\n      <th>0</th>\n      <td>9022014001004001_9011014502300000</td>\n      <td>9022014003960006_9011014502300000</td>\n      <td>85.0</td>\n      <td>9022014001004001</td>\n      <td>9022014003960006</td>\n      <td>9022014001004001</td>\n      <td>9022014003960006</td>\n      <td>9011014502300000</td>\n      <td>23</td>\n      <td>Amhult Resecentrum</td>\n      <td>...</td>\n      <td>NaN</td>\n      <td>NaN</td>\n      <td>NaN</td>\n      <td>NaN</td>\n      <td>NaN</td>\n      <td>NaN</td>\n      <td>NaN</td>\n      <td>NaN</td>\n      <td>NaN</td>\n      <td>NaN</td>\n    </tr>\n    <tr>\n      <th>1</th>\n      <td>9022014001004001_9011014502300000</td>\n      <td>9022014003960006_9011014502300000</td>\n      <td>102.0</td>\n      <td>9022014001004001</td>\n      <td>9022014003960006</td>\n      <td>9022014001004001</td>\n      <td>9022014003960006</td>\n      <td>9011014502300000</td>\n      <td>23</td>\n      <td>Amhult Resecentrum</td>\n      <td>...</td>\n      <td>NaN</td>\n      <td>NaN</td>\n      <td>NaN</td>\n      <td>NaN</td>\n      <td>NaN</td>\n      <td>NaN</td>\n      <td>NaN</td>\n      <td>NaN</td>\n      <td>NaN</td>\n      <td>NaN</td>\n    </tr>\n    <tr>\n      <th>2</th>\n      <td>9022014001004001_9011014502300000</td>\n      <td>9022014003960006_9011014502300000</td>\n      <td>85.0</td>\n      <td>9022014001004001</td>\n      <td>9022014003960006</td>\n      <td>9022014001004001</td>\n      <td>9022014003960006</td>\n      <td>9011014502300000</td>\n      <td>23</td>\n      <td>Amhult Resecentrum</td>\n      <td>...</td>\n      <td>NaN</td>\n      <td>NaN</td>\n      <td>NaN</td>\n      <td>NaN</td>\n      <td>NaN</td>\n      <td>NaN</td>\n      <td>NaN</td>\n      <td>NaN</td>\n      <td>NaN</td>\n      <td>NaN</td>\n    </tr>\n    <tr>\n      <th>3</th>\n      <td>9022014001004001_9011014502300000</td>\n      <td>9022014003960006_9011014502300000</td>\n      <td>85.0</td>\n      <td>9022014001004001</td>\n      <td>9022014003960006</td>\n      <td>9022014001004001</td>\n      <td>9022014003960006</td>\n      <td>9011014502300000</td>\n      <td>23</td>\n      <td>Amhult Resecentrum</td>\n      <td>...</td>\n      <td>NaN</td>\n      <td>NaN</td>\n      <td>NaN</td>\n      <td>NaN</td>\n      <td>NaN</td>\n      <td>NaN</td>\n      <td>NaN</td>\n      <td>NaN</td>\n      <td>NaN</td>\n      <td>NaN</td>\n    </tr>\n    <tr>\n      <th>4</th>\n      <td>9022014001004001_9011014502300000</td>\n      <td>9022014003960006_9011014502300000</td>\n      <td>102.0</td>\n      <td>9022014001004001</td>\n      <td>9022014003960006</td>\n      <td>9022014001004001</td>\n      <td>9022014003960006</td>\n      <td>9011014502300000</td>\n      <td>23</td>\n      <td>Amhult Resecentrum</td>\n      <td>...</td>\n      <td>NaN</td>\n      <td>NaN</td>\n      <td>NaN</td>\n      <td>NaN</td>\n      <td>NaN</td>\n      <td>NaN</td>\n      <td>NaN</td>\n      <td>NaN</td>\n      <td>NaN</td>\n      <td>NaN</td>\n    </tr>\n  </tbody>\n</table>\n<p>5 rows × 71 columns</p>\n</div>"
     },
     "execution_count": 11,
     "metadata": {},
     "output_type": "execute_result"
    }
   ],
   "source": [
    "# Proprocess the Data\n",
    "# Step 2: Define combinations of day and time periods for frequency columns\n",
    "day_time_combinations = [\n",
    "    ('Monday', 'morning'), ('Tuesday', 'morning'), ('Wednesday', 'morning'), ('Thursday', 'morning'), ('Friday', 'morning'), ('Saturday', 'morning'), ('Sunday', 'morning'),\n",
    "    ('Monday', 'peak_morning'), ('Tuesday', 'peak_morning'), ('Wednesday', 'peak_morning'), ('Thursday', 'peak_morning'), ('Friday', 'peak_morning'), ('Saturday', 'peak_morning'), ('Sunday', 'peak_morning'),\n",
    "    ('Monday', 'afternoon'), ('Tuesday', 'afternoon'), ('Wednesday', 'afternoon'), ('Thursday', 'afternoon'), ('Friday', 'afternoon'), ('Saturday', 'afternoon'), ('Sunday', 'afternoon'),\n",
    "    ('Monday', 'peak_evening'), ('Tuesday', 'peak_evening'), ('Wednesday', 'peak_evening'), ('Thursday', 'peak_evening'), ('Friday', 'peak_evening'), ('Saturday', 'peak_evening'), ('Sunday', 'peak_evening'),\n",
    "    ('Monday', 'evening'), ('Tuesday', 'evening'), ('Wednesday', 'evening'), ('Thursday', 'evening'), ('Friday', 'evening'), ('Saturday', 'evening'), ('Sunday', 'evening'),\n",
    "    ('Monday', 'night'), ('Tuesday', 'night'), ('Wednesday', 'night'), ('Thursday', 'night'), ('Friday', 'night'), ('Saturday', 'night'), ('Sunday', 'night'),\n",
    "    ('Monday', 'night(dawn)'), ('Tuesday', 'night(dawn)'), ('Wednesday', 'night(dawn)'), ('Thursday', 'night(dawn)'), ('Friday', 'night(dawn)'), ('Saturday', 'night(dawn)'), ('Sunday', 'night(dawn)')\n",
    "]\n",
    "\n",
    "# Step 3: Assign frequencies based on day and time period combinations\n",
    "for day, time_period in day_time_combinations:\n",
    "    column_name = f'freq_{day.lower()}_{time_period.lower()}'\n",
    "    mask = (links_pt_1_long['day_week'] == day) & (links_pt_1_long['time_period'] == time_period)\n",
    "    links_pt_1_long.loc[mask, column_name] = links_pt_1_long['frequency_dayweek']\n",
    "\n",
    "# Step 4 (optional): Display the results\n",
    "links_pt_1_long.head()"
   ],
   "metadata": {
    "collapsed": false,
    "pycharm": {
     "name": "#%%\n"
    }
   }
  },
  {
   "cell_type": "code",
   "execution_count": 12,
   "outputs": [
    {
     "data": {
      "text/plain": "                              source                             target  \\\n0  9022014001004001_9011014502300000  9022014003960006_9011014502300000   \n1  9022014001004001_9011014502300000  9022014003960006_9011014502300000   \n2  9022014001004001_9011014502300000  9022014003960006_9011014502300000   \n3  9022014001004001_9011014502300000  9022014003960006_9011014502300000   \n4  9022014001004001_9011014502300000  9022014003960006_9011014502300000   \n\n   time_distance    stop_id_source    stop_id_target    node_id_source  \\\n0           85.0  9022014001004001  9022014003960006  9022014001004001   \n1          102.0  9022014001004001  9022014003960006  9022014001004001   \n2           85.0  9022014001004001  9022014003960006  9022014001004001   \n3           85.0  9022014001004001  9022014003960006  9022014001004001   \n4          102.0  9022014001004001  9022014003960006  9022014001004001   \n\n     node_id_target          route_id route_short_name    stop_name_source  \\\n0  9022014003960006  9011014502300000               23  Amhult Resecentrum   \n1  9022014003960006  9011014502300000               23  Amhult Resecentrum   \n2  9022014003960006  9011014502300000               23  Amhult Resecentrum   \n3  9022014003960006  9011014502300000               23  Amhult Resecentrum   \n4  9022014003960006  9011014502300000               23  Amhult Resecentrum   \n\n   ... freq_friday_night(dawn)  freq_saturday_night(dawn)  \\\n0  ...                     NaN                        NaN   \n1  ...                     NaN                        NaN   \n2  ...                     NaN                        NaN   \n3  ...                     NaN                        NaN   \n4  ...                     NaN                        NaN   \n\n   freq_sunday_night(dawn) freq_week_day_morning  freq_week_day_peak_morning  \\\n0                      NaN                   NaN                         NaN   \n1                      NaN                   NaN                         NaN   \n2                      NaN                   NaN                     10800.0   \n3                      NaN                   NaN                         NaN   \n4                      NaN                   NaN                         NaN   \n\n   freq_week_day_afternoon freq_week_day_peak_evening freq_week_day_evening  \\\n0                      NaN                        NaN                   NaN   \n1                      NaN                    10800.0                   NaN   \n2                      NaN                        NaN                   NaN   \n3                      NaN                        NaN                   NaN   \n4                      NaN                    10800.0                   NaN   \n\n  freq_week_day_night  freq_week_day_night(dawn)  \n0                 NaN                        NaN  \n1                 NaN                        NaN  \n2                 NaN                        NaN  \n3                 NaN                        NaN  \n4                 NaN                        NaN  \n\n[5 rows x 78 columns]",
      "text/html": "<div>\n<style scoped>\n    .dataframe tbody tr th:only-of-type {\n        vertical-align: middle;\n    }\n\n    .dataframe tbody tr th {\n        vertical-align: top;\n    }\n\n    .dataframe thead th {\n        text-align: right;\n    }\n</style>\n<table border=\"1\" class=\"dataframe\">\n  <thead>\n    <tr style=\"text-align: right;\">\n      <th></th>\n      <th>source</th>\n      <th>target</th>\n      <th>time_distance</th>\n      <th>stop_id_source</th>\n      <th>stop_id_target</th>\n      <th>node_id_source</th>\n      <th>node_id_target</th>\n      <th>route_id</th>\n      <th>route_short_name</th>\n      <th>stop_name_source</th>\n      <th>...</th>\n      <th>freq_friday_night(dawn)</th>\n      <th>freq_saturday_night(dawn)</th>\n      <th>freq_sunday_night(dawn)</th>\n      <th>freq_week_day_morning</th>\n      <th>freq_week_day_peak_morning</th>\n      <th>freq_week_day_afternoon</th>\n      <th>freq_week_day_peak_evening</th>\n      <th>freq_week_day_evening</th>\n      <th>freq_week_day_night</th>\n      <th>freq_week_day_night(dawn)</th>\n    </tr>\n  </thead>\n  <tbody>\n    <tr>\n      <th>0</th>\n      <td>9022014001004001_9011014502300000</td>\n      <td>9022014003960006_9011014502300000</td>\n      <td>85.0</td>\n      <td>9022014001004001</td>\n      <td>9022014003960006</td>\n      <td>9022014001004001</td>\n      <td>9022014003960006</td>\n      <td>9011014502300000</td>\n      <td>23</td>\n      <td>Amhult Resecentrum</td>\n      <td>...</td>\n      <td>NaN</td>\n      <td>NaN</td>\n      <td>NaN</td>\n      <td>NaN</td>\n      <td>NaN</td>\n      <td>NaN</td>\n      <td>NaN</td>\n      <td>NaN</td>\n      <td>NaN</td>\n      <td>NaN</td>\n    </tr>\n    <tr>\n      <th>1</th>\n      <td>9022014001004001_9011014502300000</td>\n      <td>9022014003960006_9011014502300000</td>\n      <td>102.0</td>\n      <td>9022014001004001</td>\n      <td>9022014003960006</td>\n      <td>9022014001004001</td>\n      <td>9022014003960006</td>\n      <td>9011014502300000</td>\n      <td>23</td>\n      <td>Amhult Resecentrum</td>\n      <td>...</td>\n      <td>NaN</td>\n      <td>NaN</td>\n      <td>NaN</td>\n      <td>NaN</td>\n      <td>NaN</td>\n      <td>NaN</td>\n      <td>10800.0</td>\n      <td>NaN</td>\n      <td>NaN</td>\n      <td>NaN</td>\n    </tr>\n    <tr>\n      <th>2</th>\n      <td>9022014001004001_9011014502300000</td>\n      <td>9022014003960006_9011014502300000</td>\n      <td>85.0</td>\n      <td>9022014001004001</td>\n      <td>9022014003960006</td>\n      <td>9022014001004001</td>\n      <td>9022014003960006</td>\n      <td>9011014502300000</td>\n      <td>23</td>\n      <td>Amhult Resecentrum</td>\n      <td>...</td>\n      <td>NaN</td>\n      <td>NaN</td>\n      <td>NaN</td>\n      <td>NaN</td>\n      <td>10800.0</td>\n      <td>NaN</td>\n      <td>NaN</td>\n      <td>NaN</td>\n      <td>NaN</td>\n      <td>NaN</td>\n    </tr>\n    <tr>\n      <th>3</th>\n      <td>9022014001004001_9011014502300000</td>\n      <td>9022014003960006_9011014502300000</td>\n      <td>85.0</td>\n      <td>9022014001004001</td>\n      <td>9022014003960006</td>\n      <td>9022014001004001</td>\n      <td>9022014003960006</td>\n      <td>9011014502300000</td>\n      <td>23</td>\n      <td>Amhult Resecentrum</td>\n      <td>...</td>\n      <td>NaN</td>\n      <td>NaN</td>\n      <td>NaN</td>\n      <td>NaN</td>\n      <td>NaN</td>\n      <td>NaN</td>\n      <td>NaN</td>\n      <td>NaN</td>\n      <td>NaN</td>\n      <td>NaN</td>\n    </tr>\n    <tr>\n      <th>4</th>\n      <td>9022014001004001_9011014502300000</td>\n      <td>9022014003960006_9011014502300000</td>\n      <td>102.0</td>\n      <td>9022014001004001</td>\n      <td>9022014003960006</td>\n      <td>9022014001004001</td>\n      <td>9022014003960006</td>\n      <td>9011014502300000</td>\n      <td>23</td>\n      <td>Amhult Resecentrum</td>\n      <td>...</td>\n      <td>NaN</td>\n      <td>NaN</td>\n      <td>NaN</td>\n      <td>NaN</td>\n      <td>NaN</td>\n      <td>NaN</td>\n      <td>10800.0</td>\n      <td>NaN</td>\n      <td>NaN</td>\n      <td>NaN</td>\n    </tr>\n  </tbody>\n</table>\n<p>5 rows × 78 columns</p>\n</div>"
     },
     "execution_count": 12,
     "metadata": {},
     "output_type": "execute_result"
    }
   ],
   "source": [
    "# Step 5: Define combinations of day type and time periods for frequency columns\n",
    "day_type_time_combinations = [\n",
    "    ('week_day', 'morning'), ('week_day', 'peak_morning'), ('week_day', 'afternoon'), ('week_day', 'peak_evening'),\n",
    "    ('week_day', 'evening'), ('week_day', 'night'), ('week_day', 'night(dawn)'),\n",
    "    ('Saturday', 'morning'), ('Saturday', 'peak_morning'), ('Saturday', 'afternoon'), ('Saturday', 'peak_evening'),\n",
    "    ('Saturday', 'evening'), ('Saturday', 'night'), ('Saturday', 'night(dawn)'),\n",
    "    ('Sunday', 'morning'), ('Sunday', 'peak_morning'), ('Sunday', 'afternoon'), ('Sunday', 'peak_evening'),\n",
    "    ('Sunday', 'evening'), ('Sunday', 'night'), ('Sunday', 'night(dawn)')\n",
    "]\n",
    "\n",
    "# Step 6: Assign frequencies based on day type and time period combinations\n",
    "for day, time_period in day_type_time_combinations:\n",
    "    column_name = f'freq_{day.lower()}_{time_period.lower()}'\n",
    "    mask = (links_pt_1_long['day_type'] == day) & (links_pt_1_long['time_period'] == time_period)\n",
    "    links_pt_1_long.loc[mask, column_name] = links_pt_1_long['frequency_daytype']\n",
    "\n",
    "# Step 7 (optional): Display the results\n",
    "links_pt_1_long.head()"
   ],
   "metadata": {
    "collapsed": false,
    "pycharm": {
     "name": "#%%\n"
    }
   }
  },
  {
   "cell_type": "code",
   "execution_count": 13,
   "outputs": [
    {
     "data": {
      "text/plain": "                              source                             target  \\\n0  9022014001004001_9011014502300000  9022014003960006_9011014502300000   \n1  9022014001004001_9011014521100000  9022014003960006_9011014521100000   \n2  9022014001004001_9011014521200000  9022014003960007_9011014521200000   \n3  9022014001004003_9011014620400000  9022014006520001_9011014620400000   \n4  9022014001004004_9011014521200000  9022014006520001_9011014521200000   \n\n   time_distance    stop_id_source    stop_id_target    node_id_source  \\\n0           85.0  9022014001004001  9022014003960006  9022014001004001   \n1          120.0  9022014001004001  9022014003960006  9022014001004001   \n2           97.0  9022014001004001  9022014003960007  9022014001004001   \n3          214.0  9022014001004003  9022014006520001  9022014001004003   \n4          238.0  9022014001004004  9022014006520001  9022014001004004   \n\n     node_id_target          route_id route_short_name    stop_name_source  \\\n0  9022014003960006  9011014502300000               23  Amhult Resecentrum   \n1  9022014003960006  9011014521100000            SVART  Amhult Resecentrum   \n2  9022014003960007  9011014521200000               X1  Amhult Resecentrum   \n3  9022014006520001  9011014620400000             LILA  Amhult Resecentrum   \n4  9022014006520001  9011014521200000               X1  Amhult Resecentrum   \n\n   ... freq_friday_night(dawn)  freq_saturday_night(dawn)  \\\n0  ...                     0.0                        0.0   \n1  ...                     0.0                        0.0   \n2  ...                     0.0                        0.0   \n3  ...                     0.0                        0.0   \n4  ...                     0.0                        0.0   \n\n   freq_sunday_night(dawn) freq_week_day_morning  freq_week_day_peak_morning  \\\n0                      0.0              0.000000                     54000.0   \n1                      0.0           4500.000000                      4500.0   \n2                      0.0           2842.105263                      3375.0   \n3                      0.0           9000.000000                      4500.0   \n4                      0.0           3000.000000                      3000.0   \n\n   freq_week_day_afternoon freq_week_day_peak_evening freq_week_day_evening  \\\n0                 0.000000               54000.000000                   0.0   \n1              4500.000000                4500.000000                4500.0   \n2              3176.470588                2842.105263                3600.0   \n3              6750.000000                4500.000000               10800.0   \n4              2842.105263                3176.470588                4500.0   \n\n  freq_week_day_night freq_week_day_night(dawn)  \n0            0.000000                       0.0  \n1         7714.285714                       0.0  \n2         6000.000000                       0.0  \n3            0.000000                       0.0  \n4         7714.285714                       0.0  \n\n[5 rows x 76 columns]",
      "text/html": "<div>\n<style scoped>\n    .dataframe tbody tr th:only-of-type {\n        vertical-align: middle;\n    }\n\n    .dataframe tbody tr th {\n        vertical-align: top;\n    }\n\n    .dataframe thead th {\n        text-align: right;\n    }\n</style>\n<table border=\"1\" class=\"dataframe\">\n  <thead>\n    <tr style=\"text-align: right;\">\n      <th></th>\n      <th>source</th>\n      <th>target</th>\n      <th>time_distance</th>\n      <th>stop_id_source</th>\n      <th>stop_id_target</th>\n      <th>node_id_source</th>\n      <th>node_id_target</th>\n      <th>route_id</th>\n      <th>route_short_name</th>\n      <th>stop_name_source</th>\n      <th>...</th>\n      <th>freq_friday_night(dawn)</th>\n      <th>freq_saturday_night(dawn)</th>\n      <th>freq_sunday_night(dawn)</th>\n      <th>freq_week_day_morning</th>\n      <th>freq_week_day_peak_morning</th>\n      <th>freq_week_day_afternoon</th>\n      <th>freq_week_day_peak_evening</th>\n      <th>freq_week_day_evening</th>\n      <th>freq_week_day_night</th>\n      <th>freq_week_day_night(dawn)</th>\n    </tr>\n  </thead>\n  <tbody>\n    <tr>\n      <th>0</th>\n      <td>9022014001004001_9011014502300000</td>\n      <td>9022014003960006_9011014502300000</td>\n      <td>85.0</td>\n      <td>9022014001004001</td>\n      <td>9022014003960006</td>\n      <td>9022014001004001</td>\n      <td>9022014003960006</td>\n      <td>9011014502300000</td>\n      <td>23</td>\n      <td>Amhult Resecentrum</td>\n      <td>...</td>\n      <td>0.0</td>\n      <td>0.0</td>\n      <td>0.0</td>\n      <td>0.000000</td>\n      <td>54000.0</td>\n      <td>0.000000</td>\n      <td>54000.000000</td>\n      <td>0.0</td>\n      <td>0.000000</td>\n      <td>0.0</td>\n    </tr>\n    <tr>\n      <th>1</th>\n      <td>9022014001004001_9011014521100000</td>\n      <td>9022014003960006_9011014521100000</td>\n      <td>120.0</td>\n      <td>9022014001004001</td>\n      <td>9022014003960006</td>\n      <td>9022014001004001</td>\n      <td>9022014003960006</td>\n      <td>9011014521100000</td>\n      <td>SVART</td>\n      <td>Amhult Resecentrum</td>\n      <td>...</td>\n      <td>0.0</td>\n      <td>0.0</td>\n      <td>0.0</td>\n      <td>4500.000000</td>\n      <td>4500.0</td>\n      <td>4500.000000</td>\n      <td>4500.000000</td>\n      <td>4500.0</td>\n      <td>7714.285714</td>\n      <td>0.0</td>\n    </tr>\n    <tr>\n      <th>2</th>\n      <td>9022014001004001_9011014521200000</td>\n      <td>9022014003960007_9011014521200000</td>\n      <td>97.0</td>\n      <td>9022014001004001</td>\n      <td>9022014003960007</td>\n      <td>9022014001004001</td>\n      <td>9022014003960007</td>\n      <td>9011014521200000</td>\n      <td>X1</td>\n      <td>Amhult Resecentrum</td>\n      <td>...</td>\n      <td>0.0</td>\n      <td>0.0</td>\n      <td>0.0</td>\n      <td>2842.105263</td>\n      <td>3375.0</td>\n      <td>3176.470588</td>\n      <td>2842.105263</td>\n      <td>3600.0</td>\n      <td>6000.000000</td>\n      <td>0.0</td>\n    </tr>\n    <tr>\n      <th>3</th>\n      <td>9022014001004003_9011014620400000</td>\n      <td>9022014006520001_9011014620400000</td>\n      <td>214.0</td>\n      <td>9022014001004003</td>\n      <td>9022014006520001</td>\n      <td>9022014001004003</td>\n      <td>9022014006520001</td>\n      <td>9011014620400000</td>\n      <td>LILA</td>\n      <td>Amhult Resecentrum</td>\n      <td>...</td>\n      <td>0.0</td>\n      <td>0.0</td>\n      <td>0.0</td>\n      <td>9000.000000</td>\n      <td>4500.0</td>\n      <td>6750.000000</td>\n      <td>4500.000000</td>\n      <td>10800.0</td>\n      <td>0.000000</td>\n      <td>0.0</td>\n    </tr>\n    <tr>\n      <th>4</th>\n      <td>9022014001004004_9011014521200000</td>\n      <td>9022014006520001_9011014521200000</td>\n      <td>238.0</td>\n      <td>9022014001004004</td>\n      <td>9022014006520001</td>\n      <td>9022014001004004</td>\n      <td>9022014006520001</td>\n      <td>9011014521200000</td>\n      <td>X1</td>\n      <td>Amhult Resecentrum</td>\n      <td>...</td>\n      <td>0.0</td>\n      <td>0.0</td>\n      <td>0.0</td>\n      <td>3000.000000</td>\n      <td>3000.0</td>\n      <td>2842.105263</td>\n      <td>3176.470588</td>\n      <td>4500.0</td>\n      <td>7714.285714</td>\n      <td>0.0</td>\n    </tr>\n  </tbody>\n</table>\n<p>5 rows × 76 columns</p>\n</div>"
     },
     "execution_count": 13,
     "metadata": {},
     "output_type": "execute_result"
    }
   ],
   "source": [
    "# Aggregate the frequencies by day\n",
    "# Step 8: Aggregate the frequencies\n",
    "aggregations = {column: 'sum' for column in links_pt_1_long.columns if column.startswith('freq_')}\n",
    "\n",
    "links_pt_1_wide = links_pt_1_long.groupby(['source', 'target'], as_index=False).agg({\n",
    "    **{'time_distance': 'first', 'stop_id_source': 'first', 'stop_id_target': 'first', 'node_id_source': 'first',\n",
    "       'node_id_target': 'first', 'route_id': 'first', 'route_short_name': 'first', 'stop_name_source': 'first',\n",
    "       'stop_name_target': 'first', 'place_id_source': 'first', 'place_id_target': 'first', 'mode': 'first',\n",
    "       'direction_id': 'first', 'stop_sequence': 'first', 'time_period': 'first', 'day_week': 'first',\n",
    "       'day_type': 'first', 'geometry': 'first'},\n",
    "    **aggregations\n",
    "})\n",
    "\n",
    "# Step 9 (optional): Display the results\n",
    "links_pt_1_wide.head()"
   ],
   "metadata": {
    "collapsed": false,
    "pycharm": {
     "name": "#%%\n"
    }
   }
  },
  {
   "cell_type": "code",
   "execution_count": 15,
   "outputs": [],
   "source": [
    "# Step 10 (optional): Set Geometry and export to the DB\n",
    "links_pt_1_wide = gpd.GeoDataFrame(links_pt_1_wide, geometry='geometry', crs='3006')\n",
    "links_pt_1_wide.to_postgis('links_pt_1_wide', engine, schema='pt_1_mdirections_mstops_mroutes', if_exists ='replace')"
   ],
   "metadata": {
    "collapsed": false,
    "pycharm": {
     "name": "#%%\n"
    }
   }
  },
  {
   "cell_type": "markdown",
   "source": [
    "### Transfers"
   ],
   "metadata": {
    "collapsed": false,
    "pycharm": {
     "name": "#%% md\n"
    }
   }
  },
  {
   "cell_type": "markdown",
   "source": [
    "#### Same stop"
   ],
   "metadata": {
    "collapsed": false,
    "pycharm": {
     "name": "#%% md\n"
    }
   }
  },
  {
   "cell_type": "code",
   "execution_count": 58,
   "outputs": [
    {
     "data": {
      "text/plain": "                             node_id           stop_id   place_id  \\\n0  9022014001004001_9011014521200000  9022014001004001  307987564   \n1  9022014001004003_9011014620400000  9022014001004003  307987564   \n2  9022014001004004_9011014521200000  9022014001004004  307987564   \n3  9022014001004006_9011014503400000  9022014001004006  307987564   \n4  9022014001004007_9011014521100000  9022014001004007  307987564   \n\n                         geometry  \n0  POINT (308137.973 6400982.960)  \n1  POINT (308179.982 6400938.925)  \n2  POINT (308152.980 6400960.949)  \n3  POINT (308158.939 6400936.915)  \n4  POINT (308164.962 6400912.990)  ",
      "text/html": "<div>\n<style scoped>\n    .dataframe tbody tr th:only-of-type {\n        vertical-align: middle;\n    }\n\n    .dataframe tbody tr th {\n        vertical-align: top;\n    }\n\n    .dataframe thead th {\n        text-align: right;\n    }\n</style>\n<table border=\"1\" class=\"dataframe\">\n  <thead>\n    <tr style=\"text-align: right;\">\n      <th></th>\n      <th>node_id</th>\n      <th>stop_id</th>\n      <th>place_id</th>\n      <th>geometry</th>\n    </tr>\n  </thead>\n  <tbody>\n    <tr>\n      <th>0</th>\n      <td>9022014001004001_9011014521200000</td>\n      <td>9022014001004001</td>\n      <td>307987564</td>\n      <td>POINT (308137.973 6400982.960)</td>\n    </tr>\n    <tr>\n      <th>1</th>\n      <td>9022014001004003_9011014620400000</td>\n      <td>9022014001004003</td>\n      <td>307987564</td>\n      <td>POINT (308179.982 6400938.925)</td>\n    </tr>\n    <tr>\n      <th>2</th>\n      <td>9022014001004004_9011014521200000</td>\n      <td>9022014001004004</td>\n      <td>307987564</td>\n      <td>POINT (308152.980 6400960.949)</td>\n    </tr>\n    <tr>\n      <th>3</th>\n      <td>9022014001004006_9011014503400000</td>\n      <td>9022014001004006</td>\n      <td>307987564</td>\n      <td>POINT (308158.939 6400936.915)</td>\n    </tr>\n    <tr>\n      <th>4</th>\n      <td>9022014001004007_9011014521100000</td>\n      <td>9022014001004007</td>\n      <td>307987564</td>\n      <td>POINT (308164.962 6400912.990)</td>\n    </tr>\n  </tbody>\n</table>\n</div>"
     },
     "execution_count": 58,
     "metadata": {},
     "output_type": "execute_result"
    }
   ],
   "source": [
    "# Preprocess the Data\n",
    "# Step 1: Create a copy of the nodes table\n",
    "nodes_transfer_same_stop = nodes_pt_1[['node_id', 'stop_id', 'place_id', 'geometry']].copy()\n",
    "\n",
    "#Step 2 (optional): display the results\n",
    "nodes_transfer_same_stop.head()"
   ],
   "metadata": {
    "collapsed": false,
    "pycharm": {
     "name": "#%%\n"
    }
   }
  },
  {
   "cell_type": "code",
   "execution_count": 59,
   "outputs": [
    {
     "data": {
      "text/plain": "                              source                             target  \\\n0                   9022014001004001  9022014001004001_9011014502300000   \n1                   9022014001004001  9022014001004001_9011014521100000   \n2                   9022014001004001  9022014001004001_9011014521200000   \n3  9022014001004001_9011014502300000                   9022014001004001   \n4  9022014001004001_9011014521100000                   9022014001004001   \n\n    place_id                        geometry  \n0  307987564  POINT (308137.973 6400982.960)  \n1  307987564  POINT (308137.973 6400982.960)  \n2  307987564  POINT (308137.973 6400982.960)  \n3  307987564  POINT (308137.973 6400982.960)  \n4  307987564  POINT (308137.973 6400982.960)  ",
      "text/html": "<div>\n<style scoped>\n    .dataframe tbody tr th:only-of-type {\n        vertical-align: middle;\n    }\n\n    .dataframe tbody tr th {\n        vertical-align: top;\n    }\n\n    .dataframe thead th {\n        text-align: right;\n    }\n</style>\n<table border=\"1\" class=\"dataframe\">\n  <thead>\n    <tr style=\"text-align: right;\">\n      <th></th>\n      <th>source</th>\n      <th>target</th>\n      <th>place_id</th>\n      <th>geometry</th>\n    </tr>\n  </thead>\n  <tbody>\n    <tr>\n      <th>0</th>\n      <td>9022014001004001</td>\n      <td>9022014001004001_9011014502300000</td>\n      <td>307987564</td>\n      <td>POINT (308137.973 6400982.960)</td>\n    </tr>\n    <tr>\n      <th>1</th>\n      <td>9022014001004001</td>\n      <td>9022014001004001_9011014521100000</td>\n      <td>307987564</td>\n      <td>POINT (308137.973 6400982.960)</td>\n    </tr>\n    <tr>\n      <th>2</th>\n      <td>9022014001004001</td>\n      <td>9022014001004001_9011014521200000</td>\n      <td>307987564</td>\n      <td>POINT (308137.973 6400982.960)</td>\n    </tr>\n    <tr>\n      <th>3</th>\n      <td>9022014001004001_9011014502300000</td>\n      <td>9022014001004001</td>\n      <td>307987564</td>\n      <td>POINT (308137.973 6400982.960)</td>\n    </tr>\n    <tr>\n      <th>4</th>\n      <td>9022014001004001_9011014521100000</td>\n      <td>9022014001004001</td>\n      <td>307987564</td>\n      <td>POINT (308137.973 6400982.960)</td>\n    </tr>\n  </tbody>\n</table>\n</div>"
     },
     "execution_count": 59,
     "metadata": {},
     "output_type": "execute_result"
    }
   ],
   "source": [
    "# Step 3: Merge the stops in order to create the transfers\n",
    "# Source\n",
    "stop_routes_source = nodes_transfer_same_stop.rename(columns={'node_id': 'source', 'stop_id': 'target'}).drop_duplicates()\n",
    "\n",
    "# Target\n",
    "stop_routes_target = pd.merge(nodes_transfer_same_stop,\n",
    "                              nodes_pt_1[['node_id']],\n",
    "                              on='node_id',\n",
    "                              how='inner').rename(columns={'stop_id': 'source', 'node_id': 'target'}).drop_duplicates()\n",
    "\n",
    "# Step 4: Create the transfers same stop table\n",
    "transfers_same_stop = pd.merge(stop_routes_source, stop_routes_target, how='outer')\n",
    "\n",
    "#Step 5 (optional): Display the results\n",
    "transfers_same_stop.head()"
   ],
   "metadata": {
    "collapsed": false,
    "pycharm": {
     "name": "#%%\n"
    }
   }
  },
  {
   "cell_type": "code",
   "execution_count": 60,
   "outputs": [
    {
     "data": {
      "text/plain": "                              source                             target  \\\n0  9022014001004001_9011014502300000                   9022014001004001   \n1  9022014001004001_9011014521100000                   9022014001004001   \n2  9022014001004001_9011014521200000                   9022014001004001   \n3                   9022014001004001  9022014001004001_9011014502300000   \n4                   9022014001004001  9022014001004001_9011014521100000   \n\n    place_id                        geometry  freq_monday_morning  \\\n0  307987564  POINT (308137.973 6400982.960)                  NaN   \n1  307987564  POINT (308137.973 6400982.960)                  NaN   \n2  307987564  POINT (308137.973 6400982.960)                  NaN   \n3  307987564  POINT (308137.973 6400982.960)                  NaN   \n4  307987564  POINT (308137.973 6400982.960)                  NaN   \n\n   freq_tuesday_morning  freq_wednesday_morning  freq_thursday_morning  \\\n0                   NaN                     NaN                    NaN   \n1                   NaN                     NaN                    NaN   \n2                   NaN                     NaN                    NaN   \n3                   NaN                     NaN                    NaN   \n4                   NaN                     NaN                    NaN   \n\n   freq_friday_morning  freq_saturday_morning  ...  freq_friday_night(dawn)  \\\n0                  NaN                    NaN  ...                      NaN   \n1                  NaN                    NaN  ...                      NaN   \n2                  NaN                    NaN  ...                      NaN   \n3                  NaN                    NaN  ...                      NaN   \n4                  NaN                    NaN  ...                      NaN   \n\n   freq_saturday_night(dawn)  freq_sunday_night(dawn)  freq_week_day_morning  \\\n0                        NaN                      NaN                    NaN   \n1                        NaN                      NaN                    NaN   \n2                        NaN                      NaN                    NaN   \n3                        NaN                      NaN                    NaN   \n4                        NaN                      NaN                    NaN   \n\n   freq_week_day_peak_morning  freq_week_day_afternoon  \\\n0                         NaN                      NaN   \n1                         NaN                      NaN   \n2                         NaN                      NaN   \n3                         NaN                      NaN   \n4                         NaN                      NaN   \n\n   freq_week_day_peak_evening  freq_week_day_evening  freq_week_day_night  \\\n0                         NaN                    NaN                  NaN   \n1                         NaN                    NaN                  NaN   \n2                         NaN                    NaN                  NaN   \n3                         NaN                    NaN                  NaN   \n4                         NaN                    NaN                  NaN   \n\n   freq_week_day_night(dawn)  \n0                        NaN  \n1                        NaN  \n2                        NaN  \n3                        NaN  \n4                        NaN  \n\n[5 rows x 60 columns]",
      "text/html": "<div>\n<style scoped>\n    .dataframe tbody tr th:only-of-type {\n        vertical-align: middle;\n    }\n\n    .dataframe tbody tr th {\n        vertical-align: top;\n    }\n\n    .dataframe thead th {\n        text-align: right;\n    }\n</style>\n<table border=\"1\" class=\"dataframe\">\n  <thead>\n    <tr style=\"text-align: right;\">\n      <th></th>\n      <th>source</th>\n      <th>target</th>\n      <th>place_id</th>\n      <th>geometry</th>\n      <th>freq_monday_morning</th>\n      <th>freq_tuesday_morning</th>\n      <th>freq_wednesday_morning</th>\n      <th>freq_thursday_morning</th>\n      <th>freq_friday_morning</th>\n      <th>freq_saturday_morning</th>\n      <th>...</th>\n      <th>freq_friday_night(dawn)</th>\n      <th>freq_saturday_night(dawn)</th>\n      <th>freq_sunday_night(dawn)</th>\n      <th>freq_week_day_morning</th>\n      <th>freq_week_day_peak_morning</th>\n      <th>freq_week_day_afternoon</th>\n      <th>freq_week_day_peak_evening</th>\n      <th>freq_week_day_evening</th>\n      <th>freq_week_day_night</th>\n      <th>freq_week_day_night(dawn)</th>\n    </tr>\n  </thead>\n  <tbody>\n    <tr>\n      <th>0</th>\n      <td>9022014001004001_9011014502300000</td>\n      <td>9022014001004001</td>\n      <td>307987564</td>\n      <td>POINT (308137.973 6400982.960)</td>\n      <td>NaN</td>\n      <td>NaN</td>\n      <td>NaN</td>\n      <td>NaN</td>\n      <td>NaN</td>\n      <td>NaN</td>\n      <td>...</td>\n      <td>NaN</td>\n      <td>NaN</td>\n      <td>NaN</td>\n      <td>NaN</td>\n      <td>NaN</td>\n      <td>NaN</td>\n      <td>NaN</td>\n      <td>NaN</td>\n      <td>NaN</td>\n      <td>NaN</td>\n    </tr>\n    <tr>\n      <th>1</th>\n      <td>9022014001004001_9011014521100000</td>\n      <td>9022014001004001</td>\n      <td>307987564</td>\n      <td>POINT (308137.973 6400982.960)</td>\n      <td>NaN</td>\n      <td>NaN</td>\n      <td>NaN</td>\n      <td>NaN</td>\n      <td>NaN</td>\n      <td>NaN</td>\n      <td>...</td>\n      <td>NaN</td>\n      <td>NaN</td>\n      <td>NaN</td>\n      <td>NaN</td>\n      <td>NaN</td>\n      <td>NaN</td>\n      <td>NaN</td>\n      <td>NaN</td>\n      <td>NaN</td>\n      <td>NaN</td>\n    </tr>\n    <tr>\n      <th>2</th>\n      <td>9022014001004001_9011014521200000</td>\n      <td>9022014001004001</td>\n      <td>307987564</td>\n      <td>POINT (308137.973 6400982.960)</td>\n      <td>NaN</td>\n      <td>NaN</td>\n      <td>NaN</td>\n      <td>NaN</td>\n      <td>NaN</td>\n      <td>NaN</td>\n      <td>...</td>\n      <td>NaN</td>\n      <td>NaN</td>\n      <td>NaN</td>\n      <td>NaN</td>\n      <td>NaN</td>\n      <td>NaN</td>\n      <td>NaN</td>\n      <td>NaN</td>\n      <td>NaN</td>\n      <td>NaN</td>\n    </tr>\n    <tr>\n      <th>3</th>\n      <td>9022014001004001</td>\n      <td>9022014001004001_9011014502300000</td>\n      <td>307987564</td>\n      <td>POINT (308137.973 6400982.960)</td>\n      <td>NaN</td>\n      <td>NaN</td>\n      <td>NaN</td>\n      <td>NaN</td>\n      <td>NaN</td>\n      <td>NaN</td>\n      <td>...</td>\n      <td>NaN</td>\n      <td>NaN</td>\n      <td>NaN</td>\n      <td>NaN</td>\n      <td>NaN</td>\n      <td>NaN</td>\n      <td>NaN</td>\n      <td>NaN</td>\n      <td>NaN</td>\n      <td>NaN</td>\n    </tr>\n    <tr>\n      <th>4</th>\n      <td>9022014001004001</td>\n      <td>9022014001004001_9011014521100000</td>\n      <td>307987564</td>\n      <td>POINT (308137.973 6400982.960)</td>\n      <td>NaN</td>\n      <td>NaN</td>\n      <td>NaN</td>\n      <td>NaN</td>\n      <td>NaN</td>\n      <td>NaN</td>\n      <td>...</td>\n      <td>NaN</td>\n      <td>NaN</td>\n      <td>NaN</td>\n      <td>NaN</td>\n      <td>NaN</td>\n      <td>NaN</td>\n      <td>NaN</td>\n      <td>NaN</td>\n      <td>NaN</td>\n      <td>NaN</td>\n    </tr>\n  </tbody>\n</table>\n<p>5 rows × 60 columns</p>\n</div>"
     },
     "execution_count": 60,
     "metadata": {},
     "output_type": "execute_result"
    }
   ],
   "source": [
    "# Create the transfers\n",
    "# Step 6: Merge the table with the frequency of the links table\n",
    "transfers_same_stop = pd.merge(\n",
    "    transfers_same_stop,\n",
    "    links_pt_1_wide[['target'] + [col for col in links_pt_1_wide.columns if col.startswith('freq_')]],\n",
    "    on='target',\n",
    "    how='outer'\n",
    ").drop_duplicates(subset=['source', 'target'])\n",
    "\n",
    "#Step 7 (optional): Display the results\n",
    "transfers_same_stop.head()"
   ],
   "metadata": {
    "collapsed": false,
    "pycharm": {
     "name": "#%%\n"
    }
   }
  },
  {
   "cell_type": "code",
   "execution_count": 63,
   "outputs": [],
   "source": [
    "# Step 5: Replace 0 with NaN and vice versa in frequency columns\n",
    "freq_columns = [col for col in transfers_same_stop_merge.columns if col.startswith('freq_')]\n",
    "transfers_same_stop_merge[freq_columns] = transfers_same_stop_merge[freq_columns].replace({0: np.nan, np.nan: 0})"
   ],
   "metadata": {
    "collapsed": false,
    "pycharm": {
     "name": "#%%\n"
    }
   }
  },
  {
   "cell_type": "code",
   "execution_count": 64,
   "outputs": [
    {
     "data": {
      "text/plain": "               source                             target  \\\n0    9022014019115003  9022014019115003_9011013061400000   \n25   9022014019610001  9022014019610001_9011013061400000   \n50   9022014019610002  9022014019610002_9011013061400000   \n75   9022014019611001  9022014019611001_9011013061400000   \n100  9022014019611002  9022014019611002_9011013061400000   \n\n                           geometry  freq_monday_morning  \\\n0    POINT (327675.964 6361431.902)                  0.0   \n25   POINT (327108.979 6359778.001)                  0.0   \n50   POINT (327161.986 6359701.973)                  0.0   \n75   POINT (326796.970 6360275.948)                  0.0   \n100  POINT (326818.972 6360170.911)                  0.0   \n\n     freq_tuesday_morning  freq_wednesday_morning  freq_thursday_morning  \\\n0                     0.0                     0.0                    0.0   \n25                    0.0                     0.0                    0.0   \n50                    0.0                     0.0                    0.0   \n75                    0.0                     0.0                    0.0   \n100                   0.0                     0.0                    0.0   \n\n     freq_friday_morning  freq_saturday_morning  freq_sunday_morning  ...  \\\n0                    0.0                    0.0                  0.0  ...   \n25                   0.0                    0.0                  0.0  ...   \n50                   0.0                    0.0                  0.0  ...   \n75                   0.0                    0.0                  0.0  ...   \n100                  0.0                    0.0                  0.0  ...   \n\n     freq_friday_night(dawn)  freq_saturday_night(dawn)  \\\n0                        0.0                        0.0   \n25                       0.0                        0.0   \n50                       0.0                        0.0   \n75                       0.0                        0.0   \n100                      0.0                        0.0   \n\n     freq_sunday_night(dawn)  freq_week_day_morning  \\\n0                        0.0                    0.0   \n25                       0.0                    0.0   \n50                       0.0                    0.0   \n75                       0.0                    0.0   \n100                      0.0                    0.0   \n\n     freq_week_day_peak_morning  freq_week_day_afternoon  \\\n0                  27971.223022                      0.0   \n25                 27971.223022                      0.0   \n50                 27971.223022                      0.0   \n75                 27971.223022                      0.0   \n100                27971.223022                      0.0   \n\n     freq_week_day_peak_evening  freq_week_day_evening  freq_week_day_night  \\\n0                       27000.0                54000.0                  0.0   \n25                      27000.0                54000.0                  0.0   \n50                      27000.0                54000.0                  0.0   \n75                      27000.0                54000.0                  0.0   \n100                     27000.0                54000.0                  0.0   \n\n     freq_week_day_night(dawn)  \n0                          0.0  \n25                         0.0  \n50                         0.0  \n75                         0.0  \n100                        0.0  \n\n[5 rows x 59 columns]",
      "text/html": "<div>\n<style scoped>\n    .dataframe tbody tr th:only-of-type {\n        vertical-align: middle;\n    }\n\n    .dataframe tbody tr th {\n        vertical-align: top;\n    }\n\n    .dataframe thead th {\n        text-align: right;\n    }\n</style>\n<table border=\"1\" class=\"dataframe\">\n  <thead>\n    <tr style=\"text-align: right;\">\n      <th></th>\n      <th>source</th>\n      <th>target</th>\n      <th>geometry</th>\n      <th>freq_monday_morning</th>\n      <th>freq_tuesday_morning</th>\n      <th>freq_wednesday_morning</th>\n      <th>freq_thursday_morning</th>\n      <th>freq_friday_morning</th>\n      <th>freq_saturday_morning</th>\n      <th>freq_sunday_morning</th>\n      <th>...</th>\n      <th>freq_friday_night(dawn)</th>\n      <th>freq_saturday_night(dawn)</th>\n      <th>freq_sunday_night(dawn)</th>\n      <th>freq_week_day_morning</th>\n      <th>freq_week_day_peak_morning</th>\n      <th>freq_week_day_afternoon</th>\n      <th>freq_week_day_peak_evening</th>\n      <th>freq_week_day_evening</th>\n      <th>freq_week_day_night</th>\n      <th>freq_week_day_night(dawn)</th>\n    </tr>\n  </thead>\n  <tbody>\n    <tr>\n      <th>0</th>\n      <td>9022014019115003</td>\n      <td>9022014019115003_9011013061400000</td>\n      <td>POINT (327675.964 6361431.902)</td>\n      <td>0.0</td>\n      <td>0.0</td>\n      <td>0.0</td>\n      <td>0.0</td>\n      <td>0.0</td>\n      <td>0.0</td>\n      <td>0.0</td>\n      <td>...</td>\n      <td>0.0</td>\n      <td>0.0</td>\n      <td>0.0</td>\n      <td>0.0</td>\n      <td>27971.223022</td>\n      <td>0.0</td>\n      <td>27000.0</td>\n      <td>54000.0</td>\n      <td>0.0</td>\n      <td>0.0</td>\n    </tr>\n    <tr>\n      <th>25</th>\n      <td>9022014019610001</td>\n      <td>9022014019610001_9011013061400000</td>\n      <td>POINT (327108.979 6359778.001)</td>\n      <td>0.0</td>\n      <td>0.0</td>\n      <td>0.0</td>\n      <td>0.0</td>\n      <td>0.0</td>\n      <td>0.0</td>\n      <td>0.0</td>\n      <td>...</td>\n      <td>0.0</td>\n      <td>0.0</td>\n      <td>0.0</td>\n      <td>0.0</td>\n      <td>27971.223022</td>\n      <td>0.0</td>\n      <td>27000.0</td>\n      <td>54000.0</td>\n      <td>0.0</td>\n      <td>0.0</td>\n    </tr>\n    <tr>\n      <th>50</th>\n      <td>9022014019610002</td>\n      <td>9022014019610002_9011013061400000</td>\n      <td>POINT (327161.986 6359701.973)</td>\n      <td>0.0</td>\n      <td>0.0</td>\n      <td>0.0</td>\n      <td>0.0</td>\n      <td>0.0</td>\n      <td>0.0</td>\n      <td>0.0</td>\n      <td>...</td>\n      <td>0.0</td>\n      <td>0.0</td>\n      <td>0.0</td>\n      <td>0.0</td>\n      <td>27971.223022</td>\n      <td>0.0</td>\n      <td>27000.0</td>\n      <td>54000.0</td>\n      <td>0.0</td>\n      <td>0.0</td>\n    </tr>\n    <tr>\n      <th>75</th>\n      <td>9022014019611001</td>\n      <td>9022014019611001_9011013061400000</td>\n      <td>POINT (326796.970 6360275.948)</td>\n      <td>0.0</td>\n      <td>0.0</td>\n      <td>0.0</td>\n      <td>0.0</td>\n      <td>0.0</td>\n      <td>0.0</td>\n      <td>0.0</td>\n      <td>...</td>\n      <td>0.0</td>\n      <td>0.0</td>\n      <td>0.0</td>\n      <td>0.0</td>\n      <td>27971.223022</td>\n      <td>0.0</td>\n      <td>27000.0</td>\n      <td>54000.0</td>\n      <td>0.0</td>\n      <td>0.0</td>\n    </tr>\n    <tr>\n      <th>100</th>\n      <td>9022014019611002</td>\n      <td>9022014019611002_9011013061400000</td>\n      <td>POINT (326818.972 6360170.911)</td>\n      <td>0.0</td>\n      <td>0.0</td>\n      <td>0.0</td>\n      <td>0.0</td>\n      <td>0.0</td>\n      <td>0.0</td>\n      <td>0.0</td>\n      <td>...</td>\n      <td>0.0</td>\n      <td>0.0</td>\n      <td>0.0</td>\n      <td>0.0</td>\n      <td>27971.223022</td>\n      <td>0.0</td>\n      <td>27000.0</td>\n      <td>54000.0</td>\n      <td>0.0</td>\n      <td>0.0</td>\n    </tr>\n  </tbody>\n</table>\n<p>5 rows × 59 columns</p>\n</div>"
     },
     "execution_count": 64,
     "metadata": {},
     "output_type": "execute_result"
    }
   ],
   "source": [
    "# Step 6: Filter final columns for transfers_same_stop table\n",
    "transfers_same_stop =  transfers_same_stop_merge [[\n",
    "                                                      'source', 'target', 'geometry']\n",
    "                                                  + [col for col in transfers_same_stop_merge.columns if col.startswith('freq_')\n",
    "                                                     ]]\n",
    "transfers_same_stop.head()"
   ],
   "metadata": {
    "collapsed": false,
    "pycharm": {
     "name": "#%%\n"
    }
   }
  },
  {
   "cell_type": "code",
   "execution_count": 66,
   "outputs": [],
   "source": [
    "# Step 7 (optional): Set Geometry and export the table to the DB\n",
    "transfers_same_stop = gpd.GeoDataFrame(transfers_same_stop, geometry='geometry', crs='3006')\n",
    "transfers_same_stop.to_postgis('transfers_same_stop_pt_1_long', engine, schema='pt_1_mdirections_mstops_mroutes', if_exists ='replace')"
   ],
   "metadata": {
    "collapsed": false,
    "pycharm": {
     "name": "#%%\n"
    }
   }
  },
  {
   "cell_type": "markdown",
   "source": [
    "#### Different stops"
   ],
   "metadata": {
    "collapsed": false,
    "pycharm": {
     "name": "#%% md\n"
    }
   }
  },
  {
   "cell_type": "code",
   "execution_count": 74,
   "outputs": [
    {
     "data": {
      "text/plain": "                             node_id           stop_id  \\\n0  9022014001004001_9011014521200000  9022014001004001   \n1  9022014001004003_9011014620400000  9022014001004003   \n2  9022014001004004_9011014521200000  9022014001004004   \n3  9022014001004006_9011014503400000  9022014001004006   \n4  9022014001004007_9011014521100000  9022014001004007   \n\n                         geometry  \n0  POINT (308137.973 6400982.960)  \n1  POINT (308179.982 6400938.925)  \n2  POINT (308152.980 6400960.949)  \n3  POINT (308158.939 6400936.915)  \n4  POINT (308164.962 6400912.990)  ",
      "text/html": "<div>\n<style scoped>\n    .dataframe tbody tr th:only-of-type {\n        vertical-align: middle;\n    }\n\n    .dataframe tbody tr th {\n        vertical-align: top;\n    }\n\n    .dataframe thead th {\n        text-align: right;\n    }\n</style>\n<table border=\"1\" class=\"dataframe\">\n  <thead>\n    <tr style=\"text-align: right;\">\n      <th></th>\n      <th>node_id</th>\n      <th>stop_id</th>\n      <th>geometry</th>\n    </tr>\n  </thead>\n  <tbody>\n    <tr>\n      <th>0</th>\n      <td>9022014001004001_9011014521200000</td>\n      <td>9022014001004001</td>\n      <td>POINT (308137.973 6400982.960)</td>\n    </tr>\n    <tr>\n      <th>1</th>\n      <td>9022014001004003_9011014620400000</td>\n      <td>9022014001004003</td>\n      <td>POINT (308179.982 6400938.925)</td>\n    </tr>\n    <tr>\n      <th>2</th>\n      <td>9022014001004004_9011014521200000</td>\n      <td>9022014001004004</td>\n      <td>POINT (308152.980 6400960.949)</td>\n    </tr>\n    <tr>\n      <th>3</th>\n      <td>9022014001004006_9011014503400000</td>\n      <td>9022014001004006</td>\n      <td>POINT (308158.939 6400936.915)</td>\n    </tr>\n    <tr>\n      <th>4</th>\n      <td>9022014001004007_9011014521100000</td>\n      <td>9022014001004007</td>\n      <td>POINT (308164.962 6400912.990)</td>\n    </tr>\n  </tbody>\n</table>\n</div>"
     },
     "execution_count": 74,
     "metadata": {},
     "output_type": "execute_result"
    }
   ],
   "source": [
    "#Preprocess the Data\n",
    "# Step 1: Create a copy of the nodes table\n",
    "nodes_transfer_diff_stop = nodes_pt_1[['node_id', 'stop_id', 'geometry']].copy()\n",
    "\n",
    "# Step 2 (optional): Display the results\n",
    "nodes_transfer_diff_stop.head()"
   ],
   "metadata": {
    "collapsed": false,
    "pycharm": {
     "name": "#%%\n"
    }
   }
  },
  {
   "cell_type": "code",
   "execution_count": 75,
   "outputs": [
    {
     "data": {
      "text/plain": "                              source    stop_id_source  \\\n0  9022014001004001_9011014521200000  9022014001004001   \n1  9022014001004001_9011014521200000  9022014001004001   \n2  9022014001004001_9011014521200000  9022014001004001   \n3  9022014001004001_9011014521200000  9022014001004001   \n4  9022014001004001_9011014521200000  9022014001004001   \n\n                  geometry_source                             target  \\\n0  POINT (308137.973 6400982.960)  9022014001004001_9011014521200000   \n1  POINT (308137.973 6400982.960)  9022014001004003_9011014620400000   \n2  POINT (308137.973 6400982.960)  9022014001004004_9011014521200000   \n3  POINT (308137.973 6400982.960)  9022014001004006_9011014503400000   \n4  POINT (308137.973 6400982.960)  9022014001004007_9011014521100000   \n\n     stop_id_target                 geometry_target  \\\n0  9022014001004001  POINT (308137.973 6400982.960)   \n1  9022014001004003  POINT (308179.982 6400938.925)   \n2  9022014001004004  POINT (308152.980 6400960.949)   \n3  9022014001004006  POINT (308158.939 6400936.915)   \n4  9022014001004007  POINT (308164.962 6400912.990)   \n\n                                            geometry  \n0  POLYGON ((308212.611 6400975.609, 308211.531 6...  \n1  POLYGON ((308212.611 6400975.609, 308211.531 6...  \n2  POLYGON ((308212.611 6400975.609, 308211.531 6...  \n3  POLYGON ((308212.611 6400975.609, 308211.531 6...  \n4  POLYGON ((308211.531 6400968.328, 308209.743 6...  ",
      "text/html": "<div>\n<style scoped>\n    .dataframe tbody tr th:only-of-type {\n        vertical-align: middle;\n    }\n\n    .dataframe tbody tr th {\n        vertical-align: top;\n    }\n\n    .dataframe thead th {\n        text-align: right;\n    }\n</style>\n<table border=\"1\" class=\"dataframe\">\n  <thead>\n    <tr style=\"text-align: right;\">\n      <th></th>\n      <th>source</th>\n      <th>stop_id_source</th>\n      <th>geometry_source</th>\n      <th>target</th>\n      <th>stop_id_target</th>\n      <th>geometry_target</th>\n      <th>geometry</th>\n    </tr>\n  </thead>\n  <tbody>\n    <tr>\n      <th>0</th>\n      <td>9022014001004001_9011014521200000</td>\n      <td>9022014001004001</td>\n      <td>POINT (308137.973 6400982.960)</td>\n      <td>9022014001004001_9011014521200000</td>\n      <td>9022014001004001</td>\n      <td>POINT (308137.973 6400982.960)</td>\n      <td>POLYGON ((308212.611 6400975.609, 308211.531 6...</td>\n    </tr>\n    <tr>\n      <th>1</th>\n      <td>9022014001004001_9011014521200000</td>\n      <td>9022014001004001</td>\n      <td>POINT (308137.973 6400982.960)</td>\n      <td>9022014001004003_9011014620400000</td>\n      <td>9022014001004003</td>\n      <td>POINT (308179.982 6400938.925)</td>\n      <td>POLYGON ((308212.611 6400975.609, 308211.531 6...</td>\n    </tr>\n    <tr>\n      <th>2</th>\n      <td>9022014001004001_9011014521200000</td>\n      <td>9022014001004001</td>\n      <td>POINT (308137.973 6400982.960)</td>\n      <td>9022014001004004_9011014521200000</td>\n      <td>9022014001004004</td>\n      <td>POINT (308152.980 6400960.949)</td>\n      <td>POLYGON ((308212.611 6400975.609, 308211.531 6...</td>\n    </tr>\n    <tr>\n      <th>3</th>\n      <td>9022014001004001_9011014521200000</td>\n      <td>9022014001004001</td>\n      <td>POINT (308137.973 6400982.960)</td>\n      <td>9022014001004006_9011014503400000</td>\n      <td>9022014001004006</td>\n      <td>POINT (308158.939 6400936.915)</td>\n      <td>POLYGON ((308212.611 6400975.609, 308211.531 6...</td>\n    </tr>\n    <tr>\n      <th>4</th>\n      <td>9022014001004001_9011014521200000</td>\n      <td>9022014001004001</td>\n      <td>POINT (308137.973 6400982.960)</td>\n      <td>9022014001004007_9011014521100000</td>\n      <td>9022014001004007</td>\n      <td>POINT (308164.962 6400912.990)</td>\n      <td>POLYGON ((308211.531 6400968.328, 308209.743 6...</td>\n    </tr>\n  </tbody>\n</table>\n</div>"
     },
     "execution_count": 75,
     "metadata": {},
     "output_type": "execute_result"
    }
   ],
   "source": [
    "#Create the buffers\n",
    "# Step 3: Create a buffer column and set it as geometry\n",
    "nodes_transfer_diff_stop['buffer'] = nodes_transfer_diff_stop['geometry'].buffer(85)\n",
    "nodes_transfer_diff_stop = nodes_transfer_diff_stop.set_geometry('buffer',\n",
    "                                                                 crs='EPSG:3006')\n",
    "\n",
    "# Step 4: found the intersections among the buffers\n",
    "nodes_transfer_diff_stop = gpd.overlay(nodes_transfer_diff_stop,\n",
    "                                       nodes_transfer_diff_stop,\n",
    "                                       how='intersection').rename(columns={'node_id_1':'source',\n",
    "                                                                           'node_id_2':'target',\n",
    "                                                                           'stop_id_1':'stop_id_source',\n",
    "                                                                           'stop_id_2':'stop_id_target',\n",
    "                                                                           'geometry_1': 'geometry_source',\n",
    "                                                                           'geometry_2': 'geometry_target'}).dropna(subset=['source'])\n",
    "# Step 5 (optional): Display the results\n",
    "nodes_transfer_diff_stop.head()"
   ],
   "metadata": {
    "collapsed": false,
    "pycharm": {
     "name": "#%%\n"
    }
   }
  },
  {
   "cell_type": "code",
   "execution_count": 76,
   "outputs": [
    {
     "data": {
      "text/plain": "                              source    stop_id_source  \\\n0  9022014001004001_9011014521200000  9022014001004001   \n1  9022014001004001_9011014521200000  9022014001004001   \n2  9022014001004001_9011014521200000  9022014001004001   \n3  9022014001004001_9011014521200000  9022014001004001   \n4  9022014001004001_9011014521200000  9022014001004001   \n\n                  geometry_source                             target  \\\n0  POINT (308137.973 6400982.960)  9022014001004001_9011014521200000   \n1  POINT (308137.973 6400982.960)  9022014001004003_9011014620400000   \n2  POINT (308137.973 6400982.960)  9022014001004004_9011014521200000   \n3  POINT (308137.973 6400982.960)  9022014001004006_9011014503400000   \n4  POINT (308137.973 6400982.960)  9022014001004007_9011014521100000   \n\n     stop_id_target                 geometry_target  \\\n0  9022014001004001  POINT (308137.973 6400982.960)   \n1  9022014001004003  POINT (308179.982 6400938.925)   \n2  9022014001004004  POINT (308152.980 6400960.949)   \n3  9022014001004006  POINT (308158.939 6400936.915)   \n4  9022014001004007  POINT (308164.962 6400912.990)   \n\n                                            geometry     length  time_distance  \n0  LINESTRING (308137.973 6400982.960, 308137.973...   0.000000       0.000000  \n1  LINESTRING (308137.973 6400982.960, 308179.982...  60.859819      50.716516  \n2  LINESTRING (308137.973 6400982.960, 308152.980...  26.640277      22.200231  \n3  LINESTRING (308137.973 6400982.960, 308158.939...  50.593603      42.161336  \n4  LINESTRING (308137.973 6400982.960, 308164.962...  74.995341      62.496118  ",
      "text/html": "<div>\n<style scoped>\n    .dataframe tbody tr th:only-of-type {\n        vertical-align: middle;\n    }\n\n    .dataframe tbody tr th {\n        vertical-align: top;\n    }\n\n    .dataframe thead th {\n        text-align: right;\n    }\n</style>\n<table border=\"1\" class=\"dataframe\">\n  <thead>\n    <tr style=\"text-align: right;\">\n      <th></th>\n      <th>source</th>\n      <th>stop_id_source</th>\n      <th>geometry_source</th>\n      <th>target</th>\n      <th>stop_id_target</th>\n      <th>geometry_target</th>\n      <th>geometry</th>\n      <th>length</th>\n      <th>time_distance</th>\n    </tr>\n  </thead>\n  <tbody>\n    <tr>\n      <th>0</th>\n      <td>9022014001004001_9011014521200000</td>\n      <td>9022014001004001</td>\n      <td>POINT (308137.973 6400982.960)</td>\n      <td>9022014001004001_9011014521200000</td>\n      <td>9022014001004001</td>\n      <td>POINT (308137.973 6400982.960)</td>\n      <td>LINESTRING (308137.973 6400982.960, 308137.973...</td>\n      <td>0.000000</td>\n      <td>0.000000</td>\n    </tr>\n    <tr>\n      <th>1</th>\n      <td>9022014001004001_9011014521200000</td>\n      <td>9022014001004001</td>\n      <td>POINT (308137.973 6400982.960)</td>\n      <td>9022014001004003_9011014620400000</td>\n      <td>9022014001004003</td>\n      <td>POINT (308179.982 6400938.925)</td>\n      <td>LINESTRING (308137.973 6400982.960, 308179.982...</td>\n      <td>60.859819</td>\n      <td>50.716516</td>\n    </tr>\n    <tr>\n      <th>2</th>\n      <td>9022014001004001_9011014521200000</td>\n      <td>9022014001004001</td>\n      <td>POINT (308137.973 6400982.960)</td>\n      <td>9022014001004004_9011014521200000</td>\n      <td>9022014001004004</td>\n      <td>POINT (308152.980 6400960.949)</td>\n      <td>LINESTRING (308137.973 6400982.960, 308152.980...</td>\n      <td>26.640277</td>\n      <td>22.200231</td>\n    </tr>\n    <tr>\n      <th>3</th>\n      <td>9022014001004001_9011014521200000</td>\n      <td>9022014001004001</td>\n      <td>POINT (308137.973 6400982.960)</td>\n      <td>9022014001004006_9011014503400000</td>\n      <td>9022014001004006</td>\n      <td>POINT (308158.939 6400936.915)</td>\n      <td>LINESTRING (308137.973 6400982.960, 308158.939...</td>\n      <td>50.593603</td>\n      <td>42.161336</td>\n    </tr>\n    <tr>\n      <th>4</th>\n      <td>9022014001004001_9011014521200000</td>\n      <td>9022014001004001</td>\n      <td>POINT (308137.973 6400982.960)</td>\n      <td>9022014001004007_9011014521100000</td>\n      <td>9022014001004007</td>\n      <td>POINT (308164.962 6400912.990)</td>\n      <td>LINESTRING (308137.973 6400982.960, 308164.962...</td>\n      <td>74.995341</td>\n      <td>62.496118</td>\n    </tr>\n  </tbody>\n</table>\n</div>"
     },
     "execution_count": 76,
     "metadata": {},
     "output_type": "execute_result"
    }
   ],
   "source": [
    "#Create the geometry\n",
    "# Step 6: Create linstrings between the intersections\n",
    "nodes_transfer_diff_stop['geometry'] = nodes_transfer_diff_stop.apply(lambda row: LineString([[row.geometry_source.x,\n",
    "                                                                                               row.geometry_source.y],\n",
    "                                                                                                [row.geometry_target.x,\n",
    "                                                                                                 row.geometry_target.y]]) if row.geometry_target is not None else None,\n",
    "                                                                      axis=1)\n",
    "# Step 7: Set the length of the linestring\n",
    "nodes_transfer_diff_stop['length'] = nodes_transfer_diff_stop['geometry'].length\n",
    "nodes_transfer_diff_stop['time_distance'] = nodes_transfer_diff_stop['length'] / 1.2\n",
    "\n",
    "# Step 8 (optional): Display the results\n",
    "nodes_transfer_diff_stop.head()"
   ],
   "metadata": {
    "collapsed": false,
    "pycharm": {
     "name": "#%%\n"
    }
   }
  },
  {
   "cell_type": "code",
   "execution_count": 77,
   "outputs": [
    {
     "name": "stderr",
     "output_type": "stream",
     "text": [
      "C:\\Users\\monaliza\\AppData\\Roaming\\Python\\Python39\\site-packages\\geopandas\\geodataframe.py:1525: SettingWithCopyWarning: \n",
      "A value is trying to be set on a copy of a slice from a DataFrame.\n",
      "Try using .loc[row_indexer,col_indexer] = value instead\n",
      "\n",
      "See the caveats in the documentation: https://pandas.pydata.org/pandas-docs/stable/user_guide/indexing.html#returning-a-view-versus-a-copy\n",
      "  super().__setitem__(key, value)\n"
     ]
    },
    {
     "data": {
      "text/plain": "              source            target  \\\n1   9022014001004001  9022014001004003   \n2   9022014001004001  9022014001004004   \n3   9022014001004001  9022014001004006   \n4   9022014001004001  9022014001004007   \n10  9022014001004003  9022014001004004   \n\n                                             geometry     length  \\\n1   LINESTRING (308137.973 6400982.960, 308179.982...  60.859819   \n2   LINESTRING (308137.973 6400982.960, 308152.980...  26.640277   \n3   LINESTRING (308137.973 6400982.960, 308158.939...  50.593603   \n4   LINESTRING (308137.973 6400982.960, 308164.962...  74.995341   \n10  LINESTRING (308179.982 6400938.925, 308152.980...  34.845377   \n\n    time_distance  \n1       50.716516  \n2       22.200231  \n3       42.161336  \n4       62.496118  \n10      29.037814  ",
      "text/html": "<div>\n<style scoped>\n    .dataframe tbody tr th:only-of-type {\n        vertical-align: middle;\n    }\n\n    .dataframe tbody tr th {\n        vertical-align: top;\n    }\n\n    .dataframe thead th {\n        text-align: right;\n    }\n</style>\n<table border=\"1\" class=\"dataframe\">\n  <thead>\n    <tr style=\"text-align: right;\">\n      <th></th>\n      <th>source</th>\n      <th>target</th>\n      <th>geometry</th>\n      <th>length</th>\n      <th>time_distance</th>\n    </tr>\n  </thead>\n  <tbody>\n    <tr>\n      <th>1</th>\n      <td>9022014001004001</td>\n      <td>9022014001004003</td>\n      <td>LINESTRING (308137.973 6400982.960, 308179.982...</td>\n      <td>60.859819</td>\n      <td>50.716516</td>\n    </tr>\n    <tr>\n      <th>2</th>\n      <td>9022014001004001</td>\n      <td>9022014001004004</td>\n      <td>LINESTRING (308137.973 6400982.960, 308152.980...</td>\n      <td>26.640277</td>\n      <td>22.200231</td>\n    </tr>\n    <tr>\n      <th>3</th>\n      <td>9022014001004001</td>\n      <td>9022014001004006</td>\n      <td>LINESTRING (308137.973 6400982.960, 308158.939...</td>\n      <td>50.593603</td>\n      <td>42.161336</td>\n    </tr>\n    <tr>\n      <th>4</th>\n      <td>9022014001004001</td>\n      <td>9022014001004007</td>\n      <td>LINESTRING (308137.973 6400982.960, 308164.962...</td>\n      <td>74.995341</td>\n      <td>62.496118</td>\n    </tr>\n    <tr>\n      <th>10</th>\n      <td>9022014001004003</td>\n      <td>9022014001004004</td>\n      <td>LINESTRING (308179.982 6400938.925, 308152.980...</td>\n      <td>34.845377</td>\n      <td>29.037814</td>\n    </tr>\n  </tbody>\n</table>\n</div>"
     },
     "execution_count": 77,
     "metadata": {},
     "output_type": "execute_result"
    }
   ],
   "source": [
    "#Filter and organize the tables\n",
    "# Step 9: Filter the transfers between different stops\n",
    "transfers_diff_stop = nodes_transfer_diff_stop[nodes_transfer_diff_stop['length'] > 0]\n",
    "\n",
    "# Step 10: Drop the duplicates of symmetric pairs\n",
    "transfers_diff_stop ['symmetric_pairs'] = transfers_diff_stop[['source',\n",
    "                                                               'target']].apply(lambda x: '-'.join(sorted(x)),\n",
    "                                                                                axis=1)\n",
    "transfers_diff_stop = transfers_diff_stop.drop_duplicates(subset = ['symmetric_pairs'])\n",
    "\n",
    "# Step 11: Filter the necessary columns\n",
    "transfers_diff_stop = transfers_diff_stop [['stop_id_source',\n",
    "                                            'stop_id_target',\n",
    "                                            'geometry',\n",
    "                                            'length',\n",
    "                                            'time_distance']].rename(columns={'stop_id_source':'source',\n",
    "                                                                              'stop_id_target':'target'}).drop_duplicates()\n",
    "# Step 12 (optional): Display the results\n",
    "transfers_diff_stop.head()"
   ],
   "metadata": {
    "collapsed": false,
    "pycharm": {
     "name": "#%%\n"
    }
   }
  },
  {
   "cell_type": "code",
   "execution_count": 78,
   "outputs": [
    {
     "data": {
      "text/plain": "                  source            target  \\\n1       9022014001004001  9022014001004003   \n2       9022014001004001  9022014001004004   \n3       9022014001004001  9022014001004006   \n4       9022014001004001  9022014001004007   \n10      9022014001004003  9022014001004004   \n...                  ...               ...   \n344256  9022014052508001  9022014052508002   \n344280  9022014052612004  9022014052612006   \n344714  9022014075045005  9022014075045008   \n345923  9022014082017014  9022014082900004   \n346315  9022014088000001  9022014088000004   \n\n                                                 geometry     length  \\\n1       LINESTRING (308137.973 6400982.960, 308179.982...  60.859819   \n2       LINESTRING (308137.973 6400982.960, 308152.980...  26.640277   \n3       LINESTRING (308137.973 6400982.960, 308158.939...  50.593603   \n4       LINESTRING (308137.973 6400982.960, 308164.962...  74.995341   \n10      LINESTRING (308179.982 6400938.925, 308152.980...  34.845377   \n...                                                   ...        ...   \n344256  LINESTRING (417687.984 6388737.970, 417689.945...  23.094829   \n344280  LINESTRING (401194.940 6372618.918, 401161.944...  44.552924   \n344714  LINESTRING (481717.961 6390073.947, 481750.974...  72.058945   \n345923  LINESTRING (376765.998 6399417.991, 376750.968...  71.569168   \n346315  LINESTRING (512010.993 6571065.998, 511999.950...  11.760045   \n\n        time_distance  \n1           50.716516  \n2           22.200231  \n3           42.161336  \n4           62.496118  \n10          29.037814  \n...               ...  \n344256      19.245691  \n344280      37.127436  \n344714      60.049121  \n345923      59.640974  \n346315       9.800037  \n\n[13538 rows x 5 columns]",
      "text/html": "<div>\n<style scoped>\n    .dataframe tbody tr th:only-of-type {\n        vertical-align: middle;\n    }\n\n    .dataframe tbody tr th {\n        vertical-align: top;\n    }\n\n    .dataframe thead th {\n        text-align: right;\n    }\n</style>\n<table border=\"1\" class=\"dataframe\">\n  <thead>\n    <tr style=\"text-align: right;\">\n      <th></th>\n      <th>source</th>\n      <th>target</th>\n      <th>geometry</th>\n      <th>length</th>\n      <th>time_distance</th>\n    </tr>\n  </thead>\n  <tbody>\n    <tr>\n      <th>1</th>\n      <td>9022014001004001</td>\n      <td>9022014001004003</td>\n      <td>LINESTRING (308137.973 6400982.960, 308179.982...</td>\n      <td>60.859819</td>\n      <td>50.716516</td>\n    </tr>\n    <tr>\n      <th>2</th>\n      <td>9022014001004001</td>\n      <td>9022014001004004</td>\n      <td>LINESTRING (308137.973 6400982.960, 308152.980...</td>\n      <td>26.640277</td>\n      <td>22.200231</td>\n    </tr>\n    <tr>\n      <th>3</th>\n      <td>9022014001004001</td>\n      <td>9022014001004006</td>\n      <td>LINESTRING (308137.973 6400982.960, 308158.939...</td>\n      <td>50.593603</td>\n      <td>42.161336</td>\n    </tr>\n    <tr>\n      <th>4</th>\n      <td>9022014001004001</td>\n      <td>9022014001004007</td>\n      <td>LINESTRING (308137.973 6400982.960, 308164.962...</td>\n      <td>74.995341</td>\n      <td>62.496118</td>\n    </tr>\n    <tr>\n      <th>10</th>\n      <td>9022014001004003</td>\n      <td>9022014001004004</td>\n      <td>LINESTRING (308179.982 6400938.925, 308152.980...</td>\n      <td>34.845377</td>\n      <td>29.037814</td>\n    </tr>\n    <tr>\n      <th>...</th>\n      <td>...</td>\n      <td>...</td>\n      <td>...</td>\n      <td>...</td>\n      <td>...</td>\n    </tr>\n    <tr>\n      <th>344256</th>\n      <td>9022014052508001</td>\n      <td>9022014052508002</td>\n      <td>LINESTRING (417687.984 6388737.970, 417689.945...</td>\n      <td>23.094829</td>\n      <td>19.245691</td>\n    </tr>\n    <tr>\n      <th>344280</th>\n      <td>9022014052612004</td>\n      <td>9022014052612006</td>\n      <td>LINESTRING (401194.940 6372618.918, 401161.944...</td>\n      <td>44.552924</td>\n      <td>37.127436</td>\n    </tr>\n    <tr>\n      <th>344714</th>\n      <td>9022014075045005</td>\n      <td>9022014075045008</td>\n      <td>LINESTRING (481717.961 6390073.947, 481750.974...</td>\n      <td>72.058945</td>\n      <td>60.049121</td>\n    </tr>\n    <tr>\n      <th>345923</th>\n      <td>9022014082017014</td>\n      <td>9022014082900004</td>\n      <td>LINESTRING (376765.998 6399417.991, 376750.968...</td>\n      <td>71.569168</td>\n      <td>59.640974</td>\n    </tr>\n    <tr>\n      <th>346315</th>\n      <td>9022014088000001</td>\n      <td>9022014088000004</td>\n      <td>LINESTRING (512010.993 6571065.998, 511999.950...</td>\n      <td>11.760045</td>\n      <td>9.800037</td>\n    </tr>\n  </tbody>\n</table>\n<p>13538 rows × 5 columns</p>\n</div>"
     },
     "execution_count": 78,
     "metadata": {},
     "output_type": "execute_result"
    }
   ],
   "source": [
    "transfers_diff_stop"
   ],
   "metadata": {
    "collapsed": false,
    "pycharm": {
     "name": "#%%\n"
    }
   }
  },
  {
   "cell_type": "code",
   "execution_count": 50,
   "outputs": [],
   "source": [
    "# Step 6 (optional): Set Geometry and export the table to the DB\n",
    "transfers_diff_stop = gpd.GeoDataFrame(transfers_diff_stop, geometry='geometry', crs='3006')\n",
    "transfers_diff_stop.to_postgis('transfers_diff_stop_pt_1_long', engine, schema='pt_1_mdirections_mstops_mroutes', if_exists ='replace')"
   ],
   "metadata": {
    "collapsed": false,
    "pycharm": {
     "name": "#%%\n"
    }
   }
  }
 ],
 "metadata": {
  "kernelspec": {
   "display_name": "Python 3",
   "language": "python",
   "name": "python3"
  },
  "language_info": {
   "codemirror_mode": {
    "name": "ipython",
    "version": 2
   },
   "file_extension": ".py",
   "mimetype": "text/x-python",
   "name": "python",
   "nbconvert_exporter": "python",
   "pygments_lexer": "ipython2",
   "version": "2.7.6"
  }
 },
 "nbformat": 4,
 "nbformat_minor": 0
}