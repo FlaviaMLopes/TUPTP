{
 "cells": [
  {
   "cell_type": "markdown",
   "source": [
    "## One_direction_by_modes_tables"
   ],
   "metadata": {
    "collapsed": false,
    "pycharm": {
     "name": "#%% md\n"
    }
   }
  },
  {
   "cell_type": "markdown",
   "source": [
    "### Import libraries"
   ],
   "metadata": {
    "collapsed": false,
    "pycharm": {
     "name": "#%% md\n"
    }
   }
  },
  {
   "cell_type": "code",
   "execution_count": 1,
   "outputs": [],
   "source": [
    "# Step 1: Import libraries\n",
    "import pandas as pd\n",
    "import numpy as np\n",
    "import geopandas as gpd\n",
    "from sqlalchemy import create_engine\n",
    "from sqlalchemy import text\n",
    "from shapely.geometry import LineString, Point\n",
    "from shapely.ops import unary_union"
   ],
   "metadata": {
    "collapsed": false,
    "pycharm": {
     "name": "#%%\n"
    }
   }
  },
  {
   "cell_type": "markdown",
   "source": [
    "#### Create the connection with the DB"
   ],
   "metadata": {
    "collapsed": false,
    "pycharm": {
     "name": "#%% md\n"
    }
   }
  },
  {
   "cell_type": "code",
   "execution_count": 2,
   "outputs": [],
   "source": [
    "# Step 1: Create the connection with the DB\n",
    "engine = create_engine(\"postgresql://urbaninfo:@cirrus.ita.chalmers.se/se_tuptp\")\n",
    "conn = engine.connect()"
   ],
   "metadata": {
    "collapsed": false,
    "pycharm": {
     "name": "#%%\n"
    }
   }
  },
  {
   "cell_type": "code",
   "execution_count": 3,
   "outputs": [],
   "source": [
    "# Step 2: Create a new schema when it is necessary\n",
    "#schema = '''CREATE SCHEMA name_schema'''\n",
    "#conn.execute(schema)"
   ],
   "metadata": {
    "collapsed": false,
    "pycharm": {
     "name": "#%%\n"
    }
   }
  },
  {
   "cell_type": "markdown",
   "source": [
    "### Nodes"
   ],
   "metadata": {
    "collapsed": false,
    "pycharm": {
     "name": "#%% md\n"
    }
   }
  },
  {
   "cell_type": "code",
   "execution_count": 4,
   "outputs": [],
   "source": [
    "# Import Data\n",
    "# Step 1: Import Data\n",
    "nodes_pt_1_query = text('SELECT * FROM pt_1_mdirections_mstops_mroutes.nodes_pt_1')\n",
    "nodes_pt_1 = gpd.read_postgis(nodes_pt_1_query, engine, geom_col='geometry')"
   ],
   "metadata": {
    "collapsed": false,
    "pycharm": {
     "name": "#%%\n"
    }
   }
  },
  {
   "cell_type": "code",
   "execution_count": 5,
   "outputs": [],
   "source": [
    "# Preprocess the data.\n",
    "# Step 1: Copy the original DataFrame\n",
    "nodes_pt_3_id = nodes_pt_1.copy()\n",
    "\n",
    "# Step 2: Create the 'node_id' column by concatenating 'stop_name', 'place_id', and 'route_id' with underscores\n",
    "nodes_pt_3_id ['node_id'] = nodes_pt_3_id['stop_name'].astype(str) +'_'\\\n",
    "                            + nodes_pt_3_id['place_id'].astype(str) +'_'\\\n",
    "                            + nodes_pt_3_id['mode'].astype(str)\n",
    "\n",
    "# Step 3: Define aggregation functions for each column\n",
    "agg_func_node={\n",
    "    'route_id': list,\n",
    "    'route_short_name': list,\n",
    "    'stop_id':list,\n",
    "    'stop_name':'first',\n",
    "    'place_id':'first',\n",
    "    'mode':'first',\n",
    "    'direction_id':list,\n",
    "    'osmid':list,\n",
    "    'geometry': lambda g: Point(unary_union(g).centroid.x, unary_union(g).centroid.y)\n",
    "}\n",
    "\n",
    "nodes_pt_3_grouped = nodes_pt_3_id.groupby('node_id').agg(agg_func_node).reset_index()"
   ],
   "metadata": {
    "collapsed": false,
    "pycharm": {
     "name": "#%%\n"
    }
   }
  },
  {
   "cell_type": "code",
   "execution_count": 6,
   "outputs": [
    {
     "data": {
      "text/plain": "                                        node_id           stop_name  \\\n0          7:e Villagatan_307955489_bus_service      7:e Villagatan   \n1          AGA Vattenfall_307980814_bus_service      AGA Vattenfall   \n2            Abrahamstorp_307959538_bus_service        Abrahamstorp   \n3  Abrahamstorp_307959538_communal_taxi_service        Abrahamstorp   \n4      Acklinga Solbacken_307927983_bus_service  Acklinga Solbacken   \n\n    place_id                   mode  \\\n0  307955489            bus_service   \n1  307980814            bus_service   \n2  307959538            bus_service   \n3  307959538  communal_taxi_service   \n4  307927983            bus_service   \n\n                                             stop_id  \\\n0  [9022014082785001, 9022014082785001, 902201408...   \n1  [9022014015161001, 9022014015161001, 902201401...   \n2                                 [9022014046020001]   \n3               [9022014046020001, 9022014046020002]   \n4                                 [9022014042270002]   \n\n                                            route_id  \\\n0  [9011014200300000, 9011014200500000, 901101420...   \n1  [9011014633100000, 9011014633400000, 901101463...   \n2                                 [9011014658100000]   \n3               [9011014366300000, 9011014366300000]   \n4                                 [9011014332600000]   \n\n                  route_short_name              direction_id  \\\n0         [3, 5, 8, 1, 3, 5, 8, 1]  [0, 1, 0, 0, 1, 0, 1, 1]   \n1  [331, 334, 4, 932, 331, 334, 4]     [0, 0, 1, 1, 1, 1, 0]   \n2                            [581]                       [1]   \n3                       [663, 663]                    [1, 0]   \n4                            [326]                       [1]   \n\n                                               osmid  \\\n0  [87793055.0, 87793055.0, 87793055.0, 87793055....   \n1  [1021141732.0, 1021141732.0, 1021141732.0, 102...   \n2                                      [173516827.0]   \n3                         [173516827.0, 835571452.0]   \n4                                     [1008032531.0]   \n\n                         geometry  \n0  POINT (378291.977 6399668.440)  \n1  POINT (313191.955 6442732.480)  \n2  POINT (371000.976 6448532.958)  \n3  POINT (371017.481 6448504.455)  \n4  POINT (434378.988 6451901.915)  ",
      "text/html": "<div>\n<style scoped>\n    .dataframe tbody tr th:only-of-type {\n        vertical-align: middle;\n    }\n\n    .dataframe tbody tr th {\n        vertical-align: top;\n    }\n\n    .dataframe thead th {\n        text-align: right;\n    }\n</style>\n<table border=\"1\" class=\"dataframe\">\n  <thead>\n    <tr style=\"text-align: right;\">\n      <th></th>\n      <th>node_id</th>\n      <th>stop_name</th>\n      <th>place_id</th>\n      <th>mode</th>\n      <th>stop_id</th>\n      <th>route_id</th>\n      <th>route_short_name</th>\n      <th>direction_id</th>\n      <th>osmid</th>\n      <th>geometry</th>\n    </tr>\n  </thead>\n  <tbody>\n    <tr>\n      <th>0</th>\n      <td>7:e Villagatan_307955489_bus_service</td>\n      <td>7:e Villagatan</td>\n      <td>307955489</td>\n      <td>bus_service</td>\n      <td>[9022014082785001, 9022014082785001, 902201408...</td>\n      <td>[9011014200300000, 9011014200500000, 901101420...</td>\n      <td>[3, 5, 8, 1, 3, 5, 8, 1]</td>\n      <td>[0, 1, 0, 0, 1, 0, 1, 1]</td>\n      <td>[87793055.0, 87793055.0, 87793055.0, 87793055....</td>\n      <td>POINT (378291.977 6399668.440)</td>\n    </tr>\n    <tr>\n      <th>1</th>\n      <td>AGA Vattenfall_307980814_bus_service</td>\n      <td>AGA Vattenfall</td>\n      <td>307980814</td>\n      <td>bus_service</td>\n      <td>[9022014015161001, 9022014015161001, 902201401...</td>\n      <td>[9011014633100000, 9011014633400000, 901101463...</td>\n      <td>[331, 334, 4, 932, 331, 334, 4]</td>\n      <td>[0, 0, 1, 1, 1, 1, 0]</td>\n      <td>[1021141732.0, 1021141732.0, 1021141732.0, 102...</td>\n      <td>POINT (313191.955 6442732.480)</td>\n    </tr>\n    <tr>\n      <th>2</th>\n      <td>Abrahamstorp_307959538_bus_service</td>\n      <td>Abrahamstorp</td>\n      <td>307959538</td>\n      <td>bus_service</td>\n      <td>[9022014046020001]</td>\n      <td>[9011014658100000]</td>\n      <td>[581]</td>\n      <td>[1]</td>\n      <td>[173516827.0]</td>\n      <td>POINT (371000.976 6448532.958)</td>\n    </tr>\n    <tr>\n      <th>3</th>\n      <td>Abrahamstorp_307959538_communal_taxi_service</td>\n      <td>Abrahamstorp</td>\n      <td>307959538</td>\n      <td>communal_taxi_service</td>\n      <td>[9022014046020001, 9022014046020002]</td>\n      <td>[9011014366300000, 9011014366300000]</td>\n      <td>[663, 663]</td>\n      <td>[1, 0]</td>\n      <td>[173516827.0, 835571452.0]</td>\n      <td>POINT (371017.481 6448504.455)</td>\n    </tr>\n    <tr>\n      <th>4</th>\n      <td>Acklinga Solbacken_307927983_bus_service</td>\n      <td>Acklinga Solbacken</td>\n      <td>307927983</td>\n      <td>bus_service</td>\n      <td>[9022014042270002]</td>\n      <td>[9011014332600000]</td>\n      <td>[326]</td>\n      <td>[1]</td>\n      <td>[1008032531.0]</td>\n      <td>POINT (434378.988 6451901.915)</td>\n    </tr>\n  </tbody>\n</table>\n</div>"
     },
     "execution_count": 6,
     "metadata": {},
     "output_type": "execute_result"
    }
   ],
   "source": [
    "# Filter and organize the data\n",
    "# Step 4: Select and clean the final columns\n",
    "nodes_pt_3 = nodes_pt_3_grouped [['node_id', 'stop_name', 'place_id', 'mode',\n",
    "                                  'stop_id', 'route_id', 'route_short_name',\n",
    "                                  'direction_id', 'osmid', 'geometry']].dropna().drop_duplicates('node_id')\n",
    "\n",
    "# Step 5 (optional): Display the head of the DataFrame\n",
    "nodes_pt_3.head()"
   ],
   "metadata": {
    "collapsed": false,
    "pycharm": {
     "name": "#%%\n"
    }
   }
  },
  {
   "cell_type": "markdown",
   "source": [
    "#### export to the DB"
   ],
   "metadata": {
    "collapsed": false,
    "pycharm": {
     "name": "#%% md\n"
    }
   }
  },
  {
   "cell_type": "code",
   "source": [
    "# Step 6 (optional): Set geometry and export to the DB\n",
    "nodes_pt_3 = gpd.GeoDataFrame(nodes_pt_3, geometry='geometry', crs='3006')\n",
    "nodes_pt_3.to_postgis('nodes_pt_3', engine, schema='pt_3_odirection_mstops_bymode', if_exists ='replace')"
   ],
   "metadata": {
    "collapsed": false,
    "pycharm": {
     "name": "#%%\n"
    }
   },
   "execution_count": 7,
   "outputs": []
  },
  {
   "cell_type": "markdown",
   "source": [
    "### Links"
   ],
   "metadata": {
    "collapsed": false,
    "pycharm": {
     "name": "#%% md\n"
    }
   }
  },
  {
   "cell_type": "code",
   "execution_count": 8,
   "outputs": [],
   "source": [
    "# Import data\n",
    "#Step 1: Import Data\n",
    "links_pt_1_query = text('SELECT * FROM pt_1_mdirections_mstops_mroutes.links_pt_1_wide')\n",
    "links_pt_1 = gpd.read_postgis(links_pt_1_query, engine, geom_col='geometry')"
   ],
   "metadata": {
    "collapsed": false,
    "pycharm": {
     "name": "#%%\n"
    }
   }
  },
  {
   "cell_type": "code",
   "execution_count": 9,
   "outputs": [
    {
     "data": {
      "text/plain": "                                  node_id_source  \\\n0           Bäckängsskolan_307955489_bus_service   \n1           Bäckängsskolan_307955489_bus_service   \n2           Bäckängsskolan_307955489_bus_service   \n3           Bäckängsskolan_307955489_bus_service   \n4  Södra Älvsborgs sjukhus_307955489_bus_service   \n\n                         node_id_target  time_distance  \\\n0  7:e Villagatan_307955489_bus_service          129.0   \n1  7:e Villagatan_307955489_bus_service          114.0   \n2  7:e Villagatan_307955489_bus_service          117.0   \n3  7:e Villagatan_307955489_bus_service          117.0   \n4  7:e Villagatan_307955489_bus_service           98.0   \n\n          stop_name_source stop_name_target  place_id_source  place_id_target  \\\n0           Bäckängsskolan   7:e Villagatan        307955489        307955489   \n1           Bäckängsskolan   7:e Villagatan        307955489        307955489   \n2           Bäckängsskolan   7:e Villagatan        307955489        307955489   \n3           Bäckängsskolan   7:e Villagatan        307955489        307955489   \n4  Södra Älvsborgs sjukhus   7:e Villagatan        307955489        307955489   \n\n     stop_id_source    stop_id_target          route_id  ...  \\\n0  9022014082676002  9022014082785002  9011014200100000  ...   \n1  9022014082676002  9022014082785002  9011014200300000  ...   \n2  9022014082676002  9022014082785002  9011014200500000  ...   \n3  9022014082676002  9022014082785002  9011014200800000  ...   \n4  9022014082726001  9022014082785001  9011014200100000  ...   \n\n  freq_friday_night(dawn) freq_saturday_night(dawn) freq_sunday_night(dawn)  \\\n0                     0.0                       0.0                     0.0   \n1                     0.0                       0.0                     0.0   \n2                     0.0                       0.0                     0.0   \n3                     0.0                       0.0                     0.0   \n4                     0.0                       0.0                     0.0   \n\n  freq_week_day_morning freq_week_day_peak_morning  freq_week_day_afternoon  \\\n0           2842.105263                1800.000000              2571.428571   \n1           9000.000000                9671.641791              9000.000000   \n2           8415.584416                5102.362205              8415.584416   \n3           6000.000000                3410.526316              4984.615385   \n4           2781.115880                1825.352113              2623.481781   \n\n   freq_week_day_peak_evening  freq_week_day_evening  freq_week_day_night  \\\n0                 1800.000000            2454.545455          4909.090909   \n1                 9000.000000            9671.641791         54000.000000   \n2                 4729.927007            6750.000000          9000.000000   \n3                 3100.478469            5634.782609          9000.000000   \n4                 1800.000000            2347.826087          6000.000000   \n\n   freq_week_day_night(dawn)  \n0                        0.0  \n1                        0.0  \n2                        0.0  \n3                        0.0  \n4                        0.0  \n\n[5 rows x 71 columns]",
      "text/html": "<div>\n<style scoped>\n    .dataframe tbody tr th:only-of-type {\n        vertical-align: middle;\n    }\n\n    .dataframe tbody tr th {\n        vertical-align: top;\n    }\n\n    .dataframe thead th {\n        text-align: right;\n    }\n</style>\n<table border=\"1\" class=\"dataframe\">\n  <thead>\n    <tr style=\"text-align: right;\">\n      <th></th>\n      <th>node_id_source</th>\n      <th>node_id_target</th>\n      <th>time_distance</th>\n      <th>stop_name_source</th>\n      <th>stop_name_target</th>\n      <th>place_id_source</th>\n      <th>place_id_target</th>\n      <th>stop_id_source</th>\n      <th>stop_id_target</th>\n      <th>route_id</th>\n      <th>...</th>\n      <th>freq_friday_night(dawn)</th>\n      <th>freq_saturday_night(dawn)</th>\n      <th>freq_sunday_night(dawn)</th>\n      <th>freq_week_day_morning</th>\n      <th>freq_week_day_peak_morning</th>\n      <th>freq_week_day_afternoon</th>\n      <th>freq_week_day_peak_evening</th>\n      <th>freq_week_day_evening</th>\n      <th>freq_week_day_night</th>\n      <th>freq_week_day_night(dawn)</th>\n    </tr>\n  </thead>\n  <tbody>\n    <tr>\n      <th>0</th>\n      <td>Bäckängsskolan_307955489_bus_service</td>\n      <td>7:e Villagatan_307955489_bus_service</td>\n      <td>129.0</td>\n      <td>Bäckängsskolan</td>\n      <td>7:e Villagatan</td>\n      <td>307955489</td>\n      <td>307955489</td>\n      <td>9022014082676002</td>\n      <td>9022014082785002</td>\n      <td>9011014200100000</td>\n      <td>...</td>\n      <td>0.0</td>\n      <td>0.0</td>\n      <td>0.0</td>\n      <td>2842.105263</td>\n      <td>1800.000000</td>\n      <td>2571.428571</td>\n      <td>1800.000000</td>\n      <td>2454.545455</td>\n      <td>4909.090909</td>\n      <td>0.0</td>\n    </tr>\n    <tr>\n      <th>1</th>\n      <td>Bäckängsskolan_307955489_bus_service</td>\n      <td>7:e Villagatan_307955489_bus_service</td>\n      <td>114.0</td>\n      <td>Bäckängsskolan</td>\n      <td>7:e Villagatan</td>\n      <td>307955489</td>\n      <td>307955489</td>\n      <td>9022014082676002</td>\n      <td>9022014082785002</td>\n      <td>9011014200300000</td>\n      <td>...</td>\n      <td>0.0</td>\n      <td>0.0</td>\n      <td>0.0</td>\n      <td>9000.000000</td>\n      <td>9671.641791</td>\n      <td>9000.000000</td>\n      <td>9000.000000</td>\n      <td>9671.641791</td>\n      <td>54000.000000</td>\n      <td>0.0</td>\n    </tr>\n    <tr>\n      <th>2</th>\n      <td>Bäckängsskolan_307955489_bus_service</td>\n      <td>7:e Villagatan_307955489_bus_service</td>\n      <td>117.0</td>\n      <td>Bäckängsskolan</td>\n      <td>7:e Villagatan</td>\n      <td>307955489</td>\n      <td>307955489</td>\n      <td>9022014082676002</td>\n      <td>9022014082785002</td>\n      <td>9011014200500000</td>\n      <td>...</td>\n      <td>0.0</td>\n      <td>0.0</td>\n      <td>0.0</td>\n      <td>8415.584416</td>\n      <td>5102.362205</td>\n      <td>8415.584416</td>\n      <td>4729.927007</td>\n      <td>6750.000000</td>\n      <td>9000.000000</td>\n      <td>0.0</td>\n    </tr>\n    <tr>\n      <th>3</th>\n      <td>Bäckängsskolan_307955489_bus_service</td>\n      <td>7:e Villagatan_307955489_bus_service</td>\n      <td>117.0</td>\n      <td>Bäckängsskolan</td>\n      <td>7:e Villagatan</td>\n      <td>307955489</td>\n      <td>307955489</td>\n      <td>9022014082676002</td>\n      <td>9022014082785002</td>\n      <td>9011014200800000</td>\n      <td>...</td>\n      <td>0.0</td>\n      <td>0.0</td>\n      <td>0.0</td>\n      <td>6000.000000</td>\n      <td>3410.526316</td>\n      <td>4984.615385</td>\n      <td>3100.478469</td>\n      <td>5634.782609</td>\n      <td>9000.000000</td>\n      <td>0.0</td>\n    </tr>\n    <tr>\n      <th>4</th>\n      <td>Södra Älvsborgs sjukhus_307955489_bus_service</td>\n      <td>7:e Villagatan_307955489_bus_service</td>\n      <td>98.0</td>\n      <td>Södra Älvsborgs sjukhus</td>\n      <td>7:e Villagatan</td>\n      <td>307955489</td>\n      <td>307955489</td>\n      <td>9022014082726001</td>\n      <td>9022014082785001</td>\n      <td>9011014200100000</td>\n      <td>...</td>\n      <td>0.0</td>\n      <td>0.0</td>\n      <td>0.0</td>\n      <td>2781.115880</td>\n      <td>1825.352113</td>\n      <td>2623.481781</td>\n      <td>1800.000000</td>\n      <td>2347.826087</td>\n      <td>6000.000000</td>\n      <td>0.0</td>\n    </tr>\n  </tbody>\n</table>\n<p>5 rows × 71 columns</p>\n</div>"
     },
     "execution_count": 9,
     "metadata": {},
     "output_type": "execute_result"
    }
   ],
   "source": [
    "# Preprocess the Data\n",
    "# Step 1: Merge nodes and links in order to get the right combination of data\n",
    "links_pt_3_source_merge = pd.merge(\n",
    "    nodes_pt_3[['node_id', 'stop_name', 'place_id', 'mode', 'direction_id', 'geometry']],\n",
    "    links_pt_1[['route_id', 'route_short_name', 'stop_id_source', 'stop_id_target',\n",
    "                'stop_name_source', 'stop_name_target', 'place_id_source', 'place_id_target',\n",
    "                'mode','time_distance'] + [col for col in links_pt_1.columns if col.startswith('freq_')]],\n",
    "    left_on=['mode', 'stop_name', 'place_id'],\n",
    "    right_on=['mode', 'stop_name_source', 'place_id_source'], how='inner'\n",
    ")\n",
    "\n",
    "links_pt_3_target_merge  = pd.merge(\n",
    "    nodes_pt_3[['node_id', 'stop_name', 'place_id', 'mode', 'direction_id', 'geometry']],\n",
    "    links_pt_3_source_merge[['node_id', 'stop_id_source', 'stop_id_target', 'stop_name_source',\n",
    "                             'stop_name_target', 'place_id_source', 'place_id_target',\n",
    "                             'route_id', 'route_short_name', 'mode', 'time_distance',\n",
    "                             'geometry'] + [col for col in links_pt_3_source_merge.columns if col.startswith('freq_')]],\n",
    "    left_on=['mode','stop_name','place_id'],\n",
    "    right_on=['mode','stop_name_target','place_id_target'],\n",
    "    how='inner'\n",
    ").rename(columns={\n",
    "    'node_id_x':'node_id_target', 'node_id_y':'node_id_source',\n",
    "    'geometry_x':'geometry_target', 'geometry_y':'geometry_source'\n",
    "})\n",
    "\n",
    "# Step 2: Select specific columns and remove duplicates\n",
    "links_pt_3_l1 = links_pt_3_target_merge [['node_id_source', 'node_id_target', 'time_distance',\n",
    "                                              'stop_name_source', 'stop_name_target', 'place_id_source',\n",
    "                                              'place_id_target', 'stop_id_source', 'stop_id_target',\n",
    "                                              'route_id', 'route_short_name', 'mode', 'direction_id',\n",
    "                                              'geometry_source','geometry_target']\n",
    "                                             + [col for col in links_pt_3_target_merge.columns if col.startswith('freq_')]]\n",
    "\n",
    "# Step 3 (optional): Display the results\n",
    "links_pt_3_l1.head()"
   ],
   "metadata": {
    "collapsed": false,
    "pycharm": {
     "name": "#%%\n"
    }
   }
  },
  {
   "cell_type": "code",
   "execution_count": 10,
   "outputs": [
    {
     "name": "stderr",
     "output_type": "stream",
     "text": [
      "C:\\Users\\monaliza\\AppData\\Roaming\\Python\\Python39\\site-packages\\geopandas\\geodataframe.py:1525: SettingWithCopyWarning: \n",
      "A value is trying to be set on a copy of a slice from a DataFrame.\n",
      "Try using .loc[row_indexer,col_indexer] = value instead\n",
      "\n",
      "See the caveats in the documentation: https://pandas.pydata.org/pandas-docs/stable/user_guide/indexing.html#returning-a-view-versus-a-copy\n",
      "  super().__setitem__(key, value)\n"
     ]
    },
    {
     "data": {
      "text/plain": "                                     symmetric_pairs  \\\n0  7:e Villagatan_307955489_bus_service-Bäckängss...   \n1  7:e Villagatan_307955489_bus_service-Södra Älv...   \n2  AGA Vattenfall_307980814_bus_service-Borealis ...   \n3  AGA Vattenfall_307980814_bus_service-Jordhamma...   \n4  Abrahamstorp_307959538_bus_service-Badet_30795...   \n\n                                  node_id_source  \\\n0           Bäckängsskolan_307955489_bus_service   \n1  Södra Älvsborgs sjukhus_307955489_bus_service   \n2         Borealis kracker_307980814_bus_service   \n3               Jordhammar_307980814_bus_service   \n4                    Badet_307959538_bus_service   \n\n                         node_id_target  \\\n0  7:e Villagatan_307955489_bus_service   \n1  7:e Villagatan_307955489_bus_service   \n2  AGA Vattenfall_307980814_bus_service   \n3  AGA Vattenfall_307980814_bus_service   \n4    Abrahamstorp_307959538_bus_service   \n\n                                            route_id  \\\n0  [9011014200100000, 9011014200300000, 901101420...   \n1  [9011014200100000, 9011014200300000, 901101420...   \n2  [9011014633100000, 9011014633400000, 901101463...   \n3  [9011014633100000, 9011014633400000, 901101463...   \n4                                 [9011014658100000]   \n\n                  route_short_name         mode    stop_id_source  \\\n0         [1, 3, 5, 8, 1, 3, 5, 8]  bus_service  9022014082676002   \n1         [1, 3, 5, 8, 1, 3, 5, 8]  bus_service  9022014082726001   \n2  [331, 334, 4, 331, 334, 4, 932]  bus_service  9022014015013002   \n3  [331, 334, 4, 932, 331, 334, 4]  bus_service  9022014015110001   \n4                            [581]  bus_service  9022014046021001   \n\n     stop_id_target         stop_name_source stop_name_target  ...  \\\n0  9022014082785002           Bäckängsskolan   7:e Villagatan  ...   \n1  9022014082785001  Södra Älvsborgs sjukhus   7:e Villagatan  ...   \n2  9022014015161002         Borealis kracker   AGA Vattenfall  ...   \n3  9022014015161001               Jordhammar   AGA Vattenfall  ...   \n4  9022014046020001                    Badet     Abrahamstorp  ...   \n\n   freq_friday_night(dawn)  freq_saturday_night(dawn)  \\\n0                      0.0                        0.0   \n1                      0.0                        0.0   \n2                      0.0                        0.0   \n3                      0.0                        0.0   \n4                      0.0                        0.0   \n\n   freq_sunday_night(dawn) freq_week_day_morning freq_week_day_peak_morning  \\\n0                      0.0           2842.105263                1800.000000   \n1                      0.0           2757.446809                1825.352113   \n2                      0.0              0.000000                   0.000000   \n3                      0.0              0.000000                   0.000000   \n4                      0.0          54000.000000               27000.000000   \n\n   freq_week_day_afternoon  freq_week_day_peak_evening  freq_week_day_evening  \\\n0              2571.428571                      1800.0            2347.826087   \n1              2623.481781                      1800.0            2347.826087   \n2                 0.000000                         0.0               0.000000   \n3                 0.000000                         0.0               0.000000   \n4             27000.000000                     27000.0           27000.000000   \n\n   freq_week_day_night  freq_week_day_night(dawn)  \n0                  0.0                        0.0  \n1                  0.0                        0.0  \n2                  0.0                        0.0  \n3                  0.0                        0.0  \n4                  0.0                        0.0  \n\n[5 rows x 71 columns]",
      "text/html": "<div>\n<style scoped>\n    .dataframe tbody tr th:only-of-type {\n        vertical-align: middle;\n    }\n\n    .dataframe tbody tr th {\n        vertical-align: top;\n    }\n\n    .dataframe thead th {\n        text-align: right;\n    }\n</style>\n<table border=\"1\" class=\"dataframe\">\n  <thead>\n    <tr style=\"text-align: right;\">\n      <th></th>\n      <th>symmetric_pairs</th>\n      <th>node_id_source</th>\n      <th>node_id_target</th>\n      <th>route_id</th>\n      <th>route_short_name</th>\n      <th>mode</th>\n      <th>stop_id_source</th>\n      <th>stop_id_target</th>\n      <th>stop_name_source</th>\n      <th>stop_name_target</th>\n      <th>...</th>\n      <th>freq_friday_night(dawn)</th>\n      <th>freq_saturday_night(dawn)</th>\n      <th>freq_sunday_night(dawn)</th>\n      <th>freq_week_day_morning</th>\n      <th>freq_week_day_peak_morning</th>\n      <th>freq_week_day_afternoon</th>\n      <th>freq_week_day_peak_evening</th>\n      <th>freq_week_day_evening</th>\n      <th>freq_week_day_night</th>\n      <th>freq_week_day_night(dawn)</th>\n    </tr>\n  </thead>\n  <tbody>\n    <tr>\n      <th>0</th>\n      <td>7:e Villagatan_307955489_bus_service-Bäckängss...</td>\n      <td>Bäckängsskolan_307955489_bus_service</td>\n      <td>7:e Villagatan_307955489_bus_service</td>\n      <td>[9011014200100000, 9011014200300000, 901101420...</td>\n      <td>[1, 3, 5, 8, 1, 3, 5, 8]</td>\n      <td>bus_service</td>\n      <td>9022014082676002</td>\n      <td>9022014082785002</td>\n      <td>Bäckängsskolan</td>\n      <td>7:e Villagatan</td>\n      <td>...</td>\n      <td>0.0</td>\n      <td>0.0</td>\n      <td>0.0</td>\n      <td>2842.105263</td>\n      <td>1800.000000</td>\n      <td>2571.428571</td>\n      <td>1800.0</td>\n      <td>2347.826087</td>\n      <td>0.0</td>\n      <td>0.0</td>\n    </tr>\n    <tr>\n      <th>1</th>\n      <td>7:e Villagatan_307955489_bus_service-Södra Älv...</td>\n      <td>Södra Älvsborgs sjukhus_307955489_bus_service</td>\n      <td>7:e Villagatan_307955489_bus_service</td>\n      <td>[9011014200100000, 9011014200300000, 901101420...</td>\n      <td>[1, 3, 5, 8, 1, 3, 5, 8]</td>\n      <td>bus_service</td>\n      <td>9022014082726001</td>\n      <td>9022014082785001</td>\n      <td>Södra Älvsborgs sjukhus</td>\n      <td>7:e Villagatan</td>\n      <td>...</td>\n      <td>0.0</td>\n      <td>0.0</td>\n      <td>0.0</td>\n      <td>2757.446809</td>\n      <td>1825.352113</td>\n      <td>2623.481781</td>\n      <td>1800.0</td>\n      <td>2347.826087</td>\n      <td>0.0</td>\n      <td>0.0</td>\n    </tr>\n    <tr>\n      <th>2</th>\n      <td>AGA Vattenfall_307980814_bus_service-Borealis ...</td>\n      <td>Borealis kracker_307980814_bus_service</td>\n      <td>AGA Vattenfall_307980814_bus_service</td>\n      <td>[9011014633100000, 9011014633400000, 901101463...</td>\n      <td>[331, 334, 4, 331, 334, 4, 932]</td>\n      <td>bus_service</td>\n      <td>9022014015013002</td>\n      <td>9022014015161002</td>\n      <td>Borealis kracker</td>\n      <td>AGA Vattenfall</td>\n      <td>...</td>\n      <td>0.0</td>\n      <td>0.0</td>\n      <td>0.0</td>\n      <td>0.000000</td>\n      <td>0.000000</td>\n      <td>0.000000</td>\n      <td>0.0</td>\n      <td>0.000000</td>\n      <td>0.0</td>\n      <td>0.0</td>\n    </tr>\n    <tr>\n      <th>3</th>\n      <td>AGA Vattenfall_307980814_bus_service-Jordhamma...</td>\n      <td>Jordhammar_307980814_bus_service</td>\n      <td>AGA Vattenfall_307980814_bus_service</td>\n      <td>[9011014633100000, 9011014633400000, 901101463...</td>\n      <td>[331, 334, 4, 932, 331, 334, 4]</td>\n      <td>bus_service</td>\n      <td>9022014015110001</td>\n      <td>9022014015161001</td>\n      <td>Jordhammar</td>\n      <td>AGA Vattenfall</td>\n      <td>...</td>\n      <td>0.0</td>\n      <td>0.0</td>\n      <td>0.0</td>\n      <td>0.000000</td>\n      <td>0.000000</td>\n      <td>0.000000</td>\n      <td>0.0</td>\n      <td>0.000000</td>\n      <td>0.0</td>\n      <td>0.0</td>\n    </tr>\n    <tr>\n      <th>4</th>\n      <td>Abrahamstorp_307959538_bus_service-Badet_30795...</td>\n      <td>Badet_307959538_bus_service</td>\n      <td>Abrahamstorp_307959538_bus_service</td>\n      <td>[9011014658100000]</td>\n      <td>[581]</td>\n      <td>bus_service</td>\n      <td>9022014046021001</td>\n      <td>9022014046020001</td>\n      <td>Badet</td>\n      <td>Abrahamstorp</td>\n      <td>...</td>\n      <td>0.0</td>\n      <td>0.0</td>\n      <td>0.0</td>\n      <td>54000.000000</td>\n      <td>27000.000000</td>\n      <td>27000.000000</td>\n      <td>27000.0</td>\n      <td>27000.000000</td>\n      <td>0.0</td>\n      <td>0.0</td>\n    </tr>\n  </tbody>\n</table>\n<p>5 rows × 71 columns</p>\n</div>"
     },
     "execution_count": 10,
     "metadata": {},
     "output_type": "execute_result"
    }
   ],
   "source": [
    "# Create the links of the one direction model\n",
    "# Step 4: Aggregate Data\n",
    "links_pt_3_l1['geometry'] = links_pt_3_l1.apply(lambda row: LineString([Point(row['geometry_source']), Point(row['geometry_target'])]), axis=1)\n",
    "links_pt_3_l1['symmetric_pairs'] = links_pt_3_l1[['node_id_source', 'node_id_target']].apply(lambda x: '-'.join(sorted(x)), axis=1)\n",
    "\n",
    "# Step 5: Define aggregation functions for various columns\n",
    "agg_func_link = {\n",
    "    'node_id_source': 'first',\n",
    "    'node_id_target': 'first',\n",
    "    'route_id': list,\n",
    "    'route_short_name':list,\n",
    "    'mode': 'first',\n",
    "    'stop_id_source':'first',\n",
    "    'stop_id_target':'first',\n",
    "    'stop_name_source':'first',\n",
    "    'stop_name_target':'first',\n",
    "    'place_id_source':'first',\n",
    "    'place_id_target':'first',\n",
    "    'time_distance':'min',\n",
    "    'direction_id':'first',\n",
    "    'geometry': 'first'\n",
    "}\n",
    "\n",
    "freq_cols = [col for col in links_pt_3_l1.columns if col.startswith('freq_')]\n",
    "agg_func_link.update({col: 'min' for col in freq_cols})\n",
    "\n",
    "links_pt_3_l2 = links_pt_3_l1.groupby(['symmetric_pairs']).agg(agg_func_link).reset_index()\n",
    "\n",
    "# Step 6 (optional): Display the results\n",
    "links_pt_3_l2.head()"
   ],
   "metadata": {
    "collapsed": false,
    "pycharm": {
     "name": "#%%\n"
    }
   }
  },
  {
   "cell_type": "code",
   "execution_count": 12,
   "outputs": [
    {
     "data": {
      "text/plain": "                                          source  \\\n0           Bäckängsskolan_307955489_bus_service   \n1  Södra Älvsborgs sjukhus_307955489_bus_service   \n2         Borealis kracker_307980814_bus_service   \n3               Jordhammar_307980814_bus_service   \n4                    Badet_307959538_bus_service   \n\n                                 target  time_distance  \\\n0  7:e Villagatan_307955489_bus_service          109.0   \n1  7:e Villagatan_307955489_bus_service           86.0   \n2  AGA Vattenfall_307980814_bus_service           27.0   \n3  AGA Vattenfall_307980814_bus_service           97.0   \n4    Abrahamstorp_307959538_bus_service           82.0   \n\n                                            route_id         stop_name_source  \\\n0  [9011014200100000, 9011014200300000, 901101420...           Bäckängsskolan   \n1  [9011014200100000, 9011014200300000, 901101420...  Södra Älvsborgs sjukhus   \n2  [9011014633100000, 9011014633400000, 901101463...         Borealis kracker   \n3  [9011014633100000, 9011014633400000, 901101463...               Jordhammar   \n4                                 [9011014658100000]                    Badet   \n\n   place_id_source stop_name_target  place_id_target    stop_id_source  \\\n0        307955489   7:e Villagatan        307955489  9022014082676002   \n1        307955489   7:e Villagatan        307955489  9022014082726001   \n2        307980814   AGA Vattenfall        307980814  9022014015013002   \n3        307980814   AGA Vattenfall        307980814  9022014015110001   \n4        307959538     Abrahamstorp        307959538  9022014046021001   \n\n     stop_id_target  ... freq_friday_night(dawn) freq_saturday_night(dawn)  \\\n0  9022014082785002  ...                     0.0                       0.0   \n1  9022014082785001  ...                     0.0                       0.0   \n2  9022014015161002  ...                     0.0                       0.0   \n3  9022014015161001  ...                     0.0                       0.0   \n4  9022014046020001  ...                     0.0                       0.0   \n\n  freq_sunday_night(dawn) freq_week_day_morning  freq_week_day_peak_morning  \\\n0                     0.0           2842.105263                 1800.000000   \n1                     0.0           2757.446809                 1825.352113   \n2                     0.0              0.000000                    0.000000   \n3                     0.0              0.000000                    0.000000   \n4                     0.0          54000.000000                27000.000000   \n\n   freq_week_day_afternoon  freq_week_day_peak_evening  freq_week_day_evening  \\\n0              2571.428571                      1800.0            2347.826087   \n1              2623.481781                      1800.0            2347.826087   \n2                 0.000000                         0.0               0.000000   \n3                 0.000000                         0.0               0.000000   \n4             27000.000000                     27000.0           27000.000000   \n\n   freq_week_day_night  freq_week_day_night(dawn)  \n0                  0.0                        0.0  \n1                  0.0                        0.0  \n2                  0.0                        0.0  \n3                  0.0                        0.0  \n4                  0.0                        0.0  \n\n[5 rows x 70 columns]",
      "text/html": "<div>\n<style scoped>\n    .dataframe tbody tr th:only-of-type {\n        vertical-align: middle;\n    }\n\n    .dataframe tbody tr th {\n        vertical-align: top;\n    }\n\n    .dataframe thead th {\n        text-align: right;\n    }\n</style>\n<table border=\"1\" class=\"dataframe\">\n  <thead>\n    <tr style=\"text-align: right;\">\n      <th></th>\n      <th>source</th>\n      <th>target</th>\n      <th>time_distance</th>\n      <th>route_id</th>\n      <th>stop_name_source</th>\n      <th>place_id_source</th>\n      <th>stop_name_target</th>\n      <th>place_id_target</th>\n      <th>stop_id_source</th>\n      <th>stop_id_target</th>\n      <th>...</th>\n      <th>freq_friday_night(dawn)</th>\n      <th>freq_saturday_night(dawn)</th>\n      <th>freq_sunday_night(dawn)</th>\n      <th>freq_week_day_morning</th>\n      <th>freq_week_day_peak_morning</th>\n      <th>freq_week_day_afternoon</th>\n      <th>freq_week_day_peak_evening</th>\n      <th>freq_week_day_evening</th>\n      <th>freq_week_day_night</th>\n      <th>freq_week_day_night(dawn)</th>\n    </tr>\n  </thead>\n  <tbody>\n    <tr>\n      <th>0</th>\n      <td>Bäckängsskolan_307955489_bus_service</td>\n      <td>7:e Villagatan_307955489_bus_service</td>\n      <td>109.0</td>\n      <td>[9011014200100000, 9011014200300000, 901101420...</td>\n      <td>Bäckängsskolan</td>\n      <td>307955489</td>\n      <td>7:e Villagatan</td>\n      <td>307955489</td>\n      <td>9022014082676002</td>\n      <td>9022014082785002</td>\n      <td>...</td>\n      <td>0.0</td>\n      <td>0.0</td>\n      <td>0.0</td>\n      <td>2842.105263</td>\n      <td>1800.000000</td>\n      <td>2571.428571</td>\n      <td>1800.0</td>\n      <td>2347.826087</td>\n      <td>0.0</td>\n      <td>0.0</td>\n    </tr>\n    <tr>\n      <th>1</th>\n      <td>Södra Älvsborgs sjukhus_307955489_bus_service</td>\n      <td>7:e Villagatan_307955489_bus_service</td>\n      <td>86.0</td>\n      <td>[9011014200100000, 9011014200300000, 901101420...</td>\n      <td>Södra Älvsborgs sjukhus</td>\n      <td>307955489</td>\n      <td>7:e Villagatan</td>\n      <td>307955489</td>\n      <td>9022014082726001</td>\n      <td>9022014082785001</td>\n      <td>...</td>\n      <td>0.0</td>\n      <td>0.0</td>\n      <td>0.0</td>\n      <td>2757.446809</td>\n      <td>1825.352113</td>\n      <td>2623.481781</td>\n      <td>1800.0</td>\n      <td>2347.826087</td>\n      <td>0.0</td>\n      <td>0.0</td>\n    </tr>\n    <tr>\n      <th>2</th>\n      <td>Borealis kracker_307980814_bus_service</td>\n      <td>AGA Vattenfall_307980814_bus_service</td>\n      <td>27.0</td>\n      <td>[9011014633100000, 9011014633400000, 901101463...</td>\n      <td>Borealis kracker</td>\n      <td>307980814</td>\n      <td>AGA Vattenfall</td>\n      <td>307980814</td>\n      <td>9022014015013002</td>\n      <td>9022014015161002</td>\n      <td>...</td>\n      <td>0.0</td>\n      <td>0.0</td>\n      <td>0.0</td>\n      <td>0.000000</td>\n      <td>0.000000</td>\n      <td>0.000000</td>\n      <td>0.0</td>\n      <td>0.000000</td>\n      <td>0.0</td>\n      <td>0.0</td>\n    </tr>\n    <tr>\n      <th>3</th>\n      <td>Jordhammar_307980814_bus_service</td>\n      <td>AGA Vattenfall_307980814_bus_service</td>\n      <td>97.0</td>\n      <td>[9011014633100000, 9011014633400000, 901101463...</td>\n      <td>Jordhammar</td>\n      <td>307980814</td>\n      <td>AGA Vattenfall</td>\n      <td>307980814</td>\n      <td>9022014015110001</td>\n      <td>9022014015161001</td>\n      <td>...</td>\n      <td>0.0</td>\n      <td>0.0</td>\n      <td>0.0</td>\n      <td>0.000000</td>\n      <td>0.000000</td>\n      <td>0.000000</td>\n      <td>0.0</td>\n      <td>0.000000</td>\n      <td>0.0</td>\n      <td>0.0</td>\n    </tr>\n    <tr>\n      <th>4</th>\n      <td>Badet_307959538_bus_service</td>\n      <td>Abrahamstorp_307959538_bus_service</td>\n      <td>82.0</td>\n      <td>[9011014658100000]</td>\n      <td>Badet</td>\n      <td>307959538</td>\n      <td>Abrahamstorp</td>\n      <td>307959538</td>\n      <td>9022014046021001</td>\n      <td>9022014046020001</td>\n      <td>...</td>\n      <td>0.0</td>\n      <td>0.0</td>\n      <td>0.0</td>\n      <td>54000.000000</td>\n      <td>27000.000000</td>\n      <td>27000.000000</td>\n      <td>27000.0</td>\n      <td>27000.000000</td>\n      <td>0.0</td>\n      <td>0.0</td>\n    </tr>\n  </tbody>\n</table>\n<p>5 rows × 70 columns</p>\n</div>"
     },
     "execution_count": 12,
     "metadata": {},
     "output_type": "execute_result"
    }
   ],
   "source": [
    "# Filter and organize the final table\n",
    "# Step 7: Rename columns for clarity\n",
    "links_pt_3_l2.rename(\n",
    "    columns={'node_id_source': 'source', 'node_id_target': 'target'},\n",
    "    inplace=True\n",
    ")\n",
    "\n",
    "# Step 8: Select desired columns for the final DataFrame\n",
    "links_pt_3 = links_pt_3_l2 [['source', 'target', 'time_distance', 'route_id',\n",
    "                             'stop_name_source', 'place_id_source','stop_name_target',\n",
    "                             'place_id_target', 'stop_id_source', 'stop_id_target',\n",
    "                             'route_short_name', 'mode', 'direction_id',\n",
    "                             'geometry'] + [col for col in links_pt_3_l2.columns if col.startswith('freq_')]]\n",
    "\n",
    "# Step 9: Filter out rows where 'source' is equal to 'target'\n",
    "links_pt_3 = links_pt_3[links_pt_3['source'] != links_pt_3['target']]\n",
    "\n",
    "# Step 10 (optional): Display the results\n",
    "links_pt_3.head()"
   ],
   "metadata": {
    "collapsed": false,
    "pycharm": {
     "name": "#%%\n"
    }
   }
  },
  {
   "cell_type": "code",
   "execution_count": 14,
   "outputs": [],
   "source": [
    "# Step 11 (optional): create the GeoDataFrame and export to the DB\n",
    "links_pt_3 = gpd.GeoDataFrame(links_pt_3, geometry='geometry', crs='3006')\n",
    "links_pt_3.to_postgis('links_pt_3', engine, schema='pt_3_odirection_mstops_bymode', if_exists ='replace')"
   ],
   "metadata": {
    "collapsed": false,
    "pycharm": {
     "name": "#%%\n"
    }
   }
  },
  {
   "cell_type": "markdown",
   "source": [
    "### Transfers"
   ],
   "metadata": {
    "collapsed": false,
    "pycharm": {
     "name": "#%% md\n"
    }
   }
  },
  {
   "cell_type": "markdown",
   "source": [
    "#### Same stop"
   ],
   "metadata": {
    "collapsed": false,
    "pycharm": {
     "name": "#%% md\n"
    }
   }
  },
  {
   "cell_type": "code",
   "execution_count": 15,
   "outputs": [
    {
     "data": {
      "text/plain": "                                        node_id           stop_name  \\\n0          7:e Villagatan_307955489_bus_service      7:e Villagatan   \n1          AGA Vattenfall_307980814_bus_service      AGA Vattenfall   \n2            Abrahamstorp_307959538_bus_service        Abrahamstorp   \n3  Abrahamstorp_307959538_communal_taxi_service        Abrahamstorp   \n4      Acklinga Solbacken_307927983_bus_service  Acklinga Solbacken   \n\n    place_id                        geometry  \n0  307955489  POINT (378291.977 6399668.440)  \n1  307980814  POINT (313191.955 6442732.480)  \n2  307959538  POINT (371000.976 6448532.958)  \n3  307959538  POINT (371017.481 6448504.455)  \n4  307927983  POINT (434378.988 6451901.915)  ",
      "text/html": "<div>\n<style scoped>\n    .dataframe tbody tr th:only-of-type {\n        vertical-align: middle;\n    }\n\n    .dataframe tbody tr th {\n        vertical-align: top;\n    }\n\n    .dataframe thead th {\n        text-align: right;\n    }\n</style>\n<table border=\"1\" class=\"dataframe\">\n  <thead>\n    <tr style=\"text-align: right;\">\n      <th></th>\n      <th>node_id</th>\n      <th>stop_name</th>\n      <th>place_id</th>\n      <th>geometry</th>\n    </tr>\n  </thead>\n  <tbody>\n    <tr>\n      <th>0</th>\n      <td>7:e Villagatan_307955489_bus_service</td>\n      <td>7:e Villagatan</td>\n      <td>307955489</td>\n      <td>POINT (378291.977 6399668.440)</td>\n    </tr>\n    <tr>\n      <th>1</th>\n      <td>AGA Vattenfall_307980814_bus_service</td>\n      <td>AGA Vattenfall</td>\n      <td>307980814</td>\n      <td>POINT (313191.955 6442732.480)</td>\n    </tr>\n    <tr>\n      <th>2</th>\n      <td>Abrahamstorp_307959538_bus_service</td>\n      <td>Abrahamstorp</td>\n      <td>307959538</td>\n      <td>POINT (371000.976 6448532.958)</td>\n    </tr>\n    <tr>\n      <th>3</th>\n      <td>Abrahamstorp_307959538_communal_taxi_service</td>\n      <td>Abrahamstorp</td>\n      <td>307959538</td>\n      <td>POINT (371017.481 6448504.455)</td>\n    </tr>\n    <tr>\n      <th>4</th>\n      <td>Acklinga Solbacken_307927983_bus_service</td>\n      <td>Acklinga Solbacken</td>\n      <td>307927983</td>\n      <td>POINT (434378.988 6451901.915)</td>\n    </tr>\n  </tbody>\n</table>\n</div>"
     },
     "execution_count": 15,
     "metadata": {},
     "output_type": "execute_result"
    }
   ],
   "source": [
    "# Preprocess the Data\n",
    "# Step 1: Create a copy of the nodes table\n",
    "nodes_transfer_same_stop = nodes_pt_3[['node_id', 'stop_name', 'place_id', 'geometry']].copy()\n",
    "\n",
    "#Step 2 (optional): display the results\n",
    "nodes_transfer_same_stop.head()"
   ],
   "metadata": {
    "collapsed": false,
    "pycharm": {
     "name": "#%%\n"
    }
   }
  },
  {
   "cell_type": "code",
   "execution_count": 16,
   "outputs": [
    {
     "data": {
      "text/plain": "                                 source                                target  \\\n0                        7:e Villagatan  7:e Villagatan_307955489_bus_service   \n1  7:e Villagatan_307955489_bus_service                        7:e Villagatan   \n2                        AGA Vattenfall  AGA Vattenfall_307980814_bus_service   \n3  AGA Vattenfall_307980814_bus_service                        AGA Vattenfall   \n4                          Abrahamstorp    Abrahamstorp_307959538_bus_service   \n\n    place_id                        geometry  \n0  307955489  POINT (378291.977 6399668.440)  \n1  307955489  POINT (378291.977 6399668.440)  \n2  307980814  POINT (313191.955 6442732.480)  \n3  307980814  POINT (313191.955 6442732.480)  \n4  307959538  POINT (371000.976 6448532.958)  ",
      "text/html": "<div>\n<style scoped>\n    .dataframe tbody tr th:only-of-type {\n        vertical-align: middle;\n    }\n\n    .dataframe tbody tr th {\n        vertical-align: top;\n    }\n\n    .dataframe thead th {\n        text-align: right;\n    }\n</style>\n<table border=\"1\" class=\"dataframe\">\n  <thead>\n    <tr style=\"text-align: right;\">\n      <th></th>\n      <th>source</th>\n      <th>target</th>\n      <th>place_id</th>\n      <th>geometry</th>\n    </tr>\n  </thead>\n  <tbody>\n    <tr>\n      <th>0</th>\n      <td>7:e Villagatan</td>\n      <td>7:e Villagatan_307955489_bus_service</td>\n      <td>307955489</td>\n      <td>POINT (378291.977 6399668.440)</td>\n    </tr>\n    <tr>\n      <th>1</th>\n      <td>7:e Villagatan_307955489_bus_service</td>\n      <td>7:e Villagatan</td>\n      <td>307955489</td>\n      <td>POINT (378291.977 6399668.440)</td>\n    </tr>\n    <tr>\n      <th>2</th>\n      <td>AGA Vattenfall</td>\n      <td>AGA Vattenfall_307980814_bus_service</td>\n      <td>307980814</td>\n      <td>POINT (313191.955 6442732.480)</td>\n    </tr>\n    <tr>\n      <th>3</th>\n      <td>AGA Vattenfall_307980814_bus_service</td>\n      <td>AGA Vattenfall</td>\n      <td>307980814</td>\n      <td>POINT (313191.955 6442732.480)</td>\n    </tr>\n    <tr>\n      <th>4</th>\n      <td>Abrahamstorp</td>\n      <td>Abrahamstorp_307959538_bus_service</td>\n      <td>307959538</td>\n      <td>POINT (371000.976 6448532.958)</td>\n    </tr>\n  </tbody>\n</table>\n</div>"
     },
     "execution_count": 16,
     "metadata": {},
     "output_type": "execute_result"
    }
   ],
   "source": [
    "# Step 3: Merge the stops in order to create the transfers\n",
    "# Source\n",
    "stop_routes_source = nodes_transfer_same_stop.rename(columns={'node_id': 'source', 'stop_name': 'target'}).drop_duplicates()\n",
    "\n",
    "# Target\n",
    "stop_routes_target = pd.merge(nodes_transfer_same_stop,\n",
    "                              nodes_pt_3[['node_id']],\n",
    "                              on='node_id',\n",
    "                              how='inner').rename(columns={'stop_name': 'source', 'node_id': 'target'}).drop_duplicates()\n",
    "\n",
    "# Step 4: Create the transfers same stop table\n",
    "transfers_same_stop = pd.merge(stop_routes_source, stop_routes_target, how='outer')\n",
    "\n",
    "#Step 5 (optional): Display the results\n",
    "transfers_same_stop.head()"
   ],
   "metadata": {
    "collapsed": false,
    "pycharm": {
     "name": "#%%\n"
    }
   }
  },
  {
   "cell_type": "code",
   "execution_count": 17,
   "outputs": [
    {
     "data": {
      "text/plain": "                                 source                                target  \\\n0  7:e Villagatan_307955489_bus_service                        7:e Villagatan   \n1                        7:e Villagatan  7:e Villagatan_307955489_bus_service   \n3  AGA Vattenfall_307980814_bus_service                        AGA Vattenfall   \n4                        AGA Vattenfall  AGA Vattenfall_307980814_bus_service   \n6    Abrahamstorp_307959538_bus_service                          Abrahamstorp   \n\n                         geometry  freq_monday_morning  freq_tuesday_morning  \\\n0  POINT (378291.977 6399668.440)                  NaN                   NaN   \n1  POINT (378291.977 6399668.440)           568.421053            568.421053   \n3  POINT (313191.955 6442732.480)                  NaN                   NaN   \n4  POINT (313191.955 6442732.480)             0.000000              0.000000   \n6  POINT (371000.976 6448532.958)                  NaN                   NaN   \n\n   freq_wednesday_morning  freq_thursday_morning  freq_friday_morning  \\\n0                     NaN                    NaN                  NaN   \n1              568.421053             568.421053           568.421053   \n3                     NaN                    NaN                  NaN   \n4                0.000000               0.000000             0.000000   \n6                     NaN                    NaN                  NaN   \n\n   freq_saturday_morning  freq_sunday_morning  ...  freq_friday_night(dawn)  \\\n0                    NaN                  NaN  ...                      NaN   \n1             635.294118           635.294118  ...                      0.0   \n3                    NaN                  NaN  ...                      NaN   \n4               0.000000             0.000000  ...                      0.0   \n6                    NaN                  NaN  ...                      NaN   \n\n   freq_saturday_night(dawn)  freq_sunday_night(dawn)  freq_week_day_morning  \\\n0                        NaN                      NaN                    NaN   \n1                        0.0                      0.0            2842.105263   \n3                        NaN                      NaN                    NaN   \n4                        0.0                      0.0               0.000000   \n6                        NaN                      NaN                    NaN   \n\n   freq_week_day_peak_morning  freq_week_day_afternoon  \\\n0                         NaN                      NaN   \n1                      1800.0              2571.428571   \n3                         NaN                      NaN   \n4                         0.0                 0.000000   \n6                         NaN                      NaN   \n\n   freq_week_day_peak_evening  freq_week_day_evening  freq_week_day_night  \\\n0                         NaN                    NaN                  NaN   \n1                      1800.0            2347.826087                  0.0   \n3                         NaN                    NaN                  NaN   \n4                         0.0               0.000000                  0.0   \n6                         NaN                    NaN                  NaN   \n\n   freq_week_day_night(dawn)  \n0                        NaN  \n1                        0.0  \n3                        NaN  \n4                        0.0  \n6                        NaN  \n\n[5 rows x 59 columns]",
      "text/html": "<div>\n<style scoped>\n    .dataframe tbody tr th:only-of-type {\n        vertical-align: middle;\n    }\n\n    .dataframe tbody tr th {\n        vertical-align: top;\n    }\n\n    .dataframe thead th {\n        text-align: right;\n    }\n</style>\n<table border=\"1\" class=\"dataframe\">\n  <thead>\n    <tr style=\"text-align: right;\">\n      <th></th>\n      <th>source</th>\n      <th>target</th>\n      <th>geometry</th>\n      <th>freq_monday_morning</th>\n      <th>freq_tuesday_morning</th>\n      <th>freq_wednesday_morning</th>\n      <th>freq_thursday_morning</th>\n      <th>freq_friday_morning</th>\n      <th>freq_saturday_morning</th>\n      <th>freq_sunday_morning</th>\n      <th>...</th>\n      <th>freq_friday_night(dawn)</th>\n      <th>freq_saturday_night(dawn)</th>\n      <th>freq_sunday_night(dawn)</th>\n      <th>freq_week_day_morning</th>\n      <th>freq_week_day_peak_morning</th>\n      <th>freq_week_day_afternoon</th>\n      <th>freq_week_day_peak_evening</th>\n      <th>freq_week_day_evening</th>\n      <th>freq_week_day_night</th>\n      <th>freq_week_day_night(dawn)</th>\n    </tr>\n  </thead>\n  <tbody>\n    <tr>\n      <th>0</th>\n      <td>7:e Villagatan_307955489_bus_service</td>\n      <td>7:e Villagatan</td>\n      <td>POINT (378291.977 6399668.440)</td>\n      <td>NaN</td>\n      <td>NaN</td>\n      <td>NaN</td>\n      <td>NaN</td>\n      <td>NaN</td>\n      <td>NaN</td>\n      <td>NaN</td>\n      <td>...</td>\n      <td>NaN</td>\n      <td>NaN</td>\n      <td>NaN</td>\n      <td>NaN</td>\n      <td>NaN</td>\n      <td>NaN</td>\n      <td>NaN</td>\n      <td>NaN</td>\n      <td>NaN</td>\n      <td>NaN</td>\n    </tr>\n    <tr>\n      <th>1</th>\n      <td>7:e Villagatan</td>\n      <td>7:e Villagatan_307955489_bus_service</td>\n      <td>POINT (378291.977 6399668.440)</td>\n      <td>568.421053</td>\n      <td>568.421053</td>\n      <td>568.421053</td>\n      <td>568.421053</td>\n      <td>568.421053</td>\n      <td>635.294118</td>\n      <td>635.294118</td>\n      <td>...</td>\n      <td>0.0</td>\n      <td>0.0</td>\n      <td>0.0</td>\n      <td>2842.105263</td>\n      <td>1800.0</td>\n      <td>2571.428571</td>\n      <td>1800.0</td>\n      <td>2347.826087</td>\n      <td>0.0</td>\n      <td>0.0</td>\n    </tr>\n    <tr>\n      <th>3</th>\n      <td>AGA Vattenfall_307980814_bus_service</td>\n      <td>AGA Vattenfall</td>\n      <td>POINT (313191.955 6442732.480)</td>\n      <td>NaN</td>\n      <td>NaN</td>\n      <td>NaN</td>\n      <td>NaN</td>\n      <td>NaN</td>\n      <td>NaN</td>\n      <td>NaN</td>\n      <td>...</td>\n      <td>NaN</td>\n      <td>NaN</td>\n      <td>NaN</td>\n      <td>NaN</td>\n      <td>NaN</td>\n      <td>NaN</td>\n      <td>NaN</td>\n      <td>NaN</td>\n      <td>NaN</td>\n      <td>NaN</td>\n    </tr>\n    <tr>\n      <th>4</th>\n      <td>AGA Vattenfall</td>\n      <td>AGA Vattenfall_307980814_bus_service</td>\n      <td>POINT (313191.955 6442732.480)</td>\n      <td>0.000000</td>\n      <td>0.000000</td>\n      <td>0.000000</td>\n      <td>0.000000</td>\n      <td>0.000000</td>\n      <td>0.000000</td>\n      <td>0.000000</td>\n      <td>...</td>\n      <td>0.0</td>\n      <td>0.0</td>\n      <td>0.0</td>\n      <td>0.000000</td>\n      <td>0.0</td>\n      <td>0.000000</td>\n      <td>0.0</td>\n      <td>0.000000</td>\n      <td>0.0</td>\n      <td>0.0</td>\n    </tr>\n    <tr>\n      <th>6</th>\n      <td>Abrahamstorp_307959538_bus_service</td>\n      <td>Abrahamstorp</td>\n      <td>POINT (371000.976 6448532.958)</td>\n      <td>NaN</td>\n      <td>NaN</td>\n      <td>NaN</td>\n      <td>NaN</td>\n      <td>NaN</td>\n      <td>NaN</td>\n      <td>NaN</td>\n      <td>...</td>\n      <td>NaN</td>\n      <td>NaN</td>\n      <td>NaN</td>\n      <td>NaN</td>\n      <td>NaN</td>\n      <td>NaN</td>\n      <td>NaN</td>\n      <td>NaN</td>\n      <td>NaN</td>\n      <td>NaN</td>\n    </tr>\n  </tbody>\n</table>\n<p>5 rows × 59 columns</p>\n</div>"
     },
     "execution_count": 17,
     "metadata": {},
     "output_type": "execute_result"
    }
   ],
   "source": [
    "# Step 6: Merge the table with the frequency of the links table\n",
    "transfers_same_stop = pd.merge(transfers_same_stop,\n",
    "                               links_pt_3[['target'] + [col for col in links_pt_3.columns if col.startswith('freq_')]],\n",
    "                               on='target',\n",
    "                               how='outer').drop_duplicates(subset=('source', 'target'))\n",
    "transfers_same_stop = transfers_same_stop[['source', 'target', 'geometry'] + [col for col in transfers_same_stop.columns if col.startswith('freq_')]]\n",
    "\n",
    "#Step 7 (optional): Display the results\n",
    "transfers_same_stop.head()"
   ],
   "metadata": {
    "collapsed": false,
    "pycharm": {
     "name": "#%%\n"
    }
   }
  },
  {
   "cell_type": "code",
   "execution_count": 18,
   "outputs": [
    {
     "data": {
      "text/plain": "                                 source                                target  \\\n0  7:e Villagatan_307955489_bus_service                        7:e Villagatan   \n1                        7:e Villagatan  7:e Villagatan_307955489_bus_service   \n3  AGA Vattenfall_307980814_bus_service                        AGA Vattenfall   \n4                        AGA Vattenfall  AGA Vattenfall_307980814_bus_service   \n6    Abrahamstorp_307959538_bus_service                          Abrahamstorp   \n\n                         geometry  freq_monday_morning  freq_tuesday_morning  \\\n0  POINT (378291.977 6399668.440)                  NaN                   NaN   \n1  POINT (378291.977 6399668.440)           568.421053            568.421053   \n3  POINT (313191.955 6442732.480)                  NaN                   NaN   \n4  POINT (313191.955 6442732.480)                  NaN                   NaN   \n6  POINT (371000.976 6448532.958)                  NaN                   NaN   \n\n   freq_wednesday_morning  freq_thursday_morning  freq_friday_morning  \\\n0                     NaN                    NaN                  NaN   \n1              568.421053             568.421053           568.421053   \n3                     NaN                    NaN                  NaN   \n4                     NaN                    NaN                  NaN   \n6                     NaN                    NaN                  NaN   \n\n   freq_saturday_morning  freq_sunday_morning  ...  freq_friday_night(dawn)  \\\n0                    NaN                  NaN  ...                      NaN   \n1             635.294118           635.294118  ...                      NaN   \n3                    NaN                  NaN  ...                      NaN   \n4                    NaN                  NaN  ...                      NaN   \n6                    NaN                  NaN  ...                      NaN   \n\n   freq_saturday_night(dawn)  freq_sunday_night(dawn)  freq_week_day_morning  \\\n0                        NaN                      NaN                    NaN   \n1                        NaN                      NaN            2842.105263   \n3                        NaN                      NaN                    NaN   \n4                        NaN                      NaN                    NaN   \n6                        NaN                      NaN                    NaN   \n\n   freq_week_day_peak_morning  freq_week_day_afternoon  \\\n0                         NaN                      NaN   \n1                      1800.0              2571.428571   \n3                         NaN                      NaN   \n4                         NaN                      NaN   \n6                         NaN                      NaN   \n\n   freq_week_day_peak_evening  freq_week_day_evening  freq_week_day_night  \\\n0                         NaN                    NaN                  NaN   \n1                      1800.0            2347.826087                  NaN   \n3                         NaN                    NaN                  NaN   \n4                         NaN                    NaN                  NaN   \n6                         NaN                    NaN                  NaN   \n\n   freq_week_day_night(dawn)  \n0                        NaN  \n1                        NaN  \n3                        NaN  \n4                        NaN  \n6                        NaN  \n\n[5 rows x 59 columns]",
      "text/html": "<div>\n<style scoped>\n    .dataframe tbody tr th:only-of-type {\n        vertical-align: middle;\n    }\n\n    .dataframe tbody tr th {\n        vertical-align: top;\n    }\n\n    .dataframe thead th {\n        text-align: right;\n    }\n</style>\n<table border=\"1\" class=\"dataframe\">\n  <thead>\n    <tr style=\"text-align: right;\">\n      <th></th>\n      <th>source</th>\n      <th>target</th>\n      <th>geometry</th>\n      <th>freq_monday_morning</th>\n      <th>freq_tuesday_morning</th>\n      <th>freq_wednesday_morning</th>\n      <th>freq_thursday_morning</th>\n      <th>freq_friday_morning</th>\n      <th>freq_saturday_morning</th>\n      <th>freq_sunday_morning</th>\n      <th>...</th>\n      <th>freq_friday_night(dawn)</th>\n      <th>freq_saturday_night(dawn)</th>\n      <th>freq_sunday_night(dawn)</th>\n      <th>freq_week_day_morning</th>\n      <th>freq_week_day_peak_morning</th>\n      <th>freq_week_day_afternoon</th>\n      <th>freq_week_day_peak_evening</th>\n      <th>freq_week_day_evening</th>\n      <th>freq_week_day_night</th>\n      <th>freq_week_day_night(dawn)</th>\n    </tr>\n  </thead>\n  <tbody>\n    <tr>\n      <th>0</th>\n      <td>7:e Villagatan_307955489_bus_service</td>\n      <td>7:e Villagatan</td>\n      <td>POINT (378291.977 6399668.440)</td>\n      <td>NaN</td>\n      <td>NaN</td>\n      <td>NaN</td>\n      <td>NaN</td>\n      <td>NaN</td>\n      <td>NaN</td>\n      <td>NaN</td>\n      <td>...</td>\n      <td>NaN</td>\n      <td>NaN</td>\n      <td>NaN</td>\n      <td>NaN</td>\n      <td>NaN</td>\n      <td>NaN</td>\n      <td>NaN</td>\n      <td>NaN</td>\n      <td>NaN</td>\n      <td>NaN</td>\n    </tr>\n    <tr>\n      <th>1</th>\n      <td>7:e Villagatan</td>\n      <td>7:e Villagatan_307955489_bus_service</td>\n      <td>POINT (378291.977 6399668.440)</td>\n      <td>568.421053</td>\n      <td>568.421053</td>\n      <td>568.421053</td>\n      <td>568.421053</td>\n      <td>568.421053</td>\n      <td>635.294118</td>\n      <td>635.294118</td>\n      <td>...</td>\n      <td>NaN</td>\n      <td>NaN</td>\n      <td>NaN</td>\n      <td>2842.105263</td>\n      <td>1800.0</td>\n      <td>2571.428571</td>\n      <td>1800.0</td>\n      <td>2347.826087</td>\n      <td>NaN</td>\n      <td>NaN</td>\n    </tr>\n    <tr>\n      <th>3</th>\n      <td>AGA Vattenfall_307980814_bus_service</td>\n      <td>AGA Vattenfall</td>\n      <td>POINT (313191.955 6442732.480)</td>\n      <td>NaN</td>\n      <td>NaN</td>\n      <td>NaN</td>\n      <td>NaN</td>\n      <td>NaN</td>\n      <td>NaN</td>\n      <td>NaN</td>\n      <td>...</td>\n      <td>NaN</td>\n      <td>NaN</td>\n      <td>NaN</td>\n      <td>NaN</td>\n      <td>NaN</td>\n      <td>NaN</td>\n      <td>NaN</td>\n      <td>NaN</td>\n      <td>NaN</td>\n      <td>NaN</td>\n    </tr>\n    <tr>\n      <th>4</th>\n      <td>AGA Vattenfall</td>\n      <td>AGA Vattenfall_307980814_bus_service</td>\n      <td>POINT (313191.955 6442732.480)</td>\n      <td>NaN</td>\n      <td>NaN</td>\n      <td>NaN</td>\n      <td>NaN</td>\n      <td>NaN</td>\n      <td>NaN</td>\n      <td>NaN</td>\n      <td>...</td>\n      <td>NaN</td>\n      <td>NaN</td>\n      <td>NaN</td>\n      <td>NaN</td>\n      <td>NaN</td>\n      <td>NaN</td>\n      <td>NaN</td>\n      <td>NaN</td>\n      <td>NaN</td>\n      <td>NaN</td>\n    </tr>\n    <tr>\n      <th>6</th>\n      <td>Abrahamstorp_307959538_bus_service</td>\n      <td>Abrahamstorp</td>\n      <td>POINT (371000.976 6448532.958)</td>\n      <td>NaN</td>\n      <td>NaN</td>\n      <td>NaN</td>\n      <td>NaN</td>\n      <td>NaN</td>\n      <td>NaN</td>\n      <td>NaN</td>\n      <td>...</td>\n      <td>NaN</td>\n      <td>NaN</td>\n      <td>NaN</td>\n      <td>NaN</td>\n      <td>NaN</td>\n      <td>NaN</td>\n      <td>NaN</td>\n      <td>NaN</td>\n      <td>NaN</td>\n      <td>NaN</td>\n    </tr>\n  </tbody>\n</table>\n<p>5 rows × 59 columns</p>\n</div>"
     },
     "execution_count": 18,
     "metadata": {},
     "output_type": "execute_result"
    }
   ],
   "source": [
    "# Step 8: Replace 0 with NaN and vice versa in frequency columns\n",
    "freq_columns = [col for col in transfers_same_stop.columns if col.startswith('freq_')]\n",
    "transfers_same_stop[freq_columns] = transfers_same_stop[freq_columns].replace({0: np.nan, pd.NA: 0})\n",
    "\n",
    "#Step 9 (optional): Display the results\n",
    "transfers_same_stop.head()"
   ],
   "metadata": {
    "collapsed": false,
    "pycharm": {
     "name": "#%%\n"
    }
   }
  },
  {
   "cell_type": "code",
   "source": [
    "# Step 10 (optional): Set geometry and export to the DB\n",
    "transfers_same_stop = gpd.GeoDataFrame(transfers_same_stop, geometry='geometry', crs='3006')\n",
    "transfers_same_stop.to_postgis('transfers_same_stop_pt_3', engine,\n",
    "                               schema='pt_3_odirection_mstops_bymode',if_exists ='replace')"
   ],
   "metadata": {
    "collapsed": false,
    "pycharm": {
     "name": "#%%\n"
    }
   },
   "execution_count": 19,
   "outputs": []
  },
  {
   "cell_type": "markdown",
   "source": [
    "#### Different stops"
   ],
   "metadata": {
    "collapsed": false,
    "pycharm": {
     "name": "#%% md\n"
    }
   }
  },
  {
   "cell_type": "code",
   "execution_count": 20,
   "outputs": [
    {
     "data": {
      "text/plain": "                                        node_id           stop_name  \\\n0          7:e Villagatan_307955489_bus_service      7:e Villagatan   \n1          AGA Vattenfall_307980814_bus_service      AGA Vattenfall   \n2            Abrahamstorp_307959538_bus_service        Abrahamstorp   \n3  Abrahamstorp_307959538_communal_taxi_service        Abrahamstorp   \n4      Acklinga Solbacken_307927983_bus_service  Acklinga Solbacken   \n\n    place_id                        geometry  \n0  307955489  POINT (378291.977 6399668.440)  \n1  307980814  POINT (313191.955 6442732.480)  \n2  307959538  POINT (371000.976 6448532.958)  \n3  307959538  POINT (371017.481 6448504.455)  \n4  307927983  POINT (434378.988 6451901.915)  ",
      "text/html": "<div>\n<style scoped>\n    .dataframe tbody tr th:only-of-type {\n        vertical-align: middle;\n    }\n\n    .dataframe tbody tr th {\n        vertical-align: top;\n    }\n\n    .dataframe thead th {\n        text-align: right;\n    }\n</style>\n<table border=\"1\" class=\"dataframe\">\n  <thead>\n    <tr style=\"text-align: right;\">\n      <th></th>\n      <th>node_id</th>\n      <th>stop_name</th>\n      <th>place_id</th>\n      <th>geometry</th>\n    </tr>\n  </thead>\n  <tbody>\n    <tr>\n      <th>0</th>\n      <td>7:e Villagatan_307955489_bus_service</td>\n      <td>7:e Villagatan</td>\n      <td>307955489</td>\n      <td>POINT (378291.977 6399668.440)</td>\n    </tr>\n    <tr>\n      <th>1</th>\n      <td>AGA Vattenfall_307980814_bus_service</td>\n      <td>AGA Vattenfall</td>\n      <td>307980814</td>\n      <td>POINT (313191.955 6442732.480)</td>\n    </tr>\n    <tr>\n      <th>2</th>\n      <td>Abrahamstorp_307959538_bus_service</td>\n      <td>Abrahamstorp</td>\n      <td>307959538</td>\n      <td>POINT (371000.976 6448532.958)</td>\n    </tr>\n    <tr>\n      <th>3</th>\n      <td>Abrahamstorp_307959538_communal_taxi_service</td>\n      <td>Abrahamstorp</td>\n      <td>307959538</td>\n      <td>POINT (371017.481 6448504.455)</td>\n    </tr>\n    <tr>\n      <th>4</th>\n      <td>Acklinga Solbacken_307927983_bus_service</td>\n      <td>Acklinga Solbacken</td>\n      <td>307927983</td>\n      <td>POINT (434378.988 6451901.915)</td>\n    </tr>\n  </tbody>\n</table>\n</div>"
     },
     "execution_count": 20,
     "metadata": {},
     "output_type": "execute_result"
    }
   ],
   "source": [
    "#Preprocess the Data\n",
    "# Step 1: Create a copy of the nodes table\n",
    "nodes_transfer_diff_stop = nodes_pt_3[['node_id', 'stop_name', 'place_id', 'geometry']].copy()\n",
    "\n",
    "# Step 2 (optional): Display the results\n",
    "nodes_transfer_diff_stop.head()"
   ],
   "metadata": {
    "collapsed": false,
    "pycharm": {
     "name": "#%%\n"
    }
   }
  },
  {
   "cell_type": "code",
   "execution_count": 21,
   "outputs": [
    {
     "data": {
      "text/plain": "                                         source stop_name_source  place_id_1  \\\n0          7:e Villagatan_307955489_bus_service   7:e Villagatan   307955489   \n1          AGA Vattenfall_307980814_bus_service   AGA Vattenfall   307980814   \n2            Abrahamstorp_307959538_bus_service     Abrahamstorp   307959538   \n3            Abrahamstorp_307959538_bus_service     Abrahamstorp   307959538   \n4  Abrahamstorp_307959538_communal_taxi_service     Abrahamstorp   307959538   \n\n                  geometry_source  \\\n0  POINT (378291.977 6399668.440)   \n1  POINT (313191.955 6442732.480)   \n2  POINT (371000.976 6448532.958)   \n3  POINT (371000.976 6448532.958)   \n4  POINT (371017.481 6448504.455)   \n\n                                         target stop_name_target  place_id_2  \\\n0          7:e Villagatan_307955489_bus_service   7:e Villagatan   307955489   \n1          AGA Vattenfall_307980814_bus_service   AGA Vattenfall   307980814   \n2            Abrahamstorp_307959538_bus_service     Abrahamstorp   307959538   \n3  Abrahamstorp_307959538_communal_taxi_service     Abrahamstorp   307959538   \n4            Abrahamstorp_307959538_bus_service     Abrahamstorp   307959538   \n\n                  geometry_target  \\\n0  POINT (378291.977 6399668.440)   \n1  POINT (313191.955 6442732.480)   \n2  POINT (371000.976 6448532.958)   \n3  POINT (371017.481 6448504.455)   \n4  POINT (371000.976 6448532.958)   \n\n                                            geometry  \n0  POLYGON ((378376.568 6399660.109, 378375.344 6...  \n1  POLYGON ((313276.546 6442724.148, 313275.322 6...  \n2  POLYGON ((371085.567 6448524.626, 371084.343 6...  \n3  POLYGON ((371085.567 6448524.626, 371084.343 6...  \n4  POLYGON ((370936.141 6448479.781, 370934.114 6...  ",
      "text/html": "<div>\n<style scoped>\n    .dataframe tbody tr th:only-of-type {\n        vertical-align: middle;\n    }\n\n    .dataframe tbody tr th {\n        vertical-align: top;\n    }\n\n    .dataframe thead th {\n        text-align: right;\n    }\n</style>\n<table border=\"1\" class=\"dataframe\">\n  <thead>\n    <tr style=\"text-align: right;\">\n      <th></th>\n      <th>source</th>\n      <th>stop_name_source</th>\n      <th>place_id_1</th>\n      <th>geometry_source</th>\n      <th>target</th>\n      <th>stop_name_target</th>\n      <th>place_id_2</th>\n      <th>geometry_target</th>\n      <th>geometry</th>\n    </tr>\n  </thead>\n  <tbody>\n    <tr>\n      <th>0</th>\n      <td>7:e Villagatan_307955489_bus_service</td>\n      <td>7:e Villagatan</td>\n      <td>307955489</td>\n      <td>POINT (378291.977 6399668.440)</td>\n      <td>7:e Villagatan_307955489_bus_service</td>\n      <td>7:e Villagatan</td>\n      <td>307955489</td>\n      <td>POINT (378291.977 6399668.440)</td>\n      <td>POLYGON ((378376.568 6399660.109, 378375.344 6...</td>\n    </tr>\n    <tr>\n      <th>1</th>\n      <td>AGA Vattenfall_307980814_bus_service</td>\n      <td>AGA Vattenfall</td>\n      <td>307980814</td>\n      <td>POINT (313191.955 6442732.480)</td>\n      <td>AGA Vattenfall_307980814_bus_service</td>\n      <td>AGA Vattenfall</td>\n      <td>307980814</td>\n      <td>POINT (313191.955 6442732.480)</td>\n      <td>POLYGON ((313276.546 6442724.148, 313275.322 6...</td>\n    </tr>\n    <tr>\n      <th>2</th>\n      <td>Abrahamstorp_307959538_bus_service</td>\n      <td>Abrahamstorp</td>\n      <td>307959538</td>\n      <td>POINT (371000.976 6448532.958)</td>\n      <td>Abrahamstorp_307959538_bus_service</td>\n      <td>Abrahamstorp</td>\n      <td>307959538</td>\n      <td>POINT (371000.976 6448532.958)</td>\n      <td>POLYGON ((371085.567 6448524.626, 371084.343 6...</td>\n    </tr>\n    <tr>\n      <th>3</th>\n      <td>Abrahamstorp_307959538_bus_service</td>\n      <td>Abrahamstorp</td>\n      <td>307959538</td>\n      <td>POINT (371000.976 6448532.958)</td>\n      <td>Abrahamstorp_307959538_communal_taxi_service</td>\n      <td>Abrahamstorp</td>\n      <td>307959538</td>\n      <td>POINT (371017.481 6448504.455)</td>\n      <td>POLYGON ((371085.567 6448524.626, 371084.343 6...</td>\n    </tr>\n    <tr>\n      <th>4</th>\n      <td>Abrahamstorp_307959538_communal_taxi_service</td>\n      <td>Abrahamstorp</td>\n      <td>307959538</td>\n      <td>POINT (371017.481 6448504.455)</td>\n      <td>Abrahamstorp_307959538_bus_service</td>\n      <td>Abrahamstorp</td>\n      <td>307959538</td>\n      <td>POINT (371000.976 6448532.958)</td>\n      <td>POLYGON ((370936.141 6448479.781, 370934.114 6...</td>\n    </tr>\n  </tbody>\n</table>\n</div>"
     },
     "execution_count": 21,
     "metadata": {},
     "output_type": "execute_result"
    }
   ],
   "source": [
    "# Create the buffers\n",
    "# Step 3: Create a buffer column and set it as geometry\n",
    "nodes_transfer_diff_stop['buffer'] = nodes_transfer_diff_stop['geometry'].buffer(85)\n",
    "nodes_transfer_diff_stop = nodes_transfer_diff_stop.set_geometry('buffer',\n",
    "                                                                 crs='EPSG:3006')\n",
    "\n",
    "# Step 4: found the intersections among the buffers\n",
    "nodes_transfer_diff_stop = gpd.overlay(nodes_transfer_diff_stop,\n",
    "                                       nodes_transfer_diff_stop,\n",
    "                                       how='intersection').rename(columns={'node_id_1':'source',\n",
    "                                                                           'node_id_2':'target',\n",
    "                                                                           'stop_name_1':'stop_name_source',\n",
    "                                                                           'stop_name_2':'stop_name_target',\n",
    "                                                                           'geometry_1': 'geometry_source',\n",
    "                                                                           'geometry_2': 'geometry_target'}).dropna(subset=['source'])\n",
    "# Step 5 (optional): Display the results\n",
    "nodes_transfer_diff_stop.head()"
   ],
   "metadata": {
    "collapsed": false,
    "pycharm": {
     "name": "#%%\n"
    }
   }
  },
  {
   "cell_type": "code",
   "execution_count": 22,
   "outputs": [
    {
     "data": {
      "text/plain": "                                         source stop_name_source  place_id_1  \\\n0          7:e Villagatan_307955489_bus_service   7:e Villagatan   307955489   \n1          AGA Vattenfall_307980814_bus_service   AGA Vattenfall   307980814   \n2            Abrahamstorp_307959538_bus_service     Abrahamstorp   307959538   \n3            Abrahamstorp_307959538_bus_service     Abrahamstorp   307959538   \n4  Abrahamstorp_307959538_communal_taxi_service     Abrahamstorp   307959538   \n\n                  geometry_source  \\\n0  POINT (378291.977 6399668.440)   \n1  POINT (313191.955 6442732.480)   \n2  POINT (371000.976 6448532.958)   \n3  POINT (371000.976 6448532.958)   \n4  POINT (371017.481 6448504.455)   \n\n                                         target stop_name_target  place_id_2  \\\n0          7:e Villagatan_307955489_bus_service   7:e Villagatan   307955489   \n1          AGA Vattenfall_307980814_bus_service   AGA Vattenfall   307980814   \n2            Abrahamstorp_307959538_bus_service     Abrahamstorp   307959538   \n3  Abrahamstorp_307959538_communal_taxi_service     Abrahamstorp   307959538   \n4            Abrahamstorp_307959538_bus_service     Abrahamstorp   307959538   \n\n                  geometry_target  \\\n0  POINT (378291.977 6399668.440)   \n1  POINT (313191.955 6442732.480)   \n2  POINT (371000.976 6448532.958)   \n3  POINT (371017.481 6448504.455)   \n4  POINT (371000.976 6448532.958)   \n\n                                            geometry     length  time_distance  \n0  LINESTRING (378291.977 6399668.440, 378291.977...   0.000000       0.000000  \n1  LINESTRING (313191.955 6442732.480, 313191.955...   0.000000       0.000000  \n2  LINESTRING (371000.976 6448532.958, 371000.976...   0.000000       0.000000  \n3  LINESTRING (371000.976 6448532.958, 371017.481...  32.936222      27.446852  \n4  LINESTRING (371017.481 6448504.455, 371000.976...  32.936222      27.446852  ",
      "text/html": "<div>\n<style scoped>\n    .dataframe tbody tr th:only-of-type {\n        vertical-align: middle;\n    }\n\n    .dataframe tbody tr th {\n        vertical-align: top;\n    }\n\n    .dataframe thead th {\n        text-align: right;\n    }\n</style>\n<table border=\"1\" class=\"dataframe\">\n  <thead>\n    <tr style=\"text-align: right;\">\n      <th></th>\n      <th>source</th>\n      <th>stop_name_source</th>\n      <th>place_id_1</th>\n      <th>geometry_source</th>\n      <th>target</th>\n      <th>stop_name_target</th>\n      <th>place_id_2</th>\n      <th>geometry_target</th>\n      <th>geometry</th>\n      <th>length</th>\n      <th>time_distance</th>\n    </tr>\n  </thead>\n  <tbody>\n    <tr>\n      <th>0</th>\n      <td>7:e Villagatan_307955489_bus_service</td>\n      <td>7:e Villagatan</td>\n      <td>307955489</td>\n      <td>POINT (378291.977 6399668.440)</td>\n      <td>7:e Villagatan_307955489_bus_service</td>\n      <td>7:e Villagatan</td>\n      <td>307955489</td>\n      <td>POINT (378291.977 6399668.440)</td>\n      <td>LINESTRING (378291.977 6399668.440, 378291.977...</td>\n      <td>0.000000</td>\n      <td>0.000000</td>\n    </tr>\n    <tr>\n      <th>1</th>\n      <td>AGA Vattenfall_307980814_bus_service</td>\n      <td>AGA Vattenfall</td>\n      <td>307980814</td>\n      <td>POINT (313191.955 6442732.480)</td>\n      <td>AGA Vattenfall_307980814_bus_service</td>\n      <td>AGA Vattenfall</td>\n      <td>307980814</td>\n      <td>POINT (313191.955 6442732.480)</td>\n      <td>LINESTRING (313191.955 6442732.480, 313191.955...</td>\n      <td>0.000000</td>\n      <td>0.000000</td>\n    </tr>\n    <tr>\n      <th>2</th>\n      <td>Abrahamstorp_307959538_bus_service</td>\n      <td>Abrahamstorp</td>\n      <td>307959538</td>\n      <td>POINT (371000.976 6448532.958)</td>\n      <td>Abrahamstorp_307959538_bus_service</td>\n      <td>Abrahamstorp</td>\n      <td>307959538</td>\n      <td>POINT (371000.976 6448532.958)</td>\n      <td>LINESTRING (371000.976 6448532.958, 371000.976...</td>\n      <td>0.000000</td>\n      <td>0.000000</td>\n    </tr>\n    <tr>\n      <th>3</th>\n      <td>Abrahamstorp_307959538_bus_service</td>\n      <td>Abrahamstorp</td>\n      <td>307959538</td>\n      <td>POINT (371000.976 6448532.958)</td>\n      <td>Abrahamstorp_307959538_communal_taxi_service</td>\n      <td>Abrahamstorp</td>\n      <td>307959538</td>\n      <td>POINT (371017.481 6448504.455)</td>\n      <td>LINESTRING (371000.976 6448532.958, 371017.481...</td>\n      <td>32.936222</td>\n      <td>27.446852</td>\n    </tr>\n    <tr>\n      <th>4</th>\n      <td>Abrahamstorp_307959538_communal_taxi_service</td>\n      <td>Abrahamstorp</td>\n      <td>307959538</td>\n      <td>POINT (371017.481 6448504.455)</td>\n      <td>Abrahamstorp_307959538_bus_service</td>\n      <td>Abrahamstorp</td>\n      <td>307959538</td>\n      <td>POINT (371000.976 6448532.958)</td>\n      <td>LINESTRING (371017.481 6448504.455, 371000.976...</td>\n      <td>32.936222</td>\n      <td>27.446852</td>\n    </tr>\n  </tbody>\n</table>\n</div>"
     },
     "execution_count": 22,
     "metadata": {},
     "output_type": "execute_result"
    }
   ],
   "source": [
    "#Create the geometry\n",
    "# Step 6: Create linstrings between the intersections\n",
    "nodes_transfer_diff_stop['geometry'] = nodes_transfer_diff_stop.apply(\n",
    "    lambda row: LineString([[row.geometry_source.x,  row.geometry_source.y],\n",
    "                            [row.geometry_target.x,row.geometry_target.y]])\n",
    "    if row.geometry_target is not None else None,\n",
    "    axis=1\n",
    ")\n",
    "# Step 7: Set the length of the linestring\n",
    "nodes_transfer_diff_stop['length'] = nodes_transfer_diff_stop['geometry'].length\n",
    "nodes_transfer_diff_stop['time_distance'] = nodes_transfer_diff_stop['length'] / 1.2\n",
    "\n",
    "# Step 8 (optional): Display the results\n",
    "nodes_transfer_diff_stop.head()"
   ],
   "metadata": {
    "collapsed": false,
    "pycharm": {
     "name": "#%%\n"
    }
   }
  },
  {
   "cell_type": "code",
   "execution_count": 23,
   "outputs": [
    {
     "name": "stderr",
     "output_type": "stream",
     "text": [
      "C:\\Users\\monaliza\\AppData\\Roaming\\Python\\Python39\\site-packages\\geopandas\\geodataframe.py:1525: SettingWithCopyWarning: \n",
      "A value is trying to be set on a copy of a slice from a DataFrame.\n",
      "Try using .loc[row_indexer,col_indexer] = value instead\n",
      "\n",
      "See the caveats in the documentation: https://pandas.pydata.org/pandas-docs/stable/user_guide/indexing.html#returning-a-view-versus-a-copy\n",
      "  super().__setitem__(key, value)\n"
     ]
    },
    {
     "data": {
      "text/plain": "             source           target  \\\n3      Abrahamstorp     Abrahamstorp   \n9    Acklinga kyrka   Acklinga kyrka   \n13         Acklinga         Acklinga   \n26          Agerhus         Jordbron   \n35  Agnebergsskolan  Agnebergsskolan   \n\n                                             geometry      length  \\\n3   LINESTRING (371000.976 6448532.958, 371017.481...   32.936222   \n9   LINESTRING (434071.965 6451013.922, 434077.950...    6.070173   \n13  LINESTRING (434427.979 6451013.415, 434427.976...    5.512155   \n26  LINESTRING (324621.469 6533086.938, 324604.463...  125.603619   \n35  LINESTRING (321088.468 6471557.963, 321077.949...   28.982209   \n\n    time_distance  \n3       27.446852  \n9        5.058478  \n13       4.593462  \n26     104.669683  \n35      24.151840  ",
      "text/html": "<div>\n<style scoped>\n    .dataframe tbody tr th:only-of-type {\n        vertical-align: middle;\n    }\n\n    .dataframe tbody tr th {\n        vertical-align: top;\n    }\n\n    .dataframe thead th {\n        text-align: right;\n    }\n</style>\n<table border=\"1\" class=\"dataframe\">\n  <thead>\n    <tr style=\"text-align: right;\">\n      <th></th>\n      <th>source</th>\n      <th>target</th>\n      <th>geometry</th>\n      <th>length</th>\n      <th>time_distance</th>\n    </tr>\n  </thead>\n  <tbody>\n    <tr>\n      <th>3</th>\n      <td>Abrahamstorp</td>\n      <td>Abrahamstorp</td>\n      <td>LINESTRING (371000.976 6448532.958, 371017.481...</td>\n      <td>32.936222</td>\n      <td>27.446852</td>\n    </tr>\n    <tr>\n      <th>9</th>\n      <td>Acklinga kyrka</td>\n      <td>Acklinga kyrka</td>\n      <td>LINESTRING (434071.965 6451013.922, 434077.950...</td>\n      <td>6.070173</td>\n      <td>5.058478</td>\n    </tr>\n    <tr>\n      <th>13</th>\n      <td>Acklinga</td>\n      <td>Acklinga</td>\n      <td>LINESTRING (434427.979 6451013.415, 434427.976...</td>\n      <td>5.512155</td>\n      <td>4.593462</td>\n    </tr>\n    <tr>\n      <th>26</th>\n      <td>Agerhus</td>\n      <td>Jordbron</td>\n      <td>LINESTRING (324621.469 6533086.938, 324604.463...</td>\n      <td>125.603619</td>\n      <td>104.669683</td>\n    </tr>\n    <tr>\n      <th>35</th>\n      <td>Agnebergsskolan</td>\n      <td>Agnebergsskolan</td>\n      <td>LINESTRING (321088.468 6471557.963, 321077.949...</td>\n      <td>28.982209</td>\n      <td>24.151840</td>\n    </tr>\n  </tbody>\n</table>\n</div>"
     },
     "execution_count": 23,
     "metadata": {},
     "output_type": "execute_result"
    }
   ],
   "source": [
    "#Filter and organize the tables\n",
    "# Step 9: Filter the transfers between different stops\n",
    "transfers_diff_stop = nodes_transfer_diff_stop[nodes_transfer_diff_stop['length'] > 0]\n",
    "\n",
    "# Step 10: Drop the duplicates of symmetric pairs\n",
    "transfers_diff_stop ['symmetric_pairs'] = transfers_diff_stop[['source',\n",
    "                                                               'target']].apply(lambda x: '-'.join(sorted(x)),\n",
    "                                                                                axis=1)\n",
    "transfers_diff_stop = transfers_diff_stop.drop_duplicates(subset = ['symmetric_pairs'])\n",
    "\n",
    "# Step 11: Filter the necessary columns\n",
    "transfers_diff_stop = transfers_diff_stop [['stop_name_source',\n",
    "                                            'stop_name_target',\n",
    "                                            'geometry',\n",
    "                                            'length',\n",
    "                                            'time_distance']].rename(columns={'stop_name_source':'source',\n",
    "                                                                              'stop_name_target':'target'}).drop_duplicates()\n",
    "# Step 12 (optional): Display the results\n",
    "transfers_diff_stop.head()"
   ],
   "metadata": {
    "collapsed": false,
    "pycharm": {
     "name": "#%%\n"
    }
   }
  },
  {
   "cell_type": "code",
   "execution_count": 24,
   "outputs": [],
   "source": [
    "#export to the db\n",
    "transfers_diff_stop = gpd.GeoDataFrame(transfers_diff_stop, geometry='geometry', crs='3006')\n",
    "transfers_diff_stop.to_postgis('transfers_diff_stop_pt_3', engine,\n",
    "                               schema='pt_3_odirection_mstops_bymode', if_exists ='replace')"
   ],
   "metadata": {
    "collapsed": false,
    "pycharm": {
     "name": "#%%\n"
    }
   }
  }
 ],
 "metadata": {
  "kernelspec": {
   "display_name": "Python 3",
   "language": "python",
   "name": "python3"
  },
  "language_info": {
   "codemirror_mode": {
    "name": "ipython",
    "version": 2
   },
   "file_extension": ".py",
   "mimetype": "text/x-python",
   "name": "python",
   "nbconvert_exporter": "python",
   "pygments_lexer": "ipython2",
   "version": "2.7.6"
  }
 },
 "nbformat": 4,
 "nbformat_minor": 0
}